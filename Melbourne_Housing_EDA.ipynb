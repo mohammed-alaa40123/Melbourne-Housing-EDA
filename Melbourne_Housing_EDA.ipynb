{
  "cells": [
    {
      "cell_type": "markdown",
      "metadata": {
        "id": "view-in-github",
        "colab_type": "text"
      },
      "source": [
        "<a href=\"https://colab.research.google.com/github/mohammed-alaa40123/Melbourne-Housing-EDA/blob/main/Melbourne_Housing_EDA.ipynb\" target=\"_parent\"><img src=\"https://colab.research.google.com/assets/colab-badge.svg\" alt=\"Open In Colab\"/></a>"
      ]
    },
    {
      "cell_type": "code",
      "execution_count": 81,
      "id": "2ac29e43",
      "metadata": {
        "id": "2ac29e43"
      },
      "outputs": [],
      "source": [
        "import pandas as pd\n",
        "import seaborn as sns\n",
        "import numpy as np\n",
        "import matplotlib.pyplot as plt\n",
        "import plotly.express as px\n",
        "import plotly\n"
      ]
    },
    {
      "cell_type": "code",
      "execution_count": 2,
      "id": "93b1886c",
      "metadata": {
        "id": "93b1886c",
        "outputId": "2d891c6f-4c43-4270-cdf4-6e58db63531c",
        "colab": {
          "base_uri": "https://localhost:8080/",
          "height": 641
        }
      },
      "outputs": [
        {
          "output_type": "execute_result",
          "data": {
            "text/plain": [
              "              Suburb           Address  Rooms Type      Price Method  \\\n",
              "0         Abbotsford      85 Turner St      2    h  1480000.0      S   \n",
              "1         Abbotsford   25 Bloomburg St      2    h  1035000.0      S   \n",
              "2         Abbotsford      5 Charles St      3    h  1465000.0     SP   \n",
              "3         Abbotsford  40 Federation La      3    h   850000.0     PI   \n",
              "4         Abbotsford       55a Park St      4    h  1600000.0     VB   \n",
              "...              ...               ...    ...  ...        ...    ...   \n",
              "6804  Brunswick East  106/360 Lygon St      2    u   480000.0     PI   \n",
              "6805  Brunswick East   18/408 Lygon St      2    u   400000.0     SP   \n",
              "6806  Brunswick East    28/29 Nunan St      3    u   570000.0      S   \n",
              "6807  Brunswick East   3/14 Oconnor St      2    t   771000.0     SP   \n",
              "6808  Brunswick East        22 Lord St      3    h        NaN    NaN   \n",
              "\n",
              "            SellerG        Date  Distance  Postcode  ...  Bathroom  Car  \\\n",
              "0            Biggin   3/12/2016       2.5    3067.0  ...       1.0  1.0   \n",
              "1            Biggin   4/02/2016       2.5    3067.0  ...       1.0  0.0   \n",
              "2            Biggin   4/03/2017       2.5    3067.0  ...       2.0  0.0   \n",
              "3            Biggin   4/03/2017       2.5    3067.0  ...       2.0  1.0   \n",
              "4            Nelson   4/06/2016       2.5    3067.0  ...       1.0  2.0   \n",
              "...             ...         ...       ...       ...  ...       ...  ...   \n",
              "6804         Jellis  28/05/2016       4.5    3057.0  ...       2.0  1.0   \n",
              "6805         Jellis  28/05/2016       4.5    3057.0  ...       1.0  1.0   \n",
              "6806  hockingstuart  28/05/2016       4.5    3057.0  ...       1.0  1.0   \n",
              "6807         Nelson  28/05/2016       4.5    3057.0  ...       2.0  2.0   \n",
              "6808            NaN         NaN       NaN       NaN  ...       NaN  NaN   \n",
              "\n",
              "      Landsize  BuildingArea  YearBuilt  CouncilArea Lattitude  Longtitude  \\\n",
              "0        202.0           NaN        NaN        Yarra  -37.7996    144.9984   \n",
              "1        156.0          79.0     1900.0        Yarra  -37.8079    144.9934   \n",
              "2        134.0         150.0     1900.0        Yarra  -37.8093    144.9944   \n",
              "3         94.0           NaN        NaN        Yarra  -37.7969    144.9969   \n",
              "4        120.0         142.0     2014.0        Yarra  -37.8072    144.9941   \n",
              "...        ...           ...        ...          ...       ...         ...   \n",
              "6804       0.0           NaN        NaN     Moreland  -37.7679    144.9725   \n",
              "6805       0.0           NaN        NaN     Moreland  -37.7650    144.9731   \n",
              "6806       0.0           NaN        NaN     Moreland  -37.7603    144.9795   \n",
              "6807       0.0           NaN        NaN     Moreland  -37.7736    144.9725   \n",
              "6808       NaN           NaN        NaN          NaN       NaN         NaN   \n",
              "\n",
              "                 Regionname Propertycount  \n",
              "0     Northern Metropolitan        4019.0  \n",
              "1     Northern Metropolitan        4019.0  \n",
              "2     Northern Metropolitan        4019.0  \n",
              "3     Northern Metropolitan        4019.0  \n",
              "4     Northern Metropolitan        4019.0  \n",
              "...                     ...           ...  \n",
              "6804  Northern Metropolitan        5533.0  \n",
              "6805  Northern Metropolitan        5533.0  \n",
              "6806  Northern Metropolitan        5533.0  \n",
              "6807  Northern Metropolitan        5533.0  \n",
              "6808                    NaN           NaN  \n",
              "\n",
              "[6809 rows x 21 columns]"
            ],
            "text/html": [
              "\n",
              "  <div id=\"df-df15e0a3-20a7-48d4-bd0f-22bb1e6dc2dc\">\n",
              "    <div class=\"colab-df-container\">\n",
              "      <div>\n",
              "<style scoped>\n",
              "    .dataframe tbody tr th:only-of-type {\n",
              "        vertical-align: middle;\n",
              "    }\n",
              "\n",
              "    .dataframe tbody tr th {\n",
              "        vertical-align: top;\n",
              "    }\n",
              "\n",
              "    .dataframe thead th {\n",
              "        text-align: right;\n",
              "    }\n",
              "</style>\n",
              "<table border=\"1\" class=\"dataframe\">\n",
              "  <thead>\n",
              "    <tr style=\"text-align: right;\">\n",
              "      <th></th>\n",
              "      <th>Suburb</th>\n",
              "      <th>Address</th>\n",
              "      <th>Rooms</th>\n",
              "      <th>Type</th>\n",
              "      <th>Price</th>\n",
              "      <th>Method</th>\n",
              "      <th>SellerG</th>\n",
              "      <th>Date</th>\n",
              "      <th>Distance</th>\n",
              "      <th>Postcode</th>\n",
              "      <th>...</th>\n",
              "      <th>Bathroom</th>\n",
              "      <th>Car</th>\n",
              "      <th>Landsize</th>\n",
              "      <th>BuildingArea</th>\n",
              "      <th>YearBuilt</th>\n",
              "      <th>CouncilArea</th>\n",
              "      <th>Lattitude</th>\n",
              "      <th>Longtitude</th>\n",
              "      <th>Regionname</th>\n",
              "      <th>Propertycount</th>\n",
              "    </tr>\n",
              "  </thead>\n",
              "  <tbody>\n",
              "    <tr>\n",
              "      <th>0</th>\n",
              "      <td>Abbotsford</td>\n",
              "      <td>85 Turner St</td>\n",
              "      <td>2</td>\n",
              "      <td>h</td>\n",
              "      <td>1480000.0</td>\n",
              "      <td>S</td>\n",
              "      <td>Biggin</td>\n",
              "      <td>3/12/2016</td>\n",
              "      <td>2.5</td>\n",
              "      <td>3067.0</td>\n",
              "      <td>...</td>\n",
              "      <td>1.0</td>\n",
              "      <td>1.0</td>\n",
              "      <td>202.0</td>\n",
              "      <td>NaN</td>\n",
              "      <td>NaN</td>\n",
              "      <td>Yarra</td>\n",
              "      <td>-37.7996</td>\n",
              "      <td>144.9984</td>\n",
              "      <td>Northern Metropolitan</td>\n",
              "      <td>4019.0</td>\n",
              "    </tr>\n",
              "    <tr>\n",
              "      <th>1</th>\n",
              "      <td>Abbotsford</td>\n",
              "      <td>25 Bloomburg St</td>\n",
              "      <td>2</td>\n",
              "      <td>h</td>\n",
              "      <td>1035000.0</td>\n",
              "      <td>S</td>\n",
              "      <td>Biggin</td>\n",
              "      <td>4/02/2016</td>\n",
              "      <td>2.5</td>\n",
              "      <td>3067.0</td>\n",
              "      <td>...</td>\n",
              "      <td>1.0</td>\n",
              "      <td>0.0</td>\n",
              "      <td>156.0</td>\n",
              "      <td>79.0</td>\n",
              "      <td>1900.0</td>\n",
              "      <td>Yarra</td>\n",
              "      <td>-37.8079</td>\n",
              "      <td>144.9934</td>\n",
              "      <td>Northern Metropolitan</td>\n",
              "      <td>4019.0</td>\n",
              "    </tr>\n",
              "    <tr>\n",
              "      <th>2</th>\n",
              "      <td>Abbotsford</td>\n",
              "      <td>5 Charles St</td>\n",
              "      <td>3</td>\n",
              "      <td>h</td>\n",
              "      <td>1465000.0</td>\n",
              "      <td>SP</td>\n",
              "      <td>Biggin</td>\n",
              "      <td>4/03/2017</td>\n",
              "      <td>2.5</td>\n",
              "      <td>3067.0</td>\n",
              "      <td>...</td>\n",
              "      <td>2.0</td>\n",
              "      <td>0.0</td>\n",
              "      <td>134.0</td>\n",
              "      <td>150.0</td>\n",
              "      <td>1900.0</td>\n",
              "      <td>Yarra</td>\n",
              "      <td>-37.8093</td>\n",
              "      <td>144.9944</td>\n",
              "      <td>Northern Metropolitan</td>\n",
              "      <td>4019.0</td>\n",
              "    </tr>\n",
              "    <tr>\n",
              "      <th>3</th>\n",
              "      <td>Abbotsford</td>\n",
              "      <td>40 Federation La</td>\n",
              "      <td>3</td>\n",
              "      <td>h</td>\n",
              "      <td>850000.0</td>\n",
              "      <td>PI</td>\n",
              "      <td>Biggin</td>\n",
              "      <td>4/03/2017</td>\n",
              "      <td>2.5</td>\n",
              "      <td>3067.0</td>\n",
              "      <td>...</td>\n",
              "      <td>2.0</td>\n",
              "      <td>1.0</td>\n",
              "      <td>94.0</td>\n",
              "      <td>NaN</td>\n",
              "      <td>NaN</td>\n",
              "      <td>Yarra</td>\n",
              "      <td>-37.7969</td>\n",
              "      <td>144.9969</td>\n",
              "      <td>Northern Metropolitan</td>\n",
              "      <td>4019.0</td>\n",
              "    </tr>\n",
              "    <tr>\n",
              "      <th>4</th>\n",
              "      <td>Abbotsford</td>\n",
              "      <td>55a Park St</td>\n",
              "      <td>4</td>\n",
              "      <td>h</td>\n",
              "      <td>1600000.0</td>\n",
              "      <td>VB</td>\n",
              "      <td>Nelson</td>\n",
              "      <td>4/06/2016</td>\n",
              "      <td>2.5</td>\n",
              "      <td>3067.0</td>\n",
              "      <td>...</td>\n",
              "      <td>1.0</td>\n",
              "      <td>2.0</td>\n",
              "      <td>120.0</td>\n",
              "      <td>142.0</td>\n",
              "      <td>2014.0</td>\n",
              "      <td>Yarra</td>\n",
              "      <td>-37.8072</td>\n",
              "      <td>144.9941</td>\n",
              "      <td>Northern Metropolitan</td>\n",
              "      <td>4019.0</td>\n",
              "    </tr>\n",
              "    <tr>\n",
              "      <th>...</th>\n",
              "      <td>...</td>\n",
              "      <td>...</td>\n",
              "      <td>...</td>\n",
              "      <td>...</td>\n",
              "      <td>...</td>\n",
              "      <td>...</td>\n",
              "      <td>...</td>\n",
              "      <td>...</td>\n",
              "      <td>...</td>\n",
              "      <td>...</td>\n",
              "      <td>...</td>\n",
              "      <td>...</td>\n",
              "      <td>...</td>\n",
              "      <td>...</td>\n",
              "      <td>...</td>\n",
              "      <td>...</td>\n",
              "      <td>...</td>\n",
              "      <td>...</td>\n",
              "      <td>...</td>\n",
              "      <td>...</td>\n",
              "      <td>...</td>\n",
              "    </tr>\n",
              "    <tr>\n",
              "      <th>6804</th>\n",
              "      <td>Brunswick East</td>\n",
              "      <td>106/360 Lygon St</td>\n",
              "      <td>2</td>\n",
              "      <td>u</td>\n",
              "      <td>480000.0</td>\n",
              "      <td>PI</td>\n",
              "      <td>Jellis</td>\n",
              "      <td>28/05/2016</td>\n",
              "      <td>4.5</td>\n",
              "      <td>3057.0</td>\n",
              "      <td>...</td>\n",
              "      <td>2.0</td>\n",
              "      <td>1.0</td>\n",
              "      <td>0.0</td>\n",
              "      <td>NaN</td>\n",
              "      <td>NaN</td>\n",
              "      <td>Moreland</td>\n",
              "      <td>-37.7679</td>\n",
              "      <td>144.9725</td>\n",
              "      <td>Northern Metropolitan</td>\n",
              "      <td>5533.0</td>\n",
              "    </tr>\n",
              "    <tr>\n",
              "      <th>6805</th>\n",
              "      <td>Brunswick East</td>\n",
              "      <td>18/408 Lygon St</td>\n",
              "      <td>2</td>\n",
              "      <td>u</td>\n",
              "      <td>400000.0</td>\n",
              "      <td>SP</td>\n",
              "      <td>Jellis</td>\n",
              "      <td>28/05/2016</td>\n",
              "      <td>4.5</td>\n",
              "      <td>3057.0</td>\n",
              "      <td>...</td>\n",
              "      <td>1.0</td>\n",
              "      <td>1.0</td>\n",
              "      <td>0.0</td>\n",
              "      <td>NaN</td>\n",
              "      <td>NaN</td>\n",
              "      <td>Moreland</td>\n",
              "      <td>-37.7650</td>\n",
              "      <td>144.9731</td>\n",
              "      <td>Northern Metropolitan</td>\n",
              "      <td>5533.0</td>\n",
              "    </tr>\n",
              "    <tr>\n",
              "      <th>6806</th>\n",
              "      <td>Brunswick East</td>\n",
              "      <td>28/29 Nunan St</td>\n",
              "      <td>3</td>\n",
              "      <td>u</td>\n",
              "      <td>570000.0</td>\n",
              "      <td>S</td>\n",
              "      <td>hockingstuart</td>\n",
              "      <td>28/05/2016</td>\n",
              "      <td>4.5</td>\n",
              "      <td>3057.0</td>\n",
              "      <td>...</td>\n",
              "      <td>1.0</td>\n",
              "      <td>1.0</td>\n",
              "      <td>0.0</td>\n",
              "      <td>NaN</td>\n",
              "      <td>NaN</td>\n",
              "      <td>Moreland</td>\n",
              "      <td>-37.7603</td>\n",
              "      <td>144.9795</td>\n",
              "      <td>Northern Metropolitan</td>\n",
              "      <td>5533.0</td>\n",
              "    </tr>\n",
              "    <tr>\n",
              "      <th>6807</th>\n",
              "      <td>Brunswick East</td>\n",
              "      <td>3/14 Oconnor St</td>\n",
              "      <td>2</td>\n",
              "      <td>t</td>\n",
              "      <td>771000.0</td>\n",
              "      <td>SP</td>\n",
              "      <td>Nelson</td>\n",
              "      <td>28/05/2016</td>\n",
              "      <td>4.5</td>\n",
              "      <td>3057.0</td>\n",
              "      <td>...</td>\n",
              "      <td>2.0</td>\n",
              "      <td>2.0</td>\n",
              "      <td>0.0</td>\n",
              "      <td>NaN</td>\n",
              "      <td>NaN</td>\n",
              "      <td>Moreland</td>\n",
              "      <td>-37.7736</td>\n",
              "      <td>144.9725</td>\n",
              "      <td>Northern Metropolitan</td>\n",
              "      <td>5533.0</td>\n",
              "    </tr>\n",
              "    <tr>\n",
              "      <th>6808</th>\n",
              "      <td>Brunswick East</td>\n",
              "      <td>22 Lord St</td>\n",
              "      <td>3</td>\n",
              "      <td>h</td>\n",
              "      <td>NaN</td>\n",
              "      <td>NaN</td>\n",
              "      <td>NaN</td>\n",
              "      <td>NaN</td>\n",
              "      <td>NaN</td>\n",
              "      <td>NaN</td>\n",
              "      <td>...</td>\n",
              "      <td>NaN</td>\n",
              "      <td>NaN</td>\n",
              "      <td>NaN</td>\n",
              "      <td>NaN</td>\n",
              "      <td>NaN</td>\n",
              "      <td>NaN</td>\n",
              "      <td>NaN</td>\n",
              "      <td>NaN</td>\n",
              "      <td>NaN</td>\n",
              "      <td>NaN</td>\n",
              "    </tr>\n",
              "  </tbody>\n",
              "</table>\n",
              "<p>6809 rows × 21 columns</p>\n",
              "</div>\n",
              "      <button class=\"colab-df-convert\" onclick=\"convertToInteractive('df-df15e0a3-20a7-48d4-bd0f-22bb1e6dc2dc')\"\n",
              "              title=\"Convert this dataframe to an interactive table.\"\n",
              "              style=\"display:none;\">\n",
              "        \n",
              "  <svg xmlns=\"http://www.w3.org/2000/svg\" height=\"24px\"viewBox=\"0 0 24 24\"\n",
              "       width=\"24px\">\n",
              "    <path d=\"M0 0h24v24H0V0z\" fill=\"none\"/>\n",
              "    <path d=\"M18.56 5.44l.94 2.06.94-2.06 2.06-.94-2.06-.94-.94-2.06-.94 2.06-2.06.94zm-11 1L8.5 8.5l.94-2.06 2.06-.94-2.06-.94L8.5 2.5l-.94 2.06-2.06.94zm10 10l.94 2.06.94-2.06 2.06-.94-2.06-.94-.94-2.06-.94 2.06-2.06.94z\"/><path d=\"M17.41 7.96l-1.37-1.37c-.4-.4-.92-.59-1.43-.59-.52 0-1.04.2-1.43.59L10.3 9.45l-7.72 7.72c-.78.78-.78 2.05 0 2.83L4 21.41c.39.39.9.59 1.41.59.51 0 1.02-.2 1.41-.59l7.78-7.78 2.81-2.81c.8-.78.8-2.07 0-2.86zM5.41 20L4 18.59l7.72-7.72 1.47 1.35L5.41 20z\"/>\n",
              "  </svg>\n",
              "      </button>\n",
              "      \n",
              "  <style>\n",
              "    .colab-df-container {\n",
              "      display:flex;\n",
              "      flex-wrap:wrap;\n",
              "      gap: 12px;\n",
              "    }\n",
              "\n",
              "    .colab-df-convert {\n",
              "      background-color: #E8F0FE;\n",
              "      border: none;\n",
              "      border-radius: 50%;\n",
              "      cursor: pointer;\n",
              "      display: none;\n",
              "      fill: #1967D2;\n",
              "      height: 32px;\n",
              "      padding: 0 0 0 0;\n",
              "      width: 32px;\n",
              "    }\n",
              "\n",
              "    .colab-df-convert:hover {\n",
              "      background-color: #E2EBFA;\n",
              "      box-shadow: 0px 1px 2px rgba(60, 64, 67, 0.3), 0px 1px 3px 1px rgba(60, 64, 67, 0.15);\n",
              "      fill: #174EA6;\n",
              "    }\n",
              "\n",
              "    [theme=dark] .colab-df-convert {\n",
              "      background-color: #3B4455;\n",
              "      fill: #D2E3FC;\n",
              "    }\n",
              "\n",
              "    [theme=dark] .colab-df-convert:hover {\n",
              "      background-color: #434B5C;\n",
              "      box-shadow: 0px 1px 3px 1px rgba(0, 0, 0, 0.15);\n",
              "      filter: drop-shadow(0px 1px 2px rgba(0, 0, 0, 0.3));\n",
              "      fill: #FFFFFF;\n",
              "    }\n",
              "  </style>\n",
              "\n",
              "      <script>\n",
              "        const buttonEl =\n",
              "          document.querySelector('#df-df15e0a3-20a7-48d4-bd0f-22bb1e6dc2dc button.colab-df-convert');\n",
              "        buttonEl.style.display =\n",
              "          google.colab.kernel.accessAllowed ? 'block' : 'none';\n",
              "\n",
              "        async function convertToInteractive(key) {\n",
              "          const element = document.querySelector('#df-df15e0a3-20a7-48d4-bd0f-22bb1e6dc2dc');\n",
              "          const dataTable =\n",
              "            await google.colab.kernel.invokeFunction('convertToInteractive',\n",
              "                                                     [key], {});\n",
              "          if (!dataTable) return;\n",
              "\n",
              "          const docLinkHtml = 'Like what you see? Visit the ' +\n",
              "            '<a target=\"_blank\" href=https://colab.research.google.com/notebooks/data_table.ipynb>data table notebook</a>'\n",
              "            + ' to learn more about interactive tables.';\n",
              "          element.innerHTML = '';\n",
              "          dataTable['output_type'] = 'display_data';\n",
              "          await google.colab.output.renderOutput(dataTable, element);\n",
              "          const docLink = document.createElement('div');\n",
              "          docLink.innerHTML = docLinkHtml;\n",
              "          element.appendChild(docLink);\n",
              "        }\n",
              "      </script>\n",
              "    </div>\n",
              "  </div>\n",
              "  "
            ]
          },
          "metadata": {},
          "execution_count": 2
        }
      ],
      "source": [
        "df = pd.read_csv(\"melb_data.csv\" , encoding = \"utf-8\" , sep = \",\")\n",
        "df"
      ]
    },
    {
      "cell_type": "code",
      "execution_count": 3,
      "id": "72350022",
      "metadata": {
        "id": "72350022",
        "outputId": "4dbf2657-7568-411d-81a1-a5d159816e35",
        "colab": {
          "base_uri": "https://localhost:8080/"
        }
      },
      "outputs": [
        {
          "output_type": "stream",
          "name": "stdout",
          "text": [
            "<class 'pandas.core.frame.DataFrame'>\n",
            "RangeIndex: 6809 entries, 0 to 6808\n",
            "Data columns (total 21 columns):\n",
            " #   Column         Non-Null Count  Dtype  \n",
            "---  ------         --------------  -----  \n",
            " 0   Suburb         6809 non-null   object \n",
            " 1   Address        6809 non-null   object \n",
            " 2   Rooms          6809 non-null   int64  \n",
            " 3   Type           6809 non-null   object \n",
            " 4   Price          6808 non-null   float64\n",
            " 5   Method         6808 non-null   object \n",
            " 6   SellerG        6808 non-null   object \n",
            " 7   Date           6808 non-null   object \n",
            " 8   Distance       6808 non-null   float64\n",
            " 9   Postcode       6808 non-null   float64\n",
            " 10  Bedroom2       6808 non-null   float64\n",
            " 11  Bathroom       6808 non-null   float64\n",
            " 12  Car            6808 non-null   float64\n",
            " 13  Landsize       6808 non-null   float64\n",
            " 14  BuildingArea   3817 non-null   float64\n",
            " 15  YearBuilt      4364 non-null   float64\n",
            " 16  CouncilArea    6808 non-null   object \n",
            " 17  Lattitude      6808 non-null   float64\n",
            " 18  Longtitude     6808 non-null   float64\n",
            " 19  Regionname     6808 non-null   object \n",
            " 20  Propertycount  6808 non-null   float64\n",
            "dtypes: float64(12), int64(1), object(8)\n",
            "memory usage: 1.1+ MB\n"
          ]
        }
      ],
      "source": [
        "df.info()"
      ]
    },
    {
      "cell_type": "code",
      "execution_count": 4,
      "id": "63bfdfb7",
      "metadata": {
        "id": "63bfdfb7",
        "outputId": "9e77d143-1434-4dc1-8190-ffc6076849c5",
        "colab": {
          "base_uri": "https://localhost:8080/"
        }
      },
      "outputs": [
        {
          "output_type": "execute_result",
          "data": {
            "text/plain": [
              "Index(['Suburb', 'Address', 'Rooms', 'Type', 'Price', 'Method', 'SellerG',\n",
              "       'Date', 'Distance', 'Postcode', 'Bedroom2', 'Bathroom', 'Car',\n",
              "       'Landsize', 'BuildingArea', 'YearBuilt', 'CouncilArea', 'Lattitude',\n",
              "       'Longtitude', 'Regionname', 'Propertycount'],\n",
              "      dtype='object')"
            ]
          },
          "metadata": {},
          "execution_count": 4
        }
      ],
      "source": [
        "df.columns"
      ]
    },
    {
      "cell_type": "code",
      "execution_count": 5,
      "id": "2c93e928",
      "metadata": {
        "id": "2c93e928",
        "outputId": "554782a2-f22e-4d3b-842f-bc8227b41095",
        "colab": {
          "base_uri": "https://localhost:8080/",
          "height": 457
        }
      },
      "outputs": [
        {
          "output_type": "execute_result",
          "data": {
            "text/plain": [
              "                count          mean            std         min            25%  \\\n",
              "Rooms          6809.0  2.841680e+00       0.957325      1.0000       2.000000   \n",
              "Price          6808.0  1.091370e+06  658136.706261  85000.0000  650000.000000   \n",
              "Distance       6808.0  8.472150e+00       3.579330      1.2000       5.600000   \n",
              "Postcode       6808.0  3.095975e+03      59.537244   3000.0000    3044.000000   \n",
              "Bedroom2       6808.0  2.800676e+00       0.944510      0.0000       2.000000   \n",
              "Bathroom       6808.0  1.509401e+00       0.699367      0.0000       1.000000   \n",
              "Car            6808.0  1.524236e+00       0.921640      0.0000       1.000000   \n",
              "Landsize       6808.0  4.569533e+02    1336.263109      0.0000     130.000000   \n",
              "BuildingArea   3817.0  1.454498e+02     158.486262      0.0000      88.000000   \n",
              "YearBuilt      4364.0  1.961178e+03      37.734592   1830.0000    1930.000000   \n",
              "Lattitude      6808.0 -3.780906e+01       0.060938    -37.9462     -37.852200   \n",
              "Longtitude     6808.0  1.449871e+02       0.074027    144.7889     144.933075   \n",
              "Propertycount  6808.0  7.815095e+03    4395.729809    394.0000    4675.000000   \n",
              "\n",
              "                       50%           75%           max  \n",
              "Rooms               3.0000  3.000000e+00  8.000000e+00  \n",
              "Price          910000.0000  1.350000e+06  6.500000e+06  \n",
              "Distance            8.7000  1.120000e+01  1.500000e+01  \n",
              "Postcode         3081.0000  3.145000e+03  3.207000e+03  \n",
              "Bedroom2            3.0000  3.000000e+00  9.000000e+00  \n",
              "Bathroom            1.0000  2.000000e+00  8.000000e+00  \n",
              "Car                 1.0000  2.000000e+00  8.000000e+00  \n",
              "Landsize          336.0000  6.160000e+02  7.510000e+04  \n",
              "BuildingArea      122.0000  1.700000e+02  6.791000e+03  \n",
              "YearBuilt        1965.0000  1.998000e+03  2.018000e+03  \n",
              "Lattitude         -37.8021 -3.776237e+01 -3.769170e+01  \n",
              "Longtitude        144.9958  1.450423e+02  1.451438e+02  \n",
              "Propertycount    6821.0000  1.041200e+04  2.165000e+04  "
            ],
            "text/html": [
              "\n",
              "  <div id=\"df-644dadd1-ab14-41b4-ad7e-938ef8a9d553\">\n",
              "    <div class=\"colab-df-container\">\n",
              "      <div>\n",
              "<style scoped>\n",
              "    .dataframe tbody tr th:only-of-type {\n",
              "        vertical-align: middle;\n",
              "    }\n",
              "\n",
              "    .dataframe tbody tr th {\n",
              "        vertical-align: top;\n",
              "    }\n",
              "\n",
              "    .dataframe thead th {\n",
              "        text-align: right;\n",
              "    }\n",
              "</style>\n",
              "<table border=\"1\" class=\"dataframe\">\n",
              "  <thead>\n",
              "    <tr style=\"text-align: right;\">\n",
              "      <th></th>\n",
              "      <th>count</th>\n",
              "      <th>mean</th>\n",
              "      <th>std</th>\n",
              "      <th>min</th>\n",
              "      <th>25%</th>\n",
              "      <th>50%</th>\n",
              "      <th>75%</th>\n",
              "      <th>max</th>\n",
              "    </tr>\n",
              "  </thead>\n",
              "  <tbody>\n",
              "    <tr>\n",
              "      <th>Rooms</th>\n",
              "      <td>6809.0</td>\n",
              "      <td>2.841680e+00</td>\n",
              "      <td>0.957325</td>\n",
              "      <td>1.0000</td>\n",
              "      <td>2.000000</td>\n",
              "      <td>3.0000</td>\n",
              "      <td>3.000000e+00</td>\n",
              "      <td>8.000000e+00</td>\n",
              "    </tr>\n",
              "    <tr>\n",
              "      <th>Price</th>\n",
              "      <td>6808.0</td>\n",
              "      <td>1.091370e+06</td>\n",
              "      <td>658136.706261</td>\n",
              "      <td>85000.0000</td>\n",
              "      <td>650000.000000</td>\n",
              "      <td>910000.0000</td>\n",
              "      <td>1.350000e+06</td>\n",
              "      <td>6.500000e+06</td>\n",
              "    </tr>\n",
              "    <tr>\n",
              "      <th>Distance</th>\n",
              "      <td>6808.0</td>\n",
              "      <td>8.472150e+00</td>\n",
              "      <td>3.579330</td>\n",
              "      <td>1.2000</td>\n",
              "      <td>5.600000</td>\n",
              "      <td>8.7000</td>\n",
              "      <td>1.120000e+01</td>\n",
              "      <td>1.500000e+01</td>\n",
              "    </tr>\n",
              "    <tr>\n",
              "      <th>Postcode</th>\n",
              "      <td>6808.0</td>\n",
              "      <td>3.095975e+03</td>\n",
              "      <td>59.537244</td>\n",
              "      <td>3000.0000</td>\n",
              "      <td>3044.000000</td>\n",
              "      <td>3081.0000</td>\n",
              "      <td>3.145000e+03</td>\n",
              "      <td>3.207000e+03</td>\n",
              "    </tr>\n",
              "    <tr>\n",
              "      <th>Bedroom2</th>\n",
              "      <td>6808.0</td>\n",
              "      <td>2.800676e+00</td>\n",
              "      <td>0.944510</td>\n",
              "      <td>0.0000</td>\n",
              "      <td>2.000000</td>\n",
              "      <td>3.0000</td>\n",
              "      <td>3.000000e+00</td>\n",
              "      <td>9.000000e+00</td>\n",
              "    </tr>\n",
              "    <tr>\n",
              "      <th>Bathroom</th>\n",
              "      <td>6808.0</td>\n",
              "      <td>1.509401e+00</td>\n",
              "      <td>0.699367</td>\n",
              "      <td>0.0000</td>\n",
              "      <td>1.000000</td>\n",
              "      <td>1.0000</td>\n",
              "      <td>2.000000e+00</td>\n",
              "      <td>8.000000e+00</td>\n",
              "    </tr>\n",
              "    <tr>\n",
              "      <th>Car</th>\n",
              "      <td>6808.0</td>\n",
              "      <td>1.524236e+00</td>\n",
              "      <td>0.921640</td>\n",
              "      <td>0.0000</td>\n",
              "      <td>1.000000</td>\n",
              "      <td>1.0000</td>\n",
              "      <td>2.000000e+00</td>\n",
              "      <td>8.000000e+00</td>\n",
              "    </tr>\n",
              "    <tr>\n",
              "      <th>Landsize</th>\n",
              "      <td>6808.0</td>\n",
              "      <td>4.569533e+02</td>\n",
              "      <td>1336.263109</td>\n",
              "      <td>0.0000</td>\n",
              "      <td>130.000000</td>\n",
              "      <td>336.0000</td>\n",
              "      <td>6.160000e+02</td>\n",
              "      <td>7.510000e+04</td>\n",
              "    </tr>\n",
              "    <tr>\n",
              "      <th>BuildingArea</th>\n",
              "      <td>3817.0</td>\n",
              "      <td>1.454498e+02</td>\n",
              "      <td>158.486262</td>\n",
              "      <td>0.0000</td>\n",
              "      <td>88.000000</td>\n",
              "      <td>122.0000</td>\n",
              "      <td>1.700000e+02</td>\n",
              "      <td>6.791000e+03</td>\n",
              "    </tr>\n",
              "    <tr>\n",
              "      <th>YearBuilt</th>\n",
              "      <td>4364.0</td>\n",
              "      <td>1.961178e+03</td>\n",
              "      <td>37.734592</td>\n",
              "      <td>1830.0000</td>\n",
              "      <td>1930.000000</td>\n",
              "      <td>1965.0000</td>\n",
              "      <td>1.998000e+03</td>\n",
              "      <td>2.018000e+03</td>\n",
              "    </tr>\n",
              "    <tr>\n",
              "      <th>Lattitude</th>\n",
              "      <td>6808.0</td>\n",
              "      <td>-3.780906e+01</td>\n",
              "      <td>0.060938</td>\n",
              "      <td>-37.9462</td>\n",
              "      <td>-37.852200</td>\n",
              "      <td>-37.8021</td>\n",
              "      <td>-3.776237e+01</td>\n",
              "      <td>-3.769170e+01</td>\n",
              "    </tr>\n",
              "    <tr>\n",
              "      <th>Longtitude</th>\n",
              "      <td>6808.0</td>\n",
              "      <td>1.449871e+02</td>\n",
              "      <td>0.074027</td>\n",
              "      <td>144.7889</td>\n",
              "      <td>144.933075</td>\n",
              "      <td>144.9958</td>\n",
              "      <td>1.450423e+02</td>\n",
              "      <td>1.451438e+02</td>\n",
              "    </tr>\n",
              "    <tr>\n",
              "      <th>Propertycount</th>\n",
              "      <td>6808.0</td>\n",
              "      <td>7.815095e+03</td>\n",
              "      <td>4395.729809</td>\n",
              "      <td>394.0000</td>\n",
              "      <td>4675.000000</td>\n",
              "      <td>6821.0000</td>\n",
              "      <td>1.041200e+04</td>\n",
              "      <td>2.165000e+04</td>\n",
              "    </tr>\n",
              "  </tbody>\n",
              "</table>\n",
              "</div>\n",
              "      <button class=\"colab-df-convert\" onclick=\"convertToInteractive('df-644dadd1-ab14-41b4-ad7e-938ef8a9d553')\"\n",
              "              title=\"Convert this dataframe to an interactive table.\"\n",
              "              style=\"display:none;\">\n",
              "        \n",
              "  <svg xmlns=\"http://www.w3.org/2000/svg\" height=\"24px\"viewBox=\"0 0 24 24\"\n",
              "       width=\"24px\">\n",
              "    <path d=\"M0 0h24v24H0V0z\" fill=\"none\"/>\n",
              "    <path d=\"M18.56 5.44l.94 2.06.94-2.06 2.06-.94-2.06-.94-.94-2.06-.94 2.06-2.06.94zm-11 1L8.5 8.5l.94-2.06 2.06-.94-2.06-.94L8.5 2.5l-.94 2.06-2.06.94zm10 10l.94 2.06.94-2.06 2.06-.94-2.06-.94-.94-2.06-.94 2.06-2.06.94z\"/><path d=\"M17.41 7.96l-1.37-1.37c-.4-.4-.92-.59-1.43-.59-.52 0-1.04.2-1.43.59L10.3 9.45l-7.72 7.72c-.78.78-.78 2.05 0 2.83L4 21.41c.39.39.9.59 1.41.59.51 0 1.02-.2 1.41-.59l7.78-7.78 2.81-2.81c.8-.78.8-2.07 0-2.86zM5.41 20L4 18.59l7.72-7.72 1.47 1.35L5.41 20z\"/>\n",
              "  </svg>\n",
              "      </button>\n",
              "      \n",
              "  <style>\n",
              "    .colab-df-container {\n",
              "      display:flex;\n",
              "      flex-wrap:wrap;\n",
              "      gap: 12px;\n",
              "    }\n",
              "\n",
              "    .colab-df-convert {\n",
              "      background-color: #E8F0FE;\n",
              "      border: none;\n",
              "      border-radius: 50%;\n",
              "      cursor: pointer;\n",
              "      display: none;\n",
              "      fill: #1967D2;\n",
              "      height: 32px;\n",
              "      padding: 0 0 0 0;\n",
              "      width: 32px;\n",
              "    }\n",
              "\n",
              "    .colab-df-convert:hover {\n",
              "      background-color: #E2EBFA;\n",
              "      box-shadow: 0px 1px 2px rgba(60, 64, 67, 0.3), 0px 1px 3px 1px rgba(60, 64, 67, 0.15);\n",
              "      fill: #174EA6;\n",
              "    }\n",
              "\n",
              "    [theme=dark] .colab-df-convert {\n",
              "      background-color: #3B4455;\n",
              "      fill: #D2E3FC;\n",
              "    }\n",
              "\n",
              "    [theme=dark] .colab-df-convert:hover {\n",
              "      background-color: #434B5C;\n",
              "      box-shadow: 0px 1px 3px 1px rgba(0, 0, 0, 0.15);\n",
              "      filter: drop-shadow(0px 1px 2px rgba(0, 0, 0, 0.3));\n",
              "      fill: #FFFFFF;\n",
              "    }\n",
              "  </style>\n",
              "\n",
              "      <script>\n",
              "        const buttonEl =\n",
              "          document.querySelector('#df-644dadd1-ab14-41b4-ad7e-938ef8a9d553 button.colab-df-convert');\n",
              "        buttonEl.style.display =\n",
              "          google.colab.kernel.accessAllowed ? 'block' : 'none';\n",
              "\n",
              "        async function convertToInteractive(key) {\n",
              "          const element = document.querySelector('#df-644dadd1-ab14-41b4-ad7e-938ef8a9d553');\n",
              "          const dataTable =\n",
              "            await google.colab.kernel.invokeFunction('convertToInteractive',\n",
              "                                                     [key], {});\n",
              "          if (!dataTable) return;\n",
              "\n",
              "          const docLinkHtml = 'Like what you see? Visit the ' +\n",
              "            '<a target=\"_blank\" href=https://colab.research.google.com/notebooks/data_table.ipynb>data table notebook</a>'\n",
              "            + ' to learn more about interactive tables.';\n",
              "          element.innerHTML = '';\n",
              "          dataTable['output_type'] = 'display_data';\n",
              "          await google.colab.output.renderOutput(dataTable, element);\n",
              "          const docLink = document.createElement('div');\n",
              "          docLink.innerHTML = docLinkHtml;\n",
              "          element.appendChild(docLink);\n",
              "        }\n",
              "      </script>\n",
              "    </div>\n",
              "  </div>\n",
              "  "
            ]
          },
          "metadata": {},
          "execution_count": 5
        }
      ],
      "source": [
        "df.describe().T"
      ]
    },
    {
      "cell_type": "code",
      "source": [
        "df.hist(bins = 100 , figsize= (14,10))\n",
        "plt.show()"
      ],
      "metadata": {
        "colab": {
          "base_uri": "https://localhost:8080/",
          "height": 607
        },
        "id": "nAGt-Yu-_QUu",
        "outputId": "5c0ece0a-227d-4878-9286-94975a7dd8ae"
      },
      "id": "nAGt-Yu-_QUu",
      "execution_count": 6,
      "outputs": [
        {
          "output_type": "display_data",
          "data": {
            "text/plain": [
              "<Figure size 1008x720 with 16 Axes>"
            ],
            "image/png": "[encoded data removed]"
          },
          "metadata": {
            "needs_background": "light"
          }
        }
      ]
    },
    {
      "cell_type": "code",
      "execution_count": 7,
      "metadata": {
        "id": "5644a78a",
        "outputId": "bd608425-c32e-48e6-a4e1-3709aef7581b",
        "colab": {
          "base_uri": "https://localhost:8080/"
        }
      },
      "outputs": [
        {
          "output_type": "execute_result",
          "data": {
            "text/plain": [
              "Suburb              0\n",
              "Address             0\n",
              "Rooms               0\n",
              "Type                0\n",
              "Price               1\n",
              "Method              1\n",
              "SellerG             1\n",
              "Date                1\n",
              "Distance            1\n",
              "Postcode            1\n",
              "Bedroom2            1\n",
              "Bathroom            1\n",
              "Car                 1\n",
              "Landsize            1\n",
              "BuildingArea     2992\n",
              "YearBuilt        2445\n",
              "CouncilArea         1\n",
              "Lattitude           1\n",
              "Longtitude          1\n",
              "Regionname          1\n",
              "Propertycount       1\n",
              "dtype: int64"
            ]
          },
          "metadata": {},
          "execution_count": 7
        }
      ],
      "source": [
        "df.isnull().sum()"
      ],
      "id": "5644a78a"
    },
    {
      "cell_type": "code",
      "source": [
        "df = df.dropna(subset=['BuildingArea', 'YearBuilt'], axis=0)\n",
        "df.head()"
      ],
      "metadata": {
        "colab": {
          "base_uri": "https://localhost:8080/",
          "height": 236
        },
        "id": "U5l2OhyZKNYZ",
        "outputId": "a79c52e6-20f2-409e-d42d-9d5e49799a24"
      },
      "id": "U5l2OhyZKNYZ",
      "execution_count": 8,
      "outputs": [
        {
          "output_type": "execute_result",
          "data": {
            "text/plain": [
              "       Suburb          Address  Rooms Type      Price Method SellerG  \\\n",
              "1  Abbotsford  25 Bloomburg St      2    h  1035000.0      S  Biggin   \n",
              "2  Abbotsford     5 Charles St      3    h  1465000.0     SP  Biggin   \n",
              "4  Abbotsford      55a Park St      4    h  1600000.0     VB  Nelson   \n",
              "6  Abbotsford     124 Yarra St      3    h  1876000.0      S  Nelson   \n",
              "7  Abbotsford    98 Charles St      2    h  1636000.0      S  Nelson   \n",
              "\n",
              "        Date  Distance  Postcode  ...  Bathroom  Car  Landsize  BuildingArea  \\\n",
              "1  4/02/2016       2.5    3067.0  ...       1.0  0.0     156.0          79.0   \n",
              "2  4/03/2017       2.5    3067.0  ...       2.0  0.0     134.0         150.0   \n",
              "4  4/06/2016       2.5    3067.0  ...       1.0  2.0     120.0         142.0   \n",
              "6  7/05/2016       2.5    3067.0  ...       2.0  0.0     245.0         210.0   \n",
              "7  8/10/2016       2.5    3067.0  ...       1.0  2.0     256.0         107.0   \n",
              "\n",
              "   YearBuilt  CouncilArea Lattitude  Longtitude             Regionname  \\\n",
              "1     1900.0        Yarra  -37.8079    144.9934  Northern Metropolitan   \n",
              "2     1900.0        Yarra  -37.8093    144.9944  Northern Metropolitan   \n",
              "4     2014.0        Yarra  -37.8072    144.9941  Northern Metropolitan   \n",
              "6     1910.0        Yarra  -37.8024    144.9993  Northern Metropolitan   \n",
              "7     1890.0        Yarra  -37.8060    144.9954  Northern Metropolitan   \n",
              "\n",
              "  Propertycount  \n",
              "1        4019.0  \n",
              "2        4019.0  \n",
              "4        4019.0  \n",
              "6        4019.0  \n",
              "7        4019.0  \n",
              "\n",
              "[5 rows x 21 columns]"
            ],
            "text/html": [
              "\n",
              "  <div id=\"df-e36df892-9057-4802-b2db-d259ab9d9e1a\">\n",
              "    <div class=\"colab-df-container\">\n",
              "      <div>\n",
              "<style scoped>\n",
              "    .dataframe tbody tr th:only-of-type {\n",
              "        vertical-align: middle;\n",
              "    }\n",
              "\n",
              "    .dataframe tbody tr th {\n",
              "        vertical-align: top;\n",
              "    }\n",
              "\n",
              "    .dataframe thead th {\n",
              "        text-align: right;\n",
              "    }\n",
              "</style>\n",
              "<table border=\"1\" class=\"dataframe\">\n",
              "  <thead>\n",
              "    <tr style=\"text-align: right;\">\n",
              "      <th></th>\n",
              "      <th>Suburb</th>\n",
              "      <th>Address</th>\n",
              "      <th>Rooms</th>\n",
              "      <th>Type</th>\n",
              "      <th>Price</th>\n",
              "      <th>Method</th>\n",
              "      <th>SellerG</th>\n",
              "      <th>Date</th>\n",
              "      <th>Distance</th>\n",
              "      <th>Postcode</th>\n",
              "      <th>...</th>\n",
              "      <th>Bathroom</th>\n",
              "      <th>Car</th>\n",
              "      <th>Landsize</th>\n",
              "      <th>BuildingArea</th>\n",
              "      <th>YearBuilt</th>\n",
              "      <th>CouncilArea</th>\n",
              "      <th>Lattitude</th>\n",
              "      <th>Longtitude</th>\n",
              "      <th>Regionname</th>\n",
              "      <th>Propertycount</th>\n",
              "    </tr>\n",
              "  </thead>\n",
              "  <tbody>\n",
              "    <tr>\n",
              "      <th>1</th>\n",
              "      <td>Abbotsford</td>\n",
              "      <td>25 Bloomburg St</td>\n",
              "      <td>2</td>\n",
              "      <td>h</td>\n",
              "      <td>1035000.0</td>\n",
              "      <td>S</td>\n",
              "      <td>Biggin</td>\n",
              "      <td>4/02/2016</td>\n",
              "      <td>2.5</td>\n",
              "      <td>3067.0</td>\n",
              "      <td>...</td>\n",
              "      <td>1.0</td>\n",
              "      <td>0.0</td>\n",
              "      <td>156.0</td>\n",
              "      <td>79.0</td>\n",
              "      <td>1900.0</td>\n",
              "      <td>Yarra</td>\n",
              "      <td>-37.8079</td>\n",
              "      <td>144.9934</td>\n",
              "      <td>Northern Metropolitan</td>\n",
              "      <td>4019.0</td>\n",
              "    </tr>\n",
              "    <tr>\n",
              "      <th>2</th>\n",
              "      <td>Abbotsford</td>\n",
              "      <td>5 Charles St</td>\n",
              "      <td>3</td>\n",
              "      <td>h</td>\n",
              "      <td>1465000.0</td>\n",
              "      <td>SP</td>\n",
              "      <td>Biggin</td>\n",
              "      <td>4/03/2017</td>\n",
              "      <td>2.5</td>\n",
              "      <td>3067.0</td>\n",
              "      <td>...</td>\n",
              "      <td>2.0</td>\n",
              "      <td>0.0</td>\n",
              "      <td>134.0</td>\n",
              "      <td>150.0</td>\n",
              "      <td>1900.0</td>\n",
              "      <td>Yarra</td>\n",
              "      <td>-37.8093</td>\n",
              "      <td>144.9944</td>\n",
              "      <td>Northern Metropolitan</td>\n",
              "      <td>4019.0</td>\n",
              "    </tr>\n",
              "    <tr>\n",
              "      <th>4</th>\n",
              "      <td>Abbotsford</td>\n",
              "      <td>55a Park St</td>\n",
              "      <td>4</td>\n",
              "      <td>h</td>\n",
              "      <td>1600000.0</td>\n",
              "      <td>VB</td>\n",
              "      <td>Nelson</td>\n",
              "      <td>4/06/2016</td>\n",
              "      <td>2.5</td>\n",
              "      <td>3067.0</td>\n",
              "      <td>...</td>\n",
              "      <td>1.0</td>\n",
              "      <td>2.0</td>\n",
              "      <td>120.0</td>\n",
              "      <td>142.0</td>\n",
              "      <td>2014.0</td>\n",
              "      <td>Yarra</td>\n",
              "      <td>-37.8072</td>\n",
              "      <td>144.9941</td>\n",
              "      <td>Northern Metropolitan</td>\n",
              "      <td>4019.0</td>\n",
              "    </tr>\n",
              "    <tr>\n",
              "      <th>6</th>\n",
              "      <td>Abbotsford</td>\n",
              "      <td>124 Yarra St</td>\n",
              "      <td>3</td>\n",
              "      <td>h</td>\n",
              "      <td>1876000.0</td>\n",
              "      <td>S</td>\n",
              "      <td>Nelson</td>\n",
              "      <td>7/05/2016</td>\n",
              "      <td>2.5</td>\n",
              "      <td>3067.0</td>\n",
              "      <td>...</td>\n",
              "      <td>2.0</td>\n",
              "      <td>0.0</td>\n",
              "      <td>245.0</td>\n",
              "      <td>210.0</td>\n",
              "      <td>1910.0</td>\n",
              "      <td>Yarra</td>\n",
              "      <td>-37.8024</td>\n",
              "      <td>144.9993</td>\n",
              "      <td>Northern Metropolitan</td>\n",
              "      <td>4019.0</td>\n",
              "    </tr>\n",
              "    <tr>\n",
              "      <th>7</th>\n",
              "      <td>Abbotsford</td>\n",
              "      <td>98 Charles St</td>\n",
              "      <td>2</td>\n",
              "      <td>h</td>\n",
              "      <td>1636000.0</td>\n",
              "      <td>S</td>\n",
              "      <td>Nelson</td>\n",
              "      <td>8/10/2016</td>\n",
              "      <td>2.5</td>\n",
              "      <td>3067.0</td>\n",
              "      <td>...</td>\n",
              "      <td>1.0</td>\n",
              "      <td>2.0</td>\n",
              "      <td>256.0</td>\n",
              "      <td>107.0</td>\n",
              "      <td>1890.0</td>\n",
              "      <td>Yarra</td>\n",
              "      <td>-37.8060</td>\n",
              "      <td>144.9954</td>\n",
              "      <td>Northern Metropolitan</td>\n",
              "      <td>4019.0</td>\n",
              "    </tr>\n",
              "  </tbody>\n",
              "</table>\n",
              "<p>5 rows × 21 columns</p>\n",
              "</div>\n",
              "      <button class=\"colab-df-convert\" onclick=\"convertToInteractive('df-e36df892-9057-4802-b2db-d259ab9d9e1a')\"\n",
              "              title=\"Convert this dataframe to an interactive table.\"\n",
              "              style=\"display:none;\">\n",
              "        \n",
              "  <svg xmlns=\"http://www.w3.org/2000/svg\" height=\"24px\"viewBox=\"0 0 24 24\"\n",
              "       width=\"24px\">\n",
              "    <path d=\"M0 0h24v24H0V0z\" fill=\"none\"/>\n",
              "    <path d=\"M18.56 5.44l.94 2.06.94-2.06 2.06-.94-2.06-.94-.94-2.06-.94 2.06-2.06.94zm-11 1L8.5 8.5l.94-2.06 2.06-.94-2.06-.94L8.5 2.5l-.94 2.06-2.06.94zm10 10l.94 2.06.94-2.06 2.06-.94-2.06-.94-.94-2.06-.94 2.06-2.06.94z\"/><path d=\"M17.41 7.96l-1.37-1.37c-.4-.4-.92-.59-1.43-.59-.52 0-1.04.2-1.43.59L10.3 9.45l-7.72 7.72c-.78.78-.78 2.05 0 2.83L4 21.41c.39.39.9.59 1.41.59.51 0 1.02-.2 1.41-.59l7.78-7.78 2.81-2.81c.8-.78.8-2.07 0-2.86zM5.41 20L4 18.59l7.72-7.72 1.47 1.35L5.41 20z\"/>\n",
              "  </svg>\n",
              "      </button>\n",
              "      \n",
              "  <style>\n",
              "    .colab-df-container {\n",
              "      display:flex;\n",
              "      flex-wrap:wrap;\n",
              "      gap: 12px;\n",
              "    }\n",
              "\n",
              "    .colab-df-convert {\n",
              "      background-color: #E8F0FE;\n",
              "      border: none;\n",
              "      border-radius: 50%;\n",
              "      cursor: pointer;\n",
              "      display: none;\n",
              "      fill: #1967D2;\n",
              "      height: 32px;\n",
              "      padding: 0 0 0 0;\n",
              "      width: 32px;\n",
              "    }\n",
              "\n",
              "    .colab-df-convert:hover {\n",
              "      background-color: #E2EBFA;\n",
              "      box-shadow: 0px 1px 2px rgba(60, 64, 67, 0.3), 0px 1px 3px 1px rgba(60, 64, 67, 0.15);\n",
              "      fill: #174EA6;\n",
              "    }\n",
              "\n",
              "    [theme=dark] .colab-df-convert {\n",
              "      background-color: #3B4455;\n",
              "      fill: #D2E3FC;\n",
              "    }\n",
              "\n",
              "    [theme=dark] .colab-df-convert:hover {\n",
              "      background-color: #434B5C;\n",
              "      box-shadow: 0px 1px 3px 1px rgba(0, 0, 0, 0.15);\n",
              "      filter: drop-shadow(0px 1px 2px rgba(0, 0, 0, 0.3));\n",
              "      fill: #FFFFFF;\n",
              "    }\n",
              "  </style>\n",
              "\n",
              "      <script>\n",
              "        const buttonEl =\n",
              "          document.querySelector('#df-e36df892-9057-4802-b2db-d259ab9d9e1a button.colab-df-convert');\n",
              "        buttonEl.style.display =\n",
              "          google.colab.kernel.accessAllowed ? 'block' : 'none';\n",
              "\n",
              "        async function convertToInteractive(key) {\n",
              "          const element = document.querySelector('#df-e36df892-9057-4802-b2db-d259ab9d9e1a');\n",
              "          const dataTable =\n",
              "            await google.colab.kernel.invokeFunction('convertToInteractive',\n",
              "                                                     [key], {});\n",
              "          if (!dataTable) return;\n",
              "\n",
              "          const docLinkHtml = 'Like what you see? Visit the ' +\n",
              "            '<a target=\"_blank\" href=https://colab.research.google.com/notebooks/data_table.ipynb>data table notebook</a>'\n",
              "            + ' to learn more about interactive tables.';\n",
              "          element.innerHTML = '';\n",
              "          dataTable['output_type'] = 'display_data';\n",
              "          await google.colab.output.renderOutput(dataTable, element);\n",
              "          const docLink = document.createElement('div');\n",
              "          docLink.innerHTML = docLinkHtml;\n",
              "          element.appendChild(docLink);\n",
              "        }\n",
              "      </script>\n",
              "    </div>\n",
              "  </div>\n",
              "  "
            ]
          },
          "metadata": {},
          "execution_count": 8
        }
      ]
    },
    {
      "cell_type": "code",
      "source": [
        "sns.distplot(df['Car'])"
      ],
      "metadata": {
        "colab": {
          "base_uri": "https://localhost:8080/",
          "height": 351
        },
        "id": "SaY3wnC-Bn0s",
        "outputId": "2d34e9f3-1abe-4855-d966-5194b829e5e7"
      },
      "id": "SaY3wnC-Bn0s",
      "execution_count": 9,
      "outputs": [
        {
          "output_type": "stream",
          "name": "stderr",
          "text": [
            "/usr/local/lib/python3.9/dist-packages/seaborn/distributions.py:2619: FutureWarning: `distplot` is a deprecated function and will be removed in a future version. Please adapt your code to use either `displot` (a figure-level function with similar flexibility) or `histplot` (an axes-level function for histograms).\n",
            "  warnings.warn(msg, FutureWarning)\n"
          ]
        },
        {
          "output_type": "execute_result",
          "data": {
            "text/plain": [
              "<AxesSubplot:xlabel='Car', ylabel='Density'>"
            ]
          },
          "metadata": {},
          "execution_count": 9
        },
        {
          "output_type": "display_data",
          "data": {
            "text/plain": [
              "<Figure size 432x288 with 1 Axes>"
            ],
            "image/png": "[encoded data removed]"
          },
          "metadata": {
            "needs_background": "light"
          }
        }
      ]
    },
    {
      "cell_type": "code",
      "source": [
        "df['Car'].fillna(df['Car'].mean(),inplace=True)"
      ],
      "metadata": {
        "colab": {
          "base_uri": "https://localhost:8080/"
        },
        "id": "GmNbPUkrBn20",
        "outputId": "d5589817-de5e-4516-a8aa-4c2edcdc714c"
      },
      "id": "GmNbPUkrBn20",
      "execution_count": 10,
      "outputs": [
        {
          "output_type": "stream",
          "name": "stderr",
          "text": [
            "/usr/local/lib/python3.9/dist-packages/pandas/core/generic.py:6392: SettingWithCopyWarning: \n",
            "A value is trying to be set on a copy of a slice from a DataFrame\n",
            "\n",
            "See the caveats in the documentation: https://pandas.pydata.org/pandas-docs/stable/user_guide/indexing.html#returning-a-view-versus-a-copy\n",
            "  return self._update_inplace(result)\n"
          ]
        }
      ]
    },
    {
      "cell_type": "code",
      "source": [
        "sns.distplot(df['Car'])"
      ],
      "metadata": {
        "colab": {
          "base_uri": "https://localhost:8080/",
          "height": 351
        },
        "id": "Z9m8I589Bn7D",
        "outputId": "4ceefac5-d832-4c64-dc8a-4fdd7b47f350"
      },
      "id": "Z9m8I589Bn7D",
      "execution_count": 11,
      "outputs": [
        {
          "output_type": "stream",
          "name": "stderr",
          "text": [
            "/usr/local/lib/python3.9/dist-packages/seaborn/distributions.py:2619: FutureWarning: `distplot` is a deprecated function and will be removed in a future version. Please adapt your code to use either `displot` (a figure-level function with similar flexibility) or `histplot` (an axes-level function for histograms).\n",
            "  warnings.warn(msg, FutureWarning)\n"
          ]
        },
        {
          "output_type": "execute_result",
          "data": {
            "text/plain": [
              "<AxesSubplot:xlabel='Car', ylabel='Density'>"
            ]
          },
          "metadata": {},
          "execution_count": 11
        },
        {
          "output_type": "display_data",
          "data": {
            "text/plain": [
              "<Figure size 432x288 with 1 Axes>"
            ],
            "image/png": "[encoded data removed]"
          },
          "metadata": {
            "needs_background": "light"
          }
        }
      ]
    },
    {
      "cell_type": "code",
      "source": [
        "df.isnull().sum()\n"
      ],
      "metadata": {
        "colab": {
          "base_uri": "https://localhost:8080/"
        },
        "id": "yP1JEbylBn92",
        "outputId": "15539870-c337-42da-b752-9b897dc58446"
      },
      "id": "yP1JEbylBn92",
      "execution_count": 12,
      "outputs": [
        {
          "output_type": "execute_result",
          "data": {
            "text/plain": [
              "Suburb           0\n",
              "Address          0\n",
              "Rooms            0\n",
              "Type             0\n",
              "Price            0\n",
              "Method           0\n",
              "SellerG          0\n",
              "Date             0\n",
              "Distance         0\n",
              "Postcode         0\n",
              "Bedroom2         0\n",
              "Bathroom         0\n",
              "Car              0\n",
              "Landsize         0\n",
              "BuildingArea     0\n",
              "YearBuilt        0\n",
              "CouncilArea      0\n",
              "Lattitude        0\n",
              "Longtitude       0\n",
              "Regionname       0\n",
              "Propertycount    0\n",
              "dtype: int64"
            ]
          },
          "metadata": {},
          "execution_count": 12
        }
      ]
    },
    {
      "cell_type": "markdown",
      "id": "3cced2d5",
      "metadata": {
        "id": "3cced2d5"
      },
      "source": [
        "FEATURES\n",
        "The various features of the cleaned dataset are explained below:\n",
        "-   Rooms: Number of rooms\n",
        "\n",
        "-   Price: Price in dollars\n",
        "\n",
        "-   Method: S - property sold; SP - property sold prior; PI - property passed in; PN - sold prior not disclosed; SN - sold not disclosed; NB - no bid; VB - vendor bid; W - withdrawn prior to auction; SA - sold after auction; SS - sold after auction price not disclosed. N/A - price or highest bid not available.\n",
        "\n",
        "-  Type: br - bedroom(s); h - house,cottage,villa, semi,terrace; u - unit, duplex; t - townhouse; dev site - development site; o res - other residential.\n",
        "\n",
        "-   SellerG: Real Estate Agent\n",
        "\n",
        "-   Date: Date sold\n",
        "\n",
        "-   Distance: Distance from CBD\n",
        "\n",
        "-   Regionname: General Region (West, North West, North, North east …etc)\n",
        "\n",
        "-   Propertycount: Number of properties that exist in the suburb.\n",
        "\n",
        "-   Bedroom2 : Scraped # of Bedrooms (from different source)\n",
        "\n",
        "-   Bathroom: Number of Bathrooms\n",
        "\n",
        "-   Car: Number of carspots\n",
        "\n",
        "-   Landsize: Land Size\n",
        "\n",
        "-   BuildingArea: Building Size\n",
        "\n",
        "-   CouncilArea: Governing council for the area\n",
        "\n"
      ]
    },
    {
      "cell_type": "code",
      "source": [
        "df.head()"
      ],
      "metadata": {
        "colab": {
          "base_uri": "https://localhost:8080/",
          "height": 236
        },
        "id": "7l4v7Pp1esby",
        "outputId": "d6af2039-672a-453d-b450-ebe858de85e0"
      },
      "id": "7l4v7Pp1esby",
      "execution_count": 13,
      "outputs": [
        {
          "output_type": "execute_result",
          "data": {
            "text/plain": [
              "       Suburb          Address  Rooms Type      Price Method SellerG  \\\n",
              "1  Abbotsford  25 Bloomburg St      2    h  1035000.0      S  Biggin   \n",
              "2  Abbotsford     5 Charles St      3    h  1465000.0     SP  Biggin   \n",
              "4  Abbotsford      55a Park St      4    h  1600000.0     VB  Nelson   \n",
              "6  Abbotsford     124 Yarra St      3    h  1876000.0      S  Nelson   \n",
              "7  Abbotsford    98 Charles St      2    h  1636000.0      S  Nelson   \n",
              "\n",
              "        Date  Distance  Postcode  ...  Bathroom  Car  Landsize  BuildingArea  \\\n",
              "1  4/02/2016       2.5    3067.0  ...       1.0  0.0     156.0          79.0   \n",
              "2  4/03/2017       2.5    3067.0  ...       2.0  0.0     134.0         150.0   \n",
              "4  4/06/2016       2.5    3067.0  ...       1.0  2.0     120.0         142.0   \n",
              "6  7/05/2016       2.5    3067.0  ...       2.0  0.0     245.0         210.0   \n",
              "7  8/10/2016       2.5    3067.0  ...       1.0  2.0     256.0         107.0   \n",
              "\n",
              "   YearBuilt  CouncilArea Lattitude  Longtitude             Regionname  \\\n",
              "1     1900.0        Yarra  -37.8079    144.9934  Northern Metropolitan   \n",
              "2     1900.0        Yarra  -37.8093    144.9944  Northern Metropolitan   \n",
              "4     2014.0        Yarra  -37.8072    144.9941  Northern Metropolitan   \n",
              "6     1910.0        Yarra  -37.8024    144.9993  Northern Metropolitan   \n",
              "7     1890.0        Yarra  -37.8060    144.9954  Northern Metropolitan   \n",
              "\n",
              "  Propertycount  \n",
              "1        4019.0  \n",
              "2        4019.0  \n",
              "4        4019.0  \n",
              "6        4019.0  \n",
              "7        4019.0  \n",
              "\n",
              "[5 rows x 21 columns]"
            ],
            "text/html": [
              "\n",
              "  <div id=\"df-562ddac8-db45-483c-a71e-03f0f5c3eaf9\">\n",
              "    <div class=\"colab-df-container\">\n",
              "      <div>\n",
              "<style scoped>\n",
              "    .dataframe tbody tr th:only-of-type {\n",
              "        vertical-align: middle;\n",
              "    }\n",
              "\n",
              "    .dataframe tbody tr th {\n",
              "        vertical-align: top;\n",
              "    }\n",
              "\n",
              "    .dataframe thead th {\n",
              "        text-align: right;\n",
              "    }\n",
              "</style>\n",
              "<table border=\"1\" class=\"dataframe\">\n",
              "  <thead>\n",
              "    <tr style=\"text-align: right;\">\n",
              "      <th></th>\n",
              "      <th>Suburb</th>\n",
              "      <th>Address</th>\n",
              "      <th>Rooms</th>\n",
              "      <th>Type</th>\n",
              "      <th>Price</th>\n",
              "      <th>Method</th>\n",
              "      <th>SellerG</th>\n",
              "      <th>Date</th>\n",
              "      <th>Distance</th>\n",
              "      <th>Postcode</th>\n",
              "      <th>...</th>\n",
              "      <th>Bathroom</th>\n",
              "      <th>Car</th>\n",
              "      <th>Landsize</th>\n",
              "      <th>BuildingArea</th>\n",
              "      <th>YearBuilt</th>\n",
              "      <th>CouncilArea</th>\n",
              "      <th>Lattitude</th>\n",
              "      <th>Longtitude</th>\n",
              "      <th>Regionname</th>\n",
              "      <th>Propertycount</th>\n",
              "    </tr>\n",
              "  </thead>\n",
              "  <tbody>\n",
              "    <tr>\n",
              "      <th>1</th>\n",
              "      <td>Abbotsford</td>\n",
              "      <td>25 Bloomburg St</td>\n",
              "      <td>2</td>\n",
              "      <td>h</td>\n",
              "      <td>1035000.0</td>\n",
              "      <td>S</td>\n",
              "      <td>Biggin</td>\n",
              "      <td>4/02/2016</td>\n",
              "      <td>2.5</td>\n",
              "      <td>3067.0</td>\n",
              "      <td>...</td>\n",
              "      <td>1.0</td>\n",
              "      <td>0.0</td>\n",
              "      <td>156.0</td>\n",
              "      <td>79.0</td>\n",
              "      <td>1900.0</td>\n",
              "      <td>Yarra</td>\n",
              "      <td>-37.8079</td>\n",
              "      <td>144.9934</td>\n",
              "      <td>Northern Metropolitan</td>\n",
              "      <td>4019.0</td>\n",
              "    </tr>\n",
              "    <tr>\n",
              "      <th>2</th>\n",
              "      <td>Abbotsford</td>\n",
              "      <td>5 Charles St</td>\n",
              "      <td>3</td>\n",
              "      <td>h</td>\n",
              "      <td>1465000.0</td>\n",
              "      <td>SP</td>\n",
              "      <td>Biggin</td>\n",
              "      <td>4/03/2017</td>\n",
              "      <td>2.5</td>\n",
              "      <td>3067.0</td>\n",
              "      <td>...</td>\n",
              "      <td>2.0</td>\n",
              "      <td>0.0</td>\n",
              "      <td>134.0</td>\n",
              "      <td>150.0</td>\n",
              "      <td>1900.0</td>\n",
              "      <td>Yarra</td>\n",
              "      <td>-37.8093</td>\n",
              "      <td>144.9944</td>\n",
              "      <td>Northern Metropolitan</td>\n",
              "      <td>4019.0</td>\n",
              "    </tr>\n",
              "    <tr>\n",
              "      <th>4</th>\n",
              "      <td>Abbotsford</td>\n",
              "      <td>55a Park St</td>\n",
              "      <td>4</td>\n",
              "      <td>h</td>\n",
              "      <td>1600000.0</td>\n",
              "      <td>VB</td>\n",
              "      <td>Nelson</td>\n",
              "      <td>4/06/2016</td>\n",
              "      <td>2.5</td>\n",
              "      <td>3067.0</td>\n",
              "      <td>...</td>\n",
              "      <td>1.0</td>\n",
              "      <td>2.0</td>\n",
              "      <td>120.0</td>\n",
              "      <td>142.0</td>\n",
              "      <td>2014.0</td>\n",
              "      <td>Yarra</td>\n",
              "      <td>-37.8072</td>\n",
              "      <td>144.9941</td>\n",
              "      <td>Northern Metropolitan</td>\n",
              "      <td>4019.0</td>\n",
              "    </tr>\n",
              "    <tr>\n",
              "      <th>6</th>\n",
              "      <td>Abbotsford</td>\n",
              "      <td>124 Yarra St</td>\n",
              "      <td>3</td>\n",
              "      <td>h</td>\n",
              "      <td>1876000.0</td>\n",
              "      <td>S</td>\n",
              "      <td>Nelson</td>\n",
              "      <td>7/05/2016</td>\n",
              "      <td>2.5</td>\n",
              "      <td>3067.0</td>\n",
              "      <td>...</td>\n",
              "      <td>2.0</td>\n",
              "      <td>0.0</td>\n",
              "      <td>245.0</td>\n",
              "      <td>210.0</td>\n",
              "      <td>1910.0</td>\n",
              "      <td>Yarra</td>\n",
              "      <td>-37.8024</td>\n",
              "      <td>144.9993</td>\n",
              "      <td>Northern Metropolitan</td>\n",
              "      <td>4019.0</td>\n",
              "    </tr>\n",
              "    <tr>\n",
              "      <th>7</th>\n",
              "      <td>Abbotsford</td>\n",
              "      <td>98 Charles St</td>\n",
              "      <td>2</td>\n",
              "      <td>h</td>\n",
              "      <td>1636000.0</td>\n",
              "      <td>S</td>\n",
              "      <td>Nelson</td>\n",
              "      <td>8/10/2016</td>\n",
              "      <td>2.5</td>\n",
              "      <td>3067.0</td>\n",
              "      <td>...</td>\n",
              "      <td>1.0</td>\n",
              "      <td>2.0</td>\n",
              "      <td>256.0</td>\n",
              "      <td>107.0</td>\n",
              "      <td>1890.0</td>\n",
              "      <td>Yarra</td>\n",
              "      <td>-37.8060</td>\n",
              "      <td>144.9954</td>\n",
              "      <td>Northern Metropolitan</td>\n",
              "      <td>4019.0</td>\n",
              "    </tr>\n",
              "  </tbody>\n",
              "</table>\n",
              "<p>5 rows × 21 columns</p>\n",
              "</div>\n",
              "      <button class=\"colab-df-convert\" onclick=\"convertToInteractive('df-562ddac8-db45-483c-a71e-03f0f5c3eaf9')\"\n",
              "              title=\"Convert this dataframe to an interactive table.\"\n",
              "              style=\"display:none;\">\n",
              "        \n",
              "  <svg xmlns=\"http://www.w3.org/2000/svg\" height=\"24px\"viewBox=\"0 0 24 24\"\n",
              "       width=\"24px\">\n",
              "    <path d=\"M0 0h24v24H0V0z\" fill=\"none\"/>\n",
              "    <path d=\"M18.56 5.44l.94 2.06.94-2.06 2.06-.94-2.06-.94-.94-2.06-.94 2.06-2.06.94zm-11 1L8.5 8.5l.94-2.06 2.06-.94-2.06-.94L8.5 2.5l-.94 2.06-2.06.94zm10 10l.94 2.06.94-2.06 2.06-.94-2.06-.94-.94-2.06-.94 2.06-2.06.94z\"/><path d=\"M17.41 7.96l-1.37-1.37c-.4-.4-.92-.59-1.43-.59-.52 0-1.04.2-1.43.59L10.3 9.45l-7.72 7.72c-.78.78-.78 2.05 0 2.83L4 21.41c.39.39.9.59 1.41.59.51 0 1.02-.2 1.41-.59l7.78-7.78 2.81-2.81c.8-.78.8-2.07 0-2.86zM5.41 20L4 18.59l7.72-7.72 1.47 1.35L5.41 20z\"/>\n",
              "  </svg>\n",
              "      </button>\n",
              "      \n",
              "  <style>\n",
              "    .colab-df-container {\n",
              "      display:flex;\n",
              "      flex-wrap:wrap;\n",
              "      gap: 12px;\n",
              "    }\n",
              "\n",
              "    .colab-df-convert {\n",
              "      background-color: #E8F0FE;\n",
              "      border: none;\n",
              "      border-radius: 50%;\n",
              "      cursor: pointer;\n",
              "      display: none;\n",
              "      fill: #1967D2;\n",
              "      height: 32px;\n",
              "      padding: 0 0 0 0;\n",
              "      width: 32px;\n",
              "    }\n",
              "\n",
              "    .colab-df-convert:hover {\n",
              "      background-color: #E2EBFA;\n",
              "      box-shadow: 0px 1px 2px rgba(60, 64, 67, 0.3), 0px 1px 3px 1px rgba(60, 64, 67, 0.15);\n",
              "      fill: #174EA6;\n",
              "    }\n",
              "\n",
              "    [theme=dark] .colab-df-convert {\n",
              "      background-color: #3B4455;\n",
              "      fill: #D2E3FC;\n",
              "    }\n",
              "\n",
              "    [theme=dark] .colab-df-convert:hover {\n",
              "      background-color: #434B5C;\n",
              "      box-shadow: 0px 1px 3px 1px rgba(0, 0, 0, 0.15);\n",
              "      filter: drop-shadow(0px 1px 2px rgba(0, 0, 0, 0.3));\n",
              "      fill: #FFFFFF;\n",
              "    }\n",
              "  </style>\n",
              "\n",
              "      <script>\n",
              "        const buttonEl =\n",
              "          document.querySelector('#df-562ddac8-db45-483c-a71e-03f0f5c3eaf9 button.colab-df-convert');\n",
              "        buttonEl.style.display =\n",
              "          google.colab.kernel.accessAllowed ? 'block' : 'none';\n",
              "\n",
              "        async function convertToInteractive(key) {\n",
              "          const element = document.querySelector('#df-562ddac8-db45-483c-a71e-03f0f5c3eaf9');\n",
              "          const dataTable =\n",
              "            await google.colab.kernel.invokeFunction('convertToInteractive',\n",
              "                                                     [key], {});\n",
              "          if (!dataTable) return;\n",
              "\n",
              "          const docLinkHtml = 'Like what you see? Visit the ' +\n",
              "            '<a target=\"_blank\" href=https://colab.research.google.com/notebooks/data_table.ipynb>data table notebook</a>'\n",
              "            + ' to learn more about interactive tables.';\n",
              "          element.innerHTML = '';\n",
              "          dataTable['output_type'] = 'display_data';\n",
              "          await google.colab.output.renderOutput(dataTable, element);\n",
              "          const docLink = document.createElement('div');\n",
              "          docLink.innerHTML = docLinkHtml;\n",
              "          element.appendChild(docLink);\n",
              "        }\n",
              "      </script>\n",
              "    </div>\n",
              "  </div>\n",
              "  "
            ]
          },
          "metadata": {},
          "execution_count": 13
        }
      ]
    },
    {
      "cell_type": "code",
      "source": [
        "df['Type'].replace(['h','u','t'], [\"House\",\"Unit\",\"Townhouse\"],inplace=True)\n"
      ],
      "metadata": {
        "colab": {
          "base_uri": "https://localhost:8080/"
        },
        "outputId": "300ac89e-18dd-4e40-b5a3-b932aefd7649",
        "id": "LZtx-qw3dwA1"
      },
      "execution_count": 14,
      "outputs": [
        {
          "output_type": "stream",
          "name": "stderr",
          "text": [
            "/usr/local/lib/python3.9/dist-packages/pandas/core/generic.py:6619: SettingWithCopyWarning: \n",
            "A value is trying to be set on a copy of a slice from a DataFrame\n",
            "\n",
            "See the caveats in the documentation: https://pandas.pydata.org/pandas-docs/stable/user_guide/indexing.html#returning-a-view-versus-a-copy\n",
            "  return self._update_inplace(result)\n"
          ]
        }
      ],
      "id": "LZtx-qw3dwA1"
    },
    {
      "cell_type": "code",
      "source": [
        "df['Method'].replace(['S', 'SP', 'VB', 'PI', 'SA'],['property_sold', 'property_sold_prior', 'vendor_bid', 'passed_in', 'sold_after_auction'],inplace=True)"
      ],
      "metadata": {
        "id": "9ReC5JI0d50O"
      },
      "id": "9ReC5JI0d50O",
      "execution_count": 15,
      "outputs": []
    },
    {
      "cell_type": "code",
      "source": [
        "df['Regionname'].unique()"
      ],
      "metadata": {
        "colab": {
          "base_uri": "https://localhost:8080/"
        },
        "id": "VxcW8IKwfApP",
        "outputId": "33a1d1dd-1cac-4266-dc45-8d6f10aac442"
      },
      "id": "VxcW8IKwfApP",
      "execution_count": 16,
      "outputs": [
        {
          "output_type": "execute_result",
          "data": {
            "text/plain": [
              "array(['Northern Metropolitan', 'Western Metropolitan',\n",
              "       'Southern Metropolitan', 'Eastern Metropolitan',\n",
              "       'South-Eastern Metropolitan'], dtype=object)"
            ]
          },
          "metadata": {},
          "execution_count": 16
        }
      ]
    },
    {
      "cell_type": "markdown",
      "source": [
        "Let's see what's the most selling sales rep"
      ],
      "metadata": {
        "id": "tlxdyAl7trq6"
      },
      "id": "tlxdyAl7trq6"
    },
    {
      "cell_type": "code",
      "source": [
        "print(df['SellerG'].mode()[0])"
      ],
      "metadata": {
        "colab": {
          "base_uri": "https://localhost:8080/"
        },
        "outputId": "db241a05-c530-47fc-efb7-6148b38f06d2",
        "id": "jhASD93rtrrK"
      },
      "execution_count": 17,
      "outputs": [
        {
          "output_type": "stream",
          "name": "stdout",
          "text": [
            "Nelson\n"
          ]
        }
      ],
      "id": "jhASD93rtrrK"
    },
    {
      "cell_type": "markdown",
      "source": [
        "Let's see what's the most common regionname"
      ],
      "metadata": {
        "id": "9oU9Zk1Vtr5O"
      },
      "id": "9oU9Zk1Vtr5O"
    },
    {
      "cell_type": "code",
      "source": [
        "print(df['Regionname'].mode()[0])"
      ],
      "metadata": {
        "colab": {
          "base_uri": "https://localhost:8080/"
        },
        "outputId": "0d2a1e1a-101b-4e21-a8aa-1b875c915a6e",
        "id": "REuI5lnytr5P"
      },
      "execution_count": 18,
      "outputs": [
        {
          "output_type": "stream",
          "name": "stdout",
          "text": [
            "Southern Metropolitan\n"
          ]
        }
      ],
      "id": "REuI5lnytr5P"
    },
    {
      "cell_type": "markdown",
      "source": [
        "Let's See the  most expensive unit deatails"
      ],
      "metadata": {
        "id": "jJehJMZeYuOm"
      },
      "id": "jJehJMZeYuOm"
    },
    {
      "cell_type": "code",
      "source": [
        "VIP = df[df['Price']==df['Price'].max()]\n",
        "VIP"
      ],
      "metadata": {
        "colab": {
          "base_uri": "https://localhost:8080/",
          "height": 110
        },
        "id": "nh8x75HaY5wG",
        "outputId": "d8d0dddb-8222-4b4e-86d2-c14e1737862d"
      },
      "id": "nh8x75HaY5wG",
      "execution_count": 36,
      "outputs": [
        {
          "output_type": "execute_result",
          "data": {
            "text/plain": [
              "     Suburb      Address  Rooms   Type      Price         Method SellerG  \\\n",
              "3616    Kew  15 Barry St      6  House  6500000.0  property_sold  Jellis   \n",
              "\n",
              "            Date  Distance  Postcode  ...  Bathroom  Car  Landsize  \\\n",
              "3616  13/08/2016       5.6    3101.0  ...       6.0  3.0    1334.0   \n",
              "\n",
              "      BuildingArea  YearBuilt  CouncilArea Lattitude  Longtitude  \\\n",
              "3616         365.0     1890.0   Boroondara  -37.8029    145.0267   \n",
              "\n",
              "                 Regionname Propertycount  \n",
              "3616  Southern Metropolitan       10331.0  \n",
              "\n",
              "[1 rows x 21 columns]"
            ],
            "text/html": [
              "\n",
              "  <div id=\"df-5bf0141a-afc4-4b6f-8dd8-4e7f67d80d42\">\n",
              "    <div class=\"colab-df-container\">\n",
              "      <div>\n",
              "<style scoped>\n",
              "    .dataframe tbody tr th:only-of-type {\n",
              "        vertical-align: middle;\n",
              "    }\n",
              "\n",
              "    .dataframe tbody tr th {\n",
              "        vertical-align: top;\n",
              "    }\n",
              "\n",
              "    .dataframe thead th {\n",
              "        text-align: right;\n",
              "    }\n",
              "</style>\n",
              "<table border=\"1\" class=\"dataframe\">\n",
              "  <thead>\n",
              "    <tr style=\"text-align: right;\">\n",
              "      <th></th>\n",
              "      <th>Suburb</th>\n",
              "      <th>Address</th>\n",
              "      <th>Rooms</th>\n",
              "      <th>Type</th>\n",
              "      <th>Price</th>\n",
              "      <th>Method</th>\n",
              "      <th>SellerG</th>\n",
              "      <th>Date</th>\n",
              "      <th>Distance</th>\n",
              "      <th>Postcode</th>\n",
              "      <th>...</th>\n",
              "      <th>Bathroom</th>\n",
              "      <th>Car</th>\n",
              "      <th>Landsize</th>\n",
              "      <th>BuildingArea</th>\n",
              "      <th>YearBuilt</th>\n",
              "      <th>CouncilArea</th>\n",
              "      <th>Lattitude</th>\n",
              "      <th>Longtitude</th>\n",
              "      <th>Regionname</th>\n",
              "      <th>Propertycount</th>\n",
              "    </tr>\n",
              "  </thead>\n",
              "  <tbody>\n",
              "    <tr>\n",
              "      <th>3616</th>\n",
              "      <td>Kew</td>\n",
              "      <td>15 Barry St</td>\n",
              "      <td>6</td>\n",
              "      <td>House</td>\n",
              "      <td>6500000.0</td>\n",
              "      <td>property_sold</td>\n",
              "      <td>Jellis</td>\n",
              "      <td>13/08/2016</td>\n",
              "      <td>5.6</td>\n",
              "      <td>3101.0</td>\n",
              "      <td>...</td>\n",
              "      <td>6.0</td>\n",
              "      <td>3.0</td>\n",
              "      <td>1334.0</td>\n",
              "      <td>365.0</td>\n",
              "      <td>1890.0</td>\n",
              "      <td>Boroondara</td>\n",
              "      <td>-37.8029</td>\n",
              "      <td>145.0267</td>\n",
              "      <td>Southern Metropolitan</td>\n",
              "      <td>10331.0</td>\n",
              "    </tr>\n",
              "  </tbody>\n",
              "</table>\n",
              "<p>1 rows × 21 columns</p>\n",
              "</div>\n",
              "      <button class=\"colab-df-convert\" onclick=\"convertToInteractive('df-5bf0141a-afc4-4b6f-8dd8-4e7f67d80d42')\"\n",
              "              title=\"Convert this dataframe to an interactive table.\"\n",
              "              style=\"display:none;\">\n",
              "        \n",
              "  <svg xmlns=\"http://www.w3.org/2000/svg\" height=\"24px\"viewBox=\"0 0 24 24\"\n",
              "       width=\"24px\">\n",
              "    <path d=\"M0 0h24v24H0V0z\" fill=\"none\"/>\n",
              "    <path d=\"M18.56 5.44l.94 2.06.94-2.06 2.06-.94-2.06-.94-.94-2.06-.94 2.06-2.06.94zm-11 1L8.5 8.5l.94-2.06 2.06-.94-2.06-.94L8.5 2.5l-.94 2.06-2.06.94zm10 10l.94 2.06.94-2.06 2.06-.94-2.06-.94-.94-2.06-.94 2.06-2.06.94z\"/><path d=\"M17.41 7.96l-1.37-1.37c-.4-.4-.92-.59-1.43-.59-.52 0-1.04.2-1.43.59L10.3 9.45l-7.72 7.72c-.78.78-.78 2.05 0 2.83L4 21.41c.39.39.9.59 1.41.59.51 0 1.02-.2 1.41-.59l7.78-7.78 2.81-2.81c.8-.78.8-2.07 0-2.86zM5.41 20L4 18.59l7.72-7.72 1.47 1.35L5.41 20z\"/>\n",
              "  </svg>\n",
              "      </button>\n",
              "      \n",
              "  <style>\n",
              "    .colab-df-container {\n",
              "      display:flex;\n",
              "      flex-wrap:wrap;\n",
              "      gap: 12px;\n",
              "    }\n",
              "\n",
              "    .colab-df-convert {\n",
              "      background-color: #E8F0FE;\n",
              "      border: none;\n",
              "      border-radius: 50%;\n",
              "      cursor: pointer;\n",
              "      display: none;\n",
              "      fill: #1967D2;\n",
              "      height: 32px;\n",
              "      padding: 0 0 0 0;\n",
              "      width: 32px;\n",
              "    }\n",
              "\n",
              "    .colab-df-convert:hover {\n",
              "      background-color: #E2EBFA;\n",
              "      box-shadow: 0px 1px 2px rgba(60, 64, 67, 0.3), 0px 1px 3px 1px rgba(60, 64, 67, 0.15);\n",
              "      fill: #174EA6;\n",
              "    }\n",
              "\n",
              "    [theme=dark] .colab-df-convert {\n",
              "      background-color: #3B4455;\n",
              "      fill: #D2E3FC;\n",
              "    }\n",
              "\n",
              "    [theme=dark] .colab-df-convert:hover {\n",
              "      background-color: #434B5C;\n",
              "      box-shadow: 0px 1px 3px 1px rgba(0, 0, 0, 0.15);\n",
              "      filter: drop-shadow(0px 1px 2px rgba(0, 0, 0, 0.3));\n",
              "      fill: #FFFFFF;\n",
              "    }\n",
              "  </style>\n",
              "\n",
              "      <script>\n",
              "        const buttonEl =\n",
              "          document.querySelector('#df-5bf0141a-afc4-4b6f-8dd8-4e7f67d80d42 button.colab-df-convert');\n",
              "        buttonEl.style.display =\n",
              "          google.colab.kernel.accessAllowed ? 'block' : 'none';\n",
              "\n",
              "        async function convertToInteractive(key) {\n",
              "          const element = document.querySelector('#df-5bf0141a-afc4-4b6f-8dd8-4e7f67d80d42');\n",
              "          const dataTable =\n",
              "            await google.colab.kernel.invokeFunction('convertToInteractive',\n",
              "                                                     [key], {});\n",
              "          if (!dataTable) return;\n",
              "\n",
              "          const docLinkHtml = 'Like what you see? Visit the ' +\n",
              "            '<a target=\"_blank\" href=https://colab.research.google.com/notebooks/data_table.ipynb>data table notebook</a>'\n",
              "            + ' to learn more about interactive tables.';\n",
              "          element.innerHTML = '';\n",
              "          dataTable['output_type'] = 'display_data';\n",
              "          await google.colab.output.renderOutput(dataTable, element);\n",
              "          const docLink = document.createElement('div');\n",
              "          docLink.innerHTML = docLinkHtml;\n",
              "          element.appendChild(docLink);\n",
              "        }\n",
              "      </script>\n",
              "    </div>\n",
              "  </div>\n",
              "  "
            ]
          },
          "metadata": {},
          "execution_count": 36
        }
      ]
    },
    {
      "cell_type": "markdown",
      "source": [
        "## Visualizations"
      ],
      "metadata": {
        "id": "Vd_B-O6ZMso9"
      },
      "id": "Vd_B-O6ZMso9"
    },
    {
      "cell_type": "code",
      "source": [
        "fig = px.scatter(x=df['Landsize'], y=df['Price'])\n",
        "fig.update_xaxes(range=[0, 2000]) \n",
        "fig.update_yaxes(range=[0, 4000000]) \n",
        "fig.update_layout(\n",
        "    xaxis_title=\"Landsize\",\n",
        "    yaxis_title=\"Price\",\n",
        "    width=1000\n",
        ")\n",
        "fig.show()"
      ],
      "metadata": {
        "id": "8NmKZ6CnvjaC",
        "colab": {
          "base_uri": "https://localhost:8080/",
          "height": 542
        },
        "outputId": "de025b59-c7c0-4e2e-d0a6-50770d199b41"
      },
      "execution_count": 46,
      "outputs": [
        {
          "output_type": "display_data",
          "data": {
            "text/html": [
              "<html>\n",
              "<head><meta charset=\"utf-8\" /></head>\n",
              "<body>\n",
              "    <div>            <script src=\"https://cdnjs.cloudflare.com/ajax/libs/mathjax/2.7.5/MathJax.js?config=TeX-AMS-MML_SVG\"></script><script type=\"text/javascript\">if (window.MathJax) {MathJax.Hub.Config({SVG: {font: \"STIX-Web\"}});}</script>                <script type=\"text/javascript\">window.PlotlyConfig = {MathJaxConfig: 'local'};</script>\n",
              "        <script src=\"https://cdn.plot.ly/plotly-2.8.3.min.js\"></script>                <div id=\"63a2f61c-4a6c-48dd-9c11-e58b8569e1b3\" class=\"plotly-graph-div\" style=\"height:525px; width:1000px;\"></div>            <script type=\"text/javascript\">                                    window.PLOTLYENV=window.PLOTLYENV || {};                                    if (document.getElementById(\"63a2f61c-4a6c-48dd-9c11-e58b8569e1b3\")) {                    Plotly.newPlot(                        \"63a2f61c-4a6c-48dd-9c11-e58b8569e1b3\",                        [{\"hovertemplate\":\"x=%{x}<br>y=%{y}<extra></extra>\",\"legendgroup\":\"\",\"marker\":{\"color\":\"#636efa\",\"symbol\":\"circle\"},\"mode\":\"markers\",\"name\":\"\",\"showlegend\":false,\"x\":[156.0,134.0,120.0,245.0,256.0,220.0,214.0,0.0,238.0,113.0,138.0,150.0,780.0,0.0,124.0,147.0,166.0,98.0,168.0,0.0,162.0,120.0,182.0,172.0,303.0,0.0,0.0,272.0,239.0,290.0,168.0,976.0,110.0,141.0,120.0,1063.0,0.0,265.0,165.0,971.0,612.0,612.0,531.0,555.0,422.0,161.0,293.0,579.0,628.0,120.0,211.0,128.0,130.0,153.0,132.0,199.0,90.0,177.0,0.0,149.0,141.0,211.0,147.0,327.0,120.0,238.0,0.0,330.0,183.0,79.0,147.0,81.0,853.0,599.0,809.0,88.0,155.0,606.0,575.0,180.0,0.0,0.0,556.0,589.0,352.0,729.0,292.0,506.0,1057.0,311.0,602.0,225.0,777.0,127.0,115.0,0.0,745.0,69.0,137.0,606.0,175.0,534.0,205.0,675.0,70.0,154.0,592.0,533.0,77.0,534.0,0.0,328.0,540.0,559.0,171.0,585.0,315.0,276.0,531.0,590.0,555.0,633.0,153.0,0.0,0.0,101.0,296.0,217.0,0.0,205.0,2113.0,144.0,0.0,0.0,249.0,624.0,405.0,495.0,1491.0,0.0,212.0,0.0,0.0,328.0,2471.0,0.0,186.0,0.0,709.0,563.0,103.0,617.0,0.0,0.0,298.0,0.0,277.0,423.0,478.0,285.0,214.0,1014.0,226.0,269.0,417.0,350.0,118.0,173.0,228.0,594.0,226.0,300.0,487.0,440.0,532.0,0.0,495.0,683.0,263.0,559.0,0.0,562.0,461.0,301.0,491.0,242.0,617.0,597.0,146.0,0.0,506.0,318.0,0.0,418.0,272.0,296.0,298.0,1957.0,552.0,416.0,285.0,314.0,576.0,252.0,124.0,200.0,278.0,452.0,194.0,598.0,753.0,599.0,310.0,731.0,276.0,583.0,1472.0,516.0,806.0,780.0,780.0,351.0,702.0,755.0,153.0,1075.0,710.0,749.0,724.0,605.0,687.0,321.0,700.0,696.0,514.0,844.0,697.0,372.0,695.0,621.0,367.0,400.0,792.0,803.0,216.0,782.0,593.0,585.0,153.0,766.0,192.0,586.0,760.0,320.0,256.0,839.0,212.0,593.0,0.0,557.0,569.0,570.0,550.0,761.0,581.0,873.0,586.0,220.0,554.0,812.0,589.0,0.0,593.0,582.0,244.0,0.0,114.0,0.0,0.0,0.0,178.0,0.0,0.0,159.0,339.0,483.0,659.0,715.0,208.0,206.0,715.0,744.0,122.0,2051.0,600.0,678.0,1015.0,188.0,0.0,699.0,577.0,0.0,0.0,281.0,453.0,121.0,219.0,241.0,935.0,115.0,674.0,0.0,231.0,306.0,87.0,752.0,213.0,1007.0,685.0,0.0,739.0,665.0,706.0,613.0,715.0,981.0,130.0,404.0,672.0,260.0,778.0,1135.0,647.0,760.0,642.0,888.0,750.0,347.0,673.0,665.0,772.0,736.0,886.0,207.0,662.0,705.0,619.0,1274.0,624.0,610.0,657.0,517.0,587.0,1070.0,900.0,763.0,310.0,637.0,665.0,710.0,1002.0,605.0,722.0,1235.0,904.0,713.0,869.0,667.0,362.0,1364.0,1010.0,949.0,177.0,368.0,587.0,250.0,644.0,842.0,701.0,754.0,657.0,900.0,845.0,207.0,737.0,720.0,0.0,348.0,613.0,140.0,299.0,576.0,0.0,291.0,692.0,795.0,565.0,697.0,584.0,610.0,526.0,271.0,758.0,296.0,116.0,902.0,557.0,226.0,855.0,227.0,632.0,690.0,354.0,624.0,581.0,677.0,147.0,0.0,694.0,736.0,336.0,611.0,274.0,579.0,567.0,123.0,83.0,346.0,708.0,572.0,594.0,664.0,579.0,176.0,281.0,683.0,384.0,76.0,585.0,565.0,292.0,291.0,321.0,730.0,619.0,627.0,618.0,0.0,610.0,265.0,590.0,578.0,636.0,0.0,604.0,305.0,313.0,295.0,254.0,167.0,300.0,578.0,591.0,268.0,274.0,726.0,201.0,588.0,291.0,610.0,618.0,296.0,659.0,721.0,421.0,314.0,583.0,700.0,391.0,780.0,267.0,213.0,316.0,154.0,623.0,250.0,319.0,587.0,388.0,230.0,543.0,686.0,575.0,692.0,0.0,582.0,598.0,283.0,365.0,629.0,676.0,194.0,363.0,281.0,0.0,620.0,640.0,684.0,725.0,210.0,194.0,0.0,583.0,406.0,596.0,185.0,625.0,610.0,593.0,326.0,592.0,298.0,697.0,140.0,729.0,458.0,550.0,741.0,384.0,0.0,299.0,702.0,150.0,643.0,664.0,692.0,780.0,211.0,707.0,763.0,307.0,151.0,755.0,590.0,492.0,238.0,566.0,220.0,327.0,749.0,283.0,216.0,606.0,559.0,393.0,544.0,283.0,557.0,198.0,658.0,115.0,288.0,158.0,566.0,366.0,836.0,0.0,742.0,432.0,340.0,487.0,329.0,411.0,463.0,90.0,615.0,0.0,509.0,232.0,550.0,710.0,0.0,345.0,0.0,655.0,398.0,644.0,0.0,354.0,352.0,404.0,275.0,277.0,895.0,565.0,0.0,0.0,552.0,547.0,426.0,107.0,569.0,1572.0,605.0,732.0,842.0,0.0,411.0,125.0,578.0,432.0,848.0,70.0,230.0,659.0,695.0,280.0,1045.0,549.0,682.0,617.0,329.0,618.0,674.0,649.0,594.0,994.0,824.0,315.0,613.0,616.0,635.0,775.0,112.0,697.0,481.0,999.0,564.0,708.0,1561.0,304.0,1000.0,401.0,915.0,645.0,598.0,603.0,678.0,551.0,189.0,759.0,604.0,669.0,435.0,337.0,654.0,614.0,166.0,302.0,0.0,74.0,315.0,171.0,509.0,660.0,679.0,297.0,656.0,757.0,267.0,225.0,238.0,365.0,851.0,0.0,0.0,81.0,0.0,170.0,179.0,0.0,0.0,100.0,0.0,264.0,278.0,229.0,186.0,118.0,315.0,122.0,331.0,327.0,114.0,257.0,199.0,0.0,240.0,0.0,152.0,0.0,271.0,370.0,281.0,210.0,216.0,222.0,0.0,239.0,470.0,311.0,1140.0,563.0,495.0,0.0,453.0,82.0,0.0,0.0,555.0,298.0,1080.0,384.0,483.0,0.0,184.0,161.0,264.0,177.0,0.0,0.0,325.0,156.0,4668.0,540.0,285.0,416.0,110.0,657.0,343.0,55.0,363.0,308.0,316.0,460.0,346.0,4676.0,0.0,0.0,199.0,147.0,280.0,354.0,246.0,159.0,0.0,0.0,564.0,0.0,220.0,510.0,0.0,0.0,349.0,275.0,73.0,0.0,262.0,364.0,353.0,447.0,0.0,411.0,0.0,177.0,0.0,0.0,2120.0,0.0,0.0,553.0,501.0,717.0,0.0,575.0,554.0,0.0,120.0,589.0,0.0,621.0,206.0,0.0,0.0,157.0,519.0,0.0,0.0,343.0,499.0,385.0,717.0,556.0,670.0,514.0,632.0,585.0,723.0,796.0,401.0,1124.0,306.0,604.0,475.0,728.0,672.0,744.0,602.0,693.0,591.0,661.0,1145.0,265.0,931.0,667.0,786.0,928.0,318.0,921.0,0.0,194.0,326.0,438.0,276.0,593.0,384.0,228.0,643.0,308.0,653.0,399.0,381.0,499.0,739.0,0.0,170.0,652.0,137.0,708.0,305.0,1107.0,706.0,146.0,777.0,0.0,600.0,1133.0,896.0,821.0,427.0,544.0,0.0,896.0,0.0,730.0,769.0,656.0,424.0,584.0,150.0,802.0,0.0,813.0,405.0,635.0,877.0,692.0,283.0,417.0,83.0,772.0,631.0,632.0,741.0,603.0,686.0,0.0,697.0,639.0,643.0,687.0,459.0,110.0,653.0,795.0,468.0,717.0,342.0,145.0,645.0,812.0,0.0,838.0,352.0,325.0,684.0,845.0,361.0,796.0,122.0,499.0,418.0,73.0,538.0,413.0,504.0,84.0,207.0,0.0,0.0,0.0,0.0,133.0,73.0,425.0,0.0,60.0,1113.0,0.0,561.0,0.0,0.0,0.0,0.0,299.0,0.0,751.0,300.0,0.0,687.0,0.0,166.0,0.0,757.0,144.0,0.0,598.0,325.0,211.0,557.0,158.0,0.0,133.0,0.0,283.0,103.0,264.0,0.0,174.0,282.0,0.0,603.0,371.0,604.0,967.0,595.0,111.0,0.0,932.0,108.0,0.0,277.0,0.0,454.0,99.0,0.0,912.0,817.0,0.0,0.0,806.0,499.0,692.0,934.0,361.0,0.0,952.0,270.0,1092.0,771.0,0.0,810.0,357.0,451.0,0.0,273.0,216.0,284.0,478.0,575.0,831.0,367.0,464.0,505.0,494.0,255.0,312.0,641.0,630.0,288.0,224.0,277.0,209.0,585.0,160.0,273.0,620.0,1033.0,500.0,630.0,177.0,188.0,155.0,193.0,124.0,174.0,185.0,140.0,382.0,239.0,164.0,515.0,176.0,156.0,0.0,67.0,162.0,118.0,371.0,286.0,702.0,0.0,142.0,423.0,233.0,370.0,536.0,283.0,170.0,280.0,372.0,0.0,0.0,255.0,370.0,378.0,374.0,494.0,417.0,379.0,0.0,129.0,119.0,735.0,107.0,253.0,431.0,482.0,452.0,0.0,405.0,0.0,420.0,97.0,856.0,407.0,385.0,0.0,108.0,293.0,371.0,462.0,577.0,238.0,515.0,457.0,488.0,0.0,339.0,381.0,336.0,138.0,206.0,531.0,102.0,43.0,0.0,500.0,545.0,0.0,116.0,307.0,563.0,381.0,213.0,576.0,633.0,412.0,0.0,263.0,0.0,113.0,404.0,178.0,145.0,173.0,565.0,626.0,0.0,586.0,563.0,104.0,526.0,501.0,833.0,629.0,307.0,556.0,498.0,298.0,472.0,425.0,407.0,320.0,499.0,575.0,178.0,0.0,2886.0,0.0,0.0,816.0,3701.0,0.0,0.0,0.0,130.0,406.0,82.0,282.0,183.0,0.0,188.0,0.0,159.0,81.0,1060.0,0.0,0.0,0.0,0.0,0.0,727.0,638.0,658.0,819.0,0.0,336.0,925.0,317.0,299.0,1073.0,740.0,716.0,656.0,669.0,655.0,203.0,806.0,241.0,118.0,731.0,658.0,366.0,728.0,827.0,182.0,651.0,654.0,900.0,654.0,648.0,500.0,764.0,67.0,233.0,650.0,586.0,657.0,0.0,234.0,109.0,771.0,649.0,798.0,769.0,963.0,724.0,846.0,79.0,723.0,939.0,871.0,112.0,872.0,555.0,1484.0,0.0,597.0,1177.0,239.0,447.0,147.0,391.0,489.0,319.0,815.0,0.0,331.0,275.0,155.0,108.0,527.0,179.0,492.0,419.0,0.0,1764.0,386.0,108.0,517.0,351.0,669.0,0.0,125.0,376.0,0.0,701.0,147.0,420.0,418.0,0.0,0.0,553.0,0.0,0.0,0.0,400.0,1966.0,0.0,0.0,0.0,163.0,0.0,257.0,0.0,0.0,483.0,0.0,116.0,0.0,223.0,0.0,75.0,737.0,0.0,0.0,0.0,246.0,0.0,560.0,0.0,0.0,0.0,0.0,0.0,0.0,644.0,0.0,0.0,799.0,0.0,0.0,0.0,0.0,0.0,235.0,0.0,348.0,0.0,0.0,0.0,758.0,374.0,684.0,263.0,0.0,688.0,752.0,225.0,288.0,0.0,168.0,549.0,291.0,789.0,648.0,374.0,646.0,0.0,188.0,877.0,256.0,860.0,533.0,554.0,396.0,503.0,475.0,0.0,619.0,160.0,0.0,291.0,0.0,190.0,638.0,0.0,700.0,0.0,683.0,649.0,319.0,551.0,0.0,477.0,601.0,225.0,0.0,687.0,253.0,0.0,0.0,519.0,638.0,0.0,605.0,0.0,0.0,250.0,201.0,715.0,858.0,300.0,0.0,170.0,0.0,862.0,0.0,1011.0,657.0,440.0,618.0,0.0,411.0,400.0,533.0,0.0,0.0,88.0,463.0,0.0,0.0,189.0,327.0,309.0,537.0,381.0,0.0,0.0,185.0,0.0,0.0,490.0,1658.0,553.0,575.0,140.0,382.0,0.0,0.0,0.0,0.0,496.0,0.0,0.0,87.0,0.0,0.0,337.0,113.0,177.0,0.0,132.0,2782.0,106.0,157.0,782.0,0.0,64.0,0.0,0.0,286.0,4332.0,104.0,107.0,266.0,0.0,134.0,150.0,112.0,197.0,275.0,188.0,233.0,445.0,188.0,223.0,104.0,136.0,0.0,0.0,127.0,77.0,487.0,100.0,203.0,127.0,202.0,193.0,0.0,0.0,118.0,0.0,0.0,0.0,294.0,272.0,136.0,140.0,225.0,212.0,0.0,0.0,0.0,179.0,818.0,244.0,0.0,319.0,292.0,164.0,497.0,154.0,0.0,204.0,0.0,250.0,2794.0,47.0,556.0,361.0,665.0,215.0,585.0,0.0,0.0,277.0,0.0,0.0,164.0,657.0,265.0,0.0,451.0,323.0,0.0,0.0,65.0,184.0,0.0,246.0,242.0,0.0,59.0,322.0,0.0,253.0,212.0,320.0,313.0,0.0,222.0,132.0,258.0,1783.0,125.0,190.0,882.0,211.0,196.0,0.0,130.0,112.0,319.0,458.0,0.0,369.0,102.0,799.0,355.0,274.0,680.0,856.0,919.0,868.0,739.0,0.0,217.0,753.0,708.0,704.0,619.0,638.0,630.0,1258.0,0.0,704.0,745.0,625.0,553.0,1184.0,0.0,630.0,659.0,0.0,63.0,650.0,1097.0,652.0,504.0,745.0,696.0,84.0,650.0,328.0,334.0,1069.0,412.0,802.0,885.0,366.0,778.0,718.0,642.0,830.0,840.0,775.0,700.0,609.0,548.0,0.0,401.0,603.0,762.0,685.0,0.0,615.0,654.0,645.0,1485.0,1339.0,648.0,438.0,709.0,696.0,640.0,766.0,683.0,700.0,1029.0,164.0,164.0,640.0,224.0,136.0,734.0,606.0,705.0,667.0,695.0,0.0,325.0,780.0,0.0,320.0,616.0,0.0,200.0,665.0,704.0,252.0,0.0,780.0,187.0,650.0,253.0,796.0,630.0,541.0,212.0,586.0,693.0,599.0,585.0,597.0,176.0,668.0,977.0,602.0,705.0,172.0,258.0,215.0,657.0,155.0,768.0,624.0,608.0,149.0,215.0,178.0,0.0,453.0,175.0,367.0,158.0,719.0,453.0,597.0,724.0,394.0,604.0,591.0,592.0,198.0,700.0,462.0,570.0,565.0,301.0,568.0,574.0,230.0,700.0,580.0,591.0,234.0,593.0,610.0,249.0,613.0,137.0,345.0,228.0,0.0,701.0,928.0,688.0,607.0,289.0,0.0,593.0,90.0,0.0,723.0,373.0,760.0,398.0,615.0,700.0,1504.0,670.0,357.0,195.0,413.0,830.0,225.0,1000.0,648.0,611.0,694.0,583.0,355.0,627.0,0.0,0.0,562.0,414.0,667.0,577.0,647.0,714.0,0.0,393.0,583.0,217.0,0.0,215.0,586.0,0.0,317.0,336.0,0.0,181.0,85.0,0.0,0.0,460.0,0.0,0.0,218.0,0.0,0.0,1089.0,341.0,232.0,0.0,0.0,383.0,0.0,0.0,351.0,0.0,342.0,0.0,665.0,0.0,207.0,1236.0,1099.0,0.0,218.0,1275.0,0.0,198.0,0.0,88.0,0.0,0.0,728.0,905.0,0.0,218.0,0.0,0.0,601.0,304.0,0.0,199.0,859.0,249.0,0.0,191.0,410.0,0.0,0.0,827.0,164.0,0.0,0.0,589.0,201.0,807.0,592.0,215.0,250.0,428.0,585.0,724.0,605.0,620.0,596.0,582.0,166.0,638.0,800.0,722.0,251.0,748.0,127.0,420.0,586.0,932.0,508.0,592.0,596.0,624.0,523.0,100.0,390.0,331.0,633.0,668.0,89.0,368.0,632.0,338.0,521.0,616.0,368.0,593.0,632.0,413.0,732.0,0.0,705.0,715.0,206.0,562.0,101.0,847.0,547.0,545.0,0.0,696.0,0.0,100.0,730.0,678.0,360.0,575.0,925.0,626.0,1252.0,249.0,648.0,399.0,537.0,557.0,630.0,0.0,845.0,687.0,608.0,721.0,691.0,694.0,645.0,689.0,684.0,1006.0,71.0,597.0,834.0,124.0,721.0,631.0,572.0,605.0,0.0,608.0,189.0,719.0,134.0,0.0,597.0,530.0,570.0,649.0,574.0,612.0,683.0,538.0,331.0,289.0,288.0,540.0,622.0,672.0,3977.0,532.0,568.0,412.0,584.0,112.0,322.0,745.0,605.0,613.0,713.0,352.0,776.0,708.0,440.0,224.0,606.0,716.0,0.0,546.0,542.0,686.0,565.0,630.0,547.0,928.0,554.0,558.0,616.0,320.0,544.0,598.0,166.0,188.0,199.0,0.0,0.0,0.0,284.0,234.0,325.0,138.0,174.0,163.0,211.0,239.0,566.0,275.0,0.0,3448.0,158.0,3957.0,0.0,169.0,1111.0,211.0,132.0,566.0,0.0,94.0,250.0,211.0,197.0,1181.0,324.0,312.0,0.0,0.0,169.0,97.0,0.0,2136.0,0.0,0.0,745.0,0.0,992.0,405.0,400.0,603.0,392.0,277.0,304.0,782.0,364.0,848.0,957.0,1334.0,0.0,591.0,0.0,0.0,712.0,397.0,0.0,861.0,687.0,89.0,424.0,586.0,288.0,660.0,717.0,650.0,531.0,597.0,205.0,247.0,1353.0,0.0,737.0,690.0,534.0,745.0,140.0,124.0,904.0,1065.0,857.0,641.0,0.0,298.0,670.0,674.0,480.0,0.0,700.0,920.0,275.0,336.0,0.0,741.0,711.0,0.0,672.0,702.0,948.0,458.0,611.0,695.0,730.0,458.0,248.0,165.0,576.0,308.0,1972.0,163.0,156.0,306.0,144.0,239.0,584.0,0.0,300.0,270.0,285.0,214.0,0.0,210.0,15100.0,527.0,118.0,269.0,595.0,381.0,145.0,333.0,231.0,502.0,586.0,396.0,0.0,587.0,227.0,696.0,0.0,313.0,0.0,807.0,471.0,580.0,254.0,716.0,300.0,585.0,0.0,501.0,246.0,232.0,0.0,322.0,337.0,0.0,310.0,376.0,567.0,567.0,196.0,797.0,769.0,216.0,0.0,837.0,0.0,691.0,412.0,365.0,604.0,526.0,700.0,0.0,310.0,181.0,888.0,170.0,0.0,400.0,504.0,0.0,0.0,234.0,0.0,645.0,0.0,427.0,310.0,0.0,333.0,0.0,0.0,606.0,0.0,375.0,222.0,764.0,288.0,615.0,0.0,597.0,77.0,0.0,77.0,5661.0,904.0,762.0,250.0,202.0,53.0,689.0,645.0,446.0,222.0,3967.0,1396.0,176.0,151.0,98.0,865.0,83.0,4977.0,3014.0,85.0,0.0,173.0,54.0,452.0,54.0,613.0,688.0,325.0,0.0,215.0,694.0,678.0,3014.0,203.0,695.0,573.0,270.0,211.0,578.0,0.0,0.0,0.0,0.0,0.0,0.0,0.0,0.0,0.0,0.0,0.0,1414.0,0.0,0.0,0.0,0.0,4051.0,0.0,0.0,0.0,1136.0,279.0,277.0,760.0,0.0,182.0,123.0,152.0,181.0,151.0,152.0,217.0,613.0,0.0,1149.0,355.0,931.0,330.0,813.0,711.0,0.0,2187.0,255.0,640.0,0.0,0.0,0.0,0.0,615.0,287.0,388.0,384.0,328.0,477.0,443.0,571.0,431.0,214.0,0.0,636.0,0.0,0.0,477.0,408.0,449.0,453.0,225.0,0.0,301.0,539.0,249.0,1981.0,0.0,549.0,228.0,307.0,646.0,619.0,394.0,435.0,436.0,0.0,207.0,216.0,313.0,0.0,345.0,526.0,310.0,0.0,67.0,283.0,156.0,596.0,166.0,441.0,271.0,0.0,739.0,0.0,217.0,325.0,0.0,239.0,834.0,573.0,106.0,784.0,695.0,653.0,649.0,318.0,164.0,581.0,696.0,603.0,534.0,720.0,272.0,558.0,743.0,576.0,603.0,83.0,180.0,593.0,374.0,261.0,472.0,698.0,1660.0,756.0,209.0,688.0,588.0,0.0,220.0,281.0,194.0,283.0,244.0,329.0,379.0,178.0,233.0,546.0,557.0,0.0,757.0,2522.0,316.0,402.0,0.0,357.0,0.0,390.0,425.0,221.0,470.0,284.0,213.0,619.0,0.0,0.0,453.0,458.0,299.0,0.0,767.0,774.0,343.0,224.0,348.0,149.0,344.0,322.0,229.0,144.0,753.0,297.0,168.0,278.0,571.0,753.0,315.0,487.0,129.0,255.0,663.0,360.0,303.0,650.0,0.0,0.0,217.0,313.0,747.0,229.0,716.0,268.0,317.0,374.0,650.0,539.0,643.0,0.0,643.0,310.0,0.0,0.0,83.0,88.0,215.0,0.0,1045.0,0.0,0.0,0.0,0.0,97.0,0.0,1588.0,118.0,584.0,0.0,0.0,232.0,109.0,161.0,0.0,0.0,2300.0,0.0,1004.0,649.0,0.0,61.0,0.0,111.0,0.0,245.0,215.0,286.0,464.0,247.0,772.0,0.0,55.0,415.0,607.0,191.0,472.0,259.0,347.0,0.0,136.0,0.0,0.0,445.0,184.0,573.0,0.0,225.0,490.0,229.0,158.0,178.0,522.0,190.0,354.0,174.0,608.0,328.0,150.0,0.0,120.0,899.0,453.0,407.0,0.0,304.0,243.0,0.0,403.0,306.0,307.0,178.0,129.0,440.0,301.0,450.0,338.0,0.0,465.0,489.0,344.0,348.0,0.0,297.0,824.0,376.0,150.0,382.0,327.0,696.0,189.0,715.0,780.0,161.0,553.0,272.0,783.0,118.0,198.0,790.0,382.0,161.0,704.0,138.0,763.0,694.0,568.0,258.0,214.0,533.0,558.0,575.0,567.0,535.0,1200.0,308.0,648.0,774.0,531.0,609.0,539.0,530.0,806.0,357.0,187.0,190.0,70.0,194.0,2488.0,154.0,2401.0,50.0,560.0,733.0,446.0,204.0,686.0,559.0,568.0,180.0,113.0,215.0,821.0,111.0,159.0,192.0,520.0,156.0,438.0,406.0,705.0,570.0,422.0,291.0,455.0,147.0,139.0,219.0,608.0,590.0,191.0,464.0,686.0,535.0,205.0,110.0,540.0,250.0,146.0,646.0,783.0,135.0,169.0,197.0,105.0,557.0,190.0,641.0,511.0,596.0,148.0,588.0,449.0,122.0,746.0,111.0,522.0,49.0,501.0,410.0,191.0,534.0,0.0,171.0,0.0,250.0,611.0,0.0,323.0,135.0,96.0,153.0,0.0,0.0,173.0,0.0,579.0,0.0,0.0,115.0,90.0,212.0,0.0,195.0,241.0,106.0,0.0,152.0,163.0,105.0,120.0,0.0,225.0,124.0,350.0,140.0,108.0,210.0,82.0,184.0,0.0,0.0,0.0,0.0,0.0,0.0,168.0,0.0,6866.0,5042.0,214.0,0.0,114.0,0.0,0.0,0.0,0.0,116.0,0.0,88.0,0.0,0.0,1768.0,0.0,0.0,0.0,0.0,0.0,128.0,141.0,288.0,443.0,0.0,0.0,308.0,203.0,111.0,0.0,222.0,0.0,0.0,0.0,96.0,183.0,1958.0,113.0,273.0,214.0,183.0,8216.0,214.0,0.0,131.0,231.0,238.0,272.0,112.0,146.0,644.0,604.0,148.0,132.0,581.0,563.0,266.0,356.0,250.0,566.0,493.0,369.0,1034.0,220.0,452.0,503.0,400.0,654.0,117.0,594.0,507.0,847.0,106.0,472.0,214.0,516.0,479.0,467.0,487.0,559.0,113.0,0.0,479.0,352.0,185.0,76.0,421.0,590.0,310.0,472.0,1254.0,504.0,0.0,493.0,1485.0,187.0,399.0,495.0,266.0,415.0,372.0,400.0,333.0,396.0,561.0,243.0,400.0,713.0,126.0,463.0,560.0,679.0,650.0,390.0,0.0,500.0,191.0,189.0,779.0,117.0,535.0,99.0,1262.0,676.0,91.0,227.0,466.0,234.0,4679.0,543.0,649.0,360.0,171.0,158.0,141.0,267.0,146.0,581.0,479.0,630.0,180.0,518.0,618.0,149.0,229.0,270.0,132.0,620.0,159.0,0.0,560.0,700.0,184.0,168.0,564.0,229.0,0.0,215.0,750.0,83.0,96.0,820.0,96.0,359.0,102.0,0.0,592.0,172.0,132.0,250.0,931.0,132.0,104.0,0.0,527.0,0.0,595.0,122.0,468.0,574.0,90.0,474.0,456.0,834.0,464.0,618.0,159.0,456.0,183.0,597.0,141.0,745.0,535.0,565.0,770.0,950.0,145.0,561.0,179.0,527.0,126.0,563.0,0.0,0.0,521.0,153.0,0.0,0.0,151.0,94.0,585.0,460.0,87.0,153.0,936.0,550.0,681.0,589.0,260.0,236.0,750.0,826.0,670.0,602.0,895.0,508.0,807.0,548.0,383.0,561.0,133.0,125.0,203.0,0.0,0.0,502.0,8223.0,618.0,0.0,1725.0,2571.0,2740.0,199.0,169.0,0.0,58.0,220.0,332.0,7455.0,0.0,238.0,250.0,0.0,8223.0,204.0,176.0,254.0,0.0,3516.0,0.0,0.0,92.0,0.0,0.0,0.0,95.0,120.0,117.0,158.0,166.0,162.0,0.0,245.0,153.0,233.0,0.0,97.0,199.0,151.0,129.0,0.0,0.0,198.0,0.0,0.0,0.0,126.0,74.0,139.0,0.0,168.0,0.0,544.0,0.0,58.0,210.0,301.0,200.0,263.0,132.0,0.0,131.0,157.0,66.0,138.0,217.0,0.0,0.0,197.0,254.0,0.0,0.0,249.0,0.0,181.0,203.0,312.0,171.0,192.0,288.0,0.0,80.0,170.0,189.0,119.0,331.0,209.0,0.0,0.0,133.0,0.0,0.0,156.0,434.0,152.0,127.0,0.0,0.0,108.0,103.0,248.0,629.0,843.0,213.0,1016.0,83.0,454.0,627.0,403.0,0.0,583.0,164.0,323.0,927.0,604.0,606.0,355.0,625.0,151.0,217.0,692.0,350.0,137.0,227.0,0.0,168.0,306.0,227.0,299.0,371.0,126.0,216.0,0.0,467.0,217.0,309.0,193.0,228.0,234.0,386.0,148.0,571.0,0.0,149.0,0.0,224.0,352.0,172.0,0.0,88.0,163.0,149.0,276.0,181.0,190.0,171.0,0.0,0.0,224.0,200.0,115.0,113.0,161.0,141.0,0.0,108.0,204.0,0.0,151.0,131.0,138.0,577.0,0.0,0.0,141.0,0.0,0.0,0.0,0.0,0.0,0.0,0.0,0.0,181.0,0.0,0.0,80.0,0.0,0.0,225.0,0.0,0.0,0.0,0.0,292.0,0.0,215.0,0.0,0.0,0.0,0.0,2122.0,221.0,191.0,734.0,0.0,141.0,0.0,0.0,211.0,0.0,480.0,163.0,194.0,154.0,0.0,132.0,0.0,0.0,176.0,0.0,146.0,0.0,0.0,0.0,0.0,0.0,176.0,0.0,358.0,178.0,163.0,149.0,0.0,181.0,0.0,0.0,0.0,0.0,0.0,0.0,0.0,0.0,760.0,0.0,0.0,0.0,0.0,2955.0,0.0,0.0,546.0,326.0,562.0,502.0,472.0,274.0,389.0,353.0,278.0,830.0,742.0,320.0,532.0,526.0,389.0,0.0,0.0,0.0,0.0,0.0,5530.0,384.0,420.0,1669.0,176.0,2335.0,0.0,2879.0,0.0,0.0,0.0,128.0,0.0,1034.0,0.0,1294.0,0.0,289.0,0.0,0.0,1409.0,0.0,507.0,0.0,0.0,0.0,0.0,124.0,683.0,0.0,0.0,0.0,1039.0,0.0,0.0,0.0,0.0,123.0,822.0,0.0,0.0,0.0,657.0,0.0,201.0,0.0,1235.0,0.0,0.0,0.0,361.0,436.0,361.0,797.0,0.0,0.0,1155.0,0.0,1458.0,0.0,1659.0,654.0,694.0,606.0,0.0,650.0,617.0,0.0,250.0,696.0,692.0,607.0,254.0,722.0,689.0,502.0,211.0,650.0,755.0,378.0,908.0,655.0,700.0,486.0,726.0,518.0,513.0,803.0,119.0,301.0,668.0,225.0,558.0,511.0,153.0,705.0,0.0,204.0,603.0,462.0,504.0,463.0,535.0,505.0,459.0,616.0,653.0,563.0,351.0,224.0,430.0,204.0,631.0,546.0,343.0,615.0,581.0,528.0,661.0,751.0,598.0,615.0,635.0,538.0,968.0,673.0,707.0,221.0,251.0,786.0,582.0,667.0,344.0,726.0,699.0,240.0,596.0,695.0,482.0,672.0,541.0,696.0,700.0,540.0,603.0,0.0,836.0,579.0,534.0,235.0,651.0,694.0,691.0,591.0,701.0,367.0,759.0,616.0,627.0,333.0,805.0,655.0,596.0,401.0,771.0,735.0,0.0,763.0,783.0,734.0,779.0,867.0,715.0,681.0,809.0,585.0,777.0,217.0,808.0,579.0,641.0,102.0,612.0,949.0,1025.0,247.0,88.0,101.0,702.0,951.0,632.0,335.0,217.0,1064.0,735.0,124.0,441.0,536.0,713.0,619.0,170.0,657.0,673.0,313.0,643.0,730.0,652.0,420.0,900.0,671.0,700.0,650.0,962.0,666.0,681.0,800.0,728.0,340.0,751.0,794.0,675.0,465.0,875.0,654.0,799.0,770.0,646.0,705.0,618.0,720.0,673.0,650.0,652.0,327.0,812.0,0.0,0.0,164.0,470.0,372.0,0.0,0.0,724.0,185.0,540.0,273.0,288.0,612.0,397.0,303.0,210.0,288.0,157.0,327.0,0.0,0.0,417.0,562.0,345.0,0.0,333.0,275.0,0.0,435.0,335.0,0.0,297.0,158.0,377.0,0.0,302.0,253.0,387.0,611.0,538.0,748.0,0.0,417.0,0.0,644.0,359.0,889.0,691.0,877.0,222.0,0.0,0.0,0.0,0.0,0.0,600.0,0.0,1317.0,294.0,564.0,732.0,0.0,117.0,0.0,57.0,0.0,516.0,268.0,684.0,565.0,0.0,0.0,0.0,575.0,0.0,363.0,656.0,669.0,704.0,577.0,865.0,696.0,197.0,177.0,608.0,834.0,531.0,700.0,628.0,698.0,660.0,583.0,567.0,605.0,308.0,302.0,591.0,280.0,671.0,327.0,903.0,670.0,605.0,798.0,767.0,604.0,319.0,0.0,762.0,355.0,0.0,506.0,0.0,265.0,54.0,0.0,0.0,0.0,0.0,547.0,801.0,0.0,0.0,0.0,320.0,507.0,0.0,332.0,338.0,515.0,315.0,373.0,0.0,348.0,310.0,430.0,84.0,364.0,782.0,506.0,217.0,418.0,0.0,466.0,307.0,233.0,0.0,648.0,185.0,0.0,0.0,249.0,0.0,265.0,506.0,369.0,765.0,260.0,500.0,0.0,0.0,311.0,0.0,440.0,598.0,0.0,0.0,138.0,317.0,0.0,0.0,0.0,521.0,0.0,0.0,0.0,0.0,1452.0,0.0,157.0,143.0,531.0,568.0,536.0,586.0,614.0,551.0,706.0,566.0,616.0,587.0,687.0,448.0,471.0,191.0,427.0,323.0,428.0,213.0,0.0,138.0,244.0,220.0,473.0,214.0,1555.0,197.0,261.0,477.0,165.0,462.0,319.0,644.0,148.0,766.0,902.0,0.0,0.0,352.0,0.0,0.0,464.0,670.0,0.0,0.0,240.0,417.0,438.0,297.0,189.0,341.0,306.0,168.0,446.0,411.0,206.0,448.0,558.0,128.0,542.0,386.0,229.0,455.0,435.0,463.0,235.0,0.0,261.0,488.0,169.0,463.0,470.0,208.0,171.0,0.0,757.0,976.0,559.0,217.0,670.0,578.0,676.0,809.0,465.0,839.0,578.0,229.0,593.0,0.0,1076.0,626.0,631.0,231.0,609.0,456.0,136.0,0.0,213.0,259.0,470.0,233.0,822.0,116.0,197.0,193.0,0.0,336.0,0.0,0.0,326.0,87.0,213.0,104.0,0.0,279.0,812.0,190.0],\"xaxis\":\"x\",\"y\":[1035000.0,1465000.0,1600000.0,1876000.0,1636000.0,1097000.0,1350000.0,750000.0,1310000.0,1200000.0,1176500.0,890000.0,1330000.0,500000.0,1100000.0,1315000.0,1447500.0,1135000.0,1290000.0,470000.0,1180000.0,1195000.0,1012500.0,1030000.0,840000.0,730000.0,770000.0,603000.0,700000.0,600000.0,500000.0,725000.0,450000.0,515000.0,530000.0,895000.0,805000.0,752000.0,700000.0,830000.0,675000.0,1042000.0,773000.0,810000.0,715000.0,540000.0,825000.0,685000.0,900000.0,1275000.0,2850000.0,1850000.0,1436000.0,2300000.0,1800000.0,2120000.0,1800000.0,2615000.0,1370000.0,1322500.0,1562500.0,2000000.0,3010000.0,2800000.0,2100000.0,2000000.0,442500.0,4735000.0,2140000.0,980000.0,1740000.0,985000.0,2000000.0,1717500.0,2840000.0,525500.0,805000.0,1830000.0,2100000.0,865000.0,390000.0,512000.0,1900000.0,1950000.0,520000.0,1525000.0,720000.0,1120000.0,1780000.0,630000.0,660000.0,580000.0,1335000.0,510000.0,425000.0,391000.0,845000.0,730000.0,447000.0,678000.0,580000.0,840000.0,577000.0,857000.0,730000.0,535600.0,1085000.0,781000.0,421000.0,683000.0,720000.0,588000.0,710000.0,875000.0,675000.0,708000.0,693000.0,620000.0,728500.0,931000.0,815000.0,1200000.0,292000.0,599000.0,995000.0,1205000.0,1939000.0,1870000.0,1918000.0,2050000.0,735000.0,1435000.0,280000.0,592500.0,1210000.0,2801000.0,1800000.0,2200000.0,5525000.0,440000.0,1300000.0,704000.0,620000.0,1900000.0,710000.0,598000.0,1285000.0,520000.0,3625000.0,4200000.0,1101000.0,3512500.0,869000.0,567000.0,940000.0,467000.0,1380000.0,490000.0,1850000.0,971000.0,710000.0,2425000.0,750000.0,1053000.0,1377000.0,970000.0,751000.0,950000.0,685000.0,1230000.0,770000.0,890000.0,1440000.0,1000000.0,1435000.0,390000.0,1425000.0,1340000.0,955000.0,1100000.0,432000.0,1640000.0,1430000.0,610000.0,940000.0,890000.0,1180000.0,1480000.0,865000.0,442000.0,1037500.0,1050000.0,440000.0,1430000.0,1130000.0,1135000.0,950000.0,390000.0,1345000.0,1381500.0,940000.0,995000.0,786000.0,705000.0,760000.0,1000000.0,1305000.0,1215000.0,545000.0,1705000.0,2650000.0,1670000.0,2050000.0,1555000.0,1100000.0,1337000.0,2950000.0,1518000.0,1710000.0,1655000.0,1550000.0,1662000.0,1665000.0,3510000.0,900000.0,2752000.0,1500000.0,1800000.0,1830000.0,1415000.0,1440000.0,1250000.0,1600000.0,1860000.0,1790000.0,1950000.0,1650000.0,1200000.0,1075000.0,1500000.0,700000.0,761000.0,1365000.0,1100000.0,690000.0,1631000.0,1500000.0,1529500.0,600000.0,1240000.0,700000.0,1110000.0,1305000.0,855000.0,900500.0,1200000.0,830000.0,850000.0,750000.0,851000.0,1155000.0,680000.0,627500.0,950000.0,705000.0,1100000.0,892500.0,522500.0,680000.0,875000.0,762000.0,411000.0,805000.0,634000.0,1819000.0,410000.0,1015000.0,502500.0,520000.0,442000.0,1193000.0,416000.0,474000.0,981000.0,1690000.0,540000.0,2100000.0,1800000.0,1255000.0,1070000.0,2570000.0,2400000.0,806000.0,4000000.0,2250000.0,2800000.0,1850000.0,700000.0,500000.0,2125000.0,1800000.0,635000.0,526000.0,905000.0,1750000.0,760000.0,1367000.0,1400000.0,3270000.0,625000.0,2730000.0,460000.0,1053000.0,1472000.0,754000.0,2188000.0,755000.0,3290000.0,2410000.0,650000.0,2000000.0,1900000.0,3401000.0,1750000.0,3020000.0,2450000.0,730000.0,1500000.0,1700000.0,1315000.0,1500000.0,3230000.0,1905000.0,3300000.0,1900000.0,2251000.0,2205000.0,1265000.0,1750000.0,1450000.0,2614000.0,1825000.0,3250000.0,1150000.0,1572000.0,1750000.0,1850000.0,2130000.0,3690000.0,1740000.0,2575000.0,1388800.0,1800000.0,2910000.0,2200000.0,1700000.0,1230000.0,2600000.0,1950000.0,1750000.0,2000000.0,1480000.0,1818000.0,2525000.0,3360000.0,1903000.0,1720000.0,1675000.0,1680000.0,4000000.0,2205000.0,2100000.0,685000.0,1335000.0,1900000.0,1040000.0,1250000.0,1875000.0,1530000.0,1700000.0,1651000.0,1920000.0,1560000.0,1038000.0,1660000.0,1770000.0,691500.0,875000.0,1425000.0,851000.0,1222500.0,1317500.0,360000.0,1435000.0,1110000.0,2435000.0,1500000.0,1300000.0,1125000.0,1328000.0,1340000.0,1155000.0,1275000.0,855000.0,650000.0,1815000.0,2255000.0,855000.0,1860000.0,725000.0,1293000.0,1328000.0,1247000.0,1370000.0,1095000.0,725000.0,825000.0,1235000.0,1165000.0,1910000.0,820000.0,1430000.0,910000.0,2520000.0,1900000.0,670000.0,680000.0,1320000.0,1900000.0,1535000.0,1281000.0,1385000.0,2620000.0,825000.0,746000.0,1275000.0,1025000.0,495000.0,1220000.0,885000.0,830000.0,1210000.0,1160000.0,1215000.0,1200000.0,1050000.0,950000.0,380000.0,1338000.0,651000.0,1390000.0,1100000.0,1206000.0,486500.0,1415000.0,1185000.0,1060000.0,845000.0,860000.0,921000.0,742500.0,920000.0,702000.0,805000.0,1100000.0,1050000.0,722000.0,930000.0,921000.0,1035000.0,1352000.0,1005000.0,1600000.0,1200000.0,780000.0,1250000.0,1110000.0,1690000.0,791000.0,900000.0,970000.0,823000.0,1045000.0,655000.0,1550000.0,835000.0,1465000.0,910000.0,920000.0,935000.0,977000.0,1352000.0,1115000.0,1197000.0,485000.0,1365000.0,1698888.0,965000.0,870000.0,1161000.0,1266000.0,700000.0,1325000.0,770000.0,380000.0,1175000.0,1200000.0,1370000.0,1433500.0,860000.0,715000.0,710000.0,1550000.0,790000.0,1020000.0,886000.0,1015000.0,1255000.0,1320000.0,870000.0,1472500.0,640000.0,1620000.0,645000.0,1560000.0,1715000.0,1200000.0,1760000.0,948000.0,465000.0,975000.0,1325000.0,750000.0,1400000.0,1500000.0,1600000.0,1461400.0,775000.0,1670000.0,4000000.0,928000.0,636000.0,1170000.0,1670000.0,857000.0,822500.0,645000.0,502000.0,495000.0,868000.0,645000.0,652000.0,850000.0,575000.0,882000.0,730000.0,610000.0,696000.0,579000.0,765000.0,475000.0,550000.0,495000.0,565000.0,1635000.0,3695000.0,536000.0,3700000.0,1975000.0,1390000.0,2905000.0,1300000.0,1725000.0,2100000.0,800000.0,1761000.0,1302500.0,2750000.0,892500.0,2145000.0,3171000.0,620000.0,1475000.0,1650000.0,1562500.0,2050000.0,3320000.0,1100000.0,1650000.0,1570000.0,1785000.0,1875000.0,1266000.0,2730000.0,3295888.0,375000.0,756000.0,2100000.0,2375000.0,1385000.0,858000.0,2800000.0,3700000.0,2475000.0,2700000.0,3900000.0,610000.0,1532000.0,1037000.0,3050000.0,1630000.0,2640000.0,671000.0,2250000.0,2900000.0,2405000.0,1352500.0,3105000.0,1500000.0,1940000.0,1850000.0,930000.0,1310000.0,2504000.0,1445000.0,1825000.0,1700000.0,1400000.0,1500000.0,1400000.0,1600000.0,1780000.0,1200000.0,775000.0,1480000.0,1590000.0,2840000.0,1000000.0,1700000.0,3207000.0,880000.0,1920000.0,1301000.0,2550000.0,1915000.0,1650000.0,1530000.0,2050000.0,2550000.0,905000.0,1355000.0,1845000.0,2050000.0,1710000.0,1300000.0,2200000.0,2150000.0,681000.0,1310000.0,340000.0,692000.0,1367000.0,903000.0,2820000.0,1813000.0,1655000.0,1230000.0,1389000.0,2310000.0,1014000.0,1026000.0,1802500.0,1500000.0,2230000.0,410000.0,272500.0,680000.0,400000.0,950000.0,845500.0,605000.0,445000.0,659500.0,600000.0,1115000.0,1125000.0,855000.0,940000.0,750000.0,1056000.0,880000.0,1222500.0,955000.0,587000.0,1060000.0,890000.0,685000.0,976000.0,641000.0,770000.0,279500.0,1800000.0,1350000.0,1320000.0,825000.0,1261000.0,1045000.0,1044000.0,1050000.0,1691500.0,1075000.0,501000.0,1260000.0,1650000.0,601000.0,1015000.0,625000.0,1700000.0,435000.0,2500000.0,860000.0,491000.0,985000.0,1250000.0,641000.0,860000.0,705000.0,880000.0,754000.0,590000.0,575000.0,1510000.0,801000.0,820000.0,370000.0,1170000.0,1790000.0,640000.0,1875000.0,1053000.0,705000.0,1217000.0,1020000.0,1340000.0,1410000.0,1550000.0,740000.0,592500.0,370000.0,765000.0,772000.0,1210000.0,1755000.0,945000.0,755000.0,521500.0,1190000.0,471000.0,265000.0,955000.0,1350000.0,380000.0,300000.0,810000.0,793000.0,400000.0,400500.0,797500.0,1300000.0,1330000.0,1205000.0,380000.0,1095000.0,680000.0,711000.0,500000.0,385000.0,370000.0,320000.0,330000.0,1200000.0,537000.0,910000.0,285000.0,921500.0,1315000.0,370000.0,735000.0,1000000.0,252000.0,1700000.0,820000.0,370000.0,484000.0,815000.0,1150000.0,497000.0,440000.0,816000.0,970000.0,851000.0,1300000.0,1235000.0,1303000.0,880000.0,975000.0,990000.0,1225000.0,1490000.0,905000.0,1085000.0,787000.0,1075000.0,1302000.0,1050000.0,1000000.0,1300000.0,990000.0,1100000.0,903000.0,1590000.0,1890000.0,1022500.0,1755000.0,1300000.0,1160000.0,2000000.0,790000.0,1682000.0,625000.0,650000.0,1060000.0,1255000.0,633000.0,1350000.0,570000.0,745000.0,2150000.0,746000.0,1540000.0,1270000.0,900000.0,1250000.0,1410000.0,800000.0,702000.0,2650000.0,729000.0,2600000.0,1650000.0,615000.0,1987000.0,683000.0,1690000.0,430000.0,2600000.0,2325000.0,435000.0,2000000.0,1302000.0,1622000.0,502000.0,435000.0,591000.0,2608000.0,1780000.0,2250000.0,895000.0,1800000.0,900000.0,2700000.0,530000.0,2228000.0,1602500.0,2177000.0,3400000.0,2105000.0,1625000.0,3300000.0,667000.0,2015000.0,700000.0,3225000.0,3320000.0,2125000.0,2030000.0,2750000.0,2000000.0,2250000.0,2740000.0,2950000.0,1587500.0,830000.0,2375000.0,2900000.0,2200000.0,2620000.0,1305000.0,928000.0,2930000.0,2950000.0,722000.0,2350000.0,1640000.0,1680000.0,3550000.0,3400000.0,1850000.0,3145000.0,1425000.0,2950000.0,2175000.0,800000.0,2718000.0,2400000.0,2520000.0,2050000.0,1950000.0,437000.0,520000.0,570000.0,820000.0,795000.0,600000.0,1295000.0,510000.0,346000.0,860000.0,772000.0,1506000.0,675000.0,525000.0,290000.0,360000.0,967500.0,330000.0,1600000.0,1008000.0,1170000.0,1830000.0,250000.0,930000.0,465000.0,1550000.0,707000.0,804000.0,1501000.0,970000.0,817500.0,1450000.0,855000.0,675000.0,588000.0,455000.0,920000.0,656000.0,930000.0,415000.0,650000.0,1360000.0,350000.0,1430000.0,1490000.0,1125000.0,405000.0,1655000.0,808000.0,370000.0,1880000.0,585000.0,450000.0,860000.0,605000.0,1518000.0,632500.0,435000.0,468250.0,1716000.0,365000.0,722500.0,550000.0,131000.0,1750000.0,580000.0,2005000.0,420000.0,290000.0,1400000.0,450000.0,536000.0,550000.0,2170000.0,1577500.0,1460000.0,275500.0,1065000.0,1030000.0,1225000.0,1450000.0,1774500.0,525500.0,825000.0,1262000.0,1340000.0,1200000.0,1001000.0,1330000.0,1570000.0,1916000.0,890000.0,700000.0,865000.0,1042500.0,1002000.0,650000.0,965000.0,1301000.0,1415500.0,1260000.0,1000000.0,845000.0,881000.0,780000.0,1060000.0,930000.0,1075000.0,1105000.0,1209000.0,3010000.0,1435000.0,1290000.0,495000.0,1370000.0,1450000.0,885500.0,825000.0,1506000.0,1360000.0,850000.0,784000.0,680000.0,807000.0,675000.0,1202000.0,1370000.0,1000000.0,145000.0,860000.0,953000.0,735000.0,947000.0,500000.0,466000.0,740000.0,812000.0,766000.0,825000.0,1131000.0,1064000.0,1210000.0,434000.0,653000.0,640000.0,1130000.0,763000.0,903000.0,1000000.0,1742000.0,865000.0,485000.0,1278000.0,590000.0,1136000.0,635000.0,1400000.0,1260000.0,841000.0,537500.0,598000.0,1120000.0,870000.0,680000.0,825000.0,725000.0,1250000.0,1008000.0,990000.0,451000.0,635000.0,1020000.0,1025000.0,700000.0,1130000.0,1075000.0,600000.0,1150000.0,515000.0,472000.0,901000.0,605000.0,687000.0,975000.0,1370000.0,700000.0,810000.0,838000.0,1150000.0,931000.0,241000.0,981000.0,570000.0,500000.0,655000.0,631000.0,600000.0,715000.0,864000.0,700000.0,591000.0,860000.0,765000.0,625000.0,745000.0,1050000.0,935000.0,820000.0,780000.0,707000.0,637000.0,950000.0,860000.0,1172000.0,650000.0,792000.0,720000.0,970000.0,890000.0,1260000.0,855000.0,1125000.0,910000.0,452000.0,415000.0,372000.0,1326000.0,1230000.0,855000.0,457000.0,897500.0,1265000.0,1075000.0,366000.0,981000.0,683000.0,1000000.0,887500.0,713500.0,1500000.0,672000.0,800000.0,1645000.0,860000.0,1403000.0,1450000.0,1396000.0,1125000.0,700000.0,1152000.0,1868000.0,1050000.0,910000.0,1850000.0,1225000.0,1316000.0,1400000.0,2168000.0,1430000.0,772000.0,1468000.0,753000.0,746000.0,1485000.0,1190000.0,900000.0,1250000.0,1030000.0,985000.0,1300000.0,1462500.0,1250000.0,1460800.0,1152500.0,1650000.0,1391000.0,452000.0,1102200.0,1401000.0,1782000.0,1520000.0,878000.0,973500.0,751800.0,1100000.0,1202000.0,1362000.0,1810000.0,1901000.0,1650000.0,1816000.0,525000.0,2050000.0,1930000.0,2600000.0,600000.0,1601000.0,1100000.0,2550000.0,1190000.0,2012000.0,2309000.0,900000.0,1625000.0,1100000.0,1755000.0,1400000.0,1240000.0,591000.0,537000.0,800000.0,965000.0,1160000.0,820000.0,2600000.0,1071000.0,1800000.0,2345000.0,741000.0,626000.0,1650000.0,850000.0,1750000.0,1450000.0,2806000.0,782000.0,1007000.0,1450000.0,500000.0,2600000.0,895000.0,2050000.0,1605000.0,520000.0,507000.0,525000.0,750000.0,510000.0,300000.0,1395000.0,855000.0,790000.0,550000.0,357000.0,1210000.0,825000.0,1050000.0,632000.0,485000.0,575000.0,590000.0,1238000.0,510000.0,1875000.0,780000.0,878500.0,3572000.0,560000.0,765000.0,670000.0,1625000.0,1122000.0,2400000.0,655000.0,684000.0,500000.0,680000.0,600000.0,370000.0,390000.0,630000.0,640000.0,932000.0,645000.0,347000.0,875000.0,582500.0,570000.0,1875000.0,340000.0,2200000.0,687500.0,730000.0,526000.0,920000.0,1830000.0,1425000.0,660000.0,550000.0,1295000.0,595000.0,911000.0,900000.0,645000.0,702500.0,960000.0,1670000.0,1100000.0,1800000.0,1250000.0,1130000.0,370000.0,1467000.0,2800000.0,1160000.0,2620000.0,1226000.0,1402000.0,855000.0,1275000.0,1590000.0,606000.0,1385000.0,650000.0,460000.0,1000000.0,520000.0,720000.0,1635000.0,485000.0,1575000.0,280000.0,1467000.0,890000.0,870000.0,1134000.0,320500.0,1065000.0,1610000.0,930000.0,395000.0,1470000.0,750000.0,390000.0,1170000.0,1600000.0,1535000.0,435000.0,1460000.0,736000.0,450000.0,740000.0,691000.0,2355000.0,1625000.0,1150000.0,360000.0,645000.0,250000.0,872000.0,630000.0,440000.0,1811000.0,1500000.0,1290000.0,1100000.0,1270000.0,1445000.0,1113000.0,370000.0,396000.0,450000.0,1360000.0,340000.0,765000.0,712000.0,1250000.0,1350000.0,1220000.0,1160000.0,505000.0,602000.0,846000.0,400000.0,445000.0,1730000.0,510000.0,1350000.0,2000000.0,805000.0,1055000.0,548000.0,1500000.0,600000.0,545000.0,1375000.0,1252000.0,810000.0,947500.0,1460000.0,880000.0,3310000.0,1250000.0,1950000.0,465000.0,1620000.0,850000.0,1122000.0,1300000.0,420000.0,715000.0,800000.0,710000.0,630000.0,4011000.0,700000.0,860000.0,870000.0,1450000.0,358500.0,770000.0,1008000.0,1015000.0,1371000.0,1286000.0,1600000.0,1950000.0,3400000.0,1785000.0,1210000.0,1275000.0,1290000.0,750000.0,675000.0,1700000.0,1080000.0,1222500.0,937500.0,1300000.0,1300000.0,2150000.0,1581000.0,602000.0,650000.0,1450000.0,365000.0,425000.0,391000.0,1130000.0,1110000.0,918000.0,730000.0,855000.0,1012000.0,395000.0,556000.0,345000.0,1100000.0,395000.0,1115000.0,420500.0,1225000.0,1003000.0,840000.0,1362000.0,977000.0,216000.0,876000.0,227000.0,841000.0,605000.0,305000.0,480000.0,910000.0,291000.0,752000.0,1155000.0,853000.0,480000.0,775000.0,281000.0,1300000.0,714000.0,950000.0,760000.0,420000.0,932000.0,780000.0,295000.0,433000.0,410000.0,1170000.0,375000.0,747000.0,775000.0,571000.0,305000.0,860500.0,370000.0,711000.0,690500.0,747000.0,858000.0,699000.0,835000.0,661000.0,757500.0,282000.0,699000.0,850000.0,315000.0,740000.0,980000.0,316000.0,760000.0,735000.0,1225000.0,767500.0,395000.0,815000.0,757000.0,1450000.0,745000.0,716000.0,1735000.0,3400000.0,3730000.0,1800000.0,1998000.0,671000.0,1425000.0,1530000.0,1900000.0,1360000.0,2175000.0,2325000.0,2538000.0,2300000.0,550000.0,1600000.0,2115000.0,1700000.0,2077000.0,2850000.0,411000.0,2020000.0,2010000.0,2975000.0,452000.0,1820000.0,291000.0,2376000.0,1456000.0,345000.0,2000000.0,585000.0,1700000.0,1375000.0,920000.0,382000.0,1280000.0,2825000.0,2825000.0,1825000.0,3085000.0,1600000.0,2352500.0,3860000.0,2625000.0,1950000.0,2200000.0,1751000.0,1857000.0,720000.0,1500000.0,2725000.0,2800000.0,1665000.0,600000.0,1420000.0,2410000.0,2100000.0,2950000.0,3365000.0,1931000.0,1250000.0,2400000.0,610000.0,610000.0,806500.0,550000.0,822000.0,980000.0,430000.0,540000.0,737000.0,460000.0,545000.0,670000.0,702000.0,730000.0,711500.0,810000.0,250000.0,460000.0,793000.0,340000.0,447500.0,588000.0,420000.0,410000.0,525000.0,703000.0,608000.0,607000.0,765500.0,470000.0,580000.0,620250.0,710000.0,630000.0,600000.0,550000.0,600000.0,1217500.0,600000.0,570000.0,762700.0,465000.0,741250.0,1000000.0,630000.0,670000.0,417000.0,600000.0,440000.0,660000.0,270000.0,825000.0,638000.0,631000.0,532000.0,504000.0,468000.0,802500.0,709000.0,485000.0,540000.0,390000.0,800000.0,740000.0,605000.0,685500.0,610000.0,630000.0,870000.0,810000.0,487000.0,700000.0,600500.0,730000.0,800000.0,750000.0,740000.0,646000.0,545000.0,777000.0,722000.0,545000.0,510000.0,631500.0,550000.0,330000.0,715888.0,468000.0,515000.0,895000.0,587000.0,2800000.0,3250000.0,2140000.0,1600000.0,1003500.0,802000.0,1560000.0,760000.0,616000.0,1680000.0,1120000.0,3200000.0,1250000.0,2000000.0,1805000.0,2600000.0,3470000.0,1050000.0,810000.0,1460000.0,3075000.0,875500.0,2600000.0,1705000.0,1515000.0,2980000.0,2200000.0,1100000.0,3325000.0,450000.0,500000.0,1460000.0,1740000.0,1800000.0,2160000.0,2250000.0,2130000.0,400000.0,926000.0,1070000.0,801000.0,1150000.0,472000.0,1300000.0,1200000.0,1650000.0,2670000.0,348000.0,1189000.0,610000.0,492000.0,806000.0,2000000.0,753000.0,330000.0,1420000.0,495000.0,292000.0,580000.0,1300000.0,1300000.0,440000.0,1000000.0,1741000.0,655000.0,488000.0,2065000.0,350000.0,1712000.0,480000.0,3225000.0,400000.0,1650000.0,3950000.0,587500.0,560000.0,1936000.0,4250000.0,630000.0,1560000.0,840000.0,1780000.0,815000.0,1975000.0,657500.0,5050000.0,445000.0,1180000.0,470000.0,485000.0,1800000.0,1855000.0,665000.0,1551000.0,612500.0,2410000.0,715000.0,1055000.0,1976000.0,499000.0,495000.0,3750000.0,1400000.0,370000.0,627500.0,815000.0,565000.0,994000.0,785000.0,620000.0,706750.0,584000.0,909000.0,1086000.0,680000.0,650000.0,890000.0,650000.0,605000.0,770000.0,950000.0,856000.0,600000.0,915000.0,400000.0,550000.0,590000.0,920000.0,460000.0,1000500.0,631000.0,691000.0,560000.0,370000.0,532000.0,515500.0,800000.0,620000.0,360000.0,440500.0,758000.0,480000.0,715000.0,646250.0,1375000.0,722000.0,725000.0,465000.0,1550000.0,516000.0,1340000.0,1316000.0,828000.0,1055000.0,623000.0,2120000.0,1745000.0,1700000.0,420000.0,1337000.0,455000.0,400000.0,1210000.0,1167500.0,900000.0,677500.0,2265000.0,981000.0,2400000.0,890000.0,739000.0,785000.0,1155000.0,1020000.0,1465000.0,855000.0,413000.0,1220000.0,1605000.0,587000.0,1535000.0,1470000.0,1486000.0,1730000.0,1850000.0,2600000.0,500000.0,1102000.0,1275000.0,785000.0,1223500.0,1720000.0,1225000.0,1460000.0,421000.0,2090000.0,700000.0,2595000.0,710000.0,650000.0,515000.0,582000.0,545000.0,751000.0,500000.0,560000.0,703000.0,650000.0,770000.0,900000.0,700000.0,816000.0,845000.0,772000.0,650000.0,757000.0,690000.0,583000.0,880000.0,580000.0,886000.0,920000.0,976000.0,1420000.0,900000.0,560000.0,1010000.0,835000.0,705000.0,680000.0,785000.0,695000.0,502000.0,770000.0,570000.0,830000.0,600000.0,825000.0,735000.0,875000.0,601200.0,680000.0,705000.0,710000.0,732000.0,715000.0,852000.0,1037000.0,1470000.0,492500.0,420000.0,420000.0,1271000.0,1010000.0,750000.0,905000.0,960000.0,1031000.0,870000.0,1165000.0,1710000.0,1455000.0,365000.0,442000.0,765000.0,515000.0,370000.0,1234500.0,666000.0,825000.0,812000.0,1900000.0,445000.0,732000.0,1260000.0,1000000.0,1155000.0,790000.0,700000.0,1230000.0,460000.0,395000.0,850000.0,868000.0,773000.0,631090.0,410000.0,425000.0,610000.0,882000.0,3550000.0,1326000.0,1950000.0,2550000.0,1878000.0,1910000.0,1410000.0,2310000.0,2315000.0,800000.0,4850000.0,6500000.0,580000.0,1905000.0,478000.0,672000.0,2286000.0,1575000.0,590000.0,2350000.0,1312000.0,890000.0,1331000.0,1800000.0,1476000.0,2590000.0,2625000.0,2265000.0,1975000.0,2550000.0,1330000.0,1450000.0,3650000.0,551000.0,2460000.0,2850000.0,2425000.0,610000.0,955000.0,707500.0,732000.0,2875000.0,1500000.0,1750000.0,1100000.0,1440000.0,2560000.0,2600000.0,3280000.0,620000.0,2600000.0,2800000.0,1420000.0,1800000.0,395000.0,2250000.0,1950000.0,605000.0,1920000.0,1615000.0,2081000.0,1315000.0,1750000.0,2100000.0,1300000.0,1315000.0,1620000.0,615000.0,715000.0,826000.0,275000.0,711000.0,695000.0,490000.0,502000.0,721000.0,840000.0,335000.0,832000.0,646000.0,673000.0,695000.0,349000.0,555000.0,352500.0,1350000.0,510000.0,490000.0,675000.0,865000.0,600000.0,773000.0,2050000.0,3460000.0,2400000.0,2025000.0,611000.0,3800000.0,1390000.0,2415000.0,566000.0,1437000.0,500000.0,3400000.0,2355000.0,4240000.0,1326000.0,4525000.0,1965000.0,3470000.0,740000.0,2325000.0,1970000.0,1475000.0,584000.0,1490000.0,1210000.0,2355000.0,1036000.0,2273000.0,2350000.0,2200000.0,790000.0,1185000.0,1837000.0,1253000.0,922000.0,4802500.0,350000.0,1555000.0,2123000.0,1700000.0,1150000.0,2001000.0,1915000.0,1135000.0,1240000.0,1120000.0,1500000.0,707500.0,835000.0,1870000.0,1580000.0,820000.0,480000.0,1680000.0,300000.0,1100000.0,373000.0,2560000.0,960000.0,315000.0,1297000.0,1015000.0,523000.0,1335000.0,425000.0,1670000.0,1350000.0,1650000.0,950000.0,1782500.0,650000.0,975000.0,560000.0,355000.0,550000.0,420000.0,399000.0,1105000.0,730000.0,662500.0,410000.0,920000.0,1320000.0,1150000.0,847000.0,400000.0,1072000.0,510000.0,865000.0,570000.0,1900000.0,429000.0,456000.0,566000.0,408000.0,470000.0,780000.0,440000.0,1048700.0,400000.0,1215000.0,1180000.0,1117000.0,420000.0,770000.0,1151000.0,907000.0,570000.0,820000.0,940000.0,1030000.0,1230000.0,884500.0,820000.0,780000.0,535000.0,450000.0,360000.0,665000.0,386000.0,659000.0,545000.0,450000.0,432000.0,750000.0,375000.0,680000.0,470000.0,483000.0,700000.0,520000.0,440000.0,733000.0,760000.0,360000.0,2600000.0,2350000.0,535000.0,700000.0,3120000.0,1025000.0,1920000.0,2623000.0,1500000.0,1630000.0,1910000.0,1320000.0,750000.0,2588000.0,1400000.0,2200000.0,1310000.0,2335000.0,1815000.0,725000.0,3900000.0,1200000.0,1564000.0,520000.0,670000.0,1055000.0,348000.0,1780000.0,1440000.0,1225000.0,1445000.0,990000.0,1550000.0,1170000.0,1120000.0,1530000.0,832000.0,420000.0,2400000.0,565000.0,550000.0,1211000.0,1630000.0,1160000.0,1361500.0,945000.0,360000.0,860000.0,1637000.0,1505000.0,515000.0,330000.0,1322000.0,1015000.0,840000.0,1900000.0,2340000.0,1400000.0,1640000.0,1480000.0,410000.0,980000.0,842500.0,1345000.0,265000.0,849000.0,1425000.0,1345000.0,330000.0,726000.0,1250000.0,870000.0,1725000.0,600000.0,1505000.0,850000.0,292000.0,1740000.0,470000.0,1130000.0,930000.0,336000.0,800000.0,1224000.0,1000000.0,380500.0,1090000.0,836000.0,1417250.0,950000.0,1140000.0,750000.0,1000000.0,1200000.0,987000.0,937000.0,1426000.0,1016000.0,901000.0,1300000.0,975000.0,1070000.0,639000.0,605000.0,960000.0,725000.0,800000.0,917000.0,890000.0,1008000.0,1191000.0,776000.0,1035000.0,1160000.0,240000.0,1105000.0,826000.0,900000.0,962000.0,800000.0,710000.0,940000.0,655800.0,1082000.0,1210000.0,880000.0,335000.0,1260000.0,1400000.0,995000.0,962000.0,800000.0,1305000.0,485000.0,810000.0,1620000.0,923000.0,1030000.0,1046000.0,740000.0,970000.0,735000.0,485000.0,950000.0,1280000.0,1040000.0,1115000.0,1176000.0,1265000.0,801000.0,770000.0,993000.0,650000.0,891500.0,805000.0,680000.0,793000.0,747000.0,896000.0,890000.0,930000.0,1151000.0,820000.0,816000.0,945000.0,643700.0,760000.0,881000.0,900000.0,830000.0,1126000.0,1235000.0,457000.0,660000.0,770000.0,1350000.0,820000.0,991000.0,657000.0,710000.0,840000.0,1400000.0,1080000.0,1015000.0,1245000.0,1105000.0,2920000.0,540000.0,726000.0,1340000.0,1105000.0,841000.0,528500.0,410000.0,550000.0,470000.0,640000.0,720000.0,1325000.0,368000.0,450000.0,1385000.0,990000.0,606000.0,450000.0,1470000.0,1010000.0,1266000.0,620000.0,630000.0,560000.0,665500.0,550055.0,358000.0,320000.0,1000000.0,598000.0,885000.0,587134.0,1286000.0,1200000.0,1382500.0,1600000.0,1710000.0,2000000.0,583000.0,650000.0,1700000.0,1575000.0,950000.0,1655000.0,1255000.0,1020000.0,435000.0,790000.0,605000.0,385000.0,1190000.0,865000.0,2175000.0,312000.0,890000.0,2700000.0,1101000.0,1050000.0,1010000.0,1900000.0,888000.0,1020000.0,844000.0,900000.0,1300000.0,810000.0,701000.0,665000.0,2315000.0,1170000.0,1715000.0,422000.0,1474000.0,1035000.0,460000.0,1760000.0,1095000.0,1225000.0,1211000.0,770000.0,1000000.0,1050000.0,1700000.0,2160000.0,400000.0,1420000.0,1950000.0,1820000.0,1080000.0,570000.0,1340000.0,2340000.0,1634000.0,910000.0,1650000.0,1510000.0,865000.0,476000.0,706000.0,920000.0,522000.0,690000.0,770000.0,1100000.0,475000.0,651000.0,815500.0,770000.0,585500.0,840000.0,470000.0,810000.0,855333.0,900000.0,875000.0,651000.0,802000.0,900000.0,1000000.0,801347.0,921000.0,1900000.0,752500.0,1067000.0,1260500.0,850500.0,1068000.0,937500.0,1126000.0,778000.0,1230000.0,1805000.0,2200000.0,1265000.0,1928000.0,526000.0,2236000.0,1403000.0,1120000.0,770000.0,975000.0,780000.0,600000.0,955000.0,1196000.0,731000.0,585000.0,480000.0,605000.0,738000.0,386000.0,452000.0,522500.0,741000.0,530000.0,815000.0,775000.0,950000.0,900000.0,835000.0,790000.0,810000.0,500000.0,485000.0,488000.0,900000.0,680000.0,590000.0,770000.0,975000.0,970000.0,600000.0,510000.0,750000.0,822000.0,430000.0,1350000.0,810000.0,550500.0,610000.0,533000.0,410000.0,600000.0,616000.0,960000.0,985000.0,670000.0,665000.0,880000.0,700000.0,600000.0,1570000.0,525500.0,612500.0,248500.0,960000.0,650000.0,500000.0,599000.0,1150000.0,985000.0,1200000.0,2200000.0,2105000.0,550000.0,1915000.0,1630000.0,1000000.0,1470000.0,725000.0,600000.0,1342000.0,500000.0,795000.0,590000.0,1100000.0,1275000.0,1000000.0,1820000.0,655000.0,1350000.0,1560000.0,1060000.0,1610000.0,1101000.0,880000.0,1080000.0,1115000.0,516000.0,1753000.0,900000.0,2350000.0,1670000.0,1402000.0,1570000.0,1150000.0,1384000.0,655000.0,456000.0,520000.0,470000.0,600000.0,670000.0,1400000.0,1520000.0,600000.0,2460000.0,3705000.0,950000.0,1350000.0,735000.0,400000.0,900000.0,1380000.0,1080000.0,342000.0,950000.0,781000.0,549800.0,492000.0,500500.0,1400000.0,685000.0,710000.0,330000.0,1245000.0,1182500.0,1303000.0,482500.0,585000.0,1106000.0,1590000.0,1055000.0,1100000.0,530000.0,1500000.0,841000.0,570000.0,560000.0,815000.0,910000.0,1450000.0,1540000.0,1811000.0,1180000.0,1720000.0,1050000.0,1582000.0,681000.0,1305000.0,1255000.0,2180000.0,1720000.0,1220000.0,1612000.0,1250000.0,930000.0,751000.0,715000.0,837000.0,950000.0,496000.0,850000.0,540000.0,1150000.0,615000.0,735000.0,810000.0,600000.0,1650000.0,600000.0,722000.0,1260000.0,485000.0,690000.0,1065000.0,1200000.0,530000.0,900000.0,700000.0,920000.0,980000.0,886000.0,1080000.0,1400000.0,660000.0,436000.0,876000.0,910000.0,714000.0,770000.0,810000.0,1127000.0,780000.0,986000.0,760000.0,1123000.0,300000.0,890000.0,425000.0,515000.0,1040000.0,890000.0,790000.0,860000.0,630000.0,875000.0,923000.0,920000.0,871000.0,950000.0,870000.0,1186000.0,610000.0,1162500.0,1142500.0,930000.0,875000.0,840000.0,750000.0,750000.0,475000.0,415000.0,731000.0,352000.0,723000.0,336000.0,685000.0,1025000.0,490000.0,805000.0,1005000.0,535000.0,800000.0,510000.0,651000.0,365000.0,405000.0,620500.0,260000.0,625000.0,427500.0,851000.0,998000.0,1030000.0,410000.0,1015000.0,915000.0,380000.0,530000.0,592000.0,440000.0,650000.0,416000.0,301000.0,865000.0,650000.0,401000.0,491000.0,810000.0,555000.0,350000.0,540000.0,682000.0,380000.0,350000.0,750000.0,495000.0,500000.0,350000.0,335000.0,546000.0,400000.0,360000.0,410000.0,836000.0,440000.0,376000.0,323000.0,680000.0,530000.0,786000.0,390000.0,650000.0,800000.0,330000.0,539000.0,622500.0,767500.0,780000.0,668000.0,470000.0,655000.0,440000.0,703000.0,424000.0,613000.0,475000.0,950000.0,730000.0,905000.0,480000.0,767000.0,450000.0,921500.0,490000.0,787000.0,300000.0,335000.0,475000.0,440000.0,216000.0,220000.0,340000.0,395000.0,790000.0,601000.0,300000.0,420000.0,885000.0,815000.0,882500.0,793000.0,550000.0,433000.0,680000.0,851000.0,1025000.0,784000.0,1186000.0,885000.0,718500.0,762500.0,610000.0,680000.0,390000.0,937000.0,1260000.0,795250.0,582000.0,370000.0,421000.0,3200000.0,479000.0,655000.0,561000.0,635000.0,1010000.0,1025000.0,550000.0,1375000.0,1506000.0,1350000.0,405000.0,327000.0,1474000.0,1555000.0,500000.0,345000.0,1275000.0,1150000.0,950000.0,270000.0,439000.0,695000.0,512000.0,855000.0,1040000.0,342000.0,681000.0,900000.0,1250000.0,990000.0,1189000.0,1220000.0,1100000.0,450000.0,1074000.0,1430000.0,1465000.0,391000.0,930000.0,1182000.0,777500.0,1115000.0,760000.0,640000.0,1420000.0,390000.0,380000.0,680000.0,1081000.0,860000.0,905000.0,691000.0,1088000.0,911000.0,3001000.0,638000.0,900000.0,1695000.0,1365000.0,1045000.0,1591000.0,1275000.0,1510000.0,1550000.0,1456000.0,1100000.0,1045000.0,2000000.0,646000.0,660000.0,1145000.0,905000.0,750000.0,604000.0,1645000.0,306000.0,1270000.0,1850000.0,1650000.0,1320000.0,1651000.0,1800000.0,791500.0,1600000.0,1200000.0,1555000.0,1582000.0,2055000.0,1345000.0,410000.0,696000.0,1350000.0,807000.0,385000.0,1150000.0,1775000.0,1270000.0,827500.0,560000.0,790000.0,1212500.0,1125000.0,1520000.0,1101500.0,1020000.0,560000.0,1050000.0,531000.0,620000.0,780000.0,821000.0,915000.0,890000.0,430000.0,1012000.0,1020000.0,1270000.0,515000.0,867000.0,945000.0,618000.0,601000.0,908000.0,1145000.0,970000.0,1325000.0,450000.0,1330000.0,1075000.0,1350000.0,1201000.0,990000.0,720000.0,880000.0,920000.0,1395000.0,965000.0,920000.0,875000.0,822500.0,1080000.0,1275000.0,955000.0,1455000.0,533000.0,970000.0,355000.0,1032000.0,1270000.0,815000.0,593000.0,1600000.0,1620000.0,1270000.0,2633000.0,1405000.0,2260000.0,1595000.0,595000.0,490000.0,1250000.0,2180000.0,930000.0,1200000.0,2000000.0,2000000.0,1050000.0,1250000.0,1650000.0,561000.0,1825000.0,1200000.0,1390000.0,1615000.0,2300000.0,742000.0,2075000.0,722000.0,850000.0,1230000.0,535000.0,990000.0,695000.0,775000.0,572000.0,1460000.0,623500.0,409000.0,1250000.0,659000.0,780000.0,1455000.0,360500.0,1300000.0,1300000.0,380000.0,5700000.0,515000.0,2695000.0,310000.0,627500.0,425000.0,330000.0,693000.0,2285000.0,3000000.0,515000.0,600000.0,2600000.0,320000.0,400000.0,1810000.0,567500.0,540000.0,2010000.0,1945000.0,906000.0,367000.0,1130000.0,500000.0,310000.0,1100000.0,410000.0,1125000.0,840000.0,1400000.0,680500.0,280000.0,520000.0,1200000.0,480000.0,2200000.0,1700000.0,1200000.0,1540000.0,826000.0,1700000.0,505000.0,720000.0,868000.0,530000.0,650000.0,990000.0,592500.0,600000.0,455000.0,1250000.0,425000.0,740000.0,660000.0,622500.0,800000.0,540000.0,370000.0,855000.0,832500.0,850000.0,1080000.0,927000.0,850000.0,831000.0,840000.0,1315000.0,1161000.0,1016000.0,690000.0,1070000.0,871500.0,380000.0,430000.0,602000.0,575000.0,495000.0,500000.0,1891000.0,2000000.0,1500000.0,2000000.0,500000.0,685000.0,380000.0,616000.0,400000.0,451000.0,1400000.0,459000.0,520000.0,370500.0,5046000.0,385000.0,1900000.0,390000.0,500000.0,430000.0,392000.0,1900000.0,540000.0,475000.0,570000.0,400000.0,920000.0,503500.0,580000.0,1295000.0,481000.0,1120000.0,400000.0,1210000.0,785000.0,450000.0,875000.0,650000.0,431000.0,385000.0,575000.0,4400000.0,535000.0,1200500.0,565000.0,520000.0,902000.0,1600000.0,750000.0,1365000.0,1950000.0,1678000.0,400000.0,500000.0,760000.0,580000.0,430000.0,1100000.0,435000.0,354000.0,1025000.0,1430000.0,1330000.0,1635000.0,1194000.0,1440000.0,1300000.0,850000.0,1150000.0,910000.0,1430000.0,622500.0,1500000.0,1280000.0,1485000.0,1080000.0,1715000.0,2650000.0,630000.0,1370000.0,800000.0,950000.0,780000.0,1350500.0,745000.0,657500.0,1030000.0,460000.0,490000.0,890000.0,425000.0,715000.0,816000.0,425500.0,610000.0,600000.0,611000.0,670000.0,605000.0,930000.0,880000.0,570000.0,700000.0,625000.0,695000.0,910000.0,607000.0,679500.0,500000.0,895000.0,410000.0,635000.0,480000.0,435000.0,560000.0,626800.0,571500.0,605000.0,600000.0,650000.0,736000.0,735000.0,700000.0,1190000.0,591000.0,665000.0,620000.0,503000.0,1000000.0,560000.0,615000.0,450000.0,680000.0,620000.0,545000.0,621000.0,687000.0,485000.0,510000.0,500000.0,480000.0,621000.0,690000.0,547500.0,280000.0,555000.0,600000.0,622500.0,350000.0,657000.0,682000.0,520000.0,470000.0,586000.0,305000.0,705000.0,645000.0,500000.0,510000.0,750500.0,451000.0,2440000.0,1110000.0,2128000.0,2200000.0,640000.0,1700000.0,2500000.0,2200000.0,2860000.0,1930000.0,1812500.0,760000.0,1300000.0,1960000.0,2630000.0,880000.0,1755000.0,1700000.0,1975000.0,610000.0,1850000.0,2050000.0,2100000.0,1150000.0,770500.0,600000.0,2125000.0,656000.0,1518000.0,1560000.0,865000.0,2160000.0,2300000.0,600000.0,2180000.0,1251000.0,1650000.0,1835000.0,778500.0,1201000.0,1165000.0,742500.0,1101000.0,1200000.0,990000.0,1500000.0,1290000.0,790000.0,950000.0,1421000.0,1051000.0,1710000.0,1280000.0,750000.0,1000000.0,678000.0,1010000.0,1210000.0,945000.0,725000.0,1211000.0,1100000.0,1002000.0,1209000.0,2080000.0,1118000.0,903000.0,1220000.0,1650000.0,1182500.0,1020000.0,650000.0,1509000.0,517500.0,370000.0,805000.0,1428888.0,940000.0,270000.0,365000.0,525500.0,944000.0,887000.0,701000.0,1110000.0,332000.0,1265000.0,1085000.0,898000.0,1235000.0,910500.0,995000.0,760000.0,505000.0,1400000.0,1110000.0,1200000.0,450000.0,874000.0,1427000.0,383000.0,1290000.0,450000.0,438000.0,1250000.0,1070000.0,1570000.0,486000.0,1211000.0,1280000.0,1478000.0,1913000.0,928500.0,432500.0,330000.0,1370000.0,303500.0,1160000.0,1380000.0,1435000.0,5500000.0,5500000.0,1689000.0,1100000.0,925000.0,450000.0,349000.0,2650000.0,2820000.0,810000.0,2840000.0,2700000.0,6250000.0,4500000.0,541000.0,1550000.0,2205000.0,950000.0,366000.0,2620000.0,1900000.0,4000000.0,4200000.0,690000.0,511000.0,910000.0,2250000.0,525000.0,3270000.0,960000.0,1010000.0,880000.0,770000.0,730000.0,1005000.0,555000.0,546000.0,765000.0,920000.0,1025000.0,895000.0,820000.0,870000.0,1050000.0,660000.0,581000.0,600000.0,690000.0,582000.0,740000.0,671000.0,741000.0,537000.0,1040000.0,1171000.0,662000.0,922000.0,860500.0,702000.0,627500.0,549000.0,701000.0,645000.0,1010000.0,1260000.0,460000.0,2370000.0,800000.0,550000.0,660000.0,1055000.0,995000.0,443000.0,1120000.0,482000.0,620000.0,601000.0,1400000.0,1535000.0,890000.0,1800000.0,2910000.0,2910000.0,1200000.0,1460000.0,310000.0,1200000.0,1560000.0,1575000.0,830000.0,1470000.0,2230000.0,1460000.0,1330000.0,1010000.0,513500.0,1805000.0,1126000.0,935000.0,375000.0,2050000.0,1310000.0,491500.0,547500.0,1210000.0,412000.0,1630000.0,1482500.0,1300000.0,2255000.0,1710000.0,2440000.0,380000.0,367500.0,1225000.0,580000.0,2302000.0,611000.0,800000.0,275000.0,1540000.0,1370000.0,452000.0,501000.0,380000.0,1177000.0,600000.0,1500000.0,830000.0,1200000.0,600000.0,474000.0,1350000.0,1910000.0,915000.0,810000.0,753000.0,602500.0,742000.0,953000.0,650000.0,731000.0,710000.0,936000.0,721000.0,1000000.0,890000.0,1165000.0,1550000.0,770000.0,871000.0,780000.0,650000.0,770000.0,1235000.0,1000000.0,1320000.0,1100000.0,782000.0,910000.0,856000.0,670000.0,706000.0,1050000.0,1320000.0,1815000.0,630000.0,1870000.0,1930000.0,510000.0,381000.0,1040000.0,470000.0,501344.0,796000.0,1055000.0,620000.0,345000.0,950000.0,1200000.0,1005000.0,1340000.0,865000.0,781500.0,1401000.0,630000.0,1137500.0,1158000.0,955000.0,1081000.0,725000.0,767000.0,1450000.0,1430000.0,1275000.0,1606000.0,780000.0,670000.0,1380000.0,480500.0,1520000.0,1287000.0,800000.0,1460000.0,840000.0,900500.0,940000.0,380000.0,1646000.0,470000.0,1346000.0,935000.0,3900000.0,1150000.0,1720000.0,1705000.0,1190000.0,1740000.0,1200000.0,726000.0,1300000.0,670000.0,1350000.0,773000.0,645000.0,720000.0,625000.0,1310000.0,856000.0,580000.0,940000.0,1495000.0,1550000.0,1815000.0,1625000.0,899000.0,435000.0,1080000.0,656000.0,1574000.0,665000.0,590000.0,1679000.0,1050000.0,825000.0,998000.0,1010000.0,1050000.0,1600000.0,1325000.0],\"yaxis\":\"y\",\"type\":\"scattergl\"}],                        {\"template\":{\"data\":{\"bar\":[{\"error_x\":{\"color\":\"#2a3f5f\"},\"error_y\":{\"color\":\"#2a3f5f\"},\"marker\":{\"line\":{\"color\":\"#E5ECF6\",\"width\":0.5},\"pattern\":{\"fillmode\":\"overlay\",\"size\":10,\"solidity\":0.2}},\"type\":\"bar\"}],\"barpolar\":[{\"marker\":{\"line\":{\"color\":\"#E5ECF6\",\"width\":0.5},\"pattern\":{\"fillmode\":\"overlay\",\"size\":10,\"solidity\":0.2}},\"type\":\"barpolar\"}],\"carpet\":[{\"aaxis\":{\"endlinecolor\":\"#2a3f5f\",\"gridcolor\":\"white\",\"linecolor\":\"white\",\"minorgridcolor\":\"white\",\"startlinecolor\":\"#2a3f5f\"},\"baxis\":{\"endlinecolor\":\"#2a3f5f\",\"gridcolor\":\"white\",\"linecolor\":\"white\",\"minorgridcolor\":\"white\",\"startlinecolor\":\"#2a3f5f\"},\"type\":\"carpet\"}],\"choropleth\":[{\"colorbar\":{\"outlinewidth\":0,\"ticks\":\"\"},\"type\":\"choropleth\"}],\"contour\":[{\"colorbar\":{\"outlinewidth\":0,\"ticks\":\"\"},\"colorscale\":[[0.0,\"#0d0887\"],[0.1111111111111111,\"#46039f\"],[0.2222222222222222,\"#7201a8\"],[0.3333333333333333,\"#9c179e\"],[0.4444444444444444,\"#bd3786\"],[0.5555555555555556,\"#d8576b\"],[0.6666666666666666,\"#ed7953\"],[0.7777777777777778,\"#fb9f3a\"],[0.8888888888888888,\"#fdca26\"],[1.0,\"#f0f921\"]],\"type\":\"contour\"}],\"contourcarpet\":[{\"colorbar\":{\"outlinewidth\":0,\"ticks\":\"\"},\"type\":\"contourcarpet\"}],\"heatmap\":[{\"colorbar\":{\"outlinewidth\":0,\"ticks\":\"\"},\"colorscale\":[[0.0,\"#0d0887\"],[0.1111111111111111,\"#46039f\"],[0.2222222222222222,\"#7201a8\"],[0.3333333333333333,\"#9c179e\"],[0.4444444444444444,\"#bd3786\"],[0.5555555555555556,\"#d8576b\"],[0.6666666666666666,\"#ed7953\"],[0.7777777777777778,\"#fb9f3a\"],[0.8888888888888888,\"#fdca26\"],[1.0,\"#f0f921\"]],\"type\":\"heatmap\"}],\"heatmapgl\":[{\"colorbar\":{\"outlinewidth\":0,\"ticks\":\"\"},\"colorscale\":[[0.0,\"#0d0887\"],[0.1111111111111111,\"#46039f\"],[0.2222222222222222,\"#7201a8\"],[0.3333333333333333,\"#9c179e\"],[0.4444444444444444,\"#bd3786\"],[0.5555555555555556,\"#d8576b\"],[0.6666666666666666,\"#ed7953\"],[0.7777777777777778,\"#fb9f3a\"],[0.8888888888888888,\"#fdca26\"],[1.0,\"#f0f921\"]],\"type\":\"heatmapgl\"}],\"histogram\":[{\"marker\":{\"pattern\":{\"fillmode\":\"overlay\",\"size\":10,\"solidity\":0.2}},\"type\":\"histogram\"}],\"histogram2d\":[{\"colorbar\":{\"outlinewidth\":0,\"ticks\":\"\"},\"colorscale\":[[0.0,\"#0d0887\"],[0.1111111111111111,\"#46039f\"],[0.2222222222222222,\"#7201a8\"],[0.3333333333333333,\"#9c179e\"],[0.4444444444444444,\"#bd3786\"],[0.5555555555555556,\"#d8576b\"],[0.6666666666666666,\"#ed7953\"],[0.7777777777777778,\"#fb9f3a\"],[0.8888888888888888,\"#fdca26\"],[1.0,\"#f0f921\"]],\"type\":\"histogram2d\"}],\"histogram2dcontour\":[{\"colorbar\":{\"outlinewidth\":0,\"ticks\":\"\"},\"colorscale\":[[0.0,\"#0d0887\"],[0.1111111111111111,\"#46039f\"],[0.2222222222222222,\"#7201a8\"],[0.3333333333333333,\"#9c179e\"],[0.4444444444444444,\"#bd3786\"],[0.5555555555555556,\"#d8576b\"],[0.6666666666666666,\"#ed7953\"],[0.7777777777777778,\"#fb9f3a\"],[0.8888888888888888,\"#fdca26\"],[1.0,\"#f0f921\"]],\"type\":\"histogram2dcontour\"}],\"mesh3d\":[{\"colorbar\":{\"outlinewidth\":0,\"ticks\":\"\"},\"type\":\"mesh3d\"}],\"parcoords\":[{\"line\":{\"colorbar\":{\"outlinewidth\":0,\"ticks\":\"\"}},\"type\":\"parcoords\"}],\"pie\":[{\"automargin\":true,\"type\":\"pie\"}],\"scatter\":[{\"marker\":{\"colorbar\":{\"outlinewidth\":0,\"ticks\":\"\"}},\"type\":\"scatter\"}],\"scatter3d\":[{\"line\":{\"colorbar\":{\"outlinewidth\":0,\"ticks\":\"\"}},\"marker\":{\"colorbar\":{\"outlinewidth\":0,\"ticks\":\"\"}},\"type\":\"scatter3d\"}],\"scattercarpet\":[{\"marker\":{\"colorbar\":{\"outlinewidth\":0,\"ticks\":\"\"}},\"type\":\"scattercarpet\"}],\"scattergeo\":[{\"marker\":{\"colorbar\":{\"outlinewidth\":0,\"ticks\":\"\"}},\"type\":\"scattergeo\"}],\"scattergl\":[{\"marker\":{\"colorbar\":{\"outlinewidth\":0,\"ticks\":\"\"}},\"type\":\"scattergl\"}],\"scattermapbox\":[{\"marker\":{\"colorbar\":{\"outlinewidth\":0,\"ticks\":\"\"}},\"type\":\"scattermapbox\"}],\"scatterpolar\":[{\"marker\":{\"colorbar\":{\"outlinewidth\":0,\"ticks\":\"\"}},\"type\":\"scatterpolar\"}],\"scatterpolargl\":[{\"marker\":{\"colorbar\":{\"outlinewidth\":0,\"ticks\":\"\"}},\"type\":\"scatterpolargl\"}],\"scatterternary\":[{\"marker\":{\"colorbar\":{\"outlinewidth\":0,\"ticks\":\"\"}},\"type\":\"scatterternary\"}],\"surface\":[{\"colorbar\":{\"outlinewidth\":0,\"ticks\":\"\"},\"colorscale\":[[0.0,\"#0d0887\"],[0.1111111111111111,\"#46039f\"],[0.2222222222222222,\"#7201a8\"],[0.3333333333333333,\"#9c179e\"],[0.4444444444444444,\"#bd3786\"],[0.5555555555555556,\"#d8576b\"],[0.6666666666666666,\"#ed7953\"],[0.7777777777777778,\"#fb9f3a\"],[0.8888888888888888,\"#fdca26\"],[1.0,\"#f0f921\"]],\"type\":\"surface\"}],\"table\":[{\"cells\":{\"fill\":{\"color\":\"#EBF0F8\"},\"line\":{\"color\":\"white\"}},\"header\":{\"fill\":{\"color\":\"#C8D4E3\"},\"line\":{\"color\":\"white\"}},\"type\":\"table\"}]},\"layout\":{\"annotationdefaults\":{\"arrowcolor\":\"#2a3f5f\",\"arrowhead\":0,\"arrowwidth\":1},\"autotypenumbers\":\"strict\",\"coloraxis\":{\"colorbar\":{\"outlinewidth\":0,\"ticks\":\"\"}},\"colorscale\":{\"diverging\":[[0,\"#8e0152\"],[0.1,\"#c51b7d\"],[0.2,\"#de77ae\"],[0.3,\"#f1b6da\"],[0.4,\"#fde0ef\"],[0.5,\"#f7f7f7\"],[0.6,\"#e6f5d0\"],[0.7,\"#b8e186\"],[0.8,\"#7fbc41\"],[0.9,\"#4d9221\"],[1,\"#276419\"]],\"sequential\":[[0.0,\"#0d0887\"],[0.1111111111111111,\"#46039f\"],[0.2222222222222222,\"#7201a8\"],[0.3333333333333333,\"#9c179e\"],[0.4444444444444444,\"#bd3786\"],[0.5555555555555556,\"#d8576b\"],[0.6666666666666666,\"#ed7953\"],[0.7777777777777778,\"#fb9f3a\"],[0.8888888888888888,\"#fdca26\"],[1.0,\"#f0f921\"]],\"sequentialminus\":[[0.0,\"#0d0887\"],[0.1111111111111111,\"#46039f\"],[0.2222222222222222,\"#7201a8\"],[0.3333333333333333,\"#9c179e\"],[0.4444444444444444,\"#bd3786\"],[0.5555555555555556,\"#d8576b\"],[0.6666666666666666,\"#ed7953\"],[0.7777777777777778,\"#fb9f3a\"],[0.8888888888888888,\"#fdca26\"],[1.0,\"#f0f921\"]]},\"colorway\":[\"#636efa\",\"#EF553B\",\"#00cc96\",\"#ab63fa\",\"#FFA15A\",\"#19d3f3\",\"#FF6692\",\"#B6E880\",\"#FF97FF\",\"#FECB52\"],\"font\":{\"color\":\"#2a3f5f\"},\"geo\":{\"bgcolor\":\"white\",\"lakecolor\":\"white\",\"landcolor\":\"#E5ECF6\",\"showlakes\":true,\"showland\":true,\"subunitcolor\":\"white\"},\"hoverlabel\":{\"align\":\"left\"},\"hovermode\":\"closest\",\"mapbox\":{\"style\":\"light\"},\"paper_bgcolor\":\"white\",\"plot_bgcolor\":\"#E5ECF6\",\"polar\":{\"angularaxis\":{\"gridcolor\":\"white\",\"linecolor\":\"white\",\"ticks\":\"\"},\"bgcolor\":\"#E5ECF6\",\"radialaxis\":{\"gridcolor\":\"white\",\"linecolor\":\"white\",\"ticks\":\"\"}},\"scene\":{\"xaxis\":{\"backgroundcolor\":\"#E5ECF6\",\"gridcolor\":\"white\",\"gridwidth\":2,\"linecolor\":\"white\",\"showbackground\":true,\"ticks\":\"\",\"zerolinecolor\":\"white\"},\"yaxis\":{\"backgroundcolor\":\"#E5ECF6\",\"gridcolor\":\"white\",\"gridwidth\":2,\"linecolor\":\"white\",\"showbackground\":true,\"ticks\":\"\",\"zerolinecolor\":\"white\"},\"zaxis\":{\"backgroundcolor\":\"#E5ECF6\",\"gridcolor\":\"white\",\"gridwidth\":2,\"linecolor\":\"white\",\"showbackground\":true,\"ticks\":\"\",\"zerolinecolor\":\"white\"}},\"shapedefaults\":{\"line\":{\"color\":\"#2a3f5f\"}},\"ternary\":{\"aaxis\":{\"gridcolor\":\"white\",\"linecolor\":\"white\",\"ticks\":\"\"},\"baxis\":{\"gridcolor\":\"white\",\"linecolor\":\"white\",\"ticks\":\"\"},\"bgcolor\":\"#E5ECF6\",\"caxis\":{\"gridcolor\":\"white\",\"linecolor\":\"white\",\"ticks\":\"\"}},\"title\":{\"x\":0.05},\"xaxis\":{\"automargin\":true,\"gridcolor\":\"white\",\"linecolor\":\"white\",\"ticks\":\"\",\"title\":{\"standoff\":15},\"zerolinecolor\":\"white\",\"zerolinewidth\":2},\"yaxis\":{\"automargin\":true,\"gridcolor\":\"white\",\"linecolor\":\"white\",\"ticks\":\"\",\"title\":{\"standoff\":15},\"zerolinecolor\":\"white\",\"zerolinewidth\":2}}},\"xaxis\":{\"anchor\":\"y\",\"domain\":[0.0,1.0],\"title\":{\"text\":\"Landsize\"},\"range\":[0,2000]},\"yaxis\":{\"anchor\":\"x\",\"domain\":[0.0,1.0],\"title\":{\"text\":\"Price\"},\"range\":[0,4000000]},\"legend\":{\"tracegroupgap\":0},\"margin\":{\"t\":60},\"width\":1000},                        {\"responsive\": true}                    ).then(function(){\n",
              "                            \n",
              "var gd = document.getElementById('63a2f61c-4a6c-48dd-9c11-e58b8569e1b3');\n",
              "var x = new MutationObserver(function (mutations, observer) {{\n",
              "        var display = window.getComputedStyle(gd).display;\n",
              "        if (!display || display === 'none') {{\n",
              "            console.log([gd, 'removed!']);\n",
              "            Plotly.purge(gd);\n",
              "            observer.disconnect();\n",
              "        }}\n",
              "}});\n",
              "\n",
              "// Listen for the removal of the full notebook cells\n",
              "var notebookContainer = gd.closest('#notebook-container');\n",
              "if (notebookContainer) {{\n",
              "    x.observe(notebookContainer, {childList: true});\n",
              "}}\n",
              "\n",
              "// Listen for the clearing of the current output cell\n",
              "var outputEl = gd.closest('.output');\n",
              "if (outputEl) {{\n",
              "    x.observe(outputEl, {childList: true});\n",
              "}}\n",
              "\n",
              "                        })                };                            </script>        </div>\n",
              "</body>\n",
              "</html>"
            ]
          },
          "metadata": {}
        }
      ],
      "id": "8NmKZ6CnvjaC"
    },
    {
      "cell_type": "markdown",
      "source": [
        "We can see that the more the landsize increases the price increses"
      ],
      "metadata": {
        "id": "00lsblJlTXWK"
      },
      "id": "00lsblJlTXWK"
    },
    {
      "cell_type": "code",
      "source": [
        "fig = px.scatter(x=df['Distance'], y=df['Price'],color=df['Price'])\n",
        "fig.update_layout(\n",
        "    xaxis_title=\"Distance\",\n",
        "    yaxis_title=\"Price\",\n",
        "    width=1000\n",
        ")\n",
        "fig.show()"
      ],
      "metadata": {
        "id": "G-SU6eUwwCc7",
        "colab": {
          "base_uri": "https://localhost:8080/",
          "height": 542
        },
        "outputId": "2469e9fb-50c7-4cbc-9754-2564cf3d63c6"
      },
      "execution_count": 47,
      "outputs": [
        {
          "output_type": "display_data",
          "data": {
            "text/html": [
              "<html>\n",
              "<head><meta charset=\"utf-8\" /></head>\n",
              "<body>\n",
              "    <div>            <script src=\"https://cdnjs.cloudflare.com/ajax/libs/mathjax/2.7.5/MathJax.js?config=TeX-AMS-MML_SVG\"></script><script type=\"text/javascript\">if (window.MathJax) {MathJax.Hub.Config({SVG: {font: \"STIX-Web\"}});}</script>                <script type=\"text/javascript\">window.PlotlyConfig = {MathJaxConfig: 'local'};</script>\n",
              "        <script src=\"https://cdn.plot.ly/plotly-2.8.3.min.js\"></script>                <div id=\"fdae2094-d67d-4025-8112-089724c26ac0\" class=\"plotly-graph-div\" style=\"height:525px; width:1000px;\"></div>            <script type=\"text/javascript\">                                    window.PLOTLYENV=window.PLOTLYENV || {};                                    if (document.getElementById(\"fdae2094-d67d-4025-8112-089724c26ac0\")) {                    Plotly.newPlot(                        \"fdae2094-d67d-4025-8112-089724c26ac0\",                        [{\"hovertemplate\":\"x=%{x}<br>y=%{y}<br>color=%{marker.color}<extra></extra>\",\"legendgroup\":\"\",\"marker\":{\"color\":[1035000.0,1465000.0,1600000.0,1876000.0,1636000.0,1097000.0,1350000.0,750000.0,1310000.0,1200000.0,1176500.0,890000.0,1330000.0,500000.0,1100000.0,1315000.0,1447500.0,1135000.0,1290000.0,470000.0,1180000.0,1195000.0,1012500.0,1030000.0,840000.0,730000.0,770000.0,603000.0,700000.0,600000.0,500000.0,725000.0,450000.0,515000.0,530000.0,895000.0,805000.0,752000.0,700000.0,830000.0,675000.0,1042000.0,773000.0,810000.0,715000.0,540000.0,825000.0,685000.0,900000.0,1275000.0,2850000.0,1850000.0,1436000.0,2300000.0,1800000.0,2120000.0,1800000.0,2615000.0,1370000.0,1322500.0,1562500.0,2000000.0,3010000.0,2800000.0,2100000.0,2000000.0,442500.0,4735000.0,2140000.0,980000.0,1740000.0,985000.0,2000000.0,1717500.0,2840000.0,525500.0,805000.0,1830000.0,2100000.0,865000.0,390000.0,512000.0,1900000.0,1950000.0,520000.0,1525000.0,720000.0,1120000.0,1780000.0,630000.0,660000.0,580000.0,1335000.0,510000.0,425000.0,391000.0,845000.0,730000.0,447000.0,678000.0,580000.0,840000.0,577000.0,857000.0,730000.0,535600.0,1085000.0,781000.0,421000.0,683000.0,720000.0,588000.0,710000.0,875000.0,675000.0,708000.0,693000.0,620000.0,728500.0,931000.0,815000.0,1200000.0,292000.0,599000.0,995000.0,1205000.0,1939000.0,1870000.0,1918000.0,2050000.0,735000.0,1435000.0,280000.0,592500.0,1210000.0,2801000.0,1800000.0,2200000.0,5525000.0,440000.0,1300000.0,704000.0,620000.0,1900000.0,710000.0,598000.0,1285000.0,520000.0,3625000.0,4200000.0,1101000.0,3512500.0,869000.0,567000.0,940000.0,467000.0,1380000.0,490000.0,1850000.0,971000.0,710000.0,2425000.0,750000.0,1053000.0,1377000.0,970000.0,751000.0,950000.0,685000.0,1230000.0,770000.0,890000.0,1440000.0,1000000.0,1435000.0,390000.0,1425000.0,1340000.0,955000.0,1100000.0,432000.0,1640000.0,1430000.0,610000.0,940000.0,890000.0,1180000.0,1480000.0,865000.0,442000.0,1037500.0,1050000.0,440000.0,1430000.0,1130000.0,1135000.0,950000.0,390000.0,1345000.0,1381500.0,940000.0,995000.0,786000.0,705000.0,760000.0,1000000.0,1305000.0,1215000.0,545000.0,1705000.0,2650000.0,1670000.0,2050000.0,1555000.0,1100000.0,1337000.0,2950000.0,1518000.0,1710000.0,1655000.0,1550000.0,1662000.0,1665000.0,3510000.0,900000.0,2752000.0,1500000.0,1800000.0,1830000.0,1415000.0,1440000.0,1250000.0,1600000.0,1860000.0,1790000.0,1950000.0,1650000.0,1200000.0,1075000.0,1500000.0,700000.0,761000.0,1365000.0,1100000.0,690000.0,1631000.0,1500000.0,1529500.0,600000.0,1240000.0,700000.0,1110000.0,1305000.0,855000.0,900500.0,1200000.0,830000.0,850000.0,750000.0,851000.0,1155000.0,680000.0,627500.0,950000.0,705000.0,1100000.0,892500.0,522500.0,680000.0,875000.0,762000.0,411000.0,805000.0,634000.0,1819000.0,410000.0,1015000.0,502500.0,520000.0,442000.0,1193000.0,416000.0,474000.0,981000.0,1690000.0,540000.0,2100000.0,1800000.0,1255000.0,1070000.0,2570000.0,2400000.0,806000.0,4000000.0,2250000.0,2800000.0,1850000.0,700000.0,500000.0,2125000.0,1800000.0,635000.0,526000.0,905000.0,1750000.0,760000.0,1367000.0,1400000.0,3270000.0,625000.0,2730000.0,460000.0,1053000.0,1472000.0,754000.0,2188000.0,755000.0,3290000.0,2410000.0,650000.0,2000000.0,1900000.0,3401000.0,1750000.0,3020000.0,2450000.0,730000.0,1500000.0,1700000.0,1315000.0,1500000.0,3230000.0,1905000.0,3300000.0,1900000.0,2251000.0,2205000.0,1265000.0,1750000.0,1450000.0,2614000.0,1825000.0,3250000.0,1150000.0,1572000.0,1750000.0,1850000.0,2130000.0,3690000.0,1740000.0,2575000.0,1388800.0,1800000.0,2910000.0,2200000.0,1700000.0,1230000.0,2600000.0,1950000.0,1750000.0,2000000.0,1480000.0,1818000.0,2525000.0,3360000.0,1903000.0,1720000.0,1675000.0,1680000.0,4000000.0,2205000.0,2100000.0,685000.0,1335000.0,1900000.0,1040000.0,1250000.0,1875000.0,1530000.0,1700000.0,1651000.0,1920000.0,1560000.0,1038000.0,1660000.0,1770000.0,691500.0,875000.0,1425000.0,851000.0,1222500.0,1317500.0,360000.0,1435000.0,1110000.0,2435000.0,1500000.0,1300000.0,1125000.0,1328000.0,1340000.0,1155000.0,1275000.0,855000.0,650000.0,1815000.0,2255000.0,855000.0,1860000.0,725000.0,1293000.0,1328000.0,1247000.0,1370000.0,1095000.0,725000.0,825000.0,1235000.0,1165000.0,1910000.0,820000.0,1430000.0,910000.0,2520000.0,1900000.0,670000.0,680000.0,1320000.0,1900000.0,1535000.0,1281000.0,1385000.0,2620000.0,825000.0,746000.0,1275000.0,1025000.0,495000.0,1220000.0,885000.0,830000.0,1210000.0,1160000.0,1215000.0,1200000.0,1050000.0,950000.0,380000.0,1338000.0,651000.0,1390000.0,1100000.0,1206000.0,486500.0,1415000.0,1185000.0,1060000.0,845000.0,860000.0,921000.0,742500.0,920000.0,702000.0,805000.0,1100000.0,1050000.0,722000.0,930000.0,921000.0,1035000.0,1352000.0,1005000.0,1600000.0,1200000.0,780000.0,1250000.0,1110000.0,1690000.0,791000.0,900000.0,970000.0,823000.0,1045000.0,655000.0,1550000.0,835000.0,1465000.0,910000.0,920000.0,935000.0,977000.0,1352000.0,1115000.0,1197000.0,485000.0,1365000.0,1698888.0,965000.0,870000.0,1161000.0,1266000.0,700000.0,1325000.0,770000.0,380000.0,1175000.0,1200000.0,1370000.0,1433500.0,860000.0,715000.0,710000.0,1550000.0,790000.0,1020000.0,886000.0,1015000.0,1255000.0,1320000.0,870000.0,1472500.0,640000.0,1620000.0,645000.0,1560000.0,1715000.0,1200000.0,1760000.0,948000.0,465000.0,975000.0,1325000.0,750000.0,1400000.0,1500000.0,1600000.0,1461400.0,775000.0,1670000.0,4000000.0,928000.0,636000.0,1170000.0,1670000.0,857000.0,822500.0,645000.0,502000.0,495000.0,868000.0,645000.0,652000.0,850000.0,575000.0,882000.0,730000.0,610000.0,696000.0,579000.0,765000.0,475000.0,550000.0,495000.0,565000.0,1635000.0,3695000.0,536000.0,3700000.0,1975000.0,1390000.0,2905000.0,1300000.0,1725000.0,2100000.0,800000.0,1761000.0,1302500.0,2750000.0,892500.0,2145000.0,3171000.0,620000.0,1475000.0,1650000.0,1562500.0,2050000.0,3320000.0,1100000.0,1650000.0,1570000.0,1785000.0,1875000.0,1266000.0,2730000.0,3295888.0,375000.0,756000.0,2100000.0,2375000.0,1385000.0,858000.0,2800000.0,3700000.0,2475000.0,2700000.0,3900000.0,610000.0,1532000.0,1037000.0,3050000.0,1630000.0,2640000.0,671000.0,2250000.0,2900000.0,2405000.0,1352500.0,3105000.0,1500000.0,1940000.0,1850000.0,930000.0,1310000.0,2504000.0,1445000.0,1825000.0,1700000.0,1400000.0,1500000.0,1400000.0,1600000.0,1780000.0,1200000.0,775000.0,1480000.0,1590000.0,2840000.0,1000000.0,1700000.0,3207000.0,880000.0,1920000.0,1301000.0,2550000.0,1915000.0,1650000.0,1530000.0,2050000.0,2550000.0,905000.0,1355000.0,1845000.0,2050000.0,1710000.0,1300000.0,2200000.0,2150000.0,681000.0,1310000.0,340000.0,692000.0,1367000.0,903000.0,2820000.0,1813000.0,1655000.0,1230000.0,1389000.0,2310000.0,1014000.0,1026000.0,1802500.0,1500000.0,2230000.0,410000.0,272500.0,680000.0,400000.0,950000.0,845500.0,605000.0,445000.0,659500.0,600000.0,1115000.0,1125000.0,855000.0,940000.0,750000.0,1056000.0,880000.0,1222500.0,955000.0,587000.0,1060000.0,890000.0,685000.0,976000.0,641000.0,770000.0,279500.0,1800000.0,1350000.0,1320000.0,825000.0,1261000.0,1045000.0,1044000.0,1050000.0,1691500.0,1075000.0,501000.0,1260000.0,1650000.0,601000.0,1015000.0,625000.0,1700000.0,435000.0,2500000.0,860000.0,491000.0,985000.0,1250000.0,641000.0,860000.0,705000.0,880000.0,754000.0,590000.0,575000.0,1510000.0,801000.0,820000.0,370000.0,1170000.0,1790000.0,640000.0,1875000.0,1053000.0,705000.0,1217000.0,1020000.0,1340000.0,1410000.0,1550000.0,740000.0,592500.0,370000.0,765000.0,772000.0,1210000.0,1755000.0,945000.0,755000.0,521500.0,1190000.0,471000.0,265000.0,955000.0,1350000.0,380000.0,300000.0,810000.0,793000.0,400000.0,400500.0,797500.0,1300000.0,1330000.0,1205000.0,380000.0,1095000.0,680000.0,711000.0,500000.0,385000.0,370000.0,320000.0,330000.0,1200000.0,537000.0,910000.0,285000.0,921500.0,1315000.0,370000.0,735000.0,1000000.0,252000.0,1700000.0,820000.0,370000.0,484000.0,815000.0,1150000.0,497000.0,440000.0,816000.0,970000.0,851000.0,1300000.0,1235000.0,1303000.0,880000.0,975000.0,990000.0,1225000.0,1490000.0,905000.0,1085000.0,787000.0,1075000.0,1302000.0,1050000.0,1000000.0,1300000.0,990000.0,1100000.0,903000.0,1590000.0,1890000.0,1022500.0,1755000.0,1300000.0,1160000.0,2000000.0,790000.0,1682000.0,625000.0,650000.0,1060000.0,1255000.0,633000.0,1350000.0,570000.0,745000.0,2150000.0,746000.0,1540000.0,1270000.0,900000.0,1250000.0,1410000.0,800000.0,702000.0,2650000.0,729000.0,2600000.0,1650000.0,615000.0,1987000.0,683000.0,1690000.0,430000.0,2600000.0,2325000.0,435000.0,2000000.0,1302000.0,1622000.0,502000.0,435000.0,591000.0,2608000.0,1780000.0,2250000.0,895000.0,1800000.0,900000.0,2700000.0,530000.0,2228000.0,1602500.0,2177000.0,3400000.0,2105000.0,1625000.0,3300000.0,667000.0,2015000.0,700000.0,3225000.0,3320000.0,2125000.0,2030000.0,2750000.0,2000000.0,2250000.0,2740000.0,2950000.0,1587500.0,830000.0,2375000.0,2900000.0,2200000.0,2620000.0,1305000.0,928000.0,2930000.0,2950000.0,722000.0,2350000.0,1640000.0,1680000.0,3550000.0,3400000.0,1850000.0,3145000.0,1425000.0,2950000.0,2175000.0,800000.0,2718000.0,2400000.0,2520000.0,2050000.0,1950000.0,437000.0,520000.0,570000.0,820000.0,795000.0,600000.0,1295000.0,510000.0,346000.0,860000.0,772000.0,1506000.0,675000.0,525000.0,290000.0,360000.0,967500.0,330000.0,1600000.0,1008000.0,1170000.0,1830000.0,250000.0,930000.0,465000.0,1550000.0,707000.0,804000.0,1501000.0,970000.0,817500.0,1450000.0,855000.0,675000.0,588000.0,455000.0,920000.0,656000.0,930000.0,415000.0,650000.0,1360000.0,350000.0,1430000.0,1490000.0,1125000.0,405000.0,1655000.0,808000.0,370000.0,1880000.0,585000.0,450000.0,860000.0,605000.0,1518000.0,632500.0,435000.0,468250.0,1716000.0,365000.0,722500.0,550000.0,131000.0,1750000.0,580000.0,2005000.0,420000.0,290000.0,1400000.0,450000.0,536000.0,550000.0,2170000.0,1577500.0,1460000.0,275500.0,1065000.0,1030000.0,1225000.0,1450000.0,1774500.0,525500.0,825000.0,1262000.0,1340000.0,1200000.0,1001000.0,1330000.0,1570000.0,1916000.0,890000.0,700000.0,865000.0,1042500.0,1002000.0,650000.0,965000.0,1301000.0,1415500.0,1260000.0,1000000.0,845000.0,881000.0,780000.0,1060000.0,930000.0,1075000.0,1105000.0,1209000.0,3010000.0,1435000.0,1290000.0,495000.0,1370000.0,1450000.0,885500.0,825000.0,1506000.0,1360000.0,850000.0,784000.0,680000.0,807000.0,675000.0,1202000.0,1370000.0,1000000.0,145000.0,860000.0,953000.0,735000.0,947000.0,500000.0,466000.0,740000.0,812000.0,766000.0,825000.0,1131000.0,1064000.0,1210000.0,434000.0,653000.0,640000.0,1130000.0,763000.0,903000.0,1000000.0,1742000.0,865000.0,485000.0,1278000.0,590000.0,1136000.0,635000.0,1400000.0,1260000.0,841000.0,537500.0,598000.0,1120000.0,870000.0,680000.0,825000.0,725000.0,1250000.0,1008000.0,990000.0,451000.0,635000.0,1020000.0,1025000.0,700000.0,1130000.0,1075000.0,600000.0,1150000.0,515000.0,472000.0,901000.0,605000.0,687000.0,975000.0,1370000.0,700000.0,810000.0,838000.0,1150000.0,931000.0,241000.0,981000.0,570000.0,500000.0,655000.0,631000.0,600000.0,715000.0,864000.0,700000.0,591000.0,860000.0,765000.0,625000.0,745000.0,1050000.0,935000.0,820000.0,780000.0,707000.0,637000.0,950000.0,860000.0,1172000.0,650000.0,792000.0,720000.0,970000.0,890000.0,1260000.0,855000.0,1125000.0,910000.0,452000.0,415000.0,372000.0,1326000.0,1230000.0,855000.0,457000.0,897500.0,1265000.0,1075000.0,366000.0,981000.0,683000.0,1000000.0,887500.0,713500.0,1500000.0,672000.0,800000.0,1645000.0,860000.0,1403000.0,1450000.0,1396000.0,1125000.0,700000.0,1152000.0,1868000.0,1050000.0,910000.0,1850000.0,1225000.0,1316000.0,1400000.0,2168000.0,1430000.0,772000.0,1468000.0,753000.0,746000.0,1485000.0,1190000.0,900000.0,1250000.0,1030000.0,985000.0,1300000.0,1462500.0,1250000.0,1460800.0,1152500.0,1650000.0,1391000.0,452000.0,1102200.0,1401000.0,1782000.0,1520000.0,878000.0,973500.0,751800.0,1100000.0,1202000.0,1362000.0,1810000.0,1901000.0,1650000.0,1816000.0,525000.0,2050000.0,1930000.0,2600000.0,600000.0,1601000.0,1100000.0,2550000.0,1190000.0,2012000.0,2309000.0,900000.0,1625000.0,1100000.0,1755000.0,1400000.0,1240000.0,591000.0,537000.0,800000.0,965000.0,1160000.0,820000.0,2600000.0,1071000.0,1800000.0,2345000.0,741000.0,626000.0,1650000.0,850000.0,1750000.0,1450000.0,2806000.0,782000.0,1007000.0,1450000.0,500000.0,2600000.0,895000.0,2050000.0,1605000.0,520000.0,507000.0,525000.0,750000.0,510000.0,300000.0,1395000.0,855000.0,790000.0,550000.0,357000.0,1210000.0,825000.0,1050000.0,632000.0,485000.0,575000.0,590000.0,1238000.0,510000.0,1875000.0,780000.0,878500.0,3572000.0,560000.0,765000.0,670000.0,1625000.0,1122000.0,2400000.0,655000.0,684000.0,500000.0,680000.0,600000.0,370000.0,390000.0,630000.0,640000.0,932000.0,645000.0,347000.0,875000.0,582500.0,570000.0,1875000.0,340000.0,2200000.0,687500.0,730000.0,526000.0,920000.0,1830000.0,1425000.0,660000.0,550000.0,1295000.0,595000.0,911000.0,900000.0,645000.0,702500.0,960000.0,1670000.0,1100000.0,1800000.0,1250000.0,1130000.0,370000.0,1467000.0,2800000.0,1160000.0,2620000.0,1226000.0,1402000.0,855000.0,1275000.0,1590000.0,606000.0,1385000.0,650000.0,460000.0,1000000.0,520000.0,720000.0,1635000.0,485000.0,1575000.0,280000.0,1467000.0,890000.0,870000.0,1134000.0,320500.0,1065000.0,1610000.0,930000.0,395000.0,1470000.0,750000.0,390000.0,1170000.0,1600000.0,1535000.0,435000.0,1460000.0,736000.0,450000.0,740000.0,691000.0,2355000.0,1625000.0,1150000.0,360000.0,645000.0,250000.0,872000.0,630000.0,440000.0,1811000.0,1500000.0,1290000.0,1100000.0,1270000.0,1445000.0,1113000.0,370000.0,396000.0,450000.0,1360000.0,340000.0,765000.0,712000.0,1250000.0,1350000.0,1220000.0,1160000.0,505000.0,602000.0,846000.0,400000.0,445000.0,1730000.0,510000.0,1350000.0,2000000.0,805000.0,1055000.0,548000.0,1500000.0,600000.0,545000.0,1375000.0,1252000.0,810000.0,947500.0,1460000.0,880000.0,3310000.0,1250000.0,1950000.0,465000.0,1620000.0,850000.0,1122000.0,1300000.0,420000.0,715000.0,800000.0,710000.0,630000.0,4011000.0,700000.0,860000.0,870000.0,1450000.0,358500.0,770000.0,1008000.0,1015000.0,1371000.0,1286000.0,1600000.0,1950000.0,3400000.0,1785000.0,1210000.0,1275000.0,1290000.0,750000.0,675000.0,1700000.0,1080000.0,1222500.0,937500.0,1300000.0,1300000.0,2150000.0,1581000.0,602000.0,650000.0,1450000.0,365000.0,425000.0,391000.0,1130000.0,1110000.0,918000.0,730000.0,855000.0,1012000.0,395000.0,556000.0,345000.0,1100000.0,395000.0,1115000.0,420500.0,1225000.0,1003000.0,840000.0,1362000.0,977000.0,216000.0,876000.0,227000.0,841000.0,605000.0,305000.0,480000.0,910000.0,291000.0,752000.0,1155000.0,853000.0,480000.0,775000.0,281000.0,1300000.0,714000.0,950000.0,760000.0,420000.0,932000.0,780000.0,295000.0,433000.0,410000.0,1170000.0,375000.0,747000.0,775000.0,571000.0,305000.0,860500.0,370000.0,711000.0,690500.0,747000.0,858000.0,699000.0,835000.0,661000.0,757500.0,282000.0,699000.0,850000.0,315000.0,740000.0,980000.0,316000.0,760000.0,735000.0,1225000.0,767500.0,395000.0,815000.0,757000.0,1450000.0,745000.0,716000.0,1735000.0,3400000.0,3730000.0,1800000.0,1998000.0,671000.0,1425000.0,1530000.0,1900000.0,1360000.0,2175000.0,2325000.0,2538000.0,2300000.0,550000.0,1600000.0,2115000.0,1700000.0,2077000.0,2850000.0,411000.0,2020000.0,2010000.0,2975000.0,452000.0,1820000.0,291000.0,2376000.0,1456000.0,345000.0,2000000.0,585000.0,1700000.0,1375000.0,920000.0,382000.0,1280000.0,2825000.0,2825000.0,1825000.0,3085000.0,1600000.0,2352500.0,3860000.0,2625000.0,1950000.0,2200000.0,1751000.0,1857000.0,720000.0,1500000.0,2725000.0,2800000.0,1665000.0,600000.0,1420000.0,2410000.0,2100000.0,2950000.0,3365000.0,1931000.0,1250000.0,2400000.0,610000.0,610000.0,806500.0,550000.0,822000.0,980000.0,430000.0,540000.0,737000.0,460000.0,545000.0,670000.0,702000.0,730000.0,711500.0,810000.0,250000.0,460000.0,793000.0,340000.0,447500.0,588000.0,420000.0,410000.0,525000.0,703000.0,608000.0,607000.0,765500.0,470000.0,580000.0,620250.0,710000.0,630000.0,600000.0,550000.0,600000.0,1217500.0,600000.0,570000.0,762700.0,465000.0,741250.0,1000000.0,630000.0,670000.0,417000.0,600000.0,440000.0,660000.0,270000.0,825000.0,638000.0,631000.0,532000.0,504000.0,468000.0,802500.0,709000.0,485000.0,540000.0,390000.0,800000.0,740000.0,605000.0,685500.0,610000.0,630000.0,870000.0,810000.0,487000.0,700000.0,600500.0,730000.0,800000.0,750000.0,740000.0,646000.0,545000.0,777000.0,722000.0,545000.0,510000.0,631500.0,550000.0,330000.0,715888.0,468000.0,515000.0,895000.0,587000.0,2800000.0,3250000.0,2140000.0,1600000.0,1003500.0,802000.0,1560000.0,760000.0,616000.0,1680000.0,1120000.0,3200000.0,1250000.0,2000000.0,1805000.0,2600000.0,3470000.0,1050000.0,810000.0,1460000.0,3075000.0,875500.0,2600000.0,1705000.0,1515000.0,2980000.0,2200000.0,1100000.0,3325000.0,450000.0,500000.0,1460000.0,1740000.0,1800000.0,2160000.0,2250000.0,2130000.0,400000.0,926000.0,1070000.0,801000.0,1150000.0,472000.0,1300000.0,1200000.0,1650000.0,2670000.0,348000.0,1189000.0,610000.0,492000.0,806000.0,2000000.0,753000.0,330000.0,1420000.0,495000.0,292000.0,580000.0,1300000.0,1300000.0,440000.0,1000000.0,1741000.0,655000.0,488000.0,2065000.0,350000.0,1712000.0,480000.0,3225000.0,400000.0,1650000.0,3950000.0,587500.0,560000.0,1936000.0,4250000.0,630000.0,1560000.0,840000.0,1780000.0,815000.0,1975000.0,657500.0,5050000.0,445000.0,1180000.0,470000.0,485000.0,1800000.0,1855000.0,665000.0,1551000.0,612500.0,2410000.0,715000.0,1055000.0,1976000.0,499000.0,495000.0,3750000.0,1400000.0,370000.0,627500.0,815000.0,565000.0,994000.0,785000.0,620000.0,706750.0,584000.0,909000.0,1086000.0,680000.0,650000.0,890000.0,650000.0,605000.0,770000.0,950000.0,856000.0,600000.0,915000.0,400000.0,550000.0,590000.0,920000.0,460000.0,1000500.0,631000.0,691000.0,560000.0,370000.0,532000.0,515500.0,800000.0,620000.0,360000.0,440500.0,758000.0,480000.0,715000.0,646250.0,1375000.0,722000.0,725000.0,465000.0,1550000.0,516000.0,1340000.0,1316000.0,828000.0,1055000.0,623000.0,2120000.0,1745000.0,1700000.0,420000.0,1337000.0,455000.0,400000.0,1210000.0,1167500.0,900000.0,677500.0,2265000.0,981000.0,2400000.0,890000.0,739000.0,785000.0,1155000.0,1020000.0,1465000.0,855000.0,413000.0,1220000.0,1605000.0,587000.0,1535000.0,1470000.0,1486000.0,1730000.0,1850000.0,2600000.0,500000.0,1102000.0,1275000.0,785000.0,1223500.0,1720000.0,1225000.0,1460000.0,421000.0,2090000.0,700000.0,2595000.0,710000.0,650000.0,515000.0,582000.0,545000.0,751000.0,500000.0,560000.0,703000.0,650000.0,770000.0,900000.0,700000.0,816000.0,845000.0,772000.0,650000.0,757000.0,690000.0,583000.0,880000.0,580000.0,886000.0,920000.0,976000.0,1420000.0,900000.0,560000.0,1010000.0,835000.0,705000.0,680000.0,785000.0,695000.0,502000.0,770000.0,570000.0,830000.0,600000.0,825000.0,735000.0,875000.0,601200.0,680000.0,705000.0,710000.0,732000.0,715000.0,852000.0,1037000.0,1470000.0,492500.0,420000.0,420000.0,1271000.0,1010000.0,750000.0,905000.0,960000.0,1031000.0,870000.0,1165000.0,1710000.0,1455000.0,365000.0,442000.0,765000.0,515000.0,370000.0,1234500.0,666000.0,825000.0,812000.0,1900000.0,445000.0,732000.0,1260000.0,1000000.0,1155000.0,790000.0,700000.0,1230000.0,460000.0,395000.0,850000.0,868000.0,773000.0,631090.0,410000.0,425000.0,610000.0,882000.0,3550000.0,1326000.0,1950000.0,2550000.0,1878000.0,1910000.0,1410000.0,2310000.0,2315000.0,800000.0,4850000.0,6500000.0,580000.0,1905000.0,478000.0,672000.0,2286000.0,1575000.0,590000.0,2350000.0,1312000.0,890000.0,1331000.0,1800000.0,1476000.0,2590000.0,2625000.0,2265000.0,1975000.0,2550000.0,1330000.0,1450000.0,3650000.0,551000.0,2460000.0,2850000.0,2425000.0,610000.0,955000.0,707500.0,732000.0,2875000.0,1500000.0,1750000.0,1100000.0,1440000.0,2560000.0,2600000.0,3280000.0,620000.0,2600000.0,2800000.0,1420000.0,1800000.0,395000.0,2250000.0,1950000.0,605000.0,1920000.0,1615000.0,2081000.0,1315000.0,1750000.0,2100000.0,1300000.0,1315000.0,1620000.0,615000.0,715000.0,826000.0,275000.0,711000.0,695000.0,490000.0,502000.0,721000.0,840000.0,335000.0,832000.0,646000.0,673000.0,695000.0,349000.0,555000.0,352500.0,1350000.0,510000.0,490000.0,675000.0,865000.0,600000.0,773000.0,2050000.0,3460000.0,2400000.0,2025000.0,611000.0,3800000.0,1390000.0,2415000.0,566000.0,1437000.0,500000.0,3400000.0,2355000.0,4240000.0,1326000.0,4525000.0,1965000.0,3470000.0,740000.0,2325000.0,1970000.0,1475000.0,584000.0,1490000.0,1210000.0,2355000.0,1036000.0,2273000.0,2350000.0,2200000.0,790000.0,1185000.0,1837000.0,1253000.0,922000.0,4802500.0,350000.0,1555000.0,2123000.0,1700000.0,1150000.0,2001000.0,1915000.0,1135000.0,1240000.0,1120000.0,1500000.0,707500.0,835000.0,1870000.0,1580000.0,820000.0,480000.0,1680000.0,300000.0,1100000.0,373000.0,2560000.0,960000.0,315000.0,1297000.0,1015000.0,523000.0,1335000.0,425000.0,1670000.0,1350000.0,1650000.0,950000.0,1782500.0,650000.0,975000.0,560000.0,355000.0,550000.0,420000.0,399000.0,1105000.0,730000.0,662500.0,410000.0,920000.0,1320000.0,1150000.0,847000.0,400000.0,1072000.0,510000.0,865000.0,570000.0,1900000.0,429000.0,456000.0,566000.0,408000.0,470000.0,780000.0,440000.0,1048700.0,400000.0,1215000.0,1180000.0,1117000.0,420000.0,770000.0,1151000.0,907000.0,570000.0,820000.0,940000.0,1030000.0,1230000.0,884500.0,820000.0,780000.0,535000.0,450000.0,360000.0,665000.0,386000.0,659000.0,545000.0,450000.0,432000.0,750000.0,375000.0,680000.0,470000.0,483000.0,700000.0,520000.0,440000.0,733000.0,760000.0,360000.0,2600000.0,2350000.0,535000.0,700000.0,3120000.0,1025000.0,1920000.0,2623000.0,1500000.0,1630000.0,1910000.0,1320000.0,750000.0,2588000.0,1400000.0,2200000.0,1310000.0,2335000.0,1815000.0,725000.0,3900000.0,1200000.0,1564000.0,520000.0,670000.0,1055000.0,348000.0,1780000.0,1440000.0,1225000.0,1445000.0,990000.0,1550000.0,1170000.0,1120000.0,1530000.0,832000.0,420000.0,2400000.0,565000.0,550000.0,1211000.0,1630000.0,1160000.0,1361500.0,945000.0,360000.0,860000.0,1637000.0,1505000.0,515000.0,330000.0,1322000.0,1015000.0,840000.0,1900000.0,2340000.0,1400000.0,1640000.0,1480000.0,410000.0,980000.0,842500.0,1345000.0,265000.0,849000.0,1425000.0,1345000.0,330000.0,726000.0,1250000.0,870000.0,1725000.0,600000.0,1505000.0,850000.0,292000.0,1740000.0,470000.0,1130000.0,930000.0,336000.0,800000.0,1224000.0,1000000.0,380500.0,1090000.0,836000.0,1417250.0,950000.0,1140000.0,750000.0,1000000.0,1200000.0,987000.0,937000.0,1426000.0,1016000.0,901000.0,1300000.0,975000.0,1070000.0,639000.0,605000.0,960000.0,725000.0,800000.0,917000.0,890000.0,1008000.0,1191000.0,776000.0,1035000.0,1160000.0,240000.0,1105000.0,826000.0,900000.0,962000.0,800000.0,710000.0,940000.0,655800.0,1082000.0,1210000.0,880000.0,335000.0,1260000.0,1400000.0,995000.0,962000.0,800000.0,1305000.0,485000.0,810000.0,1620000.0,923000.0,1030000.0,1046000.0,740000.0,970000.0,735000.0,485000.0,950000.0,1280000.0,1040000.0,1115000.0,1176000.0,1265000.0,801000.0,770000.0,993000.0,650000.0,891500.0,805000.0,680000.0,793000.0,747000.0,896000.0,890000.0,930000.0,1151000.0,820000.0,816000.0,945000.0,643700.0,760000.0,881000.0,900000.0,830000.0,1126000.0,1235000.0,457000.0,660000.0,770000.0,1350000.0,820000.0,991000.0,657000.0,710000.0,840000.0,1400000.0,1080000.0,1015000.0,1245000.0,1105000.0,2920000.0,540000.0,726000.0,1340000.0,1105000.0,841000.0,528500.0,410000.0,550000.0,470000.0,640000.0,720000.0,1325000.0,368000.0,450000.0,1385000.0,990000.0,606000.0,450000.0,1470000.0,1010000.0,1266000.0,620000.0,630000.0,560000.0,665500.0,550055.0,358000.0,320000.0,1000000.0,598000.0,885000.0,587134.0,1286000.0,1200000.0,1382500.0,1600000.0,1710000.0,2000000.0,583000.0,650000.0,1700000.0,1575000.0,950000.0,1655000.0,1255000.0,1020000.0,435000.0,790000.0,605000.0,385000.0,1190000.0,865000.0,2175000.0,312000.0,890000.0,2700000.0,1101000.0,1050000.0,1010000.0,1900000.0,888000.0,1020000.0,844000.0,900000.0,1300000.0,810000.0,701000.0,665000.0,2315000.0,1170000.0,1715000.0,422000.0,1474000.0,1035000.0,460000.0,1760000.0,1095000.0,1225000.0,1211000.0,770000.0,1000000.0,1050000.0,1700000.0,2160000.0,400000.0,1420000.0,1950000.0,1820000.0,1080000.0,570000.0,1340000.0,2340000.0,1634000.0,910000.0,1650000.0,1510000.0,865000.0,476000.0,706000.0,920000.0,522000.0,690000.0,770000.0,1100000.0,475000.0,651000.0,815500.0,770000.0,585500.0,840000.0,470000.0,810000.0,855333.0,900000.0,875000.0,651000.0,802000.0,900000.0,1000000.0,801347.0,921000.0,1900000.0,752500.0,1067000.0,1260500.0,850500.0,1068000.0,937500.0,1126000.0,778000.0,1230000.0,1805000.0,2200000.0,1265000.0,1928000.0,526000.0,2236000.0,1403000.0,1120000.0,770000.0,975000.0,780000.0,600000.0,955000.0,1196000.0,731000.0,585000.0,480000.0,605000.0,738000.0,386000.0,452000.0,522500.0,741000.0,530000.0,815000.0,775000.0,950000.0,900000.0,835000.0,790000.0,810000.0,500000.0,485000.0,488000.0,900000.0,680000.0,590000.0,770000.0,975000.0,970000.0,600000.0,510000.0,750000.0,822000.0,430000.0,1350000.0,810000.0,550500.0,610000.0,533000.0,410000.0,600000.0,616000.0,960000.0,985000.0,670000.0,665000.0,880000.0,700000.0,600000.0,1570000.0,525500.0,612500.0,248500.0,960000.0,650000.0,500000.0,599000.0,1150000.0,985000.0,1200000.0,2200000.0,2105000.0,550000.0,1915000.0,1630000.0,1000000.0,1470000.0,725000.0,600000.0,1342000.0,500000.0,795000.0,590000.0,1100000.0,1275000.0,1000000.0,1820000.0,655000.0,1350000.0,1560000.0,1060000.0,1610000.0,1101000.0,880000.0,1080000.0,1115000.0,516000.0,1753000.0,900000.0,2350000.0,1670000.0,1402000.0,1570000.0,1150000.0,1384000.0,655000.0,456000.0,520000.0,470000.0,600000.0,670000.0,1400000.0,1520000.0,600000.0,2460000.0,3705000.0,950000.0,1350000.0,735000.0,400000.0,900000.0,1380000.0,1080000.0,342000.0,950000.0,781000.0,549800.0,492000.0,500500.0,1400000.0,685000.0,710000.0,330000.0,1245000.0,1182500.0,1303000.0,482500.0,585000.0,1106000.0,1590000.0,1055000.0,1100000.0,530000.0,1500000.0,841000.0,570000.0,560000.0,815000.0,910000.0,1450000.0,1540000.0,1811000.0,1180000.0,1720000.0,1050000.0,1582000.0,681000.0,1305000.0,1255000.0,2180000.0,1720000.0,1220000.0,1612000.0,1250000.0,930000.0,751000.0,715000.0,837000.0,950000.0,496000.0,850000.0,540000.0,1150000.0,615000.0,735000.0,810000.0,600000.0,1650000.0,600000.0,722000.0,1260000.0,485000.0,690000.0,1065000.0,1200000.0,530000.0,900000.0,700000.0,920000.0,980000.0,886000.0,1080000.0,1400000.0,660000.0,436000.0,876000.0,910000.0,714000.0,770000.0,810000.0,1127000.0,780000.0,986000.0,760000.0,1123000.0,300000.0,890000.0,425000.0,515000.0,1040000.0,890000.0,790000.0,860000.0,630000.0,875000.0,923000.0,920000.0,871000.0,950000.0,870000.0,1186000.0,610000.0,1162500.0,1142500.0,930000.0,875000.0,840000.0,750000.0,750000.0,475000.0,415000.0,731000.0,352000.0,723000.0,336000.0,685000.0,1025000.0,490000.0,805000.0,1005000.0,535000.0,800000.0,510000.0,651000.0,365000.0,405000.0,620500.0,260000.0,625000.0,427500.0,851000.0,998000.0,1030000.0,410000.0,1015000.0,915000.0,380000.0,530000.0,592000.0,440000.0,650000.0,416000.0,301000.0,865000.0,650000.0,401000.0,491000.0,810000.0,555000.0,350000.0,540000.0,682000.0,380000.0,350000.0,750000.0,495000.0,500000.0,350000.0,335000.0,546000.0,400000.0,360000.0,410000.0,836000.0,440000.0,376000.0,323000.0,680000.0,530000.0,786000.0,390000.0,650000.0,800000.0,330000.0,539000.0,622500.0,767500.0,780000.0,668000.0,470000.0,655000.0,440000.0,703000.0,424000.0,613000.0,475000.0,950000.0,730000.0,905000.0,480000.0,767000.0,450000.0,921500.0,490000.0,787000.0,300000.0,335000.0,475000.0,440000.0,216000.0,220000.0,340000.0,395000.0,790000.0,601000.0,300000.0,420000.0,885000.0,815000.0,882500.0,793000.0,550000.0,433000.0,680000.0,851000.0,1025000.0,784000.0,1186000.0,885000.0,718500.0,762500.0,610000.0,680000.0,390000.0,937000.0,1260000.0,795250.0,582000.0,370000.0,421000.0,3200000.0,479000.0,655000.0,561000.0,635000.0,1010000.0,1025000.0,550000.0,1375000.0,1506000.0,1350000.0,405000.0,327000.0,1474000.0,1555000.0,500000.0,345000.0,1275000.0,1150000.0,950000.0,270000.0,439000.0,695000.0,512000.0,855000.0,1040000.0,342000.0,681000.0,900000.0,1250000.0,990000.0,1189000.0,1220000.0,1100000.0,450000.0,1074000.0,1430000.0,1465000.0,391000.0,930000.0,1182000.0,777500.0,1115000.0,760000.0,640000.0,1420000.0,390000.0,380000.0,680000.0,1081000.0,860000.0,905000.0,691000.0,1088000.0,911000.0,3001000.0,638000.0,900000.0,1695000.0,1365000.0,1045000.0,1591000.0,1275000.0,1510000.0,1550000.0,1456000.0,1100000.0,1045000.0,2000000.0,646000.0,660000.0,1145000.0,905000.0,750000.0,604000.0,1645000.0,306000.0,1270000.0,1850000.0,1650000.0,1320000.0,1651000.0,1800000.0,791500.0,1600000.0,1200000.0,1555000.0,1582000.0,2055000.0,1345000.0,410000.0,696000.0,1350000.0,807000.0,385000.0,1150000.0,1775000.0,1270000.0,827500.0,560000.0,790000.0,1212500.0,1125000.0,1520000.0,1101500.0,1020000.0,560000.0,1050000.0,531000.0,620000.0,780000.0,821000.0,915000.0,890000.0,430000.0,1012000.0,1020000.0,1270000.0,515000.0,867000.0,945000.0,618000.0,601000.0,908000.0,1145000.0,970000.0,1325000.0,450000.0,1330000.0,1075000.0,1350000.0,1201000.0,990000.0,720000.0,880000.0,920000.0,1395000.0,965000.0,920000.0,875000.0,822500.0,1080000.0,1275000.0,955000.0,1455000.0,533000.0,970000.0,355000.0,1032000.0,1270000.0,815000.0,593000.0,1600000.0,1620000.0,1270000.0,2633000.0,1405000.0,2260000.0,1595000.0,595000.0,490000.0,1250000.0,2180000.0,930000.0,1200000.0,2000000.0,2000000.0,1050000.0,1250000.0,1650000.0,561000.0,1825000.0,1200000.0,1390000.0,1615000.0,2300000.0,742000.0,2075000.0,722000.0,850000.0,1230000.0,535000.0,990000.0,695000.0,775000.0,572000.0,1460000.0,623500.0,409000.0,1250000.0,659000.0,780000.0,1455000.0,360500.0,1300000.0,1300000.0,380000.0,5700000.0,515000.0,2695000.0,310000.0,627500.0,425000.0,330000.0,693000.0,2285000.0,3000000.0,515000.0,600000.0,2600000.0,320000.0,400000.0,1810000.0,567500.0,540000.0,2010000.0,1945000.0,906000.0,367000.0,1130000.0,500000.0,310000.0,1100000.0,410000.0,1125000.0,840000.0,1400000.0,680500.0,280000.0,520000.0,1200000.0,480000.0,2200000.0,1700000.0,1200000.0,1540000.0,826000.0,1700000.0,505000.0,720000.0,868000.0,530000.0,650000.0,990000.0,592500.0,600000.0,455000.0,1250000.0,425000.0,740000.0,660000.0,622500.0,800000.0,540000.0,370000.0,855000.0,832500.0,850000.0,1080000.0,927000.0,850000.0,831000.0,840000.0,1315000.0,1161000.0,1016000.0,690000.0,1070000.0,871500.0,380000.0,430000.0,602000.0,575000.0,495000.0,500000.0,1891000.0,2000000.0,1500000.0,2000000.0,500000.0,685000.0,380000.0,616000.0,400000.0,451000.0,1400000.0,459000.0,520000.0,370500.0,5046000.0,385000.0,1900000.0,390000.0,500000.0,430000.0,392000.0,1900000.0,540000.0,475000.0,570000.0,400000.0,920000.0,503500.0,580000.0,1295000.0,481000.0,1120000.0,400000.0,1210000.0,785000.0,450000.0,875000.0,650000.0,431000.0,385000.0,575000.0,4400000.0,535000.0,1200500.0,565000.0,520000.0,902000.0,1600000.0,750000.0,1365000.0,1950000.0,1678000.0,400000.0,500000.0,760000.0,580000.0,430000.0,1100000.0,435000.0,354000.0,1025000.0,1430000.0,1330000.0,1635000.0,1194000.0,1440000.0,1300000.0,850000.0,1150000.0,910000.0,1430000.0,622500.0,1500000.0,1280000.0,1485000.0,1080000.0,1715000.0,2650000.0,630000.0,1370000.0,800000.0,950000.0,780000.0,1350500.0,745000.0,657500.0,1030000.0,460000.0,490000.0,890000.0,425000.0,715000.0,816000.0,425500.0,610000.0,600000.0,611000.0,670000.0,605000.0,930000.0,880000.0,570000.0,700000.0,625000.0,695000.0,910000.0,607000.0,679500.0,500000.0,895000.0,410000.0,635000.0,480000.0,435000.0,560000.0,626800.0,571500.0,605000.0,600000.0,650000.0,736000.0,735000.0,700000.0,1190000.0,591000.0,665000.0,620000.0,503000.0,1000000.0,560000.0,615000.0,450000.0,680000.0,620000.0,545000.0,621000.0,687000.0,485000.0,510000.0,500000.0,480000.0,621000.0,690000.0,547500.0,280000.0,555000.0,600000.0,622500.0,350000.0,657000.0,682000.0,520000.0,470000.0,586000.0,305000.0,705000.0,645000.0,500000.0,510000.0,750500.0,451000.0,2440000.0,1110000.0,2128000.0,2200000.0,640000.0,1700000.0,2500000.0,2200000.0,2860000.0,1930000.0,1812500.0,760000.0,1300000.0,1960000.0,2630000.0,880000.0,1755000.0,1700000.0,1975000.0,610000.0,1850000.0,2050000.0,2100000.0,1150000.0,770500.0,600000.0,2125000.0,656000.0,1518000.0,1560000.0,865000.0,2160000.0,2300000.0,600000.0,2180000.0,1251000.0,1650000.0,1835000.0,778500.0,1201000.0,1165000.0,742500.0,1101000.0,1200000.0,990000.0,1500000.0,1290000.0,790000.0,950000.0,1421000.0,1051000.0,1710000.0,1280000.0,750000.0,1000000.0,678000.0,1010000.0,1210000.0,945000.0,725000.0,1211000.0,1100000.0,1002000.0,1209000.0,2080000.0,1118000.0,903000.0,1220000.0,1650000.0,1182500.0,1020000.0,650000.0,1509000.0,517500.0,370000.0,805000.0,1428888.0,940000.0,270000.0,365000.0,525500.0,944000.0,887000.0,701000.0,1110000.0,332000.0,1265000.0,1085000.0,898000.0,1235000.0,910500.0,995000.0,760000.0,505000.0,1400000.0,1110000.0,1200000.0,450000.0,874000.0,1427000.0,383000.0,1290000.0,450000.0,438000.0,1250000.0,1070000.0,1570000.0,486000.0,1211000.0,1280000.0,1478000.0,1913000.0,928500.0,432500.0,330000.0,1370000.0,303500.0,1160000.0,1380000.0,1435000.0,5500000.0,5500000.0,1689000.0,1100000.0,925000.0,450000.0,349000.0,2650000.0,2820000.0,810000.0,2840000.0,2700000.0,6250000.0,4500000.0,541000.0,1550000.0,2205000.0,950000.0,366000.0,2620000.0,1900000.0,4000000.0,4200000.0,690000.0,511000.0,910000.0,2250000.0,525000.0,3270000.0,960000.0,1010000.0,880000.0,770000.0,730000.0,1005000.0,555000.0,546000.0,765000.0,920000.0,1025000.0,895000.0,820000.0,870000.0,1050000.0,660000.0,581000.0,600000.0,690000.0,582000.0,740000.0,671000.0,741000.0,537000.0,1040000.0,1171000.0,662000.0,922000.0,860500.0,702000.0,627500.0,549000.0,701000.0,645000.0,1010000.0,1260000.0,460000.0,2370000.0,800000.0,550000.0,660000.0,1055000.0,995000.0,443000.0,1120000.0,482000.0,620000.0,601000.0,1400000.0,1535000.0,890000.0,1800000.0,2910000.0,2910000.0,1200000.0,1460000.0,310000.0,1200000.0,1560000.0,1575000.0,830000.0,1470000.0,2230000.0,1460000.0,1330000.0,1010000.0,513500.0,1805000.0,1126000.0,935000.0,375000.0,2050000.0,1310000.0,491500.0,547500.0,1210000.0,412000.0,1630000.0,1482500.0,1300000.0,2255000.0,1710000.0,2440000.0,380000.0,367500.0,1225000.0,580000.0,2302000.0,611000.0,800000.0,275000.0,1540000.0,1370000.0,452000.0,501000.0,380000.0,1177000.0,600000.0,1500000.0,830000.0,1200000.0,600000.0,474000.0,1350000.0,1910000.0,915000.0,810000.0,753000.0,602500.0,742000.0,953000.0,650000.0,731000.0,710000.0,936000.0,721000.0,1000000.0,890000.0,1165000.0,1550000.0,770000.0,871000.0,780000.0,650000.0,770000.0,1235000.0,1000000.0,1320000.0,1100000.0,782000.0,910000.0,856000.0,670000.0,706000.0,1050000.0,1320000.0,1815000.0,630000.0,1870000.0,1930000.0,510000.0,381000.0,1040000.0,470000.0,501344.0,796000.0,1055000.0,620000.0,345000.0,950000.0,1200000.0,1005000.0,1340000.0,865000.0,781500.0,1401000.0,630000.0,1137500.0,1158000.0,955000.0,1081000.0,725000.0,767000.0,1450000.0,1430000.0,1275000.0,1606000.0,780000.0,670000.0,1380000.0,480500.0,1520000.0,1287000.0,800000.0,1460000.0,840000.0,900500.0,940000.0,380000.0,1646000.0,470000.0,1346000.0,935000.0,3900000.0,1150000.0,1720000.0,1705000.0,1190000.0,1740000.0,1200000.0,726000.0,1300000.0,670000.0,1350000.0,773000.0,645000.0,720000.0,625000.0,1310000.0,856000.0,580000.0,940000.0,1495000.0,1550000.0,1815000.0,1625000.0,899000.0,435000.0,1080000.0,656000.0,1574000.0,665000.0,590000.0,1679000.0,1050000.0,825000.0,998000.0,1010000.0,1050000.0,1600000.0,1325000.0],\"coloraxis\":\"coloraxis\",\"symbol\":\"circle\"},\"mode\":\"markers\",\"name\":\"\",\"showlegend\":false,\"x\":[2.5,2.5,2.5,2.5,2.5,2.5,2.5,2.5,2.5,2.5,2.5,2.5,2.5,2.5,2.5,2.5,2.5,2.5,2.5,2.5,2.5,2.5,2.5,2.5,13.5,13.5,13.5,13.5,13.5,13.5,13.5,13.5,13.5,13.5,13.5,13.5,13.5,13.5,13.5,13.5,13.5,13.5,13.5,13.5,13.5,13.5,13.5,13.5,13.5,3.3,3.3,3.3,3.3,3.3,3.3,3.3,3.3,3.3,3.3,3.3,3.3,3.3,3.3,3.3,3.3,3.3,3.3,3.3,3.3,3.3,3.3,3.3,6.4,6.4,6.4,6.4,6.4,6.4,6.4,6.4,6.4,6.4,6.4,6.4,13.8,13.8,13.8,13.8,13.8,13.8,13.8,13.8,13.8,13.8,13.8,13.8,13.8,13.8,13.8,13.8,13.8,13.8,13.8,13.8,13.8,13.8,11.1,11.1,11.1,11.1,11.1,11.1,11.1,11.1,11.1,11.1,11.1,11.1,11.1,11.1,11.1,11.1,11.1,6.3,6.3,6.3,6.3,6.3,6.3,6.3,6.3,6.3,6.3,6.3,6.3,6.3,6.3,6.3,6.3,6.3,6.3,6.3,6.3,6.3,6.3,6.3,6.3,6.3,6.3,6.3,6.3,6.3,6.3,6.3,5.9,5.9,5.9,5.9,5.9,5.9,5.9,5.9,5.9,5.9,5.9,5.9,5.9,5.9,5.9,5.9,5.9,5.9,5.9,5.9,5.9,5.9,5.9,5.9,5.9,5.9,5.9,5.9,5.9,5.9,5.9,5.9,5.9,5.9,5.9,5.9,5.9,5.9,5.9,5.9,5.9,5.9,5.9,5.9,5.9,5.9,5.9,5.9,5.9,5.9,5.9,5.9,5.9,5.9,5.9,5.9,11.0,11.0,11.0,11.0,11.0,11.0,11.0,11.0,11.0,11.0,11.0,11.0,11.0,11.0,11.0,11.0,11.0,11.0,11.0,11.0,11.0,11.0,11.0,11.0,11.0,11.0,11.0,12.2,12.2,12.2,12.2,12.2,12.2,12.2,12.2,12.2,12.2,12.2,12.2,12.2,12.2,12.2,12.2,12.2,12.2,12.2,12.2,10.5,10.5,10.5,10.5,10.5,10.5,10.5,10.5,10.5,10.5,10.5,10.5,10.5,10.5,10.5,10.5,10.5,6.6,6.6,6.6,6.6,6.6,6.6,6.6,6.6,6.6,6.6,6.6,6.6,9.7,9.7,9.7,9.7,9.7,9.7,9.7,9.7,9.7,9.7,9.7,9.7,9.7,9.7,9.7,9.7,9.7,9.7,9.7,9.7,9.7,9.7,9.7,9.7,9.7,9.7,9.7,9.7,9.7,9.7,9.7,9.7,9.7,9.7,9.7,9.7,9.7,9.7,9.7,9.7,9.7,9.7,9.7,9.2,9.2,9.2,9.2,9.2,9.2,9.2,9.2,9.2,9.2,9.2,9.2,9.2,9.2,9.2,9.2,9.2,9.2,9.2,9.2,9.2,9.2,9.2,9.2,9.2,9.2,9.2,9.2,9.2,9.2,9.2,9.2,9.2,9.2,9.2,9.2,9.2,9.2,9.2,9.2,9.2,9.2,9.2,9.2,9.2,9.2,9.2,9.2,9.2,9.2,9.2,9.2,9.2,9.2,9.2,9.2,9.2,9.2,13.0,13.0,13.0,13.0,13.0,13.0,13.0,13.0,13.0,13.0,13.0,13.0,13.0,13.0,13.0,13.0,13.0,13.0,13.0,13.0,13.0,13.0,13.0,13.0,13.0,13.0,13.0,13.0,13.0,13.0,13.0,13.0,13.0,13.0,13.0,13.0,13.0,13.0,13.0,13.0,13.0,13.0,13.0,13.0,13.0,13.0,13.9,13.9,13.9,13.9,13.9,13.9,13.9,13.9,13.9,13.9,13.9,13.9,13.9,13.9,13.9,13.9,13.9,13.9,13.9,13.9,13.9,13.9,13.9,13.9,13.9,13.9,13.9,13.9,13.9,13.9,13.9,13.9,13.9,13.9,13.9,13.9,13.9,13.9,13.9,13.9,13.9,13.9,13.9,13.9,13.9,13.9,13.9,13.9,13.9,13.9,13.9,13.9,13.9,13.9,13.9,13.9,13.9,13.9,13.9,13.9,13.9,13.9,13.9,13.9,13.9,13.9,13.9,13.9,13.9,13.9,13.9,13.9,13.9,13.9,13.9,13.9,13.9,13.9,13.9,13.9,13.9,13.9,13.9,13.9,13.9,13.9,13.9,13.9,13.9,13.1,13.1,13.1,13.1,13.1,13.1,13.1,13.1,13.1,13.1,13.1,13.1,13.1,13.1,13.1,13.1,13.1,13.1,13.1,13.1,13.1,13.1,13.1,13.1,10.8,10.8,10.8,10.8,10.8,10.8,10.8,10.8,10.8,10.8,10.8,10.8,10.8,10.8,10.8,10.8,10.8,10.8,11.2,11.2,11.2,11.2,11.2,11.2,11.2,11.2,11.2,11.2,11.2,11.2,11.2,11.2,11.2,11.2,11.2,11.2,11.2,11.2,11.2,11.2,11.2,11.2,11.2,11.2,11.2,11.2,11.2,11.2,11.2,11.2,11.2,11.2,11.2,11.2,11.2,11.2,11.2,11.2,11.2,11.2,11.2,11.2,11.2,11.2,11.2,11.2,11.2,11.2,11.2,11.2,11.2,11.2,11.2,10.7,10.7,10.7,10.7,10.7,10.7,10.7,10.7,10.7,10.7,10.7,10.7,10.7,10.7,10.7,10.7,10.7,10.7,10.7,10.7,10.7,10.7,10.7,10.7,10.7,10.7,10.7,10.7,10.7,10.7,10.7,10.7,10.7,10.7,10.7,10.7,10.7,10.7,10.7,10.7,10.7,10.7,10.7,10.7,10.7,10.7,10.7,10.7,10.7,10.7,10.7,5.2,5.2,5.2,5.2,5.2,5.2,5.2,5.2,5.2,5.2,5.2,5.2,5.2,5.2,5.2,5.2,5.2,5.2,5.2,5.2,5.2,5.2,5.2,5.2,5.2,5.2,5.2,5.2,5.2,5.2,5.2,5.2,5.2,5.2,5.2,5.2,5.2,5.2,5.2,5.2,5.2,5.2,5.2,5.2,5.2,5.2,5.2,5.2,5.2,5.2,5.2,5.2,5.2,5.2,5.2,5.2,5.2,5.2,5.2,5.2,5.2,5.2,5.2,5.2,5.2,5.2,5.2,5.2,5.2,5.2,5.2,5.2,5.2,5.2,5.2,5.2,5.2,5.2,5.2,5.2,5.2,5.2,5.2,5.2,5.2,5.9,5.9,5.9,5.9,5.9,5.9,5.9,5.9,5.9,5.9,5.9,5.9,5.9,5.9,5.9,5.9,5.9,5.9,5.9,5.9,5.9,5.9,5.9,5.9,5.9,5.9,5.9,5.9,5.9,5.9,5.9,5.9,5.9,5.9,5.9,5.9,5.9,5.9,5.9,5.9,5.9,5.9,5.9,5.9,5.9,11.8,11.8,11.8,11.8,11.8,11.8,11.8,11.8,11.8,11.8,11.8,11.8,11.8,11.8,11.8,11.8,11.8,11.8,11.8,11.8,11.7,11.7,11.7,11.7,11.7,11.7,11.7,11.7,11.7,11.7,11.7,11.7,11.7,11.7,11.7,11.7,11.7,11.7,11.7,11.7,11.7,11.7,11.7,11.7,11.7,11.7,7.8,7.8,7.8,7.8,7.8,7.8,7.8,7.8,7.8,7.8,7.8,7.8,7.8,7.8,7.8,7.8,7.8,7.8,7.8,7.8,7.8,7.8,7.8,7.8,7.8,7.8,7.8,7.8,7.8,7.8,7.8,7.8,7.8,7.8,7.8,7.8,7.8,7.8,7.8,7.8,7.8,7.8,7.8,7.8,9.0,9.0,9.0,9.0,9.0,9.0,9.0,9.0,9.0,9.0,9.0,9.0,9.0,9.0,9.0,9.0,9.0,9.0,9.0,3.2,3.2,3.2,3.2,3.2,3.2,3.2,3.2,3.2,3.2,3.2,3.2,11.4,11.4,11.4,11.4,11.4,11.4,11.4,11.4,11.4,11.4,11.4,11.4,11.4,11.4,11.4,11.4,11.4,11.4,11.4,11.4,11.4,11.4,11.4,11.4,11.4,11.4,11.4,11.4,11.4,11.4,11.4,11.4,11.4,11.4,11.4,11.4,11.4,11.4,11.4,11.4,11.4,11.4,11.4,11.4,11.4,11.4,11.4,11.4,11.4,11.4,11.4,11.4,11.4,11.4,11.4,11.4,11.4,11.4,8.9,8.9,8.9,8.1,8.1,8.1,8.1,8.1,8.1,8.1,8.1,8.1,8.1,9.3,9.3,9.3,9.3,9.3,9.3,9.3,9.3,9.3,9.3,9.3,9.3,9.3,9.3,9.3,9.3,9.3,13.6,13.6,13.6,13.6,13.6,13.6,13.6,13.6,13.6,13.6,13.6,13.6,13.6,3.4,3.4,3.4,3.4,3.4,3.4,3.4,3.4,3.4,3.4,3.4,3.4,3.4,3.4,3.4,3.4,7.8,7.8,7.8,7.8,7.8,7.8,7.8,7.8,7.8,7.8,7.8,7.8,7.8,7.8,7.8,7.8,7.8,7.8,7.8,7.8,7.8,7.8,7.8,7.8,7.8,7.8,7.8,7.8,7.8,7.8,7.8,7.8,7.8,7.8,7.8,7.8,7.8,7.8,7.8,7.8,7.8,7.8,7.8,7.8,7.8,7.8,7.8,7.8,7.8,7.8,7.8,7.8,7.8,7.8,7.8,7.8,7.8,7.8,7.8,7.8,7.8,7.8,7.8,7.8,7.8,7.8,7.8,7.8,7.8,7.8,7.8,7.8,7.8,7.8,9.2,9.2,9.2,9.2,9.2,9.2,9.2,9.2,9.2,9.2,9.2,9.2,9.2,9.2,9.2,9.2,9.2,9.2,9.2,9.2,9.2,9.2,9.2,9.2,1.6,1.6,1.6,1.6,1.6,1.6,1.6,1.6,1.6,1.6,1.6,1.6,1.6,1.6,1.6,1.6,1.6,1.6,1.6,1.6,1.6,1.6,1.6,1.6,1.6,1.6,13.9,13.9,13.9,13.9,13.9,13.9,13.9,13.9,13.9,13.9,13.9,13.9,13.9,13.9,13.9,13.9,13.9,13.9,13.9,13.9,13.9,13.9,13.9,13.9,13.9,13.9,13.9,13.9,13.9,13.9,13.9,13.9,13.9,13.9,13.9,13.9,13.9,13.9,13.9,13.9,13.9,13.9,13.9,13.9,10.3,10.3,10.3,10.3,10.3,10.3,10.3,10.3,10.3,10.3,10.3,10.3,10.3,10.3,8.5,8.5,8.5,8.5,8.5,8.5,8.5,8.5,8.5,8.5,8.5,8.5,8.5,8.5,8.5,8.5,8.5,8.5,8.5,8.5,8.5,8.5,8.5,8.5,8.5,8.5,8.5,8.5,8.5,8.5,8.5,7.7,7.7,7.7,7.7,7.7,7.7,7.7,7.7,7.7,7.7,7.7,7.7,7.7,7.7,7.7,7.7,7.7,7.7,7.7,7.7,7.7,7.7,7.7,7.7,7.7,7.7,7.7,7.7,7.7,7.7,7.7,7.7,7.7,7.7,7.7,7.7,7.7,7.7,7.7,7.7,7.7,7.7,7.7,7.7,7.7,7.7,7.7,7.7,7.7,7.7,7.7,7.7,7.7,8.0,8.0,8.0,8.0,8.0,8.0,8.0,8.0,8.0,8.0,8.0,8.0,8.0,8.0,8.0,8.0,8.0,8.0,8.0,8.0,8.0,8.0,8.0,8.0,8.0,8.0,8.0,8.0,8.0,8.0,8.0,8.0,8.0,8.0,8.0,8.0,8.0,8.0,8.0,8.0,8.0,8.0,8.0,8.0,8.0,8.0,8.0,8.0,8.0,8.0,8.0,8.0,8.0,8.0,8.0,8.0,8.0,8.0,8.0,8.0,8.0,8.0,8.0,8.0,8.0,8.0,8.0,8.0,8.0,8.0,8.0,8.0,8.0,8.0,9.4,9.4,9.4,9.4,9.4,9.4,5.8,5.8,5.8,5.8,5.8,5.8,5.8,5.8,5.8,5.8,5.8,5.8,5.8,5.8,5.8,5.8,5.8,5.8,5.8,5.8,1.6,1.6,1.6,1.6,1.6,1.6,1.6,1.6,1.6,1.6,1.6,1.6,1.6,1.6,1.6,1.6,1.6,1.6,1.6,3.5,3.5,3.5,3.5,3.5,3.5,3.5,3.5,3.5,3.5,3.5,3.5,3.5,3.5,3.5,3.5,3.5,3.5,3.5,3.5,3.5,3.5,3.5,3.5,3.5,3.5,3.5,3.5,3.5,3.5,4.4,4.4,4.4,4.4,4.4,4.4,4.4,4.4,4.4,4.4,4.4,4.4,4.4,4.4,4.4,4.4,6.4,6.4,6.4,6.4,6.4,6.4,6.4,6.4,6.4,6.4,6.4,6.4,6.4,6.4,6.4,6.4,6.4,6.4,6.4,6.4,6.4,6.4,6.4,6.4,6.4,6.4,6.4,6.4,6.4,6.4,6.4,6.4,6.4,6.4,6.4,6.4,6.4,6.4,6.4,6.4,6.4,6.4,6.4,6.4,6.4,6.4,6.4,6.4,6.4,6.4,6.4,6.4,6.4,6.4,6.4,6.4,6.4,6.4,6.4,6.4,6.4,6.4,6.4,9.2,9.2,9.2,9.2,9.2,9.2,9.2,9.2,9.2,9.2,9.2,9.2,9.2,9.2,9.2,9.2,9.2,9.2,9.2,9.2,9.2,9.2,9.2,9.2,9.2,9.2,9.2,9.2,9.2,9.2,9.2,9.2,9.2,9.2,9.2,9.2,9.2,9.2,9.2,9.2,9.2,9.2,9.2,9.2,9.2,9.2,9.2,9.2,9.2,9.2,9.2,9.2,9.2,9.2,9.2,9.2,9.2,9.2,9.2,9.2,9.2,9.2,9.2,13.0,13.0,13.0,13.0,13.0,13.0,13.0,13.0,13.0,13.0,13.0,13.0,13.0,13.0,13.0,13.0,13.0,13.0,13.0,13.0,13.0,13.0,13.0,13.0,13.0,13.0,13.0,13.0,13.0,13.0,13.0,13.0,13.0,13.0,13.0,13.0,13.0,13.0,13.0,13.0,13.0,13.0,13.0,13.0,13.0,13.0,13.0,13.0,13.0,13.0,13.0,13.0,13.0,13.6,13.6,13.6,13.6,13.6,13.6,13.6,13.6,13.6,13.6,13.6,12.1,12.1,12.1,12.1,12.1,12.1,12.1,12.1,12.1,12.1,12.1,12.1,12.1,12.1,12.1,12.1,12.1,12.1,12.1,12.1,12.1,12.1,12.1,12.1,12.1,13.7,13.7,13.7,13.7,13.7,13.7,13.7,13.7,13.7,13.7,13.7,13.7,13.7,13.7,13.7,13.7,13.7,13.7,13.7,13.7,13.7,13.7,13.7,13.7,13.7,13.7,13.7,13.7,13.7,13.7,13.7,13.7,13.7,13.7,13.7,13.7,13.7,13.7,13.7,14.5,14.5,14.5,14.5,14.5,14.5,14.5,14.5,4.6,4.6,4.6,4.6,4.6,4.6,4.6,4.6,4.6,4.6,4.6,4.6,4.6,4.6,4.6,4.6,4.6,4.6,4.6,4.6,4.6,4.6,4.6,4.6,4.6,4.6,4.6,4.6,4.6,4.6,4.6,4.6,4.6,4.6,4.6,4.6,4.6,4.6,4.6,4.6,4.6,4.6,4.6,4.6,4.6,4.6,4.6,4.6,4.6,4.6,4.6,4.6,4.6,4.6,4.6,4.6,4.6,4.6,4.6,4.6,10.5,10.5,10.5,10.5,10.5,10.5,10.5,10.5,10.5,10.5,10.5,10.5,10.5,10.5,10.5,10.5,10.5,10.5,10.5,10.5,10.5,10.5,10.5,10.5,10.5,10.5,9.4,9.4,9.4,9.4,9.4,9.4,9.4,9.4,9.4,9.4,9.4,9.4,9.4,9.4,9.4,9.4,9.4,13.0,13.0,13.0,13.0,13.0,13.0,13.0,13.0,13.0,13.0,13.0,13.0,13.0,13.0,13.0,13.0,13.0,13.0,7.9,7.9,7.9,7.9,7.9,7.9,7.9,7.9,7.9,7.9,7.9,7.9,7.9,7.9,7.9,7.9,7.9,7.9,7.9,7.9,7.9,7.9,7.9,7.9,7.9,7.9,7.9,7.9,7.9,7.9,7.9,7.9,7.9,7.9,15.0,15.0,15.0,15.0,15.0,15.0,12.8,12.8,12.8,12.8,12.8,12.8,12.8,12.8,12.8,12.8,12.8,12.8,12.8,12.8,12.8,12.8,12.8,12.8,12.8,12.8,12.8,12.8,12.8,12.8,12.8,12.8,12.8,12.8,12.8,12.8,12.8,12.8,12.8,12.8,12.8,12.8,12.8,12.8,12.8,12.8,4.2,4.2,4.2,4.2,4.2,4.2,4.2,4.2,4.2,4.2,4.2,4.2,4.2,4.2,4.2,4.2,4.2,4.2,4.2,4.2,4.2,4.2,4.2,4.2,4.2,4.2,4.2,4.2,4.2,4.2,4.2,4.2,4.2,4.2,4.2,4.2,4.2,4.2,4.2,4.2,4.2,4.2,5.6,5.6,5.6,5.6,5.6,5.6,5.6,5.6,5.6,5.6,5.6,5.6,5.6,5.6,5.6,5.6,5.6,5.6,5.6,5.6,5.6,5.6,5.6,5.6,5.6,5.6,5.6,5.6,5.6,5.6,5.6,5.6,5.6,5.6,5.6,5.6,5.6,5.6,5.6,5.6,5.6,5.6,5.6,5.6,5.6,5.6,5.6,5.6,5.6,5.6,5.6,5.6,5.6,5.6,5.6,5.6,5.6,5.6,7.5,7.5,7.5,7.5,7.5,7.5,7.5,7.5,7.5,7.5,7.5,9.2,9.2,9.2,9.2,9.2,9.2,9.2,9.2,9.2,9.2,9.2,9.2,9.2,9.2,9.2,9.2,9.2,9.2,9.2,9.2,9.2,9.2,9.2,9.2,9.2,7.4,7.4,7.4,7.4,7.4,7.4,7.4,7.4,7.4,7.4,7.4,7.4,7.4,7.4,7.4,7.4,7.4,7.4,7.4,7.4,7.4,7.4,7.4,11.2,11.2,11.2,11.2,11.2,11.2,11.2,11.2,11.2,11.2,11.2,11.2,11.2,11.2,11.2,11.2,11.2,11.2,11.2,11.2,11.2,11.2,11.2,11.2,11.2,11.2,11.2,11.2,11.2,11.2,11.2,11.2,11.2,11.2,11.2,11.2,11.2,11.2,11.2,11.2,11.2,11.2,11.2,11.2,11.2,11.2,11.2,11.2,8.7,8.7,8.7,8.7,8.7,8.7,8.7,8.7,8.7,8.7,8.7,8.7,8.7,8.7,8.7,8.7,8.7,8.7,8.7,8.7,8.7,8.7,8.7,8.7,8.7,8.7,8.7,8.7,8.7,8.7,8.7,8.7,8.7,8.7,8.7,8.7,8.7,8.7,8.7,8.7,8.7,8.7,8.7,2.8,2.8,2.8,2.8,2.8,2.8,2.8,2.8,2.8,2.8,2.8,2.8,2.8,2.8,2.8,2.8,2.8,2.8,2.8,2.8,2.8,4.1,4.1,4.1,4.1,4.1,4.1,4.1,4.1,4.1,4.1,4.1,11.8,11.8,11.8,11.8,11.8,11.8,11.8,11.8,11.8,11.8,11.8,11.8,11.8,6.9,6.9,6.9,6.9,6.9,6.9,6.9,6.9,6.9,6.9,6.9,6.9,6.9,6.9,6.9,6.9,6.9,6.9,6.9,6.9,6.9,6.9,6.9,6.9,6.9,6.9,6.9,6.9,6.9,6.9,6.9,6.9,6.9,6.9,6.9,6.9,6.9,6.9,6.9,6.9,6.9,6.9,6.9,6.9,6.9,6.9,6.9,6.9,6.9,6.9,6.9,6.9,6.9,6.9,6.9,6.9,6.9,6.9,6.9,14.6,14.6,14.6,14.6,14.6,14.6,14.6,14.6,14.6,14.6,14.6,14.6,14.6,14.6,14.6,14.6,14.6,14.6,14.6,14.6,14.6,14.6,14.6,14.6,14.6,14.6,14.6,14.6,14.6,14.6,14.6,14.6,14.6,8.4,8.4,8.4,8.4,8.4,8.4,8.4,8.4,8.4,8.4,8.4,8.4,8.4,8.4,8.4,8.4,8.4,8.4,8.4,8.4,8.4,8.4,8.4,8.4,8.4,8.4,8.4,8.4,8.4,8.4,8.4,8.4,8.4,8.4,8.4,8.4,8.4,8.4,8.4,8.4,8.4,8.4,8.4,8.4,8.4,8.4,8.4,8.4,8.4,8.4,8.4,8.4,8.4,11.2,11.2,11.2,11.2,11.2,11.2,11.2,11.2,11.2,11.2,11.2,11.2,11.2,11.2,11.2,11.2,11.2,2.3,2.3,2.3,2.3,2.3,2.3,2.3,2.3,2.3,2.3,2.3,2.3,2.3,2.3,2.3,2.3,2.3,2.3,2.3,2.3,2.3,2.3,2.3,2.3,2.3,2.3,2.3,2.3,2.3,2.3,2.3,2.3,2.3,5.5,5.5,5.5,5.5,5.5,5.5,5.5,5.5,5.5,5.5,5.5,5.5,5.5,5.5,5.5,5.5,5.5,5.5,5.5,5.5,5.5,5.5,5.5,5.5,5.5,5.5,5.5,5.5,5.5,5.5,5.5,5.5,5.5,5.5,5.5,5.5,5.5,5.5,5.5,5.5,5.5,5.5,5.5,5.5,5.5,5.5,5.5,5.5,5.5,5.5,5.5,5.5,5.5,5.5,5.5,5.5,5.5,5.5,5.5,5.5,5.5,5.5,5.5,5.5,11.5,11.5,11.5,11.5,11.5,11.5,11.5,11.5,11.5,11.5,11.5,11.5,11.5,11.5,11.5,11.5,11.5,11.5,14.7,14.7,14.7,14.7,14.7,14.7,14.7,14.7,14.7,14.7,14.7,14.7,14.7,14.7,14.7,14.7,2.6,2.6,2.6,2.6,2.6,2.6,2.6,2.6,9.9,9.9,9.9,9.9,9.9,9.9,9.9,9.9,9.9,9.9,9.9,9.9,9.9,9.9,9.9,9.9,9.9,9.9,9.9,9.9,9.9,9.9,9.9,9.9,9.9,9.9,9.9,9.9,9.9,9.9,9.9,9.9,9.9,9.9,9.9,9.9,9.9,9.9,9.9,9.9,9.9,9.9,9.9,9.9,9.9,9.9,9.9,9.9,9.9,9.9,9.9,9.9,9.9,9.9,9.9,9.9,9.9,9.9,9.9,9.9,9.9,3.8,3.8,3.8,3.8,3.8,3.8,3.8,3.8,3.8,3.8,3.8,3.8,3.8,3.8,3.8,3.8,3.8,3.8,3.8,3.8,3.8,3.8,3.8,3.8,3.8,3.8,3.8,3.8,3.8,3.8,3.8,3.8,3.8,3.8,3.8,3.8,3.8,3.8,3.8,3.8,3.8,3.8,3.8,3.8,3.8,3.8,3.8,3.8,3.8,3.8,3.8,3.8,3.8,3.8,3.8,3.8,4.5,4.5,4.5,4.5,4.5,4.5,4.5,4.5,4.5,4.5,4.5,4.5,4.5,4.5,4.5,4.5,4.5,4.5,4.5,4.5,4.5,4.5,4.5,4.5,4.5,4.5,4.5,4.5,4.5,4.5,4.5,4.5,4.5,4.5,4.5,4.5,4.5,4.5,4.5,4.5,8.8,8.8,8.8,8.8,8.8,8.8,8.8,8.8,8.8,8.8,8.8,8.8,8.8,8.8,8.8,8.8,8.8,8.8,8.8,8.8,8.8,8.8,8.8,8.8,8.8,8.8,8.8,8.8,8.8,8.8,8.8,8.8,8.8,8.8,8.8,8.8,8.8,8.8,8.8,8.8,8.8,8.8,8.8,8.8,8.8,8.8,8.8,8.8,8.8,8.8,8.8,8.8,8.8,8.8,8.8,8.8,8.8,8.8,8.8,8.8,8.8,8.8,8.8,8.8,8.8,8.8,11.2,11.2,11.2,11.2,11.2,11.2,11.2,11.2,11.2,11.2,11.2,11.2,11.2,11.2,11.2,11.2,11.2,11.2,11.2,11.2,11.2,11.2,11.2,11.2,11.2,11.2,11.2,11.2,11.2,11.2,11.2,11.2,11.2,11.2,11.2,11.2,11.2,11.2,11.2,11.2,11.2,11.2,11.2,11.2,11.2,11.2,11.2,11.2,11.2,11.2,11.2,11.2,11.2,11.2,11.2,11.2,11.2,11.2,11.2,11.2,11.2,11.2,11.2,11.2,11.2,11.2,11.2,11.2,11.2,11.2,11.2,11.2,11.2,11.2,11.2,11.2,11.2,11.2,11.2,11.2,11.2,11.2,11.2,11.2,11.2,11.2,11.2,11.2,11.2,11.2,11.2,11.2,11.2,11.2,11.2,11.2,11.2,11.2,11.2,11.2,11.2,11.2,11.2,11.2,11.2,11.2,11.2,11.2,11.2,11.2,11.2,11.2,11.2,11.2,11.2,2.6,2.6,2.6,2.6,2.6,2.6,2.6,2.6,2.6,2.6,2.6,2.6,2.6,2.6,2.6,2.6,2.6,2.6,2.6,2.6,2.6,2.6,2.6,2.6,2.6,2.6,2.6,2.6,2.6,2.6,2.6,2.6,2.6,2.6,2.6,2.6,2.6,2.6,2.6,2.6,2.6,2.6,2.6,2.6,2.6,2.6,2.6,2.6,2.6,2.6,2.6,2.6,2.6,2.6,2.6,2.6,2.6,2.6,2.6,2.6,2.6,2.6,2.6,2.6,2.6,2.6,2.6,2.6,2.6,2.6,2.6,2.6,2.6,2.6,2.6,2.6,2.6,2.6,2.6,2.6,2.6,2.6,2.6,2.6,2.6,2.6,2.6,2.6,2.6,2.6,2.6,2.6,2.6,2.6,2.6,2.6,2.6,2.6,2.6,2.6,2.6,2.6,2.6,2.6,2.6,2.6,2.6,2.6,2.6,2.6,11.4,11.4,11.4,11.4,11.4,11.4,11.4,11.4,11.4,11.4,11.4,11.4,11.4,11.4,11.4,11.4,11.4,11.4,11.4,11.4,6.6,6.6,6.6,6.6,6.6,6.6,6.6,6.6,6.6,6.6,6.6,6.6,6.6,6.6,6.6,6.6,6.6,6.6,6.6,6.6,6.6,6.6,6.6,6.6,6.6,6.6,6.6,2.1,2.1,2.1,2.1,2.1,2.1,2.1,2.1,2.1,2.1,2.1,2.1,2.1,2.1,2.1,2.1,2.1,2.1,2.1,2.1,2.1,2.1,2.1,2.1,2.1,2.1,2.1,3.3,3.3,3.3,3.3,3.3,3.3,3.3,3.3,3.3,3.3,3.3,3.3,3.3,3.3,3.3,3.3,3.3,3.3,3.3,3.3,3.3,3.3,3.3,3.3,3.3,3.3,3.3,3.3,3.3,3.3,3.3,3.3,3.3,3.3,3.3,3.3,3.3,3.3,3.3,3.3,3.3,3.3,3.3,3.3,3.3,3.3,3.3,3.3,3.3,3.3,3.3,3.3,3.3,3.3,3.3,3.3,3.3,3.3,3.3,3.3,3.3,1.2,1.2,1.2,1.2,1.2,1.2,1.2,1.2,1.2,1.2,1.2,1.2,1.2,1.2,1.2,1.2,7.7,7.7,7.7,7.7,7.7,7.7,7.7,7.7,7.7,7.7,7.7,7.7,7.7,7.7,6.1,6.1,6.1,6.1,6.1,6.1,6.1,6.1,6.1,6.1,6.1,6.1,6.1,6.1,6.1,6.1,6.1,6.1,6.1,6.1,6.1,6.1,6.1,6.1,6.1,6.1,6.1,6.1,6.1,6.1,6.1,6.1,6.1,6.1,6.1,6.1,6.1,6.1,6.1,6.1,6.1,6.1,6.1,6.1,6.1,6.1,6.1,6.1,6.1,6.1,6.1,6.1,6.1,6.1,6.1,6.1,6.1,6.1,6.1,6.1,6.1,6.1,6.1,6.1,6.1,6.1,9.7,9.7,9.7,9.7,9.7,9.7,9.7,9.7,9.7,9.7,9.7,9.7,9.7,9.7,9.7,9.7,9.7,9.7,9.7,9.7,12.6,12.6,12.6,12.6,12.6,12.6,12.6,12.6,12.6,12.6,12.6,12.6,12.6,12.6,12.6,12.6,12.6,12.6,12.6,12.6,12.6,12.6,12.6,12.6,12.6,12.6,12.6,12.6,12.6,12.6,12.6,12.6,13.3,13.3,13.3,13.3,13.3,13.3,13.3,13.3,13.3,13.3,13.3,13.3,13.3,13.3,13.3,13.3,13.3,13.5,13.5,13.5,13.5,13.5,13.5,13.5,13.5,13.5,13.5,13.5,13.5,13.5,13.5,13.5,13.5,13.5,13.5,13.5,13.5,13.5,13.5,13.5,13.5,13.5,13.5,13.5,13.5,13.5,13.5,13.5,13.5,11.2,11.2,11.2,11.2,11.2,11.2,11.2,11.2,11.2,11.2,11.2,11.2,11.2,11.2,11.2,11.2,11.2,11.2,11.2,11.2,11.2,11.2,11.2,11.2,11.2,11.2,11.2,11.2,11.2,11.2,11.2,11.2,11.2,11.2,11.2,11.2,11.2,11.2,11.2,13.8,13.8,13.8,13.8,13.8,13.8,13.8,13.8,13.8,13.8,13.8,13.8,13.8,13.8,13.8,13.8,13.8,13.8,13.8,13.8,13.8,13.8,13.8,13.8,13.8,13.8,13.8,13.8,13.8,13.8,13.8,13.8,13.8,13.8,6.5,6.5,6.5,6.5,6.5,6.5,6.5,6.5,6.5,6.5,6.5,6.5,6.5,6.5,6.5,6.5,6.5,6.5,6.5,6.5,6.5,6.5,6.5,6.5,6.5,6.5,6.5,6.5,6.5,6.5,6.5,6.5,6.5,6.5,6.5,6.5,6.5,6.5,6.5,6.5,6.5,6.5,6.5,6.5,6.5,6.5,4.6,4.6,4.6,4.6,4.6,4.6,4.6,4.6,4.6,4.6,4.6,4.6,4.6,4.6,4.6,4.6,4.6,4.6,4.6,4.6,4.6,4.6,4.6,4.6,4.6,4.6,4.6,4.6,4.6,4.6,13.8,13.8,13.8,13.8,13.8,13.8,13.8,13.8,13.8,13.8,13.8,13.8,13.8,13.8,13.8,14.9,14.9,14.9,14.9,14.9,14.9,14.9,14.9,14.9,14.9,14.9,14.9,14.9,14.9,14.9,14.9,14.9,14.9,14.9,1.9,1.9,1.9,1.9,1.9,1.9,1.9,1.9,1.9,1.9,1.9,1.9,1.9,1.9,8.0,8.0,8.0,8.0,8.0,8.0,8.0,8.0,8.0,8.0,8.0,8.0,8.0,8.0,8.0,8.0,8.0,8.0,8.0,8.0,8.0,8.0,8.0,8.0,8.0,8.0,8.0,8.0,8.0,8.0,8.0,8.0,8.0,8.0,8.0,8.9,8.9,8.9,5.1,5.1,5.1,5.1,5.1,5.1,5.1,5.1,5.1,5.1,5.1,5.1,5.1,5.1,5.1,5.1,5.1,5.1,5.1,15.0,15.0,15.0,15.0,15.0,15.0,15.0,15.0,15.0,15.0,15.0,7.0,7.0,7.0,7.0,7.0,7.0,7.0,7.0,7.0,7.0,7.0,7.0,7.0,7.0,7.0,7.0,7.0,7.0,7.0,7.0,7.0,7.0,7.0,7.0,7.0,7.0,7.0,7.0,7.0,7.0,7.0,7.0,7.0,7.0,7.0,7.0,7.0,7.0,7.0,7.0,7.0,7.0,7.0,7.0,7.0,7.0,7.0,7.0,7.0,7.0,7.0,7.0,7.0,7.0,7.0,7.0,7.0,7.0,7.0,7.0,7.0,7.0,9.1,9.1,9.1,9.1,9.1,9.1,9.1,9.1,9.1,9.1,9.1,9.1,9.1,9.1,9.1,9.1,9.5,9.5,9.5,9.5,4.5,4.5,4.5,4.5,4.5,4.5,4.5,4.5,4.5,4.5,4.5,4.5,4.5,4.5,4.5,4.5,4.5,4.5,4.5,4.5,4.5,4.5,4.5],\"xaxis\":\"x\",\"y\":[1035000.0,1465000.0,1600000.0,1876000.0,1636000.0,1097000.0,1350000.0,750000.0,1310000.0,1200000.0,1176500.0,890000.0,1330000.0,500000.0,1100000.0,1315000.0,1447500.0,1135000.0,1290000.0,470000.0,1180000.0,1195000.0,1012500.0,1030000.0,840000.0,730000.0,770000.0,603000.0,700000.0,600000.0,500000.0,725000.0,450000.0,515000.0,530000.0,895000.0,805000.0,752000.0,700000.0,830000.0,675000.0,1042000.0,773000.0,810000.0,715000.0,540000.0,825000.0,685000.0,900000.0,1275000.0,2850000.0,1850000.0,1436000.0,2300000.0,1800000.0,2120000.0,1800000.0,2615000.0,1370000.0,1322500.0,1562500.0,2000000.0,3010000.0,2800000.0,2100000.0,2000000.0,442500.0,4735000.0,2140000.0,980000.0,1740000.0,985000.0,2000000.0,1717500.0,2840000.0,525500.0,805000.0,1830000.0,2100000.0,865000.0,390000.0,512000.0,1900000.0,1950000.0,520000.0,1525000.0,720000.0,1120000.0,1780000.0,630000.0,660000.0,580000.0,1335000.0,510000.0,425000.0,391000.0,845000.0,730000.0,447000.0,678000.0,580000.0,840000.0,577000.0,857000.0,730000.0,535600.0,1085000.0,781000.0,421000.0,683000.0,720000.0,588000.0,710000.0,875000.0,675000.0,708000.0,693000.0,620000.0,728500.0,931000.0,815000.0,1200000.0,292000.0,599000.0,995000.0,1205000.0,1939000.0,1870000.0,1918000.0,2050000.0,735000.0,1435000.0,280000.0,592500.0,1210000.0,2801000.0,1800000.0,2200000.0,5525000.0,440000.0,1300000.0,704000.0,620000.0,1900000.0,710000.0,598000.0,1285000.0,520000.0,3625000.0,4200000.0,1101000.0,3512500.0,869000.0,567000.0,940000.0,467000.0,1380000.0,490000.0,1850000.0,971000.0,710000.0,2425000.0,750000.0,1053000.0,1377000.0,970000.0,751000.0,950000.0,685000.0,1230000.0,770000.0,890000.0,1440000.0,1000000.0,1435000.0,390000.0,1425000.0,1340000.0,955000.0,1100000.0,432000.0,1640000.0,1430000.0,610000.0,940000.0,890000.0,1180000.0,1480000.0,865000.0,442000.0,1037500.0,1050000.0,440000.0,1430000.0,1130000.0,1135000.0,950000.0,390000.0,1345000.0,1381500.0,940000.0,995000.0,786000.0,705000.0,760000.0,1000000.0,1305000.0,1215000.0,545000.0,1705000.0,2650000.0,1670000.0,2050000.0,1555000.0,1100000.0,1337000.0,2950000.0,1518000.0,1710000.0,1655000.0,1550000.0,1662000.0,1665000.0,3510000.0,900000.0,2752000.0,1500000.0,1800000.0,1830000.0,1415000.0,1440000.0,1250000.0,1600000.0,1860000.0,1790000.0,1950000.0,1650000.0,1200000.0,1075000.0,1500000.0,700000.0,761000.0,1365000.0,1100000.0,690000.0,1631000.0,1500000.0,1529500.0,600000.0,1240000.0,700000.0,1110000.0,1305000.0,855000.0,900500.0,1200000.0,830000.0,850000.0,750000.0,851000.0,1155000.0,680000.0,627500.0,950000.0,705000.0,1100000.0,892500.0,522500.0,680000.0,875000.0,762000.0,411000.0,805000.0,634000.0,1819000.0,410000.0,1015000.0,502500.0,520000.0,442000.0,1193000.0,416000.0,474000.0,981000.0,1690000.0,540000.0,2100000.0,1800000.0,1255000.0,1070000.0,2570000.0,2400000.0,806000.0,4000000.0,2250000.0,2800000.0,1850000.0,700000.0,500000.0,2125000.0,1800000.0,635000.0,526000.0,905000.0,1750000.0,760000.0,1367000.0,1400000.0,3270000.0,625000.0,2730000.0,460000.0,1053000.0,1472000.0,754000.0,2188000.0,755000.0,3290000.0,2410000.0,650000.0,2000000.0,1900000.0,3401000.0,1750000.0,3020000.0,2450000.0,730000.0,1500000.0,1700000.0,1315000.0,1500000.0,3230000.0,1905000.0,3300000.0,1900000.0,2251000.0,2205000.0,1265000.0,1750000.0,1450000.0,2614000.0,1825000.0,3250000.0,1150000.0,1572000.0,1750000.0,1850000.0,2130000.0,3690000.0,1740000.0,2575000.0,1388800.0,1800000.0,2910000.0,2200000.0,1700000.0,1230000.0,2600000.0,1950000.0,1750000.0,2000000.0,1480000.0,1818000.0,2525000.0,3360000.0,1903000.0,1720000.0,1675000.0,1680000.0,4000000.0,2205000.0,2100000.0,685000.0,1335000.0,1900000.0,1040000.0,1250000.0,1875000.0,1530000.0,1700000.0,1651000.0,1920000.0,1560000.0,1038000.0,1660000.0,1770000.0,691500.0,875000.0,1425000.0,851000.0,1222500.0,1317500.0,360000.0,1435000.0,1110000.0,2435000.0,1500000.0,1300000.0,1125000.0,1328000.0,1340000.0,1155000.0,1275000.0,855000.0,650000.0,1815000.0,2255000.0,855000.0,1860000.0,725000.0,1293000.0,1328000.0,1247000.0,1370000.0,1095000.0,725000.0,825000.0,1235000.0,1165000.0,1910000.0,820000.0,1430000.0,910000.0,2520000.0,1900000.0,670000.0,680000.0,1320000.0,1900000.0,1535000.0,1281000.0,1385000.0,2620000.0,825000.0,746000.0,1275000.0,1025000.0,495000.0,1220000.0,885000.0,830000.0,1210000.0,1160000.0,1215000.0,1200000.0,1050000.0,950000.0,380000.0,1338000.0,651000.0,1390000.0,1100000.0,1206000.0,486500.0,1415000.0,1185000.0,1060000.0,845000.0,860000.0,921000.0,742500.0,920000.0,702000.0,805000.0,1100000.0,1050000.0,722000.0,930000.0,921000.0,1035000.0,1352000.0,1005000.0,1600000.0,1200000.0,780000.0,1250000.0,1110000.0,1690000.0,791000.0,900000.0,970000.0,823000.0,1045000.0,655000.0,1550000.0,835000.0,1465000.0,910000.0,920000.0,935000.0,977000.0,1352000.0,1115000.0,1197000.0,485000.0,1365000.0,1698888.0,965000.0,870000.0,1161000.0,1266000.0,700000.0,1325000.0,770000.0,380000.0,1175000.0,1200000.0,1370000.0,1433500.0,860000.0,715000.0,710000.0,1550000.0,790000.0,1020000.0,886000.0,1015000.0,1255000.0,1320000.0,870000.0,1472500.0,640000.0,1620000.0,645000.0,1560000.0,1715000.0,1200000.0,1760000.0,948000.0,465000.0,975000.0,1325000.0,750000.0,1400000.0,1500000.0,1600000.0,1461400.0,775000.0,1670000.0,4000000.0,928000.0,636000.0,1170000.0,1670000.0,857000.0,822500.0,645000.0,502000.0,495000.0,868000.0,645000.0,652000.0,850000.0,575000.0,882000.0,730000.0,610000.0,696000.0,579000.0,765000.0,475000.0,550000.0,495000.0,565000.0,1635000.0,3695000.0,536000.0,3700000.0,1975000.0,1390000.0,2905000.0,1300000.0,1725000.0,2100000.0,800000.0,1761000.0,1302500.0,2750000.0,892500.0,2145000.0,3171000.0,620000.0,1475000.0,1650000.0,1562500.0,2050000.0,3320000.0,1100000.0,1650000.0,1570000.0,1785000.0,1875000.0,1266000.0,2730000.0,3295888.0,375000.0,756000.0,2100000.0,2375000.0,1385000.0,858000.0,2800000.0,3700000.0,2475000.0,2700000.0,3900000.0,610000.0,1532000.0,1037000.0,3050000.0,1630000.0,2640000.0,671000.0,2250000.0,2900000.0,2405000.0,1352500.0,3105000.0,1500000.0,1940000.0,1850000.0,930000.0,1310000.0,2504000.0,1445000.0,1825000.0,1700000.0,1400000.0,1500000.0,1400000.0,1600000.0,1780000.0,1200000.0,775000.0,1480000.0,1590000.0,2840000.0,1000000.0,1700000.0,3207000.0,880000.0,1920000.0,1301000.0,2550000.0,1915000.0,1650000.0,1530000.0,2050000.0,2550000.0,905000.0,1355000.0,1845000.0,2050000.0,1710000.0,1300000.0,2200000.0,2150000.0,681000.0,1310000.0,340000.0,692000.0,1367000.0,903000.0,2820000.0,1813000.0,1655000.0,1230000.0,1389000.0,2310000.0,1014000.0,1026000.0,1802500.0,1500000.0,2230000.0,410000.0,272500.0,680000.0,400000.0,950000.0,845500.0,605000.0,445000.0,659500.0,600000.0,1115000.0,1125000.0,855000.0,940000.0,750000.0,1056000.0,880000.0,1222500.0,955000.0,587000.0,1060000.0,890000.0,685000.0,976000.0,641000.0,770000.0,279500.0,1800000.0,1350000.0,1320000.0,825000.0,1261000.0,1045000.0,1044000.0,1050000.0,1691500.0,1075000.0,501000.0,1260000.0,1650000.0,601000.0,1015000.0,625000.0,1700000.0,435000.0,2500000.0,860000.0,491000.0,985000.0,1250000.0,641000.0,860000.0,705000.0,880000.0,754000.0,590000.0,575000.0,1510000.0,801000.0,820000.0,370000.0,1170000.0,1790000.0,640000.0,1875000.0,1053000.0,705000.0,1217000.0,1020000.0,1340000.0,1410000.0,1550000.0,740000.0,592500.0,370000.0,765000.0,772000.0,1210000.0,1755000.0,945000.0,755000.0,521500.0,1190000.0,471000.0,265000.0,955000.0,1350000.0,380000.0,300000.0,810000.0,793000.0,400000.0,400500.0,797500.0,1300000.0,1330000.0,1205000.0,380000.0,1095000.0,680000.0,711000.0,500000.0,385000.0,370000.0,320000.0,330000.0,1200000.0,537000.0,910000.0,285000.0,921500.0,1315000.0,370000.0,735000.0,1000000.0,252000.0,1700000.0,820000.0,370000.0,484000.0,815000.0,1150000.0,497000.0,440000.0,816000.0,970000.0,851000.0,1300000.0,1235000.0,1303000.0,880000.0,975000.0,990000.0,1225000.0,1490000.0,905000.0,1085000.0,787000.0,1075000.0,1302000.0,1050000.0,1000000.0,1300000.0,990000.0,1100000.0,903000.0,1590000.0,1890000.0,1022500.0,1755000.0,1300000.0,1160000.0,2000000.0,790000.0,1682000.0,625000.0,650000.0,1060000.0,1255000.0,633000.0,1350000.0,570000.0,745000.0,2150000.0,746000.0,1540000.0,1270000.0,900000.0,1250000.0,1410000.0,800000.0,702000.0,2650000.0,729000.0,2600000.0,1650000.0,615000.0,1987000.0,683000.0,1690000.0,430000.0,2600000.0,2325000.0,435000.0,2000000.0,1302000.0,1622000.0,502000.0,435000.0,591000.0,2608000.0,1780000.0,2250000.0,895000.0,1800000.0,900000.0,2700000.0,530000.0,2228000.0,1602500.0,2177000.0,3400000.0,2105000.0,1625000.0,3300000.0,667000.0,2015000.0,700000.0,3225000.0,3320000.0,2125000.0,2030000.0,2750000.0,2000000.0,2250000.0,2740000.0,2950000.0,1587500.0,830000.0,2375000.0,2900000.0,2200000.0,2620000.0,1305000.0,928000.0,2930000.0,2950000.0,722000.0,2350000.0,1640000.0,1680000.0,3550000.0,3400000.0,1850000.0,3145000.0,1425000.0,2950000.0,2175000.0,800000.0,2718000.0,2400000.0,2520000.0,2050000.0,1950000.0,437000.0,520000.0,570000.0,820000.0,795000.0,600000.0,1295000.0,510000.0,346000.0,860000.0,772000.0,1506000.0,675000.0,525000.0,290000.0,360000.0,967500.0,330000.0,1600000.0,1008000.0,1170000.0,1830000.0,250000.0,930000.0,465000.0,1550000.0,707000.0,804000.0,1501000.0,970000.0,817500.0,1450000.0,855000.0,675000.0,588000.0,455000.0,920000.0,656000.0,930000.0,415000.0,650000.0,1360000.0,350000.0,1430000.0,1490000.0,1125000.0,405000.0,1655000.0,808000.0,370000.0,1880000.0,585000.0,450000.0,860000.0,605000.0,1518000.0,632500.0,435000.0,468250.0,1716000.0,365000.0,722500.0,550000.0,131000.0,1750000.0,580000.0,2005000.0,420000.0,290000.0,1400000.0,450000.0,536000.0,550000.0,2170000.0,1577500.0,1460000.0,275500.0,1065000.0,1030000.0,1225000.0,1450000.0,1774500.0,525500.0,825000.0,1262000.0,1340000.0,1200000.0,1001000.0,1330000.0,1570000.0,1916000.0,890000.0,700000.0,865000.0,1042500.0,1002000.0,650000.0,965000.0,1301000.0,1415500.0,1260000.0,1000000.0,845000.0,881000.0,780000.0,1060000.0,930000.0,1075000.0,1105000.0,1209000.0,3010000.0,1435000.0,1290000.0,495000.0,1370000.0,1450000.0,885500.0,825000.0,1506000.0,1360000.0,850000.0,784000.0,680000.0,807000.0,675000.0,1202000.0,1370000.0,1000000.0,145000.0,860000.0,953000.0,735000.0,947000.0,500000.0,466000.0,740000.0,812000.0,766000.0,825000.0,1131000.0,1064000.0,1210000.0,434000.0,653000.0,640000.0,1130000.0,763000.0,903000.0,1000000.0,1742000.0,865000.0,485000.0,1278000.0,590000.0,1136000.0,635000.0,1400000.0,1260000.0,841000.0,537500.0,598000.0,1120000.0,870000.0,680000.0,825000.0,725000.0,1250000.0,1008000.0,990000.0,451000.0,635000.0,1020000.0,1025000.0,700000.0,1130000.0,1075000.0,600000.0,1150000.0,515000.0,472000.0,901000.0,605000.0,687000.0,975000.0,1370000.0,700000.0,810000.0,838000.0,1150000.0,931000.0,241000.0,981000.0,570000.0,500000.0,655000.0,631000.0,600000.0,715000.0,864000.0,700000.0,591000.0,860000.0,765000.0,625000.0,745000.0,1050000.0,935000.0,820000.0,780000.0,707000.0,637000.0,950000.0,860000.0,1172000.0,650000.0,792000.0,720000.0,970000.0,890000.0,1260000.0,855000.0,1125000.0,910000.0,452000.0,415000.0,372000.0,1326000.0,1230000.0,855000.0,457000.0,897500.0,1265000.0,1075000.0,366000.0,981000.0,683000.0,1000000.0,887500.0,713500.0,1500000.0,672000.0,800000.0,1645000.0,860000.0,1403000.0,1450000.0,1396000.0,1125000.0,700000.0,1152000.0,1868000.0,1050000.0,910000.0,1850000.0,1225000.0,1316000.0,1400000.0,2168000.0,1430000.0,772000.0,1468000.0,753000.0,746000.0,1485000.0,1190000.0,900000.0,1250000.0,1030000.0,985000.0,1300000.0,1462500.0,1250000.0,1460800.0,1152500.0,1650000.0,1391000.0,452000.0,1102200.0,1401000.0,1782000.0,1520000.0,878000.0,973500.0,751800.0,1100000.0,1202000.0,1362000.0,1810000.0,1901000.0,1650000.0,1816000.0,525000.0,2050000.0,1930000.0,2600000.0,600000.0,1601000.0,1100000.0,2550000.0,1190000.0,2012000.0,2309000.0,900000.0,1625000.0,1100000.0,1755000.0,1400000.0,1240000.0,591000.0,537000.0,800000.0,965000.0,1160000.0,820000.0,2600000.0,1071000.0,1800000.0,2345000.0,741000.0,626000.0,1650000.0,850000.0,1750000.0,1450000.0,2806000.0,782000.0,1007000.0,1450000.0,500000.0,2600000.0,895000.0,2050000.0,1605000.0,520000.0,507000.0,525000.0,750000.0,510000.0,300000.0,1395000.0,855000.0,790000.0,550000.0,357000.0,1210000.0,825000.0,1050000.0,632000.0,485000.0,575000.0,590000.0,1238000.0,510000.0,1875000.0,780000.0,878500.0,3572000.0,560000.0,765000.0,670000.0,1625000.0,1122000.0,2400000.0,655000.0,684000.0,500000.0,680000.0,600000.0,370000.0,390000.0,630000.0,640000.0,932000.0,645000.0,347000.0,875000.0,582500.0,570000.0,1875000.0,340000.0,2200000.0,687500.0,730000.0,526000.0,920000.0,1830000.0,1425000.0,660000.0,550000.0,1295000.0,595000.0,911000.0,900000.0,645000.0,702500.0,960000.0,1670000.0,1100000.0,1800000.0,1250000.0,1130000.0,370000.0,1467000.0,2800000.0,1160000.0,2620000.0,1226000.0,1402000.0,855000.0,1275000.0,1590000.0,606000.0,1385000.0,650000.0,460000.0,1000000.0,520000.0,720000.0,1635000.0,485000.0,1575000.0,280000.0,1467000.0,890000.0,870000.0,1134000.0,320500.0,1065000.0,1610000.0,930000.0,395000.0,1470000.0,750000.0,390000.0,1170000.0,1600000.0,1535000.0,435000.0,1460000.0,736000.0,450000.0,740000.0,691000.0,2355000.0,1625000.0,1150000.0,360000.0,645000.0,250000.0,872000.0,630000.0,440000.0,1811000.0,1500000.0,1290000.0,1100000.0,1270000.0,1445000.0,1113000.0,370000.0,396000.0,450000.0,1360000.0,340000.0,765000.0,712000.0,1250000.0,1350000.0,1220000.0,1160000.0,505000.0,602000.0,846000.0,400000.0,445000.0,1730000.0,510000.0,1350000.0,2000000.0,805000.0,1055000.0,548000.0,1500000.0,600000.0,545000.0,1375000.0,1252000.0,810000.0,947500.0,1460000.0,880000.0,3310000.0,1250000.0,1950000.0,465000.0,1620000.0,850000.0,1122000.0,1300000.0,420000.0,715000.0,800000.0,710000.0,630000.0,4011000.0,700000.0,860000.0,870000.0,1450000.0,358500.0,770000.0,1008000.0,1015000.0,1371000.0,1286000.0,1600000.0,1950000.0,3400000.0,1785000.0,1210000.0,1275000.0,1290000.0,750000.0,675000.0,1700000.0,1080000.0,1222500.0,937500.0,1300000.0,1300000.0,2150000.0,1581000.0,602000.0,650000.0,1450000.0,365000.0,425000.0,391000.0,1130000.0,1110000.0,918000.0,730000.0,855000.0,1012000.0,395000.0,556000.0,345000.0,1100000.0,395000.0,1115000.0,420500.0,1225000.0,1003000.0,840000.0,1362000.0,977000.0,216000.0,876000.0,227000.0,841000.0,605000.0,305000.0,480000.0,910000.0,291000.0,752000.0,1155000.0,853000.0,480000.0,775000.0,281000.0,1300000.0,714000.0,950000.0,760000.0,420000.0,932000.0,780000.0,295000.0,433000.0,410000.0,1170000.0,375000.0,747000.0,775000.0,571000.0,305000.0,860500.0,370000.0,711000.0,690500.0,747000.0,858000.0,699000.0,835000.0,661000.0,757500.0,282000.0,699000.0,850000.0,315000.0,740000.0,980000.0,316000.0,760000.0,735000.0,1225000.0,767500.0,395000.0,815000.0,757000.0,1450000.0,745000.0,716000.0,1735000.0,3400000.0,3730000.0,1800000.0,1998000.0,671000.0,1425000.0,1530000.0,1900000.0,1360000.0,2175000.0,2325000.0,2538000.0,2300000.0,550000.0,1600000.0,2115000.0,1700000.0,2077000.0,2850000.0,411000.0,2020000.0,2010000.0,2975000.0,452000.0,1820000.0,291000.0,2376000.0,1456000.0,345000.0,2000000.0,585000.0,1700000.0,1375000.0,920000.0,382000.0,1280000.0,2825000.0,2825000.0,1825000.0,3085000.0,1600000.0,2352500.0,3860000.0,2625000.0,1950000.0,2200000.0,1751000.0,1857000.0,720000.0,1500000.0,2725000.0,2800000.0,1665000.0,600000.0,1420000.0,2410000.0,2100000.0,2950000.0,3365000.0,1931000.0,1250000.0,2400000.0,610000.0,610000.0,806500.0,550000.0,822000.0,980000.0,430000.0,540000.0,737000.0,460000.0,545000.0,670000.0,702000.0,730000.0,711500.0,810000.0,250000.0,460000.0,793000.0,340000.0,447500.0,588000.0,420000.0,410000.0,525000.0,703000.0,608000.0,607000.0,765500.0,470000.0,580000.0,620250.0,710000.0,630000.0,600000.0,550000.0,600000.0,1217500.0,600000.0,570000.0,762700.0,465000.0,741250.0,1000000.0,630000.0,670000.0,417000.0,600000.0,440000.0,660000.0,270000.0,825000.0,638000.0,631000.0,532000.0,504000.0,468000.0,802500.0,709000.0,485000.0,540000.0,390000.0,800000.0,740000.0,605000.0,685500.0,610000.0,630000.0,870000.0,810000.0,487000.0,700000.0,600500.0,730000.0,800000.0,750000.0,740000.0,646000.0,545000.0,777000.0,722000.0,545000.0,510000.0,631500.0,550000.0,330000.0,715888.0,468000.0,515000.0,895000.0,587000.0,2800000.0,3250000.0,2140000.0,1600000.0,1003500.0,802000.0,1560000.0,760000.0,616000.0,1680000.0,1120000.0,3200000.0,1250000.0,2000000.0,1805000.0,2600000.0,3470000.0,1050000.0,810000.0,1460000.0,3075000.0,875500.0,2600000.0,1705000.0,1515000.0,2980000.0,2200000.0,1100000.0,3325000.0,450000.0,500000.0,1460000.0,1740000.0,1800000.0,2160000.0,2250000.0,2130000.0,400000.0,926000.0,1070000.0,801000.0,1150000.0,472000.0,1300000.0,1200000.0,1650000.0,2670000.0,348000.0,1189000.0,610000.0,492000.0,806000.0,2000000.0,753000.0,330000.0,1420000.0,495000.0,292000.0,580000.0,1300000.0,1300000.0,440000.0,1000000.0,1741000.0,655000.0,488000.0,2065000.0,350000.0,1712000.0,480000.0,3225000.0,400000.0,1650000.0,3950000.0,587500.0,560000.0,1936000.0,4250000.0,630000.0,1560000.0,840000.0,1780000.0,815000.0,1975000.0,657500.0,5050000.0,445000.0,1180000.0,470000.0,485000.0,1800000.0,1855000.0,665000.0,1551000.0,612500.0,2410000.0,715000.0,1055000.0,1976000.0,499000.0,495000.0,3750000.0,1400000.0,370000.0,627500.0,815000.0,565000.0,994000.0,785000.0,620000.0,706750.0,584000.0,909000.0,1086000.0,680000.0,650000.0,890000.0,650000.0,605000.0,770000.0,950000.0,856000.0,600000.0,915000.0,400000.0,550000.0,590000.0,920000.0,460000.0,1000500.0,631000.0,691000.0,560000.0,370000.0,532000.0,515500.0,800000.0,620000.0,360000.0,440500.0,758000.0,480000.0,715000.0,646250.0,1375000.0,722000.0,725000.0,465000.0,1550000.0,516000.0,1340000.0,1316000.0,828000.0,1055000.0,623000.0,2120000.0,1745000.0,1700000.0,420000.0,1337000.0,455000.0,400000.0,1210000.0,1167500.0,900000.0,677500.0,2265000.0,981000.0,2400000.0,890000.0,739000.0,785000.0,1155000.0,1020000.0,1465000.0,855000.0,413000.0,1220000.0,1605000.0,587000.0,1535000.0,1470000.0,1486000.0,1730000.0,1850000.0,2600000.0,500000.0,1102000.0,1275000.0,785000.0,1223500.0,1720000.0,1225000.0,1460000.0,421000.0,2090000.0,700000.0,2595000.0,710000.0,650000.0,515000.0,582000.0,545000.0,751000.0,500000.0,560000.0,703000.0,650000.0,770000.0,900000.0,700000.0,816000.0,845000.0,772000.0,650000.0,757000.0,690000.0,583000.0,880000.0,580000.0,886000.0,920000.0,976000.0,1420000.0,900000.0,560000.0,1010000.0,835000.0,705000.0,680000.0,785000.0,695000.0,502000.0,770000.0,570000.0,830000.0,600000.0,825000.0,735000.0,875000.0,601200.0,680000.0,705000.0,710000.0,732000.0,715000.0,852000.0,1037000.0,1470000.0,492500.0,420000.0,420000.0,1271000.0,1010000.0,750000.0,905000.0,960000.0,1031000.0,870000.0,1165000.0,1710000.0,1455000.0,365000.0,442000.0,765000.0,515000.0,370000.0,1234500.0,666000.0,825000.0,812000.0,1900000.0,445000.0,732000.0,1260000.0,1000000.0,1155000.0,790000.0,700000.0,1230000.0,460000.0,395000.0,850000.0,868000.0,773000.0,631090.0,410000.0,425000.0,610000.0,882000.0,3550000.0,1326000.0,1950000.0,2550000.0,1878000.0,1910000.0,1410000.0,2310000.0,2315000.0,800000.0,4850000.0,6500000.0,580000.0,1905000.0,478000.0,672000.0,2286000.0,1575000.0,590000.0,2350000.0,1312000.0,890000.0,1331000.0,1800000.0,1476000.0,2590000.0,2625000.0,2265000.0,1975000.0,2550000.0,1330000.0,1450000.0,3650000.0,551000.0,2460000.0,2850000.0,2425000.0,610000.0,955000.0,707500.0,732000.0,2875000.0,1500000.0,1750000.0,1100000.0,1440000.0,2560000.0,2600000.0,3280000.0,620000.0,2600000.0,2800000.0,1420000.0,1800000.0,395000.0,2250000.0,1950000.0,605000.0,1920000.0,1615000.0,2081000.0,1315000.0,1750000.0,2100000.0,1300000.0,1315000.0,1620000.0,615000.0,715000.0,826000.0,275000.0,711000.0,695000.0,490000.0,502000.0,721000.0,840000.0,335000.0,832000.0,646000.0,673000.0,695000.0,349000.0,555000.0,352500.0,1350000.0,510000.0,490000.0,675000.0,865000.0,600000.0,773000.0,2050000.0,3460000.0,2400000.0,2025000.0,611000.0,3800000.0,1390000.0,2415000.0,566000.0,1437000.0,500000.0,3400000.0,2355000.0,4240000.0,1326000.0,4525000.0,1965000.0,3470000.0,740000.0,2325000.0,1970000.0,1475000.0,584000.0,1490000.0,1210000.0,2355000.0,1036000.0,2273000.0,2350000.0,2200000.0,790000.0,1185000.0,1837000.0,1253000.0,922000.0,4802500.0,350000.0,1555000.0,2123000.0,1700000.0,1150000.0,2001000.0,1915000.0,1135000.0,1240000.0,1120000.0,1500000.0,707500.0,835000.0,1870000.0,1580000.0,820000.0,480000.0,1680000.0,300000.0,1100000.0,373000.0,2560000.0,960000.0,315000.0,1297000.0,1015000.0,523000.0,1335000.0,425000.0,1670000.0,1350000.0,1650000.0,950000.0,1782500.0,650000.0,975000.0,560000.0,355000.0,550000.0,420000.0,399000.0,1105000.0,730000.0,662500.0,410000.0,920000.0,1320000.0,1150000.0,847000.0,400000.0,1072000.0,510000.0,865000.0,570000.0,1900000.0,429000.0,456000.0,566000.0,408000.0,470000.0,780000.0,440000.0,1048700.0,400000.0,1215000.0,1180000.0,1117000.0,420000.0,770000.0,1151000.0,907000.0,570000.0,820000.0,940000.0,1030000.0,1230000.0,884500.0,820000.0,780000.0,535000.0,450000.0,360000.0,665000.0,386000.0,659000.0,545000.0,450000.0,432000.0,750000.0,375000.0,680000.0,470000.0,483000.0,700000.0,520000.0,440000.0,733000.0,760000.0,360000.0,2600000.0,2350000.0,535000.0,700000.0,3120000.0,1025000.0,1920000.0,2623000.0,1500000.0,1630000.0,1910000.0,1320000.0,750000.0,2588000.0,1400000.0,2200000.0,1310000.0,2335000.0,1815000.0,725000.0,3900000.0,1200000.0,1564000.0,520000.0,670000.0,1055000.0,348000.0,1780000.0,1440000.0,1225000.0,1445000.0,990000.0,1550000.0,1170000.0,1120000.0,1530000.0,832000.0,420000.0,2400000.0,565000.0,550000.0,1211000.0,1630000.0,1160000.0,1361500.0,945000.0,360000.0,860000.0,1637000.0,1505000.0,515000.0,330000.0,1322000.0,1015000.0,840000.0,1900000.0,2340000.0,1400000.0,1640000.0,1480000.0,410000.0,980000.0,842500.0,1345000.0,265000.0,849000.0,1425000.0,1345000.0,330000.0,726000.0,1250000.0,870000.0,1725000.0,600000.0,1505000.0,850000.0,292000.0,1740000.0,470000.0,1130000.0,930000.0,336000.0,800000.0,1224000.0,1000000.0,380500.0,1090000.0,836000.0,1417250.0,950000.0,1140000.0,750000.0,1000000.0,1200000.0,987000.0,937000.0,1426000.0,1016000.0,901000.0,1300000.0,975000.0,1070000.0,639000.0,605000.0,960000.0,725000.0,800000.0,917000.0,890000.0,1008000.0,1191000.0,776000.0,1035000.0,1160000.0,240000.0,1105000.0,826000.0,900000.0,962000.0,800000.0,710000.0,940000.0,655800.0,1082000.0,1210000.0,880000.0,335000.0,1260000.0,1400000.0,995000.0,962000.0,800000.0,1305000.0,485000.0,810000.0,1620000.0,923000.0,1030000.0,1046000.0,740000.0,970000.0,735000.0,485000.0,950000.0,1280000.0,1040000.0,1115000.0,1176000.0,1265000.0,801000.0,770000.0,993000.0,650000.0,891500.0,805000.0,680000.0,793000.0,747000.0,896000.0,890000.0,930000.0,1151000.0,820000.0,816000.0,945000.0,643700.0,760000.0,881000.0,900000.0,830000.0,1126000.0,1235000.0,457000.0,660000.0,770000.0,1350000.0,820000.0,991000.0,657000.0,710000.0,840000.0,1400000.0,1080000.0,1015000.0,1245000.0,1105000.0,2920000.0,540000.0,726000.0,1340000.0,1105000.0,841000.0,528500.0,410000.0,550000.0,470000.0,640000.0,720000.0,1325000.0,368000.0,450000.0,1385000.0,990000.0,606000.0,450000.0,1470000.0,1010000.0,1266000.0,620000.0,630000.0,560000.0,665500.0,550055.0,358000.0,320000.0,1000000.0,598000.0,885000.0,587134.0,1286000.0,1200000.0,1382500.0,1600000.0,1710000.0,2000000.0,583000.0,650000.0,1700000.0,1575000.0,950000.0,1655000.0,1255000.0,1020000.0,435000.0,790000.0,605000.0,385000.0,1190000.0,865000.0,2175000.0,312000.0,890000.0,2700000.0,1101000.0,1050000.0,1010000.0,1900000.0,888000.0,1020000.0,844000.0,900000.0,1300000.0,810000.0,701000.0,665000.0,2315000.0,1170000.0,1715000.0,422000.0,1474000.0,1035000.0,460000.0,1760000.0,1095000.0,1225000.0,1211000.0,770000.0,1000000.0,1050000.0,1700000.0,2160000.0,400000.0,1420000.0,1950000.0,1820000.0,1080000.0,570000.0,1340000.0,2340000.0,1634000.0,910000.0,1650000.0,1510000.0,865000.0,476000.0,706000.0,920000.0,522000.0,690000.0,770000.0,1100000.0,475000.0,651000.0,815500.0,770000.0,585500.0,840000.0,470000.0,810000.0,855333.0,900000.0,875000.0,651000.0,802000.0,900000.0,1000000.0,801347.0,921000.0,1900000.0,752500.0,1067000.0,1260500.0,850500.0,1068000.0,937500.0,1126000.0,778000.0,1230000.0,1805000.0,2200000.0,1265000.0,1928000.0,526000.0,2236000.0,1403000.0,1120000.0,770000.0,975000.0,780000.0,600000.0,955000.0,1196000.0,731000.0,585000.0,480000.0,605000.0,738000.0,386000.0,452000.0,522500.0,741000.0,530000.0,815000.0,775000.0,950000.0,900000.0,835000.0,790000.0,810000.0,500000.0,485000.0,488000.0,900000.0,680000.0,590000.0,770000.0,975000.0,970000.0,600000.0,510000.0,750000.0,822000.0,430000.0,1350000.0,810000.0,550500.0,610000.0,533000.0,410000.0,600000.0,616000.0,960000.0,985000.0,670000.0,665000.0,880000.0,700000.0,600000.0,1570000.0,525500.0,612500.0,248500.0,960000.0,650000.0,500000.0,599000.0,1150000.0,985000.0,1200000.0,2200000.0,2105000.0,550000.0,1915000.0,1630000.0,1000000.0,1470000.0,725000.0,600000.0,1342000.0,500000.0,795000.0,590000.0,1100000.0,1275000.0,1000000.0,1820000.0,655000.0,1350000.0,1560000.0,1060000.0,1610000.0,1101000.0,880000.0,1080000.0,1115000.0,516000.0,1753000.0,900000.0,2350000.0,1670000.0,1402000.0,1570000.0,1150000.0,1384000.0,655000.0,456000.0,520000.0,470000.0,600000.0,670000.0,1400000.0,1520000.0,600000.0,2460000.0,3705000.0,950000.0,1350000.0,735000.0,400000.0,900000.0,1380000.0,1080000.0,342000.0,950000.0,781000.0,549800.0,492000.0,500500.0,1400000.0,685000.0,710000.0,330000.0,1245000.0,1182500.0,1303000.0,482500.0,585000.0,1106000.0,1590000.0,1055000.0,1100000.0,530000.0,1500000.0,841000.0,570000.0,560000.0,815000.0,910000.0,1450000.0,1540000.0,1811000.0,1180000.0,1720000.0,1050000.0,1582000.0,681000.0,1305000.0,1255000.0,2180000.0,1720000.0,1220000.0,1612000.0,1250000.0,930000.0,751000.0,715000.0,837000.0,950000.0,496000.0,850000.0,540000.0,1150000.0,615000.0,735000.0,810000.0,600000.0,1650000.0,600000.0,722000.0,1260000.0,485000.0,690000.0,1065000.0,1200000.0,530000.0,900000.0,700000.0,920000.0,980000.0,886000.0,1080000.0,1400000.0,660000.0,436000.0,876000.0,910000.0,714000.0,770000.0,810000.0,1127000.0,780000.0,986000.0,760000.0,1123000.0,300000.0,890000.0,425000.0,515000.0,1040000.0,890000.0,790000.0,860000.0,630000.0,875000.0,923000.0,920000.0,871000.0,950000.0,870000.0,1186000.0,610000.0,1162500.0,1142500.0,930000.0,875000.0,840000.0,750000.0,750000.0,475000.0,415000.0,731000.0,352000.0,723000.0,336000.0,685000.0,1025000.0,490000.0,805000.0,1005000.0,535000.0,800000.0,510000.0,651000.0,365000.0,405000.0,620500.0,260000.0,625000.0,427500.0,851000.0,998000.0,1030000.0,410000.0,1015000.0,915000.0,380000.0,530000.0,592000.0,440000.0,650000.0,416000.0,301000.0,865000.0,650000.0,401000.0,491000.0,810000.0,555000.0,350000.0,540000.0,682000.0,380000.0,350000.0,750000.0,495000.0,500000.0,350000.0,335000.0,546000.0,400000.0,360000.0,410000.0,836000.0,440000.0,376000.0,323000.0,680000.0,530000.0,786000.0,390000.0,650000.0,800000.0,330000.0,539000.0,622500.0,767500.0,780000.0,668000.0,470000.0,655000.0,440000.0,703000.0,424000.0,613000.0,475000.0,950000.0,730000.0,905000.0,480000.0,767000.0,450000.0,921500.0,490000.0,787000.0,300000.0,335000.0,475000.0,440000.0,216000.0,220000.0,340000.0,395000.0,790000.0,601000.0,300000.0,420000.0,885000.0,815000.0,882500.0,793000.0,550000.0,433000.0,680000.0,851000.0,1025000.0,784000.0,1186000.0,885000.0,718500.0,762500.0,610000.0,680000.0,390000.0,937000.0,1260000.0,795250.0,582000.0,370000.0,421000.0,3200000.0,479000.0,655000.0,561000.0,635000.0,1010000.0,1025000.0,550000.0,1375000.0,1506000.0,1350000.0,405000.0,327000.0,1474000.0,1555000.0,500000.0,345000.0,1275000.0,1150000.0,950000.0,270000.0,439000.0,695000.0,512000.0,855000.0,1040000.0,342000.0,681000.0,900000.0,1250000.0,990000.0,1189000.0,1220000.0,1100000.0,450000.0,1074000.0,1430000.0,1465000.0,391000.0,930000.0,1182000.0,777500.0,1115000.0,760000.0,640000.0,1420000.0,390000.0,380000.0,680000.0,1081000.0,860000.0,905000.0,691000.0,1088000.0,911000.0,3001000.0,638000.0,900000.0,1695000.0,1365000.0,1045000.0,1591000.0,1275000.0,1510000.0,1550000.0,1456000.0,1100000.0,1045000.0,2000000.0,646000.0,660000.0,1145000.0,905000.0,750000.0,604000.0,1645000.0,306000.0,1270000.0,1850000.0,1650000.0,1320000.0,1651000.0,1800000.0,791500.0,1600000.0,1200000.0,1555000.0,1582000.0,2055000.0,1345000.0,410000.0,696000.0,1350000.0,807000.0,385000.0,1150000.0,1775000.0,1270000.0,827500.0,560000.0,790000.0,1212500.0,1125000.0,1520000.0,1101500.0,1020000.0,560000.0,1050000.0,531000.0,620000.0,780000.0,821000.0,915000.0,890000.0,430000.0,1012000.0,1020000.0,1270000.0,515000.0,867000.0,945000.0,618000.0,601000.0,908000.0,1145000.0,970000.0,1325000.0,450000.0,1330000.0,1075000.0,1350000.0,1201000.0,990000.0,720000.0,880000.0,920000.0,1395000.0,965000.0,920000.0,875000.0,822500.0,1080000.0,1275000.0,955000.0,1455000.0,533000.0,970000.0,355000.0,1032000.0,1270000.0,815000.0,593000.0,1600000.0,1620000.0,1270000.0,2633000.0,1405000.0,2260000.0,1595000.0,595000.0,490000.0,1250000.0,2180000.0,930000.0,1200000.0,2000000.0,2000000.0,1050000.0,1250000.0,1650000.0,561000.0,1825000.0,1200000.0,1390000.0,1615000.0,2300000.0,742000.0,2075000.0,722000.0,850000.0,1230000.0,535000.0,990000.0,695000.0,775000.0,572000.0,1460000.0,623500.0,409000.0,1250000.0,659000.0,780000.0,1455000.0,360500.0,1300000.0,1300000.0,380000.0,5700000.0,515000.0,2695000.0,310000.0,627500.0,425000.0,330000.0,693000.0,2285000.0,3000000.0,515000.0,600000.0,2600000.0,320000.0,400000.0,1810000.0,567500.0,540000.0,2010000.0,1945000.0,906000.0,367000.0,1130000.0,500000.0,310000.0,1100000.0,410000.0,1125000.0,840000.0,1400000.0,680500.0,280000.0,520000.0,1200000.0,480000.0,2200000.0,1700000.0,1200000.0,1540000.0,826000.0,1700000.0,505000.0,720000.0,868000.0,530000.0,650000.0,990000.0,592500.0,600000.0,455000.0,1250000.0,425000.0,740000.0,660000.0,622500.0,800000.0,540000.0,370000.0,855000.0,832500.0,850000.0,1080000.0,927000.0,850000.0,831000.0,840000.0,1315000.0,1161000.0,1016000.0,690000.0,1070000.0,871500.0,380000.0,430000.0,602000.0,575000.0,495000.0,500000.0,1891000.0,2000000.0,1500000.0,2000000.0,500000.0,685000.0,380000.0,616000.0,400000.0,451000.0,1400000.0,459000.0,520000.0,370500.0,5046000.0,385000.0,1900000.0,390000.0,500000.0,430000.0,392000.0,1900000.0,540000.0,475000.0,570000.0,400000.0,920000.0,503500.0,580000.0,1295000.0,481000.0,1120000.0,400000.0,1210000.0,785000.0,450000.0,875000.0,650000.0,431000.0,385000.0,575000.0,4400000.0,535000.0,1200500.0,565000.0,520000.0,902000.0,1600000.0,750000.0,1365000.0,1950000.0,1678000.0,400000.0,500000.0,760000.0,580000.0,430000.0,1100000.0,435000.0,354000.0,1025000.0,1430000.0,1330000.0,1635000.0,1194000.0,1440000.0,1300000.0,850000.0,1150000.0,910000.0,1430000.0,622500.0,1500000.0,1280000.0,1485000.0,1080000.0,1715000.0,2650000.0,630000.0,1370000.0,800000.0,950000.0,780000.0,1350500.0,745000.0,657500.0,1030000.0,460000.0,490000.0,890000.0,425000.0,715000.0,816000.0,425500.0,610000.0,600000.0,611000.0,670000.0,605000.0,930000.0,880000.0,570000.0,700000.0,625000.0,695000.0,910000.0,607000.0,679500.0,500000.0,895000.0,410000.0,635000.0,480000.0,435000.0,560000.0,626800.0,571500.0,605000.0,600000.0,650000.0,736000.0,735000.0,700000.0,1190000.0,591000.0,665000.0,620000.0,503000.0,1000000.0,560000.0,615000.0,450000.0,680000.0,620000.0,545000.0,621000.0,687000.0,485000.0,510000.0,500000.0,480000.0,621000.0,690000.0,547500.0,280000.0,555000.0,600000.0,622500.0,350000.0,657000.0,682000.0,520000.0,470000.0,586000.0,305000.0,705000.0,645000.0,500000.0,510000.0,750500.0,451000.0,2440000.0,1110000.0,2128000.0,2200000.0,640000.0,1700000.0,2500000.0,2200000.0,2860000.0,1930000.0,1812500.0,760000.0,1300000.0,1960000.0,2630000.0,880000.0,1755000.0,1700000.0,1975000.0,610000.0,1850000.0,2050000.0,2100000.0,1150000.0,770500.0,600000.0,2125000.0,656000.0,1518000.0,1560000.0,865000.0,2160000.0,2300000.0,600000.0,2180000.0,1251000.0,1650000.0,1835000.0,778500.0,1201000.0,1165000.0,742500.0,1101000.0,1200000.0,990000.0,1500000.0,1290000.0,790000.0,950000.0,1421000.0,1051000.0,1710000.0,1280000.0,750000.0,1000000.0,678000.0,1010000.0,1210000.0,945000.0,725000.0,1211000.0,1100000.0,1002000.0,1209000.0,2080000.0,1118000.0,903000.0,1220000.0,1650000.0,1182500.0,1020000.0,650000.0,1509000.0,517500.0,370000.0,805000.0,1428888.0,940000.0,270000.0,365000.0,525500.0,944000.0,887000.0,701000.0,1110000.0,332000.0,1265000.0,1085000.0,898000.0,1235000.0,910500.0,995000.0,760000.0,505000.0,1400000.0,1110000.0,1200000.0,450000.0,874000.0,1427000.0,383000.0,1290000.0,450000.0,438000.0,1250000.0,1070000.0,1570000.0,486000.0,1211000.0,1280000.0,1478000.0,1913000.0,928500.0,432500.0,330000.0,1370000.0,303500.0,1160000.0,1380000.0,1435000.0,5500000.0,5500000.0,1689000.0,1100000.0,925000.0,450000.0,349000.0,2650000.0,2820000.0,810000.0,2840000.0,2700000.0,6250000.0,4500000.0,541000.0,1550000.0,2205000.0,950000.0,366000.0,2620000.0,1900000.0,4000000.0,4200000.0,690000.0,511000.0,910000.0,2250000.0,525000.0,3270000.0,960000.0,1010000.0,880000.0,770000.0,730000.0,1005000.0,555000.0,546000.0,765000.0,920000.0,1025000.0,895000.0,820000.0,870000.0,1050000.0,660000.0,581000.0,600000.0,690000.0,582000.0,740000.0,671000.0,741000.0,537000.0,1040000.0,1171000.0,662000.0,922000.0,860500.0,702000.0,627500.0,549000.0,701000.0,645000.0,1010000.0,1260000.0,460000.0,2370000.0,800000.0,550000.0,660000.0,1055000.0,995000.0,443000.0,1120000.0,482000.0,620000.0,601000.0,1400000.0,1535000.0,890000.0,1800000.0,2910000.0,2910000.0,1200000.0,1460000.0,310000.0,1200000.0,1560000.0,1575000.0,830000.0,1470000.0,2230000.0,1460000.0,1330000.0,1010000.0,513500.0,1805000.0,1126000.0,935000.0,375000.0,2050000.0,1310000.0,491500.0,547500.0,1210000.0,412000.0,1630000.0,1482500.0,1300000.0,2255000.0,1710000.0,2440000.0,380000.0,367500.0,1225000.0,580000.0,2302000.0,611000.0,800000.0,275000.0,1540000.0,1370000.0,452000.0,501000.0,380000.0,1177000.0,600000.0,1500000.0,830000.0,1200000.0,600000.0,474000.0,1350000.0,1910000.0,915000.0,810000.0,753000.0,602500.0,742000.0,953000.0,650000.0,731000.0,710000.0,936000.0,721000.0,1000000.0,890000.0,1165000.0,1550000.0,770000.0,871000.0,780000.0,650000.0,770000.0,1235000.0,1000000.0,1320000.0,1100000.0,782000.0,910000.0,856000.0,670000.0,706000.0,1050000.0,1320000.0,1815000.0,630000.0,1870000.0,1930000.0,510000.0,381000.0,1040000.0,470000.0,501344.0,796000.0,1055000.0,620000.0,345000.0,950000.0,1200000.0,1005000.0,1340000.0,865000.0,781500.0,1401000.0,630000.0,1137500.0,1158000.0,955000.0,1081000.0,725000.0,767000.0,1450000.0,1430000.0,1275000.0,1606000.0,780000.0,670000.0,1380000.0,480500.0,1520000.0,1287000.0,800000.0,1460000.0,840000.0,900500.0,940000.0,380000.0,1646000.0,470000.0,1346000.0,935000.0,3900000.0,1150000.0,1720000.0,1705000.0,1190000.0,1740000.0,1200000.0,726000.0,1300000.0,670000.0,1350000.0,773000.0,645000.0,720000.0,625000.0,1310000.0,856000.0,580000.0,940000.0,1495000.0,1550000.0,1815000.0,1625000.0,899000.0,435000.0,1080000.0,656000.0,1574000.0,665000.0,590000.0,1679000.0,1050000.0,825000.0,998000.0,1010000.0,1050000.0,1600000.0,1325000.0],\"yaxis\":\"y\",\"type\":\"scattergl\"}],                        {\"template\":{\"data\":{\"bar\":[{\"error_x\":{\"color\":\"#2a3f5f\"},\"error_y\":{\"color\":\"#2a3f5f\"},\"marker\":{\"line\":{\"color\":\"#E5ECF6\",\"width\":0.5},\"pattern\":{\"fillmode\":\"overlay\",\"size\":10,\"solidity\":0.2}},\"type\":\"bar\"}],\"barpolar\":[{\"marker\":{\"line\":{\"color\":\"#E5ECF6\",\"width\":0.5},\"pattern\":{\"fillmode\":\"overlay\",\"size\":10,\"solidity\":0.2}},\"type\":\"barpolar\"}],\"carpet\":[{\"aaxis\":{\"endlinecolor\":\"#2a3f5f\",\"gridcolor\":\"white\",\"linecolor\":\"white\",\"minorgridcolor\":\"white\",\"startlinecolor\":\"#2a3f5f\"},\"baxis\":{\"endlinecolor\":\"#2a3f5f\",\"gridcolor\":\"white\",\"linecolor\":\"white\",\"minorgridcolor\":\"white\",\"startlinecolor\":\"#2a3f5f\"},\"type\":\"carpet\"}],\"choropleth\":[{\"colorbar\":{\"outlinewidth\":0,\"ticks\":\"\"},\"type\":\"choropleth\"}],\"contour\":[{\"colorbar\":{\"outlinewidth\":0,\"ticks\":\"\"},\"colorscale\":[[0.0,\"#0d0887\"],[0.1111111111111111,\"#46039f\"],[0.2222222222222222,\"#7201a8\"],[0.3333333333333333,\"#9c179e\"],[0.4444444444444444,\"#bd3786\"],[0.5555555555555556,\"#d8576b\"],[0.6666666666666666,\"#ed7953\"],[0.7777777777777778,\"#fb9f3a\"],[0.8888888888888888,\"#fdca26\"],[1.0,\"#f0f921\"]],\"type\":\"contour\"}],\"contourcarpet\":[{\"colorbar\":{\"outlinewidth\":0,\"ticks\":\"\"},\"type\":\"contourcarpet\"}],\"heatmap\":[{\"colorbar\":{\"outlinewidth\":0,\"ticks\":\"\"},\"colorscale\":[[0.0,\"#0d0887\"],[0.1111111111111111,\"#46039f\"],[0.2222222222222222,\"#7201a8\"],[0.3333333333333333,\"#9c179e\"],[0.4444444444444444,\"#bd3786\"],[0.5555555555555556,\"#d8576b\"],[0.6666666666666666,\"#ed7953\"],[0.7777777777777778,\"#fb9f3a\"],[0.8888888888888888,\"#fdca26\"],[1.0,\"#f0f921\"]],\"type\":\"heatmap\"}],\"heatmapgl\":[{\"colorbar\":{\"outlinewidth\":0,\"ticks\":\"\"},\"colorscale\":[[0.0,\"#0d0887\"],[0.1111111111111111,\"#46039f\"],[0.2222222222222222,\"#7201a8\"],[0.3333333333333333,\"#9c179e\"],[0.4444444444444444,\"#bd3786\"],[0.5555555555555556,\"#d8576b\"],[0.6666666666666666,\"#ed7953\"],[0.7777777777777778,\"#fb9f3a\"],[0.8888888888888888,\"#fdca26\"],[1.0,\"#f0f921\"]],\"type\":\"heatmapgl\"}],\"histogram\":[{\"marker\":{\"pattern\":{\"fillmode\":\"overlay\",\"size\":10,\"solidity\":0.2}},\"type\":\"histogram\"}],\"histogram2d\":[{\"colorbar\":{\"outlinewidth\":0,\"ticks\":\"\"},\"colorscale\":[[0.0,\"#0d0887\"],[0.1111111111111111,\"#46039f\"],[0.2222222222222222,\"#7201a8\"],[0.3333333333333333,\"#9c179e\"],[0.4444444444444444,\"#bd3786\"],[0.5555555555555556,\"#d8576b\"],[0.6666666666666666,\"#ed7953\"],[0.7777777777777778,\"#fb9f3a\"],[0.8888888888888888,\"#fdca26\"],[1.0,\"#f0f921\"]],\"type\":\"histogram2d\"}],\"histogram2dcontour\":[{\"colorbar\":{\"outlinewidth\":0,\"ticks\":\"\"},\"colorscale\":[[0.0,\"#0d0887\"],[0.1111111111111111,\"#46039f\"],[0.2222222222222222,\"#7201a8\"],[0.3333333333333333,\"#9c179e\"],[0.4444444444444444,\"#bd3786\"],[0.5555555555555556,\"#d8576b\"],[0.6666666666666666,\"#ed7953\"],[0.7777777777777778,\"#fb9f3a\"],[0.8888888888888888,\"#fdca26\"],[1.0,\"#f0f921\"]],\"type\":\"histogram2dcontour\"}],\"mesh3d\":[{\"colorbar\":{\"outlinewidth\":0,\"ticks\":\"\"},\"type\":\"mesh3d\"}],\"parcoords\":[{\"line\":{\"colorbar\":{\"outlinewidth\":0,\"ticks\":\"\"}},\"type\":\"parcoords\"}],\"pie\":[{\"automargin\":true,\"type\":\"pie\"}],\"scatter\":[{\"marker\":{\"colorbar\":{\"outlinewidth\":0,\"ticks\":\"\"}},\"type\":\"scatter\"}],\"scatter3d\":[{\"line\":{\"colorbar\":{\"outlinewidth\":0,\"ticks\":\"\"}},\"marker\":{\"colorbar\":{\"outlinewidth\":0,\"ticks\":\"\"}},\"type\":\"scatter3d\"}],\"scattercarpet\":[{\"marker\":{\"colorbar\":{\"outlinewidth\":0,\"ticks\":\"\"}},\"type\":\"scattercarpet\"}],\"scattergeo\":[{\"marker\":{\"colorbar\":{\"outlinewidth\":0,\"ticks\":\"\"}},\"type\":\"scattergeo\"}],\"scattergl\":[{\"marker\":{\"colorbar\":{\"outlinewidth\":0,\"ticks\":\"\"}},\"type\":\"scattergl\"}],\"scattermapbox\":[{\"marker\":{\"colorbar\":{\"outlinewidth\":0,\"ticks\":\"\"}},\"type\":\"scattermapbox\"}],\"scatterpolar\":[{\"marker\":{\"colorbar\":{\"outlinewidth\":0,\"ticks\":\"\"}},\"type\":\"scatterpolar\"}],\"scatterpolargl\":[{\"marker\":{\"colorbar\":{\"outlinewidth\":0,\"ticks\":\"\"}},\"type\":\"scatterpolargl\"}],\"scatterternary\":[{\"marker\":{\"colorbar\":{\"outlinewidth\":0,\"ticks\":\"\"}},\"type\":\"scatterternary\"}],\"surface\":[{\"colorbar\":{\"outlinewidth\":0,\"ticks\":\"\"},\"colorscale\":[[0.0,\"#0d0887\"],[0.1111111111111111,\"#46039f\"],[0.2222222222222222,\"#7201a8\"],[0.3333333333333333,\"#9c179e\"],[0.4444444444444444,\"#bd3786\"],[0.5555555555555556,\"#d8576b\"],[0.6666666666666666,\"#ed7953\"],[0.7777777777777778,\"#fb9f3a\"],[0.8888888888888888,\"#fdca26\"],[1.0,\"#f0f921\"]],\"type\":\"surface\"}],\"table\":[{\"cells\":{\"fill\":{\"color\":\"#EBF0F8\"},\"line\":{\"color\":\"white\"}},\"header\":{\"fill\":{\"color\":\"#C8D4E3\"},\"line\":{\"color\":\"white\"}},\"type\":\"table\"}]},\"layout\":{\"annotationdefaults\":{\"arrowcolor\":\"#2a3f5f\",\"arrowhead\":0,\"arrowwidth\":1},\"autotypenumbers\":\"strict\",\"coloraxis\":{\"colorbar\":{\"outlinewidth\":0,\"ticks\":\"\"}},\"colorscale\":{\"diverging\":[[0,\"#8e0152\"],[0.1,\"#c51b7d\"],[0.2,\"#de77ae\"],[0.3,\"#f1b6da\"],[0.4,\"#fde0ef\"],[0.5,\"#f7f7f7\"],[0.6,\"#e6f5d0\"],[0.7,\"#b8e186\"],[0.8,\"#7fbc41\"],[0.9,\"#4d9221\"],[1,\"#276419\"]],\"sequential\":[[0.0,\"#0d0887\"],[0.1111111111111111,\"#46039f\"],[0.2222222222222222,\"#7201a8\"],[0.3333333333333333,\"#9c179e\"],[0.4444444444444444,\"#bd3786\"],[0.5555555555555556,\"#d8576b\"],[0.6666666666666666,\"#ed7953\"],[0.7777777777777778,\"#fb9f3a\"],[0.8888888888888888,\"#fdca26\"],[1.0,\"#f0f921\"]],\"sequentialminus\":[[0.0,\"#0d0887\"],[0.1111111111111111,\"#46039f\"],[0.2222222222222222,\"#7201a8\"],[0.3333333333333333,\"#9c179e\"],[0.4444444444444444,\"#bd3786\"],[0.5555555555555556,\"#d8576b\"],[0.6666666666666666,\"#ed7953\"],[0.7777777777777778,\"#fb9f3a\"],[0.8888888888888888,\"#fdca26\"],[1.0,\"#f0f921\"]]},\"colorway\":[\"#636efa\",\"#EF553B\",\"#00cc96\",\"#ab63fa\",\"#FFA15A\",\"#19d3f3\",\"#FF6692\",\"#B6E880\",\"#FF97FF\",\"#FECB52\"],\"font\":{\"color\":\"#2a3f5f\"},\"geo\":{\"bgcolor\":\"white\",\"lakecolor\":\"white\",\"landcolor\":\"#E5ECF6\",\"showlakes\":true,\"showland\":true,\"subunitcolor\":\"white\"},\"hoverlabel\":{\"align\":\"left\"},\"hovermode\":\"closest\",\"mapbox\":{\"style\":\"light\"},\"paper_bgcolor\":\"white\",\"plot_bgcolor\":\"#E5ECF6\",\"polar\":{\"angularaxis\":{\"gridcolor\":\"white\",\"linecolor\":\"white\",\"ticks\":\"\"},\"bgcolor\":\"#E5ECF6\",\"radialaxis\":{\"gridcolor\":\"white\",\"linecolor\":\"white\",\"ticks\":\"\"}},\"scene\":{\"xaxis\":{\"backgroundcolor\":\"#E5ECF6\",\"gridcolor\":\"white\",\"gridwidth\":2,\"linecolor\":\"white\",\"showbackground\":true,\"ticks\":\"\",\"zerolinecolor\":\"white\"},\"yaxis\":{\"backgroundcolor\":\"#E5ECF6\",\"gridcolor\":\"white\",\"gridwidth\":2,\"linecolor\":\"white\",\"showbackground\":true,\"ticks\":\"\",\"zerolinecolor\":\"white\"},\"zaxis\":{\"backgroundcolor\":\"#E5ECF6\",\"gridcolor\":\"white\",\"gridwidth\":2,\"linecolor\":\"white\",\"showbackground\":true,\"ticks\":\"\",\"zerolinecolor\":\"white\"}},\"shapedefaults\":{\"line\":{\"color\":\"#2a3f5f\"}},\"ternary\":{\"aaxis\":{\"gridcolor\":\"white\",\"linecolor\":\"white\",\"ticks\":\"\"},\"baxis\":{\"gridcolor\":\"white\",\"linecolor\":\"white\",\"ticks\":\"\"},\"bgcolor\":\"#E5ECF6\",\"caxis\":{\"gridcolor\":\"white\",\"linecolor\":\"white\",\"ticks\":\"\"}},\"title\":{\"x\":0.05},\"xaxis\":{\"automargin\":true,\"gridcolor\":\"white\",\"linecolor\":\"white\",\"ticks\":\"\",\"title\":{\"standoff\":15},\"zerolinecolor\":\"white\",\"zerolinewidth\":2},\"yaxis\":{\"automargin\":true,\"gridcolor\":\"white\",\"linecolor\":\"white\",\"ticks\":\"\",\"title\":{\"standoff\":15},\"zerolinecolor\":\"white\",\"zerolinewidth\":2}}},\"xaxis\":{\"anchor\":\"y\",\"domain\":[0.0,1.0],\"title\":{\"text\":\"Distance\"}},\"yaxis\":{\"anchor\":\"x\",\"domain\":[0.0,1.0],\"title\":{\"text\":\"Price\"}},\"coloraxis\":{\"colorbar\":{\"title\":{\"text\":\"color\"}},\"colorscale\":[[0.0,\"#0d0887\"],[0.1111111111111111,\"#46039f\"],[0.2222222222222222,\"#7201a8\"],[0.3333333333333333,\"#9c179e\"],[0.4444444444444444,\"#bd3786\"],[0.5555555555555556,\"#d8576b\"],[0.6666666666666666,\"#ed7953\"],[0.7777777777777778,\"#fb9f3a\"],[0.8888888888888888,\"#fdca26\"],[1.0,\"#f0f921\"]]},\"legend\":{\"tracegroupgap\":0},\"margin\":{\"t\":60},\"width\":1000},                        {\"responsive\": true}                    ).then(function(){\n",
              "                            \n",
              "var gd = document.getElementById('fdae2094-d67d-4025-8112-089724c26ac0');\n",
              "var x = new MutationObserver(function (mutations, observer) {{\n",
              "        var display = window.getComputedStyle(gd).display;\n",
              "        if (!display || display === 'none') {{\n",
              "            console.log([gd, 'removed!']);\n",
              "            Plotly.purge(gd);\n",
              "            observer.disconnect();\n",
              "        }}\n",
              "}});\n",
              "\n",
              "// Listen for the removal of the full notebook cells\n",
              "var notebookContainer = gd.closest('#notebook-container');\n",
              "if (notebookContainer) {{\n",
              "    x.observe(notebookContainer, {childList: true});\n",
              "}}\n",
              "\n",
              "// Listen for the clearing of the current output cell\n",
              "var outputEl = gd.closest('.output');\n",
              "if (outputEl) {{\n",
              "    x.observe(outputEl, {childList: true});\n",
              "}}\n",
              "\n",
              "                        })                };                            </script>        </div>\n",
              "</body>\n",
              "</html>"
            ]
          },
          "metadata": {}
        }
      ],
      "id": "G-SU6eUwwCc7"
    },
    {
      "cell_type": "markdown",
      "source": [
        "We can see that the less the distance from CBD the price increases"
      ],
      "metadata": {
        "id": "LIzRHZztTnc2"
      },
      "id": "LIzRHZztTnc2"
    },
    {
      "cell_type": "code",
      "source": [
        "fig = px.scatter(x=df['YearBuilt'], y=df['Price'],color=df['Price'])\n",
        "fig.update_xaxes(range=[1800, 2023]) \n",
        "fig.update_yaxes(range=[0, 6000000]) \n",
        "fig.update_layout(\n",
        "    xaxis_title=\"YearBuilt\",\n",
        "    yaxis_title=\"Price\",\n",
        "    width=1000\n",
        ")\n",
        "fig.show()"
      ],
      "metadata": {
        "colab": {
          "base_uri": "https://localhost:8080/",
          "height": 542
        },
        "id": "cZQB6-X1M3ab",
        "outputId": "246a974a-d124-4b2f-bf37-8ab8453c0686"
      },
      "execution_count": 48,
      "outputs": [
        {
          "output_type": "display_data",
          "data": {
            "text/html": [
              "<html>\n",
              "<head><meta charset=\"utf-8\" /></head>\n",
              "<body>\n",
              "    <div>            <script src=\"https://cdnjs.cloudflare.com/ajax/libs/mathjax/2.7.5/MathJax.js?config=TeX-AMS-MML_SVG\"></script><script type=\"text/javascript\">if (window.MathJax) {MathJax.Hub.Config({SVG: {font: \"STIX-Web\"}});}</script>                <script type=\"text/javascript\">window.PlotlyConfig = {MathJaxConfig: 'local'};</script>\n",
              "        <script src=\"https://cdn.plot.ly/plotly-2.8.3.min.js\"></script>                <div id=\"97992291-7e47-40fb-a099-248b8591fb6e\" class=\"plotly-graph-div\" style=\"height:525px; width:1000px;\"></div>            <script type=\"text/javascript\">                                    window.PLOTLYENV=window.PLOTLYENV || {};                                    if (document.getElementById(\"97992291-7e47-40fb-a099-248b8591fb6e\")) {                    Plotly.newPlot(                        \"97992291-7e47-40fb-a099-248b8591fb6e\",                        [{\"hovertemplate\":\"x=%{x}<br>y=%{y}<br>color=%{marker.color}<extra></extra>\",\"legendgroup\":\"\",\"marker\":{\"color\":[1035000.0,1465000.0,1600000.0,1876000.0,1636000.0,1097000.0,1350000.0,750000.0,1310000.0,1200000.0,1176500.0,890000.0,1330000.0,500000.0,1100000.0,1315000.0,1447500.0,1135000.0,1290000.0,470000.0,1180000.0,1195000.0,1012500.0,1030000.0,840000.0,730000.0,770000.0,603000.0,700000.0,600000.0,500000.0,725000.0,450000.0,515000.0,530000.0,895000.0,805000.0,752000.0,700000.0,830000.0,675000.0,1042000.0,773000.0,810000.0,715000.0,540000.0,825000.0,685000.0,900000.0,1275000.0,2850000.0,1850000.0,1436000.0,2300000.0,1800000.0,2120000.0,1800000.0,2615000.0,1370000.0,1322500.0,1562500.0,2000000.0,3010000.0,2800000.0,2100000.0,2000000.0,442500.0,4735000.0,2140000.0,980000.0,1740000.0,985000.0,2000000.0,1717500.0,2840000.0,525500.0,805000.0,1830000.0,2100000.0,865000.0,390000.0,512000.0,1900000.0,1950000.0,520000.0,1525000.0,720000.0,1120000.0,1780000.0,630000.0,660000.0,580000.0,1335000.0,510000.0,425000.0,391000.0,845000.0,730000.0,447000.0,678000.0,580000.0,840000.0,577000.0,857000.0,730000.0,535600.0,1085000.0,781000.0,421000.0,683000.0,720000.0,588000.0,710000.0,875000.0,675000.0,708000.0,693000.0,620000.0,728500.0,931000.0,815000.0,1200000.0,292000.0,599000.0,995000.0,1205000.0,1939000.0,1870000.0,1918000.0,2050000.0,735000.0,1435000.0,280000.0,592500.0,1210000.0,2801000.0,1800000.0,2200000.0,5525000.0,440000.0,1300000.0,704000.0,620000.0,1900000.0,710000.0,598000.0,1285000.0,520000.0,3625000.0,4200000.0,1101000.0,3512500.0,869000.0,567000.0,940000.0,467000.0,1380000.0,490000.0,1850000.0,971000.0,710000.0,2425000.0,750000.0,1053000.0,1377000.0,970000.0,751000.0,950000.0,685000.0,1230000.0,770000.0,890000.0,1440000.0,1000000.0,1435000.0,390000.0,1425000.0,1340000.0,955000.0,1100000.0,432000.0,1640000.0,1430000.0,610000.0,940000.0,890000.0,1180000.0,1480000.0,865000.0,442000.0,1037500.0,1050000.0,440000.0,1430000.0,1130000.0,1135000.0,950000.0,390000.0,1345000.0,1381500.0,940000.0,995000.0,786000.0,705000.0,760000.0,1000000.0,1305000.0,1215000.0,545000.0,1705000.0,2650000.0,1670000.0,2050000.0,1555000.0,1100000.0,1337000.0,2950000.0,1518000.0,1710000.0,1655000.0,1550000.0,1662000.0,1665000.0,3510000.0,900000.0,2752000.0,1500000.0,1800000.0,1830000.0,1415000.0,1440000.0,1250000.0,1600000.0,1860000.0,1790000.0,1950000.0,1650000.0,1200000.0,1075000.0,1500000.0,700000.0,761000.0,1365000.0,1100000.0,690000.0,1631000.0,1500000.0,1529500.0,600000.0,1240000.0,700000.0,1110000.0,1305000.0,855000.0,900500.0,1200000.0,830000.0,850000.0,750000.0,851000.0,1155000.0,680000.0,627500.0,950000.0,705000.0,1100000.0,892500.0,522500.0,680000.0,875000.0,762000.0,411000.0,805000.0,634000.0,1819000.0,410000.0,1015000.0,502500.0,520000.0,442000.0,1193000.0,416000.0,474000.0,981000.0,1690000.0,540000.0,2100000.0,1800000.0,1255000.0,1070000.0,2570000.0,2400000.0,806000.0,4000000.0,2250000.0,2800000.0,1850000.0,700000.0,500000.0,2125000.0,1800000.0,635000.0,526000.0,905000.0,1750000.0,760000.0,1367000.0,1400000.0,3270000.0,625000.0,2730000.0,460000.0,1053000.0,1472000.0,754000.0,2188000.0,755000.0,3290000.0,2410000.0,650000.0,2000000.0,1900000.0,3401000.0,1750000.0,3020000.0,2450000.0,730000.0,1500000.0,1700000.0,1315000.0,1500000.0,3230000.0,1905000.0,3300000.0,1900000.0,2251000.0,2205000.0,1265000.0,1750000.0,1450000.0,2614000.0,1825000.0,3250000.0,1150000.0,1572000.0,1750000.0,1850000.0,2130000.0,3690000.0,1740000.0,2575000.0,1388800.0,1800000.0,2910000.0,2200000.0,1700000.0,1230000.0,2600000.0,1950000.0,1750000.0,2000000.0,1480000.0,1818000.0,2525000.0,3360000.0,1903000.0,1720000.0,1675000.0,1680000.0,4000000.0,2205000.0,2100000.0,685000.0,1335000.0,1900000.0,1040000.0,1250000.0,1875000.0,1530000.0,1700000.0,1651000.0,1920000.0,1560000.0,1038000.0,1660000.0,1770000.0,691500.0,875000.0,1425000.0,851000.0,1222500.0,1317500.0,360000.0,1435000.0,1110000.0,2435000.0,1500000.0,1300000.0,1125000.0,1328000.0,1340000.0,1155000.0,1275000.0,855000.0,650000.0,1815000.0,2255000.0,855000.0,1860000.0,725000.0,1293000.0,1328000.0,1247000.0,1370000.0,1095000.0,725000.0,825000.0,1235000.0,1165000.0,1910000.0,820000.0,1430000.0,910000.0,2520000.0,1900000.0,670000.0,680000.0,1320000.0,1900000.0,1535000.0,1281000.0,1385000.0,2620000.0,825000.0,746000.0,1275000.0,1025000.0,495000.0,1220000.0,885000.0,830000.0,1210000.0,1160000.0,1215000.0,1200000.0,1050000.0,950000.0,380000.0,1338000.0,651000.0,1390000.0,1100000.0,1206000.0,486500.0,1415000.0,1185000.0,1060000.0,845000.0,860000.0,921000.0,742500.0,920000.0,702000.0,805000.0,1100000.0,1050000.0,722000.0,930000.0,921000.0,1035000.0,1352000.0,1005000.0,1600000.0,1200000.0,780000.0,1250000.0,1110000.0,1690000.0,791000.0,900000.0,970000.0,823000.0,1045000.0,655000.0,1550000.0,835000.0,1465000.0,910000.0,920000.0,935000.0,977000.0,1352000.0,1115000.0,1197000.0,485000.0,1365000.0,1698888.0,965000.0,870000.0,1161000.0,1266000.0,700000.0,1325000.0,770000.0,380000.0,1175000.0,1200000.0,1370000.0,1433500.0,860000.0,715000.0,710000.0,1550000.0,790000.0,1020000.0,886000.0,1015000.0,1255000.0,1320000.0,870000.0,1472500.0,640000.0,1620000.0,645000.0,1560000.0,1715000.0,1200000.0,1760000.0,948000.0,465000.0,975000.0,1325000.0,750000.0,1400000.0,1500000.0,1600000.0,1461400.0,775000.0,1670000.0,4000000.0,928000.0,636000.0,1170000.0,1670000.0,857000.0,822500.0,645000.0,502000.0,495000.0,868000.0,645000.0,652000.0,850000.0,575000.0,882000.0,730000.0,610000.0,696000.0,579000.0,765000.0,475000.0,550000.0,495000.0,565000.0,1635000.0,3695000.0,536000.0,3700000.0,1975000.0,1390000.0,2905000.0,1300000.0,1725000.0,2100000.0,800000.0,1761000.0,1302500.0,2750000.0,892500.0,2145000.0,3171000.0,620000.0,1475000.0,1650000.0,1562500.0,2050000.0,3320000.0,1100000.0,1650000.0,1570000.0,1785000.0,1875000.0,1266000.0,2730000.0,3295888.0,375000.0,756000.0,2100000.0,2375000.0,1385000.0,858000.0,2800000.0,3700000.0,2475000.0,2700000.0,3900000.0,610000.0,1532000.0,1037000.0,3050000.0,1630000.0,2640000.0,671000.0,2250000.0,2900000.0,2405000.0,1352500.0,3105000.0,1500000.0,1940000.0,1850000.0,930000.0,1310000.0,2504000.0,1445000.0,1825000.0,1700000.0,1400000.0,1500000.0,1400000.0,1600000.0,1780000.0,1200000.0,775000.0,1480000.0,1590000.0,2840000.0,1000000.0,1700000.0,3207000.0,880000.0,1920000.0,1301000.0,2550000.0,1915000.0,1650000.0,1530000.0,2050000.0,2550000.0,905000.0,1355000.0,1845000.0,2050000.0,1710000.0,1300000.0,2200000.0,2150000.0,681000.0,1310000.0,340000.0,692000.0,1367000.0,903000.0,2820000.0,1813000.0,1655000.0,1230000.0,1389000.0,2310000.0,1014000.0,1026000.0,1802500.0,1500000.0,2230000.0,410000.0,272500.0,680000.0,400000.0,950000.0,845500.0,605000.0,445000.0,659500.0,600000.0,1115000.0,1125000.0,855000.0,940000.0,750000.0,1056000.0,880000.0,1222500.0,955000.0,587000.0,1060000.0,890000.0,685000.0,976000.0,641000.0,770000.0,279500.0,1800000.0,1350000.0,1320000.0,825000.0,1261000.0,1045000.0,1044000.0,1050000.0,1691500.0,1075000.0,501000.0,1260000.0,1650000.0,601000.0,1015000.0,625000.0,1700000.0,435000.0,2500000.0,860000.0,491000.0,985000.0,1250000.0,641000.0,860000.0,705000.0,880000.0,754000.0,590000.0,575000.0,1510000.0,801000.0,820000.0,370000.0,1170000.0,1790000.0,640000.0,1875000.0,1053000.0,705000.0,1217000.0,1020000.0,1340000.0,1410000.0,1550000.0,740000.0,592500.0,370000.0,765000.0,772000.0,1210000.0,1755000.0,945000.0,755000.0,521500.0,1190000.0,471000.0,265000.0,955000.0,1350000.0,380000.0,300000.0,810000.0,793000.0,400000.0,400500.0,797500.0,1300000.0,1330000.0,1205000.0,380000.0,1095000.0,680000.0,711000.0,500000.0,385000.0,370000.0,320000.0,330000.0,1200000.0,537000.0,910000.0,285000.0,921500.0,1315000.0,370000.0,735000.0,1000000.0,252000.0,1700000.0,820000.0,370000.0,484000.0,815000.0,1150000.0,497000.0,440000.0,816000.0,970000.0,851000.0,1300000.0,1235000.0,1303000.0,880000.0,975000.0,990000.0,1225000.0,1490000.0,905000.0,1085000.0,787000.0,1075000.0,1302000.0,1050000.0,1000000.0,1300000.0,990000.0,1100000.0,903000.0,1590000.0,1890000.0,1022500.0,1755000.0,1300000.0,1160000.0,2000000.0,790000.0,1682000.0,625000.0,650000.0,1060000.0,1255000.0,633000.0,1350000.0,570000.0,745000.0,2150000.0,746000.0,1540000.0,1270000.0,900000.0,1250000.0,1410000.0,800000.0,702000.0,2650000.0,729000.0,2600000.0,1650000.0,615000.0,1987000.0,683000.0,1690000.0,430000.0,2600000.0,2325000.0,435000.0,2000000.0,1302000.0,1622000.0,502000.0,435000.0,591000.0,2608000.0,1780000.0,2250000.0,895000.0,1800000.0,900000.0,2700000.0,530000.0,2228000.0,1602500.0,2177000.0,3400000.0,2105000.0,1625000.0,3300000.0,667000.0,2015000.0,700000.0,3225000.0,3320000.0,2125000.0,2030000.0,2750000.0,2000000.0,2250000.0,2740000.0,2950000.0,1587500.0,830000.0,2375000.0,2900000.0,2200000.0,2620000.0,1305000.0,928000.0,2930000.0,2950000.0,722000.0,2350000.0,1640000.0,1680000.0,3550000.0,3400000.0,1850000.0,3145000.0,1425000.0,2950000.0,2175000.0,800000.0,2718000.0,2400000.0,2520000.0,2050000.0,1950000.0,437000.0,520000.0,570000.0,820000.0,795000.0,600000.0,1295000.0,510000.0,346000.0,860000.0,772000.0,1506000.0,675000.0,525000.0,290000.0,360000.0,967500.0,330000.0,1600000.0,1008000.0,1170000.0,1830000.0,250000.0,930000.0,465000.0,1550000.0,707000.0,804000.0,1501000.0,970000.0,817500.0,1450000.0,855000.0,675000.0,588000.0,455000.0,920000.0,656000.0,930000.0,415000.0,650000.0,1360000.0,350000.0,1430000.0,1490000.0,1125000.0,405000.0,1655000.0,808000.0,370000.0,1880000.0,585000.0,450000.0,860000.0,605000.0,1518000.0,632500.0,435000.0,468250.0,1716000.0,365000.0,722500.0,550000.0,131000.0,1750000.0,580000.0,2005000.0,420000.0,290000.0,1400000.0,450000.0,536000.0,550000.0,2170000.0,1577500.0,1460000.0,275500.0,1065000.0,1030000.0,1225000.0,1450000.0,1774500.0,525500.0,825000.0,1262000.0,1340000.0,1200000.0,1001000.0,1330000.0,1570000.0,1916000.0,890000.0,700000.0,865000.0,1042500.0,1002000.0,650000.0,965000.0,1301000.0,1415500.0,1260000.0,1000000.0,845000.0,881000.0,780000.0,1060000.0,930000.0,1075000.0,1105000.0,1209000.0,3010000.0,1435000.0,1290000.0,495000.0,1370000.0,1450000.0,885500.0,825000.0,1506000.0,1360000.0,850000.0,784000.0,680000.0,807000.0,675000.0,1202000.0,1370000.0,1000000.0,145000.0,860000.0,953000.0,735000.0,947000.0,500000.0,466000.0,740000.0,812000.0,766000.0,825000.0,1131000.0,1064000.0,1210000.0,434000.0,653000.0,640000.0,1130000.0,763000.0,903000.0,1000000.0,1742000.0,865000.0,485000.0,1278000.0,590000.0,1136000.0,635000.0,1400000.0,1260000.0,841000.0,537500.0,598000.0,1120000.0,870000.0,680000.0,825000.0,725000.0,1250000.0,1008000.0,990000.0,451000.0,635000.0,1020000.0,1025000.0,700000.0,1130000.0,1075000.0,600000.0,1150000.0,515000.0,472000.0,901000.0,605000.0,687000.0,975000.0,1370000.0,700000.0,810000.0,838000.0,1150000.0,931000.0,241000.0,981000.0,570000.0,500000.0,655000.0,631000.0,600000.0,715000.0,864000.0,700000.0,591000.0,860000.0,765000.0,625000.0,745000.0,1050000.0,935000.0,820000.0,780000.0,707000.0,637000.0,950000.0,860000.0,1172000.0,650000.0,792000.0,720000.0,970000.0,890000.0,1260000.0,855000.0,1125000.0,910000.0,452000.0,415000.0,372000.0,1326000.0,1230000.0,855000.0,457000.0,897500.0,1265000.0,1075000.0,366000.0,981000.0,683000.0,1000000.0,887500.0,713500.0,1500000.0,672000.0,800000.0,1645000.0,860000.0,1403000.0,1450000.0,1396000.0,1125000.0,700000.0,1152000.0,1868000.0,1050000.0,910000.0,1850000.0,1225000.0,1316000.0,1400000.0,2168000.0,1430000.0,772000.0,1468000.0,753000.0,746000.0,1485000.0,1190000.0,900000.0,1250000.0,1030000.0,985000.0,1300000.0,1462500.0,1250000.0,1460800.0,1152500.0,1650000.0,1391000.0,452000.0,1102200.0,1401000.0,1782000.0,1520000.0,878000.0,973500.0,751800.0,1100000.0,1202000.0,1362000.0,1810000.0,1901000.0,1650000.0,1816000.0,525000.0,2050000.0,1930000.0,2600000.0,600000.0,1601000.0,1100000.0,2550000.0,1190000.0,2012000.0,2309000.0,900000.0,1625000.0,1100000.0,1755000.0,1400000.0,1240000.0,591000.0,537000.0,800000.0,965000.0,1160000.0,820000.0,2600000.0,1071000.0,1800000.0,2345000.0,741000.0,626000.0,1650000.0,850000.0,1750000.0,1450000.0,2806000.0,782000.0,1007000.0,1450000.0,500000.0,2600000.0,895000.0,2050000.0,1605000.0,520000.0,507000.0,525000.0,750000.0,510000.0,300000.0,1395000.0,855000.0,790000.0,550000.0,357000.0,1210000.0,825000.0,1050000.0,632000.0,485000.0,575000.0,590000.0,1238000.0,510000.0,1875000.0,780000.0,878500.0,3572000.0,560000.0,765000.0,670000.0,1625000.0,1122000.0,2400000.0,655000.0,684000.0,500000.0,680000.0,600000.0,370000.0,390000.0,630000.0,640000.0,932000.0,645000.0,347000.0,875000.0,582500.0,570000.0,1875000.0,340000.0,2200000.0,687500.0,730000.0,526000.0,920000.0,1830000.0,1425000.0,660000.0,550000.0,1295000.0,595000.0,911000.0,900000.0,645000.0,702500.0,960000.0,1670000.0,1100000.0,1800000.0,1250000.0,1130000.0,370000.0,1467000.0,2800000.0,1160000.0,2620000.0,1226000.0,1402000.0,855000.0,1275000.0,1590000.0,606000.0,1385000.0,650000.0,460000.0,1000000.0,520000.0,720000.0,1635000.0,485000.0,1575000.0,280000.0,1467000.0,890000.0,870000.0,1134000.0,320500.0,1065000.0,1610000.0,930000.0,395000.0,1470000.0,750000.0,390000.0,1170000.0,1600000.0,1535000.0,435000.0,1460000.0,736000.0,450000.0,740000.0,691000.0,2355000.0,1625000.0,1150000.0,360000.0,645000.0,250000.0,872000.0,630000.0,440000.0,1811000.0,1500000.0,1290000.0,1100000.0,1270000.0,1445000.0,1113000.0,370000.0,396000.0,450000.0,1360000.0,340000.0,765000.0,712000.0,1250000.0,1350000.0,1220000.0,1160000.0,505000.0,602000.0,846000.0,400000.0,445000.0,1730000.0,510000.0,1350000.0,2000000.0,805000.0,1055000.0,548000.0,1500000.0,600000.0,545000.0,1375000.0,1252000.0,810000.0,947500.0,1460000.0,880000.0,3310000.0,1250000.0,1950000.0,465000.0,1620000.0,850000.0,1122000.0,1300000.0,420000.0,715000.0,800000.0,710000.0,630000.0,4011000.0,700000.0,860000.0,870000.0,1450000.0,358500.0,770000.0,1008000.0,1015000.0,1371000.0,1286000.0,1600000.0,1950000.0,3400000.0,1785000.0,1210000.0,1275000.0,1290000.0,750000.0,675000.0,1700000.0,1080000.0,1222500.0,937500.0,1300000.0,1300000.0,2150000.0,1581000.0,602000.0,650000.0,1450000.0,365000.0,425000.0,391000.0,1130000.0,1110000.0,918000.0,730000.0,855000.0,1012000.0,395000.0,556000.0,345000.0,1100000.0,395000.0,1115000.0,420500.0,1225000.0,1003000.0,840000.0,1362000.0,977000.0,216000.0,876000.0,227000.0,841000.0,605000.0,305000.0,480000.0,910000.0,291000.0,752000.0,1155000.0,853000.0,480000.0,775000.0,281000.0,1300000.0,714000.0,950000.0,760000.0,420000.0,932000.0,780000.0,295000.0,433000.0,410000.0,1170000.0,375000.0,747000.0,775000.0,571000.0,305000.0,860500.0,370000.0,711000.0,690500.0,747000.0,858000.0,699000.0,835000.0,661000.0,757500.0,282000.0,699000.0,850000.0,315000.0,740000.0,980000.0,316000.0,760000.0,735000.0,1225000.0,767500.0,395000.0,815000.0,757000.0,1450000.0,745000.0,716000.0,1735000.0,3400000.0,3730000.0,1800000.0,1998000.0,671000.0,1425000.0,1530000.0,1900000.0,1360000.0,2175000.0,2325000.0,2538000.0,2300000.0,550000.0,1600000.0,2115000.0,1700000.0,2077000.0,2850000.0,411000.0,2020000.0,2010000.0,2975000.0,452000.0,1820000.0,291000.0,2376000.0,1456000.0,345000.0,2000000.0,585000.0,1700000.0,1375000.0,920000.0,382000.0,1280000.0,2825000.0,2825000.0,1825000.0,3085000.0,1600000.0,2352500.0,3860000.0,2625000.0,1950000.0,2200000.0,1751000.0,1857000.0,720000.0,1500000.0,2725000.0,2800000.0,1665000.0,600000.0,1420000.0,2410000.0,2100000.0,2950000.0,3365000.0,1931000.0,1250000.0,2400000.0,610000.0,610000.0,806500.0,550000.0,822000.0,980000.0,430000.0,540000.0,737000.0,460000.0,545000.0,670000.0,702000.0,730000.0,711500.0,810000.0,250000.0,460000.0,793000.0,340000.0,447500.0,588000.0,420000.0,410000.0,525000.0,703000.0,608000.0,607000.0,765500.0,470000.0,580000.0,620250.0,710000.0,630000.0,600000.0,550000.0,600000.0,1217500.0,600000.0,570000.0,762700.0,465000.0,741250.0,1000000.0,630000.0,670000.0,417000.0,600000.0,440000.0,660000.0,270000.0,825000.0,638000.0,631000.0,532000.0,504000.0,468000.0,802500.0,709000.0,485000.0,540000.0,390000.0,800000.0,740000.0,605000.0,685500.0,610000.0,630000.0,870000.0,810000.0,487000.0,700000.0,600500.0,730000.0,800000.0,750000.0,740000.0,646000.0,545000.0,777000.0,722000.0,545000.0,510000.0,631500.0,550000.0,330000.0,715888.0,468000.0,515000.0,895000.0,587000.0,2800000.0,3250000.0,2140000.0,1600000.0,1003500.0,802000.0,1560000.0,760000.0,616000.0,1680000.0,1120000.0,3200000.0,1250000.0,2000000.0,1805000.0,2600000.0,3470000.0,1050000.0,810000.0,1460000.0,3075000.0,875500.0,2600000.0,1705000.0,1515000.0,2980000.0,2200000.0,1100000.0,3325000.0,450000.0,500000.0,1460000.0,1740000.0,1800000.0,2160000.0,2250000.0,2130000.0,400000.0,926000.0,1070000.0,801000.0,1150000.0,472000.0,1300000.0,1200000.0,1650000.0,2670000.0,348000.0,1189000.0,610000.0,492000.0,806000.0,2000000.0,753000.0,330000.0,1420000.0,495000.0,292000.0,580000.0,1300000.0,1300000.0,440000.0,1000000.0,1741000.0,655000.0,488000.0,2065000.0,350000.0,1712000.0,480000.0,3225000.0,400000.0,1650000.0,3950000.0,587500.0,560000.0,1936000.0,4250000.0,630000.0,1560000.0,840000.0,1780000.0,815000.0,1975000.0,657500.0,5050000.0,445000.0,1180000.0,470000.0,485000.0,1800000.0,1855000.0,665000.0,1551000.0,612500.0,2410000.0,715000.0,1055000.0,1976000.0,499000.0,495000.0,3750000.0,1400000.0,370000.0,627500.0,815000.0,565000.0,994000.0,785000.0,620000.0,706750.0,584000.0,909000.0,1086000.0,680000.0,650000.0,890000.0,650000.0,605000.0,770000.0,950000.0,856000.0,600000.0,915000.0,400000.0,550000.0,590000.0,920000.0,460000.0,1000500.0,631000.0,691000.0,560000.0,370000.0,532000.0,515500.0,800000.0,620000.0,360000.0,440500.0,758000.0,480000.0,715000.0,646250.0,1375000.0,722000.0,725000.0,465000.0,1550000.0,516000.0,1340000.0,1316000.0,828000.0,1055000.0,623000.0,2120000.0,1745000.0,1700000.0,420000.0,1337000.0,455000.0,400000.0,1210000.0,1167500.0,900000.0,677500.0,2265000.0,981000.0,2400000.0,890000.0,739000.0,785000.0,1155000.0,1020000.0,1465000.0,855000.0,413000.0,1220000.0,1605000.0,587000.0,1535000.0,1470000.0,1486000.0,1730000.0,1850000.0,2600000.0,500000.0,1102000.0,1275000.0,785000.0,1223500.0,1720000.0,1225000.0,1460000.0,421000.0,2090000.0,700000.0,2595000.0,710000.0,650000.0,515000.0,582000.0,545000.0,751000.0,500000.0,560000.0,703000.0,650000.0,770000.0,900000.0,700000.0,816000.0,845000.0,772000.0,650000.0,757000.0,690000.0,583000.0,880000.0,580000.0,886000.0,920000.0,976000.0,1420000.0,900000.0,560000.0,1010000.0,835000.0,705000.0,680000.0,785000.0,695000.0,502000.0,770000.0,570000.0,830000.0,600000.0,825000.0,735000.0,875000.0,601200.0,680000.0,705000.0,710000.0,732000.0,715000.0,852000.0,1037000.0,1470000.0,492500.0,420000.0,420000.0,1271000.0,1010000.0,750000.0,905000.0,960000.0,1031000.0,870000.0,1165000.0,1710000.0,1455000.0,365000.0,442000.0,765000.0,515000.0,370000.0,1234500.0,666000.0,825000.0,812000.0,1900000.0,445000.0,732000.0,1260000.0,1000000.0,1155000.0,790000.0,700000.0,1230000.0,460000.0,395000.0,850000.0,868000.0,773000.0,631090.0,410000.0,425000.0,610000.0,882000.0,3550000.0,1326000.0,1950000.0,2550000.0,1878000.0,1910000.0,1410000.0,2310000.0,2315000.0,800000.0,4850000.0,6500000.0,580000.0,1905000.0,478000.0,672000.0,2286000.0,1575000.0,590000.0,2350000.0,1312000.0,890000.0,1331000.0,1800000.0,1476000.0,2590000.0,2625000.0,2265000.0,1975000.0,2550000.0,1330000.0,1450000.0,3650000.0,551000.0,2460000.0,2850000.0,2425000.0,610000.0,955000.0,707500.0,732000.0,2875000.0,1500000.0,1750000.0,1100000.0,1440000.0,2560000.0,2600000.0,3280000.0,620000.0,2600000.0,2800000.0,1420000.0,1800000.0,395000.0,2250000.0,1950000.0,605000.0,1920000.0,1615000.0,2081000.0,1315000.0,1750000.0,2100000.0,1300000.0,1315000.0,1620000.0,615000.0,715000.0,826000.0,275000.0,711000.0,695000.0,490000.0,502000.0,721000.0,840000.0,335000.0,832000.0,646000.0,673000.0,695000.0,349000.0,555000.0,352500.0,1350000.0,510000.0,490000.0,675000.0,865000.0,600000.0,773000.0,2050000.0,3460000.0,2400000.0,2025000.0,611000.0,3800000.0,1390000.0,2415000.0,566000.0,1437000.0,500000.0,3400000.0,2355000.0,4240000.0,1326000.0,4525000.0,1965000.0,3470000.0,740000.0,2325000.0,1970000.0,1475000.0,584000.0,1490000.0,1210000.0,2355000.0,1036000.0,2273000.0,2350000.0,2200000.0,790000.0,1185000.0,1837000.0,1253000.0,922000.0,4802500.0,350000.0,1555000.0,2123000.0,1700000.0,1150000.0,2001000.0,1915000.0,1135000.0,1240000.0,1120000.0,1500000.0,707500.0,835000.0,1870000.0,1580000.0,820000.0,480000.0,1680000.0,300000.0,1100000.0,373000.0,2560000.0,960000.0,315000.0,1297000.0,1015000.0,523000.0,1335000.0,425000.0,1670000.0,1350000.0,1650000.0,950000.0,1782500.0,650000.0,975000.0,560000.0,355000.0,550000.0,420000.0,399000.0,1105000.0,730000.0,662500.0,410000.0,920000.0,1320000.0,1150000.0,847000.0,400000.0,1072000.0,510000.0,865000.0,570000.0,1900000.0,429000.0,456000.0,566000.0,408000.0,470000.0,780000.0,440000.0,1048700.0,400000.0,1215000.0,1180000.0,1117000.0,420000.0,770000.0,1151000.0,907000.0,570000.0,820000.0,940000.0,1030000.0,1230000.0,884500.0,820000.0,780000.0,535000.0,450000.0,360000.0,665000.0,386000.0,659000.0,545000.0,450000.0,432000.0,750000.0,375000.0,680000.0,470000.0,483000.0,700000.0,520000.0,440000.0,733000.0,760000.0,360000.0,2600000.0,2350000.0,535000.0,700000.0,3120000.0,1025000.0,1920000.0,2623000.0,1500000.0,1630000.0,1910000.0,1320000.0,750000.0,2588000.0,1400000.0,2200000.0,1310000.0,2335000.0,1815000.0,725000.0,3900000.0,1200000.0,1564000.0,520000.0,670000.0,1055000.0,348000.0,1780000.0,1440000.0,1225000.0,1445000.0,990000.0,1550000.0,1170000.0,1120000.0,1530000.0,832000.0,420000.0,2400000.0,565000.0,550000.0,1211000.0,1630000.0,1160000.0,1361500.0,945000.0,360000.0,860000.0,1637000.0,1505000.0,515000.0,330000.0,1322000.0,1015000.0,840000.0,1900000.0,2340000.0,1400000.0,1640000.0,1480000.0,410000.0,980000.0,842500.0,1345000.0,265000.0,849000.0,1425000.0,1345000.0,330000.0,726000.0,1250000.0,870000.0,1725000.0,600000.0,1505000.0,850000.0,292000.0,1740000.0,470000.0,1130000.0,930000.0,336000.0,800000.0,1224000.0,1000000.0,380500.0,1090000.0,836000.0,1417250.0,950000.0,1140000.0,750000.0,1000000.0,1200000.0,987000.0,937000.0,1426000.0,1016000.0,901000.0,1300000.0,975000.0,1070000.0,639000.0,605000.0,960000.0,725000.0,800000.0,917000.0,890000.0,1008000.0,1191000.0,776000.0,1035000.0,1160000.0,240000.0,1105000.0,826000.0,900000.0,962000.0,800000.0,710000.0,940000.0,655800.0,1082000.0,1210000.0,880000.0,335000.0,1260000.0,1400000.0,995000.0,962000.0,800000.0,1305000.0,485000.0,810000.0,1620000.0,923000.0,1030000.0,1046000.0,740000.0,970000.0,735000.0,485000.0,950000.0,1280000.0,1040000.0,1115000.0,1176000.0,1265000.0,801000.0,770000.0,993000.0,650000.0,891500.0,805000.0,680000.0,793000.0,747000.0,896000.0,890000.0,930000.0,1151000.0,820000.0,816000.0,945000.0,643700.0,760000.0,881000.0,900000.0,830000.0,1126000.0,1235000.0,457000.0,660000.0,770000.0,1350000.0,820000.0,991000.0,657000.0,710000.0,840000.0,1400000.0,1080000.0,1015000.0,1245000.0,1105000.0,2920000.0,540000.0,726000.0,1340000.0,1105000.0,841000.0,528500.0,410000.0,550000.0,470000.0,640000.0,720000.0,1325000.0,368000.0,450000.0,1385000.0,990000.0,606000.0,450000.0,1470000.0,1010000.0,1266000.0,620000.0,630000.0,560000.0,665500.0,550055.0,358000.0,320000.0,1000000.0,598000.0,885000.0,587134.0,1286000.0,1200000.0,1382500.0,1600000.0,1710000.0,2000000.0,583000.0,650000.0,1700000.0,1575000.0,950000.0,1655000.0,1255000.0,1020000.0,435000.0,790000.0,605000.0,385000.0,1190000.0,865000.0,2175000.0,312000.0,890000.0,2700000.0,1101000.0,1050000.0,1010000.0,1900000.0,888000.0,1020000.0,844000.0,900000.0,1300000.0,810000.0,701000.0,665000.0,2315000.0,1170000.0,1715000.0,422000.0,1474000.0,1035000.0,460000.0,1760000.0,1095000.0,1225000.0,1211000.0,770000.0,1000000.0,1050000.0,1700000.0,2160000.0,400000.0,1420000.0,1950000.0,1820000.0,1080000.0,570000.0,1340000.0,2340000.0,1634000.0,910000.0,1650000.0,1510000.0,865000.0,476000.0,706000.0,920000.0,522000.0,690000.0,770000.0,1100000.0,475000.0,651000.0,815500.0,770000.0,585500.0,840000.0,470000.0,810000.0,855333.0,900000.0,875000.0,651000.0,802000.0,900000.0,1000000.0,801347.0,921000.0,1900000.0,752500.0,1067000.0,1260500.0,850500.0,1068000.0,937500.0,1126000.0,778000.0,1230000.0,1805000.0,2200000.0,1265000.0,1928000.0,526000.0,2236000.0,1403000.0,1120000.0,770000.0,975000.0,780000.0,600000.0,955000.0,1196000.0,731000.0,585000.0,480000.0,605000.0,738000.0,386000.0,452000.0,522500.0,741000.0,530000.0,815000.0,775000.0,950000.0,900000.0,835000.0,790000.0,810000.0,500000.0,485000.0,488000.0,900000.0,680000.0,590000.0,770000.0,975000.0,970000.0,600000.0,510000.0,750000.0,822000.0,430000.0,1350000.0,810000.0,550500.0,610000.0,533000.0,410000.0,600000.0,616000.0,960000.0,985000.0,670000.0,665000.0,880000.0,700000.0,600000.0,1570000.0,525500.0,612500.0,248500.0,960000.0,650000.0,500000.0,599000.0,1150000.0,985000.0,1200000.0,2200000.0,2105000.0,550000.0,1915000.0,1630000.0,1000000.0,1470000.0,725000.0,600000.0,1342000.0,500000.0,795000.0,590000.0,1100000.0,1275000.0,1000000.0,1820000.0,655000.0,1350000.0,1560000.0,1060000.0,1610000.0,1101000.0,880000.0,1080000.0,1115000.0,516000.0,1753000.0,900000.0,2350000.0,1670000.0,1402000.0,1570000.0,1150000.0,1384000.0,655000.0,456000.0,520000.0,470000.0,600000.0,670000.0,1400000.0,1520000.0,600000.0,2460000.0,3705000.0,950000.0,1350000.0,735000.0,400000.0,900000.0,1380000.0,1080000.0,342000.0,950000.0,781000.0,549800.0,492000.0,500500.0,1400000.0,685000.0,710000.0,330000.0,1245000.0,1182500.0,1303000.0,482500.0,585000.0,1106000.0,1590000.0,1055000.0,1100000.0,530000.0,1500000.0,841000.0,570000.0,560000.0,815000.0,910000.0,1450000.0,1540000.0,1811000.0,1180000.0,1720000.0,1050000.0,1582000.0,681000.0,1305000.0,1255000.0,2180000.0,1720000.0,1220000.0,1612000.0,1250000.0,930000.0,751000.0,715000.0,837000.0,950000.0,496000.0,850000.0,540000.0,1150000.0,615000.0,735000.0,810000.0,600000.0,1650000.0,600000.0,722000.0,1260000.0,485000.0,690000.0,1065000.0,1200000.0,530000.0,900000.0,700000.0,920000.0,980000.0,886000.0,1080000.0,1400000.0,660000.0,436000.0,876000.0,910000.0,714000.0,770000.0,810000.0,1127000.0,780000.0,986000.0,760000.0,1123000.0,300000.0,890000.0,425000.0,515000.0,1040000.0,890000.0,790000.0,860000.0,630000.0,875000.0,923000.0,920000.0,871000.0,950000.0,870000.0,1186000.0,610000.0,1162500.0,1142500.0,930000.0,875000.0,840000.0,750000.0,750000.0,475000.0,415000.0,731000.0,352000.0,723000.0,336000.0,685000.0,1025000.0,490000.0,805000.0,1005000.0,535000.0,800000.0,510000.0,651000.0,365000.0,405000.0,620500.0,260000.0,625000.0,427500.0,851000.0,998000.0,1030000.0,410000.0,1015000.0,915000.0,380000.0,530000.0,592000.0,440000.0,650000.0,416000.0,301000.0,865000.0,650000.0,401000.0,491000.0,810000.0,555000.0,350000.0,540000.0,682000.0,380000.0,350000.0,750000.0,495000.0,500000.0,350000.0,335000.0,546000.0,400000.0,360000.0,410000.0,836000.0,440000.0,376000.0,323000.0,680000.0,530000.0,786000.0,390000.0,650000.0,800000.0,330000.0,539000.0,622500.0,767500.0,780000.0,668000.0,470000.0,655000.0,440000.0,703000.0,424000.0,613000.0,475000.0,950000.0,730000.0,905000.0,480000.0,767000.0,450000.0,921500.0,490000.0,787000.0,300000.0,335000.0,475000.0,440000.0,216000.0,220000.0,340000.0,395000.0,790000.0,601000.0,300000.0,420000.0,885000.0,815000.0,882500.0,793000.0,550000.0,433000.0,680000.0,851000.0,1025000.0,784000.0,1186000.0,885000.0,718500.0,762500.0,610000.0,680000.0,390000.0,937000.0,1260000.0,795250.0,582000.0,370000.0,421000.0,3200000.0,479000.0,655000.0,561000.0,635000.0,1010000.0,1025000.0,550000.0,1375000.0,1506000.0,1350000.0,405000.0,327000.0,1474000.0,1555000.0,500000.0,345000.0,1275000.0,1150000.0,950000.0,270000.0,439000.0,695000.0,512000.0,855000.0,1040000.0,342000.0,681000.0,900000.0,1250000.0,990000.0,1189000.0,1220000.0,1100000.0,450000.0,1074000.0,1430000.0,1465000.0,391000.0,930000.0,1182000.0,777500.0,1115000.0,760000.0,640000.0,1420000.0,390000.0,380000.0,680000.0,1081000.0,860000.0,905000.0,691000.0,1088000.0,911000.0,3001000.0,638000.0,900000.0,1695000.0,1365000.0,1045000.0,1591000.0,1275000.0,1510000.0,1550000.0,1456000.0,1100000.0,1045000.0,2000000.0,646000.0,660000.0,1145000.0,905000.0,750000.0,604000.0,1645000.0,306000.0,1270000.0,1850000.0,1650000.0,1320000.0,1651000.0,1800000.0,791500.0,1600000.0,1200000.0,1555000.0,1582000.0,2055000.0,1345000.0,410000.0,696000.0,1350000.0,807000.0,385000.0,1150000.0,1775000.0,1270000.0,827500.0,560000.0,790000.0,1212500.0,1125000.0,1520000.0,1101500.0,1020000.0,560000.0,1050000.0,531000.0,620000.0,780000.0,821000.0,915000.0,890000.0,430000.0,1012000.0,1020000.0,1270000.0,515000.0,867000.0,945000.0,618000.0,601000.0,908000.0,1145000.0,970000.0,1325000.0,450000.0,1330000.0,1075000.0,1350000.0,1201000.0,990000.0,720000.0,880000.0,920000.0,1395000.0,965000.0,920000.0,875000.0,822500.0,1080000.0,1275000.0,955000.0,1455000.0,533000.0,970000.0,355000.0,1032000.0,1270000.0,815000.0,593000.0,1600000.0,1620000.0,1270000.0,2633000.0,1405000.0,2260000.0,1595000.0,595000.0,490000.0,1250000.0,2180000.0,930000.0,1200000.0,2000000.0,2000000.0,1050000.0,1250000.0,1650000.0,561000.0,1825000.0,1200000.0,1390000.0,1615000.0,2300000.0,742000.0,2075000.0,722000.0,850000.0,1230000.0,535000.0,990000.0,695000.0,775000.0,572000.0,1460000.0,623500.0,409000.0,1250000.0,659000.0,780000.0,1455000.0,360500.0,1300000.0,1300000.0,380000.0,5700000.0,515000.0,2695000.0,310000.0,627500.0,425000.0,330000.0,693000.0,2285000.0,3000000.0,515000.0,600000.0,2600000.0,320000.0,400000.0,1810000.0,567500.0,540000.0,2010000.0,1945000.0,906000.0,367000.0,1130000.0,500000.0,310000.0,1100000.0,410000.0,1125000.0,840000.0,1400000.0,680500.0,280000.0,520000.0,1200000.0,480000.0,2200000.0,1700000.0,1200000.0,1540000.0,826000.0,1700000.0,505000.0,720000.0,868000.0,530000.0,650000.0,990000.0,592500.0,600000.0,455000.0,1250000.0,425000.0,740000.0,660000.0,622500.0,800000.0,540000.0,370000.0,855000.0,832500.0,850000.0,1080000.0,927000.0,850000.0,831000.0,840000.0,1315000.0,1161000.0,1016000.0,690000.0,1070000.0,871500.0,380000.0,430000.0,602000.0,575000.0,495000.0,500000.0,1891000.0,2000000.0,1500000.0,2000000.0,500000.0,685000.0,380000.0,616000.0,400000.0,451000.0,1400000.0,459000.0,520000.0,370500.0,5046000.0,385000.0,1900000.0,390000.0,500000.0,430000.0,392000.0,1900000.0,540000.0,475000.0,570000.0,400000.0,920000.0,503500.0,580000.0,1295000.0,481000.0,1120000.0,400000.0,1210000.0,785000.0,450000.0,875000.0,650000.0,431000.0,385000.0,575000.0,4400000.0,535000.0,1200500.0,565000.0,520000.0,902000.0,1600000.0,750000.0,1365000.0,1950000.0,1678000.0,400000.0,500000.0,760000.0,580000.0,430000.0,1100000.0,435000.0,354000.0,1025000.0,1430000.0,1330000.0,1635000.0,1194000.0,1440000.0,1300000.0,850000.0,1150000.0,910000.0,1430000.0,622500.0,1500000.0,1280000.0,1485000.0,1080000.0,1715000.0,2650000.0,630000.0,1370000.0,800000.0,950000.0,780000.0,1350500.0,745000.0,657500.0,1030000.0,460000.0,490000.0,890000.0,425000.0,715000.0,816000.0,425500.0,610000.0,600000.0,611000.0,670000.0,605000.0,930000.0,880000.0,570000.0,700000.0,625000.0,695000.0,910000.0,607000.0,679500.0,500000.0,895000.0,410000.0,635000.0,480000.0,435000.0,560000.0,626800.0,571500.0,605000.0,600000.0,650000.0,736000.0,735000.0,700000.0,1190000.0,591000.0,665000.0,620000.0,503000.0,1000000.0,560000.0,615000.0,450000.0,680000.0,620000.0,545000.0,621000.0,687000.0,485000.0,510000.0,500000.0,480000.0,621000.0,690000.0,547500.0,280000.0,555000.0,600000.0,622500.0,350000.0,657000.0,682000.0,520000.0,470000.0,586000.0,305000.0,705000.0,645000.0,500000.0,510000.0,750500.0,451000.0,2440000.0,1110000.0,2128000.0,2200000.0,640000.0,1700000.0,2500000.0,2200000.0,2860000.0,1930000.0,1812500.0,760000.0,1300000.0,1960000.0,2630000.0,880000.0,1755000.0,1700000.0,1975000.0,610000.0,1850000.0,2050000.0,2100000.0,1150000.0,770500.0,600000.0,2125000.0,656000.0,1518000.0,1560000.0,865000.0,2160000.0,2300000.0,600000.0,2180000.0,1251000.0,1650000.0,1835000.0,778500.0,1201000.0,1165000.0,742500.0,1101000.0,1200000.0,990000.0,1500000.0,1290000.0,790000.0,950000.0,1421000.0,1051000.0,1710000.0,1280000.0,750000.0,1000000.0,678000.0,1010000.0,1210000.0,945000.0,725000.0,1211000.0,1100000.0,1002000.0,1209000.0,2080000.0,1118000.0,903000.0,1220000.0,1650000.0,1182500.0,1020000.0,650000.0,1509000.0,517500.0,370000.0,805000.0,1428888.0,940000.0,270000.0,365000.0,525500.0,944000.0,887000.0,701000.0,1110000.0,332000.0,1265000.0,1085000.0,898000.0,1235000.0,910500.0,995000.0,760000.0,505000.0,1400000.0,1110000.0,1200000.0,450000.0,874000.0,1427000.0,383000.0,1290000.0,450000.0,438000.0,1250000.0,1070000.0,1570000.0,486000.0,1211000.0,1280000.0,1478000.0,1913000.0,928500.0,432500.0,330000.0,1370000.0,303500.0,1160000.0,1380000.0,1435000.0,5500000.0,5500000.0,1689000.0,1100000.0,925000.0,450000.0,349000.0,2650000.0,2820000.0,810000.0,2840000.0,2700000.0,6250000.0,4500000.0,541000.0,1550000.0,2205000.0,950000.0,366000.0,2620000.0,1900000.0,4000000.0,4200000.0,690000.0,511000.0,910000.0,2250000.0,525000.0,3270000.0,960000.0,1010000.0,880000.0,770000.0,730000.0,1005000.0,555000.0,546000.0,765000.0,920000.0,1025000.0,895000.0,820000.0,870000.0,1050000.0,660000.0,581000.0,600000.0,690000.0,582000.0,740000.0,671000.0,741000.0,537000.0,1040000.0,1171000.0,662000.0,922000.0,860500.0,702000.0,627500.0,549000.0,701000.0,645000.0,1010000.0,1260000.0,460000.0,2370000.0,800000.0,550000.0,660000.0,1055000.0,995000.0,443000.0,1120000.0,482000.0,620000.0,601000.0,1400000.0,1535000.0,890000.0,1800000.0,2910000.0,2910000.0,1200000.0,1460000.0,310000.0,1200000.0,1560000.0,1575000.0,830000.0,1470000.0,2230000.0,1460000.0,1330000.0,1010000.0,513500.0,1805000.0,1126000.0,935000.0,375000.0,2050000.0,1310000.0,491500.0,547500.0,1210000.0,412000.0,1630000.0,1482500.0,1300000.0,2255000.0,1710000.0,2440000.0,380000.0,367500.0,1225000.0,580000.0,2302000.0,611000.0,800000.0,275000.0,1540000.0,1370000.0,452000.0,501000.0,380000.0,1177000.0,600000.0,1500000.0,830000.0,1200000.0,600000.0,474000.0,1350000.0,1910000.0,915000.0,810000.0,753000.0,602500.0,742000.0,953000.0,650000.0,731000.0,710000.0,936000.0,721000.0,1000000.0,890000.0,1165000.0,1550000.0,770000.0,871000.0,780000.0,650000.0,770000.0,1235000.0,1000000.0,1320000.0,1100000.0,782000.0,910000.0,856000.0,670000.0,706000.0,1050000.0,1320000.0,1815000.0,630000.0,1870000.0,1930000.0,510000.0,381000.0,1040000.0,470000.0,501344.0,796000.0,1055000.0,620000.0,345000.0,950000.0,1200000.0,1005000.0,1340000.0,865000.0,781500.0,1401000.0,630000.0,1137500.0,1158000.0,955000.0,1081000.0,725000.0,767000.0,1450000.0,1430000.0,1275000.0,1606000.0,780000.0,670000.0,1380000.0,480500.0,1520000.0,1287000.0,800000.0,1460000.0,840000.0,900500.0,940000.0,380000.0,1646000.0,470000.0,1346000.0,935000.0,3900000.0,1150000.0,1720000.0,1705000.0,1190000.0,1740000.0,1200000.0,726000.0,1300000.0,670000.0,1350000.0,773000.0,645000.0,720000.0,625000.0,1310000.0,856000.0,580000.0,940000.0,1495000.0,1550000.0,1815000.0,1625000.0,899000.0,435000.0,1080000.0,656000.0,1574000.0,665000.0,590000.0,1679000.0,1050000.0,825000.0,998000.0,1010000.0,1050000.0,1600000.0,1325000.0],\"coloraxis\":\"coloraxis\",\"symbol\":\"circle\"},\"mode\":\"markers\",\"name\":\"\",\"showlegend\":false,\"x\":[1900.0,1900.0,2014.0,1910.0,1890.0,1900.0,2005.0,2009.0,1890.0,1880.0,1890.0,1985.0,1900.0,1970.0,2013.0,1900.0,2012.0,1920.0,1950.0,2013.0,1900.0,1998.0,1900.0,1930.0,2016.0,1965.0,1965.0,1950.0,2009.0,1980.0,2011.0,1980.0,2015.0,2013.0,2012.0,1975.0,1950.0,1993.0,2009.0,1960.0,1975.0,1950.0,1980.0,1980.0,1995.0,2010.0,1960.0,1975.0,1975.0,1900.0,1890.0,1890.0,1900.0,1880.0,1996.0,1900.0,1900.0,1880.0,2000.0,1890.0,1890.0,1900.0,1890.0,1910.0,1900.0,1890.0,1970.0,1910.0,1880.0,1890.0,1890.0,1900.0,1930.0,1925.0,1910.0,1960.0,2004.0,1970.0,2008.0,2010.0,1960.0,1965.0,1930.0,1920.0,2015.0,2005.0,2013.0,1930.0,1962.0,1955.0,1955.0,1988.0,1953.0,1990.0,1980.0,1965.0,1950.0,2014.0,1990.0,1950.0,2013.0,1965.0,2007.0,1950.0,2014.0,1996.0,1965.0,1970.0,2009.0,1967.0,2012.0,1970.0,1960.0,1965.0,2012.0,1960.0,2008.0,2010.0,1960.0,1950.0,1960.0,1960.0,1970.0,1964.0,1998.0,2000.0,1889.0,1888.0,1995.0,1910.0,1970.0,1900.0,1975.0,1970.0,1910.0,1900.0,1910.0,1900.0,1935.0,1970.0,1900.0,1969.0,1970.0,1900.0,1970.0,1970.0,1920.0,1970.0,1900.0,2000.0,2000.0,1998.0,1940.0,2013.0,1920.0,1980.0,1910.0,1970.0,1900.0,1900.0,1890.0,1887.0,1920.0,1900.0,1900.0,1904.0,1890.0,1900.0,1995.0,1960.0,1900.0,1890.0,1900.0,1955.0,1950.0,1972.0,1920.0,1978.0,1910.0,1920.0,1978.0,1890.0,1900.0,1995.0,1950.0,1920.0,1930.0,1939.0,2015.0,1975.0,1920.0,2013.0,1970.0,1900.0,1900.0,1910.0,1920.0,2012.0,1920.0,1900.0,2011.0,2010.0,1940.0,1910.0,1900.0,2003.0,1900.0,1960.0,1900.0,2012.0,2015.0,1930.0,2014.0,1935.0,2004.0,1950.0,2009.0,1920.0,1950.0,1940.0,1938.0,2006.0,1945.0,2015.0,1990.0,2010.0,1945.0,1950.0,1940.0,1950.0,1940.0,2007.0,1950.0,2000.0,1935.0,1940.0,1947.0,2016.0,1950.0,2000.0,1970.0,1950.0,1950.0,1970.0,2003.0,1950.0,1930.0,2000.0,1970.0,1950.0,2007.0,1950.0,1960.0,1958.0,2012.0,1970.0,2012.0,1970.0,1980.0,2017.0,2008.0,1970.0,1970.0,1970.0,1960.0,1992.0,1965.0,1995.0,1960.0,1960.0,1961.0,1995.0,1970.0,1950.0,1900.0,1965.0,2000.0,1960.0,1970.0,1960.0,1920.0,1960.0,1970.0,1930.0,1890.0,1970.0,1920.0,1985.0,2000.0,1998.0,2009.0,1985.0,1977.0,1935.0,2006.0,2001.0,1930.0,1970.0,1960.0,1985.0,1948.0,2014.0,1960.0,1995.0,2016.0,1960.0,2003.0,2009.0,1927.0,1960.0,1997.0,1950.0,1985.0,1995.0,1990.0,1981.0,1980.0,1910.0,1940.0,1960.0,1930.0,1940.0,1930.0,1943.0,2009.0,1960.0,1960.0,2011.0,1935.0,2000.0,1950.0,1960.0,1955.0,2015.0,1955.0,1950.0,1950.0,2011.0,1960.0,1950.0,1955.0,1958.0,2013.0,2003.0,1965.0,2013.0,1990.0,1970.0,1967.0,1993.0,2006.0,1970.0,1960.0,1992.0,1955.0,1960.0,2012.0,2008.0,1970.0,1955.0,1950.0,1950.0,1930.0,1960.0,2003.0,1950.0,1950.0,1974.0,2014.0,2013.0,1950.0,1940.0,1975.0,2009.0,1960.0,1995.0,1950.0,1961.0,1960.0,1960.0,1960.0,1955.0,1980.0,2003.0,1950.0,1955.0,1968.0,1950.0,1960.0,1970.0,2000.0,1945.0,1965.0,2012.0,1940.0,1928.0,1940.0,1940.0,1948.0,1940.0,1910.0,2010.0,1960.0,1940.0,1960.0,1950.0,2008.0,2005.0,1930.0,1990.0,1950.0,1970.0,2008.0,1950.0,1965.0,2012.0,2007.0,2012.0,1950.0,1950.0,1960.0,1970.0,1970.0,2012.0,1926.0,2007.0,1998.0,2010.0,1988.0,1930.0,1940.0,1950.0,2012.0,2008.0,2002.0,1960.0,1999.0,1980.0,1950.0,1950.0,2012.0,2014.0,2006.0,1970.0,1960.0,1950.0,1950.0,1970.0,1970.0,1960.0,1960.0,1955.0,1940.0,1960.0,1970.0,2012.0,1960.0,1998.0,1995.0,2009.0,1960.0,1950.0,1960.0,2000.0,2004.0,1950.0,2005.0,1960.0,2000.0,1950.0,1950.0,2006.0,1930.0,1970.0,1950.0,2010.0,1960.0,1950.0,1950.0,1940.0,2000.0,2003.0,2010.0,2000.0,1950.0,1980.0,2015.0,1950.0,2007.0,2012.0,1970.0,1950.0,1960.0,1949.0,2011.0,1960.0,2006.0,2010.0,2011.0,1950.0,1970.0,2008.0,2012.0,2005.0,1970.0,1980.0,1960.0,1970.0,1950.0,2005.0,1995.0,1950.0,2007.0,1996.0,1960.0,2012.0,1997.0,1950.0,1950.0,1950.0,2013.0,2005.0,1940.0,1965.0,1905.0,1950.0,1950.0,1910.0,1950.0,2010.0,2008.0,1950.0,2000.0,1940.0,1930.0,1890.0,1927.0,1980.0,1926.0,1945.0,1890.0,1970.0,1920.0,1924.0,1930.0,2000.0,1950.0,2011.0,2006.0,1950.0,1990.0,2010.0,2002.0,1955.0,2008.0,1970.0,1990.0,1960.0,2013.0,1960.0,1980.0,2000.0,2005.0,1970.0,1920.0,1960.0,1970.0,1900.0,1930.0,1975.0,1905.0,1940.0,1997.0,1970.0,1960.0,1920.0,1993.0,2005.0,1970.0,1910.0,2000.0,2013.0,2000.0,1980.0,1925.0,2012.0,2000.0,1935.0,1910.0,1920.0,1953.0,1991.0,1950.0,1938.0,1990.0,1965.0,1920.0,1920.0,2000.0,1935.0,1950.0,1910.0,1890.0,1920.0,1925.0,1990.0,2005.0,1910.0,2009.0,1995.0,2000.0,1975.0,1980.0,2012.0,1942.0,1970.0,1993.0,1930.0,1990.0,1960.0,1940.0,1930.0,2008.0,1950.0,1940.0,1973.0,1935.0,1930.0,2000.0,1950.0,1945.0,1935.0,1920.0,1960.0,1925.0,2012.0,1972.0,1948.0,1950.0,1969.0,1990.0,1960.0,1926.0,1960.0,1970.0,1948.0,1920.0,1940.0,2016.0,1980.0,1930.0,1950.0,1970.0,1915.0,2000.0,2000.0,1970.0,2012.0,2018.0,1950.0,1960.0,2000.0,1970.0,1960.0,1930.0,1950.0,1980.0,1930.0,1930.0,1990.0,1905.0,1910.0,1890.0,1940.0,2000.0,1970.0,2016.0,1970.0,1910.0,1890.0,2009.0,1975.0,1970.0,2011.0,1900.0,1910.0,1930.0,2016.0,2013.0,1910.0,2000.0,1890.0,2007.0,1970.0,1935.0,1900.0,2002.0,2005.0,1900.0,1910.0,1970.0,1900.0,1940.0,1920.0,1900.0,1910.0,1890.0,2000.0,1910.0,1920.0,1930.0,2010.0,1960.0,1920.0,1970.0,1920.0,1930.0,1945.0,1973.0,1890.0,1910.0,1960.0,1940.0,1890.0,1900.0,1890.0,1910.0,1915.0,2000.0,2004.0,1950.0,1920.0,2007.0,2011.0,1970.0,1890.0,1920.0,2000.0,1958.0,1925.0,2012.0,1920.0,1943.0,1910.0,1916.0,1900.0,2010.0,2002.0,1965.0,1880.0,1890.0,1890.0,1910.0,1910.0,1930.0,1960.0,1920.0,1970.0,2000.0,1930.0,1997.0,1970.0,1960.0,1950.0,1935.0,1960.0,2013.0,2010.0,1900.0,1930.0,1982.0,1970.0,1935.0,1970.0,1910.0,1970.0,1970.0,1960.0,1970.0,1970.0,1920.0,1960.0,1950.0,1970.0,1930.0,1930.0,1970.0,2004.0,1935.0,1970.0,1920.0,1900.0,1970.0,1950.0,1999.0,1910.0,1977.0,1960.0,1930.0,1925.0,2000.0,1960.0,1957.0,1980.0,1960.0,2013.0,1950.0,1970.0,1975.0,1965.0,1960.0,1985.0,1960.0,1996.0,1965.0,1970.0,1985.0,1975.0,1975.0,1965.0,1940.0,1960.0,2000.0,1970.0,1950.0,1950.0,1996.0,1960.0,1950.0,2002.0,1975.0,2013.0,2005.0,1965.0,1950.0,1950.0,1998.0,2014.0,1995.0,1950.0,2005.0,2013.0,2005.0,1970.0,1950.0,2001.0,1890.0,1970.0,1940.0,1998.0,1960.0,1960.0,1970.0,1950.0,2011.0,1897.0,1930.0,1960.0,1925.0,1938.0,1930.0,1965.0,1960.0,1960.0,1920.0,1930.0,2009.0,1930.0,1920.0,1970.0,1994.0,1960.0,1960.0,1930.0,1920.0,1960.0,1940.0,1990.0,2016.0,1960.0,1920.0,1970.0,1890.0,2009.0,1980.0,1960.0,1912.0,1980.0,2010.0,2005.0,1935.0,1920.0,1960.0,1910.0,1910.0,1890.0,1890.0,1945.0,1998.0,2005.0,1927.0,1965.0,1910.0,1997.0,1910.0,2013.0,2008.0,1995.0,2012.0,1890.0,1910.0,1920.0,2009.0,2015.0,1900.0,1890.0,1970.0,1900.0,1970.0,1940.0,1975.0,1989.0,2009.0,1970.0,1960.0,1970.0,1970.0,1990.0,1973.0,1925.0,1990.0,2009.0,1960.0,1970.0,1930.0,1970.0,1923.0,1990.0,1925.0,1983.0,1960.0,2009.0,1970.0,1930.0,2000.0,1993.0,1970.0,2005.0,2002.0,1938.0,1994.0,1968.0,2011.0,1970.0,2005.0,1970.0,1930.0,1970.0,1975.0,2010.0,1980.0,1945.0,1915.0,1925.0,1970.0,1915.0,1998.0,1950.0,1970.0,1970.0,1970.0,1978.0,1973.0,2000.0,1965.0,1980.0,2008.0,1925.0,1960.0,1960.0,1960.0,1920.0,1955.0,2012.0,2014.0,2012.0,1970.0,1910.0,2014.0,1960.0,2011.0,1915.0,1935.0,1960.0,1960.0,1930.0,1995.0,1940.0,1925.0,2008.0,1970.0,1930.0,2016.0,1940.0,1920.0,1890.0,1926.0,1970.0,1910.0,2014.0,2006.0,2010.0,2016.0,1950.0,2000.0,2012.0,1970.0,1950.0,2001.0,1960.0,2012.0,2014.0,1880.0,1900.0,2000.0,1890.0,1910.0,1910.0,1903.0,1900.0,1890.0,1970.0,1890.0,1890.0,2005.0,2010.0,1995.0,1880.0,1930.0,1890.0,1950.0,2010.0,2005.0,1940.0,1890.0,1920.0,1910.0,1915.0,1890.0,1900.0,1920.0,1970.0,1980.0,2014.0,1930.0,1930.0,1910.0,2001.0,1940.0,1925.0,1965.0,2012.0,1995.0,1920.0,1994.0,1910.0,1970.0,2006.0,1925.0,1880.0,1930.0,2013.0,1920.0,2014.0,1970.0,1930.0,1920.0,1975.0,2007.0,2006.0,1980.0,1920.0,1920.0,1900.0,1900.0,1940.0,1930.0,1970.0,1920.0,1985.0,1950.0,2000.0,1945.0,1925.0,1976.0,1930.0,1970.0,1975.0,1940.0,1969.0,1995.0,1996.0,1930.0,1925.0,2010.0,1960.0,1990.0,1920.0,1976.0,1910.0,1900.0,1970.0,1950.0,2012.0,2010.0,2010.0,1950.0,1950.0,2008.0,1950.0,1925.0,2014.0,1940.0,2016.0,1960.0,1960.0,1950.0,1950.0,1950.0,2013.0,1970.0,2014.0,1930.0,1950.0,1970.0,1960.0,1900.0,1900.0,1830.0,2000.0,1880.0,2000.0,2005.0,2005.0,2013.0,1920.0,1890.0,1970.0,1995.0,1920.0,1880.0,1970.0,1900.0,1900.0,1880.0,2000.0,2010.0,1920.0,2002.0,1900.0,1890.0,1920.0,1970.0,1970.0,1975.0,1970.0,2007.0,2007.0,1960.0,1995.0,2001.0,1960.0,1985.0,1965.0,1985.0,2016.0,1970.0,1986.0,1975.0,1970.0,2013.0,1960.0,1960.0,2013.0,1965.0,1960.0,1998.0,1970.0,1969.0,1970.0,1970.0,1980.0,2007.0,1965.0,1975.0,2012.0,1970.0,2002.0,2010.0,2001.0,2009.0,2001.0,1960.0,1965.0,1960.0,1970.0,1925.0,1940.0,1955.0,1970.0,1950.0,1930.0,1937.0,1970.0,1960.0,1988.0,1970.0,1975.0,1940.0,1960.0,1940.0,1920.0,1910.0,1905.0,1910.0,1990.0,2008.0,1970.0,2010.0,1900.0,2011.0,2002.0,1880.0,2000.0,1905.0,1908.0,1966.0,1930.0,1913.0,2000.0,1900.0,1915.0,1930.0,1970.0,2000.0,1917.0,2006.0,1885.0,1915.0,2016.0,1890.0,1930.0,1970.0,1960.0,1930.0,2001.0,1930.0,1996.0,1960.0,1940.0,1960.0,1965.0,1890.0,1930.0,1920.0,1970.0,1970.0,1950.0,1970.0,1996.0,1950.0,1910.0,1960.0,2002.0,1915.0,1930.0,1940.0,1970.0,1950.0,1923.0,1920.0,1965.0,1930.0,1970.0,1930.0,1960.0,1960.0,1960.0,1935.0,1940.0,2012.0,1975.0,1970.0,1930.0,1970.0,1940.0,2005.0,1970.0,1900.0,1930.0,1940.0,1930.0,2010.0,1925.0,1950.0,1980.0,1980.0,1930.0,1990.0,2008.0,1980.0,1980.0,2008.0,1950.0,1920.0,1890.0,1910.0,2015.0,1950.0,1975.0,1900.0,2005.0,2015.0,1930.0,1955.0,1940.0,1950.0,2008.0,2007.0,1972.0,1930.0,1985.0,1960.0,2013.0,1975.0,1999.0,1900.0,2010.0,1988.0,1960.0,1920.0,1950.0,1920.0,1950.0,1970.0,1960.0,2010.0,1990.0,1975.0,2016.0,1997.0,1970.0,2013.0,1930.0,1900.0,1970.0,1920.0,1940.0,1970.0,1988.0,1995.0,1920.0,1938.0,1900.0,1970.0,1994.0,1970.0,1970.0,1975.0,1970.0,1930.0,1930.0,1960.0,1915.0,1996.0,1910.0,1950.0,1960.0,1975.0,1960.0,1930.0,1960.0,2002.0,2009.0,1910.0,2000.0,1950.0,1890.0,1970.0,2013.0,1990.0,1970.0,1970.0,2007.0,1970.0,1930.0,2015.0,2008.0,1950.0,2014.0,1910.0,1970.0,2002.0,1910.0,2004.0,1965.0,1980.0,1890.0,2000.0,1854.0,1890.0,1890.0,2011.0,1880.0,2000.0,1890.0,1900.0,1975.0,1900.0,1995.0,2002.0,2007.0,1890.0,2010.0,1880.0,1910.0,1950.0,1975.0,1905.0,1890.0,2000.0,1900.0,1915.0,2000.0,1890.0,1890.0,1900.0,1885.0,1890.0,1890.0,2002.0,2010.0,2008.0,2016.0,1940.0,1890.0,1890.0,1890.0,1898.0,1910.0,1980.0,1980.0,1905.0,1970.0,1970.0,1970.0,1900.0,1885.0,1900.0,1890.0,1930.0,1930.0,1970.0,2009.0,1970.0,1900.0,1880.0,1940.0,1970.0,1915.0,1900.0,1900.0,1890.0,2007.0,1970.0,1990.0,1970.0,2000.0,2000.0,2013.0,2010.0,1940.0,1970.0,1910.0,1950.0,2010.0,1985.0,1890.0,1980.0,1950.0,2008.0,1940.0,1910.0,2010.0,1910.0,1900.0,1960.0,2012.0,2014.0,1900.0,1920.0,1940.0,1920.0,2013.0,1965.0,1980.0,2007.0,1910.0,1900.0,1900.0,1915.0,2015.0,1920.0,1970.0,1900.0,1975.0,2000.0,1930.0,1970.0,1910.0,2006.0,1960.0,1920.0,2010.0,1915.0,1930.0,2009.0,1910.0,2011.0,1910.0,1890.0,2000.0,1935.0,1920.0,1925.0,1930.0,2002.0,1960.0,2006.0,1940.0,1985.0,1940.0,2003.0,1930.0,2000.0,1941.0,1968.0,1940.0,1920.0,1951.0,1910.0,1935.0,1970.0,2009.0,1930.0,1930.0,1980.0,1930.0,1982.0,1925.0,1920.0,1970.0,1920.0,1960.0,1946.0,1990.0,1930.0,1960.0,1950.0,2013.0,1910.0,1999.0,2000.0,1950.0,1930.0,2009.0,1930.0,1960.0,1930.0,1930.0,1930.0,1940.0,1935.0,2007.0,1930.0,1941.0,1960.0,1940.0,2015.0,1930.0,1966.0,1925.0,1975.0,1910.0,1930.0,1960.0,1960.0,1965.0,2017.0,1950.0,1950.0,2010.0,2010.0,1950.0,1950.0,2014.0,1960.0,1956.0,1950.0,1950.0,1950.0,1970.0,1970.0,1960.0,1970.0,2000.0,1960.0,1960.0,2000.0,1950.0,1960.0,2014.0,2014.0,1970.0,2014.0,1960.0,2012.0,1960.0,1960.0,1968.0,2010.0,1968.0,2014.0,1960.0,1975.0,1960.0,2012.0,1955.0,1935.0,1950.0,1950.0,2013.0,2001.0,2010.0,1950.0,2000.0,1970.0,2005.0,2001.0,2005.0,2004.0,2000.0,2005.0,2007.0,2004.0,2008.0,2005.0,2000.0,2007.0,1960.0,1970.0,1950.0,1970.0,2010.0,1950.0,2010.0,1950.0,1970.0,1970.0,1960.0,2011.0,1960.0,1970.0,2000.0,1960.0,1950.0,1960.0,2012.0,1965.0,1960.0,1970.0,1960.0,2012.0,1990.0,1975.0,1975.0,2015.0,1904.0,1925.0,2011.0,1998.0,1965.0,1955.0,1985.0,2005.0,1955.0,1984.0,1920.0,2014.0,1925.0,1950.0,1900.0,2008.0,1970.0,1960.0,1970.0,1901.0,1970.0,1950.0,1950.0,1950.0,2011.0,2000.0,1987.0,1997.0,2007.0,1970.0,1950.0,1950.0,1935.0,1940.0,1925.0,1925.0,1960.0,1950.0,1970.0,1994.0,2005.0,2007.0,1950.0,2002.0,2005.0,1905.0,1950.0,1969.0,2014.0,1995.0,1930.0,1940.0,1960.0,1970.0,1890.0,2014.0,1966.0,2003.0,1938.0,1900.0,1970.0,1999.0,1910.0,1960.0,2004.0,1910.0,1960.0,1900.0,1940.0,1890.0,1950.0,2002.0,1890.0,1965.0,2013.0,1890.0,1930.0,1970.0,1910.0,2014.0,2011.0,1940.0,2010.0,1965.0,1913.0,1970.0,1900.0,1970.0,2005.0,1940.0,1900.0,1965.0,1890.0,1960.0,1890.0,2001.0,1975.0,1890.0,1960.0,1970.0,1920.0,1890.0,2014.0,2000.0,1930.0,2007.0,1950.0,1950.0,2005.0,2012.0,1950.0,1960.0,1960.0,1950.0,1950.0,1972.0,1955.0,2008.0,1960.0,1960.0,1975.0,2012.0,1950.0,1970.0,1960.0,1955.0,1950.0,1955.0,1950.0,1960.0,1965.0,1960.0,2013.0,1955.0,1960.0,1950.0,1950.0,1970.0,1955.0,1955.0,1980.0,1990.0,1965.0,1960.0,1950.0,1960.0,1960.0,1950.0,1970.0,1920.0,1949.0,2002.0,1930.0,1970.0,1925.0,1925.0,1940.0,2010.0,1930.0,1960.0,1975.0,1940.0,1950.0,1975.0,1950.0,1925.0,2016.0,1920.0,2005.0,1965.0,1950.0,1945.0,1955.0,1960.0,1980.0,1960.0,1975.0,1920.0,1960.0,1950.0,1950.0,1930.0,2007.0,2000.0,1920.0,1960.0,1950.0,1950.0,2010.0,1980.0,1935.0,1930.0,1940.0,1992.0,1980.0,1990.0,2007.0,2012.0,2000.0,1975.0,1980.0,1980.0,2000.0,1985.0,1980.0,1995.0,1970.0,2010.0,2011.0,1999.0,1978.0,1965.0,1980.0,2013.0,1960.0,1970.0,2003.0,1980.0,2013.0,1950.0,1992.0,1980.0,2011.0,1970.0,2000.0,1980.0,1990.0,1995.0,1998.0,1965.0,1970.0,1990.0,1970.0,1970.0,1995.0,1970.0,2017.0,2000.0,1970.0,1960.0,1980.0,1970.0,2013.0,1980.0,1970.0,2000.0,1910.0,1910.0,2008.0,1970.0,2002.0,1900.0,1900.0,2002.0,1999.0,1900.0,1900.0,1992.0,1910.0,1890.0,1900.0,2012.0,2010.0,1965.0,2010.0,2012.0,2008.0,1998.0,1915.0,1887.0,1890.0,1997.0,2002.0,1900.0,1997.0,1890.0,2003.0,2009.0,1915.0,2010.0,2002.0,1900.0,2000.0,1970.0,2012.0,2000.0,2006.0,1968.0,1950.0,1935.0,1890.0,2000.0,1930.0,2015.0,2016.0,1885.0,1920.0,1900.0,1970.0,1930.0,1890.0,1970.0,1910.0,1970.0,1966.0,1975.0,1940.0,1975.0,1983.0,1955.0,1965.0,1940.0,1940.0,1997.0,1928.0,1890.0,1930.0,1890.0,2016.0,1995.0,1998.0,1960.0,1992.0,1910.0,1890.0,1890.0,1968.0,1980.0,1992.0,1980.0,1910.0,1941.0,2010.0,1935.0,1900.0,1990.0,1959.0,1979.0,1970.0,1992.0,1900.0,1999.0,1910.0,2005.0,1890.0,1940.0,1960.0,1940.0,1933.0,1960.0,1930.0,1930.0,1950.0,1968.0,1930.0,2012.0,2007.0,1970.0,2012.0,1960.0,1920.0,2012.0,1960.0,2005.0,1955.0,1900.0,2009.0,1950.0,1900.0,1910.0,2007.0,2011.0,2012.0,2012.0,2009.0,2014.0,1960.0,1950.0,1940.0,2012.0,1970.0,1890.0,2016.0,1890.0,1910.0,2008.0,2016.0,1995.0,1910.0,1970.0,1910.0,1970.0,1920.0,1985.0,1890.0,1900.0,1925.0,1890.0,1915.0,1967.0,2006.0,1910.0,2001.0,1971.0,1910.0,1993.0,1915.0,1910.0,1930.0,1915.0,1920.0,1970.0,1950.0,1920.0,1994.0,2000.0,1919.0,1975.0,1950.0,1930.0,1930.0,1960.0,1910.0,1920.0,1988.0,1990.0,1990.0,1886.0,1975.0,1930.0,1930.0,1920.0,2013.0,1970.0,1998.0,2013.0,1960.0,1965.0,2012.0,1970.0,1940.0,1948.0,2013.0,1960.0,1965.0,1997.0,1920.0,2010.0,1925.0,1999.0,1950.0,2015.0,1970.0,2004.0,2004.0,2000.0,1940.0,1985.0,1950.0,2000.0,2006.0,2000.0,1920.0,1900.0,2002.0,2002.0,2007.0,1955.0,2010.0,2010.0,2009.0,2013.0,1980.0,2005.0,2012.0,1980.0,2011.0,2000.0,2000.0,1999.0,2000.0,1950.0,1960.0,2005.0,1970.0,2000.0,1950.0,1950.0,2012.0,2006.0,1940.0,1925.0,2009.0,2005.0,2006.0,1997.0,2001.0,2014.0,1974.0,2004.0,1976.0,2006.0,2002.0,1960.0,2005.0,1998.0,2014.0,1965.0,1917.0,2004.0,1920.0,2005.0,1920.0,1965.0,1997.0,2009.0,1900.0,1900.0,1930.0,1970.0,1900.0,1910.0,1910.0,2010.0,1880.0,1915.0,1900.0,1950.0,2003.0,1920.0,1979.0,1930.0,2001.0,1938.0,1950.0,2005.0,1903.0,2000.0,1950.0,2005.0,2000.0,2009.0,2007.0,1920.0,1880.0,1920.0,1920.0,1900.0,2014.0,1930.0,1915.0,1906.0,1997.0,1950.0,1900.0,2001.0,1990.0,1910.0,1900.0,1910.0,1920.0,1890.0,1965.0,1920.0,1900.0,2007.0,2006.0,2014.0,1930.0,1910.0,1910.0,1925.0,2009.0,1890.0,1920.0,1910.0,1970.0,2004.0,1995.0,1910.0,1970.0,1930.0,1900.0,1930.0,1970.0,2000.0,2002.0,2000.0,1950.0,1965.0,1910.0,1915.0,1970.0,1930.0,2014.0,2013.0,1910.0,1980.0,1970.0,1960.0,1970.0,1990.0,1960.0,1970.0,1950.0,1950.0,2015.0,2010.0,1960.0,1955.0,1960.0,1960.0,1950.0,2000.0,1955.0,1973.0,1940.0,1955.0,1960.0,1980.0,1960.0,1950.0,1990.0,2001.0,1960.0,1960.0,1950.0,2002.0,1950.0,2011.0,1970.0,2015.0,1957.0,2010.0,2011.0,1940.0,1955.0,1930.0,2009.0,2011.0,1920.0,1950.0,2005.0,1960.0,2006.0,1960.0,1920.0,1970.0,1900.0,2011.0,1970.0,2015.0,1900.0,1930.0,1890.0,2006.0,1915.0,2007.0,2006.0,1950.0,1930.0,2004.0,1880.0,1960.0,1950.0,1920.0,2015.0,1900.0,1890.0,1920.0,1930.0,2000.0,1995.0,2005.0,1900.0,1900.0,2009.0,1920.0,2006.0,1930.0,2017.0,1900.0,1930.0,1920.0,2013.0,2013.0,1960.0,2009.0,1975.0,2006.0,2011.0,1985.0,2012.0,1950.0,1950.0,1950.0,1990.0,2005.0,1976.0,1950.0,1950.0,1950.0,1880.0,1970.0,1970.0,1980.0,2010.0,2000.0,1960.0,2011.0,1975.0,2006.0,2006.0,1998.0,2011.0,2003.0,1970.0,1890.0,2008.0,2000.0,2012.0,1930.0,1900.0,1960.0,2004.0,2002.0,1975.0,2012.0,1971.0,1970.0,1975.0,1920.0,2005.0,1880.0,1970.0,1890.0,1920.0,2007.0,1910.0,1890.0,1992.0,2011.0,2013.0,1900.0,1945.0,1920.0,1924.0,1910.0,1935.0,1970.0,2000.0,2000.0,1970.0,1920.0,2006.0,1890.0,1960.0,1910.0,1920.0,1910.0,1910.0,2000.0,1910.0,1985.0,1920.0,1995.0,2012.0,1920.0,2000.0,2000.0,1975.0,1960.0,1920.0,1900.0,1970.0,1910.0,1890.0,2009.0,1920.0,1910.0,1910.0,1900.0,1975.0,1930.0,1925.0,1930.0,1920.0,2014.0,1890.0,1910.0,1939.0,1910.0,1970.0,1910.0,1920.0,1920.0,1995.0,1970.0,1900.0,1955.0,1995.0,1960.0,1965.0,2012.0,1960.0,2012.0,1950.0,2010.0,2009.0,1940.0,1960.0,2013.0,1960.0,2009.0,1960.0,1974.0,1995.0,1999.0,2010.0,1960.0,1987.0,1960.0,1970.0,1970.0,1970.0,1950.0,1940.0,1950.0,1962.0,1970.0,1993.0,1980.0,1965.0,2009.0,1890.0,1875.0,1890.0,1890.0,1995.0,1890.0,1980.0,1950.0,1960.0,1960.0,1950.0,2008.0,1950.0,1997.0,1960.0,2009.0,1988.0,1990.0,1974.0,1987.0,1990.0,2005.0,2006.0,2004.0,1960.0,1960.0,1950.0,1950.0,1950.0,2009.0,1950.0,2012.0,1975.0,2001.0,1940.0,1940.0,2000.0,1955.0,1970.0,1920.0,1940.0,2013.0,1999.0,1983.0,2006.0,1995.0,1950.0,2012.0,1995.0,2007.0,2014.0,1955.0,1970.0,1950.0,2007.0,1949.0,2001.0,1960.0,1950.0,1998.0,1950.0,2000.0,1950.0,1970.0,1960.0,1940.0,2013.0,1950.0,1990.0,1890.0,2012.0,1863.0,1940.0,2012.0,1935.0,1997.0,1890.0,1880.0,2010.0,2005.0,1900.0,2006.0,2013.0,2012.0,2006.0,2015.0,2007.0,1900.0,2000.0,1900.0,1900.0,1910.0,2007.0,1910.0,1980.0,1910.0,1900.0,2004.0,1910.0,1900.0,1890.0,1880.0,1900.0,1999.0,1910.0,1905.0,2006.0,2007.0,2005.0,2000.0,1996.0,2006.0,1934.0,2016.0,2010.0,1995.0,2014.0,2012.0,1990.0,2000.0,2000.0,1997.0,1890.0,1910.0,1960.0,2000.0,1930.0,2012.0,1888.0,1945.0,1920.0,1996.0,1900.0,1970.0,2000.0,1900.0,1900.0,1970.0,1960.0,2005.0,1930.0,1900.0,2001.0,1888.0,1930.0,1850.0,2004.0,2000.0,1880.0,1930.0,1995.0,1945.0,1890.0,1900.0,1999.0,1995.0,1915.0,1995.0,1900.0,1910.0,1890.0,1900.0,1900.0,1900.0,1980.0,1920.0,1950.0,2009.0,1950.0,1918.0,1990.0,1940.0,2005.0,1910.0,1950.0,1950.0,1950.0,2005.0,1890.0,1950.0,1955.0,1950.0,1965.0,1960.0,1910.0,1965.0,1970.0,1965.0,1910.0,1935.0,1930.0,1950.0,1925.0,1925.0,2013.0,1980.0,1950.0,1950.0,2005.0,2013.0,1930.0,1940.0,1950.0,1940.0,1928.0,1950.0,2005.0,1950.0,2010.0,2005.0,1940.0,1950.0,1925.0,1925.0,1940.0,1940.0,1920.0,1920.0,1950.0,2005.0,1890.0,1960.0,1970.0,1920.0,1970.0,1950.0,1950.0,1950.0,2005.0,1950.0,1990.0,2012.0,1950.0,2012.0,1950.0,1970.0,1955.0,1950.0,2014.0,1930.0,1930.0,2014.0,1975.0,1965.0,1950.0,1960.0,2009.0,2011.0,2000.0,2003.0,1980.0,2006.0,1950.0,1935.0,2004.0,1920.0,1960.0,1980.0,2008.0,2016.0,1980.0,1960.0,2000.0,1970.0,1950.0,1950.0,1965.0,1970.0,1960.0,1970.0,2016.0,2003.0,1970.0,2010.0,2009.0,1965.0,2013.0,1960.0,1970.0,2012.0,1960.0,1970.0,2010.0,1960.0,1970.0,1980.0,1970.0,1960.0,1965.0,2007.0,2013.0,1980.0,1960.0,1955.0,1970.0,1960.0,1960.0,2017.0,1920.0,1965.0,1970.0,1970.0,1980.0,1960.0,1980.0,1985.0,1970.0,1920.0,1970.0,1960.0,2010.0,1950.0,2002.0,1950.0,2013.0,1940.0,2014.0,2012.0,2010.0,2007.0,1970.0,1970.0,1975.0,2014.0,1950.0,1965.0,1970.0,2003.0,1985.0,1965.0,1940.0,1950.0,2006.0,2012.0,1960.0,1960.0,1935.0,1970.0,1940.0,1950.0,1975.0,1990.0,1970.0,1960.0,2012.0,1950.0,1900.0,1997.0,2001.0,1950.0,2012.0,1890.0,1970.0,2005.0,2013.0,2003.0,1900.0,1900.0,2000.0,2007.0,1920.0,1940.0,2005.0,2012.0,1900.0,1900.0,2013.0,2012.0,1900.0,1900.0,1890.0,2004.0,2011.0,1997.0,1970.0,1970.0,2013.0,1970.0,2004.0,1900.0,2010.0,1900.0,1900.0,1900.0,1915.0,2000.0,1900.0,2004.0,1993.0,1965.0,2004.0,1920.0,1900.0,1980.0,2005.0,2000.0,1890.0,2011.0,2012.0,2012.0,1995.0,2000.0,1920.0,2008.0,1915.0,2000.0,1920.0,2008.0,2009.0,1900.0,1935.0,1900.0,1900.0,1900.0,1900.0,1900.0,1900.0,2013.0,1890.0,1910.0,1993.0,2013.0,1960.0,1890.0,2000.0,2009.0,1970.0,1965.0,1900.0,1900.0,1920.0,1890.0,1900.0,1900.0,2005.0,1850.0,1940.0,1900.0,2005.0,1960.0,1900.0,2008.0,2008.0,2000.0,2000.0,2005.0,1900.0,1900.0,1910.0,1900.0,2004.0,2013.0,2010.0,1900.0,1900.0,1960.0,1940.0,2000.0,1950.0,1990.0,1940.0,1970.0,1950.0,2008.0,1970.0,1980.0,2015.0,1960.0,1950.0,1955.0,1960.0,1960.0,1980.0,2006.0,1950.0,1890.0,1890.0,2015.0,1970.0,2012.0,1900.0,2015.0,1910.0,1910.0,2011.0,1890.0,2000.0,1946.0,1910.0,1910.0,2000.0,1930.0,1900.0,1890.0,1912.0,1920.0,2012.0,1920.0,1975.0,1900.0,1890.0,1900.0,2012.0,1890.0,1890.0,1900.0,1900.0,1880.0,1856.0,1890.0,2004.0,2013.0,1890.0,1860.0,1900.0,1910.0,1890.0,1900.0,2001.0,1890.0,1890.0,2001.0,1900.0,1890.0,1998.0,2009.0,1877.0,2003.0,1890.0,2003.0,2014.0,1998.0,1970.0,2015.0,1930.0,2000.0,1960.0,1990.0,1970.0,1970.0,2003.0,1940.0,1960.0,1890.0,1960.0,1986.0,1980.0,1980.0,1880.0,1970.0,1910.0,1950.0,1970.0,2007.0,1970.0,1960.0,1890.0,1890.0,2013.0,1970.0,1880.0,1970.0,1960.0,1906.0,1970.0,1930.0,2016.0,1890.0,1920.0,1950.0,1900.0,1980.0,1970.0,1930.0,1960.0,1910.0,2002.0,2005.0,1970.0,1910.0,1890.0,1940.0,1965.0,1915.0,1894.0,1900.0,2003.0,1970.0,1990.0,1969.0,1993.0,1995.0,2003.0,2000.0,1995.0,2000.0,1995.0,2007.0,2000.0,2004.0,1994.0,2000.0,2013.0,2014.0,1994.0,2000.0,1991.0,1950.0,1950.0,1950.0,1910.0,1990.0,1890.0,2015.0,1920.0,2000.0,1940.0,1965.0,1950.0,1990.0,1960.0,1970.0,1930.0,1970.0,1970.0,2001.0,1915.0,1910.0,1920.0,1880.0,2002.0,1999.0,1967.0,1995.0,1998.0,2009.0,2002.0,1995.0,1950.0,1960.0,1884.0,2005.0,1979.0,2000.0,2001.0,2000.0,2002.0,1890.0,2003.0,1970.0,2000.0,1970.0,2000.0,1940.0,1930.0,2000.0,1966.0,2006.0,2012.0,1970.0,2006.0,2009.0,1900.0,1930.0,1940.0,1970.0,2013.0,1900.0,1930.0,1915.0,2013.0,1980.0,1920.0,1850.0,2009.0,1910.0,1880.0,2016.0,1970.0,2000.0,1930.0,1995.0,2008.0,1920.0,1995.0,1960.0,1950.0,1950.0,1950.0,1995.0,1930.0,1990.0,1970.0,2016.0,1950.0,1960.0,1990.0,2004.0,1950.0,1977.0,2012.0,1980.0,2001.0,2009.0,2000.0,1960.0,1940.0,1960.0,1943.0,1940.0,1960.0,1955.0,2002.0,2009.0,1950.0,1930.0,2000.0,1925.0,1958.0,1970.0,1965.0,1950.0,1925.0,1950.0,1956.0,2005.0,1925.0,1970.0,1960.0,1955.0,1930.0,1992.0,1965.0,2002.0,1985.0,1945.0,2008.0,1960.0,1978.0,1960.0,1970.0,1950.0,1990.0,1960.0,1960.0,1950.0,1955.0,1975.0,1975.0,1950.0,1970.0,1940.0,2011.0,1945.0,1999.0,1970.0,1975.0,2004.0,1966.0,1960.0,2011.0,1997.0,1950.0,1955.0,1970.0,1970.0,1960.0,1950.0,1967.0,1950.0,2009.0,1975.0,1999.0,1970.0,1990.0,1975.0,1960.0,1960.0,1971.0,1960.0,1970.0,1975.0,1970.0,1970.0,2012.0,1995.0,1978.0,1930.0,1970.0,2000.0,1920.0,1970.0,1930.0,1920.0,1920.0,2014.0,1950.0,1920.0,1968.0,1950.0,1930.0,1925.0,1970.0,1970.0,1900.0,2001.0,1970.0,1970.0,1910.0,1915.0,2005.0,1997.0,1975.0,1927.0,1970.0,1950.0,2013.0,1970.0,1969.0,1920.0,1985.0,1910.0,1930.0,1928.0,1930.0,1960.0,1978.0,1972.0,1980.0,1965.0,1960.0,1973.0,2013.0,1960.0,1970.0,1973.0,1980.0,1970.0,1980.0,1970.0,2006.0,1970.0,1980.0,1968.0,1960.0,1985.0,1975.0,1970.0,1970.0,1960.0,1965.0,2016.0,1970.0,1960.0,1960.0,2005.0,1975.0,1965.0,1975.0,1960.0,1910.0,1999.0,2009.0,1930.0,1950.0,1970.0,1970.0,1975.0,1900.0,1935.0,1958.0,1925.0,1975.0,1920.0,1930.0,2010.0,1920.0,2010.0,1920.0,1900.0,1980.0,1920.0,1950.0,1905.0,1970.0,1985.0,1920.0,1965.0,1920.0,1960.0,1970.0,2013.0,2007.0,1920.0,1960.0,1915.0,1910.0,1900.0,1930.0,1960.0,1965.0,1970.0,1930.0,1970.0,2001.0,1920.0,1943.0,2000.0,1923.0,1920.0,1935.0,1970.0,1970.0,1958.0,2000.0,1967.0,1980.0,2000.0,2010.0,2000.0,1980.0,1970.0,2000.0,2014.0,1960.0,1967.0,1925.0,1900.0,1963.0,2005.0,1960.0,1970.0,1980.0,1930.0,1950.0,1935.0,1990.0,1960.0,1970.0,1970.0,1960.0,1950.0,1980.0,1975.0,1975.0,1975.0,1978.0,1980.0,1960.0,1960.0,1977.0,1970.0,1970.0,1970.0,2015.0,1950.0,1960.0,2002.0,1960.0,1960.0,1950.0,2010.0,1960.0,1960.0,1960.0,1970.0,2000.0,1980.0,1970.0,1966.0,1940.0,2000.0,2000.0,1880.0,2006.0,1930.0,1998.0,2009.0,1940.0,1900.0,2008.0,1930.0,2002.0,1996.0,1950.0,1910.0,1980.0,2006.0,1890.0,1990.0,1990.0,1970.0,1968.0,1997.0,2005.0,1996.0,1980.0,1970.0,1900.0,2010.0,2003.0,1995.0,1980.0,1930.0,1900.0,2002.0,1970.0,2011.0,1900.0,1970.0,1980.0,1910.0,1980.0,2010.0,1910.0,1980.0,1880.0,2016.0,2005.0,1960.0,1970.0,1920.0,2012.0,1895.0,1940.0,1930.0,1970.0,2000.0,1900.0,1974.0,2005.0,1970.0,2000.0,1970.0,1928.0,2000.0,2007.0,1970.0,1985.0,1900.0,1890.0,1990.0,1975.0,1975.0,1970.0,1978.0,1997.0,1970.0,1991.0,1960.0,1994.0,1978.0,1940.0,1950.0,1910.0,2010.0,1960.0,1965.0,2004.0,1980.0,1890.0,2011.0,1910.0,1920.0,1910.0,2013.0,2013.0,1880.0,1960.0,1900.0,1960.0,1915.0,1890.0,2003.0,1968.0,1920.0,2004.0,1960.0,2016.0,2004.0,1950.0,1960.0,1940.0,2014.0,1970.0,1880.0,1900.0,1960.0,1900.0,1930.0,1950.0,1910.0,2000.0,1950.0,1910.0,2006.0,1940.0,1940.0,1920.0,2016.0,1940.0,1910.0,1890.0,1950.0,1950.0,1910.0,1970.0,1910.0,1930.0,2007.0,1900.0,1970.0,1970.0,2007.0,1990.0,1950.0,2000.0,1995.0,2005.0,2010.0,2010.0,1965.0,1980.0,1950.0,1925.0,2010.0,1996.0,2016.0,1990.0,1960.0,1955.0,1950.0,2012.0,1950.0,1950.0,1997.0,1975.0,1995.0,1920.0,1940.0,1890.0,1890.0,2007.0,2012.0,1890.0,1960.0,2007.0,1940.0,2014.0,1920.0,1998.0,1920.0,2000.0,2014.0,1900.0,1920.0,1940.0],\"xaxis\":\"x\",\"y\":[1035000.0,1465000.0,1600000.0,1876000.0,1636000.0,1097000.0,1350000.0,750000.0,1310000.0,1200000.0,1176500.0,890000.0,1330000.0,500000.0,1100000.0,1315000.0,1447500.0,1135000.0,1290000.0,470000.0,1180000.0,1195000.0,1012500.0,1030000.0,840000.0,730000.0,770000.0,603000.0,700000.0,600000.0,500000.0,725000.0,450000.0,515000.0,530000.0,895000.0,805000.0,752000.0,700000.0,830000.0,675000.0,1042000.0,773000.0,810000.0,715000.0,540000.0,825000.0,685000.0,900000.0,1275000.0,2850000.0,1850000.0,1436000.0,2300000.0,1800000.0,2120000.0,1800000.0,2615000.0,1370000.0,1322500.0,1562500.0,2000000.0,3010000.0,2800000.0,2100000.0,2000000.0,442500.0,4735000.0,2140000.0,980000.0,1740000.0,985000.0,2000000.0,1717500.0,2840000.0,525500.0,805000.0,1830000.0,2100000.0,865000.0,390000.0,512000.0,1900000.0,1950000.0,520000.0,1525000.0,720000.0,1120000.0,1780000.0,630000.0,660000.0,580000.0,1335000.0,510000.0,425000.0,391000.0,845000.0,730000.0,447000.0,678000.0,580000.0,840000.0,577000.0,857000.0,730000.0,535600.0,1085000.0,781000.0,421000.0,683000.0,720000.0,588000.0,710000.0,875000.0,675000.0,708000.0,693000.0,620000.0,728500.0,931000.0,815000.0,1200000.0,292000.0,599000.0,995000.0,1205000.0,1939000.0,1870000.0,1918000.0,2050000.0,735000.0,1435000.0,280000.0,592500.0,1210000.0,2801000.0,1800000.0,2200000.0,5525000.0,440000.0,1300000.0,704000.0,620000.0,1900000.0,710000.0,598000.0,1285000.0,520000.0,3625000.0,4200000.0,1101000.0,3512500.0,869000.0,567000.0,940000.0,467000.0,1380000.0,490000.0,1850000.0,971000.0,710000.0,2425000.0,750000.0,1053000.0,1377000.0,970000.0,751000.0,950000.0,685000.0,1230000.0,770000.0,890000.0,1440000.0,1000000.0,1435000.0,390000.0,1425000.0,1340000.0,955000.0,1100000.0,432000.0,1640000.0,1430000.0,610000.0,940000.0,890000.0,1180000.0,1480000.0,865000.0,442000.0,1037500.0,1050000.0,440000.0,1430000.0,1130000.0,1135000.0,950000.0,390000.0,1345000.0,1381500.0,940000.0,995000.0,786000.0,705000.0,760000.0,1000000.0,1305000.0,1215000.0,545000.0,1705000.0,2650000.0,1670000.0,2050000.0,1555000.0,1100000.0,1337000.0,2950000.0,1518000.0,1710000.0,1655000.0,1550000.0,1662000.0,1665000.0,3510000.0,900000.0,2752000.0,1500000.0,1800000.0,1830000.0,1415000.0,1440000.0,1250000.0,1600000.0,1860000.0,1790000.0,1950000.0,1650000.0,1200000.0,1075000.0,1500000.0,700000.0,761000.0,1365000.0,1100000.0,690000.0,1631000.0,1500000.0,1529500.0,600000.0,1240000.0,700000.0,1110000.0,1305000.0,855000.0,900500.0,1200000.0,830000.0,850000.0,750000.0,851000.0,1155000.0,680000.0,627500.0,950000.0,705000.0,1100000.0,892500.0,522500.0,680000.0,875000.0,762000.0,411000.0,805000.0,634000.0,1819000.0,410000.0,1015000.0,502500.0,520000.0,442000.0,1193000.0,416000.0,474000.0,981000.0,1690000.0,540000.0,2100000.0,1800000.0,1255000.0,1070000.0,2570000.0,2400000.0,806000.0,4000000.0,2250000.0,2800000.0,1850000.0,700000.0,500000.0,2125000.0,1800000.0,635000.0,526000.0,905000.0,1750000.0,760000.0,1367000.0,1400000.0,3270000.0,625000.0,2730000.0,460000.0,1053000.0,1472000.0,754000.0,2188000.0,755000.0,3290000.0,2410000.0,650000.0,2000000.0,1900000.0,3401000.0,1750000.0,3020000.0,2450000.0,730000.0,1500000.0,1700000.0,1315000.0,1500000.0,3230000.0,1905000.0,3300000.0,1900000.0,2251000.0,2205000.0,1265000.0,1750000.0,1450000.0,2614000.0,1825000.0,3250000.0,1150000.0,1572000.0,1750000.0,1850000.0,2130000.0,3690000.0,1740000.0,2575000.0,1388800.0,1800000.0,2910000.0,2200000.0,1700000.0,1230000.0,2600000.0,1950000.0,1750000.0,2000000.0,1480000.0,1818000.0,2525000.0,3360000.0,1903000.0,1720000.0,1675000.0,1680000.0,4000000.0,2205000.0,2100000.0,685000.0,1335000.0,1900000.0,1040000.0,1250000.0,1875000.0,1530000.0,1700000.0,1651000.0,1920000.0,1560000.0,1038000.0,1660000.0,1770000.0,691500.0,875000.0,1425000.0,851000.0,1222500.0,1317500.0,360000.0,1435000.0,1110000.0,2435000.0,1500000.0,1300000.0,1125000.0,1328000.0,1340000.0,1155000.0,1275000.0,855000.0,650000.0,1815000.0,2255000.0,855000.0,1860000.0,725000.0,1293000.0,1328000.0,1247000.0,1370000.0,1095000.0,725000.0,825000.0,1235000.0,1165000.0,1910000.0,820000.0,1430000.0,910000.0,2520000.0,1900000.0,670000.0,680000.0,1320000.0,1900000.0,1535000.0,1281000.0,1385000.0,2620000.0,825000.0,746000.0,1275000.0,1025000.0,495000.0,1220000.0,885000.0,830000.0,1210000.0,1160000.0,1215000.0,1200000.0,1050000.0,950000.0,380000.0,1338000.0,651000.0,1390000.0,1100000.0,1206000.0,486500.0,1415000.0,1185000.0,1060000.0,845000.0,860000.0,921000.0,742500.0,920000.0,702000.0,805000.0,1100000.0,1050000.0,722000.0,930000.0,921000.0,1035000.0,1352000.0,1005000.0,1600000.0,1200000.0,780000.0,1250000.0,1110000.0,1690000.0,791000.0,900000.0,970000.0,823000.0,1045000.0,655000.0,1550000.0,835000.0,1465000.0,910000.0,920000.0,935000.0,977000.0,1352000.0,1115000.0,1197000.0,485000.0,1365000.0,1698888.0,965000.0,870000.0,1161000.0,1266000.0,700000.0,1325000.0,770000.0,380000.0,1175000.0,1200000.0,1370000.0,1433500.0,860000.0,715000.0,710000.0,1550000.0,790000.0,1020000.0,886000.0,1015000.0,1255000.0,1320000.0,870000.0,1472500.0,640000.0,1620000.0,645000.0,1560000.0,1715000.0,1200000.0,1760000.0,948000.0,465000.0,975000.0,1325000.0,750000.0,1400000.0,1500000.0,1600000.0,1461400.0,775000.0,1670000.0,4000000.0,928000.0,636000.0,1170000.0,1670000.0,857000.0,822500.0,645000.0,502000.0,495000.0,868000.0,645000.0,652000.0,850000.0,575000.0,882000.0,730000.0,610000.0,696000.0,579000.0,765000.0,475000.0,550000.0,495000.0,565000.0,1635000.0,3695000.0,536000.0,3700000.0,1975000.0,1390000.0,2905000.0,1300000.0,1725000.0,2100000.0,800000.0,1761000.0,1302500.0,2750000.0,892500.0,2145000.0,3171000.0,620000.0,1475000.0,1650000.0,1562500.0,2050000.0,3320000.0,1100000.0,1650000.0,1570000.0,1785000.0,1875000.0,1266000.0,2730000.0,3295888.0,375000.0,756000.0,2100000.0,2375000.0,1385000.0,858000.0,2800000.0,3700000.0,2475000.0,2700000.0,3900000.0,610000.0,1532000.0,1037000.0,3050000.0,1630000.0,2640000.0,671000.0,2250000.0,2900000.0,2405000.0,1352500.0,3105000.0,1500000.0,1940000.0,1850000.0,930000.0,1310000.0,2504000.0,1445000.0,1825000.0,1700000.0,1400000.0,1500000.0,1400000.0,1600000.0,1780000.0,1200000.0,775000.0,1480000.0,1590000.0,2840000.0,1000000.0,1700000.0,3207000.0,880000.0,1920000.0,1301000.0,2550000.0,1915000.0,1650000.0,1530000.0,2050000.0,2550000.0,905000.0,1355000.0,1845000.0,2050000.0,1710000.0,1300000.0,2200000.0,2150000.0,681000.0,1310000.0,340000.0,692000.0,1367000.0,903000.0,2820000.0,1813000.0,1655000.0,1230000.0,1389000.0,2310000.0,1014000.0,1026000.0,1802500.0,1500000.0,2230000.0,410000.0,272500.0,680000.0,400000.0,950000.0,845500.0,605000.0,445000.0,659500.0,600000.0,1115000.0,1125000.0,855000.0,940000.0,750000.0,1056000.0,880000.0,1222500.0,955000.0,587000.0,1060000.0,890000.0,685000.0,976000.0,641000.0,770000.0,279500.0,1800000.0,1350000.0,1320000.0,825000.0,1261000.0,1045000.0,1044000.0,1050000.0,1691500.0,1075000.0,501000.0,1260000.0,1650000.0,601000.0,1015000.0,625000.0,1700000.0,435000.0,2500000.0,860000.0,491000.0,985000.0,1250000.0,641000.0,860000.0,705000.0,880000.0,754000.0,590000.0,575000.0,1510000.0,801000.0,820000.0,370000.0,1170000.0,1790000.0,640000.0,1875000.0,1053000.0,705000.0,1217000.0,1020000.0,1340000.0,1410000.0,1550000.0,740000.0,592500.0,370000.0,765000.0,772000.0,1210000.0,1755000.0,945000.0,755000.0,521500.0,1190000.0,471000.0,265000.0,955000.0,1350000.0,380000.0,300000.0,810000.0,793000.0,400000.0,400500.0,797500.0,1300000.0,1330000.0,1205000.0,380000.0,1095000.0,680000.0,711000.0,500000.0,385000.0,370000.0,320000.0,330000.0,1200000.0,537000.0,910000.0,285000.0,921500.0,1315000.0,370000.0,735000.0,1000000.0,252000.0,1700000.0,820000.0,370000.0,484000.0,815000.0,1150000.0,497000.0,440000.0,816000.0,970000.0,851000.0,1300000.0,1235000.0,1303000.0,880000.0,975000.0,990000.0,1225000.0,1490000.0,905000.0,1085000.0,787000.0,1075000.0,1302000.0,1050000.0,1000000.0,1300000.0,990000.0,1100000.0,903000.0,1590000.0,1890000.0,1022500.0,1755000.0,1300000.0,1160000.0,2000000.0,790000.0,1682000.0,625000.0,650000.0,1060000.0,1255000.0,633000.0,1350000.0,570000.0,745000.0,2150000.0,746000.0,1540000.0,1270000.0,900000.0,1250000.0,1410000.0,800000.0,702000.0,2650000.0,729000.0,2600000.0,1650000.0,615000.0,1987000.0,683000.0,1690000.0,430000.0,2600000.0,2325000.0,435000.0,2000000.0,1302000.0,1622000.0,502000.0,435000.0,591000.0,2608000.0,1780000.0,2250000.0,895000.0,1800000.0,900000.0,2700000.0,530000.0,2228000.0,1602500.0,2177000.0,3400000.0,2105000.0,1625000.0,3300000.0,667000.0,2015000.0,700000.0,3225000.0,3320000.0,2125000.0,2030000.0,2750000.0,2000000.0,2250000.0,2740000.0,2950000.0,1587500.0,830000.0,2375000.0,2900000.0,2200000.0,2620000.0,1305000.0,928000.0,2930000.0,2950000.0,722000.0,2350000.0,1640000.0,1680000.0,3550000.0,3400000.0,1850000.0,3145000.0,1425000.0,2950000.0,2175000.0,800000.0,2718000.0,2400000.0,2520000.0,2050000.0,1950000.0,437000.0,520000.0,570000.0,820000.0,795000.0,600000.0,1295000.0,510000.0,346000.0,860000.0,772000.0,1506000.0,675000.0,525000.0,290000.0,360000.0,967500.0,330000.0,1600000.0,1008000.0,1170000.0,1830000.0,250000.0,930000.0,465000.0,1550000.0,707000.0,804000.0,1501000.0,970000.0,817500.0,1450000.0,855000.0,675000.0,588000.0,455000.0,920000.0,656000.0,930000.0,415000.0,650000.0,1360000.0,350000.0,1430000.0,1490000.0,1125000.0,405000.0,1655000.0,808000.0,370000.0,1880000.0,585000.0,450000.0,860000.0,605000.0,1518000.0,632500.0,435000.0,468250.0,1716000.0,365000.0,722500.0,550000.0,131000.0,1750000.0,580000.0,2005000.0,420000.0,290000.0,1400000.0,450000.0,536000.0,550000.0,2170000.0,1577500.0,1460000.0,275500.0,1065000.0,1030000.0,1225000.0,1450000.0,1774500.0,525500.0,825000.0,1262000.0,1340000.0,1200000.0,1001000.0,1330000.0,1570000.0,1916000.0,890000.0,700000.0,865000.0,1042500.0,1002000.0,650000.0,965000.0,1301000.0,1415500.0,1260000.0,1000000.0,845000.0,881000.0,780000.0,1060000.0,930000.0,1075000.0,1105000.0,1209000.0,3010000.0,1435000.0,1290000.0,495000.0,1370000.0,1450000.0,885500.0,825000.0,1506000.0,1360000.0,850000.0,784000.0,680000.0,807000.0,675000.0,1202000.0,1370000.0,1000000.0,145000.0,860000.0,953000.0,735000.0,947000.0,500000.0,466000.0,740000.0,812000.0,766000.0,825000.0,1131000.0,1064000.0,1210000.0,434000.0,653000.0,640000.0,1130000.0,763000.0,903000.0,1000000.0,1742000.0,865000.0,485000.0,1278000.0,590000.0,1136000.0,635000.0,1400000.0,1260000.0,841000.0,537500.0,598000.0,1120000.0,870000.0,680000.0,825000.0,725000.0,1250000.0,1008000.0,990000.0,451000.0,635000.0,1020000.0,1025000.0,700000.0,1130000.0,1075000.0,600000.0,1150000.0,515000.0,472000.0,901000.0,605000.0,687000.0,975000.0,1370000.0,700000.0,810000.0,838000.0,1150000.0,931000.0,241000.0,981000.0,570000.0,500000.0,655000.0,631000.0,600000.0,715000.0,864000.0,700000.0,591000.0,860000.0,765000.0,625000.0,745000.0,1050000.0,935000.0,820000.0,780000.0,707000.0,637000.0,950000.0,860000.0,1172000.0,650000.0,792000.0,720000.0,970000.0,890000.0,1260000.0,855000.0,1125000.0,910000.0,452000.0,415000.0,372000.0,1326000.0,1230000.0,855000.0,457000.0,897500.0,1265000.0,1075000.0,366000.0,981000.0,683000.0,1000000.0,887500.0,713500.0,1500000.0,672000.0,800000.0,1645000.0,860000.0,1403000.0,1450000.0,1396000.0,1125000.0,700000.0,1152000.0,1868000.0,1050000.0,910000.0,1850000.0,1225000.0,1316000.0,1400000.0,2168000.0,1430000.0,772000.0,1468000.0,753000.0,746000.0,1485000.0,1190000.0,900000.0,1250000.0,1030000.0,985000.0,1300000.0,1462500.0,1250000.0,1460800.0,1152500.0,1650000.0,1391000.0,452000.0,1102200.0,1401000.0,1782000.0,1520000.0,878000.0,973500.0,751800.0,1100000.0,1202000.0,1362000.0,1810000.0,1901000.0,1650000.0,1816000.0,525000.0,2050000.0,1930000.0,2600000.0,600000.0,1601000.0,1100000.0,2550000.0,1190000.0,2012000.0,2309000.0,900000.0,1625000.0,1100000.0,1755000.0,1400000.0,1240000.0,591000.0,537000.0,800000.0,965000.0,1160000.0,820000.0,2600000.0,1071000.0,1800000.0,2345000.0,741000.0,626000.0,1650000.0,850000.0,1750000.0,1450000.0,2806000.0,782000.0,1007000.0,1450000.0,500000.0,2600000.0,895000.0,2050000.0,1605000.0,520000.0,507000.0,525000.0,750000.0,510000.0,300000.0,1395000.0,855000.0,790000.0,550000.0,357000.0,1210000.0,825000.0,1050000.0,632000.0,485000.0,575000.0,590000.0,1238000.0,510000.0,1875000.0,780000.0,878500.0,3572000.0,560000.0,765000.0,670000.0,1625000.0,1122000.0,2400000.0,655000.0,684000.0,500000.0,680000.0,600000.0,370000.0,390000.0,630000.0,640000.0,932000.0,645000.0,347000.0,875000.0,582500.0,570000.0,1875000.0,340000.0,2200000.0,687500.0,730000.0,526000.0,920000.0,1830000.0,1425000.0,660000.0,550000.0,1295000.0,595000.0,911000.0,900000.0,645000.0,702500.0,960000.0,1670000.0,1100000.0,1800000.0,1250000.0,1130000.0,370000.0,1467000.0,2800000.0,1160000.0,2620000.0,1226000.0,1402000.0,855000.0,1275000.0,1590000.0,606000.0,1385000.0,650000.0,460000.0,1000000.0,520000.0,720000.0,1635000.0,485000.0,1575000.0,280000.0,1467000.0,890000.0,870000.0,1134000.0,320500.0,1065000.0,1610000.0,930000.0,395000.0,1470000.0,750000.0,390000.0,1170000.0,1600000.0,1535000.0,435000.0,1460000.0,736000.0,450000.0,740000.0,691000.0,2355000.0,1625000.0,1150000.0,360000.0,645000.0,250000.0,872000.0,630000.0,440000.0,1811000.0,1500000.0,1290000.0,1100000.0,1270000.0,1445000.0,1113000.0,370000.0,396000.0,450000.0,1360000.0,340000.0,765000.0,712000.0,1250000.0,1350000.0,1220000.0,1160000.0,505000.0,602000.0,846000.0,400000.0,445000.0,1730000.0,510000.0,1350000.0,2000000.0,805000.0,1055000.0,548000.0,1500000.0,600000.0,545000.0,1375000.0,1252000.0,810000.0,947500.0,1460000.0,880000.0,3310000.0,1250000.0,1950000.0,465000.0,1620000.0,850000.0,1122000.0,1300000.0,420000.0,715000.0,800000.0,710000.0,630000.0,4011000.0,700000.0,860000.0,870000.0,1450000.0,358500.0,770000.0,1008000.0,1015000.0,1371000.0,1286000.0,1600000.0,1950000.0,3400000.0,1785000.0,1210000.0,1275000.0,1290000.0,750000.0,675000.0,1700000.0,1080000.0,1222500.0,937500.0,1300000.0,1300000.0,2150000.0,1581000.0,602000.0,650000.0,1450000.0,365000.0,425000.0,391000.0,1130000.0,1110000.0,918000.0,730000.0,855000.0,1012000.0,395000.0,556000.0,345000.0,1100000.0,395000.0,1115000.0,420500.0,1225000.0,1003000.0,840000.0,1362000.0,977000.0,216000.0,876000.0,227000.0,841000.0,605000.0,305000.0,480000.0,910000.0,291000.0,752000.0,1155000.0,853000.0,480000.0,775000.0,281000.0,1300000.0,714000.0,950000.0,760000.0,420000.0,932000.0,780000.0,295000.0,433000.0,410000.0,1170000.0,375000.0,747000.0,775000.0,571000.0,305000.0,860500.0,370000.0,711000.0,690500.0,747000.0,858000.0,699000.0,835000.0,661000.0,757500.0,282000.0,699000.0,850000.0,315000.0,740000.0,980000.0,316000.0,760000.0,735000.0,1225000.0,767500.0,395000.0,815000.0,757000.0,1450000.0,745000.0,716000.0,1735000.0,3400000.0,3730000.0,1800000.0,1998000.0,671000.0,1425000.0,1530000.0,1900000.0,1360000.0,2175000.0,2325000.0,2538000.0,2300000.0,550000.0,1600000.0,2115000.0,1700000.0,2077000.0,2850000.0,411000.0,2020000.0,2010000.0,2975000.0,452000.0,1820000.0,291000.0,2376000.0,1456000.0,345000.0,2000000.0,585000.0,1700000.0,1375000.0,920000.0,382000.0,1280000.0,2825000.0,2825000.0,1825000.0,3085000.0,1600000.0,2352500.0,3860000.0,2625000.0,1950000.0,2200000.0,1751000.0,1857000.0,720000.0,1500000.0,2725000.0,2800000.0,1665000.0,600000.0,1420000.0,2410000.0,2100000.0,2950000.0,3365000.0,1931000.0,1250000.0,2400000.0,610000.0,610000.0,806500.0,550000.0,822000.0,980000.0,430000.0,540000.0,737000.0,460000.0,545000.0,670000.0,702000.0,730000.0,711500.0,810000.0,250000.0,460000.0,793000.0,340000.0,447500.0,588000.0,420000.0,410000.0,525000.0,703000.0,608000.0,607000.0,765500.0,470000.0,580000.0,620250.0,710000.0,630000.0,600000.0,550000.0,600000.0,1217500.0,600000.0,570000.0,762700.0,465000.0,741250.0,1000000.0,630000.0,670000.0,417000.0,600000.0,440000.0,660000.0,270000.0,825000.0,638000.0,631000.0,532000.0,504000.0,468000.0,802500.0,709000.0,485000.0,540000.0,390000.0,800000.0,740000.0,605000.0,685500.0,610000.0,630000.0,870000.0,810000.0,487000.0,700000.0,600500.0,730000.0,800000.0,750000.0,740000.0,646000.0,545000.0,777000.0,722000.0,545000.0,510000.0,631500.0,550000.0,330000.0,715888.0,468000.0,515000.0,895000.0,587000.0,2800000.0,3250000.0,2140000.0,1600000.0,1003500.0,802000.0,1560000.0,760000.0,616000.0,1680000.0,1120000.0,3200000.0,1250000.0,2000000.0,1805000.0,2600000.0,3470000.0,1050000.0,810000.0,1460000.0,3075000.0,875500.0,2600000.0,1705000.0,1515000.0,2980000.0,2200000.0,1100000.0,3325000.0,450000.0,500000.0,1460000.0,1740000.0,1800000.0,2160000.0,2250000.0,2130000.0,400000.0,926000.0,1070000.0,801000.0,1150000.0,472000.0,1300000.0,1200000.0,1650000.0,2670000.0,348000.0,1189000.0,610000.0,492000.0,806000.0,2000000.0,753000.0,330000.0,1420000.0,495000.0,292000.0,580000.0,1300000.0,1300000.0,440000.0,1000000.0,1741000.0,655000.0,488000.0,2065000.0,350000.0,1712000.0,480000.0,3225000.0,400000.0,1650000.0,3950000.0,587500.0,560000.0,1936000.0,4250000.0,630000.0,1560000.0,840000.0,1780000.0,815000.0,1975000.0,657500.0,5050000.0,445000.0,1180000.0,470000.0,485000.0,1800000.0,1855000.0,665000.0,1551000.0,612500.0,2410000.0,715000.0,1055000.0,1976000.0,499000.0,495000.0,3750000.0,1400000.0,370000.0,627500.0,815000.0,565000.0,994000.0,785000.0,620000.0,706750.0,584000.0,909000.0,1086000.0,680000.0,650000.0,890000.0,650000.0,605000.0,770000.0,950000.0,856000.0,600000.0,915000.0,400000.0,550000.0,590000.0,920000.0,460000.0,1000500.0,631000.0,691000.0,560000.0,370000.0,532000.0,515500.0,800000.0,620000.0,360000.0,440500.0,758000.0,480000.0,715000.0,646250.0,1375000.0,722000.0,725000.0,465000.0,1550000.0,516000.0,1340000.0,1316000.0,828000.0,1055000.0,623000.0,2120000.0,1745000.0,1700000.0,420000.0,1337000.0,455000.0,400000.0,1210000.0,1167500.0,900000.0,677500.0,2265000.0,981000.0,2400000.0,890000.0,739000.0,785000.0,1155000.0,1020000.0,1465000.0,855000.0,413000.0,1220000.0,1605000.0,587000.0,1535000.0,1470000.0,1486000.0,1730000.0,1850000.0,2600000.0,500000.0,1102000.0,1275000.0,785000.0,1223500.0,1720000.0,1225000.0,1460000.0,421000.0,2090000.0,700000.0,2595000.0,710000.0,650000.0,515000.0,582000.0,545000.0,751000.0,500000.0,560000.0,703000.0,650000.0,770000.0,900000.0,700000.0,816000.0,845000.0,772000.0,650000.0,757000.0,690000.0,583000.0,880000.0,580000.0,886000.0,920000.0,976000.0,1420000.0,900000.0,560000.0,1010000.0,835000.0,705000.0,680000.0,785000.0,695000.0,502000.0,770000.0,570000.0,830000.0,600000.0,825000.0,735000.0,875000.0,601200.0,680000.0,705000.0,710000.0,732000.0,715000.0,852000.0,1037000.0,1470000.0,492500.0,420000.0,420000.0,1271000.0,1010000.0,750000.0,905000.0,960000.0,1031000.0,870000.0,1165000.0,1710000.0,1455000.0,365000.0,442000.0,765000.0,515000.0,370000.0,1234500.0,666000.0,825000.0,812000.0,1900000.0,445000.0,732000.0,1260000.0,1000000.0,1155000.0,790000.0,700000.0,1230000.0,460000.0,395000.0,850000.0,868000.0,773000.0,631090.0,410000.0,425000.0,610000.0,882000.0,3550000.0,1326000.0,1950000.0,2550000.0,1878000.0,1910000.0,1410000.0,2310000.0,2315000.0,800000.0,4850000.0,6500000.0,580000.0,1905000.0,478000.0,672000.0,2286000.0,1575000.0,590000.0,2350000.0,1312000.0,890000.0,1331000.0,1800000.0,1476000.0,2590000.0,2625000.0,2265000.0,1975000.0,2550000.0,1330000.0,1450000.0,3650000.0,551000.0,2460000.0,2850000.0,2425000.0,610000.0,955000.0,707500.0,732000.0,2875000.0,1500000.0,1750000.0,1100000.0,1440000.0,2560000.0,2600000.0,3280000.0,620000.0,2600000.0,2800000.0,1420000.0,1800000.0,395000.0,2250000.0,1950000.0,605000.0,1920000.0,1615000.0,2081000.0,1315000.0,1750000.0,2100000.0,1300000.0,1315000.0,1620000.0,615000.0,715000.0,826000.0,275000.0,711000.0,695000.0,490000.0,502000.0,721000.0,840000.0,335000.0,832000.0,646000.0,673000.0,695000.0,349000.0,555000.0,352500.0,1350000.0,510000.0,490000.0,675000.0,865000.0,600000.0,773000.0,2050000.0,3460000.0,2400000.0,2025000.0,611000.0,3800000.0,1390000.0,2415000.0,566000.0,1437000.0,500000.0,3400000.0,2355000.0,4240000.0,1326000.0,4525000.0,1965000.0,3470000.0,740000.0,2325000.0,1970000.0,1475000.0,584000.0,1490000.0,1210000.0,2355000.0,1036000.0,2273000.0,2350000.0,2200000.0,790000.0,1185000.0,1837000.0,1253000.0,922000.0,4802500.0,350000.0,1555000.0,2123000.0,1700000.0,1150000.0,2001000.0,1915000.0,1135000.0,1240000.0,1120000.0,1500000.0,707500.0,835000.0,1870000.0,1580000.0,820000.0,480000.0,1680000.0,300000.0,1100000.0,373000.0,2560000.0,960000.0,315000.0,1297000.0,1015000.0,523000.0,1335000.0,425000.0,1670000.0,1350000.0,1650000.0,950000.0,1782500.0,650000.0,975000.0,560000.0,355000.0,550000.0,420000.0,399000.0,1105000.0,730000.0,662500.0,410000.0,920000.0,1320000.0,1150000.0,847000.0,400000.0,1072000.0,510000.0,865000.0,570000.0,1900000.0,429000.0,456000.0,566000.0,408000.0,470000.0,780000.0,440000.0,1048700.0,400000.0,1215000.0,1180000.0,1117000.0,420000.0,770000.0,1151000.0,907000.0,570000.0,820000.0,940000.0,1030000.0,1230000.0,884500.0,820000.0,780000.0,535000.0,450000.0,360000.0,665000.0,386000.0,659000.0,545000.0,450000.0,432000.0,750000.0,375000.0,680000.0,470000.0,483000.0,700000.0,520000.0,440000.0,733000.0,760000.0,360000.0,2600000.0,2350000.0,535000.0,700000.0,3120000.0,1025000.0,1920000.0,2623000.0,1500000.0,1630000.0,1910000.0,1320000.0,750000.0,2588000.0,1400000.0,2200000.0,1310000.0,2335000.0,1815000.0,725000.0,3900000.0,1200000.0,1564000.0,520000.0,670000.0,1055000.0,348000.0,1780000.0,1440000.0,1225000.0,1445000.0,990000.0,1550000.0,1170000.0,1120000.0,1530000.0,832000.0,420000.0,2400000.0,565000.0,550000.0,1211000.0,1630000.0,1160000.0,1361500.0,945000.0,360000.0,860000.0,1637000.0,1505000.0,515000.0,330000.0,1322000.0,1015000.0,840000.0,1900000.0,2340000.0,1400000.0,1640000.0,1480000.0,410000.0,980000.0,842500.0,1345000.0,265000.0,849000.0,1425000.0,1345000.0,330000.0,726000.0,1250000.0,870000.0,1725000.0,600000.0,1505000.0,850000.0,292000.0,1740000.0,470000.0,1130000.0,930000.0,336000.0,800000.0,1224000.0,1000000.0,380500.0,1090000.0,836000.0,1417250.0,950000.0,1140000.0,750000.0,1000000.0,1200000.0,987000.0,937000.0,1426000.0,1016000.0,901000.0,1300000.0,975000.0,1070000.0,639000.0,605000.0,960000.0,725000.0,800000.0,917000.0,890000.0,1008000.0,1191000.0,776000.0,1035000.0,1160000.0,240000.0,1105000.0,826000.0,900000.0,962000.0,800000.0,710000.0,940000.0,655800.0,1082000.0,1210000.0,880000.0,335000.0,1260000.0,1400000.0,995000.0,962000.0,800000.0,1305000.0,485000.0,810000.0,1620000.0,923000.0,1030000.0,1046000.0,740000.0,970000.0,735000.0,485000.0,950000.0,1280000.0,1040000.0,1115000.0,1176000.0,1265000.0,801000.0,770000.0,993000.0,650000.0,891500.0,805000.0,680000.0,793000.0,747000.0,896000.0,890000.0,930000.0,1151000.0,820000.0,816000.0,945000.0,643700.0,760000.0,881000.0,900000.0,830000.0,1126000.0,1235000.0,457000.0,660000.0,770000.0,1350000.0,820000.0,991000.0,657000.0,710000.0,840000.0,1400000.0,1080000.0,1015000.0,1245000.0,1105000.0,2920000.0,540000.0,726000.0,1340000.0,1105000.0,841000.0,528500.0,410000.0,550000.0,470000.0,640000.0,720000.0,1325000.0,368000.0,450000.0,1385000.0,990000.0,606000.0,450000.0,1470000.0,1010000.0,1266000.0,620000.0,630000.0,560000.0,665500.0,550055.0,358000.0,320000.0,1000000.0,598000.0,885000.0,587134.0,1286000.0,1200000.0,1382500.0,1600000.0,1710000.0,2000000.0,583000.0,650000.0,1700000.0,1575000.0,950000.0,1655000.0,1255000.0,1020000.0,435000.0,790000.0,605000.0,385000.0,1190000.0,865000.0,2175000.0,312000.0,890000.0,2700000.0,1101000.0,1050000.0,1010000.0,1900000.0,888000.0,1020000.0,844000.0,900000.0,1300000.0,810000.0,701000.0,665000.0,2315000.0,1170000.0,1715000.0,422000.0,1474000.0,1035000.0,460000.0,1760000.0,1095000.0,1225000.0,1211000.0,770000.0,1000000.0,1050000.0,1700000.0,2160000.0,400000.0,1420000.0,1950000.0,1820000.0,1080000.0,570000.0,1340000.0,2340000.0,1634000.0,910000.0,1650000.0,1510000.0,865000.0,476000.0,706000.0,920000.0,522000.0,690000.0,770000.0,1100000.0,475000.0,651000.0,815500.0,770000.0,585500.0,840000.0,470000.0,810000.0,855333.0,900000.0,875000.0,651000.0,802000.0,900000.0,1000000.0,801347.0,921000.0,1900000.0,752500.0,1067000.0,1260500.0,850500.0,1068000.0,937500.0,1126000.0,778000.0,1230000.0,1805000.0,2200000.0,1265000.0,1928000.0,526000.0,2236000.0,1403000.0,1120000.0,770000.0,975000.0,780000.0,600000.0,955000.0,1196000.0,731000.0,585000.0,480000.0,605000.0,738000.0,386000.0,452000.0,522500.0,741000.0,530000.0,815000.0,775000.0,950000.0,900000.0,835000.0,790000.0,810000.0,500000.0,485000.0,488000.0,900000.0,680000.0,590000.0,770000.0,975000.0,970000.0,600000.0,510000.0,750000.0,822000.0,430000.0,1350000.0,810000.0,550500.0,610000.0,533000.0,410000.0,600000.0,616000.0,960000.0,985000.0,670000.0,665000.0,880000.0,700000.0,600000.0,1570000.0,525500.0,612500.0,248500.0,960000.0,650000.0,500000.0,599000.0,1150000.0,985000.0,1200000.0,2200000.0,2105000.0,550000.0,1915000.0,1630000.0,1000000.0,1470000.0,725000.0,600000.0,1342000.0,500000.0,795000.0,590000.0,1100000.0,1275000.0,1000000.0,1820000.0,655000.0,1350000.0,1560000.0,1060000.0,1610000.0,1101000.0,880000.0,1080000.0,1115000.0,516000.0,1753000.0,900000.0,2350000.0,1670000.0,1402000.0,1570000.0,1150000.0,1384000.0,655000.0,456000.0,520000.0,470000.0,600000.0,670000.0,1400000.0,1520000.0,600000.0,2460000.0,3705000.0,950000.0,1350000.0,735000.0,400000.0,900000.0,1380000.0,1080000.0,342000.0,950000.0,781000.0,549800.0,492000.0,500500.0,1400000.0,685000.0,710000.0,330000.0,1245000.0,1182500.0,1303000.0,482500.0,585000.0,1106000.0,1590000.0,1055000.0,1100000.0,530000.0,1500000.0,841000.0,570000.0,560000.0,815000.0,910000.0,1450000.0,1540000.0,1811000.0,1180000.0,1720000.0,1050000.0,1582000.0,681000.0,1305000.0,1255000.0,2180000.0,1720000.0,1220000.0,1612000.0,1250000.0,930000.0,751000.0,715000.0,837000.0,950000.0,496000.0,850000.0,540000.0,1150000.0,615000.0,735000.0,810000.0,600000.0,1650000.0,600000.0,722000.0,1260000.0,485000.0,690000.0,1065000.0,1200000.0,530000.0,900000.0,700000.0,920000.0,980000.0,886000.0,1080000.0,1400000.0,660000.0,436000.0,876000.0,910000.0,714000.0,770000.0,810000.0,1127000.0,780000.0,986000.0,760000.0,1123000.0,300000.0,890000.0,425000.0,515000.0,1040000.0,890000.0,790000.0,860000.0,630000.0,875000.0,923000.0,920000.0,871000.0,950000.0,870000.0,1186000.0,610000.0,1162500.0,1142500.0,930000.0,875000.0,840000.0,750000.0,750000.0,475000.0,415000.0,731000.0,352000.0,723000.0,336000.0,685000.0,1025000.0,490000.0,805000.0,1005000.0,535000.0,800000.0,510000.0,651000.0,365000.0,405000.0,620500.0,260000.0,625000.0,427500.0,851000.0,998000.0,1030000.0,410000.0,1015000.0,915000.0,380000.0,530000.0,592000.0,440000.0,650000.0,416000.0,301000.0,865000.0,650000.0,401000.0,491000.0,810000.0,555000.0,350000.0,540000.0,682000.0,380000.0,350000.0,750000.0,495000.0,500000.0,350000.0,335000.0,546000.0,400000.0,360000.0,410000.0,836000.0,440000.0,376000.0,323000.0,680000.0,530000.0,786000.0,390000.0,650000.0,800000.0,330000.0,539000.0,622500.0,767500.0,780000.0,668000.0,470000.0,655000.0,440000.0,703000.0,424000.0,613000.0,475000.0,950000.0,730000.0,905000.0,480000.0,767000.0,450000.0,921500.0,490000.0,787000.0,300000.0,335000.0,475000.0,440000.0,216000.0,220000.0,340000.0,395000.0,790000.0,601000.0,300000.0,420000.0,885000.0,815000.0,882500.0,793000.0,550000.0,433000.0,680000.0,851000.0,1025000.0,784000.0,1186000.0,885000.0,718500.0,762500.0,610000.0,680000.0,390000.0,937000.0,1260000.0,795250.0,582000.0,370000.0,421000.0,3200000.0,479000.0,655000.0,561000.0,635000.0,1010000.0,1025000.0,550000.0,1375000.0,1506000.0,1350000.0,405000.0,327000.0,1474000.0,1555000.0,500000.0,345000.0,1275000.0,1150000.0,950000.0,270000.0,439000.0,695000.0,512000.0,855000.0,1040000.0,342000.0,681000.0,900000.0,1250000.0,990000.0,1189000.0,1220000.0,1100000.0,450000.0,1074000.0,1430000.0,1465000.0,391000.0,930000.0,1182000.0,777500.0,1115000.0,760000.0,640000.0,1420000.0,390000.0,380000.0,680000.0,1081000.0,860000.0,905000.0,691000.0,1088000.0,911000.0,3001000.0,638000.0,900000.0,1695000.0,1365000.0,1045000.0,1591000.0,1275000.0,1510000.0,1550000.0,1456000.0,1100000.0,1045000.0,2000000.0,646000.0,660000.0,1145000.0,905000.0,750000.0,604000.0,1645000.0,306000.0,1270000.0,1850000.0,1650000.0,1320000.0,1651000.0,1800000.0,791500.0,1600000.0,1200000.0,1555000.0,1582000.0,2055000.0,1345000.0,410000.0,696000.0,1350000.0,807000.0,385000.0,1150000.0,1775000.0,1270000.0,827500.0,560000.0,790000.0,1212500.0,1125000.0,1520000.0,1101500.0,1020000.0,560000.0,1050000.0,531000.0,620000.0,780000.0,821000.0,915000.0,890000.0,430000.0,1012000.0,1020000.0,1270000.0,515000.0,867000.0,945000.0,618000.0,601000.0,908000.0,1145000.0,970000.0,1325000.0,450000.0,1330000.0,1075000.0,1350000.0,1201000.0,990000.0,720000.0,880000.0,920000.0,1395000.0,965000.0,920000.0,875000.0,822500.0,1080000.0,1275000.0,955000.0,1455000.0,533000.0,970000.0,355000.0,1032000.0,1270000.0,815000.0,593000.0,1600000.0,1620000.0,1270000.0,2633000.0,1405000.0,2260000.0,1595000.0,595000.0,490000.0,1250000.0,2180000.0,930000.0,1200000.0,2000000.0,2000000.0,1050000.0,1250000.0,1650000.0,561000.0,1825000.0,1200000.0,1390000.0,1615000.0,2300000.0,742000.0,2075000.0,722000.0,850000.0,1230000.0,535000.0,990000.0,695000.0,775000.0,572000.0,1460000.0,623500.0,409000.0,1250000.0,659000.0,780000.0,1455000.0,360500.0,1300000.0,1300000.0,380000.0,5700000.0,515000.0,2695000.0,310000.0,627500.0,425000.0,330000.0,693000.0,2285000.0,3000000.0,515000.0,600000.0,2600000.0,320000.0,400000.0,1810000.0,567500.0,540000.0,2010000.0,1945000.0,906000.0,367000.0,1130000.0,500000.0,310000.0,1100000.0,410000.0,1125000.0,840000.0,1400000.0,680500.0,280000.0,520000.0,1200000.0,480000.0,2200000.0,1700000.0,1200000.0,1540000.0,826000.0,1700000.0,505000.0,720000.0,868000.0,530000.0,650000.0,990000.0,592500.0,600000.0,455000.0,1250000.0,425000.0,740000.0,660000.0,622500.0,800000.0,540000.0,370000.0,855000.0,832500.0,850000.0,1080000.0,927000.0,850000.0,831000.0,840000.0,1315000.0,1161000.0,1016000.0,690000.0,1070000.0,871500.0,380000.0,430000.0,602000.0,575000.0,495000.0,500000.0,1891000.0,2000000.0,1500000.0,2000000.0,500000.0,685000.0,380000.0,616000.0,400000.0,451000.0,1400000.0,459000.0,520000.0,370500.0,5046000.0,385000.0,1900000.0,390000.0,500000.0,430000.0,392000.0,1900000.0,540000.0,475000.0,570000.0,400000.0,920000.0,503500.0,580000.0,1295000.0,481000.0,1120000.0,400000.0,1210000.0,785000.0,450000.0,875000.0,650000.0,431000.0,385000.0,575000.0,4400000.0,535000.0,1200500.0,565000.0,520000.0,902000.0,1600000.0,750000.0,1365000.0,1950000.0,1678000.0,400000.0,500000.0,760000.0,580000.0,430000.0,1100000.0,435000.0,354000.0,1025000.0,1430000.0,1330000.0,1635000.0,1194000.0,1440000.0,1300000.0,850000.0,1150000.0,910000.0,1430000.0,622500.0,1500000.0,1280000.0,1485000.0,1080000.0,1715000.0,2650000.0,630000.0,1370000.0,800000.0,950000.0,780000.0,1350500.0,745000.0,657500.0,1030000.0,460000.0,490000.0,890000.0,425000.0,715000.0,816000.0,425500.0,610000.0,600000.0,611000.0,670000.0,605000.0,930000.0,880000.0,570000.0,700000.0,625000.0,695000.0,910000.0,607000.0,679500.0,500000.0,895000.0,410000.0,635000.0,480000.0,435000.0,560000.0,626800.0,571500.0,605000.0,600000.0,650000.0,736000.0,735000.0,700000.0,1190000.0,591000.0,665000.0,620000.0,503000.0,1000000.0,560000.0,615000.0,450000.0,680000.0,620000.0,545000.0,621000.0,687000.0,485000.0,510000.0,500000.0,480000.0,621000.0,690000.0,547500.0,280000.0,555000.0,600000.0,622500.0,350000.0,657000.0,682000.0,520000.0,470000.0,586000.0,305000.0,705000.0,645000.0,500000.0,510000.0,750500.0,451000.0,2440000.0,1110000.0,2128000.0,2200000.0,640000.0,1700000.0,2500000.0,2200000.0,2860000.0,1930000.0,1812500.0,760000.0,1300000.0,1960000.0,2630000.0,880000.0,1755000.0,1700000.0,1975000.0,610000.0,1850000.0,2050000.0,2100000.0,1150000.0,770500.0,600000.0,2125000.0,656000.0,1518000.0,1560000.0,865000.0,2160000.0,2300000.0,600000.0,2180000.0,1251000.0,1650000.0,1835000.0,778500.0,1201000.0,1165000.0,742500.0,1101000.0,1200000.0,990000.0,1500000.0,1290000.0,790000.0,950000.0,1421000.0,1051000.0,1710000.0,1280000.0,750000.0,1000000.0,678000.0,1010000.0,1210000.0,945000.0,725000.0,1211000.0,1100000.0,1002000.0,1209000.0,2080000.0,1118000.0,903000.0,1220000.0,1650000.0,1182500.0,1020000.0,650000.0,1509000.0,517500.0,370000.0,805000.0,1428888.0,940000.0,270000.0,365000.0,525500.0,944000.0,887000.0,701000.0,1110000.0,332000.0,1265000.0,1085000.0,898000.0,1235000.0,910500.0,995000.0,760000.0,505000.0,1400000.0,1110000.0,1200000.0,450000.0,874000.0,1427000.0,383000.0,1290000.0,450000.0,438000.0,1250000.0,1070000.0,1570000.0,486000.0,1211000.0,1280000.0,1478000.0,1913000.0,928500.0,432500.0,330000.0,1370000.0,303500.0,1160000.0,1380000.0,1435000.0,5500000.0,5500000.0,1689000.0,1100000.0,925000.0,450000.0,349000.0,2650000.0,2820000.0,810000.0,2840000.0,2700000.0,6250000.0,4500000.0,541000.0,1550000.0,2205000.0,950000.0,366000.0,2620000.0,1900000.0,4000000.0,4200000.0,690000.0,511000.0,910000.0,2250000.0,525000.0,3270000.0,960000.0,1010000.0,880000.0,770000.0,730000.0,1005000.0,555000.0,546000.0,765000.0,920000.0,1025000.0,895000.0,820000.0,870000.0,1050000.0,660000.0,581000.0,600000.0,690000.0,582000.0,740000.0,671000.0,741000.0,537000.0,1040000.0,1171000.0,662000.0,922000.0,860500.0,702000.0,627500.0,549000.0,701000.0,645000.0,1010000.0,1260000.0,460000.0,2370000.0,800000.0,550000.0,660000.0,1055000.0,995000.0,443000.0,1120000.0,482000.0,620000.0,601000.0,1400000.0,1535000.0,890000.0,1800000.0,2910000.0,2910000.0,1200000.0,1460000.0,310000.0,1200000.0,1560000.0,1575000.0,830000.0,1470000.0,2230000.0,1460000.0,1330000.0,1010000.0,513500.0,1805000.0,1126000.0,935000.0,375000.0,2050000.0,1310000.0,491500.0,547500.0,1210000.0,412000.0,1630000.0,1482500.0,1300000.0,2255000.0,1710000.0,2440000.0,380000.0,367500.0,1225000.0,580000.0,2302000.0,611000.0,800000.0,275000.0,1540000.0,1370000.0,452000.0,501000.0,380000.0,1177000.0,600000.0,1500000.0,830000.0,1200000.0,600000.0,474000.0,1350000.0,1910000.0,915000.0,810000.0,753000.0,602500.0,742000.0,953000.0,650000.0,731000.0,710000.0,936000.0,721000.0,1000000.0,890000.0,1165000.0,1550000.0,770000.0,871000.0,780000.0,650000.0,770000.0,1235000.0,1000000.0,1320000.0,1100000.0,782000.0,910000.0,856000.0,670000.0,706000.0,1050000.0,1320000.0,1815000.0,630000.0,1870000.0,1930000.0,510000.0,381000.0,1040000.0,470000.0,501344.0,796000.0,1055000.0,620000.0,345000.0,950000.0,1200000.0,1005000.0,1340000.0,865000.0,781500.0,1401000.0,630000.0,1137500.0,1158000.0,955000.0,1081000.0,725000.0,767000.0,1450000.0,1430000.0,1275000.0,1606000.0,780000.0,670000.0,1380000.0,480500.0,1520000.0,1287000.0,800000.0,1460000.0,840000.0,900500.0,940000.0,380000.0,1646000.0,470000.0,1346000.0,935000.0,3900000.0,1150000.0,1720000.0,1705000.0,1190000.0,1740000.0,1200000.0,726000.0,1300000.0,670000.0,1350000.0,773000.0,645000.0,720000.0,625000.0,1310000.0,856000.0,580000.0,940000.0,1495000.0,1550000.0,1815000.0,1625000.0,899000.0,435000.0,1080000.0,656000.0,1574000.0,665000.0,590000.0,1679000.0,1050000.0,825000.0,998000.0,1010000.0,1050000.0,1600000.0,1325000.0],\"yaxis\":\"y\",\"type\":\"scattergl\"}],                        {\"template\":{\"data\":{\"bar\":[{\"error_x\":{\"color\":\"#2a3f5f\"},\"error_y\":{\"color\":\"#2a3f5f\"},\"marker\":{\"line\":{\"color\":\"#E5ECF6\",\"width\":0.5},\"pattern\":{\"fillmode\":\"overlay\",\"size\":10,\"solidity\":0.2}},\"type\":\"bar\"}],\"barpolar\":[{\"marker\":{\"line\":{\"color\":\"#E5ECF6\",\"width\":0.5},\"pattern\":{\"fillmode\":\"overlay\",\"size\":10,\"solidity\":0.2}},\"type\":\"barpolar\"}],\"carpet\":[{\"aaxis\":{\"endlinecolor\":\"#2a3f5f\",\"gridcolor\":\"white\",\"linecolor\":\"white\",\"minorgridcolor\":\"white\",\"startlinecolor\":\"#2a3f5f\"},\"baxis\":{\"endlinecolor\":\"#2a3f5f\",\"gridcolor\":\"white\",\"linecolor\":\"white\",\"minorgridcolor\":\"white\",\"startlinecolor\":\"#2a3f5f\"},\"type\":\"carpet\"}],\"choropleth\":[{\"colorbar\":{\"outlinewidth\":0,\"ticks\":\"\"},\"type\":\"choropleth\"}],\"contour\":[{\"colorbar\":{\"outlinewidth\":0,\"ticks\":\"\"},\"colorscale\":[[0.0,\"#0d0887\"],[0.1111111111111111,\"#46039f\"],[0.2222222222222222,\"#7201a8\"],[0.3333333333333333,\"#9c179e\"],[0.4444444444444444,\"#bd3786\"],[0.5555555555555556,\"#d8576b\"],[0.6666666666666666,\"#ed7953\"],[0.7777777777777778,\"#fb9f3a\"],[0.8888888888888888,\"#fdca26\"],[1.0,\"#f0f921\"]],\"type\":\"contour\"}],\"contourcarpet\":[{\"colorbar\":{\"outlinewidth\":0,\"ticks\":\"\"},\"type\":\"contourcarpet\"}],\"heatmap\":[{\"colorbar\":{\"outlinewidth\":0,\"ticks\":\"\"},\"colorscale\":[[0.0,\"#0d0887\"],[0.1111111111111111,\"#46039f\"],[0.2222222222222222,\"#7201a8\"],[0.3333333333333333,\"#9c179e\"],[0.4444444444444444,\"#bd3786\"],[0.5555555555555556,\"#d8576b\"],[0.6666666666666666,\"#ed7953\"],[0.7777777777777778,\"#fb9f3a\"],[0.8888888888888888,\"#fdca26\"],[1.0,\"#f0f921\"]],\"type\":\"heatmap\"}],\"heatmapgl\":[{\"colorbar\":{\"outlinewidth\":0,\"ticks\":\"\"},\"colorscale\":[[0.0,\"#0d0887\"],[0.1111111111111111,\"#46039f\"],[0.2222222222222222,\"#7201a8\"],[0.3333333333333333,\"#9c179e\"],[0.4444444444444444,\"#bd3786\"],[0.5555555555555556,\"#d8576b\"],[0.6666666666666666,\"#ed7953\"],[0.7777777777777778,\"#fb9f3a\"],[0.8888888888888888,\"#fdca26\"],[1.0,\"#f0f921\"]],\"type\":\"heatmapgl\"}],\"histogram\":[{\"marker\":{\"pattern\":{\"fillmode\":\"overlay\",\"size\":10,\"solidity\":0.2}},\"type\":\"histogram\"}],\"histogram2d\":[{\"colorbar\":{\"outlinewidth\":0,\"ticks\":\"\"},\"colorscale\":[[0.0,\"#0d0887\"],[0.1111111111111111,\"#46039f\"],[0.2222222222222222,\"#7201a8\"],[0.3333333333333333,\"#9c179e\"],[0.4444444444444444,\"#bd3786\"],[0.5555555555555556,\"#d8576b\"],[0.6666666666666666,\"#ed7953\"],[0.7777777777777778,\"#fb9f3a\"],[0.8888888888888888,\"#fdca26\"],[1.0,\"#f0f921\"]],\"type\":\"histogram2d\"}],\"histogram2dcontour\":[{\"colorbar\":{\"outlinewidth\":0,\"ticks\":\"\"},\"colorscale\":[[0.0,\"#0d0887\"],[0.1111111111111111,\"#46039f\"],[0.2222222222222222,\"#7201a8\"],[0.3333333333333333,\"#9c179e\"],[0.4444444444444444,\"#bd3786\"],[0.5555555555555556,\"#d8576b\"],[0.6666666666666666,\"#ed7953\"],[0.7777777777777778,\"#fb9f3a\"],[0.8888888888888888,\"#fdca26\"],[1.0,\"#f0f921\"]],\"type\":\"histogram2dcontour\"}],\"mesh3d\":[{\"colorbar\":{\"outlinewidth\":0,\"ticks\":\"\"},\"type\":\"mesh3d\"}],\"parcoords\":[{\"line\":{\"colorbar\":{\"outlinewidth\":0,\"ticks\":\"\"}},\"type\":\"parcoords\"}],\"pie\":[{\"automargin\":true,\"type\":\"pie\"}],\"scatter\":[{\"marker\":{\"colorbar\":{\"outlinewidth\":0,\"ticks\":\"\"}},\"type\":\"scatter\"}],\"scatter3d\":[{\"line\":{\"colorbar\":{\"outlinewidth\":0,\"ticks\":\"\"}},\"marker\":{\"colorbar\":{\"outlinewidth\":0,\"ticks\":\"\"}},\"type\":\"scatter3d\"}],\"scattercarpet\":[{\"marker\":{\"colorbar\":{\"outlinewidth\":0,\"ticks\":\"\"}},\"type\":\"scattercarpet\"}],\"scattergeo\":[{\"marker\":{\"colorbar\":{\"outlinewidth\":0,\"ticks\":\"\"}},\"type\":\"scattergeo\"}],\"scattergl\":[{\"marker\":{\"colorbar\":{\"outlinewidth\":0,\"ticks\":\"\"}},\"type\":\"scattergl\"}],\"scattermapbox\":[{\"marker\":{\"colorbar\":{\"outlinewidth\":0,\"ticks\":\"\"}},\"type\":\"scattermapbox\"}],\"scatterpolar\":[{\"marker\":{\"colorbar\":{\"outlinewidth\":0,\"ticks\":\"\"}},\"type\":\"scatterpolar\"}],\"scatterpolargl\":[{\"marker\":{\"colorbar\":{\"outlinewidth\":0,\"ticks\":\"\"}},\"type\":\"scatterpolargl\"}],\"scatterternary\":[{\"marker\":{\"colorbar\":{\"outlinewidth\":0,\"ticks\":\"\"}},\"type\":\"scatterternary\"}],\"surface\":[{\"colorbar\":{\"outlinewidth\":0,\"ticks\":\"\"},\"colorscale\":[[0.0,\"#0d0887\"],[0.1111111111111111,\"#46039f\"],[0.2222222222222222,\"#7201a8\"],[0.3333333333333333,\"#9c179e\"],[0.4444444444444444,\"#bd3786\"],[0.5555555555555556,\"#d8576b\"],[0.6666666666666666,\"#ed7953\"],[0.7777777777777778,\"#fb9f3a\"],[0.8888888888888888,\"#fdca26\"],[1.0,\"#f0f921\"]],\"type\":\"surface\"}],\"table\":[{\"cells\":{\"fill\":{\"color\":\"#EBF0F8\"},\"line\":{\"color\":\"white\"}},\"header\":{\"fill\":{\"color\":\"#C8D4E3\"},\"line\":{\"color\":\"white\"}},\"type\":\"table\"}]},\"layout\":{\"annotationdefaults\":{\"arrowcolor\":\"#2a3f5f\",\"arrowhead\":0,\"arrowwidth\":1},\"autotypenumbers\":\"strict\",\"coloraxis\":{\"colorbar\":{\"outlinewidth\":0,\"ticks\":\"\"}},\"colorscale\":{\"diverging\":[[0,\"#8e0152\"],[0.1,\"#c51b7d\"],[0.2,\"#de77ae\"],[0.3,\"#f1b6da\"],[0.4,\"#fde0ef\"],[0.5,\"#f7f7f7\"],[0.6,\"#e6f5d0\"],[0.7,\"#b8e186\"],[0.8,\"#7fbc41\"],[0.9,\"#4d9221\"],[1,\"#276419\"]],\"sequential\":[[0.0,\"#0d0887\"],[0.1111111111111111,\"#46039f\"],[0.2222222222222222,\"#7201a8\"],[0.3333333333333333,\"#9c179e\"],[0.4444444444444444,\"#bd3786\"],[0.5555555555555556,\"#d8576b\"],[0.6666666666666666,\"#ed7953\"],[0.7777777777777778,\"#fb9f3a\"],[0.8888888888888888,\"#fdca26\"],[1.0,\"#f0f921\"]],\"sequentialminus\":[[0.0,\"#0d0887\"],[0.1111111111111111,\"#46039f\"],[0.2222222222222222,\"#7201a8\"],[0.3333333333333333,\"#9c179e\"],[0.4444444444444444,\"#bd3786\"],[0.5555555555555556,\"#d8576b\"],[0.6666666666666666,\"#ed7953\"],[0.7777777777777778,\"#fb9f3a\"],[0.8888888888888888,\"#fdca26\"],[1.0,\"#f0f921\"]]},\"colorway\":[\"#636efa\",\"#EF553B\",\"#00cc96\",\"#ab63fa\",\"#FFA15A\",\"#19d3f3\",\"#FF6692\",\"#B6E880\",\"#FF97FF\",\"#FECB52\"],\"font\":{\"color\":\"#2a3f5f\"},\"geo\":{\"bgcolor\":\"white\",\"lakecolor\":\"white\",\"landcolor\":\"#E5ECF6\",\"showlakes\":true,\"showland\":true,\"subunitcolor\":\"white\"},\"hoverlabel\":{\"align\":\"left\"},\"hovermode\":\"closest\",\"mapbox\":{\"style\":\"light\"},\"paper_bgcolor\":\"white\",\"plot_bgcolor\":\"#E5ECF6\",\"polar\":{\"angularaxis\":{\"gridcolor\":\"white\",\"linecolor\":\"white\",\"ticks\":\"\"},\"bgcolor\":\"#E5ECF6\",\"radialaxis\":{\"gridcolor\":\"white\",\"linecolor\":\"white\",\"ticks\":\"\"}},\"scene\":{\"xaxis\":{\"backgroundcolor\":\"#E5ECF6\",\"gridcolor\":\"white\",\"gridwidth\":2,\"linecolor\":\"white\",\"showbackground\":true,\"ticks\":\"\",\"zerolinecolor\":\"white\"},\"yaxis\":{\"backgroundcolor\":\"#E5ECF6\",\"gridcolor\":\"white\",\"gridwidth\":2,\"linecolor\":\"white\",\"showbackground\":true,\"ticks\":\"\",\"zerolinecolor\":\"white\"},\"zaxis\":{\"backgroundcolor\":\"#E5ECF6\",\"gridcolor\":\"white\",\"gridwidth\":2,\"linecolor\":\"white\",\"showbackground\":true,\"ticks\":\"\",\"zerolinecolor\":\"white\"}},\"shapedefaults\":{\"line\":{\"color\":\"#2a3f5f\"}},\"ternary\":{\"aaxis\":{\"gridcolor\":\"white\",\"linecolor\":\"white\",\"ticks\":\"\"},\"baxis\":{\"gridcolor\":\"white\",\"linecolor\":\"white\",\"ticks\":\"\"},\"bgcolor\":\"#E5ECF6\",\"caxis\":{\"gridcolor\":\"white\",\"linecolor\":\"white\",\"ticks\":\"\"}},\"title\":{\"x\":0.05},\"xaxis\":{\"automargin\":true,\"gridcolor\":\"white\",\"linecolor\":\"white\",\"ticks\":\"\",\"title\":{\"standoff\":15},\"zerolinecolor\":\"white\",\"zerolinewidth\":2},\"yaxis\":{\"automargin\":true,\"gridcolor\":\"white\",\"linecolor\":\"white\",\"ticks\":\"\",\"title\":{\"standoff\":15},\"zerolinecolor\":\"white\",\"zerolinewidth\":2}}},\"xaxis\":{\"anchor\":\"y\",\"domain\":[0.0,1.0],\"title\":{\"text\":\"YearBuilt\"},\"range\":[1800,2023]},\"yaxis\":{\"anchor\":\"x\",\"domain\":[0.0,1.0],\"title\":{\"text\":\"Price\"},\"range\":[0,6000000]},\"coloraxis\":{\"colorbar\":{\"title\":{\"text\":\"color\"}},\"colorscale\":[[0.0,\"#0d0887\"],[0.1111111111111111,\"#46039f\"],[0.2222222222222222,\"#7201a8\"],[0.3333333333333333,\"#9c179e\"],[0.4444444444444444,\"#bd3786\"],[0.5555555555555556,\"#d8576b\"],[0.6666666666666666,\"#ed7953\"],[0.7777777777777778,\"#fb9f3a\"],[0.8888888888888888,\"#fdca26\"],[1.0,\"#f0f921\"]]},\"legend\":{\"tracegroupgap\":0},\"margin\":{\"t\":60},\"width\":1000},                        {\"responsive\": true}                    ).then(function(){\n",
              "                            \n",
              "var gd = document.getElementById('97992291-7e47-40fb-a099-248b8591fb6e');\n",
              "var x = new MutationObserver(function (mutations, observer) {{\n",
              "        var display = window.getComputedStyle(gd).display;\n",
              "        if (!display || display === 'none') {{\n",
              "            console.log([gd, 'removed!']);\n",
              "            Plotly.purge(gd);\n",
              "            observer.disconnect();\n",
              "        }}\n",
              "}});\n",
              "\n",
              "// Listen for the removal of the full notebook cells\n",
              "var notebookContainer = gd.closest('#notebook-container');\n",
              "if (notebookContainer) {{\n",
              "    x.observe(notebookContainer, {childList: true});\n",
              "}}\n",
              "\n",
              "// Listen for the clearing of the current output cell\n",
              "var outputEl = gd.closest('.output');\n",
              "if (outputEl) {{\n",
              "    x.observe(outputEl, {childList: true});\n",
              "}}\n",
              "\n",
              "                        })                };                            </script>        </div>\n",
              "</body>\n",
              "</html>"
            ]
          },
          "metadata": {}
        }
      ],
      "id": "cZQB6-X1M3ab"
    },
    {
      "cell_type": "markdown",
      "source": [
        "We can see that the units built recently are more expensive"
      ],
      "metadata": {
        "id": "sWFCKaUnTxqQ"
      },
      "id": "sWFCKaUnTxqQ"
    },
    {
      "cell_type": "code",
      "source": [
        "fig = px.scatter(x=df['BuildingArea'], y=df['Price'])\n",
        "fig.update_xaxes(range=[0, 1000]) \n",
        "fig.update_yaxes(range=[0, 3000000]) \n",
        "fig.update_layout(\n",
        "    xaxis_title=\"BuildingArea\",\n",
        "    yaxis_title=\"Price\",\n",
        "    width=1000\n",
        ")\n",
        "\n",
        "fig.show()"
      ],
      "metadata": {
        "id": "pKiD-FHIwVPI",
        "colab": {
          "base_uri": "https://localhost:8080/",
          "height": 542
        },
        "outputId": "8d61c5c4-8000-4cab-9f76-19140cee1f71"
      },
      "execution_count": 49,
      "outputs": [
        {
          "output_type": "display_data",
          "data": {
            "text/html": [
              "<html>\n",
              "<head><meta charset=\"utf-8\" /></head>\n",
              "<body>\n",
              "    <div>            <script src=\"https://cdnjs.cloudflare.com/ajax/libs/mathjax/2.7.5/MathJax.js?config=TeX-AMS-MML_SVG\"></script><script type=\"text/javascript\">if (window.MathJax) {MathJax.Hub.Config({SVG: {font: \"STIX-Web\"}});}</script>                <script type=\"text/javascript\">window.PlotlyConfig = {MathJaxConfig: 'local'};</script>\n",
              "        <script src=\"https://cdn.plot.ly/plotly-2.8.3.min.js\"></script>                <div id=\"cb02f9e0-5f26-454d-b15c-d23494448803\" class=\"plotly-graph-div\" style=\"height:525px; width:1000px;\"></div>            <script type=\"text/javascript\">                                    window.PLOTLYENV=window.PLOTLYENV || {};                                    if (document.getElementById(\"cb02f9e0-5f26-454d-b15c-d23494448803\")) {                    Plotly.newPlot(                        \"cb02f9e0-5f26-454d-b15c-d23494448803\",                        [{\"hovertemplate\":\"x=%{x}<br>y=%{y}<extra></extra>\",\"legendgroup\":\"\",\"marker\":{\"color\":\"#636efa\",\"symbol\":\"circle\"},\"mode\":\"markers\",\"name\":\"\",\"showlegend\":false,\"x\":[79.0,150.0,142.0,210.0,107.0,75.0,190.0,94.0,97.0,110.0,105.0,73.0,135.0,60.0,135.0,85.0,174.0,128.0,124.0,50.0,91.0,128.0,82.0,81.0,225.0,145.0,145.0,84.0,134.0,116.0,86.0,186.0,90.0,73.0,94.0,133.0,105.0,130.0,133.0,113.0,100.0,174.0,309.0,192.0,126.0,101.0,102.0,113.0,146.0,82.0,198.0,133.0,81.0,180.0,159.0,107.0,122.0,181.0,85.0,98.0,83.0,147.0,146.0,254.0,123.0,131.0,34.0,207.0,145.0,68.0,134.0,54.0,263.0,203.0,165.0,60.0,140.0,112.0,271.0,131.0,60.0,61.0,272.0,210.0,242.0,268.0,125.0,120.0,220.0,94.0,123.0,93.0,22.0,76.0,57.0,65.0,130.0,141.0,77.0,87.0,76.0,136.0,113.0,100.0,3.0,91.0,251.0,117.0,77.0,167.0,130.0,118.0,116.0,169.0,109.0,97.0,170.0,100.0,157.0,160.0,130.0,158.0,70.0,76.0,100.0,105.0,150.0,116.0,165.0,116.0,14.0,107.0,38.0,73.0,96.0,222.0,121.0,163.0,516.0,53.0,106.0,74.0,98.0,108.0,80.0,88.0,80.0,76.0,251.0,333.0,3.0,285.0,91.0,53.0,108.0,62.0,174.0,62.0,270.0,128.0,77.0,435.0,92.0,109.0,168.0,125.0,79.0,102.0,90.0,148.0,87.0,185.0,131.0,120.0,147.0,58.0,139.0,232.0,117.0,195.0,62.0,204.0,286.0,104.0,127.0,110.0,149.0,180.0,132.0,62.0,110.0,160.0,65.0,158.0,157.0,104.0,147.0,69.0,155.0,168.0,172.0,177.0,120.0,108.0,77.0,144.0,166.0,175.0,71.0,273.0,399.0,220.0,315.0,149.0,178.0,112.0,618.0,145.0,101.0,152.0,180.0,228.0,145.0,444.0,110.0,390.0,139.0,206.0,168.0,111.0,104.0,199.0,266.0,274.0,240.0,278.0,164.0,201.0,114.0,203.0,110.0,94.0,792.0,152.0,90.0,215.0,255.0,317.0,80.0,192.0,88.0,86.0,120.0,85.0,134.0,198.0,130.0,118.0,103.0,181.0,225.0,120.0,143.0,281.0,106.0,395.0,118.0,101.0,140.0,117.0,150.0,85.0,103.0,153.0,180.0,61.0,120.0,65.0,58.0,61.0,100.0,49.0,59.0,84.0,159.0,51.0,123.0,218.0,129.0,112.0,420.0,226.0,97.0,449.0,356.0,349.0,166.0,110.0,72.0,252.0,200.0,70.0,73.0,150.0,308.0,100.0,164.0,240.0,241.0,104.0,336.0,79.0,98.0,170.0,88.0,253.0,92.0,350.0,207.0,150.0,291.0,155.0,166.0,193.0,420.0,260.0,80.0,190.0,115.0,167.0,154.0,275.0,185.0,477.0,215.0,137.0,214.0,160.0,185.0,124.0,150.0,225.0,520.0,144.0,330.0,365.0,254.0,275.0,154.0,275.0,355.0,247.0,165.0,247.0,355.0,168.0,188.0,529.0,232.0,170.0,244.0,116.0,90.0,196.0,420.0,720.0,170.0,201.0,200.0,518.0,250.0,175.0,85.0,177.0,165.0,112.0,153.0,200.0,198.0,175.0,151.0,355.0,199.0,144.0,193.0,147.0,102.0,121.0,143.0,250.0,181.0,127.0,69.0,212.0,164.0,250.0,222.0,194.0,116.0,112.0,135.0,205.0,138.0,103.0,92.0,233.0,353.0,475.0,197.0,100.0,108.0,245.0,255.0,143.0,170.0,88.0,149.0,160.0,125.0,284.0,109.0,168.0,96.0,361.0,250.0,90.0,107.0,220.0,275.0,150.0,150.0,178.0,361.0,125.0,95.0,190.0,120.0,79.0,178.0,110.0,141.0,222.0,180.0,110.0,191.0,140.0,146.0,78.0,177.0,150.0,118.0,163.0,138.0,75.0,177.0,207.0,166.0,145.0,117.0,140.0,135.0,120.0,102.0,117.0,190.0,131.0,79.0,133.0,119.0,160.0,196.0,205.0,315.0,120.0,126.0,231.0,176.0,165.0,122.0,140.0,156.0,143.0,190.0,80.0,257.0,105.0,256.0,96.0,123.0,160.0,163.0,122.0,160.0,147.0,83.0,151.0,337.0,28.0,150.0,168.0,146.0,200.0,265.0,132.0,99.0,158.0,120.0,196.0,186.0,131.0,114.0,115.0,296.0,100.0,144.0,122.0,198.0,167.0,94.0,133.0,219.0,118.0,255.0,81.0,167.0,170.0,110.0,151.0,108.0,65.0,158.0,134.0,3.0,159.0,106.0,195.0,235.0,108.0,162.0,120.0,106.0,82.0,95.0,231.0,119.0,130.0,75.0,106.0,124.0,77.0,154.0,145.0,240.0,98.0,216.0,135.0,154.0,90.0,144.0,105.0,104.0,160.0,138.0,78.0,156.0,284.0,70.0,247.0,122.0,137.0,260.0,132.0,225.0,209.0,74.0,135.0,171.0,341.0,92.0,197.0,340.0,74.0,163.0,111.0,202.0,262.0,364.0,85.0,143.0,111.0,118.0,170.0,116.0,423.0,337.0,40.0,80.0,219.0,302.0,120.0,75.0,229.0,305.0,274.0,333.0,311.0,75.0,165.0,2.0,319.0,196.0,246.0,74.0,281.0,161.0,142.0,110.0,304.0,195.0,240.0,268.0,117.0,213.0,183.0,126.0,594.0,274.0,235.0,228.0,182.0,245.0,119.0,270.0,90.0,143.0,244.0,274.0,131.0,275.0,272.0,34.0,203.0,121.0,233.0,238.0,212.0,177.0,233.0,346.0,93.0,151.0,145.0,309.0,228.0,222.0,286.0,225.0,60.0,250.0,57.0,66.0,4.0,101.0,337.0,117.0,288.0,193.0,150.0,130.0,131.0,108.0,93.0,209.0,287.0,66.0,40.0,100.0,61.0,96.0,90.0,78.0,61.0,85.0,75.0,139.0,91.0,97.0,140.0,88.0,108.0,152.0,126.0,110.0,65.0,121.0,93.0,100.0,162.0,112.0,87.0,51.0,180.0,151.0,156.0,130.0,100.0,105.0,85.0,126.0,152.0,108.0,80.0,98.0,141.0,57.0,86.0,114.0,195.0,57.0,266.0,88.0,66.0,89.0,162.0,112.0,104.0,68.0,117.0,105.0,74.0,66.0,150.0,87.0,126.0,45.0,104.0,129.0,118.0,207.0,1041.0,111.0,127.0,119.0,132.0,214.0,126.0,122.0,89.0,54.0,120.0,82.0,130.0,199.0,103.0,157.0,69.0,119.0,60.0,42.0,93.0,321.0,85.0,37.0,95.0,119.0,64.0,70.0,155.0,135.0,101.0,287.0,62.0,168.0,82.0,87.0,75.0,62.0,59.0,43.0,42.0,193.0,66.0,141.0,45.0,165.0,116.0,65.0,109.0,148.0,45.0,184.0,98.0,65.0,65.0,123.0,169.0,84.0,62.0,115.0,150.0,140.0,180.0,214.0,197.0,190.0,226.0,180.0,159.0,304.0,165.0,225.0,100.0,96.0,245.0,719.0,212.0,300.0,175.0,212.0,140.0,253.0,111.0,130.0,145.0,136.0,111.0,229.0,103.0,174.0,115.0,120.0,210.0,210.0,92.0,82.0,112.0,126.0,380.0,92.0,120.0,212.0,176.0,220.0,182.0,150.0,106.0,189.0,87.0,348.0,189.0,68.0,164.0,86.0,154.0,56.0,232.0,131.0,77.0,105.0,115.0,160.0,77.0,77.0,89.0,3112.0,133.0,225.0,95.0,213.0,88.0,317.0,76.0,163.0,102.0,130.0,146.0,164.0,160.0,220.0,81.0,145.0,75.0,270.0,407.0,282.0,210.0,257.0,271.0,453.0,363.0,215.0,130.0,83.0,229.0,297.0,148.0,235.0,104.0,140.0,222.0,173.0,92.0,282.0,207.0,197.0,427.0,411.0,216.0,276.0,130.0,164.0,163.0,104.0,142.0,172.0,168.0,148.0,162.0,56.0,86.0,76.0,96.0,104.0,61.0,166.0,69.0,48.0,113.0,100.0,204.0,107.0,67.0,50.0,70.0,115.0,33.0,40.0,130.0,170.0,237.0,34.0,170.0,56.0,133.0,96.0,86.0,201.0,223.0,102.0,200.0,106.0,90.0,71.0,73.0,250.0,82.0,110.0,64.0,80.0,182.0,53.0,166.0,167.0,120.0,72.0,221.0,116.0,68.0,270.0,67.0,72.0,135.0,70.0,275.0,98.0,60.0,75.0,130.0,48.0,100.0,78.0,155.0,313.0,68.0,237.0,56.0,43.0,139.0,63.0,82.0,67.0,215.0,144.0,121.0,44.0,114.0,165.0,99.0,120.0,256.0,80.0,85.0,272.0,117.0,135.0,85.0,123.0,215.0,205.0,158.0,94.0,143.0,160.0,97.0,101.0,182.0,88.0,164.0,277.0,105.0,111.0,137.0,85.0,98.0,116.0,85.0,84.0,97.0,250.0,96.0,99.0,50.0,135.0,107.0,136.0,119.0,169.0,118.0,93.0,110.0,108.0,176.0,123.0,140.0,180.0,110.0,164.0,109.0,101.0,93.0,125.0,74.0,62.0,164.0,130.0,124.0,118.0,300.0,178.0,125.0,80.0,107.0,109.0,127.0,110.0,94.0,117.0,256.0,125.0,96.0,156.0,109.0,146.0,95.0,189.0,230.0,98.0,73.0,100.0,180.0,100.0,72.0,131.0,131.0,249.0,89.0,142.0,72.0,149.0,286.0,112.0,102.0,80.0,187.0,95.0,205.0,70.0,69.0,107.0,13.0,140.0,203.0,130.0,92.0,131.0,147.0,164.0,160.0,62.0,114.0,86.0,70.0,98.0,120.0,105.0,120.0,115.0,108.0,86.0,145.0,116.0,138.0,90.0,258.0,107.0,120.0,96.0,129.0,97.0,231.0,134.0,37.0,95.0,131.0,105.0,129.0,70.0,129.0,122.0,151.0,97.0,53.0,62.0,65.0,190.0,153.0,80.0,49.0,82.0,112.0,104.0,44.0,107.0,92.0,86.0,82.0,88.0,159.0,60.0,91.0,2.0,114.0,123.0,115.0,138.0,173.0,119.0,176.0,218.0,194.0,135.0,143.0,185.0,155.0,320.0,395.0,170.0,109.0,170.0,105.0,106.0,140.0,140.0,150.0,150.0,100.0,160.0,119.0,160.0,195.0,305.0,129.0,429.0,175.0,68.0,175.0,261.0,306.0,275.0,163.0,160.0,120.0,169.0,150.0,132.0,240.0,225.0,327.0,180.0,70.0,290.0,236.0,322.0,95.0,136.0,300.0,478.0,148.0,245.0,291.0,110.0,181.0,159.0,173.0,150.0,123.0,62.0,79.0,112.0,119.0,137.0,3.0,184.0,125.0,181.0,204.0,1561.0,100.0,185.0,142.0,207.0,108.0,255.0,95.0,200.0,192.0,59.0,273.0,81.0,270.0,152.0,51.0,79.0,83.0,71.0,60.0,33.0,126.0,85.0,85.0,68.0,50.0,92.0,86.0,138.0,54.0,43.0,57.0,77.0,119.0,62.0,173.0,100.0,122.0,207.0,70.0,88.0,84.0,133.0,104.0,185.0,70.0,98.0,63.0,67.0,75.0,51.0,47.0,70.0,80.0,110.0,75.0,37.0,83.0,65.0,50.0,211.0,42.0,218.0,69.0,85.0,47.0,18.0,162.0,147.0,113.0,83.0,105.0,89.0,98.0,210.0,76.0,77.0,106.0,183.0,257.0,215.0,267.0,100.0,55.0,171.0,378.0,217.0,355.0,125.0,193.0,116.0,160.0,272.0,93.0,137.0,129.0,72.0,224.0,73.0,142.0,227.0,73.0,454.0,49.0,145.0,108.0,120.0,114.0,52.0,143.0,250.0,107.0,68.0,120.0,145.0,66.0,180.0,218.0,227.0,66.0,138.0,106.0,65.0,104.0,80.0,273.0,165.0,145.0,68.0,88.0,125.0,135.0,83.0,77.0,284.0,190.0,132.0,700.0,266.0,168.0,127.0,59.0,56.0,59.0,196.0,65.0,134.0,104.0,144.0,110.0,92.0,145.0,70.0,77.0,107.0,68.0,56.0,226.0,68.0,109.0,280.0,2.0,140.0,68.0,126.0,75.0,77.0,122.0,137.0,71.0,66.0,105.0,105.0,291.0,105.0,152.0,52.0,165.0,115.0,101.0,110.0,42.0,74.0,138.0,90.0,70.0,275.0,85.0,70.0,64.0,175.0,40.0,151.0,77.0,145.0,128.0,116.0,129.0,216.0,175.0,165.0,118.0,110.0,92.0,95.0,92.0,209.0,133.0,105.0,72.0,110.0,135.0,307.0,132.0,48.0,75.0,103.0,60.0,63.0,59.0,140.0,131.0,78.0,98.0,85.0,102.0,60.0,79.0,46.0,150.0,50.0,84.0,52.0,130.0,98.0,93.0,156.0,161.0,50.0,106.0,52.0,160.0,87.0,35.0,75.0,118.0,46.0,98.0,120.0,141.0,90.0,87.0,65.0,190.0,3.0,92.0,115.0,75.0,130.0,129.0,69.0,66.0,80.0,103.0,50.0,120.0,99.0,78.0,70.0,228.0,75.0,90.0,98.0,94.0,93.0,126.0,109.0,83.0,108.0,42.0,113.0,99.0,74.0,94.0,154.0,55.0,70.0,168.0,130.0,98.0,79.0,151.0,102.0,160.0,74.0,275.0,170.0,265.0,353.0,217.0,183.0,85.0,163.0,118.0,323.0,134.0,327.0,314.0,314.0,254.0,63.0,134.0,157.0,188.0,143.0,305.0,65.0,351.0,212.0,30.0,52.0,136.0,38.0,230.0,142.0,44.0,248.0,84.0,266.0,176.0,115.0,33.0,123.0,206.0,217.0,26.0,326.0,184.0,336.0,520.0,326.0,155.0,142.0,140.0,205.0,74.0,107.0,246.0,153.0,143.0,80.0,607.0,354.0,216.0,295.0,270.0,193.0,107.0,672.0,118.0,144.0,127.0,138.0,105.0,136.0,100.0,114.0,97.0,3.0,130.0,140.0,124.0,115.0,81.0,176.0,61.0,106.0,120.0,74.0,130.0,125.0,96.0,81.0,85.0,102.0,150.0,131.0,180.0,99.0,142.0,91.0,104.0,130.0,139.0,129.0,159.0,192.0,150.0,146.0,100.0,89.0,88.0,304.0,180.0,135.0,77.0,143.0,121.0,116.0,155.0,194.0,258.0,138.0,19.0,139.0,138.0,264.0,213.0,134.0,141.0,136.0,251.0,213.0,116.0,103.0,98.0,112.0,268.0,129.0,96.0,168.0,161.0,134.0,116.0,251.0,115.0,106.0,113.0,176.0,103.0,102.0,115.0,95.0,142.0,2.0,92.0,110.0,79.0,87.0,74.0,320.0,300.0,187.0,242.0,109.0,85.0,125.0,86.0,104.0,90.0,113.0,325.0,220.0,248.0,224.0,162.0,413.0,120.0,115.0,137.0,204.0,118.0,324.0,364.0,613.0,323.0,305.0,140.0,303.0,70.0,61.0,228.0,209.0,184.0,231.0,260.0,188.0,75.0,140.0,106.0,107.0,3.0,68.0,150.0,154.0,210.0,235.0,53.0,122.0,82.0,63.0,64.0,176.0,88.0,52.0,108.0,60.0,56.0,76.0,155.0,90.0,52.0,145.0,109.0,78.0,57.0,150.0,51.0,130.0,50.0,220.0,41.0,180.0,340.0,72.0,70.0,173.0,435.0,75.0,148.0,88.0,178.0,93.0,196.0,73.0,373.0,52.0,92.0,70.0,76.0,158.0,125.0,70.0,103.0,71.0,171.0,82.0,151.0,275.0,56.0,85.0,344.0,126.0,44.0,89.0,120.0,107.0,192.0,130.0,118.0,125.0,84.0,134.0,161.0,78.0,85.0,172.0,90.0,87.0,115.0,118.0,208.0,200.0,101.0,83.0,90.0,80.0,97.0,79.0,191.0,99.0,86.0,87.0,90.0,86.0,111.0,88.0,88.0,85.0,81.0,152.0,13.0,196.0,18.0,106.0,99.0,77.0,85.0,97.0,76.0,128.0,126.0,118.0,97.0,90.0,315.0,185.0,180.0,70.0,100.0,60.0,88.0,122.0,184.0,154.0,83.0,208.0,378.0,201.0,140.0,91.0,110.0,170.0,78.0,126.0,130.0,59.0,110.0,165.0,78.0,140.0,217.0,158.0,292.0,232.0,411.0,70.0,115.0,169.0,135.0,136.0,233.0,130.0,181.0,58.0,315.0,110.0,407.0,120.0,96.0,114.0,186.0,163.0,305.0,100.0,155.0,200.0,104.0,201.0,125.0,116.0,188.0,126.0,132.0,113.0,140.0,148.0,133.0,123.0,138.0,257.0,182.0,212.0,250.0,127.0,102.0,268.0,184.0,156.0,154.0,141.0,154.0,85.0,174.0,120.0,198.0,125.0,126.0,184.0,130.0,147.0,105.0,201.0,133.0,233.0,123.0,138.0,106.0,121.0,81.0,55.0,80.0,113.0,104.0,112.0,126.0,72.0,99.0,95.0,135.0,270.0,120.0,47.0,71.0,76.0,81.0,50.0,127.0,92.0,88.0,79.0,270.0,67.0,130.0,147.0,132.0,101.0,136.0,97.0,109.0,84.0,80.0,90.0,103.0,90.0,94.0,86.0,59.0,72.0,141.0,374.0,80.0,251.0,220.0,426.0,199.0,127.0,175.0,183.0,97.0,400.0,365.0,90.0,190.0,51.0,77.0,237.0,80.0,80.0,358.0,180.0,87.0,89.0,187.0,203.0,215.0,225.0,242.0,1022.0,342.0,184.0,204.0,282.0,86.0,293.0,248.0,237.0,72.0,121.0,86.0,110.0,90.0,130.0,230.0,115.0,130.0,346.0,281.0,147.0,112.0,700.0,241.0,153.0,139.0,55.0,307.0,253.0,83.0,152.0,127.0,311.0,200.0,160.0,360.0,310.0,200.0,167.0,161.0,128.0,185.0,63.0,69.0,124.0,91.0,79.0,121.0,81.0,70.0,125.0,95.0,107.0,146.0,69.0,121.0,66.0,358.0,91.0,80.0,80.0,121.0,112.0,137.0,180.0,309.0,195.0,105.0,68.0,392.0,181.0,128.0,80.0,132.0,54.0,339.0,235.0,320.0,100.0,159.0,185.0,248.0,91.0,233.0,106.0,95.0,74.0,137.0,146.0,223.0,102.0,254.0,327.0,215.0,109.0,180.0,196.0,135.0,138.0,267.0,117.0,150.0,254.0,110.0,119.0,243.0,126.0,130.0,180.0,151.0,165.0,83.0,118.0,152.0,260.0,104.0,74.0,201.0,42.0,126.0,38.0,337.0,114.0,46.0,147.0,134.0,62.0,133.0,57.0,155.0,90.0,114.0,132.0,126.0,120.0,154.0,115.0,88.0,138.0,103.0,53.0,142.0,132.0,121.0,71.0,110.0,211.0,286.0,200.0,87.0,175.0,142.0,3.0,128.0,374.0,88.0,95.0,80.0,84.0,79.0,184.0,85.0,245.0,85.0,142.0,166.0,207.0,68.0,231.0,232.0,124.0,204.0,160.0,141.0,196.0,215.0,234.0,176.0,85.0,84.0,55.0,66.0,80.0,64.0,59.0,67.0,57.0,51.0,122.0,47.0,102.0,55.0,68.0,64.0,68.0,65.0,94.0,89.0,69.0,133.0,132.0,58.0,67.0,100.0,73.0,82.0,212.0,165.0,113.0,125.0,115.0,80.0,225.0,25.0,199.0,148.0,170.0,207.0,116.0,327.0,152.0,117.0,92.0,120.0,189.0,63.0,201.0,196.0,120.0,178.0,107.0,258.0,102.0,138.0,152.0,111.0,82.0,308.0,115.0,85.0,146.0,199.0,133.0,145.0,97.0,54.0,80.0,190.0,168.0,111.0,39.0,192.0,125.0,136.0,261.0,372.0,160.0,329.0,142.0,59.0,168.0,156.0,193.0,41.0,95.0,159.0,287.0,54.0,145.0,222.0,152.0,203.0,81.0,164.0,143.0,45.0,155.0,65.0,145.0,132.0,50.0,120.0,143.0,150.0,51.0,160.0,165.0,180.0,75.0,242.0,123.0,159.0,214.0,112.0,104.0,218.0,188.0,133.0,171.0,121.0,140.0,79.0,68.0,115.0,137.0,107.0,152.0,114.0,160.0,97.0,101.0,161.0,199.0,43.0,187.0,100.0,176.0,179.0,73.0,108.0,172.0,102.0,165.0,144.0,111.0,50.0,159.0,195.0,118.0,94.0,138.0,112.0,65.0,84.0,233.0,118.0,136.0,125.0,127.0,151.0,162.0,63.0,145.0,153.0,198.0,163.0,111.0,185.0,106.0,132.0,158.0,62.0,130.0,104.0,101.0,140.0,170.0,95.0,90.0,188.0,120.0,204.0,104.0,190.0,45.0,109.0,190.0,168.0,236.0,150.0,204.0,89.0,113.0,145.0,242.0,180.0,139.0,104.0,140.0,180.0,290.0,162.0,125.0,225.0,119.0,276.0,65.0,64.0,129.0,119.0,0.0,74.0,55.0,54.0,57.0,84.0,98.0,139.0,52.0,71.0,150.0,120.0,84.0,60.0,93.0,100.0,106.0,69.0,75.0,68.0,96.0,65.0,43.0,45.0,170.0,85.0,73.0,1.0,108.0,125.0,188.0,179.0,160.0,257.0,69.0,100.0,218.0,126.0,73.0,101.0,156.0,115.0,55.0,78.0,65.0,41.0,125.0,108.0,186.0,39.0,92.0,331.0,99.0,106.0,124.0,174.0,102.0,97.0,106.0,138.0,135.0,119.0,109.0,76.0,143.0,93.0,143.0,40.0,131.0,102.0,65.0,180.0,86.0,135.0,100.0,115.0,131.0,100.0,265.0,90.0,43.0,137.0,140.0,230.0,130.0,10.0,108.0,231.0,109.0,81.0,168.0,165.0,160.0,85.0,111.0,179.0,91.0,137.0,138.0,223.0,113.0,113.0,165.0,173.0,86.0,196.0,76.0,93.0,183.0,260.0,105.0,189.0,120.0,239.0,120.0,164.0,129.0,181.0,112.0,122.0,107.0,118.0,172.0,226.0,242.0,89.0,249.0,102.0,172.0,102.0,186.0,50.0,196.0,132.0,141.0,120.0,159.0,115.0,124.0,135.0,281.0,111.0,98.0,94.0,157.0,106.0,67.0,87.0,121.0,300.0,98.0,94.0,103.0,166.0,139.0,132.0,175.0,147.0,109.0,74.0,84.0,168.0,95.0,142.0,124.0,151.0,154.0,107.0,91.0,146.0,194.0,106.0,287.0,94.0,100.0,109.0,111.0,88.0,111.0,108.0,111.0,182.0,145.0,141.0,106.0,104.0,139.0,265.0,84.0,132.0,49.0,501.0,141.0,92.0,100.0,134.0,167.0,139.0,280.0,181.0,57.0,237.0,135.0,108.0,109.0,87.0,74.0,137.0,60.0,84.0,70.0,110.0,115.0,106.0,158.0,83.0,94.0,131.0,70.0,104.0,71.0,83.0,70.0,76.0,70.0,153.0,70.0,173.0,169.0,106.0,211.0,90.0,100.0,86.0,63.0,70.0,62.0,72.0,71.0,102.0,160.0,63.0,102.0,241.0,134.0,138.0,100.0,64.0,94.0,134.0,95.0,34.0,121.0,73.0,51.0,45.0,64.0,136.0,92.0,114.0,51.0,134.0,72.0,160.0,50.0,87.0,135.0,107.0,85.0,99.0,76.0,108.0,101.0,78.0,71.0,71.0,71.0,98.0,104.0,125.0,215.0,200.0,130.0,122.0,95.0,79.0,124.0,153.0,163.0,100.0,139.0,141.0,180.0,3.0,121.0,96.0,180.0,98.0,102.0,97.0,143.0,87.0,94.0,151.0,106.0,129.0,101.0,88.0,150.0,73.0,92.0,114.0,120.0,74.0,147.0,85.0,97.0,121.0,92.0,189.0,217.0,90.0,65.0,85.0,103.0,115.0,129.0,97.0,140.0,72.0,139.0,280.0,506.0,67.0,95.0,69.0,60.0,121.0,100.0,100.0,138.0,82.0,147.0,118.0,184.0,150.0,140.0,117.0,83.0,79.0,123.0,160.0,143.0,119.0,120.0,127.0,150.0,107.0,84.0,138.0,62.0,86.0,67.0,85.0,272.0,84.0,118.0,467.0,92.0,170.0,135.0,114.0,83.0,94.0,117.0,80.0,186.0,84.0,244.0,153.0,190.0,61.0,135.0,153.0,70.0,130.0,160.0,83.0,114.0,70.0,63.0,110.0,98.0,77.0,93.0,558.0,92.0,72.0,146.0,103.0,85.0,45.0,197.0,73.0,109.0,67.0,54.0,84.0,97.0,65.0,105.0,121.0,83.0,77.0,65.0,146.0,106.0,174.0,74.0,92.0,159.0,64.0,114.0,94.0,129.0,125.0,149.0,97.0,137.0,93.0,120.0,81.0,149.0,133.0,120.0,152.0,121.0,145.0,96.0,108.0,177.0,91.0,118.0,55.0,54.0,100.0,87.0,45.0,45.0,80.0,50.0,97.0,102.0,62.0,107.0,262.0,557.0,135.0,128.0,128.0,72.0,92.0,101.0,134.0,162.0,188.0,141.0,133.0,285.0,103.0,134.0,65.0,103.0,81.0,85.0,75.0,38.0,57.0,260.0,62.0,69.0,66.0,76.0,105.0,92.0,68.0,158.0,131.0,116.0,53.0,43.0,94.0,115.0,52.0,45.0,128.0,92.0,124.0,60.0,56.0,68.0,61.0,115.0,95.0,1.0,50.0,63.0,126.0,75.0,110.0,88.0,81.0,66.0,140.0,125.0,170.0,51.0,85.0,110.0,76.0,120.0,120.0,69.0,119.0,40.0,44.0,52.0,115.0,95.0,54.0,85.0,120.0,110.0,241.0,77.0,60.0,118.0,110.0,90.0,145.0,95.0,171.0,76.0,141.0,118.0,81.0,180.0,70.0,76.0,80.0,124.0,104.0,75.0,214.0,40.0,102.0,112.0,141.0,118.0,111.0,193.0,104.0,144.0,89.0,164.0,184.0,121.0,128.0,60.0,68.0,174.0,106.0,50.0,80.0,144.0,92.0,72.0,70.0,91.0,108.0,74.0,100.0,207.0,181.0,112.0,205.0,89.0,134.0,154.0,148.0,185.0,182.0,83.0,142.0,141.0,230.0,99.0,51.0,135.0,96.0,142.0,125.0,116.0,98.0,211.0,65.0,187.0,140.0,211.0,158.0,134.0,127.0,125.0,132.0,155.0,104.0,149.0,154.0,111.0,111.0,218.0,72.0,198.0,62.0,127.0,71.0,136.0,150.0,81.0,83.0,93.0,153.0,104.0,119.0,117.0,232.0,126.0,76.0,56.0,113.0,153.0,76.0,120.0,141.0,150.0,122.0,125.0,195.0,78.0,153.0,79.0,138.0,220.0,260.0,90.0,163.0,86.0,86.0,138.0,64.0,38.0,79.0,103.0,73.0,148.0,75.0,45.0,118.0,77.0,75.0,94.0,44.0,107.0,107.0,41.0,272.0,44.0,200.0,40.0,85.0,56.0,47.0,64.0,135.0,175.0,65.0,72.0,127.0,47.0,45.0,18.0,56.0,53.0,207.0,148.0,88.0,42.0,77.0,73.0,37.0,81.0,48.0,89.0,92.0,172.0,70.0,35.0,62.0,84.0,61.0,238.0,172.0,86.0,140.0,79.0,148.0,72.0,106.0,114.0,84.0,110.0,172.0,100.0,99.0,70.0,176.0,57.0,105.0,77.0,67.0,73.0,93.0,51.0,112.0,116.0,104.0,95.0,131.0,158.0,109.0,277.0,134.0,236.0,134.0,518.0,127.0,158.0,50.0,71.0,66.0,75.0,74.0,70.0,123.0,160.0,176.0,192.0,58.0,102.0,49.0,115.0,53.0,41.0,183.0,59.0,55.0,46.0,378.0,53.0,122.0,73.0,57.0,63.0,43.0,202.0,70.0,83.0,70.0,65.0,134.0,72.0,95.0,200.0,61.0,133.0,52.0,49.0,98.0,61.0,68.0,70.0,71.0,46.0,78.0,312.0,70.0,83.0,76.0,63.0,108.0,3.0,105.0,123.0,211.0,171.0,67.0,104.0,95.0,102.0,63.0,141.0,69.0,46.0,180.0,158.0,159.0,297.0,143.0,347.0,160.0,207.0,164.0,117.0,224.0,127.0,196.0,25.0,365.0,46.0,348.0,365.0,106.0,208.0,165.0,145.0,115.0,181.0,122.0,116.0,309.0,110.0,115.0,127.0,80.0,104.0,113.0,72.0,118.0,126.0,77.0,106.0,104.0,174.0,107.0,105.0,75.0,120.0,117.0,650.0,122.0,125.0,159.0,144.0,85.0,107.0,99.0,81.0,106.0,130.0,137.0,133.0,112.0,112.0,133.0,201.0,111.0,141.0,673.0,101.0,155.0,90.0,295.0,115.0,152.0,178.0,144.0,125.0,131.0,176.0,102.0,166.0,151.0,133.0,148.0,130.0,121.0,131.0,45.0,106.0,156.0,131.0,80.0,178.0,155.0,170.0,103.0,120.0,114.0,198.0,215.0,109.0,141.0,181.0,146.0,264.0,129.0,312.0,235.0,76.0,180.0,256.0,272.0,264.0,218.0,230.0,80.0,198.0,173.0,362.0,110.0,159.0,143.0,286.0,78.0,292.0,293.0,277.0,145.0,92.0,105.0,239.0,76.0,231.0,209.0,101.0,236.0,219.0,80.0,128.0,211.0,295.0,185.0,78.0,221.0,170.0,128.0,135.0,155.0,189.0,255.0,125.0,180.0,220.0,260.0,142.0,355.0,158.0,335.0,164.0,90.0,175.0,134.0,181.0,105.0,123.0,199.0,174.0,160.0,360.0,195.0,22.0,133.0,280.0,150.0,145.0,120.0,158.0,53.0,62.0,95.0,153.0,110.0,33.0,40.0,72.0,78.0,129.0,71.0,105.0,48.0,97.0,102.0,108.0,133.0,144.0,96.0,75.0,80.0,159.0,156.0,345.0,52.0,2.0,127.0,44.0,138.0,59.0,66.0,234.0,140.0,377.0,66.0,97.0,130.0,152.0,212.0,150.0,56.0,40.0,153.0,41.0,149.0,128.0,135.0,374.0,332.0,118.0,126.0,109.0,62.0,38.0,291.0,205.0,94.0,228.0,220.0,342.0,367.0,57.0,214.0,185.0,107.0,35.0,286.0,139.0,331.0,331.0,83.0,68.0,136.0,205.0,82.0,215.0,183.0,163.0,167.0,135.0,172.0,183.0,90.0,100.0,138.0,143.0,233.0,18.0,177.0,137.0,202.0,124.0,100.0,129.0,129.0,90.0,104.0,163.0,103.0,95.0,131.0,325.0,114.0,153.0,147.0,97.0,96.0,89.0,98.0,111.0,132.0,195.0,52.0,280.0,89.0,207.0,100.0,154.0,153.0,58.0,122.0,62.0,83.0,81.0,160.0,186.0,111.0,252.0,196.0,286.0,174.0,107.0,58.0,200.0,179.0,215.0,110.0,93.0,212.0,180.0,266.0,204.0,72.0,160.0,150.0,194.0,49.0,285.0,139.0,61.0,60.0,85.0,65.0,197.0,139.0,250.0,257.0,170.0,278.0,64.0,61.0,126.0,78.0,144.0,75.0,92.0,44.0,147.0,112.0,46.0,51.0,71.0,122.0,83.0,96.0,112.0,111.0,96.0,66.0,101.0,89.0,237.0,173.0,154.0,140.0,117.0,150.0,129.0,156.0,115.0,232.0,122.0,147.0,103.0,105.0,233.0,139.0,100.0,120.0,2.0,82.0,206.0,105.0,171.0,129.0,92.0,109.0,100.0,120.0,93.0,132.0,171.0,172.0,79.0,167.0,129.0,83.0,65.0,152.0,83.0,72.0,120.0,116.0,141.0,47.0,84.0,157.0,115.0,175.0,87.0,132.0,133.0,121.0,244.0,96.0,173.0,104.0,128.0,80.0,211.0,172.0,128.0,178.0,114.0,119.0,144.0,65.0,160.0,213.0,150.0,119.0,127.0,100.0,146.0,39.0,157.0,71.0,204.0,149.0,375.0,35.0,136.0,131.0,115.0,247.0,35.0,111.0,205.0,103.0,180.0,93.0,109.0,145.0,93.0,144.0,151.0,65.0,116.0,130.0,191.0,204.0,145.0,124.0,55.0,101.0,79.0,207.0,96.0,71.0,118.0,151.0,116.0,118.0,133.0,122.0,113.0,135.0],\"xaxis\":\"x\",\"y\":[1035000.0,1465000.0,1600000.0,1876000.0,1636000.0,1097000.0,1350000.0,750000.0,1310000.0,1200000.0,1176500.0,890000.0,1330000.0,500000.0,1100000.0,1315000.0,1447500.0,1135000.0,1290000.0,470000.0,1180000.0,1195000.0,1012500.0,1030000.0,840000.0,730000.0,770000.0,603000.0,700000.0,600000.0,500000.0,725000.0,450000.0,515000.0,530000.0,895000.0,805000.0,752000.0,700000.0,830000.0,675000.0,1042000.0,773000.0,810000.0,715000.0,540000.0,825000.0,685000.0,900000.0,1275000.0,2850000.0,1850000.0,1436000.0,2300000.0,1800000.0,2120000.0,1800000.0,2615000.0,1370000.0,1322500.0,1562500.0,2000000.0,3010000.0,2800000.0,2100000.0,2000000.0,442500.0,4735000.0,2140000.0,980000.0,1740000.0,985000.0,2000000.0,1717500.0,2840000.0,525500.0,805000.0,1830000.0,2100000.0,865000.0,390000.0,512000.0,1900000.0,1950000.0,520000.0,1525000.0,720000.0,1120000.0,1780000.0,630000.0,660000.0,580000.0,1335000.0,510000.0,425000.0,391000.0,845000.0,730000.0,447000.0,678000.0,580000.0,840000.0,577000.0,857000.0,730000.0,535600.0,1085000.0,781000.0,421000.0,683000.0,720000.0,588000.0,710000.0,875000.0,675000.0,708000.0,693000.0,620000.0,728500.0,931000.0,815000.0,1200000.0,292000.0,599000.0,995000.0,1205000.0,1939000.0,1870000.0,1918000.0,2050000.0,735000.0,1435000.0,280000.0,592500.0,1210000.0,2801000.0,1800000.0,2200000.0,5525000.0,440000.0,1300000.0,704000.0,620000.0,1900000.0,710000.0,598000.0,1285000.0,520000.0,3625000.0,4200000.0,1101000.0,3512500.0,869000.0,567000.0,940000.0,467000.0,1380000.0,490000.0,1850000.0,971000.0,710000.0,2425000.0,750000.0,1053000.0,1377000.0,970000.0,751000.0,950000.0,685000.0,1230000.0,770000.0,890000.0,1440000.0,1000000.0,1435000.0,390000.0,1425000.0,1340000.0,955000.0,1100000.0,432000.0,1640000.0,1430000.0,610000.0,940000.0,890000.0,1180000.0,1480000.0,865000.0,442000.0,1037500.0,1050000.0,440000.0,1430000.0,1130000.0,1135000.0,950000.0,390000.0,1345000.0,1381500.0,940000.0,995000.0,786000.0,705000.0,760000.0,1000000.0,1305000.0,1215000.0,545000.0,1705000.0,2650000.0,1670000.0,2050000.0,1555000.0,1100000.0,1337000.0,2950000.0,1518000.0,1710000.0,1655000.0,1550000.0,1662000.0,1665000.0,3510000.0,900000.0,2752000.0,1500000.0,1800000.0,1830000.0,1415000.0,1440000.0,1250000.0,1600000.0,1860000.0,1790000.0,1950000.0,1650000.0,1200000.0,1075000.0,1500000.0,700000.0,761000.0,1365000.0,1100000.0,690000.0,1631000.0,1500000.0,1529500.0,600000.0,1240000.0,700000.0,1110000.0,1305000.0,855000.0,900500.0,1200000.0,830000.0,850000.0,750000.0,851000.0,1155000.0,680000.0,627500.0,950000.0,705000.0,1100000.0,892500.0,522500.0,680000.0,875000.0,762000.0,411000.0,805000.0,634000.0,1819000.0,410000.0,1015000.0,502500.0,520000.0,442000.0,1193000.0,416000.0,474000.0,981000.0,1690000.0,540000.0,2100000.0,1800000.0,1255000.0,1070000.0,2570000.0,2400000.0,806000.0,4000000.0,2250000.0,2800000.0,1850000.0,700000.0,500000.0,2125000.0,1800000.0,635000.0,526000.0,905000.0,1750000.0,760000.0,1367000.0,1400000.0,3270000.0,625000.0,2730000.0,460000.0,1053000.0,1472000.0,754000.0,2188000.0,755000.0,3290000.0,2410000.0,650000.0,2000000.0,1900000.0,3401000.0,1750000.0,3020000.0,2450000.0,730000.0,1500000.0,1700000.0,1315000.0,1500000.0,3230000.0,1905000.0,3300000.0,1900000.0,2251000.0,2205000.0,1265000.0,1750000.0,1450000.0,2614000.0,1825000.0,3250000.0,1150000.0,1572000.0,1750000.0,1850000.0,2130000.0,3690000.0,1740000.0,2575000.0,1388800.0,1800000.0,2910000.0,2200000.0,1700000.0,1230000.0,2600000.0,1950000.0,1750000.0,2000000.0,1480000.0,1818000.0,2525000.0,3360000.0,1903000.0,1720000.0,1675000.0,1680000.0,4000000.0,2205000.0,2100000.0,685000.0,1335000.0,1900000.0,1040000.0,1250000.0,1875000.0,1530000.0,1700000.0,1651000.0,1920000.0,1560000.0,1038000.0,1660000.0,1770000.0,691500.0,875000.0,1425000.0,851000.0,1222500.0,1317500.0,360000.0,1435000.0,1110000.0,2435000.0,1500000.0,1300000.0,1125000.0,1328000.0,1340000.0,1155000.0,1275000.0,855000.0,650000.0,1815000.0,2255000.0,855000.0,1860000.0,725000.0,1293000.0,1328000.0,1247000.0,1370000.0,1095000.0,725000.0,825000.0,1235000.0,1165000.0,1910000.0,820000.0,1430000.0,910000.0,2520000.0,1900000.0,670000.0,680000.0,1320000.0,1900000.0,1535000.0,1281000.0,1385000.0,2620000.0,825000.0,746000.0,1275000.0,1025000.0,495000.0,1220000.0,885000.0,830000.0,1210000.0,1160000.0,1215000.0,1200000.0,1050000.0,950000.0,380000.0,1338000.0,651000.0,1390000.0,1100000.0,1206000.0,486500.0,1415000.0,1185000.0,1060000.0,845000.0,860000.0,921000.0,742500.0,920000.0,702000.0,805000.0,1100000.0,1050000.0,722000.0,930000.0,921000.0,1035000.0,1352000.0,1005000.0,1600000.0,1200000.0,780000.0,1250000.0,1110000.0,1690000.0,791000.0,900000.0,970000.0,823000.0,1045000.0,655000.0,1550000.0,835000.0,1465000.0,910000.0,920000.0,935000.0,977000.0,1352000.0,1115000.0,1197000.0,485000.0,1365000.0,1698888.0,965000.0,870000.0,1161000.0,1266000.0,700000.0,1325000.0,770000.0,380000.0,1175000.0,1200000.0,1370000.0,1433500.0,860000.0,715000.0,710000.0,1550000.0,790000.0,1020000.0,886000.0,1015000.0,1255000.0,1320000.0,870000.0,1472500.0,640000.0,1620000.0,645000.0,1560000.0,1715000.0,1200000.0,1760000.0,948000.0,465000.0,975000.0,1325000.0,750000.0,1400000.0,1500000.0,1600000.0,1461400.0,775000.0,1670000.0,4000000.0,928000.0,636000.0,1170000.0,1670000.0,857000.0,822500.0,645000.0,502000.0,495000.0,868000.0,645000.0,652000.0,850000.0,575000.0,882000.0,730000.0,610000.0,696000.0,579000.0,765000.0,475000.0,550000.0,495000.0,565000.0,1635000.0,3695000.0,536000.0,3700000.0,1975000.0,1390000.0,2905000.0,1300000.0,1725000.0,2100000.0,800000.0,1761000.0,1302500.0,2750000.0,892500.0,2145000.0,3171000.0,620000.0,1475000.0,1650000.0,1562500.0,2050000.0,3320000.0,1100000.0,1650000.0,1570000.0,1785000.0,1875000.0,1266000.0,2730000.0,3295888.0,375000.0,756000.0,2100000.0,2375000.0,1385000.0,858000.0,2800000.0,3700000.0,2475000.0,2700000.0,3900000.0,610000.0,1532000.0,1037000.0,3050000.0,1630000.0,2640000.0,671000.0,2250000.0,2900000.0,2405000.0,1352500.0,3105000.0,1500000.0,1940000.0,1850000.0,930000.0,1310000.0,2504000.0,1445000.0,1825000.0,1700000.0,1400000.0,1500000.0,1400000.0,1600000.0,1780000.0,1200000.0,775000.0,1480000.0,1590000.0,2840000.0,1000000.0,1700000.0,3207000.0,880000.0,1920000.0,1301000.0,2550000.0,1915000.0,1650000.0,1530000.0,2050000.0,2550000.0,905000.0,1355000.0,1845000.0,2050000.0,1710000.0,1300000.0,2200000.0,2150000.0,681000.0,1310000.0,340000.0,692000.0,1367000.0,903000.0,2820000.0,1813000.0,1655000.0,1230000.0,1389000.0,2310000.0,1014000.0,1026000.0,1802500.0,1500000.0,2230000.0,410000.0,272500.0,680000.0,400000.0,950000.0,845500.0,605000.0,445000.0,659500.0,600000.0,1115000.0,1125000.0,855000.0,940000.0,750000.0,1056000.0,880000.0,1222500.0,955000.0,587000.0,1060000.0,890000.0,685000.0,976000.0,641000.0,770000.0,279500.0,1800000.0,1350000.0,1320000.0,825000.0,1261000.0,1045000.0,1044000.0,1050000.0,1691500.0,1075000.0,501000.0,1260000.0,1650000.0,601000.0,1015000.0,625000.0,1700000.0,435000.0,2500000.0,860000.0,491000.0,985000.0,1250000.0,641000.0,860000.0,705000.0,880000.0,754000.0,590000.0,575000.0,1510000.0,801000.0,820000.0,370000.0,1170000.0,1790000.0,640000.0,1875000.0,1053000.0,705000.0,1217000.0,1020000.0,1340000.0,1410000.0,1550000.0,740000.0,592500.0,370000.0,765000.0,772000.0,1210000.0,1755000.0,945000.0,755000.0,521500.0,1190000.0,471000.0,265000.0,955000.0,1350000.0,380000.0,300000.0,810000.0,793000.0,400000.0,400500.0,797500.0,1300000.0,1330000.0,1205000.0,380000.0,1095000.0,680000.0,711000.0,500000.0,385000.0,370000.0,320000.0,330000.0,1200000.0,537000.0,910000.0,285000.0,921500.0,1315000.0,370000.0,735000.0,1000000.0,252000.0,1700000.0,820000.0,370000.0,484000.0,815000.0,1150000.0,497000.0,440000.0,816000.0,970000.0,851000.0,1300000.0,1235000.0,1303000.0,880000.0,975000.0,990000.0,1225000.0,1490000.0,905000.0,1085000.0,787000.0,1075000.0,1302000.0,1050000.0,1000000.0,1300000.0,990000.0,1100000.0,903000.0,1590000.0,1890000.0,1022500.0,1755000.0,1300000.0,1160000.0,2000000.0,790000.0,1682000.0,625000.0,650000.0,1060000.0,1255000.0,633000.0,1350000.0,570000.0,745000.0,2150000.0,746000.0,1540000.0,1270000.0,900000.0,1250000.0,1410000.0,800000.0,702000.0,2650000.0,729000.0,2600000.0,1650000.0,615000.0,1987000.0,683000.0,1690000.0,430000.0,2600000.0,2325000.0,435000.0,2000000.0,1302000.0,1622000.0,502000.0,435000.0,591000.0,2608000.0,1780000.0,2250000.0,895000.0,1800000.0,900000.0,2700000.0,530000.0,2228000.0,1602500.0,2177000.0,3400000.0,2105000.0,1625000.0,3300000.0,667000.0,2015000.0,700000.0,3225000.0,3320000.0,2125000.0,2030000.0,2750000.0,2000000.0,2250000.0,2740000.0,2950000.0,1587500.0,830000.0,2375000.0,2900000.0,2200000.0,2620000.0,1305000.0,928000.0,2930000.0,2950000.0,722000.0,2350000.0,1640000.0,1680000.0,3550000.0,3400000.0,1850000.0,3145000.0,1425000.0,2950000.0,2175000.0,800000.0,2718000.0,2400000.0,2520000.0,2050000.0,1950000.0,437000.0,520000.0,570000.0,820000.0,795000.0,600000.0,1295000.0,510000.0,346000.0,860000.0,772000.0,1506000.0,675000.0,525000.0,290000.0,360000.0,967500.0,330000.0,1600000.0,1008000.0,1170000.0,1830000.0,250000.0,930000.0,465000.0,1550000.0,707000.0,804000.0,1501000.0,970000.0,817500.0,1450000.0,855000.0,675000.0,588000.0,455000.0,920000.0,656000.0,930000.0,415000.0,650000.0,1360000.0,350000.0,1430000.0,1490000.0,1125000.0,405000.0,1655000.0,808000.0,370000.0,1880000.0,585000.0,450000.0,860000.0,605000.0,1518000.0,632500.0,435000.0,468250.0,1716000.0,365000.0,722500.0,550000.0,131000.0,1750000.0,580000.0,2005000.0,420000.0,290000.0,1400000.0,450000.0,536000.0,550000.0,2170000.0,1577500.0,1460000.0,275500.0,1065000.0,1030000.0,1225000.0,1450000.0,1774500.0,525500.0,825000.0,1262000.0,1340000.0,1200000.0,1001000.0,1330000.0,1570000.0,1916000.0,890000.0,700000.0,865000.0,1042500.0,1002000.0,650000.0,965000.0,1301000.0,1415500.0,1260000.0,1000000.0,845000.0,881000.0,780000.0,1060000.0,930000.0,1075000.0,1105000.0,1209000.0,3010000.0,1435000.0,1290000.0,495000.0,1370000.0,1450000.0,885500.0,825000.0,1506000.0,1360000.0,850000.0,784000.0,680000.0,807000.0,675000.0,1202000.0,1370000.0,1000000.0,145000.0,860000.0,953000.0,735000.0,947000.0,500000.0,466000.0,740000.0,812000.0,766000.0,825000.0,1131000.0,1064000.0,1210000.0,434000.0,653000.0,640000.0,1130000.0,763000.0,903000.0,1000000.0,1742000.0,865000.0,485000.0,1278000.0,590000.0,1136000.0,635000.0,1400000.0,1260000.0,841000.0,537500.0,598000.0,1120000.0,870000.0,680000.0,825000.0,725000.0,1250000.0,1008000.0,990000.0,451000.0,635000.0,1020000.0,1025000.0,700000.0,1130000.0,1075000.0,600000.0,1150000.0,515000.0,472000.0,901000.0,605000.0,687000.0,975000.0,1370000.0,700000.0,810000.0,838000.0,1150000.0,931000.0,241000.0,981000.0,570000.0,500000.0,655000.0,631000.0,600000.0,715000.0,864000.0,700000.0,591000.0,860000.0,765000.0,625000.0,745000.0,1050000.0,935000.0,820000.0,780000.0,707000.0,637000.0,950000.0,860000.0,1172000.0,650000.0,792000.0,720000.0,970000.0,890000.0,1260000.0,855000.0,1125000.0,910000.0,452000.0,415000.0,372000.0,1326000.0,1230000.0,855000.0,457000.0,897500.0,1265000.0,1075000.0,366000.0,981000.0,683000.0,1000000.0,887500.0,713500.0,1500000.0,672000.0,800000.0,1645000.0,860000.0,1403000.0,1450000.0,1396000.0,1125000.0,700000.0,1152000.0,1868000.0,1050000.0,910000.0,1850000.0,1225000.0,1316000.0,1400000.0,2168000.0,1430000.0,772000.0,1468000.0,753000.0,746000.0,1485000.0,1190000.0,900000.0,1250000.0,1030000.0,985000.0,1300000.0,1462500.0,1250000.0,1460800.0,1152500.0,1650000.0,1391000.0,452000.0,1102200.0,1401000.0,1782000.0,1520000.0,878000.0,973500.0,751800.0,1100000.0,1202000.0,1362000.0,1810000.0,1901000.0,1650000.0,1816000.0,525000.0,2050000.0,1930000.0,2600000.0,600000.0,1601000.0,1100000.0,2550000.0,1190000.0,2012000.0,2309000.0,900000.0,1625000.0,1100000.0,1755000.0,1400000.0,1240000.0,591000.0,537000.0,800000.0,965000.0,1160000.0,820000.0,2600000.0,1071000.0,1800000.0,2345000.0,741000.0,626000.0,1650000.0,850000.0,1750000.0,1450000.0,2806000.0,782000.0,1007000.0,1450000.0,500000.0,2600000.0,895000.0,2050000.0,1605000.0,520000.0,507000.0,525000.0,750000.0,510000.0,300000.0,1395000.0,855000.0,790000.0,550000.0,357000.0,1210000.0,825000.0,1050000.0,632000.0,485000.0,575000.0,590000.0,1238000.0,510000.0,1875000.0,780000.0,878500.0,3572000.0,560000.0,765000.0,670000.0,1625000.0,1122000.0,2400000.0,655000.0,684000.0,500000.0,680000.0,600000.0,370000.0,390000.0,630000.0,640000.0,932000.0,645000.0,347000.0,875000.0,582500.0,570000.0,1875000.0,340000.0,2200000.0,687500.0,730000.0,526000.0,920000.0,1830000.0,1425000.0,660000.0,550000.0,1295000.0,595000.0,911000.0,900000.0,645000.0,702500.0,960000.0,1670000.0,1100000.0,1800000.0,1250000.0,1130000.0,370000.0,1467000.0,2800000.0,1160000.0,2620000.0,1226000.0,1402000.0,855000.0,1275000.0,1590000.0,606000.0,1385000.0,650000.0,460000.0,1000000.0,520000.0,720000.0,1635000.0,485000.0,1575000.0,280000.0,1467000.0,890000.0,870000.0,1134000.0,320500.0,1065000.0,1610000.0,930000.0,395000.0,1470000.0,750000.0,390000.0,1170000.0,1600000.0,1535000.0,435000.0,1460000.0,736000.0,450000.0,740000.0,691000.0,2355000.0,1625000.0,1150000.0,360000.0,645000.0,250000.0,872000.0,630000.0,440000.0,1811000.0,1500000.0,1290000.0,1100000.0,1270000.0,1445000.0,1113000.0,370000.0,396000.0,450000.0,1360000.0,340000.0,765000.0,712000.0,1250000.0,1350000.0,1220000.0,1160000.0,505000.0,602000.0,846000.0,400000.0,445000.0,1730000.0,510000.0,1350000.0,2000000.0,805000.0,1055000.0,548000.0,1500000.0,600000.0,545000.0,1375000.0,1252000.0,810000.0,947500.0,1460000.0,880000.0,3310000.0,1250000.0,1950000.0,465000.0,1620000.0,850000.0,1122000.0,1300000.0,420000.0,715000.0,800000.0,710000.0,630000.0,4011000.0,700000.0,860000.0,870000.0,1450000.0,358500.0,770000.0,1008000.0,1015000.0,1371000.0,1286000.0,1600000.0,1950000.0,3400000.0,1785000.0,1210000.0,1275000.0,1290000.0,750000.0,675000.0,1700000.0,1080000.0,1222500.0,937500.0,1300000.0,1300000.0,2150000.0,1581000.0,602000.0,650000.0,1450000.0,365000.0,425000.0,391000.0,1130000.0,1110000.0,918000.0,730000.0,855000.0,1012000.0,395000.0,556000.0,345000.0,1100000.0,395000.0,1115000.0,420500.0,1225000.0,1003000.0,840000.0,1362000.0,977000.0,216000.0,876000.0,227000.0,841000.0,605000.0,305000.0,480000.0,910000.0,291000.0,752000.0,1155000.0,853000.0,480000.0,775000.0,281000.0,1300000.0,714000.0,950000.0,760000.0,420000.0,932000.0,780000.0,295000.0,433000.0,410000.0,1170000.0,375000.0,747000.0,775000.0,571000.0,305000.0,860500.0,370000.0,711000.0,690500.0,747000.0,858000.0,699000.0,835000.0,661000.0,757500.0,282000.0,699000.0,850000.0,315000.0,740000.0,980000.0,316000.0,760000.0,735000.0,1225000.0,767500.0,395000.0,815000.0,757000.0,1450000.0,745000.0,716000.0,1735000.0,3400000.0,3730000.0,1800000.0,1998000.0,671000.0,1425000.0,1530000.0,1900000.0,1360000.0,2175000.0,2325000.0,2538000.0,2300000.0,550000.0,1600000.0,2115000.0,1700000.0,2077000.0,2850000.0,411000.0,2020000.0,2010000.0,2975000.0,452000.0,1820000.0,291000.0,2376000.0,1456000.0,345000.0,2000000.0,585000.0,1700000.0,1375000.0,920000.0,382000.0,1280000.0,2825000.0,2825000.0,1825000.0,3085000.0,1600000.0,2352500.0,3860000.0,2625000.0,1950000.0,2200000.0,1751000.0,1857000.0,720000.0,1500000.0,2725000.0,2800000.0,1665000.0,600000.0,1420000.0,2410000.0,2100000.0,2950000.0,3365000.0,1931000.0,1250000.0,2400000.0,610000.0,610000.0,806500.0,550000.0,822000.0,980000.0,430000.0,540000.0,737000.0,460000.0,545000.0,670000.0,702000.0,730000.0,711500.0,810000.0,250000.0,460000.0,793000.0,340000.0,447500.0,588000.0,420000.0,410000.0,525000.0,703000.0,608000.0,607000.0,765500.0,470000.0,580000.0,620250.0,710000.0,630000.0,600000.0,550000.0,600000.0,1217500.0,600000.0,570000.0,762700.0,465000.0,741250.0,1000000.0,630000.0,670000.0,417000.0,600000.0,440000.0,660000.0,270000.0,825000.0,638000.0,631000.0,532000.0,504000.0,468000.0,802500.0,709000.0,485000.0,540000.0,390000.0,800000.0,740000.0,605000.0,685500.0,610000.0,630000.0,870000.0,810000.0,487000.0,700000.0,600500.0,730000.0,800000.0,750000.0,740000.0,646000.0,545000.0,777000.0,722000.0,545000.0,510000.0,631500.0,550000.0,330000.0,715888.0,468000.0,515000.0,895000.0,587000.0,2800000.0,3250000.0,2140000.0,1600000.0,1003500.0,802000.0,1560000.0,760000.0,616000.0,1680000.0,1120000.0,3200000.0,1250000.0,2000000.0,1805000.0,2600000.0,3470000.0,1050000.0,810000.0,1460000.0,3075000.0,875500.0,2600000.0,1705000.0,1515000.0,2980000.0,2200000.0,1100000.0,3325000.0,450000.0,500000.0,1460000.0,1740000.0,1800000.0,2160000.0,2250000.0,2130000.0,400000.0,926000.0,1070000.0,801000.0,1150000.0,472000.0,1300000.0,1200000.0,1650000.0,2670000.0,348000.0,1189000.0,610000.0,492000.0,806000.0,2000000.0,753000.0,330000.0,1420000.0,495000.0,292000.0,580000.0,1300000.0,1300000.0,440000.0,1000000.0,1741000.0,655000.0,488000.0,2065000.0,350000.0,1712000.0,480000.0,3225000.0,400000.0,1650000.0,3950000.0,587500.0,560000.0,1936000.0,4250000.0,630000.0,1560000.0,840000.0,1780000.0,815000.0,1975000.0,657500.0,5050000.0,445000.0,1180000.0,470000.0,485000.0,1800000.0,1855000.0,665000.0,1551000.0,612500.0,2410000.0,715000.0,1055000.0,1976000.0,499000.0,495000.0,3750000.0,1400000.0,370000.0,627500.0,815000.0,565000.0,994000.0,785000.0,620000.0,706750.0,584000.0,909000.0,1086000.0,680000.0,650000.0,890000.0,650000.0,605000.0,770000.0,950000.0,856000.0,600000.0,915000.0,400000.0,550000.0,590000.0,920000.0,460000.0,1000500.0,631000.0,691000.0,560000.0,370000.0,532000.0,515500.0,800000.0,620000.0,360000.0,440500.0,758000.0,480000.0,715000.0,646250.0,1375000.0,722000.0,725000.0,465000.0,1550000.0,516000.0,1340000.0,1316000.0,828000.0,1055000.0,623000.0,2120000.0,1745000.0,1700000.0,420000.0,1337000.0,455000.0,400000.0,1210000.0,1167500.0,900000.0,677500.0,2265000.0,981000.0,2400000.0,890000.0,739000.0,785000.0,1155000.0,1020000.0,1465000.0,855000.0,413000.0,1220000.0,1605000.0,587000.0,1535000.0,1470000.0,1486000.0,1730000.0,1850000.0,2600000.0,500000.0,1102000.0,1275000.0,785000.0,1223500.0,1720000.0,1225000.0,1460000.0,421000.0,2090000.0,700000.0,2595000.0,710000.0,650000.0,515000.0,582000.0,545000.0,751000.0,500000.0,560000.0,703000.0,650000.0,770000.0,900000.0,700000.0,816000.0,845000.0,772000.0,650000.0,757000.0,690000.0,583000.0,880000.0,580000.0,886000.0,920000.0,976000.0,1420000.0,900000.0,560000.0,1010000.0,835000.0,705000.0,680000.0,785000.0,695000.0,502000.0,770000.0,570000.0,830000.0,600000.0,825000.0,735000.0,875000.0,601200.0,680000.0,705000.0,710000.0,732000.0,715000.0,852000.0,1037000.0,1470000.0,492500.0,420000.0,420000.0,1271000.0,1010000.0,750000.0,905000.0,960000.0,1031000.0,870000.0,1165000.0,1710000.0,1455000.0,365000.0,442000.0,765000.0,515000.0,370000.0,1234500.0,666000.0,825000.0,812000.0,1900000.0,445000.0,732000.0,1260000.0,1000000.0,1155000.0,790000.0,700000.0,1230000.0,460000.0,395000.0,850000.0,868000.0,773000.0,631090.0,410000.0,425000.0,610000.0,882000.0,3550000.0,1326000.0,1950000.0,2550000.0,1878000.0,1910000.0,1410000.0,2310000.0,2315000.0,800000.0,4850000.0,6500000.0,580000.0,1905000.0,478000.0,672000.0,2286000.0,1575000.0,590000.0,2350000.0,1312000.0,890000.0,1331000.0,1800000.0,1476000.0,2590000.0,2625000.0,2265000.0,1975000.0,2550000.0,1330000.0,1450000.0,3650000.0,551000.0,2460000.0,2850000.0,2425000.0,610000.0,955000.0,707500.0,732000.0,2875000.0,1500000.0,1750000.0,1100000.0,1440000.0,2560000.0,2600000.0,3280000.0,620000.0,2600000.0,2800000.0,1420000.0,1800000.0,395000.0,2250000.0,1950000.0,605000.0,1920000.0,1615000.0,2081000.0,1315000.0,1750000.0,2100000.0,1300000.0,1315000.0,1620000.0,615000.0,715000.0,826000.0,275000.0,711000.0,695000.0,490000.0,502000.0,721000.0,840000.0,335000.0,832000.0,646000.0,673000.0,695000.0,349000.0,555000.0,352500.0,1350000.0,510000.0,490000.0,675000.0,865000.0,600000.0,773000.0,2050000.0,3460000.0,2400000.0,2025000.0,611000.0,3800000.0,1390000.0,2415000.0,566000.0,1437000.0,500000.0,3400000.0,2355000.0,4240000.0,1326000.0,4525000.0,1965000.0,3470000.0,740000.0,2325000.0,1970000.0,1475000.0,584000.0,1490000.0,1210000.0,2355000.0,1036000.0,2273000.0,2350000.0,2200000.0,790000.0,1185000.0,1837000.0,1253000.0,922000.0,4802500.0,350000.0,1555000.0,2123000.0,1700000.0,1150000.0,2001000.0,1915000.0,1135000.0,1240000.0,1120000.0,1500000.0,707500.0,835000.0,1870000.0,1580000.0,820000.0,480000.0,1680000.0,300000.0,1100000.0,373000.0,2560000.0,960000.0,315000.0,1297000.0,1015000.0,523000.0,1335000.0,425000.0,1670000.0,1350000.0,1650000.0,950000.0,1782500.0,650000.0,975000.0,560000.0,355000.0,550000.0,420000.0,399000.0,1105000.0,730000.0,662500.0,410000.0,920000.0,1320000.0,1150000.0,847000.0,400000.0,1072000.0,510000.0,865000.0,570000.0,1900000.0,429000.0,456000.0,566000.0,408000.0,470000.0,780000.0,440000.0,1048700.0,400000.0,1215000.0,1180000.0,1117000.0,420000.0,770000.0,1151000.0,907000.0,570000.0,820000.0,940000.0,1030000.0,1230000.0,884500.0,820000.0,780000.0,535000.0,450000.0,360000.0,665000.0,386000.0,659000.0,545000.0,450000.0,432000.0,750000.0,375000.0,680000.0,470000.0,483000.0,700000.0,520000.0,440000.0,733000.0,760000.0,360000.0,2600000.0,2350000.0,535000.0,700000.0,3120000.0,1025000.0,1920000.0,2623000.0,1500000.0,1630000.0,1910000.0,1320000.0,750000.0,2588000.0,1400000.0,2200000.0,1310000.0,2335000.0,1815000.0,725000.0,3900000.0,1200000.0,1564000.0,520000.0,670000.0,1055000.0,348000.0,1780000.0,1440000.0,1225000.0,1445000.0,990000.0,1550000.0,1170000.0,1120000.0,1530000.0,832000.0,420000.0,2400000.0,565000.0,550000.0,1211000.0,1630000.0,1160000.0,1361500.0,945000.0,360000.0,860000.0,1637000.0,1505000.0,515000.0,330000.0,1322000.0,1015000.0,840000.0,1900000.0,2340000.0,1400000.0,1640000.0,1480000.0,410000.0,980000.0,842500.0,1345000.0,265000.0,849000.0,1425000.0,1345000.0,330000.0,726000.0,1250000.0,870000.0,1725000.0,600000.0,1505000.0,850000.0,292000.0,1740000.0,470000.0,1130000.0,930000.0,336000.0,800000.0,1224000.0,1000000.0,380500.0,1090000.0,836000.0,1417250.0,950000.0,1140000.0,750000.0,1000000.0,1200000.0,987000.0,937000.0,1426000.0,1016000.0,901000.0,1300000.0,975000.0,1070000.0,639000.0,605000.0,960000.0,725000.0,800000.0,917000.0,890000.0,1008000.0,1191000.0,776000.0,1035000.0,1160000.0,240000.0,1105000.0,826000.0,900000.0,962000.0,800000.0,710000.0,940000.0,655800.0,1082000.0,1210000.0,880000.0,335000.0,1260000.0,1400000.0,995000.0,962000.0,800000.0,1305000.0,485000.0,810000.0,1620000.0,923000.0,1030000.0,1046000.0,740000.0,970000.0,735000.0,485000.0,950000.0,1280000.0,1040000.0,1115000.0,1176000.0,1265000.0,801000.0,770000.0,993000.0,650000.0,891500.0,805000.0,680000.0,793000.0,747000.0,896000.0,890000.0,930000.0,1151000.0,820000.0,816000.0,945000.0,643700.0,760000.0,881000.0,900000.0,830000.0,1126000.0,1235000.0,457000.0,660000.0,770000.0,1350000.0,820000.0,991000.0,657000.0,710000.0,840000.0,1400000.0,1080000.0,1015000.0,1245000.0,1105000.0,2920000.0,540000.0,726000.0,1340000.0,1105000.0,841000.0,528500.0,410000.0,550000.0,470000.0,640000.0,720000.0,1325000.0,368000.0,450000.0,1385000.0,990000.0,606000.0,450000.0,1470000.0,1010000.0,1266000.0,620000.0,630000.0,560000.0,665500.0,550055.0,358000.0,320000.0,1000000.0,598000.0,885000.0,587134.0,1286000.0,1200000.0,1382500.0,1600000.0,1710000.0,2000000.0,583000.0,650000.0,1700000.0,1575000.0,950000.0,1655000.0,1255000.0,1020000.0,435000.0,790000.0,605000.0,385000.0,1190000.0,865000.0,2175000.0,312000.0,890000.0,2700000.0,1101000.0,1050000.0,1010000.0,1900000.0,888000.0,1020000.0,844000.0,900000.0,1300000.0,810000.0,701000.0,665000.0,2315000.0,1170000.0,1715000.0,422000.0,1474000.0,1035000.0,460000.0,1760000.0,1095000.0,1225000.0,1211000.0,770000.0,1000000.0,1050000.0,1700000.0,2160000.0,400000.0,1420000.0,1950000.0,1820000.0,1080000.0,570000.0,1340000.0,2340000.0,1634000.0,910000.0,1650000.0,1510000.0,865000.0,476000.0,706000.0,920000.0,522000.0,690000.0,770000.0,1100000.0,475000.0,651000.0,815500.0,770000.0,585500.0,840000.0,470000.0,810000.0,855333.0,900000.0,875000.0,651000.0,802000.0,900000.0,1000000.0,801347.0,921000.0,1900000.0,752500.0,1067000.0,1260500.0,850500.0,1068000.0,937500.0,1126000.0,778000.0,1230000.0,1805000.0,2200000.0,1265000.0,1928000.0,526000.0,2236000.0,1403000.0,1120000.0,770000.0,975000.0,780000.0,600000.0,955000.0,1196000.0,731000.0,585000.0,480000.0,605000.0,738000.0,386000.0,452000.0,522500.0,741000.0,530000.0,815000.0,775000.0,950000.0,900000.0,835000.0,790000.0,810000.0,500000.0,485000.0,488000.0,900000.0,680000.0,590000.0,770000.0,975000.0,970000.0,600000.0,510000.0,750000.0,822000.0,430000.0,1350000.0,810000.0,550500.0,610000.0,533000.0,410000.0,600000.0,616000.0,960000.0,985000.0,670000.0,665000.0,880000.0,700000.0,600000.0,1570000.0,525500.0,612500.0,248500.0,960000.0,650000.0,500000.0,599000.0,1150000.0,985000.0,1200000.0,2200000.0,2105000.0,550000.0,1915000.0,1630000.0,1000000.0,1470000.0,725000.0,600000.0,1342000.0,500000.0,795000.0,590000.0,1100000.0,1275000.0,1000000.0,1820000.0,655000.0,1350000.0,1560000.0,1060000.0,1610000.0,1101000.0,880000.0,1080000.0,1115000.0,516000.0,1753000.0,900000.0,2350000.0,1670000.0,1402000.0,1570000.0,1150000.0,1384000.0,655000.0,456000.0,520000.0,470000.0,600000.0,670000.0,1400000.0,1520000.0,600000.0,2460000.0,3705000.0,950000.0,1350000.0,735000.0,400000.0,900000.0,1380000.0,1080000.0,342000.0,950000.0,781000.0,549800.0,492000.0,500500.0,1400000.0,685000.0,710000.0,330000.0,1245000.0,1182500.0,1303000.0,482500.0,585000.0,1106000.0,1590000.0,1055000.0,1100000.0,530000.0,1500000.0,841000.0,570000.0,560000.0,815000.0,910000.0,1450000.0,1540000.0,1811000.0,1180000.0,1720000.0,1050000.0,1582000.0,681000.0,1305000.0,1255000.0,2180000.0,1720000.0,1220000.0,1612000.0,1250000.0,930000.0,751000.0,715000.0,837000.0,950000.0,496000.0,850000.0,540000.0,1150000.0,615000.0,735000.0,810000.0,600000.0,1650000.0,600000.0,722000.0,1260000.0,485000.0,690000.0,1065000.0,1200000.0,530000.0,900000.0,700000.0,920000.0,980000.0,886000.0,1080000.0,1400000.0,660000.0,436000.0,876000.0,910000.0,714000.0,770000.0,810000.0,1127000.0,780000.0,986000.0,760000.0,1123000.0,300000.0,890000.0,425000.0,515000.0,1040000.0,890000.0,790000.0,860000.0,630000.0,875000.0,923000.0,920000.0,871000.0,950000.0,870000.0,1186000.0,610000.0,1162500.0,1142500.0,930000.0,875000.0,840000.0,750000.0,750000.0,475000.0,415000.0,731000.0,352000.0,723000.0,336000.0,685000.0,1025000.0,490000.0,805000.0,1005000.0,535000.0,800000.0,510000.0,651000.0,365000.0,405000.0,620500.0,260000.0,625000.0,427500.0,851000.0,998000.0,1030000.0,410000.0,1015000.0,915000.0,380000.0,530000.0,592000.0,440000.0,650000.0,416000.0,301000.0,865000.0,650000.0,401000.0,491000.0,810000.0,555000.0,350000.0,540000.0,682000.0,380000.0,350000.0,750000.0,495000.0,500000.0,350000.0,335000.0,546000.0,400000.0,360000.0,410000.0,836000.0,440000.0,376000.0,323000.0,680000.0,530000.0,786000.0,390000.0,650000.0,800000.0,330000.0,539000.0,622500.0,767500.0,780000.0,668000.0,470000.0,655000.0,440000.0,703000.0,424000.0,613000.0,475000.0,950000.0,730000.0,905000.0,480000.0,767000.0,450000.0,921500.0,490000.0,787000.0,300000.0,335000.0,475000.0,440000.0,216000.0,220000.0,340000.0,395000.0,790000.0,601000.0,300000.0,420000.0,885000.0,815000.0,882500.0,793000.0,550000.0,433000.0,680000.0,851000.0,1025000.0,784000.0,1186000.0,885000.0,718500.0,762500.0,610000.0,680000.0,390000.0,937000.0,1260000.0,795250.0,582000.0,370000.0,421000.0,3200000.0,479000.0,655000.0,561000.0,635000.0,1010000.0,1025000.0,550000.0,1375000.0,1506000.0,1350000.0,405000.0,327000.0,1474000.0,1555000.0,500000.0,345000.0,1275000.0,1150000.0,950000.0,270000.0,439000.0,695000.0,512000.0,855000.0,1040000.0,342000.0,681000.0,900000.0,1250000.0,990000.0,1189000.0,1220000.0,1100000.0,450000.0,1074000.0,1430000.0,1465000.0,391000.0,930000.0,1182000.0,777500.0,1115000.0,760000.0,640000.0,1420000.0,390000.0,380000.0,680000.0,1081000.0,860000.0,905000.0,691000.0,1088000.0,911000.0,3001000.0,638000.0,900000.0,1695000.0,1365000.0,1045000.0,1591000.0,1275000.0,1510000.0,1550000.0,1456000.0,1100000.0,1045000.0,2000000.0,646000.0,660000.0,1145000.0,905000.0,750000.0,604000.0,1645000.0,306000.0,1270000.0,1850000.0,1650000.0,1320000.0,1651000.0,1800000.0,791500.0,1600000.0,1200000.0,1555000.0,1582000.0,2055000.0,1345000.0,410000.0,696000.0,1350000.0,807000.0,385000.0,1150000.0,1775000.0,1270000.0,827500.0,560000.0,790000.0,1212500.0,1125000.0,1520000.0,1101500.0,1020000.0,560000.0,1050000.0,531000.0,620000.0,780000.0,821000.0,915000.0,890000.0,430000.0,1012000.0,1020000.0,1270000.0,515000.0,867000.0,945000.0,618000.0,601000.0,908000.0,1145000.0,970000.0,1325000.0,450000.0,1330000.0,1075000.0,1350000.0,1201000.0,990000.0,720000.0,880000.0,920000.0,1395000.0,965000.0,920000.0,875000.0,822500.0,1080000.0,1275000.0,955000.0,1455000.0,533000.0,970000.0,355000.0,1032000.0,1270000.0,815000.0,593000.0,1600000.0,1620000.0,1270000.0,2633000.0,1405000.0,2260000.0,1595000.0,595000.0,490000.0,1250000.0,2180000.0,930000.0,1200000.0,2000000.0,2000000.0,1050000.0,1250000.0,1650000.0,561000.0,1825000.0,1200000.0,1390000.0,1615000.0,2300000.0,742000.0,2075000.0,722000.0,850000.0,1230000.0,535000.0,990000.0,695000.0,775000.0,572000.0,1460000.0,623500.0,409000.0,1250000.0,659000.0,780000.0,1455000.0,360500.0,1300000.0,1300000.0,380000.0,5700000.0,515000.0,2695000.0,310000.0,627500.0,425000.0,330000.0,693000.0,2285000.0,3000000.0,515000.0,600000.0,2600000.0,320000.0,400000.0,1810000.0,567500.0,540000.0,2010000.0,1945000.0,906000.0,367000.0,1130000.0,500000.0,310000.0,1100000.0,410000.0,1125000.0,840000.0,1400000.0,680500.0,280000.0,520000.0,1200000.0,480000.0,2200000.0,1700000.0,1200000.0,1540000.0,826000.0,1700000.0,505000.0,720000.0,868000.0,530000.0,650000.0,990000.0,592500.0,600000.0,455000.0,1250000.0,425000.0,740000.0,660000.0,622500.0,800000.0,540000.0,370000.0,855000.0,832500.0,850000.0,1080000.0,927000.0,850000.0,831000.0,840000.0,1315000.0,1161000.0,1016000.0,690000.0,1070000.0,871500.0,380000.0,430000.0,602000.0,575000.0,495000.0,500000.0,1891000.0,2000000.0,1500000.0,2000000.0,500000.0,685000.0,380000.0,616000.0,400000.0,451000.0,1400000.0,459000.0,520000.0,370500.0,5046000.0,385000.0,1900000.0,390000.0,500000.0,430000.0,392000.0,1900000.0,540000.0,475000.0,570000.0,400000.0,920000.0,503500.0,580000.0,1295000.0,481000.0,1120000.0,400000.0,1210000.0,785000.0,450000.0,875000.0,650000.0,431000.0,385000.0,575000.0,4400000.0,535000.0,1200500.0,565000.0,520000.0,902000.0,1600000.0,750000.0,1365000.0,1950000.0,1678000.0,400000.0,500000.0,760000.0,580000.0,430000.0,1100000.0,435000.0,354000.0,1025000.0,1430000.0,1330000.0,1635000.0,1194000.0,1440000.0,1300000.0,850000.0,1150000.0,910000.0,1430000.0,622500.0,1500000.0,1280000.0,1485000.0,1080000.0,1715000.0,2650000.0,630000.0,1370000.0,800000.0,950000.0,780000.0,1350500.0,745000.0,657500.0,1030000.0,460000.0,490000.0,890000.0,425000.0,715000.0,816000.0,425500.0,610000.0,600000.0,611000.0,670000.0,605000.0,930000.0,880000.0,570000.0,700000.0,625000.0,695000.0,910000.0,607000.0,679500.0,500000.0,895000.0,410000.0,635000.0,480000.0,435000.0,560000.0,626800.0,571500.0,605000.0,600000.0,650000.0,736000.0,735000.0,700000.0,1190000.0,591000.0,665000.0,620000.0,503000.0,1000000.0,560000.0,615000.0,450000.0,680000.0,620000.0,545000.0,621000.0,687000.0,485000.0,510000.0,500000.0,480000.0,621000.0,690000.0,547500.0,280000.0,555000.0,600000.0,622500.0,350000.0,657000.0,682000.0,520000.0,470000.0,586000.0,305000.0,705000.0,645000.0,500000.0,510000.0,750500.0,451000.0,2440000.0,1110000.0,2128000.0,2200000.0,640000.0,1700000.0,2500000.0,2200000.0,2860000.0,1930000.0,1812500.0,760000.0,1300000.0,1960000.0,2630000.0,880000.0,1755000.0,1700000.0,1975000.0,610000.0,1850000.0,2050000.0,2100000.0,1150000.0,770500.0,600000.0,2125000.0,656000.0,1518000.0,1560000.0,865000.0,2160000.0,2300000.0,600000.0,2180000.0,1251000.0,1650000.0,1835000.0,778500.0,1201000.0,1165000.0,742500.0,1101000.0,1200000.0,990000.0,1500000.0,1290000.0,790000.0,950000.0,1421000.0,1051000.0,1710000.0,1280000.0,750000.0,1000000.0,678000.0,1010000.0,1210000.0,945000.0,725000.0,1211000.0,1100000.0,1002000.0,1209000.0,2080000.0,1118000.0,903000.0,1220000.0,1650000.0,1182500.0,1020000.0,650000.0,1509000.0,517500.0,370000.0,805000.0,1428888.0,940000.0,270000.0,365000.0,525500.0,944000.0,887000.0,701000.0,1110000.0,332000.0,1265000.0,1085000.0,898000.0,1235000.0,910500.0,995000.0,760000.0,505000.0,1400000.0,1110000.0,1200000.0,450000.0,874000.0,1427000.0,383000.0,1290000.0,450000.0,438000.0,1250000.0,1070000.0,1570000.0,486000.0,1211000.0,1280000.0,1478000.0,1913000.0,928500.0,432500.0,330000.0,1370000.0,303500.0,1160000.0,1380000.0,1435000.0,5500000.0,5500000.0,1689000.0,1100000.0,925000.0,450000.0,349000.0,2650000.0,2820000.0,810000.0,2840000.0,2700000.0,6250000.0,4500000.0,541000.0,1550000.0,2205000.0,950000.0,366000.0,2620000.0,1900000.0,4000000.0,4200000.0,690000.0,511000.0,910000.0,2250000.0,525000.0,3270000.0,960000.0,1010000.0,880000.0,770000.0,730000.0,1005000.0,555000.0,546000.0,765000.0,920000.0,1025000.0,895000.0,820000.0,870000.0,1050000.0,660000.0,581000.0,600000.0,690000.0,582000.0,740000.0,671000.0,741000.0,537000.0,1040000.0,1171000.0,662000.0,922000.0,860500.0,702000.0,627500.0,549000.0,701000.0,645000.0,1010000.0,1260000.0,460000.0,2370000.0,800000.0,550000.0,660000.0,1055000.0,995000.0,443000.0,1120000.0,482000.0,620000.0,601000.0,1400000.0,1535000.0,890000.0,1800000.0,2910000.0,2910000.0,1200000.0,1460000.0,310000.0,1200000.0,1560000.0,1575000.0,830000.0,1470000.0,2230000.0,1460000.0,1330000.0,1010000.0,513500.0,1805000.0,1126000.0,935000.0,375000.0,2050000.0,1310000.0,491500.0,547500.0,1210000.0,412000.0,1630000.0,1482500.0,1300000.0,2255000.0,1710000.0,2440000.0,380000.0,367500.0,1225000.0,580000.0,2302000.0,611000.0,800000.0,275000.0,1540000.0,1370000.0,452000.0,501000.0,380000.0,1177000.0,600000.0,1500000.0,830000.0,1200000.0,600000.0,474000.0,1350000.0,1910000.0,915000.0,810000.0,753000.0,602500.0,742000.0,953000.0,650000.0,731000.0,710000.0,936000.0,721000.0,1000000.0,890000.0,1165000.0,1550000.0,770000.0,871000.0,780000.0,650000.0,770000.0,1235000.0,1000000.0,1320000.0,1100000.0,782000.0,910000.0,856000.0,670000.0,706000.0,1050000.0,1320000.0,1815000.0,630000.0,1870000.0,1930000.0,510000.0,381000.0,1040000.0,470000.0,501344.0,796000.0,1055000.0,620000.0,345000.0,950000.0,1200000.0,1005000.0,1340000.0,865000.0,781500.0,1401000.0,630000.0,1137500.0,1158000.0,955000.0,1081000.0,725000.0,767000.0,1450000.0,1430000.0,1275000.0,1606000.0,780000.0,670000.0,1380000.0,480500.0,1520000.0,1287000.0,800000.0,1460000.0,840000.0,900500.0,940000.0,380000.0,1646000.0,470000.0,1346000.0,935000.0,3900000.0,1150000.0,1720000.0,1705000.0,1190000.0,1740000.0,1200000.0,726000.0,1300000.0,670000.0,1350000.0,773000.0,645000.0,720000.0,625000.0,1310000.0,856000.0,580000.0,940000.0,1495000.0,1550000.0,1815000.0,1625000.0,899000.0,435000.0,1080000.0,656000.0,1574000.0,665000.0,590000.0,1679000.0,1050000.0,825000.0,998000.0,1010000.0,1050000.0,1600000.0,1325000.0],\"yaxis\":\"y\",\"type\":\"scattergl\"}],                        {\"template\":{\"data\":{\"bar\":[{\"error_x\":{\"color\":\"#2a3f5f\"},\"error_y\":{\"color\":\"#2a3f5f\"},\"marker\":{\"line\":{\"color\":\"#E5ECF6\",\"width\":0.5},\"pattern\":{\"fillmode\":\"overlay\",\"size\":10,\"solidity\":0.2}},\"type\":\"bar\"}],\"barpolar\":[{\"marker\":{\"line\":{\"color\":\"#E5ECF6\",\"width\":0.5},\"pattern\":{\"fillmode\":\"overlay\",\"size\":10,\"solidity\":0.2}},\"type\":\"barpolar\"}],\"carpet\":[{\"aaxis\":{\"endlinecolor\":\"#2a3f5f\",\"gridcolor\":\"white\",\"linecolor\":\"white\",\"minorgridcolor\":\"white\",\"startlinecolor\":\"#2a3f5f\"},\"baxis\":{\"endlinecolor\":\"#2a3f5f\",\"gridcolor\":\"white\",\"linecolor\":\"white\",\"minorgridcolor\":\"white\",\"startlinecolor\":\"#2a3f5f\"},\"type\":\"carpet\"}],\"choropleth\":[{\"colorbar\":{\"outlinewidth\":0,\"ticks\":\"\"},\"type\":\"choropleth\"}],\"contour\":[{\"colorbar\":{\"outlinewidth\":0,\"ticks\":\"\"},\"colorscale\":[[0.0,\"#0d0887\"],[0.1111111111111111,\"#46039f\"],[0.2222222222222222,\"#7201a8\"],[0.3333333333333333,\"#9c179e\"],[0.4444444444444444,\"#bd3786\"],[0.5555555555555556,\"#d8576b\"],[0.6666666666666666,\"#ed7953\"],[0.7777777777777778,\"#fb9f3a\"],[0.8888888888888888,\"#fdca26\"],[1.0,\"#f0f921\"]],\"type\":\"contour\"}],\"contourcarpet\":[{\"colorbar\":{\"outlinewidth\":0,\"ticks\":\"\"},\"type\":\"contourcarpet\"}],\"heatmap\":[{\"colorbar\":{\"outlinewidth\":0,\"ticks\":\"\"},\"colorscale\":[[0.0,\"#0d0887\"],[0.1111111111111111,\"#46039f\"],[0.2222222222222222,\"#7201a8\"],[0.3333333333333333,\"#9c179e\"],[0.4444444444444444,\"#bd3786\"],[0.5555555555555556,\"#d8576b\"],[0.6666666666666666,\"#ed7953\"],[0.7777777777777778,\"#fb9f3a\"],[0.8888888888888888,\"#fdca26\"],[1.0,\"#f0f921\"]],\"type\":\"heatmap\"}],\"heatmapgl\":[{\"colorbar\":{\"outlinewidth\":0,\"ticks\":\"\"},\"colorscale\":[[0.0,\"#0d0887\"],[0.1111111111111111,\"#46039f\"],[0.2222222222222222,\"#7201a8\"],[0.3333333333333333,\"#9c179e\"],[0.4444444444444444,\"#bd3786\"],[0.5555555555555556,\"#d8576b\"],[0.6666666666666666,\"#ed7953\"],[0.7777777777777778,\"#fb9f3a\"],[0.8888888888888888,\"#fdca26\"],[1.0,\"#f0f921\"]],\"type\":\"heatmapgl\"}],\"histogram\":[{\"marker\":{\"pattern\":{\"fillmode\":\"overlay\",\"size\":10,\"solidity\":0.2}},\"type\":\"histogram\"}],\"histogram2d\":[{\"colorbar\":{\"outlinewidth\":0,\"ticks\":\"\"},\"colorscale\":[[0.0,\"#0d0887\"],[0.1111111111111111,\"#46039f\"],[0.2222222222222222,\"#7201a8\"],[0.3333333333333333,\"#9c179e\"],[0.4444444444444444,\"#bd3786\"],[0.5555555555555556,\"#d8576b\"],[0.6666666666666666,\"#ed7953\"],[0.7777777777777778,\"#fb9f3a\"],[0.8888888888888888,\"#fdca26\"],[1.0,\"#f0f921\"]],\"type\":\"histogram2d\"}],\"histogram2dcontour\":[{\"colorbar\":{\"outlinewidth\":0,\"ticks\":\"\"},\"colorscale\":[[0.0,\"#0d0887\"],[0.1111111111111111,\"#46039f\"],[0.2222222222222222,\"#7201a8\"],[0.3333333333333333,\"#9c179e\"],[0.4444444444444444,\"#bd3786\"],[0.5555555555555556,\"#d8576b\"],[0.6666666666666666,\"#ed7953\"],[0.7777777777777778,\"#fb9f3a\"],[0.8888888888888888,\"#fdca26\"],[1.0,\"#f0f921\"]],\"type\":\"histogram2dcontour\"}],\"mesh3d\":[{\"colorbar\":{\"outlinewidth\":0,\"ticks\":\"\"},\"type\":\"mesh3d\"}],\"parcoords\":[{\"line\":{\"colorbar\":{\"outlinewidth\":0,\"ticks\":\"\"}},\"type\":\"parcoords\"}],\"pie\":[{\"automargin\":true,\"type\":\"pie\"}],\"scatter\":[{\"marker\":{\"colorbar\":{\"outlinewidth\":0,\"ticks\":\"\"}},\"type\":\"scatter\"}],\"scatter3d\":[{\"line\":{\"colorbar\":{\"outlinewidth\":0,\"ticks\":\"\"}},\"marker\":{\"colorbar\":{\"outlinewidth\":0,\"ticks\":\"\"}},\"type\":\"scatter3d\"}],\"scattercarpet\":[{\"marker\":{\"colorbar\":{\"outlinewidth\":0,\"ticks\":\"\"}},\"type\":\"scattercarpet\"}],\"scattergeo\":[{\"marker\":{\"colorbar\":{\"outlinewidth\":0,\"ticks\":\"\"}},\"type\":\"scattergeo\"}],\"scattergl\":[{\"marker\":{\"colorbar\":{\"outlinewidth\":0,\"ticks\":\"\"}},\"type\":\"scattergl\"}],\"scattermapbox\":[{\"marker\":{\"colorbar\":{\"outlinewidth\":0,\"ticks\":\"\"}},\"type\":\"scattermapbox\"}],\"scatterpolar\":[{\"marker\":{\"colorbar\":{\"outlinewidth\":0,\"ticks\":\"\"}},\"type\":\"scatterpolar\"}],\"scatterpolargl\":[{\"marker\":{\"colorbar\":{\"outlinewidth\":0,\"ticks\":\"\"}},\"type\":\"scatterpolargl\"}],\"scatterternary\":[{\"marker\":{\"colorbar\":{\"outlinewidth\":0,\"ticks\":\"\"}},\"type\":\"scatterternary\"}],\"surface\":[{\"colorbar\":{\"outlinewidth\":0,\"ticks\":\"\"},\"colorscale\":[[0.0,\"#0d0887\"],[0.1111111111111111,\"#46039f\"],[0.2222222222222222,\"#7201a8\"],[0.3333333333333333,\"#9c179e\"],[0.4444444444444444,\"#bd3786\"],[0.5555555555555556,\"#d8576b\"],[0.6666666666666666,\"#ed7953\"],[0.7777777777777778,\"#fb9f3a\"],[0.8888888888888888,\"#fdca26\"],[1.0,\"#f0f921\"]],\"type\":\"surface\"}],\"table\":[{\"cells\":{\"fill\":{\"color\":\"#EBF0F8\"},\"line\":{\"color\":\"white\"}},\"header\":{\"fill\":{\"color\":\"#C8D4E3\"},\"line\":{\"color\":\"white\"}},\"type\":\"table\"}]},\"layout\":{\"annotationdefaults\":{\"arrowcolor\":\"#2a3f5f\",\"arrowhead\":0,\"arrowwidth\":1},\"autotypenumbers\":\"strict\",\"coloraxis\":{\"colorbar\":{\"outlinewidth\":0,\"ticks\":\"\"}},\"colorscale\":{\"diverging\":[[0,\"#8e0152\"],[0.1,\"#c51b7d\"],[0.2,\"#de77ae\"],[0.3,\"#f1b6da\"],[0.4,\"#fde0ef\"],[0.5,\"#f7f7f7\"],[0.6,\"#e6f5d0\"],[0.7,\"#b8e186\"],[0.8,\"#7fbc41\"],[0.9,\"#4d9221\"],[1,\"#276419\"]],\"sequential\":[[0.0,\"#0d0887\"],[0.1111111111111111,\"#46039f\"],[0.2222222222222222,\"#7201a8\"],[0.3333333333333333,\"#9c179e\"],[0.4444444444444444,\"#bd3786\"],[0.5555555555555556,\"#d8576b\"],[0.6666666666666666,\"#ed7953\"],[0.7777777777777778,\"#fb9f3a\"],[0.8888888888888888,\"#fdca26\"],[1.0,\"#f0f921\"]],\"sequentialminus\":[[0.0,\"#0d0887\"],[0.1111111111111111,\"#46039f\"],[0.2222222222222222,\"#7201a8\"],[0.3333333333333333,\"#9c179e\"],[0.4444444444444444,\"#bd3786\"],[0.5555555555555556,\"#d8576b\"],[0.6666666666666666,\"#ed7953\"],[0.7777777777777778,\"#fb9f3a\"],[0.8888888888888888,\"#fdca26\"],[1.0,\"#f0f921\"]]},\"colorway\":[\"#636efa\",\"#EF553B\",\"#00cc96\",\"#ab63fa\",\"#FFA15A\",\"#19d3f3\",\"#FF6692\",\"#B6E880\",\"#FF97FF\",\"#FECB52\"],\"font\":{\"color\":\"#2a3f5f\"},\"geo\":{\"bgcolor\":\"white\",\"lakecolor\":\"white\",\"landcolor\":\"#E5ECF6\",\"showlakes\":true,\"showland\":true,\"subunitcolor\":\"white\"},\"hoverlabel\":{\"align\":\"left\"},\"hovermode\":\"closest\",\"mapbox\":{\"style\":\"light\"},\"paper_bgcolor\":\"white\",\"plot_bgcolor\":\"#E5ECF6\",\"polar\":{\"angularaxis\":{\"gridcolor\":\"white\",\"linecolor\":\"white\",\"ticks\":\"\"},\"bgcolor\":\"#E5ECF6\",\"radialaxis\":{\"gridcolor\":\"white\",\"linecolor\":\"white\",\"ticks\":\"\"}},\"scene\":{\"xaxis\":{\"backgroundcolor\":\"#E5ECF6\",\"gridcolor\":\"white\",\"gridwidth\":2,\"linecolor\":\"white\",\"showbackground\":true,\"ticks\":\"\",\"zerolinecolor\":\"white\"},\"yaxis\":{\"backgroundcolor\":\"#E5ECF6\",\"gridcolor\":\"white\",\"gridwidth\":2,\"linecolor\":\"white\",\"showbackground\":true,\"ticks\":\"\",\"zerolinecolor\":\"white\"},\"zaxis\":{\"backgroundcolor\":\"#E5ECF6\",\"gridcolor\":\"white\",\"gridwidth\":2,\"linecolor\":\"white\",\"showbackground\":true,\"ticks\":\"\",\"zerolinecolor\":\"white\"}},\"shapedefaults\":{\"line\":{\"color\":\"#2a3f5f\"}},\"ternary\":{\"aaxis\":{\"gridcolor\":\"white\",\"linecolor\":\"white\",\"ticks\":\"\"},\"baxis\":{\"gridcolor\":\"white\",\"linecolor\":\"white\",\"ticks\":\"\"},\"bgcolor\":\"#E5ECF6\",\"caxis\":{\"gridcolor\":\"white\",\"linecolor\":\"white\",\"ticks\":\"\"}},\"title\":{\"x\":0.05},\"xaxis\":{\"automargin\":true,\"gridcolor\":\"white\",\"linecolor\":\"white\",\"ticks\":\"\",\"title\":{\"standoff\":15},\"zerolinecolor\":\"white\",\"zerolinewidth\":2},\"yaxis\":{\"automargin\":true,\"gridcolor\":\"white\",\"linecolor\":\"white\",\"ticks\":\"\",\"title\":{\"standoff\":15},\"zerolinecolor\":\"white\",\"zerolinewidth\":2}}},\"xaxis\":{\"anchor\":\"y\",\"domain\":[0.0,1.0],\"title\":{\"text\":\"BuildingArea\"},\"range\":[0,1000]},\"yaxis\":{\"anchor\":\"x\",\"domain\":[0.0,1.0],\"title\":{\"text\":\"Price\"},\"range\":[0,3000000]},\"legend\":{\"tracegroupgap\":0},\"margin\":{\"t\":60},\"width\":1000},                        {\"responsive\": true}                    ).then(function(){\n",
              "                            \n",
              "var gd = document.getElementById('cb02f9e0-5f26-454d-b15c-d23494448803');\n",
              "var x = new MutationObserver(function (mutations, observer) {{\n",
              "        var display = window.getComputedStyle(gd).display;\n",
              "        if (!display || display === 'none') {{\n",
              "            console.log([gd, 'removed!']);\n",
              "            Plotly.purge(gd);\n",
              "            observer.disconnect();\n",
              "        }}\n",
              "}});\n",
              "\n",
              "// Listen for the removal of the full notebook cells\n",
              "var notebookContainer = gd.closest('#notebook-container');\n",
              "if (notebookContainer) {{\n",
              "    x.observe(notebookContainer, {childList: true});\n",
              "}}\n",
              "\n",
              "// Listen for the clearing of the current output cell\n",
              "var outputEl = gd.closest('.output');\n",
              "if (outputEl) {{\n",
              "    x.observe(outputEl, {childList: true});\n",
              "}}\n",
              "\n",
              "                        })                };                            </script>        </div>\n",
              "</body>\n",
              "</html>"
            ]
          },
          "metadata": {}
        }
      ],
      "id": "pKiD-FHIwVPI"
    },
    {
      "cell_type": "markdown",
      "source": [
        "We can see that the more the area of the building increases the higher the price can get"
      ],
      "metadata": {
        "id": "lDbZe1ZJT_bq"
      },
      "id": "lDbZe1ZJT_bq"
    },
    {
      "cell_type": "markdown",
      "source": [
        "## Let's see what's the most common regionname"
      ],
      "metadata": {
        "id": "9gSmGWYlsrIC"
      },
      "id": "9gSmGWYlsrIC"
    },
    {
      "cell_type": "code",
      "source": [
        "Top_region = df.groupby([\"Regionname\",\"Propertycount\",'Type']).sum().sort_values(\"Price\", ascending=False) # Sort the Region as per the sales\n",
        "Top_region.reset_index(inplace=True) # Since we have used groupby, we will have to reset the index to add the Region column into the data frame"
      ],
      "metadata": {
        "id": "xQmtGRnSOqFS"
      },
      "execution_count": 50,
      "outputs": [],
      "id": "xQmtGRnSOqFS"
    },
    {
      "cell_type": "code",
      "source": [
        "fig = px.bar(Top_region, x='Regionname', y='Price',\n",
        "             hover_data=['Regionname', 'Price','Type'], color='Price',\n",
        "             height=400,width =1000)\n",
        "fig.show()"
      ],
      "metadata": {
        "id": "-2oqhuxJOqP9",
        "colab": {
          "base_uri": "https://localhost:8080/",
          "height": 417
        },
        "outputId": "b889c996-6632-412f-afea-3af56d40e0bb"
      },
      "execution_count": 52,
      "outputs": [
        {
          "output_type": "display_data",
          "data": {
            "text/html": [
              "<html>\n",
              "<head><meta charset=\"utf-8\" /></head>\n",
              "<body>\n",
              "    <div>            <script src=\"https://cdnjs.cloudflare.com/ajax/libs/mathjax/2.7.5/MathJax.js?config=TeX-AMS-MML_SVG\"></script><script type=\"text/javascript\">if (window.MathJax) {MathJax.Hub.Config({SVG: {font: \"STIX-Web\"}});}</script>                <script type=\"text/javascript\">window.PlotlyConfig = {MathJaxConfig: 'local'};</script>\n",
              "        <script src=\"https://cdn.plot.ly/plotly-2.8.3.min.js\"></script>                <div id=\"5b7a316a-f2ab-497f-a1b9-a399a7e38380\" class=\"plotly-graph-div\" style=\"height:400px; width:1000px;\"></div>            <script type=\"text/javascript\">                                    window.PLOTLYENV=window.PLOTLYENV || {};                                    if (document.getElementById(\"5b7a316a-f2ab-497f-a1b9-a399a7e38380\")) {                    Plotly.newPlot(                        \"5b7a316a-f2ab-497f-a1b9-a399a7e38380\",                        [{\"alignmentgroup\":\"True\",\"customdata\":[[\"House\"],[\"House\"],[\"House\"],[\"House\"],[\"House\"],[\"House\"],[\"House\"],[\"House\"],[\"House\"],[\"House\"],[\"House\"],[\"House\"],[\"House\"],[\"House\"],[\"House\"],[\"House\"],[\"House\"],[\"House\"],[\"House\"],[\"House\"],[\"House\"],[\"House\"],[\"House\"],[\"House\"],[\"House\"],[\"House\"],[\"House\"],[\"House\"],[\"House\"],[\"House\"],[\"House\"],[\"House\"],[\"House\"],[\"House\"],[\"House\"],[\"House\"],[\"House\"],[\"House\"],[\"House\"],[\"House\"],[\"House\"],[\"House\"],[\"Unit\"],[\"House\"],[\"House\"],[\"House\"],[\"House\"],[\"House\"],[\"House\"],[\"House\"],[\"House\"],[\"House\"],[\"House\"],[\"Unit\"],[\"House\"],[\"Unit\"],[\"House\"],[\"Unit\"],[\"Unit\"],[\"House\"],[\"House\"],[\"House\"],[\"House\"],[\"House\"],[\"House\"],[\"Townhouse\"],[\"House\"],[\"House\"],[\"House\"],[\"House\"],[\"House\"],[\"House\"],[\"Unit\"],[\"House\"],[\"House\"],[\"House\"],[\"Unit\"],[\"House\"],[\"House\"],[\"House\"],[\"House\"],[\"House\"],[\"House\"],[\"Unit\"],[\"Unit\"],[\"House\"],[\"House\"],[\"House\"],[\"Unit\"],[\"House\"],[\"House\"],[\"House\"],[\"House\"],[\"House\"],[\"House\"],[\"House\"],[\"House\"],[\"House\"],[\"Unit\"],[\"Unit\"],[\"House\"],[\"House\"],[\"Unit\"],[\"Unit\"],[\"House\"],[\"House\"],[\"Unit\"],[\"House\"],[\"Unit\"],[\"Townhouse\"],[\"Unit\"],[\"Townhouse\"],[\"House\"],[\"Unit\"],[\"Townhouse\"],[\"House\"],[\"Unit\"],[\"Unit\"],[\"House\"],[\"Unit\"],[\"Townhouse\"],[\"Unit\"],[\"Townhouse\"],[\"House\"],[\"Townhouse\"],[\"Townhouse\"],[\"House\"],[\"Townhouse\"],[\"Unit\"],[\"House\"],[\"Unit\"],[\"House\"],[\"Unit\"],[\"Townhouse\"],[\"Townhouse\"],[\"Townhouse\"],[\"Unit\"],[\"Unit\"],[\"Unit\"],[\"Unit\"],[\"Townhouse\"],[\"Townhouse\"],[\"Townhouse\"],[\"Unit\"],[\"Unit\"],[\"House\"],[\"House\"],[\"Unit\"],[\"Townhouse\"],[\"Unit\"],[\"Townhouse\"],[\"Townhouse\"],[\"Unit\"],[\"Unit\"],[\"Townhouse\"],[\"Townhouse\"],[\"Unit\"],[\"Unit\"],[\"Townhouse\"],[\"Townhouse\"],[\"House\"],[\"Unit\"],[\"Unit\"],[\"Unit\"],[\"Townhouse\"],[\"Townhouse\"],[\"Townhouse\"],[\"Unit\"],[\"Townhouse\"],[\"Unit\"],[\"Townhouse\"],[\"Unit\"],[\"Townhouse\"],[\"Townhouse\"],[\"Townhouse\"],[\"Unit\"],[\"Unit\"],[\"Townhouse\"],[\"Townhouse\"],[\"Unit\"],[\"Townhouse\"],[\"House\"],[\"Townhouse\"],[\"Townhouse\"],[\"Unit\"],[\"Unit\"],[\"House\"],[\"Townhouse\"],[\"Unit\"],[\"Unit\"],[\"Unit\"],[\"Unit\"],[\"Townhouse\"],[\"Townhouse\"],[\"Townhouse\"],[\"Townhouse\"],[\"Unit\"],[\"Townhouse\"],[\"Townhouse\"],[\"Townhouse\"],[\"Townhouse\"],[\"Unit\"],[\"Townhouse\"],[\"House\"],[\"Townhouse\"],[\"Townhouse\"],[\"Townhouse\"],[\"Unit\"],[\"Townhouse\"],[\"Unit\"],[\"Townhouse\"],[\"Unit\"],[\"Townhouse\"],[\"Unit\"],[\"Unit\"],[\"Unit\"],[\"Townhouse\"],[\"Unit\"],[\"Unit\"],[\"Townhouse\"],[\"Unit\"],[\"Townhouse\"],[\"Unit\"],[\"Unit\"],[\"Unit\"],[\"Townhouse\"],[\"Townhouse\"],[\"Unit\"],[\"Townhouse\"],[\"Townhouse\"],[\"Unit\"],[\"Townhouse\"],[\"Unit\"],[\"Townhouse\"],[\"Townhouse\"],[\"Unit\"],[\"Unit\"],[\"Townhouse\"],[\"Unit\"],[\"Unit\"],[\"Townhouse\"],[\"Townhouse\"],[\"Townhouse\"],[\"Unit\"],[\"Townhouse\"],[\"Unit\"],[\"Unit\"],[\"Unit\"],[\"Unit\"],[\"House\"],[\"Unit\"],[\"Unit\"],[\"Unit\"],[\"Unit\"],[\"Unit\"],[\"House\"],[\"Townhouse\"],[\"Unit\"],[\"Unit\"],[\"Townhouse\"],[\"Unit\"],[\"Townhouse\"],[\"Townhouse\"],[\"Townhouse\"],[\"Unit\"],[\"Townhouse\"],[\"Townhouse\"],[\"Townhouse\"],[\"Townhouse\"],[\"Townhouse\"],[\"Unit\"],[\"Townhouse\"],[\"Unit\"],[\"Townhouse\"],[\"Townhouse\"],[\"Townhouse\"],[\"Unit\"],[\"Unit\"],[\"Unit\"],[\"Townhouse\"],[\"Townhouse\"],[\"Unit\"],[\"Townhouse\"],[\"Unit\"],[\"Townhouse\"],[\"Unit\"],[\"Unit\"],[\"Unit\"],[\"Townhouse\"],[\"Unit\"],[\"Townhouse\"],[\"Unit\"],[\"Unit\"],[\"House\"]],\"hovertemplate\":\"Regionname=%{x}<br>Price=%{marker.color}<br>Type=%{customdata[0]}<extra></extra>\",\"legendgroup\":\"\",\"marker\":{\"color\":[113761500.0,105940800.0,96299000.0,88584888.0,84426500.0,72274000.0,69726500.0,68755500.0,64063000.0,62835388.0,60928500.0,59192838.0,59159000.0,58871000.0,56063500.0,54819500.0,53531000.0,51953000.0,50402500.0,50358000.0,50092000.0,49907000.0,48774000.0,48652000.0,48516000.0,46877800.0,45805000.0,44791000.0,44638000.0,44119000.0,42187000.0,41908500.0,40360500.0,37161000.0,36691000.0,36652500.0,36257500.0,35248000.0,33713000.0,33311000.0,32854500.0,29116000.0,28827000.0,28245500.0,28146500.0,27014250.0,26670500.0,26384400.0,26296000.0,26026500.0,25555500.0,25125200.0,25015500.0,24562000.0,24037200.0,23742500.0,23385000.0,22807000.0,22759750.0,21981500.0,21519000.0,20841500.0,19753500.0,19362000.0,19133000.0,19037500.0,19022500.0,18996000.0,18988000.0,18678000.0,17617000.0,17371500.0,17307000.0,17122000.0,16972000.0,16650000.0,16599750.0,16285500.0,15945500.0,15690347.0,15346000.0,15218000.0,15202500.0,14700500.0,14173000.0,14164500.0,13990000.0,13758388.0,13286500.0,12596000.0,12591000.0,12349000.0,11988500.0,11914000.0,11812500.0,11804000.0,11700000.0,11558000.0,11533000.0,11347189.0,11268300.0,11149000.0,11137000.0,10813000.0,10695600.0,10664000.0,10103000.0,10045250.0,10039800.0,9895000.0,9673000.0,9562000.0,9528000.0,9422000.0,9418000.0,9271833.0,9143250.0,8933000.0,8523500.0,8229500.0,8117000.0,8064000.0,7989000.0,7970000.0,7870500.0,7810000.0,7518500.0,7460000.0,7438000.0,7325000.0,7303000.0,7296000.0,7217000.0,7208500.0,6677000.0,6595500.0,6482000.0,6456590.0,6417000.0,6295500.0,6254000.0,6227000.0,6145000.0,5946000.0,5918500.0,5683000.0,5601500.0,5600000.0,5592000.0,5524500.0,5335000.0,5313500.0,5017000.0,5010000.0,4965000.0,4964000.0,4891000.0,4811000.0,4720000.0,4598500.0,4496000.0,4495000.0,4338800.0,4282500.0,4235000.0,4224000.0,4200000.0,4155000.0,4145000.0,4077000.0,4055000.0,4031000.0,3985000.0,3940000.0,3899000.0,3890000.0,3843500.0,3825000.0,3806700.0,3797000.0,3751000.0,3630000.0,3617000.0,3569500.0,3539500.0,3508500.0,3453000.0,3407500.0,3391500.0,3310000.0,3304500.0,3292500.0,3260000.0,3225000.0,3116000.0,3110000.0,2999844.0,2975000.0,2946000.0,2915000.0,2910000.0,2826000.0,2772000.0,2763000.0,2745500.0,2741000.0,2695000.0,2663000.0,2547500.0,2521000.0,2510000.0,2501000.0,2430500.0,2414000.0,2346000.0,2335500.0,2315000.0,2315000.0,2297000.0,2235000.0,2119000.0,2089000.0,1995000.0,1990000.0,1929000.0,1891750.0,1890000.0,1864500.0,1830500.0,1822000.0,1779000.0,1755000.0,1731500.0,1728000.0,1728000.0,1720000.0,1673000.0,1651000.0,1642000.0,1638000.0,1625000.0,1620000.0,1590000.0,1576000.0,1556000.0,1552000.0,1527000.0,1427500.0,1380500.0,1360000.0,1338000.0,1311500.0,1305000.0,1272500.0,1235000.0,1225000.0,1150000.0,1117000.0,1101000.0,1100000.0,1086000.0,1055000.0,1030000.0,1015000.0,1005000.0,1000000.0,975000.0,960000.0,950000.0,930000.0,915500.0,910000.0,895000.0,851000.0,840000.0,805000.0,801000.0,747500.0,725000.0,720000.0,720000.0,700000.0,678000.0,605000.0,531000.0,495000.0,487000.0,442500.0,421000.0,411000.0,370000.0,360000.0,292000.0,131000.0],\"coloraxis\":\"coloraxis\",\"pattern\":{\"shape\":\"\"}},\"name\":\"\",\"offsetgroup\":\"\",\"orientation\":\"v\",\"showlegend\":false,\"textposition\":\"auto\",\"x\":[\"Southern Metropolitan\",\"Southern Metropolitan\",\"Southern Metropolitan\",\"Southern Metropolitan\",\"Northern Metropolitan\",\"Southern Metropolitan\",\"Southern Metropolitan\",\"Northern Metropolitan\",\"Northern Metropolitan\",\"Southern Metropolitan\",\"Southern Metropolitan\",\"Northern Metropolitan\",\"Southern Metropolitan\",\"Western Metropolitan\",\"Western Metropolitan\",\"Southern Metropolitan\",\"Southern Metropolitan\",\"Northern Metropolitan\",\"Western Metropolitan\",\"Northern Metropolitan\",\"Western Metropolitan\",\"Southern Metropolitan\",\"Southern Metropolitan\",\"Southern Metropolitan\",\"Northern Metropolitan\",\"Eastern Metropolitan\",\"Southern Metropolitan\",\"Southern Metropolitan\",\"Southern Metropolitan\",\"Southern Metropolitan\",\"Western Metropolitan\",\"Western Metropolitan\",\"Southern Metropolitan\",\"Eastern Metropolitan\",\"Southern Metropolitan\",\"Southern Metropolitan\",\"Eastern Metropolitan\",\"Southern Metropolitan\",\"Southern Metropolitan\",\"Western Metropolitan\",\"Northern Metropolitan\",\"Northern Metropolitan\",\"Southern Metropolitan\",\"Southern Metropolitan\",\"Southern Metropolitan\",\"Southern Metropolitan\",\"Northern Metropolitan\",\"Eastern Metropolitan\",\"Southern Metropolitan\",\"Western Metropolitan\",\"Northern Metropolitan\",\"Western Metropolitan\",\"Western Metropolitan\",\"Southern Metropolitan\",\"Western Metropolitan\",\"Southern Metropolitan\",\"Southern Metropolitan\",\"Southern Metropolitan\",\"Northern Metropolitan\",\"Northern Metropolitan\",\"Eastern Metropolitan\",\"Western Metropolitan\",\"Southern Metropolitan\",\"Northern Metropolitan\",\"Eastern Metropolitan\",\"Southern Metropolitan\",\"Northern Metropolitan\",\"Southern Metropolitan\",\"Northern Metropolitan\",\"Southern Metropolitan\",\"Western Metropolitan\",\"Southern Metropolitan\",\"Southern Metropolitan\",\"Eastern Metropolitan\",\"Northern Metropolitan\",\"Northern Metropolitan\",\"Southern Metropolitan\",\"Eastern Metropolitan\",\"Western Metropolitan\",\"South-Eastern Metropolitan\",\"Southern Metropolitan\",\"Southern Metropolitan\",\"Northern Metropolitan\",\"Northern Metropolitan\",\"Western Metropolitan\",\"Eastern Metropolitan\",\"Northern Metropolitan\",\"Northern Metropolitan\",\"Northern Metropolitan\",\"Northern Metropolitan\",\"Northern Metropolitan\",\"Western Metropolitan\",\"Western Metropolitan\",\"Western Metropolitan\",\"Western Metropolitan\",\"Western Metropolitan\",\"Eastern Metropolitan\",\"Western Metropolitan\",\"Northern Metropolitan\",\"Northern Metropolitan\",\"Western Metropolitan\",\"Southern Metropolitan\",\"Southern Metropolitan\",\"Southern Metropolitan\",\"Western Metropolitan\",\"Northern Metropolitan\",\"Northern Metropolitan\",\"Eastern Metropolitan\",\"Southern Metropolitan\",\"Southern Metropolitan\",\"Southern Metropolitan\",\"Northern Metropolitan\",\"Western Metropolitan\",\"Southern Metropolitan\",\"Southern Metropolitan\",\"Northern Metropolitan\",\"Northern Metropolitan\",\"Southern Metropolitan\",\"Northern Metropolitan\",\"Southern Metropolitan\",\"Southern Metropolitan\",\"Southern Metropolitan\",\"Northern Metropolitan\",\"Northern Metropolitan\",\"Northern Metropolitan\",\"Southern Metropolitan\",\"Southern Metropolitan\",\"Southern Metropolitan\",\"Northern Metropolitan\",\"Southern Metropolitan\",\"Southern Metropolitan\",\"Northern Metropolitan\",\"Southern Metropolitan\",\"Western Metropolitan\",\"Northern Metropolitan\",\"Northern Metropolitan\",\"Western Metropolitan\",\"Northern Metropolitan\",\"Northern Metropolitan\",\"Southern Metropolitan\",\"Southern Metropolitan\",\"Western Metropolitan\",\"Northern Metropolitan\",\"Western Metropolitan\",\"Southern Metropolitan\",\"Southern Metropolitan\",\"Western Metropolitan\",\"Western Metropolitan\",\"Southern Metropolitan\",\"Southern Metropolitan\",\"Western Metropolitan\",\"Northern Metropolitan\",\"Southern Metropolitan\",\"Southern Metropolitan\",\"Western Metropolitan\",\"Western Metropolitan\",\"Western Metropolitan\",\"Northern Metropolitan\",\"Southern Metropolitan\",\"Southern Metropolitan\",\"Southern Metropolitan\",\"Southern Metropolitan\",\"Eastern Metropolitan\",\"Northern Metropolitan\",\"Southern Metropolitan\",\"Southern Metropolitan\",\"Southern Metropolitan\",\"Northern Metropolitan\",\"Southern Metropolitan\",\"Southern Metropolitan\",\"Western Metropolitan\",\"Southern Metropolitan\",\"Northern Metropolitan\",\"Eastern Metropolitan\",\"Northern Metropolitan\",\"Northern Metropolitan\",\"Southern Metropolitan\",\"Northern Metropolitan\",\"Eastern Metropolitan\",\"Northern Metropolitan\",\"Western Metropolitan\",\"Northern Metropolitan\",\"Southern Metropolitan\",\"Southern Metropolitan\",\"Western Metropolitan\",\"Western Metropolitan\",\"Western Metropolitan\",\"Northern Metropolitan\",\"Northern Metropolitan\",\"Eastern Metropolitan\",\"Southern Metropolitan\",\"Northern Metropolitan\",\"Western Metropolitan\",\"Western Metropolitan\",\"Northern Metropolitan\",\"Western Metropolitan\",\"Western Metropolitan\",\"Western Metropolitan\",\"Northern Metropolitan\",\"Western Metropolitan\",\"Northern Metropolitan\",\"Southern Metropolitan\",\"Southern Metropolitan\",\"Eastern Metropolitan\",\"Southern Metropolitan\",\"Southern Metropolitan\",\"Southern Metropolitan\",\"Western Metropolitan\",\"Eastern Metropolitan\",\"Eastern Metropolitan\",\"Eastern Metropolitan\",\"Southern Metropolitan\",\"Southern Metropolitan\",\"Southern Metropolitan\",\"Northern Metropolitan\",\"Northern Metropolitan\",\"Southern Metropolitan\",\"Eastern Metropolitan\",\"Western Metropolitan\",\"Western Metropolitan\",\"Northern Metropolitan\",\"Northern Metropolitan\",\"Eastern Metropolitan\",\"Southern Metropolitan\",\"Northern Metropolitan\",\"Eastern Metropolitan\",\"Southern Metropolitan\",\"Southern Metropolitan\",\"Northern Metropolitan\",\"Northern Metropolitan\",\"Eastern Metropolitan\",\"Northern Metropolitan\",\"Southern Metropolitan\",\"Northern Metropolitan\",\"Southern Metropolitan\",\"Northern Metropolitan\",\"Southern Metropolitan\",\"Northern Metropolitan\",\"Western Metropolitan\",\"Eastern Metropolitan\",\"Southern Metropolitan\",\"Southern Metropolitan\",\"Northern Metropolitan\",\"Western Metropolitan\",\"Western Metropolitan\",\"Southern Metropolitan\",\"Northern Metropolitan\",\"Northern Metropolitan\",\"Northern Metropolitan\",\"Western Metropolitan\",\"Western Metropolitan\",\"Western Metropolitan\",\"Western Metropolitan\",\"Southern Metropolitan\",\"Southern Metropolitan\",\"Western Metropolitan\",\"Southern Metropolitan\",\"Western Metropolitan\",\"Eastern Metropolitan\",\"Southern Metropolitan\",\"Northern Metropolitan\",\"Southern Metropolitan\",\"Southern Metropolitan\",\"Southern Metropolitan\",\"Eastern Metropolitan\",\"Western Metropolitan\",\"Eastern Metropolitan\",\"Western Metropolitan\",\"Southern Metropolitan\",\"Southern Metropolitan\",\"Western Metropolitan\",\"Western Metropolitan\",\"Western Metropolitan\",\"Western Metropolitan\",\"Western Metropolitan\",\"Northern Metropolitan\",\"Southern Metropolitan\",\"Western Metropolitan\",\"Eastern Metropolitan\",\"Western Metropolitan\",\"Western Metropolitan\",\"Southern Metropolitan\",\"Eastern Metropolitan\",\"Southern Metropolitan\",\"Eastern Metropolitan\",\"Western Metropolitan\",\"Northern Metropolitan\",\"Southern Metropolitan\",\"Western Metropolitan\",\"Western Metropolitan\",\"Eastern Metropolitan\",\"Eastern Metropolitan\",\"Western Metropolitan\",\"Southern Metropolitan\"],\"xaxis\":\"x\",\"y\":[113761500.0,105940800.0,96299000.0,88584888.0,84426500.0,72274000.0,69726500.0,68755500.0,64063000.0,62835388.0,60928500.0,59192838.0,59159000.0,58871000.0,56063500.0,54819500.0,53531000.0,51953000.0,50402500.0,50358000.0,50092000.0,49907000.0,48774000.0,48652000.0,48516000.0,46877800.0,45805000.0,44791000.0,44638000.0,44119000.0,42187000.0,41908500.0,40360500.0,37161000.0,36691000.0,36652500.0,36257500.0,35248000.0,33713000.0,33311000.0,32854500.0,29116000.0,28827000.0,28245500.0,28146500.0,27014250.0,26670500.0,26384400.0,26296000.0,26026500.0,25555500.0,25125200.0,25015500.0,24562000.0,24037200.0,23742500.0,23385000.0,22807000.0,22759750.0,21981500.0,21519000.0,20841500.0,19753500.0,19362000.0,19133000.0,19037500.0,19022500.0,18996000.0,18988000.0,18678000.0,17617000.0,17371500.0,17307000.0,17122000.0,16972000.0,16650000.0,16599750.0,16285500.0,15945500.0,15690347.0,15346000.0,15218000.0,15202500.0,14700500.0,14173000.0,14164500.0,13990000.0,13758388.0,13286500.0,12596000.0,12591000.0,12349000.0,11988500.0,11914000.0,11812500.0,11804000.0,11700000.0,11558000.0,11533000.0,11347189.0,11268300.0,11149000.0,11137000.0,10813000.0,10695600.0,10664000.0,10103000.0,10045250.0,10039800.0,9895000.0,9673000.0,9562000.0,9528000.0,9422000.0,9418000.0,9271833.0,9143250.0,8933000.0,8523500.0,8229500.0,8117000.0,8064000.0,7989000.0,7970000.0,7870500.0,7810000.0,7518500.0,7460000.0,7438000.0,7325000.0,7303000.0,7296000.0,7217000.0,7208500.0,6677000.0,6595500.0,6482000.0,6456590.0,6417000.0,6295500.0,6254000.0,6227000.0,6145000.0,5946000.0,5918500.0,5683000.0,5601500.0,5600000.0,5592000.0,5524500.0,5335000.0,5313500.0,5017000.0,5010000.0,4965000.0,4964000.0,4891000.0,4811000.0,4720000.0,4598500.0,4496000.0,4495000.0,4338800.0,4282500.0,4235000.0,4224000.0,4200000.0,4155000.0,4145000.0,4077000.0,4055000.0,4031000.0,3985000.0,3940000.0,3899000.0,3890000.0,3843500.0,3825000.0,3806700.0,3797000.0,3751000.0,3630000.0,3617000.0,3569500.0,3539500.0,3508500.0,3453000.0,3407500.0,3391500.0,3310000.0,3304500.0,3292500.0,3260000.0,3225000.0,3116000.0,3110000.0,2999844.0,2975000.0,2946000.0,2915000.0,2910000.0,2826000.0,2772000.0,2763000.0,2745500.0,2741000.0,2695000.0,2663000.0,2547500.0,2521000.0,2510000.0,2501000.0,2430500.0,2414000.0,2346000.0,2335500.0,2315000.0,2315000.0,2297000.0,2235000.0,2119000.0,2089000.0,1995000.0,1990000.0,1929000.0,1891750.0,1890000.0,1864500.0,1830500.0,1822000.0,1779000.0,1755000.0,1731500.0,1728000.0,1728000.0,1720000.0,1673000.0,1651000.0,1642000.0,1638000.0,1625000.0,1620000.0,1590000.0,1576000.0,1556000.0,1552000.0,1527000.0,1427500.0,1380500.0,1360000.0,1338000.0,1311500.0,1305000.0,1272500.0,1235000.0,1225000.0,1150000.0,1117000.0,1101000.0,1100000.0,1086000.0,1055000.0,1030000.0,1015000.0,1005000.0,1000000.0,975000.0,960000.0,950000.0,930000.0,915500.0,910000.0,895000.0,851000.0,840000.0,805000.0,801000.0,747500.0,725000.0,720000.0,720000.0,700000.0,678000.0,605000.0,531000.0,495000.0,487000.0,442500.0,421000.0,411000.0,370000.0,360000.0,292000.0,131000.0],\"yaxis\":\"y\",\"type\":\"bar\"}],                        {\"template\":{\"data\":{\"bar\":[{\"error_x\":{\"color\":\"#2a3f5f\"},\"error_y\":{\"color\":\"#2a3f5f\"},\"marker\":{\"line\":{\"color\":\"#E5ECF6\",\"width\":0.5},\"pattern\":{\"fillmode\":\"overlay\",\"size\":10,\"solidity\":0.2}},\"type\":\"bar\"}],\"barpolar\":[{\"marker\":{\"line\":{\"color\":\"#E5ECF6\",\"width\":0.5},\"pattern\":{\"fillmode\":\"overlay\",\"size\":10,\"solidity\":0.2}},\"type\":\"barpolar\"}],\"carpet\":[{\"aaxis\":{\"endlinecolor\":\"#2a3f5f\",\"gridcolor\":\"white\",\"linecolor\":\"white\",\"minorgridcolor\":\"white\",\"startlinecolor\":\"#2a3f5f\"},\"baxis\":{\"endlinecolor\":\"#2a3f5f\",\"gridcolor\":\"white\",\"linecolor\":\"white\",\"minorgridcolor\":\"white\",\"startlinecolor\":\"#2a3f5f\"},\"type\":\"carpet\"}],\"choropleth\":[{\"colorbar\":{\"outlinewidth\":0,\"ticks\":\"\"},\"type\":\"choropleth\"}],\"contour\":[{\"colorbar\":{\"outlinewidth\":0,\"ticks\":\"\"},\"colorscale\":[[0.0,\"#0d0887\"],[0.1111111111111111,\"#46039f\"],[0.2222222222222222,\"#7201a8\"],[0.3333333333333333,\"#9c179e\"],[0.4444444444444444,\"#bd3786\"],[0.5555555555555556,\"#d8576b\"],[0.6666666666666666,\"#ed7953\"],[0.7777777777777778,\"#fb9f3a\"],[0.8888888888888888,\"#fdca26\"],[1.0,\"#f0f921\"]],\"type\":\"contour\"}],\"contourcarpet\":[{\"colorbar\":{\"outlinewidth\":0,\"ticks\":\"\"},\"type\":\"contourcarpet\"}],\"heatmap\":[{\"colorbar\":{\"outlinewidth\":0,\"ticks\":\"\"},\"colorscale\":[[0.0,\"#0d0887\"],[0.1111111111111111,\"#46039f\"],[0.2222222222222222,\"#7201a8\"],[0.3333333333333333,\"#9c179e\"],[0.4444444444444444,\"#bd3786\"],[0.5555555555555556,\"#d8576b\"],[0.6666666666666666,\"#ed7953\"],[0.7777777777777778,\"#fb9f3a\"],[0.8888888888888888,\"#fdca26\"],[1.0,\"#f0f921\"]],\"type\":\"heatmap\"}],\"heatmapgl\":[{\"colorbar\":{\"outlinewidth\":0,\"ticks\":\"\"},\"colorscale\":[[0.0,\"#0d0887\"],[0.1111111111111111,\"#46039f\"],[0.2222222222222222,\"#7201a8\"],[0.3333333333333333,\"#9c179e\"],[0.4444444444444444,\"#bd3786\"],[0.5555555555555556,\"#d8576b\"],[0.6666666666666666,\"#ed7953\"],[0.7777777777777778,\"#fb9f3a\"],[0.8888888888888888,\"#fdca26\"],[1.0,\"#f0f921\"]],\"type\":\"heatmapgl\"}],\"histogram\":[{\"marker\":{\"pattern\":{\"fillmode\":\"overlay\",\"size\":10,\"solidity\":0.2}},\"type\":\"histogram\"}],\"histogram2d\":[{\"colorbar\":{\"outlinewidth\":0,\"ticks\":\"\"},\"colorscale\":[[0.0,\"#0d0887\"],[0.1111111111111111,\"#46039f\"],[0.2222222222222222,\"#7201a8\"],[0.3333333333333333,\"#9c179e\"],[0.4444444444444444,\"#bd3786\"],[0.5555555555555556,\"#d8576b\"],[0.6666666666666666,\"#ed7953\"],[0.7777777777777778,\"#fb9f3a\"],[0.8888888888888888,\"#fdca26\"],[1.0,\"#f0f921\"]],\"type\":\"histogram2d\"}],\"histogram2dcontour\":[{\"colorbar\":{\"outlinewidth\":0,\"ticks\":\"\"},\"colorscale\":[[0.0,\"#0d0887\"],[0.1111111111111111,\"#46039f\"],[0.2222222222222222,\"#7201a8\"],[0.3333333333333333,\"#9c179e\"],[0.4444444444444444,\"#bd3786\"],[0.5555555555555556,\"#d8576b\"],[0.6666666666666666,\"#ed7953\"],[0.7777777777777778,\"#fb9f3a\"],[0.8888888888888888,\"#fdca26\"],[1.0,\"#f0f921\"]],\"type\":\"histogram2dcontour\"}],\"mesh3d\":[{\"colorbar\":{\"outlinewidth\":0,\"ticks\":\"\"},\"type\":\"mesh3d\"}],\"parcoords\":[{\"line\":{\"colorbar\":{\"outlinewidth\":0,\"ticks\":\"\"}},\"type\":\"parcoords\"}],\"pie\":[{\"automargin\":true,\"type\":\"pie\"}],\"scatter\":[{\"marker\":{\"colorbar\":{\"outlinewidth\":0,\"ticks\":\"\"}},\"type\":\"scatter\"}],\"scatter3d\":[{\"line\":{\"colorbar\":{\"outlinewidth\":0,\"ticks\":\"\"}},\"marker\":{\"colorbar\":{\"outlinewidth\":0,\"ticks\":\"\"}},\"type\":\"scatter3d\"}],\"scattercarpet\":[{\"marker\":{\"colorbar\":{\"outlinewidth\":0,\"ticks\":\"\"}},\"type\":\"scattercarpet\"}],\"scattergeo\":[{\"marker\":{\"colorbar\":{\"outlinewidth\":0,\"ticks\":\"\"}},\"type\":\"scattergeo\"}],\"scattergl\":[{\"marker\":{\"colorbar\":{\"outlinewidth\":0,\"ticks\":\"\"}},\"type\":\"scattergl\"}],\"scattermapbox\":[{\"marker\":{\"colorbar\":{\"outlinewidth\":0,\"ticks\":\"\"}},\"type\":\"scattermapbox\"}],\"scatterpolar\":[{\"marker\":{\"colorbar\":{\"outlinewidth\":0,\"ticks\":\"\"}},\"type\":\"scatterpolar\"}],\"scatterpolargl\":[{\"marker\":{\"colorbar\":{\"outlinewidth\":0,\"ticks\":\"\"}},\"type\":\"scatterpolargl\"}],\"scatterternary\":[{\"marker\":{\"colorbar\":{\"outlinewidth\":0,\"ticks\":\"\"}},\"type\":\"scatterternary\"}],\"surface\":[{\"colorbar\":{\"outlinewidth\":0,\"ticks\":\"\"},\"colorscale\":[[0.0,\"#0d0887\"],[0.1111111111111111,\"#46039f\"],[0.2222222222222222,\"#7201a8\"],[0.3333333333333333,\"#9c179e\"],[0.4444444444444444,\"#bd3786\"],[0.5555555555555556,\"#d8576b\"],[0.6666666666666666,\"#ed7953\"],[0.7777777777777778,\"#fb9f3a\"],[0.8888888888888888,\"#fdca26\"],[1.0,\"#f0f921\"]],\"type\":\"surface\"}],\"table\":[{\"cells\":{\"fill\":{\"color\":\"#EBF0F8\"},\"line\":{\"color\":\"white\"}},\"header\":{\"fill\":{\"color\":\"#C8D4E3\"},\"line\":{\"color\":\"white\"}},\"type\":\"table\"}]},\"layout\":{\"annotationdefaults\":{\"arrowcolor\":\"#2a3f5f\",\"arrowhead\":0,\"arrowwidth\":1},\"autotypenumbers\":\"strict\",\"coloraxis\":{\"colorbar\":{\"outlinewidth\":0,\"ticks\":\"\"}},\"colorscale\":{\"diverging\":[[0,\"#8e0152\"],[0.1,\"#c51b7d\"],[0.2,\"#de77ae\"],[0.3,\"#f1b6da\"],[0.4,\"#fde0ef\"],[0.5,\"#f7f7f7\"],[0.6,\"#e6f5d0\"],[0.7,\"#b8e186\"],[0.8,\"#7fbc41\"],[0.9,\"#4d9221\"],[1,\"#276419\"]],\"sequential\":[[0.0,\"#0d0887\"],[0.1111111111111111,\"#46039f\"],[0.2222222222222222,\"#7201a8\"],[0.3333333333333333,\"#9c179e\"],[0.4444444444444444,\"#bd3786\"],[0.5555555555555556,\"#d8576b\"],[0.6666666666666666,\"#ed7953\"],[0.7777777777777778,\"#fb9f3a\"],[0.8888888888888888,\"#fdca26\"],[1.0,\"#f0f921\"]],\"sequentialminus\":[[0.0,\"#0d0887\"],[0.1111111111111111,\"#46039f\"],[0.2222222222222222,\"#7201a8\"],[0.3333333333333333,\"#9c179e\"],[0.4444444444444444,\"#bd3786\"],[0.5555555555555556,\"#d8576b\"],[0.6666666666666666,\"#ed7953\"],[0.7777777777777778,\"#fb9f3a\"],[0.8888888888888888,\"#fdca26\"],[1.0,\"#f0f921\"]]},\"colorway\":[\"#636efa\",\"#EF553B\",\"#00cc96\",\"#ab63fa\",\"#FFA15A\",\"#19d3f3\",\"#FF6692\",\"#B6E880\",\"#FF97FF\",\"#FECB52\"],\"font\":{\"color\":\"#2a3f5f\"},\"geo\":{\"bgcolor\":\"white\",\"lakecolor\":\"white\",\"landcolor\":\"#E5ECF6\",\"showlakes\":true,\"showland\":true,\"subunitcolor\":\"white\"},\"hoverlabel\":{\"align\":\"left\"},\"hovermode\":\"closest\",\"mapbox\":{\"style\":\"light\"},\"paper_bgcolor\":\"white\",\"plot_bgcolor\":\"#E5ECF6\",\"polar\":{\"angularaxis\":{\"gridcolor\":\"white\",\"linecolor\":\"white\",\"ticks\":\"\"},\"bgcolor\":\"#E5ECF6\",\"radialaxis\":{\"gridcolor\":\"white\",\"linecolor\":\"white\",\"ticks\":\"\"}},\"scene\":{\"xaxis\":{\"backgroundcolor\":\"#E5ECF6\",\"gridcolor\":\"white\",\"gridwidth\":2,\"linecolor\":\"white\",\"showbackground\":true,\"ticks\":\"\",\"zerolinecolor\":\"white\"},\"yaxis\":{\"backgroundcolor\":\"#E5ECF6\",\"gridcolor\":\"white\",\"gridwidth\":2,\"linecolor\":\"white\",\"showbackground\":true,\"ticks\":\"\",\"zerolinecolor\":\"white\"},\"zaxis\":{\"backgroundcolor\":\"#E5ECF6\",\"gridcolor\":\"white\",\"gridwidth\":2,\"linecolor\":\"white\",\"showbackground\":true,\"ticks\":\"\",\"zerolinecolor\":\"white\"}},\"shapedefaults\":{\"line\":{\"color\":\"#2a3f5f\"}},\"ternary\":{\"aaxis\":{\"gridcolor\":\"white\",\"linecolor\":\"white\",\"ticks\":\"\"},\"baxis\":{\"gridcolor\":\"white\",\"linecolor\":\"white\",\"ticks\":\"\"},\"bgcolor\":\"#E5ECF6\",\"caxis\":{\"gridcolor\":\"white\",\"linecolor\":\"white\",\"ticks\":\"\"}},\"title\":{\"x\":0.05},\"xaxis\":{\"automargin\":true,\"gridcolor\":\"white\",\"linecolor\":\"white\",\"ticks\":\"\",\"title\":{\"standoff\":15},\"zerolinecolor\":\"white\",\"zerolinewidth\":2},\"yaxis\":{\"automargin\":true,\"gridcolor\":\"white\",\"linecolor\":\"white\",\"ticks\":\"\",\"title\":{\"standoff\":15},\"zerolinecolor\":\"white\",\"zerolinewidth\":2}}},\"xaxis\":{\"anchor\":\"y\",\"domain\":[0.0,1.0],\"title\":{\"text\":\"Regionname\"}},\"yaxis\":{\"anchor\":\"x\",\"domain\":[0.0,1.0],\"title\":{\"text\":\"Price\"}},\"coloraxis\":{\"colorbar\":{\"title\":{\"text\":\"Price\"}},\"colorscale\":[[0.0,\"#0d0887\"],[0.1111111111111111,\"#46039f\"],[0.2222222222222222,\"#7201a8\"],[0.3333333333333333,\"#9c179e\"],[0.4444444444444444,\"#bd3786\"],[0.5555555555555556,\"#d8576b\"],[0.6666666666666666,\"#ed7953\"],[0.7777777777777778,\"#fb9f3a\"],[0.8888888888888888,\"#fdca26\"],[1.0,\"#f0f921\"]]},\"legend\":{\"tracegroupgap\":0},\"margin\":{\"t\":60},\"barmode\":\"relative\",\"height\":400,\"width\":1000},                        {\"responsive\": true}                    ).then(function(){\n",
              "                            \n",
              "var gd = document.getElementById('5b7a316a-f2ab-497f-a1b9-a399a7e38380');\n",
              "var x = new MutationObserver(function (mutations, observer) {{\n",
              "        var display = window.getComputedStyle(gd).display;\n",
              "        if (!display || display === 'none') {{\n",
              "            console.log([gd, 'removed!']);\n",
              "            Plotly.purge(gd);\n",
              "            observer.disconnect();\n",
              "        }}\n",
              "}});\n",
              "\n",
              "// Listen for the removal of the full notebook cells\n",
              "var notebookContainer = gd.closest('#notebook-container');\n",
              "if (notebookContainer) {{\n",
              "    x.observe(notebookContainer, {childList: true});\n",
              "}}\n",
              "\n",
              "// Listen for the clearing of the current output cell\n",
              "var outputEl = gd.closest('.output');\n",
              "if (outputEl) {{\n",
              "    x.observe(outputEl, {childList: true});\n",
              "}}\n",
              "\n",
              "                        })                };                            </script>        </div>\n",
              "</body>\n",
              "</html>"
            ]
          },
          "metadata": {}
        }
      ],
      "id": "-2oqhuxJOqP9"
    },
    {
      "cell_type": "markdown",
      "source": [
        "We can see that the highest region name is Southern Metropolitan "
      ],
      "metadata": {
        "id": "3hOV3vWsUPzq"
      },
      "id": "3hOV3vWsUPzq"
    },
    {
      "cell_type": "markdown",
      "source": [
        "## Let's See the property count of each Type"
      ],
      "metadata": {
        "id": "NS9e7mrOOkUY"
      },
      "id": "NS9e7mrOOkUY"
    },
    {
      "cell_type": "code",
      "source": [
        "Top_type = df.groupby([\"Type\"]).sum().sort_values(\"Propertycount\", ascending=False)[:20] # Sort the States as per the sales\n",
        "Top_type.reset_index(inplace=True) # Since we have used groupby, we will have to reset the index to add the states into dataframe"
      ],
      "metadata": {
        "id": "E2T8WEtMOsFh"
      },
      "execution_count": 53,
      "outputs": [],
      "id": "E2T8WEtMOsFh"
    },
    {
      "cell_type": "code",
      "source": [
        "# fig = px.bar(Top_region, x='Type', y='Propertycount' ,color=\"Propertycount\", title=\"Property count for each type\")\n",
        "fig = px.pie(Top_region, values=Top_region['Propertycount'], names=Top_region['Type'],hover_data=['Propertycount','Type'], color='Price',color_discrete_sequence=px.colors.sequential.Agsunset, title='Property Types')\n",
        "fig.update_traces(textposition='inside', textinfo='percent+label')\n",
        "fig.update_layout(\n",
        "    width=500\n",
        ")\n",
        "fig.show()"
      ],
      "metadata": {
        "colab": {
          "base_uri": "https://localhost:8080/",
          "height": 542
        },
        "id": "of9MLLe2OsFi",
        "outputId": "79e5aa40-8e1c-4844-fd34-b24ad61560fa"
      },
      "execution_count": 57,
      "outputs": [
        {
          "output_type": "display_data",
          "data": {
            "text/html": [
              "<html>\n",
              "<head><meta charset=\"utf-8\" /></head>\n",
              "<body>\n",
              "    <div>            <script src=\"https://cdnjs.cloudflare.com/ajax/libs/mathjax/2.7.5/MathJax.js?config=TeX-AMS-MML_SVG\"></script><script type=\"text/javascript\">if (window.MathJax) {MathJax.Hub.Config({SVG: {font: \"STIX-Web\"}});}</script>                <script type=\"text/javascript\">window.PlotlyConfig = {MathJaxConfig: 'local'};</script>\n",
              "        <script src=\"https://cdn.plot.ly/plotly-2.8.3.min.js\"></script>                <div id=\"a59f302e-e5ca-473d-8d3d-68ac55a1a9e4\" class=\"plotly-graph-div\" style=\"height:525px; width:500px;\"></div>            <script type=\"text/javascript\">                                    window.PLOTLYENV=window.PLOTLYENV || {};                                    if (document.getElementById(\"a59f302e-e5ca-473d-8d3d-68ac55a1a9e4\")) {                    Plotly.newPlot(                        \"a59f302e-e5ca-473d-8d3d-68ac55a1a9e4\",                        [{\"customdata\":[[10412.0,\"House\",113761500.0],[7809.0,\"House\",105940800.0],[10331.0,\"House\",96299000.0],[10579.0,\"House\",88584888.0],[14949.0,\"House\",84426500.0],[6938.0,\"House\",72274000.0],[8920.0,\"House\",69726500.0],[11364.0,\"House\",68755500.0],[11918.0,\"House\",64063000.0],[10969.0,\"House\",62835388.0],[5454.0,\"House\",60928500.0],[8870.0,\"House\",59192838.0],[5682.0,\"House\",59159000.0],[9264.0,\"House\",58871000.0],[6543.0,\"House\",56063500.0],[5457.0,\"House\",54819500.0],[11308.0,\"House\",53531000.0],[11204.0,\"House\",51953000.0],[6232.0,\"House\",50402500.0],[14577.0,\"House\",50358000.0],[6567.0,\"House\",50092000.0],[8801.0,\"House\",49907000.0],[7217.0,\"House\",48774000.0],[8648.0,\"House\",48652000.0],[21650.0,\"House\",48516000.0],[9028.0,\"House\",46877800.0],[6795.0,\"House\",45805000.0],[3280.0,\"House\",44791000.0],[4675.0,\"House\",44638000.0],[3052.0,\"House\",44119000.0],[5498.0,\"House\",42187000.0],[6380.0,\"House\",41908500.0],[3265.0,\"House\",40360500.0],[5420.0,\"House\",37161000.0],[14887.0,\"House\",36691000.0],[4836.0,\"House\",36652500.0],[5549.0,\"House\",36257500.0],[5943.0,\"House\",35248000.0],[4898.0,\"House\",33713000.0],[7570.0,\"House\",33311000.0],[7485.0,\"House\",32854500.0],[6244.0,\"House\",29116000.0],[13240.0,\"Unit\",28827000.0],[13240.0,\"House\",28245500.0],[7717.0,\"House\",28146500.0],[2555.0,\"House\",27014250.0],[4019.0,\"House\",26670500.0],[4605.0,\"House\",26384400.0],[7822.0,\"House\",26296000.0],[3284.0,\"House\",26026500.0],[5263.0,\"House\",25555500.0],[5629.0,\"House\",25125200.0],[2417.0,\"House\",25015500.0],[8989.0,\"Unit\",24562000.0],[4918.0,\"House\",24037200.0],[14887.0,\"Unit\",23742500.0],[5678.0,\"House\",23385000.0],[11308.0,\"Unit\",22807000.0],[14949.0,\"Unit\",22759750.0],[7082.0,\"House\",21981500.0],[1651.0,\"House\",21519000.0],[3755.0,\"House\",20841500.0],[8989.0,\"House\",19753500.0],[5533.0,\"House\",19362000.0],[4480.0,\"House\",19133000.0],[10969.0,\"Townhouse\",19037500.0],[5825.0,\"House\",19022500.0],[5051.0,\"House\",18996000.0],[3106.0,\"House\",18988000.0],[2019.0,\"House\",18678000.0],[1543.0,\"House\",17617000.0],[2894.0,\"House\",17371500.0],[8648.0,\"Unit\",17307000.0],[2079.0,\"House\",17122000.0],[3445.0,\"House\",16972000.0],[2954.0,\"House\",16650000.0],[7822.0,\"Unit\",16599750.0],[2947.0,\"House\",16285500.0],[6763.0,\"House\",15945500.0],[3692.0,\"House\",15690347.0],[2671.0,\"House\",15346000.0],[3145.0,\"House\",15218000.0],[2211.0,\"House\",15202500.0],[21650.0,\"Unit\",14700500.0],[9264.0,\"Unit\",14173000.0],[3540.0,\"House\",14164500.0],[2970.0,\"House\",13990000.0],[2606.0,\"House\",13758388.0],[4553.0,\"Unit\",13286500.0],[2329.0,\"House\",12596000.0],[6821.0,\"House\",12591000.0],[1223.0,\"House\",12349000.0],[4502.0,\"House\",11988500.0],[2291.0,\"House\",11914000.0],[5132.0,\"House\",11812500.0],[3873.0,\"House\",11804000.0],[2698.0,\"House\",11700000.0],[3464.0,\"House\",11558000.0],[17496.0,\"Unit\",11533000.0],[6821.0,\"Unit\",11347189.0],[4217.0,\"House\",11268300.0],[4380.0,\"House\",11149000.0],[10579.0,\"Unit\",11137000.0],[8400.0,\"Unit\",10813000.0],[5301.0,\"House\",10695600.0],[2309.0,\"House\",10664000.0],[11918.0,\"Unit\",10103000.0],[2674.0,\"House\",10045250.0],[7717.0,\"Unit\",10039800.0],[8801.0,\"Townhouse\",9895000.0],[10969.0,\"Unit\",9673000.0],[11918.0,\"Townhouse\",9562000.0],[3589.0,\"House\",9528000.0],[7217.0,\"Unit\",9422000.0],[6795.0,\"Townhouse\",9418000.0],[2651.0,\"House\",9271833.0],[8870.0,\"Unit\",9143250.0],[10331.0,\"Unit\",8933000.0],[1369.0,\"House\",8523500.0],[4836.0,\"Unit\",8229500.0],[10579.0,\"Townhouse\",8117000.0],[5682.0,\"Unit\",8064000.0],[14949.0,\"Townhouse\",7989000.0],[3593.0,\"House\",7970000.0],[7485.0,\"Townhouse\",7870500.0],[7217.0,\"Townhouse\",7810000.0],[3582.0,\"House\",7518500.0],[7822.0,\"Townhouse\",7460000.0],[7082.0,\"Unit\",7438000.0],[6923.0,\"House\",7325000.0],[4380.0,\"Unit\",7303000.0],[4553.0,\"House\",7296000.0],[8920.0,\"Unit\",7217000.0],[6232.0,\"Townhouse\",7208500.0],[11204.0,\"Townhouse\",6677000.0],[8870.0,\"Townhouse\",6595500.0],[7570.0,\"Unit\",6482000.0],[5263.0,\"Unit\",6456590.0],[11364.0,\"Unit\",6417000.0],[5454.0,\"Unit\",6295500.0],[5682.0,\"Townhouse\",6254000.0],[4918.0,\"Townhouse\",6227000.0],[6244.0,\"Townhouse\",6145000.0],[6232.0,\"Unit\",5946000.0],[8801.0,\"Unit\",5918500.0],[2952.0,\"House\",5683000.0],[1071.0,\"House\",5601500.0],[5301.0,\"Unit\",5600000.0],[6938.0,\"Townhouse\",5592000.0],[5457.0,\"Unit\",5524500.0],[7570.0,\"Townhouse\",5335000.0],[21650.0,\"Townhouse\",5313500.0],[4898.0,\"Unit\",5017000.0],[6795.0,\"Unit\",5010000.0],[9264.0,\"Townhouse\",4965000.0],[5498.0,\"Townhouse\",4964000.0],[6567.0,\"Unit\",4891000.0],[2230.0,\"Unit\",4811000.0],[14887.0,\"Townhouse\",4720000.0],[3582.0,\"Townhouse\",4598500.0],[2356.0,\"House\",4496000.0],[6938.0,\"Unit\",4495000.0],[9028.0,\"Unit\",4338800.0],[11204.0,\"Unit\",4282500.0],[7717.0,\"Townhouse\",4235000.0],[4836.0,\"Townhouse\",4224000.0],[3052.0,\"Townhouse\",4200000.0],[2970.0,\"Unit\",4155000.0],[7809.0,\"Townhouse\",4145000.0],[10412.0,\"Unit\",4077000.0],[3464.0,\"Townhouse\",4055000.0],[5943.0,\"Unit\",4031000.0],[2230.0,\"Townhouse\",3985000.0],[5549.0,\"Townhouse\",3940000.0],[5533.0,\"Townhouse\",3899000.0],[5825.0,\"Unit\",3890000.0],[5678.0,\"Unit\",3843500.0],[5263.0,\"Townhouse\",3825000.0],[9028.0,\"Townhouse\",3806700.0],[14577.0,\"Unit\",3797000.0],[5629.0,\"Townhouse\",3751000.0],[2230.0,\"House\",3630000.0],[5678.0,\"Townhouse\",3617000.0],[10331.0,\"Townhouse\",3569500.0],[6380.0,\"Unit\",3539500.0],[4918.0,\"Unit\",3508500.0],[1202.0,\"House\",3453000.0],[7082.0,\"Townhouse\",3407500.0],[7485.0,\"Unit\",3391500.0],[5549.0,\"Unit\",3310000.0],[2952.0,\"Unit\",3304500.0],[3593.0,\"Unit\",3292500.0],[2291.0,\"Townhouse\",3260000.0],[6380.0,\"Townhouse\",3225000.0],[11364.0,\"Townhouse\",3116000.0],[6543.0,\"Townhouse\",3110000.0],[6543.0,\"Unit\",2999844.0],[3873.0,\"Townhouse\",2975000.0],[6821.0,\"Townhouse\",2946000.0],[6567.0,\"Townhouse\",2915000.0],[4553.0,\"Townhouse\",2910000.0],[6923.0,\"Unit\",2826000.0],[2555.0,\"Townhouse\",2772000.0],[790.0,\"House\",2763000.0],[5457.0,\"Townhouse\",2745500.0],[4898.0,\"Townhouse\",2741000.0],[13240.0,\"Townhouse\",2695000.0],[1308.0,\"Unit\",2663000.0],[4605.0,\"Townhouse\",2547500.0],[4605.0,\"Unit\",2521000.0],[2079.0,\"Townhouse\",2510000.0],[4675.0,\"Unit\",2501000.0],[2894.0,\"Townhouse\",2430500.0],[3145.0,\"Unit\",2414000.0],[5533.0,\"Unit\",2346000.0],[6244.0,\"Unit\",2335500.0],[8989.0,\"Townhouse\",2315000.0],[1651.0,\"Unit\",2315000.0],[3464.0,\"Unit\",2297000.0],[1543.0,\"Townhouse\",2235000.0],[2651.0,\"Unit\",2119000.0],[14577.0,\"Townhouse\",2089000.0],[2079.0,\"Unit\",1995000.0],[2894.0,\"Unit\",1990000.0],[2309.0,\"Unit\",1929000.0],[2947.0,\"Townhouse\",1891750.0],[4675.0,\"Townhouse\",1890000.0],[2555.0,\"Unit\",1864500.0],[2651.0,\"Townhouse\",1830500.0],[3445.0,\"Townhouse\",1822000.0],[3540.0,\"Unit\",1779000.0],[2954.0,\"Townhouse\",1755000.0],[7809.0,\"Unit\",1731500.0],[2606.0,\"Townhouse\",1728000.0],[3145.0,\"Townhouse\",1728000.0],[4019.0,\"Unit\",1720000.0],[2356.0,\"Unit\",1673000.0],[2970.0,\"Townhouse\",1651000.0],[5629.0,\"Unit\",1642000.0],[4480.0,\"Unit\",1638000.0],[8920.0,\"Townhouse\",1625000.0],[2671.0,\"Townhouse\",1620000.0],[5825.0,\"Townhouse\",1590000.0],[1543.0,\"Unit\",1576000.0],[3589.0,\"Townhouse\",1556000.0],[3265.0,\"Unit\",1552000.0],[3106.0,\"Unit\",1527000.0],[2211.0,\"Unit\",1427500.0],[2954.0,\"Unit\",1380500.0],[1308.0,\"House\",1360000.0],[2417.0,\"Unit\",1338000.0],[3873.0,\"Unit\",1311500.0],[5498.0,\"Unit\",1305000.0],[2379.0,\"Unit\",1272500.0],[2019.0,\"Unit\",1235000.0],[802.0,\"House\",1225000.0],[2356.0,\"Townhouse\",1150000.0],[2291.0,\"Unit\",1117000.0],[2698.0,\"Unit\",1101000.0],[5454.0,\"Townhouse\",1100000.0],[2329.0,\"Unit\",1086000.0],[11308.0,\"Townhouse\",1055000.0],[5051.0,\"Townhouse\",1030000.0],[2952.0,\"Townhouse\",1015000.0],[2947.0,\"Unit\",1005000.0],[1071.0,\"Townhouse\",1000000.0],[4480.0,\"Townhouse\",975000.0],[6763.0,\"Townhouse\",960000.0],[8648.0,\"Townhouse\",950000.0],[10412.0,\"Townhouse\",930000.0],[3755.0,\"Unit\",915500.0],[3755.0,\"Townhouse\",910000.0],[6763.0,\"Unit\",895000.0],[4502.0,\"Townhouse\",851000.0],[1223.0,\"Townhouse\",840000.0],[2211.0,\"Townhouse\",805000.0],[5051.0,\"Unit\",801000.0],[802.0,\"Unit\",747500.0],[5420.0,\"Unit\",725000.0],[2417.0,\"Townhouse\",720000.0],[5301.0,\"Townhouse\",720000.0],[3582.0,\"Unit\",700000.0],[5420.0,\"Townhouse\",678000.0],[2671.0,\"Unit\",605000.0],[3540.0,\"Townhouse\",531000.0],[3589.0,\"Unit\",495000.0],[2606.0,\"Unit\",487000.0],[3280.0,\"Unit\",442500.0],[5132.0,\"Townhouse\",421000.0],[4502.0,\"Unit\",411000.0],[2674.0,\"Townhouse\",370000.0],[2674.0,\"Unit\",360000.0],[5132.0,\"Unit\",292000.0],[2379.0,\"House\",131000.0]],\"domain\":{\"x\":[0.0,1.0],\"y\":[0.0,1.0]},\"hovertemplate\":\"Type=%{customdata[1]}<br>Propertycount=%{customdata[0]}<br>Price=%{customdata[2]}<extra></extra>\",\"labels\":[\"House\",\"House\",\"House\",\"House\",\"House\",\"House\",\"House\",\"House\",\"House\",\"House\",\"House\",\"House\",\"House\",\"House\",\"House\",\"House\",\"House\",\"House\",\"House\",\"House\",\"House\",\"House\",\"House\",\"House\",\"House\",\"House\",\"House\",\"House\",\"House\",\"House\",\"House\",\"House\",\"House\",\"House\",\"House\",\"House\",\"House\",\"House\",\"House\",\"House\",\"House\",\"House\",\"Unit\",\"House\",\"House\",\"House\",\"House\",\"House\",\"House\",\"House\",\"House\",\"House\",\"House\",\"Unit\",\"House\",\"Unit\",\"House\",\"Unit\",\"Unit\",\"House\",\"House\",\"House\",\"House\",\"House\",\"House\",\"Townhouse\",\"House\",\"House\",\"House\",\"House\",\"House\",\"House\",\"Unit\",\"House\",\"House\",\"House\",\"Unit\",\"House\",\"House\",\"House\",\"House\",\"House\",\"House\",\"Unit\",\"Unit\",\"House\",\"House\",\"House\",\"Unit\",\"House\",\"House\",\"House\",\"House\",\"House\",\"House\",\"House\",\"House\",\"House\",\"Unit\",\"Unit\",\"House\",\"House\",\"Unit\",\"Unit\",\"House\",\"House\",\"Unit\",\"House\",\"Unit\",\"Townhouse\",\"Unit\",\"Townhouse\",\"House\",\"Unit\",\"Townhouse\",\"House\",\"Unit\",\"Unit\",\"House\",\"Unit\",\"Townhouse\",\"Unit\",\"Townhouse\",\"House\",\"Townhouse\",\"Townhouse\",\"House\",\"Townhouse\",\"Unit\",\"House\",\"Unit\",\"House\",\"Unit\",\"Townhouse\",\"Townhouse\",\"Townhouse\",\"Unit\",\"Unit\",\"Unit\",\"Unit\",\"Townhouse\",\"Townhouse\",\"Townhouse\",\"Unit\",\"Unit\",\"House\",\"House\",\"Unit\",\"Townhouse\",\"Unit\",\"Townhouse\",\"Townhouse\",\"Unit\",\"Unit\",\"Townhouse\",\"Townhouse\",\"Unit\",\"Unit\",\"Townhouse\",\"Townhouse\",\"House\",\"Unit\",\"Unit\",\"Unit\",\"Townhouse\",\"Townhouse\",\"Townhouse\",\"Unit\",\"Townhouse\",\"Unit\",\"Townhouse\",\"Unit\",\"Townhouse\",\"Townhouse\",\"Townhouse\",\"Unit\",\"Unit\",\"Townhouse\",\"Townhouse\",\"Unit\",\"Townhouse\",\"House\",\"Townhouse\",\"Townhouse\",\"Unit\",\"Unit\",\"House\",\"Townhouse\",\"Unit\",\"Unit\",\"Unit\",\"Unit\",\"Townhouse\",\"Townhouse\",\"Townhouse\",\"Townhouse\",\"Unit\",\"Townhouse\",\"Townhouse\",\"Townhouse\",\"Townhouse\",\"Unit\",\"Townhouse\",\"House\",\"Townhouse\",\"Townhouse\",\"Townhouse\",\"Unit\",\"Townhouse\",\"Unit\",\"Townhouse\",\"Unit\",\"Townhouse\",\"Unit\",\"Unit\",\"Unit\",\"Townhouse\",\"Unit\",\"Unit\",\"Townhouse\",\"Unit\",\"Townhouse\",\"Unit\",\"Unit\",\"Unit\",\"Townhouse\",\"Townhouse\",\"Unit\",\"Townhouse\",\"Townhouse\",\"Unit\",\"Townhouse\",\"Unit\",\"Townhouse\",\"Townhouse\",\"Unit\",\"Unit\",\"Townhouse\",\"Unit\",\"Unit\",\"Townhouse\",\"Townhouse\",\"Townhouse\",\"Unit\",\"Townhouse\",\"Unit\",\"Unit\",\"Unit\",\"Unit\",\"House\",\"Unit\",\"Unit\",\"Unit\",\"Unit\",\"Unit\",\"House\",\"Townhouse\",\"Unit\",\"Unit\",\"Townhouse\",\"Unit\",\"Townhouse\",\"Townhouse\",\"Townhouse\",\"Unit\",\"Townhouse\",\"Townhouse\",\"Townhouse\",\"Townhouse\",\"Townhouse\",\"Unit\",\"Townhouse\",\"Unit\",\"Townhouse\",\"Townhouse\",\"Townhouse\",\"Unit\",\"Unit\",\"Unit\",\"Townhouse\",\"Townhouse\",\"Unit\",\"Townhouse\",\"Unit\",\"Townhouse\",\"Unit\",\"Unit\",\"Unit\",\"Townhouse\",\"Unit\",\"Townhouse\",\"Unit\",\"Unit\",\"House\"],\"legendgroup\":\"\",\"marker\":{\"colors\":[\"rgb(75, 41, 145)\",\"rgb(135, 44, 162)\",\"rgb(192, 54, 157)\",\"rgb(234, 79, 136)\",\"rgb(250, 120, 118)\",\"rgb(246, 169, 122)\",\"rgb(237, 217, 163)\",\"rgb(75, 41, 145)\",\"rgb(135, 44, 162)\",\"rgb(192, 54, 157)\",\"rgb(234, 79, 136)\",\"rgb(250, 120, 118)\",\"rgb(246, 169, 122)\",\"rgb(237, 217, 163)\",\"rgb(75, 41, 145)\",\"rgb(135, 44, 162)\",\"rgb(192, 54, 157)\",\"rgb(234, 79, 136)\",\"rgb(250, 120, 118)\",\"rgb(246, 169, 122)\",\"rgb(237, 217, 163)\",\"rgb(75, 41, 145)\",\"rgb(135, 44, 162)\",\"rgb(192, 54, 157)\",\"rgb(234, 79, 136)\",\"rgb(250, 120, 118)\",\"rgb(246, 169, 122)\",\"rgb(237, 217, 163)\",\"rgb(75, 41, 145)\",\"rgb(135, 44, 162)\",\"rgb(192, 54, 157)\",\"rgb(234, 79, 136)\",\"rgb(250, 120, 118)\",\"rgb(246, 169, 122)\",\"rgb(237, 217, 163)\",\"rgb(75, 41, 145)\",\"rgb(135, 44, 162)\",\"rgb(192, 54, 157)\",\"rgb(234, 79, 136)\",\"rgb(250, 120, 118)\",\"rgb(246, 169, 122)\",\"rgb(237, 217, 163)\",\"rgb(75, 41, 145)\",\"rgb(135, 44, 162)\",\"rgb(192, 54, 157)\",\"rgb(234, 79, 136)\",\"rgb(250, 120, 118)\",\"rgb(246, 169, 122)\",\"rgb(237, 217, 163)\",\"rgb(75, 41, 145)\",\"rgb(135, 44, 162)\",\"rgb(192, 54, 157)\",\"rgb(234, 79, 136)\",\"rgb(250, 120, 118)\",\"rgb(246, 169, 122)\",\"rgb(237, 217, 163)\",\"rgb(75, 41, 145)\",\"rgb(135, 44, 162)\",\"rgb(192, 54, 157)\",\"rgb(234, 79, 136)\",\"rgb(250, 120, 118)\",\"rgb(246, 169, 122)\",\"rgb(237, 217, 163)\",\"rgb(75, 41, 145)\",\"rgb(135, 44, 162)\",\"rgb(192, 54, 157)\",\"rgb(234, 79, 136)\",\"rgb(250, 120, 118)\",\"rgb(246, 169, 122)\",\"rgb(237, 217, 163)\",\"rgb(75, 41, 145)\",\"rgb(135, 44, 162)\",\"rgb(192, 54, 157)\",\"rgb(234, 79, 136)\",\"rgb(250, 120, 118)\",\"rgb(246, 169, 122)\",\"rgb(237, 217, 163)\",\"rgb(75, 41, 145)\",\"rgb(135, 44, 162)\",\"rgb(192, 54, 157)\",\"rgb(234, 79, 136)\",\"rgb(250, 120, 118)\",\"rgb(246, 169, 122)\",\"rgb(237, 217, 163)\",\"rgb(75, 41, 145)\",\"rgb(135, 44, 162)\",\"rgb(192, 54, 157)\",\"rgb(234, 79, 136)\",\"rgb(250, 120, 118)\",\"rgb(246, 169, 122)\",\"rgb(237, 217, 163)\",\"rgb(75, 41, 145)\",\"rgb(135, 44, 162)\",\"rgb(192, 54, 157)\",\"rgb(234, 79, 136)\",\"rgb(250, 120, 118)\",\"rgb(246, 169, 122)\",\"rgb(237, 217, 163)\",\"rgb(75, 41, 145)\",\"rgb(135, 44, 162)\",\"rgb(192, 54, 157)\",\"rgb(234, 79, 136)\",\"rgb(250, 120, 118)\",\"rgb(246, 169, 122)\",\"rgb(237, 217, 163)\",\"rgb(75, 41, 145)\",\"rgb(135, 44, 162)\",\"rgb(192, 54, 157)\",\"rgb(234, 79, 136)\",\"rgb(250, 120, 118)\",\"rgb(246, 169, 122)\",\"rgb(237, 217, 163)\",\"rgb(75, 41, 145)\",\"rgb(135, 44, 162)\",\"rgb(192, 54, 157)\",\"rgb(234, 79, 136)\",\"rgb(250, 120, 118)\",\"rgb(246, 169, 122)\",\"rgb(237, 217, 163)\",\"rgb(75, 41, 145)\",\"rgb(135, 44, 162)\",\"rgb(192, 54, 157)\",\"rgb(234, 79, 136)\",\"rgb(250, 120, 118)\",\"rgb(246, 169, 122)\",\"rgb(237, 217, 163)\",\"rgb(75, 41, 145)\",\"rgb(135, 44, 162)\",\"rgb(192, 54, 157)\",\"rgb(234, 79, 136)\",\"rgb(250, 120, 118)\",\"rgb(246, 169, 122)\",\"rgb(237, 217, 163)\",\"rgb(75, 41, 145)\",\"rgb(135, 44, 162)\",\"rgb(192, 54, 157)\",\"rgb(234, 79, 136)\",\"rgb(250, 120, 118)\",\"rgb(246, 169, 122)\",\"rgb(237, 217, 163)\",\"rgb(75, 41, 145)\",\"rgb(135, 44, 162)\",\"rgb(192, 54, 157)\",\"rgb(234, 79, 136)\",\"rgb(250, 120, 118)\",\"rgb(246, 169, 122)\",\"rgb(237, 217, 163)\",\"rgb(75, 41, 145)\",\"rgb(135, 44, 162)\",\"rgb(192, 54, 157)\",\"rgb(234, 79, 136)\",\"rgb(250, 120, 118)\",\"rgb(246, 169, 122)\",\"rgb(237, 217, 163)\",\"rgb(75, 41, 145)\",\"rgb(135, 44, 162)\",\"rgb(192, 54, 157)\",\"rgb(234, 79, 136)\",\"rgb(250, 120, 118)\",\"rgb(246, 169, 122)\",\"rgb(237, 217, 163)\",\"rgb(75, 41, 145)\",\"rgb(135, 44, 162)\",\"rgb(192, 54, 157)\",\"rgb(234, 79, 136)\",\"rgb(250, 120, 118)\",\"rgb(246, 169, 122)\",\"rgb(237, 217, 163)\",\"rgb(75, 41, 145)\",\"rgb(135, 44, 162)\",\"rgb(192, 54, 157)\",\"rgb(234, 79, 136)\",\"rgb(250, 120, 118)\",\"rgb(246, 169, 122)\",\"rgb(237, 217, 163)\",\"rgb(75, 41, 145)\",\"rgb(135, 44, 162)\",\"rgb(192, 54, 157)\",\"rgb(234, 79, 136)\",\"rgb(250, 120, 118)\",\"rgb(246, 169, 122)\",\"rgb(237, 217, 163)\",\"rgb(75, 41, 145)\",\"rgb(135, 44, 162)\",\"rgb(192, 54, 157)\",\"rgb(234, 79, 136)\",\"rgb(250, 120, 118)\",\"rgb(246, 169, 122)\",\"rgb(237, 217, 163)\",\"rgb(75, 41, 145)\",\"rgb(135, 44, 162)\",\"rgb(192, 54, 157)\",\"rgb(234, 79, 136)\",\"rgb(250, 120, 118)\",\"rgb(246, 169, 122)\",\"rgb(237, 217, 163)\",\"rgb(75, 41, 145)\",\"rgb(135, 44, 162)\",\"rgb(192, 54, 157)\",\"rgb(234, 79, 136)\",\"rgb(250, 120, 118)\",\"rgb(246, 169, 122)\",\"rgb(237, 217, 163)\",\"rgb(75, 41, 145)\",\"rgb(135, 44, 162)\",\"rgb(192, 54, 157)\",\"rgb(234, 79, 136)\",\"rgb(250, 120, 118)\",\"rgb(246, 169, 122)\",\"rgb(237, 217, 163)\",\"rgb(75, 41, 145)\",\"rgb(135, 44, 162)\",\"rgb(192, 54, 157)\",\"rgb(234, 79, 136)\",\"rgb(250, 120, 118)\",\"rgb(246, 169, 122)\",\"rgb(237, 217, 163)\",\"rgb(237, 217, 163)\",\"rgb(75, 41, 145)\",\"rgb(135, 44, 162)\",\"rgb(192, 54, 157)\",\"rgb(234, 79, 136)\",\"rgb(250, 120, 118)\",\"rgb(246, 169, 122)\",\"rgb(237, 217, 163)\",\"rgb(75, 41, 145)\",\"rgb(135, 44, 162)\",\"rgb(192, 54, 157)\",\"rgb(234, 79, 136)\",\"rgb(250, 120, 118)\",\"rgb(246, 169, 122)\",\"rgb(237, 217, 163)\",\"rgb(75, 41, 145)\",\"rgb(135, 44, 162)\",\"rgb(135, 44, 162)\",\"rgb(192, 54, 157)\",\"rgb(234, 79, 136)\",\"rgb(250, 120, 118)\",\"rgb(246, 169, 122)\",\"rgb(237, 217, 163)\",\"rgb(75, 41, 145)\",\"rgb(135, 44, 162)\",\"rgb(192, 54, 157)\",\"rgb(234, 79, 136)\",\"rgb(250, 120, 118)\",\"rgb(246, 169, 122)\",\"rgb(237, 217, 163)\",\"rgb(75, 41, 145)\",\"rgb(135, 44, 162)\",\"rgb(192, 54, 157)\",\"rgb(234, 79, 136)\",\"rgb(250, 120, 118)\",\"rgb(246, 169, 122)\",\"rgb(237, 217, 163)\",\"rgb(75, 41, 145)\",\"rgb(135, 44, 162)\",\"rgb(192, 54, 157)\",\"rgb(234, 79, 136)\",\"rgb(250, 120, 118)\",\"rgb(246, 169, 122)\",\"rgb(237, 217, 163)\",\"rgb(75, 41, 145)\",\"rgb(135, 44, 162)\",\"rgb(192, 54, 157)\",\"rgb(234, 79, 136)\",\"rgb(250, 120, 118)\",\"rgb(246, 169, 122)\",\"rgb(237, 217, 163)\",\"rgb(75, 41, 145)\",\"rgb(135, 44, 162)\",\"rgb(192, 54, 157)\",\"rgb(234, 79, 136)\",\"rgb(250, 120, 118)\",\"rgb(246, 169, 122)\",\"rgb(237, 217, 163)\",\"rgb(75, 41, 145)\",\"rgb(135, 44, 162)\",\"rgb(192, 54, 157)\",\"rgb(234, 79, 136)\",\"rgb(250, 120, 118)\",\"rgb(250, 120, 118)\",\"rgb(246, 169, 122)\",\"rgb(237, 217, 163)\",\"rgb(75, 41, 145)\",\"rgb(135, 44, 162)\",\"rgb(192, 54, 157)\",\"rgb(234, 79, 136)\",\"rgb(250, 120, 118)\",\"rgb(246, 169, 122)\",\"rgb(237, 217, 163)\",\"rgb(75, 41, 145)\",\"rgb(135, 44, 162)\",\"rgb(192, 54, 157)\",\"rgb(234, 79, 136)\"]},\"name\":\"\",\"showlegend\":true,\"values\":[10412.0,7809.0,10331.0,10579.0,14949.0,6938.0,8920.0,11364.0,11918.0,10969.0,5454.0,8870.0,5682.0,9264.0,6543.0,5457.0,11308.0,11204.0,6232.0,14577.0,6567.0,8801.0,7217.0,8648.0,21650.0,9028.0,6795.0,3280.0,4675.0,3052.0,5498.0,6380.0,3265.0,5420.0,14887.0,4836.0,5549.0,5943.0,4898.0,7570.0,7485.0,6244.0,13240.0,13240.0,7717.0,2555.0,4019.0,4605.0,7822.0,3284.0,5263.0,5629.0,2417.0,8989.0,4918.0,14887.0,5678.0,11308.0,14949.0,7082.0,1651.0,3755.0,8989.0,5533.0,4480.0,10969.0,5825.0,5051.0,3106.0,2019.0,1543.0,2894.0,8648.0,2079.0,3445.0,2954.0,7822.0,2947.0,6763.0,3692.0,2671.0,3145.0,2211.0,21650.0,9264.0,3540.0,2970.0,2606.0,4553.0,2329.0,6821.0,1223.0,4502.0,2291.0,5132.0,3873.0,2698.0,3464.0,17496.0,6821.0,4217.0,4380.0,10579.0,8400.0,5301.0,2309.0,11918.0,2674.0,7717.0,8801.0,10969.0,11918.0,3589.0,7217.0,6795.0,2651.0,8870.0,10331.0,1369.0,4836.0,10579.0,5682.0,14949.0,3593.0,7485.0,7217.0,3582.0,7822.0,7082.0,6923.0,4380.0,4553.0,8920.0,6232.0,11204.0,8870.0,7570.0,5263.0,11364.0,5454.0,5682.0,4918.0,6244.0,6232.0,8801.0,2952.0,1071.0,5301.0,6938.0,5457.0,7570.0,21650.0,4898.0,6795.0,9264.0,5498.0,6567.0,2230.0,14887.0,3582.0,2356.0,6938.0,9028.0,11204.0,7717.0,4836.0,3052.0,2970.0,7809.0,10412.0,3464.0,5943.0,2230.0,5549.0,5533.0,5825.0,5678.0,5263.0,9028.0,14577.0,5629.0,2230.0,5678.0,10331.0,6380.0,4918.0,1202.0,7082.0,7485.0,5549.0,2952.0,3593.0,2291.0,6380.0,11364.0,6543.0,6543.0,3873.0,6821.0,6567.0,4553.0,6923.0,2555.0,790.0,5457.0,4898.0,13240.0,1308.0,4605.0,4605.0,2079.0,4675.0,2894.0,3145.0,5533.0,6244.0,8989.0,1651.0,3464.0,1543.0,2651.0,14577.0,2079.0,2894.0,2309.0,2947.0,4675.0,2555.0,2651.0,3445.0,3540.0,2954.0,7809.0,2606.0,3145.0,4019.0,2356.0,2970.0,5629.0,4480.0,8920.0,2671.0,5825.0,1543.0,3589.0,3265.0,3106.0,2211.0,2954.0,1308.0,2417.0,3873.0,5498.0,2379.0,2019.0,802.0,2356.0,2291.0,2698.0,5454.0,2329.0,11308.0,5051.0,2952.0,2947.0,1071.0,4480.0,6763.0,8648.0,10412.0,3755.0,3755.0,6763.0,4502.0,1223.0,2211.0,5051.0,802.0,5420.0,2417.0,5301.0,3582.0,5420.0,2671.0,3540.0,3589.0,2606.0,3280.0,5132.0,4502.0,2674.0,2674.0,5132.0,2379.0],\"type\":\"pie\",\"textinfo\":\"percent+label\",\"textposition\":\"inside\"}],                        {\"template\":{\"data\":{\"bar\":[{\"error_x\":{\"color\":\"#2a3f5f\"},\"error_y\":{\"color\":\"#2a3f5f\"},\"marker\":{\"line\":{\"color\":\"#E5ECF6\",\"width\":0.5},\"pattern\":{\"fillmode\":\"overlay\",\"size\":10,\"solidity\":0.2}},\"type\":\"bar\"}],\"barpolar\":[{\"marker\":{\"line\":{\"color\":\"#E5ECF6\",\"width\":0.5},\"pattern\":{\"fillmode\":\"overlay\",\"size\":10,\"solidity\":0.2}},\"type\":\"barpolar\"}],\"carpet\":[{\"aaxis\":{\"endlinecolor\":\"#2a3f5f\",\"gridcolor\":\"white\",\"linecolor\":\"white\",\"minorgridcolor\":\"white\",\"startlinecolor\":\"#2a3f5f\"},\"baxis\":{\"endlinecolor\":\"#2a3f5f\",\"gridcolor\":\"white\",\"linecolor\":\"white\",\"minorgridcolor\":\"white\",\"startlinecolor\":\"#2a3f5f\"},\"type\":\"carpet\"}],\"choropleth\":[{\"colorbar\":{\"outlinewidth\":0,\"ticks\":\"\"},\"type\":\"choropleth\"}],\"contour\":[{\"colorbar\":{\"outlinewidth\":0,\"ticks\":\"\"},\"colorscale\":[[0.0,\"#0d0887\"],[0.1111111111111111,\"#46039f\"],[0.2222222222222222,\"#7201a8\"],[0.3333333333333333,\"#9c179e\"],[0.4444444444444444,\"#bd3786\"],[0.5555555555555556,\"#d8576b\"],[0.6666666666666666,\"#ed7953\"],[0.7777777777777778,\"#fb9f3a\"],[0.8888888888888888,\"#fdca26\"],[1.0,\"#f0f921\"]],\"type\":\"contour\"}],\"contourcarpet\":[{\"colorbar\":{\"outlinewidth\":0,\"ticks\":\"\"},\"type\":\"contourcarpet\"}],\"heatmap\":[{\"colorbar\":{\"outlinewidth\":0,\"ticks\":\"\"},\"colorscale\":[[0.0,\"#0d0887\"],[0.1111111111111111,\"#46039f\"],[0.2222222222222222,\"#7201a8\"],[0.3333333333333333,\"#9c179e\"],[0.4444444444444444,\"#bd3786\"],[0.5555555555555556,\"#d8576b\"],[0.6666666666666666,\"#ed7953\"],[0.7777777777777778,\"#fb9f3a\"],[0.8888888888888888,\"#fdca26\"],[1.0,\"#f0f921\"]],\"type\":\"heatmap\"}],\"heatmapgl\":[{\"colorbar\":{\"outlinewidth\":0,\"ticks\":\"\"},\"colorscale\":[[0.0,\"#0d0887\"],[0.1111111111111111,\"#46039f\"],[0.2222222222222222,\"#7201a8\"],[0.3333333333333333,\"#9c179e\"],[0.4444444444444444,\"#bd3786\"],[0.5555555555555556,\"#d8576b\"],[0.6666666666666666,\"#ed7953\"],[0.7777777777777778,\"#fb9f3a\"],[0.8888888888888888,\"#fdca26\"],[1.0,\"#f0f921\"]],\"type\":\"heatmapgl\"}],\"histogram\":[{\"marker\":{\"pattern\":{\"fillmode\":\"overlay\",\"size\":10,\"solidity\":0.2}},\"type\":\"histogram\"}],\"histogram2d\":[{\"colorbar\":{\"outlinewidth\":0,\"ticks\":\"\"},\"colorscale\":[[0.0,\"#0d0887\"],[0.1111111111111111,\"#46039f\"],[0.2222222222222222,\"#7201a8\"],[0.3333333333333333,\"#9c179e\"],[0.4444444444444444,\"#bd3786\"],[0.5555555555555556,\"#d8576b\"],[0.6666666666666666,\"#ed7953\"],[0.7777777777777778,\"#fb9f3a\"],[0.8888888888888888,\"#fdca26\"],[1.0,\"#f0f921\"]],\"type\":\"histogram2d\"}],\"histogram2dcontour\":[{\"colorbar\":{\"outlinewidth\":0,\"ticks\":\"\"},\"colorscale\":[[0.0,\"#0d0887\"],[0.1111111111111111,\"#46039f\"],[0.2222222222222222,\"#7201a8\"],[0.3333333333333333,\"#9c179e\"],[0.4444444444444444,\"#bd3786\"],[0.5555555555555556,\"#d8576b\"],[0.6666666666666666,\"#ed7953\"],[0.7777777777777778,\"#fb9f3a\"],[0.8888888888888888,\"#fdca26\"],[1.0,\"#f0f921\"]],\"type\":\"histogram2dcontour\"}],\"mesh3d\":[{\"colorbar\":{\"outlinewidth\":0,\"ticks\":\"\"},\"type\":\"mesh3d\"}],\"parcoords\":[{\"line\":{\"colorbar\":{\"outlinewidth\":0,\"ticks\":\"\"}},\"type\":\"parcoords\"}],\"pie\":[{\"automargin\":true,\"type\":\"pie\"}],\"scatter\":[{\"marker\":{\"colorbar\":{\"outlinewidth\":0,\"ticks\":\"\"}},\"type\":\"scatter\"}],\"scatter3d\":[{\"line\":{\"colorbar\":{\"outlinewidth\":0,\"ticks\":\"\"}},\"marker\":{\"colorbar\":{\"outlinewidth\":0,\"ticks\":\"\"}},\"type\":\"scatter3d\"}],\"scattercarpet\":[{\"marker\":{\"colorbar\":{\"outlinewidth\":0,\"ticks\":\"\"}},\"type\":\"scattercarpet\"}],\"scattergeo\":[{\"marker\":{\"colorbar\":{\"outlinewidth\":0,\"ticks\":\"\"}},\"type\":\"scattergeo\"}],\"scattergl\":[{\"marker\":{\"colorbar\":{\"outlinewidth\":0,\"ticks\":\"\"}},\"type\":\"scattergl\"}],\"scattermapbox\":[{\"marker\":{\"colorbar\":{\"outlinewidth\":0,\"ticks\":\"\"}},\"type\":\"scattermapbox\"}],\"scatterpolar\":[{\"marker\":{\"colorbar\":{\"outlinewidth\":0,\"ticks\":\"\"}},\"type\":\"scatterpolar\"}],\"scatterpolargl\":[{\"marker\":{\"colorbar\":{\"outlinewidth\":0,\"ticks\":\"\"}},\"type\":\"scatterpolargl\"}],\"scatterternary\":[{\"marker\":{\"colorbar\":{\"outlinewidth\":0,\"ticks\":\"\"}},\"type\":\"scatterternary\"}],\"surface\":[{\"colorbar\":{\"outlinewidth\":0,\"ticks\":\"\"},\"colorscale\":[[0.0,\"#0d0887\"],[0.1111111111111111,\"#46039f\"],[0.2222222222222222,\"#7201a8\"],[0.3333333333333333,\"#9c179e\"],[0.4444444444444444,\"#bd3786\"],[0.5555555555555556,\"#d8576b\"],[0.6666666666666666,\"#ed7953\"],[0.7777777777777778,\"#fb9f3a\"],[0.8888888888888888,\"#fdca26\"],[1.0,\"#f0f921\"]],\"type\":\"surface\"}],\"table\":[{\"cells\":{\"fill\":{\"color\":\"#EBF0F8\"},\"line\":{\"color\":\"white\"}},\"header\":{\"fill\":{\"color\":\"#C8D4E3\"},\"line\":{\"color\":\"white\"}},\"type\":\"table\"}]},\"layout\":{\"annotationdefaults\":{\"arrowcolor\":\"#2a3f5f\",\"arrowhead\":0,\"arrowwidth\":1},\"autotypenumbers\":\"strict\",\"coloraxis\":{\"colorbar\":{\"outlinewidth\":0,\"ticks\":\"\"}},\"colorscale\":{\"diverging\":[[0,\"#8e0152\"],[0.1,\"#c51b7d\"],[0.2,\"#de77ae\"],[0.3,\"#f1b6da\"],[0.4,\"#fde0ef\"],[0.5,\"#f7f7f7\"],[0.6,\"#e6f5d0\"],[0.7,\"#b8e186\"],[0.8,\"#7fbc41\"],[0.9,\"#4d9221\"],[1,\"#276419\"]],\"sequential\":[[0.0,\"#0d0887\"],[0.1111111111111111,\"#46039f\"],[0.2222222222222222,\"#7201a8\"],[0.3333333333333333,\"#9c179e\"],[0.4444444444444444,\"#bd3786\"],[0.5555555555555556,\"#d8576b\"],[0.6666666666666666,\"#ed7953\"],[0.7777777777777778,\"#fb9f3a\"],[0.8888888888888888,\"#fdca26\"],[1.0,\"#f0f921\"]],\"sequentialminus\":[[0.0,\"#0d0887\"],[0.1111111111111111,\"#46039f\"],[0.2222222222222222,\"#7201a8\"],[0.3333333333333333,\"#9c179e\"],[0.4444444444444444,\"#bd3786\"],[0.5555555555555556,\"#d8576b\"],[0.6666666666666666,\"#ed7953\"],[0.7777777777777778,\"#fb9f3a\"],[0.8888888888888888,\"#fdca26\"],[1.0,\"#f0f921\"]]},\"colorway\":[\"#636efa\",\"#EF553B\",\"#00cc96\",\"#ab63fa\",\"#FFA15A\",\"#19d3f3\",\"#FF6692\",\"#B6E880\",\"#FF97FF\",\"#FECB52\"],\"font\":{\"color\":\"#2a3f5f\"},\"geo\":{\"bgcolor\":\"white\",\"lakecolor\":\"white\",\"landcolor\":\"#E5ECF6\",\"showlakes\":true,\"showland\":true,\"subunitcolor\":\"white\"},\"hoverlabel\":{\"align\":\"left\"},\"hovermode\":\"closest\",\"mapbox\":{\"style\":\"light\"},\"paper_bgcolor\":\"white\",\"plot_bgcolor\":\"#E5ECF6\",\"polar\":{\"angularaxis\":{\"gridcolor\":\"white\",\"linecolor\":\"white\",\"ticks\":\"\"},\"bgcolor\":\"#E5ECF6\",\"radialaxis\":{\"gridcolor\":\"white\",\"linecolor\":\"white\",\"ticks\":\"\"}},\"scene\":{\"xaxis\":{\"backgroundcolor\":\"#E5ECF6\",\"gridcolor\":\"white\",\"gridwidth\":2,\"linecolor\":\"white\",\"showbackground\":true,\"ticks\":\"\",\"zerolinecolor\":\"white\"},\"yaxis\":{\"backgroundcolor\":\"#E5ECF6\",\"gridcolor\":\"white\",\"gridwidth\":2,\"linecolor\":\"white\",\"showbackground\":true,\"ticks\":\"\",\"zerolinecolor\":\"white\"},\"zaxis\":{\"backgroundcolor\":\"#E5ECF6\",\"gridcolor\":\"white\",\"gridwidth\":2,\"linecolor\":\"white\",\"showbackground\":true,\"ticks\":\"\",\"zerolinecolor\":\"white\"}},\"shapedefaults\":{\"line\":{\"color\":\"#2a3f5f\"}},\"ternary\":{\"aaxis\":{\"gridcolor\":\"white\",\"linecolor\":\"white\",\"ticks\":\"\"},\"baxis\":{\"gridcolor\":\"white\",\"linecolor\":\"white\",\"ticks\":\"\"},\"bgcolor\":\"#E5ECF6\",\"caxis\":{\"gridcolor\":\"white\",\"linecolor\":\"white\",\"ticks\":\"\"}},\"title\":{\"x\":0.05},\"xaxis\":{\"automargin\":true,\"gridcolor\":\"white\",\"linecolor\":\"white\",\"ticks\":\"\",\"title\":{\"standoff\":15},\"zerolinecolor\":\"white\",\"zerolinewidth\":2},\"yaxis\":{\"automargin\":true,\"gridcolor\":\"white\",\"linecolor\":\"white\",\"ticks\":\"\",\"title\":{\"standoff\":15},\"zerolinecolor\":\"white\",\"zerolinewidth\":2}}},\"legend\":{\"tracegroupgap\":0},\"title\":{\"text\":\"Property Types\"},\"piecolorway\":[\"rgb(75, 41, 145)\",\"rgb(135, 44, 162)\",\"rgb(192, 54, 157)\",\"rgb(234, 79, 136)\",\"rgb(250, 120, 118)\",\"rgb(246, 169, 122)\",\"rgb(237, 217, 163)\"],\"width\":500},                        {\"responsive\": true}                    ).then(function(){\n",
              "                            \n",
              "var gd = document.getElementById('a59f302e-e5ca-473d-8d3d-68ac55a1a9e4');\n",
              "var x = new MutationObserver(function (mutations, observer) {{\n",
              "        var display = window.getComputedStyle(gd).display;\n",
              "        if (!display || display === 'none') {{\n",
              "            console.log([gd, 'removed!']);\n",
              "            Plotly.purge(gd);\n",
              "            observer.disconnect();\n",
              "        }}\n",
              "}});\n",
              "\n",
              "// Listen for the removal of the full notebook cells\n",
              "var notebookContainer = gd.closest('#notebook-container');\n",
              "if (notebookContainer) {{\n",
              "    x.observe(notebookContainer, {childList: true});\n",
              "}}\n",
              "\n",
              "// Listen for the clearing of the current output cell\n",
              "var outputEl = gd.closest('.output');\n",
              "if (outputEl) {{\n",
              "    x.observe(outputEl, {childList: true});\n",
              "}}\n",
              "\n",
              "                        })                };                            </script>        </div>\n",
              "</body>\n",
              "</html>"
            ]
          },
          "metadata": {}
        }
      ],
      "id": "of9MLLe2OsFi"
    },
    {
      "cell_type": "markdown",
      "source": [
        "## Let's see what's the most expensive method"
      ],
      "metadata": {
        "id": "vEXI3XyjvaNA"
      },
      "id": "vEXI3XyjvaNA"
    },
    {
      "cell_type": "code",
      "source": [
        "Top_Method = df.groupby([\"Method\",\"Type\"]).sum().sort_values(\"Price\", ascending=False)[:20] # Sort the States as per the sales\n",
        "Top_Method.reset_index(inplace=True) # Since we have used groupby, we will have to reset the index to add the states into dataframe"
      ],
      "metadata": {
        "id": "oGhW0Q3YvaNB"
      },
      "execution_count": 58,
      "outputs": [],
      "id": "oGhW0Q3YvaNB"
    },
    {
      "cell_type": "code",
      "source": [
        "fig = px.bar(Top_Method, x='Method', y='Price' ,hover_data=['Method', 'Price','Type'],color=\"Price\", title=\"Method with highest Price\",width=1000)\n",
        "fig.show()"
      ],
      "metadata": {
        "id": "sqrVVV5avaNC",
        "colab": {
          "base_uri": "https://localhost:8080/",
          "height": 542
        },
        "outputId": "12e35fde-a33d-496b-cba2-611cb57e0ca8"
      },
      "execution_count": 62,
      "outputs": [
        {
          "output_type": "display_data",
          "data": {
            "text/html": [
              "<html>\n",
              "<head><meta charset=\"utf-8\" /></head>\n",
              "<body>\n",
              "    <div>            <script src=\"https://cdnjs.cloudflare.com/ajax/libs/mathjax/2.7.5/MathJax.js?config=TeX-AMS-MML_SVG\"></script><script type=\"text/javascript\">if (window.MathJax) {MathJax.Hub.Config({SVG: {font: \"STIX-Web\"}});}</script>                <script type=\"text/javascript\">window.PlotlyConfig = {MathJaxConfig: 'local'};</script>\n",
              "        <script src=\"https://cdn.plot.ly/plotly-2.8.3.min.js\"></script>                <div id=\"847371b9-bc73-4bbd-b65e-8649488e9c69\" class=\"plotly-graph-div\" style=\"height:525px; width:1000px;\"></div>            <script type=\"text/javascript\">                                    window.PLOTLYENV=window.PLOTLYENV || {};                                    if (document.getElementById(\"847371b9-bc73-4bbd-b65e-8649488e9c69\")) {                    Plotly.newPlot(                        \"847371b9-bc73-4bbd-b65e-8649488e9c69\",                        [{\"alignmentgroup\":\"True\",\"customdata\":[[\"House\"],[\"House\"],[\"Unit\"],[\"House\"],[\"House\"],[\"Townhouse\"],[\"Unit\"],[\"Unit\"],[\"Unit\"],[\"Townhouse\"],[\"Townhouse\"],[\"Townhouse\"],[\"House\"],[\"Unit\"],[\"Townhouse\"]],\"hovertemplate\":\"Method=%{x}<br>Price=%{marker.color}<br>Type=%{customdata[0]}<extra></extra>\",\"legendgroup\":\"\",\"marker\":{\"color\":[2188670747.0,437609000.0,326977640.0,324456735.0,309645000.0,182119750.0,89068333.0,61140000.0,56950000.0,46505000.0,38338700.0,35979000.0,8617500.0,2060000.0,707000.0],\"coloraxis\":\"coloraxis\",\"pattern\":{\"shape\":\"\"}},\"name\":\"\",\"offsetgroup\":\"\",\"orientation\":\"v\",\"showlegend\":false,\"textposition\":\"auto\",\"x\":[\"property_sold\",\"passed_in\",\"property_sold\",\"property_sold_prior\",\"vendor_bid\",\"property_sold\",\"property_sold_prior\",\"passed_in\",\"vendor_bid\",\"passed_in\",\"property_sold_prior\",\"vendor_bid\",\"sold_after_auction\",\"sold_after_auction\",\"sold_after_auction\"],\"xaxis\":\"x\",\"y\":[2188670747.0,437609000.0,326977640.0,324456735.0,309645000.0,182119750.0,89068333.0,61140000.0,56950000.0,46505000.0,38338700.0,35979000.0,8617500.0,2060000.0,707000.0],\"yaxis\":\"y\",\"type\":\"bar\"}],                        {\"template\":{\"data\":{\"bar\":[{\"error_x\":{\"color\":\"#2a3f5f\"},\"error_y\":{\"color\":\"#2a3f5f\"},\"marker\":{\"line\":{\"color\":\"#E5ECF6\",\"width\":0.5},\"pattern\":{\"fillmode\":\"overlay\",\"size\":10,\"solidity\":0.2}},\"type\":\"bar\"}],\"barpolar\":[{\"marker\":{\"line\":{\"color\":\"#E5ECF6\",\"width\":0.5},\"pattern\":{\"fillmode\":\"overlay\",\"size\":10,\"solidity\":0.2}},\"type\":\"barpolar\"}],\"carpet\":[{\"aaxis\":{\"endlinecolor\":\"#2a3f5f\",\"gridcolor\":\"white\",\"linecolor\":\"white\",\"minorgridcolor\":\"white\",\"startlinecolor\":\"#2a3f5f\"},\"baxis\":{\"endlinecolor\":\"#2a3f5f\",\"gridcolor\":\"white\",\"linecolor\":\"white\",\"minorgridcolor\":\"white\",\"startlinecolor\":\"#2a3f5f\"},\"type\":\"carpet\"}],\"choropleth\":[{\"colorbar\":{\"outlinewidth\":0,\"ticks\":\"\"},\"type\":\"choropleth\"}],\"contour\":[{\"colorbar\":{\"outlinewidth\":0,\"ticks\":\"\"},\"colorscale\":[[0.0,\"#0d0887\"],[0.1111111111111111,\"#46039f\"],[0.2222222222222222,\"#7201a8\"],[0.3333333333333333,\"#9c179e\"],[0.4444444444444444,\"#bd3786\"],[0.5555555555555556,\"#d8576b\"],[0.6666666666666666,\"#ed7953\"],[0.7777777777777778,\"#fb9f3a\"],[0.8888888888888888,\"#fdca26\"],[1.0,\"#f0f921\"]],\"type\":\"contour\"}],\"contourcarpet\":[{\"colorbar\":{\"outlinewidth\":0,\"ticks\":\"\"},\"type\":\"contourcarpet\"}],\"heatmap\":[{\"colorbar\":{\"outlinewidth\":0,\"ticks\":\"\"},\"colorscale\":[[0.0,\"#0d0887\"],[0.1111111111111111,\"#46039f\"],[0.2222222222222222,\"#7201a8\"],[0.3333333333333333,\"#9c179e\"],[0.4444444444444444,\"#bd3786\"],[0.5555555555555556,\"#d8576b\"],[0.6666666666666666,\"#ed7953\"],[0.7777777777777778,\"#fb9f3a\"],[0.8888888888888888,\"#fdca26\"],[1.0,\"#f0f921\"]],\"type\":\"heatmap\"}],\"heatmapgl\":[{\"colorbar\":{\"outlinewidth\":0,\"ticks\":\"\"},\"colorscale\":[[0.0,\"#0d0887\"],[0.1111111111111111,\"#46039f\"],[0.2222222222222222,\"#7201a8\"],[0.3333333333333333,\"#9c179e\"],[0.4444444444444444,\"#bd3786\"],[0.5555555555555556,\"#d8576b\"],[0.6666666666666666,\"#ed7953\"],[0.7777777777777778,\"#fb9f3a\"],[0.8888888888888888,\"#fdca26\"],[1.0,\"#f0f921\"]],\"type\":\"heatmapgl\"}],\"histogram\":[{\"marker\":{\"pattern\":{\"fillmode\":\"overlay\",\"size\":10,\"solidity\":0.2}},\"type\":\"histogram\"}],\"histogram2d\":[{\"colorbar\":{\"outlinewidth\":0,\"ticks\":\"\"},\"colorscale\":[[0.0,\"#0d0887\"],[0.1111111111111111,\"#46039f\"],[0.2222222222222222,\"#7201a8\"],[0.3333333333333333,\"#9c179e\"],[0.4444444444444444,\"#bd3786\"],[0.5555555555555556,\"#d8576b\"],[0.6666666666666666,\"#ed7953\"],[0.7777777777777778,\"#fb9f3a\"],[0.8888888888888888,\"#fdca26\"],[1.0,\"#f0f921\"]],\"type\":\"histogram2d\"}],\"histogram2dcontour\":[{\"colorbar\":{\"outlinewidth\":0,\"ticks\":\"\"},\"colorscale\":[[0.0,\"#0d0887\"],[0.1111111111111111,\"#46039f\"],[0.2222222222222222,\"#7201a8\"],[0.3333333333333333,\"#9c179e\"],[0.4444444444444444,\"#bd3786\"],[0.5555555555555556,\"#d8576b\"],[0.6666666666666666,\"#ed7953\"],[0.7777777777777778,\"#fb9f3a\"],[0.8888888888888888,\"#fdca26\"],[1.0,\"#f0f921\"]],\"type\":\"histogram2dcontour\"}],\"mesh3d\":[{\"colorbar\":{\"outlinewidth\":0,\"ticks\":\"\"},\"type\":\"mesh3d\"}],\"parcoords\":[{\"line\":{\"colorbar\":{\"outlinewidth\":0,\"ticks\":\"\"}},\"type\":\"parcoords\"}],\"pie\":[{\"automargin\":true,\"type\":\"pie\"}],\"scatter\":[{\"marker\":{\"colorbar\":{\"outlinewidth\":0,\"ticks\":\"\"}},\"type\":\"scatter\"}],\"scatter3d\":[{\"line\":{\"colorbar\":{\"outlinewidth\":0,\"ticks\":\"\"}},\"marker\":{\"colorbar\":{\"outlinewidth\":0,\"ticks\":\"\"}},\"type\":\"scatter3d\"}],\"scattercarpet\":[{\"marker\":{\"colorbar\":{\"outlinewidth\":0,\"ticks\":\"\"}},\"type\":\"scattercarpet\"}],\"scattergeo\":[{\"marker\":{\"colorbar\":{\"outlinewidth\":0,\"ticks\":\"\"}},\"type\":\"scattergeo\"}],\"scattergl\":[{\"marker\":{\"colorbar\":{\"outlinewidth\":0,\"ticks\":\"\"}},\"type\":\"scattergl\"}],\"scattermapbox\":[{\"marker\":{\"colorbar\":{\"outlinewidth\":0,\"ticks\":\"\"}},\"type\":\"scattermapbox\"}],\"scatterpolar\":[{\"marker\":{\"colorbar\":{\"outlinewidth\":0,\"ticks\":\"\"}},\"type\":\"scatterpolar\"}],\"scatterpolargl\":[{\"marker\":{\"colorbar\":{\"outlinewidth\":0,\"ticks\":\"\"}},\"type\":\"scatterpolargl\"}],\"scatterternary\":[{\"marker\":{\"colorbar\":{\"outlinewidth\":0,\"ticks\":\"\"}},\"type\":\"scatterternary\"}],\"surface\":[{\"colorbar\":{\"outlinewidth\":0,\"ticks\":\"\"},\"colorscale\":[[0.0,\"#0d0887\"],[0.1111111111111111,\"#46039f\"],[0.2222222222222222,\"#7201a8\"],[0.3333333333333333,\"#9c179e\"],[0.4444444444444444,\"#bd3786\"],[0.5555555555555556,\"#d8576b\"],[0.6666666666666666,\"#ed7953\"],[0.7777777777777778,\"#fb9f3a\"],[0.8888888888888888,\"#fdca26\"],[1.0,\"#f0f921\"]],\"type\":\"surface\"}],\"table\":[{\"cells\":{\"fill\":{\"color\":\"#EBF0F8\"},\"line\":{\"color\":\"white\"}},\"header\":{\"fill\":{\"color\":\"#C8D4E3\"},\"line\":{\"color\":\"white\"}},\"type\":\"table\"}]},\"layout\":{\"annotationdefaults\":{\"arrowcolor\":\"#2a3f5f\",\"arrowhead\":0,\"arrowwidth\":1},\"autotypenumbers\":\"strict\",\"coloraxis\":{\"colorbar\":{\"outlinewidth\":0,\"ticks\":\"\"}},\"colorscale\":{\"diverging\":[[0,\"#8e0152\"],[0.1,\"#c51b7d\"],[0.2,\"#de77ae\"],[0.3,\"#f1b6da\"],[0.4,\"#fde0ef\"],[0.5,\"#f7f7f7\"],[0.6,\"#e6f5d0\"],[0.7,\"#b8e186\"],[0.8,\"#7fbc41\"],[0.9,\"#4d9221\"],[1,\"#276419\"]],\"sequential\":[[0.0,\"#0d0887\"],[0.1111111111111111,\"#46039f\"],[0.2222222222222222,\"#7201a8\"],[0.3333333333333333,\"#9c179e\"],[0.4444444444444444,\"#bd3786\"],[0.5555555555555556,\"#d8576b\"],[0.6666666666666666,\"#ed7953\"],[0.7777777777777778,\"#fb9f3a\"],[0.8888888888888888,\"#fdca26\"],[1.0,\"#f0f921\"]],\"sequentialminus\":[[0.0,\"#0d0887\"],[0.1111111111111111,\"#46039f\"],[0.2222222222222222,\"#7201a8\"],[0.3333333333333333,\"#9c179e\"],[0.4444444444444444,\"#bd3786\"],[0.5555555555555556,\"#d8576b\"],[0.6666666666666666,\"#ed7953\"],[0.7777777777777778,\"#fb9f3a\"],[0.8888888888888888,\"#fdca26\"],[1.0,\"#f0f921\"]]},\"colorway\":[\"#636efa\",\"#EF553B\",\"#00cc96\",\"#ab63fa\",\"#FFA15A\",\"#19d3f3\",\"#FF6692\",\"#B6E880\",\"#FF97FF\",\"#FECB52\"],\"font\":{\"color\":\"#2a3f5f\"},\"geo\":{\"bgcolor\":\"white\",\"lakecolor\":\"white\",\"landcolor\":\"#E5ECF6\",\"showlakes\":true,\"showland\":true,\"subunitcolor\":\"white\"},\"hoverlabel\":{\"align\":\"left\"},\"hovermode\":\"closest\",\"mapbox\":{\"style\":\"light\"},\"paper_bgcolor\":\"white\",\"plot_bgcolor\":\"#E5ECF6\",\"polar\":{\"angularaxis\":{\"gridcolor\":\"white\",\"linecolor\":\"white\",\"ticks\":\"\"},\"bgcolor\":\"#E5ECF6\",\"radialaxis\":{\"gridcolor\":\"white\",\"linecolor\":\"white\",\"ticks\":\"\"}},\"scene\":{\"xaxis\":{\"backgroundcolor\":\"#E5ECF6\",\"gridcolor\":\"white\",\"gridwidth\":2,\"linecolor\":\"white\",\"showbackground\":true,\"ticks\":\"\",\"zerolinecolor\":\"white\"},\"yaxis\":{\"backgroundcolor\":\"#E5ECF6\",\"gridcolor\":\"white\",\"gridwidth\":2,\"linecolor\":\"white\",\"showbackground\":true,\"ticks\":\"\",\"zerolinecolor\":\"white\"},\"zaxis\":{\"backgroundcolor\":\"#E5ECF6\",\"gridcolor\":\"white\",\"gridwidth\":2,\"linecolor\":\"white\",\"showbackground\":true,\"ticks\":\"\",\"zerolinecolor\":\"white\"}},\"shapedefaults\":{\"line\":{\"color\":\"#2a3f5f\"}},\"ternary\":{\"aaxis\":{\"gridcolor\":\"white\",\"linecolor\":\"white\",\"ticks\":\"\"},\"baxis\":{\"gridcolor\":\"white\",\"linecolor\":\"white\",\"ticks\":\"\"},\"bgcolor\":\"#E5ECF6\",\"caxis\":{\"gridcolor\":\"white\",\"linecolor\":\"white\",\"ticks\":\"\"}},\"title\":{\"x\":0.05},\"xaxis\":{\"automargin\":true,\"gridcolor\":\"white\",\"linecolor\":\"white\",\"ticks\":\"\",\"title\":{\"standoff\":15},\"zerolinecolor\":\"white\",\"zerolinewidth\":2},\"yaxis\":{\"automargin\":true,\"gridcolor\":\"white\",\"linecolor\":\"white\",\"ticks\":\"\",\"title\":{\"standoff\":15},\"zerolinecolor\":\"white\",\"zerolinewidth\":2}}},\"xaxis\":{\"anchor\":\"y\",\"domain\":[0.0,1.0],\"title\":{\"text\":\"Method\"}},\"yaxis\":{\"anchor\":\"x\",\"domain\":[0.0,1.0],\"title\":{\"text\":\"Price\"}},\"coloraxis\":{\"colorbar\":{\"title\":{\"text\":\"Price\"}},\"colorscale\":[[0.0,\"#0d0887\"],[0.1111111111111111,\"#46039f\"],[0.2222222222222222,\"#7201a8\"],[0.3333333333333333,\"#9c179e\"],[0.4444444444444444,\"#bd3786\"],[0.5555555555555556,\"#d8576b\"],[0.6666666666666666,\"#ed7953\"],[0.7777777777777778,\"#fb9f3a\"],[0.8888888888888888,\"#fdca26\"],[1.0,\"#f0f921\"]]},\"legend\":{\"tracegroupgap\":0},\"title\":{\"text\":\"Method with highest Price\"},\"barmode\":\"relative\",\"width\":1000},                        {\"responsive\": true}                    ).then(function(){\n",
              "                            \n",
              "var gd = document.getElementById('847371b9-bc73-4bbd-b65e-8649488e9c69');\n",
              "var x = new MutationObserver(function (mutations, observer) {{\n",
              "        var display = window.getComputedStyle(gd).display;\n",
              "        if (!display || display === 'none') {{\n",
              "            console.log([gd, 'removed!']);\n",
              "            Plotly.purge(gd);\n",
              "            observer.disconnect();\n",
              "        }}\n",
              "}});\n",
              "\n",
              "// Listen for the removal of the full notebook cells\n",
              "var notebookContainer = gd.closest('#notebook-container');\n",
              "if (notebookContainer) {{\n",
              "    x.observe(notebookContainer, {childList: true});\n",
              "}}\n",
              "\n",
              "// Listen for the clearing of the current output cell\n",
              "var outputEl = gd.closest('.output');\n",
              "if (outputEl) {{\n",
              "    x.observe(outputEl, {childList: true});\n",
              "}}\n",
              "\n",
              "                        })                };                            </script>        </div>\n",
              "</body>\n",
              "</html>"
            ]
          },
          "metadata": {}
        }
      ],
      "id": "sqrVVV5avaNC"
    },
    {
      "cell_type": "markdown",
      "source": [
        "Let's see what's the most common Suburb\t"
      ],
      "metadata": {
        "id": "_PViWDT9vaVa"
      },
      "id": "_PViWDT9vaVa"
    },
    {
      "cell_type": "code",
      "source": [
        "Top_suburb = df.groupby([\"Suburb\",\"Type\"]).sum().sort_values(\"Price\", ascending=False)[:20] # Sort the States as per the sales\n",
        "Top_suburb.reset_index(inplace=True) # Since we have used groupby, we will have to reset the index to add the states into dataframe"
      ],
      "metadata": {
        "id": "Y_KLJ6ACvaVb"
      },
      "execution_count": 60,
      "outputs": [],
      "id": "Y_KLJ6ACvaVb"
    },
    {
      "cell_type": "code",
      "source": [
        "fig = px.bar(Top_suburb, x='Suburb', y='Price',hover_data=['Suburb', 'Price','Type'] ,color=\"Price\", title=\"Suburb with highest Price\",width=1000)\n",
        "fig.show()"
      ],
      "metadata": {
        "id": "e-nKB5phvaVb",
        "colab": {
          "base_uri": "https://localhost:8080/",
          "height": 542
        },
        "outputId": "341274be-c42d-4d3e-f83d-c2d5d9441e20"
      },
      "execution_count": 63,
      "outputs": [
        {
          "output_type": "display_data",
          "data": {
            "text/html": [
              "<html>\n",
              "<head><meta charset=\"utf-8\" /></head>\n",
              "<body>\n",
              "    <div>            <script src=\"https://cdnjs.cloudflare.com/ajax/libs/mathjax/2.7.5/MathJax.js?config=TeX-AMS-MML_SVG\"></script><script type=\"text/javascript\">if (window.MathJax) {MathJax.Hub.Config({SVG: {font: \"STIX-Web\"}});}</script>                <script type=\"text/javascript\">window.PlotlyConfig = {MathJaxConfig: 'local'};</script>\n",
              "        <script src=\"https://cdn.plot.ly/plotly-2.8.3.min.js\"></script>                <div id=\"a9c18864-989c-4d7c-8146-7ec39af26d13\" class=\"plotly-graph-div\" style=\"height:525px; width:1000px;\"></div>            <script type=\"text/javascript\">                                    window.PLOTLYENV=window.PLOTLYENV || {};                                    if (document.getElementById(\"a9c18864-989c-4d7c-8146-7ec39af26d13\")) {                    Plotly.newPlot(                        \"a9c18864-989c-4d7c-8146-7ec39af26d13\",                        [{\"alignmentgroup\":\"True\",\"customdata\":[[\"House\"],[\"House\"],[\"House\"],[\"House\"],[\"House\"],[\"House\"],[\"House\"],[\"House\"],[\"House\"],[\"House\"],[\"House\"],[\"House\"],[\"House\"],[\"House\"],[\"House\"],[\"House\"],[\"House\"],[\"House\"],[\"House\"],[\"House\"]],\"hovertemplate\":\"Suburb=%{x}<br>Price=%{marker.color}<br>Type=%{customdata[0]}<extra></extra>\",\"legendgroup\":\"\",\"marker\":{\"color\":[113761500.0,105940800.0,96299000.0,88584888.0,84426500.0,72274000.0,69726500.0,68755500.0,64063000.0,62835388.0,60928500.0,59159000.0,58871000.0,56063500.0,54819500.0,53531000.0,51953000.0,50402500.0,50358000.0,50092000.0],\"coloraxis\":\"coloraxis\",\"pattern\":{\"shape\":\"\"}},\"name\":\"\",\"offsetgroup\":\"\",\"orientation\":\"v\",\"showlegend\":false,\"textposition\":\"auto\",\"x\":[\"Glen Iris\",\"Balwyn North\",\"Kew\",\"Brighton\",\"Richmond\",\"Brighton East\",\"Camberwell\",\"Northcote\",\"Brunswick\",\"Bentleigh East\",\"Hampton\",\"Balwyn\",\"Essendon\",\"Yarraville\",\"Surrey Hills\",\"Hawthorn\",\"Coburg\",\"Moonee Ponds\",\"Preston\",\"Ascot Vale\"],\"xaxis\":\"x\",\"y\":[113761500.0,105940800.0,96299000.0,88584888.0,84426500.0,72274000.0,69726500.0,68755500.0,64063000.0,62835388.0,60928500.0,59159000.0,58871000.0,56063500.0,54819500.0,53531000.0,51953000.0,50402500.0,50358000.0,50092000.0],\"yaxis\":\"y\",\"type\":\"bar\"}],                        {\"template\":{\"data\":{\"bar\":[{\"error_x\":{\"color\":\"#2a3f5f\"},\"error_y\":{\"color\":\"#2a3f5f\"},\"marker\":{\"line\":{\"color\":\"#E5ECF6\",\"width\":0.5},\"pattern\":{\"fillmode\":\"overlay\",\"size\":10,\"solidity\":0.2}},\"type\":\"bar\"}],\"barpolar\":[{\"marker\":{\"line\":{\"color\":\"#E5ECF6\",\"width\":0.5},\"pattern\":{\"fillmode\":\"overlay\",\"size\":10,\"solidity\":0.2}},\"type\":\"barpolar\"}],\"carpet\":[{\"aaxis\":{\"endlinecolor\":\"#2a3f5f\",\"gridcolor\":\"white\",\"linecolor\":\"white\",\"minorgridcolor\":\"white\",\"startlinecolor\":\"#2a3f5f\"},\"baxis\":{\"endlinecolor\":\"#2a3f5f\",\"gridcolor\":\"white\",\"linecolor\":\"white\",\"minorgridcolor\":\"white\",\"startlinecolor\":\"#2a3f5f\"},\"type\":\"carpet\"}],\"choropleth\":[{\"colorbar\":{\"outlinewidth\":0,\"ticks\":\"\"},\"type\":\"choropleth\"}],\"contour\":[{\"colorbar\":{\"outlinewidth\":0,\"ticks\":\"\"},\"colorscale\":[[0.0,\"#0d0887\"],[0.1111111111111111,\"#46039f\"],[0.2222222222222222,\"#7201a8\"],[0.3333333333333333,\"#9c179e\"],[0.4444444444444444,\"#bd3786\"],[0.5555555555555556,\"#d8576b\"],[0.6666666666666666,\"#ed7953\"],[0.7777777777777778,\"#fb9f3a\"],[0.8888888888888888,\"#fdca26\"],[1.0,\"#f0f921\"]],\"type\":\"contour\"}],\"contourcarpet\":[{\"colorbar\":{\"outlinewidth\":0,\"ticks\":\"\"},\"type\":\"contourcarpet\"}],\"heatmap\":[{\"colorbar\":{\"outlinewidth\":0,\"ticks\":\"\"},\"colorscale\":[[0.0,\"#0d0887\"],[0.1111111111111111,\"#46039f\"],[0.2222222222222222,\"#7201a8\"],[0.3333333333333333,\"#9c179e\"],[0.4444444444444444,\"#bd3786\"],[0.5555555555555556,\"#d8576b\"],[0.6666666666666666,\"#ed7953\"],[0.7777777777777778,\"#fb9f3a\"],[0.8888888888888888,\"#fdca26\"],[1.0,\"#f0f921\"]],\"type\":\"heatmap\"}],\"heatmapgl\":[{\"colorbar\":{\"outlinewidth\":0,\"ticks\":\"\"},\"colorscale\":[[0.0,\"#0d0887\"],[0.1111111111111111,\"#46039f\"],[0.2222222222222222,\"#7201a8\"],[0.3333333333333333,\"#9c179e\"],[0.4444444444444444,\"#bd3786\"],[0.5555555555555556,\"#d8576b\"],[0.6666666666666666,\"#ed7953\"],[0.7777777777777778,\"#fb9f3a\"],[0.8888888888888888,\"#fdca26\"],[1.0,\"#f0f921\"]],\"type\":\"heatmapgl\"}],\"histogram\":[{\"marker\":{\"pattern\":{\"fillmode\":\"overlay\",\"size\":10,\"solidity\":0.2}},\"type\":\"histogram\"}],\"histogram2d\":[{\"colorbar\":{\"outlinewidth\":0,\"ticks\":\"\"},\"colorscale\":[[0.0,\"#0d0887\"],[0.1111111111111111,\"#46039f\"],[0.2222222222222222,\"#7201a8\"],[0.3333333333333333,\"#9c179e\"],[0.4444444444444444,\"#bd3786\"],[0.5555555555555556,\"#d8576b\"],[0.6666666666666666,\"#ed7953\"],[0.7777777777777778,\"#fb9f3a\"],[0.8888888888888888,\"#fdca26\"],[1.0,\"#f0f921\"]],\"type\":\"histogram2d\"}],\"histogram2dcontour\":[{\"colorbar\":{\"outlinewidth\":0,\"ticks\":\"\"},\"colorscale\":[[0.0,\"#0d0887\"],[0.1111111111111111,\"#46039f\"],[0.2222222222222222,\"#7201a8\"],[0.3333333333333333,\"#9c179e\"],[0.4444444444444444,\"#bd3786\"],[0.5555555555555556,\"#d8576b\"],[0.6666666666666666,\"#ed7953\"],[0.7777777777777778,\"#fb9f3a\"],[0.8888888888888888,\"#fdca26\"],[1.0,\"#f0f921\"]],\"type\":\"histogram2dcontour\"}],\"mesh3d\":[{\"colorbar\":{\"outlinewidth\":0,\"ticks\":\"\"},\"type\":\"mesh3d\"}],\"parcoords\":[{\"line\":{\"colorbar\":{\"outlinewidth\":0,\"ticks\":\"\"}},\"type\":\"parcoords\"}],\"pie\":[{\"automargin\":true,\"type\":\"pie\"}],\"scatter\":[{\"marker\":{\"colorbar\":{\"outlinewidth\":0,\"ticks\":\"\"}},\"type\":\"scatter\"}],\"scatter3d\":[{\"line\":{\"colorbar\":{\"outlinewidth\":0,\"ticks\":\"\"}},\"marker\":{\"colorbar\":{\"outlinewidth\":0,\"ticks\":\"\"}},\"type\":\"scatter3d\"}],\"scattercarpet\":[{\"marker\":{\"colorbar\":{\"outlinewidth\":0,\"ticks\":\"\"}},\"type\":\"scattercarpet\"}],\"scattergeo\":[{\"marker\":{\"colorbar\":{\"outlinewidth\":0,\"ticks\":\"\"}},\"type\":\"scattergeo\"}],\"scattergl\":[{\"marker\":{\"colorbar\":{\"outlinewidth\":0,\"ticks\":\"\"}},\"type\":\"scattergl\"}],\"scattermapbox\":[{\"marker\":{\"colorbar\":{\"outlinewidth\":0,\"ticks\":\"\"}},\"type\":\"scattermapbox\"}],\"scatterpolar\":[{\"marker\":{\"colorbar\":{\"outlinewidth\":0,\"ticks\":\"\"}},\"type\":\"scatterpolar\"}],\"scatterpolargl\":[{\"marker\":{\"colorbar\":{\"outlinewidth\":0,\"ticks\":\"\"}},\"type\":\"scatterpolargl\"}],\"scatterternary\":[{\"marker\":{\"colorbar\":{\"outlinewidth\":0,\"ticks\":\"\"}},\"type\":\"scatterternary\"}],\"surface\":[{\"colorbar\":{\"outlinewidth\":0,\"ticks\":\"\"},\"colorscale\":[[0.0,\"#0d0887\"],[0.1111111111111111,\"#46039f\"],[0.2222222222222222,\"#7201a8\"],[0.3333333333333333,\"#9c179e\"],[0.4444444444444444,\"#bd3786\"],[0.5555555555555556,\"#d8576b\"],[0.6666666666666666,\"#ed7953\"],[0.7777777777777778,\"#fb9f3a\"],[0.8888888888888888,\"#fdca26\"],[1.0,\"#f0f921\"]],\"type\":\"surface\"}],\"table\":[{\"cells\":{\"fill\":{\"color\":\"#EBF0F8\"},\"line\":{\"color\":\"white\"}},\"header\":{\"fill\":{\"color\":\"#C8D4E3\"},\"line\":{\"color\":\"white\"}},\"type\":\"table\"}]},\"layout\":{\"annotationdefaults\":{\"arrowcolor\":\"#2a3f5f\",\"arrowhead\":0,\"arrowwidth\":1},\"autotypenumbers\":\"strict\",\"coloraxis\":{\"colorbar\":{\"outlinewidth\":0,\"ticks\":\"\"}},\"colorscale\":{\"diverging\":[[0,\"#8e0152\"],[0.1,\"#c51b7d\"],[0.2,\"#de77ae\"],[0.3,\"#f1b6da\"],[0.4,\"#fde0ef\"],[0.5,\"#f7f7f7\"],[0.6,\"#e6f5d0\"],[0.7,\"#b8e186\"],[0.8,\"#7fbc41\"],[0.9,\"#4d9221\"],[1,\"#276419\"]],\"sequential\":[[0.0,\"#0d0887\"],[0.1111111111111111,\"#46039f\"],[0.2222222222222222,\"#7201a8\"],[0.3333333333333333,\"#9c179e\"],[0.4444444444444444,\"#bd3786\"],[0.5555555555555556,\"#d8576b\"],[0.6666666666666666,\"#ed7953\"],[0.7777777777777778,\"#fb9f3a\"],[0.8888888888888888,\"#fdca26\"],[1.0,\"#f0f921\"]],\"sequentialminus\":[[0.0,\"#0d0887\"],[0.1111111111111111,\"#46039f\"],[0.2222222222222222,\"#7201a8\"],[0.3333333333333333,\"#9c179e\"],[0.4444444444444444,\"#bd3786\"],[0.5555555555555556,\"#d8576b\"],[0.6666666666666666,\"#ed7953\"],[0.7777777777777778,\"#fb9f3a\"],[0.8888888888888888,\"#fdca26\"],[1.0,\"#f0f921\"]]},\"colorway\":[\"#636efa\",\"#EF553B\",\"#00cc96\",\"#ab63fa\",\"#FFA15A\",\"#19d3f3\",\"#FF6692\",\"#B6E880\",\"#FF97FF\",\"#FECB52\"],\"font\":{\"color\":\"#2a3f5f\"},\"geo\":{\"bgcolor\":\"white\",\"lakecolor\":\"white\",\"landcolor\":\"#E5ECF6\",\"showlakes\":true,\"showland\":true,\"subunitcolor\":\"white\"},\"hoverlabel\":{\"align\":\"left\"},\"hovermode\":\"closest\",\"mapbox\":{\"style\":\"light\"},\"paper_bgcolor\":\"white\",\"plot_bgcolor\":\"#E5ECF6\",\"polar\":{\"angularaxis\":{\"gridcolor\":\"white\",\"linecolor\":\"white\",\"ticks\":\"\"},\"bgcolor\":\"#E5ECF6\",\"radialaxis\":{\"gridcolor\":\"white\",\"linecolor\":\"white\",\"ticks\":\"\"}},\"scene\":{\"xaxis\":{\"backgroundcolor\":\"#E5ECF6\",\"gridcolor\":\"white\",\"gridwidth\":2,\"linecolor\":\"white\",\"showbackground\":true,\"ticks\":\"\",\"zerolinecolor\":\"white\"},\"yaxis\":{\"backgroundcolor\":\"#E5ECF6\",\"gridcolor\":\"white\",\"gridwidth\":2,\"linecolor\":\"white\",\"showbackground\":true,\"ticks\":\"\",\"zerolinecolor\":\"white\"},\"zaxis\":{\"backgroundcolor\":\"#E5ECF6\",\"gridcolor\":\"white\",\"gridwidth\":2,\"linecolor\":\"white\",\"showbackground\":true,\"ticks\":\"\",\"zerolinecolor\":\"white\"}},\"shapedefaults\":{\"line\":{\"color\":\"#2a3f5f\"}},\"ternary\":{\"aaxis\":{\"gridcolor\":\"white\",\"linecolor\":\"white\",\"ticks\":\"\"},\"baxis\":{\"gridcolor\":\"white\",\"linecolor\":\"white\",\"ticks\":\"\"},\"bgcolor\":\"#E5ECF6\",\"caxis\":{\"gridcolor\":\"white\",\"linecolor\":\"white\",\"ticks\":\"\"}},\"title\":{\"x\":0.05},\"xaxis\":{\"automargin\":true,\"gridcolor\":\"white\",\"linecolor\":\"white\",\"ticks\":\"\",\"title\":{\"standoff\":15},\"zerolinecolor\":\"white\",\"zerolinewidth\":2},\"yaxis\":{\"automargin\":true,\"gridcolor\":\"white\",\"linecolor\":\"white\",\"ticks\":\"\",\"title\":{\"standoff\":15},\"zerolinecolor\":\"white\",\"zerolinewidth\":2}}},\"xaxis\":{\"anchor\":\"y\",\"domain\":[0.0,1.0],\"title\":{\"text\":\"Suburb\"}},\"yaxis\":{\"anchor\":\"x\",\"domain\":[0.0,1.0],\"title\":{\"text\":\"Price\"}},\"coloraxis\":{\"colorbar\":{\"title\":{\"text\":\"Price\"}},\"colorscale\":[[0.0,\"#0d0887\"],[0.1111111111111111,\"#46039f\"],[0.2222222222222222,\"#7201a8\"],[0.3333333333333333,\"#9c179e\"],[0.4444444444444444,\"#bd3786\"],[0.5555555555555556,\"#d8576b\"],[0.6666666666666666,\"#ed7953\"],[0.7777777777777778,\"#fb9f3a\"],[0.8888888888888888,\"#fdca26\"],[1.0,\"#f0f921\"]]},\"legend\":{\"tracegroupgap\":0},\"title\":{\"text\":\"Suburb with highest Price\"},\"barmode\":\"relative\",\"width\":1000},                        {\"responsive\": true}                    ).then(function(){\n",
              "                            \n",
              "var gd = document.getElementById('a9c18864-989c-4d7c-8146-7ec39af26d13');\n",
              "var x = new MutationObserver(function (mutations, observer) {{\n",
              "        var display = window.getComputedStyle(gd).display;\n",
              "        if (!display || display === 'none') {{\n",
              "            console.log([gd, 'removed!']);\n",
              "            Plotly.purge(gd);\n",
              "            observer.disconnect();\n",
              "        }}\n",
              "}});\n",
              "\n",
              "// Listen for the removal of the full notebook cells\n",
              "var notebookContainer = gd.closest('#notebook-container');\n",
              "if (notebookContainer) {{\n",
              "    x.observe(notebookContainer, {childList: true});\n",
              "}}\n",
              "\n",
              "// Listen for the clearing of the current output cell\n",
              "var outputEl = gd.closest('.output');\n",
              "if (outputEl) {{\n",
              "    x.observe(outputEl, {childList: true});\n",
              "}}\n",
              "\n",
              "                        })                };                            </script>        </div>\n",
              "</body>\n",
              "</html>"
            ]
          },
          "metadata": {}
        }
      ],
      "id": "e-nKB5phvaVb"
    },
    {
      "cell_type": "markdown",
      "source": [
        "We can see that the most expensive suberb to live in is Balwyn North"
      ],
      "metadata": {
        "id": "aI72g8bleLEO"
      },
      "id": "aI72g8bleLEO"
    },
    {
      "cell_type": "markdown",
      "source": [
        "## Let's see what's the most common Address"
      ],
      "metadata": {
        "id": "efOFNM9_vadx"
      },
      "id": "efOFNM9_vadx"
    },
    {
      "cell_type": "code",
      "source": [
        "Top_address = df.groupby([\"Address\"]).sum().sort_values(\"Price\", ascending=False)[:20] # Sort the States as per the sales\n",
        "Top_address.reset_index(inplace=True) # Since we have used groupby, we will have to reset the index to add the states into dataframe"
      ],
      "metadata": {
        "id": "w2jL4R9Kvadx"
      },
      "execution_count": 64,
      "outputs": [],
      "id": "w2jL4R9Kvadx"
    },
    {
      "cell_type": "code",
      "source": [
        "fig = px.bar(Top_address, x='Address', y='Price' ,color=\"Price\", title=\"Address with highest Price\")\n",
        "fig.show()"
      ],
      "metadata": {
        "id": "uscAM7E-vady",
        "colab": {
          "base_uri": "https://localhost:8080/",
          "height": 542
        },
        "outputId": "19ad79ad-2f3f-4ec3-d685-0b191c57cd96"
      },
      "execution_count": 65,
      "outputs": [
        {
          "output_type": "display_data",
          "data": {
            "text/html": [
              "<html>\n",
              "<head><meta charset=\"utf-8\" /></head>\n",
              "<body>\n",
              "    <div>            <script src=\"https://cdnjs.cloudflare.com/ajax/libs/mathjax/2.7.5/MathJax.js?config=TeX-AMS-MML_SVG\"></script><script type=\"text/javascript\">if (window.MathJax) {MathJax.Hub.Config({SVG: {font: \"STIX-Web\"}});}</script>                <script type=\"text/javascript\">window.PlotlyConfig = {MathJaxConfig: 'local'};</script>\n",
              "        <script src=\"https://cdn.plot.ly/plotly-2.8.3.min.js\"></script>                <div id=\"44743385-73ad-4d99-842b-9cc2f2ae23f8\" class=\"plotly-graph-div\" style=\"height:525px; width:100%;\"></div>            <script type=\"text/javascript\">                                    window.PLOTLYENV=window.PLOTLYENV || {};                                    if (document.getElementById(\"44743385-73ad-4d99-842b-9cc2f2ae23f8\")) {                    Plotly.newPlot(                        \"44743385-73ad-4d99-842b-9cc2f2ae23f8\",                        [{\"alignmentgroup\":\"True\",\"hovertemplate\":\"Address=%{x}<br>Price=%{marker.color}<extra></extra>\",\"legendgroup\":\"\",\"marker\":{\"color\":[6500000.0,6250000.0,5700000.0,5590000.0,5525000.0,5500000.0,5500000.0,5140000.0,5050000.0,5046000.0,4850000.0,4802500.0,4785000.0,4735000.0,4525000.0,4500000.0,4400000.0,4400000.0,4250000.0,4240000.0],\"coloraxis\":\"coloraxis\",\"pattern\":{\"shape\":\"\"}},\"name\":\"\",\"offsetgroup\":\"\",\"orientation\":\"v\",\"showlegend\":false,\"textposition\":\"auto\",\"x\":[\"15 Barry St\",\"17 Albany Rd\",\"18 Avoca St\",\"112 Belmore Rd\",\"367 Dandenong Rd\",\"684 Orrong Rd\",\"10 Myoora Rd\",\"11 Wilson St\",\"50 Kinkora Rd\",\"18 Crimea St\",\"23 Grange Rd\",\"8 Ash Gr\",\"70 Park St\",\"115 Page St\",\"3 Mary St\",\"23 Canberra Rd\",\"10 Charlotte Pl\",\"5 Margaret St\",\"2 Fordholm Rd\",\"18 Soudan St\"],\"xaxis\":\"x\",\"y\":[6500000.0,6250000.0,5700000.0,5590000.0,5525000.0,5500000.0,5500000.0,5140000.0,5050000.0,5046000.0,4850000.0,4802500.0,4785000.0,4735000.0,4525000.0,4500000.0,4400000.0,4400000.0,4250000.0,4240000.0],\"yaxis\":\"y\",\"type\":\"bar\"}],                        {\"template\":{\"data\":{\"bar\":[{\"error_x\":{\"color\":\"#2a3f5f\"},\"error_y\":{\"color\":\"#2a3f5f\"},\"marker\":{\"line\":{\"color\":\"#E5ECF6\",\"width\":0.5},\"pattern\":{\"fillmode\":\"overlay\",\"size\":10,\"solidity\":0.2}},\"type\":\"bar\"}],\"barpolar\":[{\"marker\":{\"line\":{\"color\":\"#E5ECF6\",\"width\":0.5},\"pattern\":{\"fillmode\":\"overlay\",\"size\":10,\"solidity\":0.2}},\"type\":\"barpolar\"}],\"carpet\":[{\"aaxis\":{\"endlinecolor\":\"#2a3f5f\",\"gridcolor\":\"white\",\"linecolor\":\"white\",\"minorgridcolor\":\"white\",\"startlinecolor\":\"#2a3f5f\"},\"baxis\":{\"endlinecolor\":\"#2a3f5f\",\"gridcolor\":\"white\",\"linecolor\":\"white\",\"minorgridcolor\":\"white\",\"startlinecolor\":\"#2a3f5f\"},\"type\":\"carpet\"}],\"choropleth\":[{\"colorbar\":{\"outlinewidth\":0,\"ticks\":\"\"},\"type\":\"choropleth\"}],\"contour\":[{\"colorbar\":{\"outlinewidth\":0,\"ticks\":\"\"},\"colorscale\":[[0.0,\"#0d0887\"],[0.1111111111111111,\"#46039f\"],[0.2222222222222222,\"#7201a8\"],[0.3333333333333333,\"#9c179e\"],[0.4444444444444444,\"#bd3786\"],[0.5555555555555556,\"#d8576b\"],[0.6666666666666666,\"#ed7953\"],[0.7777777777777778,\"#fb9f3a\"],[0.8888888888888888,\"#fdca26\"],[1.0,\"#f0f921\"]],\"type\":\"contour\"}],\"contourcarpet\":[{\"colorbar\":{\"outlinewidth\":0,\"ticks\":\"\"},\"type\":\"contourcarpet\"}],\"heatmap\":[{\"colorbar\":{\"outlinewidth\":0,\"ticks\":\"\"},\"colorscale\":[[0.0,\"#0d0887\"],[0.1111111111111111,\"#46039f\"],[0.2222222222222222,\"#7201a8\"],[0.3333333333333333,\"#9c179e\"],[0.4444444444444444,\"#bd3786\"],[0.5555555555555556,\"#d8576b\"],[0.6666666666666666,\"#ed7953\"],[0.7777777777777778,\"#fb9f3a\"],[0.8888888888888888,\"#fdca26\"],[1.0,\"#f0f921\"]],\"type\":\"heatmap\"}],\"heatmapgl\":[{\"colorbar\":{\"outlinewidth\":0,\"ticks\":\"\"},\"colorscale\":[[0.0,\"#0d0887\"],[0.1111111111111111,\"#46039f\"],[0.2222222222222222,\"#7201a8\"],[0.3333333333333333,\"#9c179e\"],[0.4444444444444444,\"#bd3786\"],[0.5555555555555556,\"#d8576b\"],[0.6666666666666666,\"#ed7953\"],[0.7777777777777778,\"#fb9f3a\"],[0.8888888888888888,\"#fdca26\"],[1.0,\"#f0f921\"]],\"type\":\"heatmapgl\"}],\"histogram\":[{\"marker\":{\"pattern\":{\"fillmode\":\"overlay\",\"size\":10,\"solidity\":0.2}},\"type\":\"histogram\"}],\"histogram2d\":[{\"colorbar\":{\"outlinewidth\":0,\"ticks\":\"\"},\"colorscale\":[[0.0,\"#0d0887\"],[0.1111111111111111,\"#46039f\"],[0.2222222222222222,\"#7201a8\"],[0.3333333333333333,\"#9c179e\"],[0.4444444444444444,\"#bd3786\"],[0.5555555555555556,\"#d8576b\"],[0.6666666666666666,\"#ed7953\"],[0.7777777777777778,\"#fb9f3a\"],[0.8888888888888888,\"#fdca26\"],[1.0,\"#f0f921\"]],\"type\":\"histogram2d\"}],\"histogram2dcontour\":[{\"colorbar\":{\"outlinewidth\":0,\"ticks\":\"\"},\"colorscale\":[[0.0,\"#0d0887\"],[0.1111111111111111,\"#46039f\"],[0.2222222222222222,\"#7201a8\"],[0.3333333333333333,\"#9c179e\"],[0.4444444444444444,\"#bd3786\"],[0.5555555555555556,\"#d8576b\"],[0.6666666666666666,\"#ed7953\"],[0.7777777777777778,\"#fb9f3a\"],[0.8888888888888888,\"#fdca26\"],[1.0,\"#f0f921\"]],\"type\":\"histogram2dcontour\"}],\"mesh3d\":[{\"colorbar\":{\"outlinewidth\":0,\"ticks\":\"\"},\"type\":\"mesh3d\"}],\"parcoords\":[{\"line\":{\"colorbar\":{\"outlinewidth\":0,\"ticks\":\"\"}},\"type\":\"parcoords\"}],\"pie\":[{\"automargin\":true,\"type\":\"pie\"}],\"scatter\":[{\"marker\":{\"colorbar\":{\"outlinewidth\":0,\"ticks\":\"\"}},\"type\":\"scatter\"}],\"scatter3d\":[{\"line\":{\"colorbar\":{\"outlinewidth\":0,\"ticks\":\"\"}},\"marker\":{\"colorbar\":{\"outlinewidth\":0,\"ticks\":\"\"}},\"type\":\"scatter3d\"}],\"scattercarpet\":[{\"marker\":{\"colorbar\":{\"outlinewidth\":0,\"ticks\":\"\"}},\"type\":\"scattercarpet\"}],\"scattergeo\":[{\"marker\":{\"colorbar\":{\"outlinewidth\":0,\"ticks\":\"\"}},\"type\":\"scattergeo\"}],\"scattergl\":[{\"marker\":{\"colorbar\":{\"outlinewidth\":0,\"ticks\":\"\"}},\"type\":\"scattergl\"}],\"scattermapbox\":[{\"marker\":{\"colorbar\":{\"outlinewidth\":0,\"ticks\":\"\"}},\"type\":\"scattermapbox\"}],\"scatterpolar\":[{\"marker\":{\"colorbar\":{\"outlinewidth\":0,\"ticks\":\"\"}},\"type\":\"scatterpolar\"}],\"scatterpolargl\":[{\"marker\":{\"colorbar\":{\"outlinewidth\":0,\"ticks\":\"\"}},\"type\":\"scatterpolargl\"}],\"scatterternary\":[{\"marker\":{\"colorbar\":{\"outlinewidth\":0,\"ticks\":\"\"}},\"type\":\"scatterternary\"}],\"surface\":[{\"colorbar\":{\"outlinewidth\":0,\"ticks\":\"\"},\"colorscale\":[[0.0,\"#0d0887\"],[0.1111111111111111,\"#46039f\"],[0.2222222222222222,\"#7201a8\"],[0.3333333333333333,\"#9c179e\"],[0.4444444444444444,\"#bd3786\"],[0.5555555555555556,\"#d8576b\"],[0.6666666666666666,\"#ed7953\"],[0.7777777777777778,\"#fb9f3a\"],[0.8888888888888888,\"#fdca26\"],[1.0,\"#f0f921\"]],\"type\":\"surface\"}],\"table\":[{\"cells\":{\"fill\":{\"color\":\"#EBF0F8\"},\"line\":{\"color\":\"white\"}},\"header\":{\"fill\":{\"color\":\"#C8D4E3\"},\"line\":{\"color\":\"white\"}},\"type\":\"table\"}]},\"layout\":{\"annotationdefaults\":{\"arrowcolor\":\"#2a3f5f\",\"arrowhead\":0,\"arrowwidth\":1},\"autotypenumbers\":\"strict\",\"coloraxis\":{\"colorbar\":{\"outlinewidth\":0,\"ticks\":\"\"}},\"colorscale\":{\"diverging\":[[0,\"#8e0152\"],[0.1,\"#c51b7d\"],[0.2,\"#de77ae\"],[0.3,\"#f1b6da\"],[0.4,\"#fde0ef\"],[0.5,\"#f7f7f7\"],[0.6,\"#e6f5d0\"],[0.7,\"#b8e186\"],[0.8,\"#7fbc41\"],[0.9,\"#4d9221\"],[1,\"#276419\"]],\"sequential\":[[0.0,\"#0d0887\"],[0.1111111111111111,\"#46039f\"],[0.2222222222222222,\"#7201a8\"],[0.3333333333333333,\"#9c179e\"],[0.4444444444444444,\"#bd3786\"],[0.5555555555555556,\"#d8576b\"],[0.6666666666666666,\"#ed7953\"],[0.7777777777777778,\"#fb9f3a\"],[0.8888888888888888,\"#fdca26\"],[1.0,\"#f0f921\"]],\"sequentialminus\":[[0.0,\"#0d0887\"],[0.1111111111111111,\"#46039f\"],[0.2222222222222222,\"#7201a8\"],[0.3333333333333333,\"#9c179e\"],[0.4444444444444444,\"#bd3786\"],[0.5555555555555556,\"#d8576b\"],[0.6666666666666666,\"#ed7953\"],[0.7777777777777778,\"#fb9f3a\"],[0.8888888888888888,\"#fdca26\"],[1.0,\"#f0f921\"]]},\"colorway\":[\"#636efa\",\"#EF553B\",\"#00cc96\",\"#ab63fa\",\"#FFA15A\",\"#19d3f3\",\"#FF6692\",\"#B6E880\",\"#FF97FF\",\"#FECB52\"],\"font\":{\"color\":\"#2a3f5f\"},\"geo\":{\"bgcolor\":\"white\",\"lakecolor\":\"white\",\"landcolor\":\"#E5ECF6\",\"showlakes\":true,\"showland\":true,\"subunitcolor\":\"white\"},\"hoverlabel\":{\"align\":\"left\"},\"hovermode\":\"closest\",\"mapbox\":{\"style\":\"light\"},\"paper_bgcolor\":\"white\",\"plot_bgcolor\":\"#E5ECF6\",\"polar\":{\"angularaxis\":{\"gridcolor\":\"white\",\"linecolor\":\"white\",\"ticks\":\"\"},\"bgcolor\":\"#E5ECF6\",\"radialaxis\":{\"gridcolor\":\"white\",\"linecolor\":\"white\",\"ticks\":\"\"}},\"scene\":{\"xaxis\":{\"backgroundcolor\":\"#E5ECF6\",\"gridcolor\":\"white\",\"gridwidth\":2,\"linecolor\":\"white\",\"showbackground\":true,\"ticks\":\"\",\"zerolinecolor\":\"white\"},\"yaxis\":{\"backgroundcolor\":\"#E5ECF6\",\"gridcolor\":\"white\",\"gridwidth\":2,\"linecolor\":\"white\",\"showbackground\":true,\"ticks\":\"\",\"zerolinecolor\":\"white\"},\"zaxis\":{\"backgroundcolor\":\"#E5ECF6\",\"gridcolor\":\"white\",\"gridwidth\":2,\"linecolor\":\"white\",\"showbackground\":true,\"ticks\":\"\",\"zerolinecolor\":\"white\"}},\"shapedefaults\":{\"line\":{\"color\":\"#2a3f5f\"}},\"ternary\":{\"aaxis\":{\"gridcolor\":\"white\",\"linecolor\":\"white\",\"ticks\":\"\"},\"baxis\":{\"gridcolor\":\"white\",\"linecolor\":\"white\",\"ticks\":\"\"},\"bgcolor\":\"#E5ECF6\",\"caxis\":{\"gridcolor\":\"white\",\"linecolor\":\"white\",\"ticks\":\"\"}},\"title\":{\"x\":0.05},\"xaxis\":{\"automargin\":true,\"gridcolor\":\"white\",\"linecolor\":\"white\",\"ticks\":\"\",\"title\":{\"standoff\":15},\"zerolinecolor\":\"white\",\"zerolinewidth\":2},\"yaxis\":{\"automargin\":true,\"gridcolor\":\"white\",\"linecolor\":\"white\",\"ticks\":\"\",\"title\":{\"standoff\":15},\"zerolinecolor\":\"white\",\"zerolinewidth\":2}}},\"xaxis\":{\"anchor\":\"y\",\"domain\":[0.0,1.0],\"title\":{\"text\":\"Address\"}},\"yaxis\":{\"anchor\":\"x\",\"domain\":[0.0,1.0],\"title\":{\"text\":\"Price\"}},\"coloraxis\":{\"colorbar\":{\"title\":{\"text\":\"Price\"}},\"colorscale\":[[0.0,\"#0d0887\"],[0.1111111111111111,\"#46039f\"],[0.2222222222222222,\"#7201a8\"],[0.3333333333333333,\"#9c179e\"],[0.4444444444444444,\"#bd3786\"],[0.5555555555555556,\"#d8576b\"],[0.6666666666666666,\"#ed7953\"],[0.7777777777777778,\"#fb9f3a\"],[0.8888888888888888,\"#fdca26\"],[1.0,\"#f0f921\"]]},\"legend\":{\"tracegroupgap\":0},\"title\":{\"text\":\"Address with highest Price\"},\"barmode\":\"relative\"},                        {\"responsive\": true}                    ).then(function(){\n",
              "                            \n",
              "var gd = document.getElementById('44743385-73ad-4d99-842b-9cc2f2ae23f8');\n",
              "var x = new MutationObserver(function (mutations, observer) {{\n",
              "        var display = window.getComputedStyle(gd).display;\n",
              "        if (!display || display === 'none') {{\n",
              "            console.log([gd, 'removed!']);\n",
              "            Plotly.purge(gd);\n",
              "            observer.disconnect();\n",
              "        }}\n",
              "}});\n",
              "\n",
              "// Listen for the removal of the full notebook cells\n",
              "var notebookContainer = gd.closest('#notebook-container');\n",
              "if (notebookContainer) {{\n",
              "    x.observe(notebookContainer, {childList: true});\n",
              "}}\n",
              "\n",
              "// Listen for the clearing of the current output cell\n",
              "var outputEl = gd.closest('.output');\n",
              "if (outputEl) {{\n",
              "    x.observe(outputEl, {childList: true});\n",
              "}}\n",
              "\n",
              "                        })                };                            </script>        </div>\n",
              "</body>\n",
              "</html>"
            ]
          },
          "metadata": {}
        }
      ],
      "id": "uscAM7E-vady"
    },
    {
      "cell_type": "markdown",
      "source": [
        "The Most expensive address is 35 Bevis st."
      ],
      "metadata": {
        "id": "9tJKu0CmedY2"
      },
      "id": "9tJKu0CmedY2"
    },
    {
      "cell_type": "code",
      "source": [
        "from sklearn.preprocessing import LabelEncoder\n",
        "type_le = LabelEncoder()\n",
        "method_le = LabelEncoder()\n",
        "region_le = LabelEncoder()"
      ],
      "metadata": {
        "id": "luyzasBsM4Yz"
      },
      "id": "luyzasBsM4Yz",
      "execution_count": 66,
      "outputs": []
    },
    {
      "cell_type": "code",
      "execution_count": 82,
      "id": "1c1ffb81",
      "metadata": {
        "id": "1c1ffb81",
        "outputId": "3d8ea217-0a12-4126-c34e-18de67e93a51",
        "colab": {
          "base_uri": "https://localhost:8080/",
          "height": 939
        }
      },
      "outputs": [
        {
          "output_type": "execute_result",
          "data": {
            "text/plain": [
              "<AxesSubplot:>"
            ]
          },
          "metadata": {},
          "execution_count": 82
        },
        {
          "output_type": "display_data",
          "data": {
            "text/plain": [
              "<Figure size 1152x1152 with 2 Axes>"
            ],
            "image/png": "[encoded data removed]"
          },
          "metadata": {
            "needs_background": "light"
          }
        }
      ],
      "source": [
        "plt.figure(figsize = (16,16))\n",
        "sns.heatmap(df.corr(), cmap=\"YlGnBu\", annot=True)"
      ]
    },
    {
      "cell_type": "code",
      "execution_count": 83,
      "id": "5567c898",
      "metadata": {
        "id": "5567c898",
        "outputId": "ea88ee56-23fc-4821-8490-ba66d76393c5",
        "colab": {
          "base_uri": "https://localhost:8080/",
          "height": 652
        }
      },
      "outputs": [
        {
          "output_type": "execute_result",
          "data": {
            "text/plain": [
              "Rooms                AxesSubplot(0.125,0.71587;0.168478x0.16413)\n",
              "Type              AxesSubplot(0.327174,0.71587;0.168478x0.16413)\n",
              "Price             AxesSubplot(0.529348,0.71587;0.168478x0.16413)\n",
              "Distance          AxesSubplot(0.731522,0.71587;0.168478x0.16413)\n",
              "Bathroom            AxesSubplot(0.125,0.518913;0.168478x0.16413)\n",
              "Bedroom2         AxesSubplot(0.327174,0.518913;0.168478x0.16413)\n",
              "Car              AxesSubplot(0.529348,0.518913;0.168478x0.16413)\n",
              "Lattitude        AxesSubplot(0.731522,0.518913;0.168478x0.16413)\n",
              "Propertycount       AxesSubplot(0.125,0.321957;0.168478x0.16413)\n",
              "Regionname       AxesSubplot(0.327174,0.321957;0.168478x0.16413)\n",
              "dtype: object"
            ]
          },
          "metadata": {},
          "execution_count": 83
        },
        {
          "output_type": "display_data",
          "data": {
            "text/plain": [
              "<Figure size 720x720 with 16 Axes>"
            ],
            "image/png": "[encoded data removed]"
          },
          "metadata": {
            "needs_background": "light"
          }
        }
      ],
      "source": [
        "df.plot(kind = \"box\" , subplots = True , figsize = (10,10) , layout = (4,4))"
      ]
    },
    {
      "cell_type": "code",
      "execution_count": 68,
      "id": "fee2bde2",
      "metadata": {
        "id": "fee2bde2",
        "colab": {
          "base_uri": "https://localhost:8080/"
        },
        "outputId": "3ea048a7-d8cf-4656-b8bc-06f37192d1a3"
      },
      "outputs": [
        {
          "output_type": "stream",
          "name": "stderr",
          "text": [
            "<ipython-input-68-b2278b27fcd5>:1: SettingWithCopyWarning:\n",
            "\n",
            "\n",
            "A value is trying to be set on a copy of a slice from a DataFrame.\n",
            "Try using .loc[row_indexer,col_indexer] = value instead\n",
            "\n",
            "See the caveats in the documentation: https://pandas.pydata.org/pandas-docs/stable/user_guide/indexing.html#returning-a-view-versus-a-copy\n",
            "\n",
            "<ipython-input-68-b2278b27fcd5>:2: SettingWithCopyWarning:\n",
            "\n",
            "\n",
            "A value is trying to be set on a copy of a slice from a DataFrame.\n",
            "Try using .loc[row_indexer,col_indexer] = value instead\n",
            "\n",
            "See the caveats in the documentation: https://pandas.pydata.org/pandas-docs/stable/user_guide/indexing.html#returning-a-view-versus-a-copy\n",
            "\n",
            "<ipython-input-68-b2278b27fcd5>:3: SettingWithCopyWarning:\n",
            "\n",
            "\n",
            "A value is trying to be set on a copy of a slice from a DataFrame.\n",
            "Try using .loc[row_indexer,col_indexer] = value instead\n",
            "\n",
            "See the caveats in the documentation: https://pandas.pydata.org/pandas-docs/stable/user_guide/indexing.html#returning-a-view-versus-a-copy\n",
            "\n"
          ]
        }
      ],
      "source": [
        "df['Type'] = type_le.fit_transform(df['Type'])\n",
        "df['Method'] = method_le.fit_transform(df['Method'])\n",
        "df['Regionname'] = region_le.fit_transform(df['Regionname'])"
      ]
    },
    {
      "cell_type": "code",
      "execution_count": 69,
      "id": "7ccd7283",
      "metadata": {
        "id": "7ccd7283",
        "outputId": "b0ffcbc5-3136-45b5-dd5d-1b48ddd970a8",
        "colab": {
          "base_uri": "https://localhost:8080/",
          "height": 424
        }
      },
      "outputs": [
        {
          "output_type": "execute_result",
          "data": {
            "text/plain": [
              "              Suburb           Address  Rooms  Type      Price  Method  \\\n",
              "1         Abbotsford   25 Bloomburg St      2     0  1035000.0       1   \n",
              "2         Abbotsford      5 Charles St      3     0  1465000.0       2   \n",
              "4         Abbotsford       55a Park St      4     0  1600000.0       4   \n",
              "6         Abbotsford      124 Yarra St      3     0  1876000.0       1   \n",
              "7         Abbotsford     98 Charles St      2     0  1636000.0       1   \n",
              "...              ...               ...    ...   ...        ...     ...   \n",
              "6796  Brunswick East  14 Hutchinson St      3     0   998000.0       1   \n",
              "6797  Brunswick East    1/10 Linden St      3     1  1010000.0       1   \n",
              "6799  Brunswick East   156 Glenlyon Rd      3     0  1050000.0       1   \n",
              "6802  Brunswick East      192 Blyth St      3     0  1600000.0       1   \n",
              "6803  Brunswick East   120 Victoria St      3     0  1325000.0       0   \n",
              "\n",
              "     SellerG        Date  Distance  Postcode  ...  Bathroom  Car  Landsize  \\\n",
              "1     Biggin   4/02/2016       2.5    3067.0  ...       1.0  0.0     156.0   \n",
              "2     Biggin   4/03/2017       2.5    3067.0  ...       2.0  0.0     134.0   \n",
              "4     Nelson   4/06/2016       2.5    3067.0  ...       1.0  2.0     120.0   \n",
              "6     Nelson   7/05/2016       2.5    3067.0  ...       2.0  0.0     245.0   \n",
              "7     Nelson   8/10/2016       2.5    3067.0  ...       1.0  2.0     256.0   \n",
              "...      ...         ...       ...       ...  ...       ...  ...       ...   \n",
              "6796  Nelson  23/04/2016       4.5    3057.0  ...       1.0  2.0     104.0   \n",
              "6797  Nelson  23/04/2016       4.5    3057.0  ...       2.0  1.0       0.0   \n",
              "6799  Nelson  27/06/2016       4.5    3057.0  ...       1.0  1.0     279.0   \n",
              "6802  Jellis  27/11/2016       4.5    3057.0  ...       1.0  2.0     812.0   \n",
              "6803  Jellis  27/11/2016       4.5    3057.0  ...       2.0  2.0     190.0   \n",
              "\n",
              "      BuildingArea  YearBuilt  CouncilArea Lattitude  Longtitude  Regionname  \\\n",
              "1             79.0     1900.0        Yarra  -37.8079    144.9934           1   \n",
              "2            150.0     1900.0        Yarra  -37.8093    144.9944           1   \n",
              "4            142.0     2014.0        Yarra  -37.8072    144.9941           1   \n",
              "6            210.0     1910.0        Yarra  -37.8024    144.9993           1   \n",
              "7            107.0     1890.0        Yarra  -37.8060    144.9954           1   \n",
              "...            ...        ...          ...       ...         ...         ...   \n",
              "6796         118.0     2000.0     Moreland  -37.7723    144.9761           1   \n",
              "6797         133.0     2014.0     Moreland  -37.7740    144.9731           1   \n",
              "6799         122.0     1900.0     Moreland  -37.7729    144.9722           1   \n",
              "6802         113.0     1920.0     Moreland  -37.7673    144.9782           1   \n",
              "6803         135.0     1940.0     Moreland  -37.7684    144.9739           1   \n",
              "\n",
              "      Propertycount  \n",
              "1            4019.0  \n",
              "2            4019.0  \n",
              "4            4019.0  \n",
              "6            4019.0  \n",
              "7            4019.0  \n",
              "...             ...  \n",
              "6796         5533.0  \n",
              "6797         5533.0  \n",
              "6799         5533.0  \n",
              "6802         5533.0  \n",
              "6803         5533.0  \n",
              "\n",
              "[3678 rows x 21 columns]"
            ],
            "text/html": [
              "\n",
              "  <div id=\"df-48313973-ba9e-47c0-85b4-b176d97a5fca\">\n",
              "    <div class=\"colab-df-container\">\n",
              "      <div>\n",
              "<style scoped>\n",
              "    .dataframe tbody tr th:only-of-type {\n",
              "        vertical-align: middle;\n",
              "    }\n",
              "\n",
              "    .dataframe tbody tr th {\n",
              "        vertical-align: top;\n",
              "    }\n",
              "\n",
              "    .dataframe thead th {\n",
              "        text-align: right;\n",
              "    }\n",
              "</style>\n",
              "<table border=\"1\" class=\"dataframe\">\n",
              "  <thead>\n",
              "    <tr style=\"text-align: right;\">\n",
              "      <th></th>\n",
              "      <th>Suburb</th>\n",
              "      <th>Address</th>\n",
              "      <th>Rooms</th>\n",
              "      <th>Type</th>\n",
              "      <th>Price</th>\n",
              "      <th>Method</th>\n",
              "      <th>SellerG</th>\n",
              "      <th>Date</th>\n",
              "      <th>Distance</th>\n",
              "      <th>Postcode</th>\n",
              "      <th>...</th>\n",
              "      <th>Bathroom</th>\n",
              "      <th>Car</th>\n",
              "      <th>Landsize</th>\n",
              "      <th>BuildingArea</th>\n",
              "      <th>YearBuilt</th>\n",
              "      <th>CouncilArea</th>\n",
              "      <th>Lattitude</th>\n",
              "      <th>Longtitude</th>\n",
              "      <th>Regionname</th>\n",
              "      <th>Propertycount</th>\n",
              "    </tr>\n",
              "  </thead>\n",
              "  <tbody>\n",
              "    <tr>\n",
              "      <th>1</th>\n",
              "      <td>Abbotsford</td>\n",
              "      <td>25 Bloomburg St</td>\n",
              "      <td>2</td>\n",
              "      <td>0</td>\n",
              "      <td>1035000.0</td>\n",
              "      <td>1</td>\n",
              "      <td>Biggin</td>\n",
              "      <td>4/02/2016</td>\n",
              "      <td>2.5</td>\n",
              "      <td>3067.0</td>\n",
              "      <td>...</td>\n",
              "      <td>1.0</td>\n",
              "      <td>0.0</td>\n",
              "      <td>156.0</td>\n",
              "      <td>79.0</td>\n",
              "      <td>1900.0</td>\n",
              "      <td>Yarra</td>\n",
              "      <td>-37.8079</td>\n",
              "      <td>144.9934</td>\n",
              "      <td>1</td>\n",
              "      <td>4019.0</td>\n",
              "    </tr>\n",
              "    <tr>\n",
              "      <th>2</th>\n",
              "      <td>Abbotsford</td>\n",
              "      <td>5 Charles St</td>\n",
              "      <td>3</td>\n",
              "      <td>0</td>\n",
              "      <td>1465000.0</td>\n",
              "      <td>2</td>\n",
              "      <td>Biggin</td>\n",
              "      <td>4/03/2017</td>\n",
              "      <td>2.5</td>\n",
              "      <td>3067.0</td>\n",
              "      <td>...</td>\n",
              "      <td>2.0</td>\n",
              "      <td>0.0</td>\n",
              "      <td>134.0</td>\n",
              "      <td>150.0</td>\n",
              "      <td>1900.0</td>\n",
              "      <td>Yarra</td>\n",
              "      <td>-37.8093</td>\n",
              "      <td>144.9944</td>\n",
              "      <td>1</td>\n",
              "      <td>4019.0</td>\n",
              "    </tr>\n",
              "    <tr>\n",
              "      <th>4</th>\n",
              "      <td>Abbotsford</td>\n",
              "      <td>55a Park St</td>\n",
              "      <td>4</td>\n",
              "      <td>0</td>\n",
              "      <td>1600000.0</td>\n",
              "      <td>4</td>\n",
              "      <td>Nelson</td>\n",
              "      <td>4/06/2016</td>\n",
              "      <td>2.5</td>\n",
              "      <td>3067.0</td>\n",
              "      <td>...</td>\n",
              "      <td>1.0</td>\n",
              "      <td>2.0</td>\n",
              "      <td>120.0</td>\n",
              "      <td>142.0</td>\n",
              "      <td>2014.0</td>\n",
              "      <td>Yarra</td>\n",
              "      <td>-37.8072</td>\n",
              "      <td>144.9941</td>\n",
              "      <td>1</td>\n",
              "      <td>4019.0</td>\n",
              "    </tr>\n",
              "    <tr>\n",
              "      <th>6</th>\n",
              "      <td>Abbotsford</td>\n",
              "      <td>124 Yarra St</td>\n",
              "      <td>3</td>\n",
              "      <td>0</td>\n",
              "      <td>1876000.0</td>\n",
              "      <td>1</td>\n",
              "      <td>Nelson</td>\n",
              "      <td>7/05/2016</td>\n",
              "      <td>2.5</td>\n",
              "      <td>3067.0</td>\n",
              "      <td>...</td>\n",
              "      <td>2.0</td>\n",
              "      <td>0.0</td>\n",
              "      <td>245.0</td>\n",
              "      <td>210.0</td>\n",
              "      <td>1910.0</td>\n",
              "      <td>Yarra</td>\n",
              "      <td>-37.8024</td>\n",
              "      <td>144.9993</td>\n",
              "      <td>1</td>\n",
              "      <td>4019.0</td>\n",
              "    </tr>\n",
              "    <tr>\n",
              "      <th>7</th>\n",
              "      <td>Abbotsford</td>\n",
              "      <td>98 Charles St</td>\n",
              "      <td>2</td>\n",
              "      <td>0</td>\n",
              "      <td>1636000.0</td>\n",
              "      <td>1</td>\n",
              "      <td>Nelson</td>\n",
              "      <td>8/10/2016</td>\n",
              "      <td>2.5</td>\n",
              "      <td>3067.0</td>\n",
              "      <td>...</td>\n",
              "      <td>1.0</td>\n",
              "      <td>2.0</td>\n",
              "      <td>256.0</td>\n",
              "      <td>107.0</td>\n",
              "      <td>1890.0</td>\n",
              "      <td>Yarra</td>\n",
              "      <td>-37.8060</td>\n",
              "      <td>144.9954</td>\n",
              "      <td>1</td>\n",
              "      <td>4019.0</td>\n",
              "    </tr>\n",
              "    <tr>\n",
              "      <th>...</th>\n",
              "      <td>...</td>\n",
              "      <td>...</td>\n",
              "      <td>...</td>\n",
              "      <td>...</td>\n",
              "      <td>...</td>\n",
              "      <td>...</td>\n",
              "      <td>...</td>\n",
              "      <td>...</td>\n",
              "      <td>...</td>\n",
              "      <td>...</td>\n",
              "      <td>...</td>\n",
              "      <td>...</td>\n",
              "      <td>...</td>\n",
              "      <td>...</td>\n",
              "      <td>...</td>\n",
              "      <td>...</td>\n",
              "      <td>...</td>\n",
              "      <td>...</td>\n",
              "      <td>...</td>\n",
              "      <td>...</td>\n",
              "      <td>...</td>\n",
              "    </tr>\n",
              "    <tr>\n",
              "      <th>6796</th>\n",
              "      <td>Brunswick East</td>\n",
              "      <td>14 Hutchinson St</td>\n",
              "      <td>3</td>\n",
              "      <td>0</td>\n",
              "      <td>998000.0</td>\n",
              "      <td>1</td>\n",
              "      <td>Nelson</td>\n",
              "      <td>23/04/2016</td>\n",
              "      <td>4.5</td>\n",
              "      <td>3057.0</td>\n",
              "      <td>...</td>\n",
              "      <td>1.0</td>\n",
              "      <td>2.0</td>\n",
              "      <td>104.0</td>\n",
              "      <td>118.0</td>\n",
              "      <td>2000.0</td>\n",
              "      <td>Moreland</td>\n",
              "      <td>-37.7723</td>\n",
              "      <td>144.9761</td>\n",
              "      <td>1</td>\n",
              "      <td>5533.0</td>\n",
              "    </tr>\n",
              "    <tr>\n",
              "      <th>6797</th>\n",
              "      <td>Brunswick East</td>\n",
              "      <td>1/10 Linden St</td>\n",
              "      <td>3</td>\n",
              "      <td>1</td>\n",
              "      <td>1010000.0</td>\n",
              "      <td>1</td>\n",
              "      <td>Nelson</td>\n",
              "      <td>23/04/2016</td>\n",
              "      <td>4.5</td>\n",
              "      <td>3057.0</td>\n",
              "      <td>...</td>\n",
              "      <td>2.0</td>\n",
              "      <td>1.0</td>\n",
              "      <td>0.0</td>\n",
              "      <td>133.0</td>\n",
              "      <td>2014.0</td>\n",
              "      <td>Moreland</td>\n",
              "      <td>-37.7740</td>\n",
              "      <td>144.9731</td>\n",
              "      <td>1</td>\n",
              "      <td>5533.0</td>\n",
              "    </tr>\n",
              "    <tr>\n",
              "      <th>6799</th>\n",
              "      <td>Brunswick East</td>\n",
              "      <td>156 Glenlyon Rd</td>\n",
              "      <td>3</td>\n",
              "      <td>0</td>\n",
              "      <td>1050000.0</td>\n",
              "      <td>1</td>\n",
              "      <td>Nelson</td>\n",
              "      <td>27/06/2016</td>\n",
              "      <td>4.5</td>\n",
              "      <td>3057.0</td>\n",
              "      <td>...</td>\n",
              "      <td>1.0</td>\n",
              "      <td>1.0</td>\n",
              "      <td>279.0</td>\n",
              "      <td>122.0</td>\n",
              "      <td>1900.0</td>\n",
              "      <td>Moreland</td>\n",
              "      <td>-37.7729</td>\n",
              "      <td>144.9722</td>\n",
              "      <td>1</td>\n",
              "      <td>5533.0</td>\n",
              "    </tr>\n",
              "    <tr>\n",
              "      <th>6802</th>\n",
              "      <td>Brunswick East</td>\n",
              "      <td>192 Blyth St</td>\n",
              "      <td>3</td>\n",
              "      <td>0</td>\n",
              "      <td>1600000.0</td>\n",
              "      <td>1</td>\n",
              "      <td>Jellis</td>\n",
              "      <td>27/11/2016</td>\n",
              "      <td>4.5</td>\n",
              "      <td>3057.0</td>\n",
              "      <td>...</td>\n",
              "      <td>1.0</td>\n",
              "      <td>2.0</td>\n",
              "      <td>812.0</td>\n",
              "      <td>113.0</td>\n",
              "      <td>1920.0</td>\n",
              "      <td>Moreland</td>\n",
              "      <td>-37.7673</td>\n",
              "      <td>144.9782</td>\n",
              "      <td>1</td>\n",
              "      <td>5533.0</td>\n",
              "    </tr>\n",
              "    <tr>\n",
              "      <th>6803</th>\n",
              "      <td>Brunswick East</td>\n",
              "      <td>120 Victoria St</td>\n",
              "      <td>3</td>\n",
              "      <td>0</td>\n",
              "      <td>1325000.0</td>\n",
              "      <td>0</td>\n",
              "      <td>Jellis</td>\n",
              "      <td>27/11/2016</td>\n",
              "      <td>4.5</td>\n",
              "      <td>3057.0</td>\n",
              "      <td>...</td>\n",
              "      <td>2.0</td>\n",
              "      <td>2.0</td>\n",
              "      <td>190.0</td>\n",
              "      <td>135.0</td>\n",
              "      <td>1940.0</td>\n",
              "      <td>Moreland</td>\n",
              "      <td>-37.7684</td>\n",
              "      <td>144.9739</td>\n",
              "      <td>1</td>\n",
              "      <td>5533.0</td>\n",
              "    </tr>\n",
              "  </tbody>\n",
              "</table>\n",
              "<p>3678 rows × 21 columns</p>\n",
              "</div>\n",
              "      <button class=\"colab-df-convert\" onclick=\"convertToInteractive('df-48313973-ba9e-47c0-85b4-b176d97a5fca')\"\n",
              "              title=\"Convert this dataframe to an interactive table.\"\n",
              "              style=\"display:none;\">\n",
              "        \n",
              "  <svg xmlns=\"http://www.w3.org/2000/svg\" height=\"24px\"viewBox=\"0 0 24 24\"\n",
              "       width=\"24px\">\n",
              "    <path d=\"M0 0h24v24H0V0z\" fill=\"none\"/>\n",
              "    <path d=\"M18.56 5.44l.94 2.06.94-2.06 2.06-.94-2.06-.94-.94-2.06-.94 2.06-2.06.94zm-11 1L8.5 8.5l.94-2.06 2.06-.94-2.06-.94L8.5 2.5l-.94 2.06-2.06.94zm10 10l.94 2.06.94-2.06 2.06-.94-2.06-.94-.94-2.06-.94 2.06-2.06.94z\"/><path d=\"M17.41 7.96l-1.37-1.37c-.4-.4-.92-.59-1.43-.59-.52 0-1.04.2-1.43.59L10.3 9.45l-7.72 7.72c-.78.78-.78 2.05 0 2.83L4 21.41c.39.39.9.59 1.41.59.51 0 1.02-.2 1.41-.59l7.78-7.78 2.81-2.81c.8-.78.8-2.07 0-2.86zM5.41 20L4 18.59l7.72-7.72 1.47 1.35L5.41 20z\"/>\n",
              "  </svg>\n",
              "      </button>\n",
              "      \n",
              "  <style>\n",
              "    .colab-df-container {\n",
              "      display:flex;\n",
              "      flex-wrap:wrap;\n",
              "      gap: 12px;\n",
              "    }\n",
              "\n",
              "    .colab-df-convert {\n",
              "      background-color: #E8F0FE;\n",
              "      border: none;\n",
              "      border-radius: 50%;\n",
              "      cursor: pointer;\n",
              "      display: none;\n",
              "      fill: #1967D2;\n",
              "      height: 32px;\n",
              "      padding: 0 0 0 0;\n",
              "      width: 32px;\n",
              "    }\n",
              "\n",
              "    .colab-df-convert:hover {\n",
              "      background-color: #E2EBFA;\n",
              "      box-shadow: 0px 1px 2px rgba(60, 64, 67, 0.3), 0px 1px 3px 1px rgba(60, 64, 67, 0.15);\n",
              "      fill: #174EA6;\n",
              "    }\n",
              "\n",
              "    [theme=dark] .colab-df-convert {\n",
              "      background-color: #3B4455;\n",
              "      fill: #D2E3FC;\n",
              "    }\n",
              "\n",
              "    [theme=dark] .colab-df-convert:hover {\n",
              "      background-color: #434B5C;\n",
              "      box-shadow: 0px 1px 3px 1px rgba(0, 0, 0, 0.15);\n",
              "      filter: drop-shadow(0px 1px 2px rgba(0, 0, 0, 0.3));\n",
              "      fill: #FFFFFF;\n",
              "    }\n",
              "  </style>\n",
              "\n",
              "      <script>\n",
              "        const buttonEl =\n",
              "          document.querySelector('#df-48313973-ba9e-47c0-85b4-b176d97a5fca button.colab-df-convert');\n",
              "        buttonEl.style.display =\n",
              "          google.colab.kernel.accessAllowed ? 'block' : 'none';\n",
              "\n",
              "        async function convertToInteractive(key) {\n",
              "          const element = document.querySelector('#df-48313973-ba9e-47c0-85b4-b176d97a5fca');\n",
              "          const dataTable =\n",
              "            await google.colab.kernel.invokeFunction('convertToInteractive',\n",
              "                                                     [key], {});\n",
              "          if (!dataTable) return;\n",
              "\n",
              "          const docLinkHtml = 'Like what you see? Visit the ' +\n",
              "            '<a target=\"_blank\" href=https://colab.research.google.com/notebooks/data_table.ipynb>data table notebook</a>'\n",
              "            + ' to learn more about interactive tables.';\n",
              "          element.innerHTML = '';\n",
              "          dataTable['output_type'] = 'display_data';\n",
              "          await google.colab.output.renderOutput(dataTable, element);\n",
              "          const docLink = document.createElement('div');\n",
              "          docLink.innerHTML = docLinkHtml;\n",
              "          element.appendChild(docLink);\n",
              "        }\n",
              "      </script>\n",
              "    </div>\n",
              "  </div>\n",
              "  "
            ]
          },
          "metadata": {},
          "execution_count": 69
        }
      ],
      "source": [
        "df"
      ]
    },
    {
      "cell_type": "code",
      "execution_count": 70,
      "id": "3f24d76c",
      "metadata": {
        "id": "3f24d76c",
        "outputId": "f532ac5d-cb65-4c8a-cb4e-cc7328b10773",
        "colab": {
          "base_uri": "https://localhost:8080/"
        }
      },
      "outputs": [
        {
          "output_type": "execute_result",
          "data": {
            "text/plain": [
              "Index(['Suburb', 'Address', 'Rooms', 'Type', 'Price', 'Method', 'SellerG',\n",
              "       'Date', 'Distance', 'Postcode', 'Bedroom2', 'Bathroom', 'Car',\n",
              "       'Landsize', 'BuildingArea', 'YearBuilt', 'CouncilArea', 'Lattitude',\n",
              "       'Longtitude', 'Regionname', 'Propertycount'],\n",
              "      dtype='object')"
            ]
          },
          "metadata": {},
          "execution_count": 70
        }
      ],
      "source": [
        "df.columns"
      ]
    },
    {
      "cell_type": "code",
      "execution_count": 115,
      "id": "646f8643",
      "metadata": {
        "id": "646f8643"
      },
      "outputs": [],
      "source": [
        "df = df[['Rooms', 'Type', 'Price', 'Distance',\n",
        "       'Bathroom', 'Bedroom2', 'Car', \n",
        "       'Propertycount' , \"Regionname\"]]"
      ]
    },
    {
      "cell_type": "code",
      "execution_count": 116,
      "id": "00f1e056",
      "metadata": {
        "scrolled": true,
        "id": "00f1e056",
        "outputId": "51e3934c-9800-407a-a483-88b7bae28c08",
        "colab": {
          "base_uri": "https://localhost:8080/",
          "height": 781
        }
      },
      "outputs": [
        {
          "output_type": "execute_result",
          "data": {
            "text/plain": [
              "<AxesSubplot:>"
            ]
          },
          "metadata": {},
          "execution_count": 116
        },
        {
          "output_type": "display_data",
          "data": {
            "text/plain": [
              "<Figure size 864x864 with 2 Axes>"
            ],
            "image/png": "[encoded data removed]"
          },
          "metadata": {
            "needs_background": "light"
          }
        }
      ],
      "source": [
        "plt.figure(figsize= (12,12))\n",
        "sns.heatmap(df.corr() , annot = True , fmt = \".2f\")"
      ]
    },
    {
      "cell_type": "markdown",
      "id": "daad0623",
      "metadata": {
        "id": "daad0623"
      },
      "source": [
        "### Train Test Split"
      ]
    },
    {
      "cell_type": "code",
      "execution_count": 117,
      "id": "8ea3b817",
      "metadata": {
        "id": "8ea3b817",
        "outputId": "262d4850-1007-45f3-81ef-15829a6b4ba5",
        "colab": {
          "base_uri": "https://localhost:8080/"
        }
      },
      "outputs": [
        {
          "output_type": "execute_result",
          "data": {
            "text/plain": [
              "Index(['Rooms', 'Type', 'Price', 'Distance', 'Bathroom', 'Bedroom2', 'Car',\n",
              "       'Propertycount', 'Regionname'],\n",
              "      dtype='object')"
            ]
          },
          "metadata": {},
          "execution_count": 117
        }
      ],
      "source": [
        "df.columns"
      ]
    },
    {
      "cell_type": "code",
      "execution_count": 118,
      "id": "3e4531f4",
      "metadata": {
        "id": "3e4531f4"
      },
      "outputs": [],
      "source": [
        "from sklearn.model_selection import train_test_split"
      ]
    },
    {
      "cell_type": "code",
      "execution_count": 119,
      "id": "94f0e809",
      "metadata": {
        "id": "94f0e809"
      },
      "outputs": [],
      "source": [
        "y = np.log(df['Price'])\n",
        "x = df.drop('Price', axis=1)"
      ]
    },
    {
      "cell_type": "code",
      "execution_count": 120,
      "id": "5ade66b7",
      "metadata": {
        "id": "5ade66b7"
      },
      "outputs": [],
      "source": [
        "x_train , x_test , y_train , y_test = train_test_split(x,y , test_size= 0.25 , random_state= 42)"
      ]
    },
    {
      "cell_type": "code",
      "execution_count": 121,
      "id": "29a2d423",
      "metadata": {
        "id": "29a2d423",
        "outputId": "2ca195a8-b1f6-4747-e417-d88e2d4f2727",
        "colab": {
          "base_uri": "https://localhost:8080/"
        }
      },
      "outputs": [
        {
          "output_type": "execute_result",
          "data": {
            "text/plain": [
              "(2758, 8)"
            ]
          },
          "metadata": {},
          "execution_count": 121
        }
      ],
      "source": [
        "x_train.shape"
      ]
    },
    {
      "cell_type": "code",
      "execution_count": 122,
      "id": "521343c5",
      "metadata": {
        "id": "521343c5",
        "outputId": "4eb33f37-3a29-4ee7-9adc-151bafbe9ebb",
        "colab": {
          "base_uri": "https://localhost:8080/"
        }
      },
      "outputs": [
        {
          "output_type": "execute_result",
          "data": {
            "text/plain": [
              "(920, 8)"
            ]
          },
          "metadata": {},
          "execution_count": 122
        }
      ],
      "source": [
        "x_test.shape"
      ]
    },
    {
      "cell_type": "markdown",
      "id": "7f45032f",
      "metadata": {
        "id": "7f45032f"
      },
      "source": [
        "## Linear Regression"
      ]
    },
    {
      "cell_type": "code",
      "execution_count": 123,
      "id": "3667b358",
      "metadata": {
        "id": "3667b358"
      },
      "outputs": [],
      "source": [
        "from sklearn.linear_model import LinearRegression"
      ]
    },
    {
      "cell_type": "code",
      "execution_count": 124,
      "id": "3699eb52",
      "metadata": {
        "id": "3699eb52"
      },
      "outputs": [],
      "source": [
        "reg = LinearRegression()\n"
      ]
    },
    {
      "cell_type": "code",
      "execution_count": 125,
      "id": "2f9087b7",
      "metadata": {
        "id": "2f9087b7",
        "outputId": "279038bd-fdf0-433a-dde6-35ce757e47e7",
        "colab": {
          "base_uri": "https://localhost:8080/",
          "height": 75
        }
      },
      "outputs": [
        {
          "output_type": "execute_result",
          "data": {
            "text/plain": [
              "LinearRegression()"
            ],
            "text/html": [
              "<style>#sk-container-id-5 {color: black;background-color: white;}#sk-container-id-5 pre{padding: 0;}#sk-container-id-5 div.sk-toggleable {background-color: white;}#sk-container-id-5 label.sk-toggleable__label {cursor: pointer;display: block;width: 100%;margin-bottom: 0;padding: 0.3em;box-sizing: border-box;text-align: center;}#sk-container-id-5 label.sk-toggleable__label-arrow:before {content: \"▸\";float: left;margin-right: 0.25em;color: #696969;}#sk-container-id-5 label.sk-toggleable__label-arrow:hover:before {color: black;}#sk-container-id-5 div.sk-estimator:hover label.sk-toggleable__label-arrow:before {color: black;}#sk-container-id-5 div.sk-toggleable__content {max-height: 0;max-width: 0;overflow: hidden;text-align: left;background-color: #f0f8ff;}#sk-container-id-5 div.sk-toggleable__content pre {margin: 0.2em;color: black;border-radius: 0.25em;background-color: #f0f8ff;}#sk-container-id-5 input.sk-toggleable__control:checked~div.sk-toggleable__content {max-height: 200px;max-width: 100%;overflow: auto;}#sk-container-id-5 input.sk-toggleable__control:checked~label.sk-toggleable__label-arrow:before {content: \"▾\";}#sk-container-id-5 div.sk-estimator input.sk-toggleable__control:checked~label.sk-toggleable__label {background-color: #d4ebff;}#sk-container-id-5 div.sk-label input.sk-toggleable__control:checked~label.sk-toggleable__label {background-color: #d4ebff;}#sk-container-id-5 input.sk-hidden--visually {border: 0;clip: rect(1px 1px 1px 1px);clip: rect(1px, 1px, 1px, 1px);height: 1px;margin: -1px;overflow: hidden;padding: 0;position: absolute;width: 1px;}#sk-container-id-5 div.sk-estimator {font-family: monospace;background-color: #f0f8ff;border: 1px dotted black;border-radius: 0.25em;box-sizing: border-box;margin-bottom: 0.5em;}#sk-container-id-5 div.sk-estimator:hover {background-color: #d4ebff;}#sk-container-id-5 div.sk-parallel-item::after {content: \"\";width: 100%;border-bottom: 1px solid gray;flex-grow: 1;}#sk-container-id-5 div.sk-label:hover label.sk-toggleable__label {background-color: #d4ebff;}#sk-container-id-5 div.sk-serial::before {content: \"\";position: absolute;border-left: 1px solid gray;box-sizing: border-box;top: 0;bottom: 0;left: 50%;z-index: 0;}#sk-container-id-5 div.sk-serial {display: flex;flex-direction: column;align-items: center;background-color: white;padding-right: 0.2em;padding-left: 0.2em;position: relative;}#sk-container-id-5 div.sk-item {position: relative;z-index: 1;}#sk-container-id-5 div.sk-parallel {display: flex;align-items: stretch;justify-content: center;background-color: white;position: relative;}#sk-container-id-5 div.sk-item::before, #sk-container-id-5 div.sk-parallel-item::before {content: \"\";position: absolute;border-left: 1px solid gray;box-sizing: border-box;top: 0;bottom: 0;left: 50%;z-index: -1;}#sk-container-id-5 div.sk-parallel-item {display: flex;flex-direction: column;z-index: 1;position: relative;background-color: white;}#sk-container-id-5 div.sk-parallel-item:first-child::after {align-self: flex-end;width: 50%;}#sk-container-id-5 div.sk-parallel-item:last-child::after {align-self: flex-start;width: 50%;}#sk-container-id-5 div.sk-parallel-item:only-child::after {width: 0;}#sk-container-id-5 div.sk-dashed-wrapped {border: 1px dashed gray;margin: 0 0.4em 0.5em 0.4em;box-sizing: border-box;padding-bottom: 0.4em;background-color: white;}#sk-container-id-5 div.sk-label label {font-family: monospace;font-weight: bold;display: inline-block;line-height: 1.2em;}#sk-container-id-5 div.sk-label-container {text-align: center;}#sk-container-id-5 div.sk-container {/* jupyter's `normalize.less` sets `[hidden] { display: none; }` but bootstrap.min.css set `[hidden] { display: none !important; }` so we also need the `!important` here to be able to override the default hidden behavior on the sphinx rendered scikit-learn.org. See: https://github.com/scikit-learn/scikit-learn/issues/21755 */display: inline-block !important;position: relative;}#sk-container-id-5 div.sk-text-repr-fallback {display: none;}</style><div id=\"sk-container-id-5\" class=\"sk-top-container\"><div class=\"sk-text-repr-fallback\"><pre>LinearRegression()</pre><b>In a Jupyter environment, please rerun this cell to show the HTML representation or trust the notebook. <br />On GitHub, the HTML representation is unable to render, please try loading this page with nbviewer.org.</b></div><div class=\"sk-container\" hidden><div class=\"sk-item\"><div class=\"sk-estimator sk-toggleable\"><input class=\"sk-toggleable__control sk-hidden--visually\" id=\"sk-estimator-id-5\" type=\"checkbox\" checked><label for=\"sk-estimator-id-5\" class=\"sk-toggleable__label sk-toggleable__label-arrow\">LinearRegression</label><div class=\"sk-toggleable__content\"><pre>LinearRegression()</pre></div></div></div></div></div>"
            ]
          },
          "metadata": {},
          "execution_count": 125
        }
      ],
      "source": [
        "reg.fit(x_train , y_train)"
      ]
    },
    {
      "cell_type": "code",
      "execution_count": 126,
      "id": "4b5e1d01",
      "metadata": {
        "id": "4b5e1d01",
        "outputId": "c2a9c262-6b59-4d04-f0a8-35e84c0647bd",
        "colab": {
          "base_uri": "https://localhost:8080/"
        }
      },
      "outputs": [
        {
          "output_type": "stream",
          "name": "stdout",
          "text": [
            "Train Score: % 63.11378104187535\n",
            "Test Score: % 60.76550021305922\n"
          ]
        }
      ],
      "source": [
        "train_score = reg.score(x_train , y_train)\n",
        "test_score =reg.score(x_test , y_test)\n",
        "print('Train Score: %', train_score*100)\n",
        "print('Test Score: %', test_score*100)"
      ]
    },
    {
      "cell_type": "code",
      "execution_count": 127,
      "id": "6662489c",
      "metadata": {
        "id": "6662489c",
        "outputId": "5cad8c69-d3ea-4894-ea93-d6cd1ace9b50",
        "colab": {
          "base_uri": "https://localhost:8080/"
        }
      },
      "outputs": [
        {
          "output_type": "execute_result",
          "data": {
            "text/plain": [
              "13.291854156624833"
            ]
          },
          "metadata": {},
          "execution_count": 127
        }
      ],
      "source": [
        "reg.intercept_"
      ]
    },
    {
      "cell_type": "code",
      "execution_count": 128,
      "id": "0885584d",
      "metadata": {
        "id": "0885584d",
        "outputId": "82469408-6d70-40e0-9b55-56ff7d0c8a04",
        "colab": {
          "base_uri": "https://localhost:8080/"
        }
      },
      "outputs": [
        {
          "output_type": "execute_result",
          "data": {
            "text/plain": [
              "array([ 1.81437263e-01, -2.47260835e-01, -4.24730814e-02,  1.75893310e-01,\n",
              "        3.02560004e-02,  3.39240785e-02, -1.29441054e-06,  2.09292065e-02])"
            ]
          },
          "metadata": {},
          "execution_count": 128
        }
      ],
      "source": [
        "reg.coef_"
      ]
    },
    {
      "cell_type": "code",
      "execution_count": 129,
      "id": "6b6f28de",
      "metadata": {
        "id": "6b6f28de"
      },
      "outputs": [],
      "source": [
        "df6 = pd.DataFrame(reg.coef_ , df.columns[:-1] , columns= ['coeficient'])"
      ]
    },
    {
      "cell_type": "code",
      "execution_count": 130,
      "id": "d705ff5f",
      "metadata": {
        "id": "d705ff5f",
        "outputId": "bcf23983-fda4-443d-a925-099d6ff6924c",
        "colab": {
          "base_uri": "https://localhost:8080/",
          "height": 300
        }
      },
      "outputs": [
        {
          "output_type": "execute_result",
          "data": {
            "text/plain": [
              "               coeficient\n",
              "Rooms            0.181437\n",
              "Distance         0.175893\n",
              "Bedroom2         0.033924\n",
              "Bathroom         0.030256\n",
              "Propertycount    0.020929\n",
              "Car             -0.000001\n",
              "Price           -0.042473\n",
              "Type            -0.247261"
            ],
            "text/html": [
              "\n",
              "  <div id=\"df-425053bd-3491-4f7c-97c1-a3da369a83f3\">\n",
              "    <div class=\"colab-df-container\">\n",
              "      <div>\n",
              "<style scoped>\n",
              "    .dataframe tbody tr th:only-of-type {\n",
              "        vertical-align: middle;\n",
              "    }\n",
              "\n",
              "    .dataframe tbody tr th {\n",
              "        vertical-align: top;\n",
              "    }\n",
              "\n",
              "    .dataframe thead th {\n",
              "        text-align: right;\n",
              "    }\n",
              "</style>\n",
              "<table border=\"1\" class=\"dataframe\">\n",
              "  <thead>\n",
              "    <tr style=\"text-align: right;\">\n",
              "      <th></th>\n",
              "      <th>coeficient</th>\n",
              "    </tr>\n",
              "  </thead>\n",
              "  <tbody>\n",
              "    <tr>\n",
              "      <th>Rooms</th>\n",
              "      <td>0.181437</td>\n",
              "    </tr>\n",
              "    <tr>\n",
              "      <th>Distance</th>\n",
              "      <td>0.175893</td>\n",
              "    </tr>\n",
              "    <tr>\n",
              "      <th>Bedroom2</th>\n",
              "      <td>0.033924</td>\n",
              "    </tr>\n",
              "    <tr>\n",
              "      <th>Bathroom</th>\n",
              "      <td>0.030256</td>\n",
              "    </tr>\n",
              "    <tr>\n",
              "      <th>Propertycount</th>\n",
              "      <td>0.020929</td>\n",
              "    </tr>\n",
              "    <tr>\n",
              "      <th>Car</th>\n",
              "      <td>-0.000001</td>\n",
              "    </tr>\n",
              "    <tr>\n",
              "      <th>Price</th>\n",
              "      <td>-0.042473</td>\n",
              "    </tr>\n",
              "    <tr>\n",
              "      <th>Type</th>\n",
              "      <td>-0.247261</td>\n",
              "    </tr>\n",
              "  </tbody>\n",
              "</table>\n",
              "</div>\n",
              "      <button class=\"colab-df-convert\" onclick=\"convertToInteractive('df-425053bd-3491-4f7c-97c1-a3da369a83f3')\"\n",
              "              title=\"Convert this dataframe to an interactive table.\"\n",
              "              style=\"display:none;\">\n",
              "        \n",
              "  <svg xmlns=\"http://www.w3.org/2000/svg\" height=\"24px\"viewBox=\"0 0 24 24\"\n",
              "       width=\"24px\">\n",
              "    <path d=\"M0 0h24v24H0V0z\" fill=\"none\"/>\n",
              "    <path d=\"M18.56 5.44l.94 2.06.94-2.06 2.06-.94-2.06-.94-.94-2.06-.94 2.06-2.06.94zm-11 1L8.5 8.5l.94-2.06 2.06-.94-2.06-.94L8.5 2.5l-.94 2.06-2.06.94zm10 10l.94 2.06.94-2.06 2.06-.94-2.06-.94-.94-2.06-.94 2.06-2.06.94z\"/><path d=\"M17.41 7.96l-1.37-1.37c-.4-.4-.92-.59-1.43-.59-.52 0-1.04.2-1.43.59L10.3 9.45l-7.72 7.72c-.78.78-.78 2.05 0 2.83L4 21.41c.39.39.9.59 1.41.59.51 0 1.02-.2 1.41-.59l7.78-7.78 2.81-2.81c.8-.78.8-2.07 0-2.86zM5.41 20L4 18.59l7.72-7.72 1.47 1.35L5.41 20z\"/>\n",
              "  </svg>\n",
              "      </button>\n",
              "      \n",
              "  <style>\n",
              "    .colab-df-container {\n",
              "      display:flex;\n",
              "      flex-wrap:wrap;\n",
              "      gap: 12px;\n",
              "    }\n",
              "\n",
              "    .colab-df-convert {\n",
              "      background-color: #E8F0FE;\n",
              "      border: none;\n",
              "      border-radius: 50%;\n",
              "      cursor: pointer;\n",
              "      display: none;\n",
              "      fill: #1967D2;\n",
              "      height: 32px;\n",
              "      padding: 0 0 0 0;\n",
              "      width: 32px;\n",
              "    }\n",
              "\n",
              "    .colab-df-convert:hover {\n",
              "      background-color: #E2EBFA;\n",
              "      box-shadow: 0px 1px 2px rgba(60, 64, 67, 0.3), 0px 1px 3px 1px rgba(60, 64, 67, 0.15);\n",
              "      fill: #174EA6;\n",
              "    }\n",
              "\n",
              "    [theme=dark] .colab-df-convert {\n",
              "      background-color: #3B4455;\n",
              "      fill: #D2E3FC;\n",
              "    }\n",
              "\n",
              "    [theme=dark] .colab-df-convert:hover {\n",
              "      background-color: #434B5C;\n",
              "      box-shadow: 0px 1px 3px 1px rgba(0, 0, 0, 0.15);\n",
              "      filter: drop-shadow(0px 1px 2px rgba(0, 0, 0, 0.3));\n",
              "      fill: #FFFFFF;\n",
              "    }\n",
              "  </style>\n",
              "\n",
              "      <script>\n",
              "        const buttonEl =\n",
              "          document.querySelector('#df-425053bd-3491-4f7c-97c1-a3da369a83f3 button.colab-df-convert');\n",
              "        buttonEl.style.display =\n",
              "          google.colab.kernel.accessAllowed ? 'block' : 'none';\n",
              "\n",
              "        async function convertToInteractive(key) {\n",
              "          const element = document.querySelector('#df-425053bd-3491-4f7c-97c1-a3da369a83f3');\n",
              "          const dataTable =\n",
              "            await google.colab.kernel.invokeFunction('convertToInteractive',\n",
              "                                                     [key], {});\n",
              "          if (!dataTable) return;\n",
              "\n",
              "          const docLinkHtml = 'Like what you see? Visit the ' +\n",
              "            '<a target=\"_blank\" href=https://colab.research.google.com/notebooks/data_table.ipynb>data table notebook</a>'\n",
              "            + ' to learn more about interactive tables.';\n",
              "          element.innerHTML = '';\n",
              "          dataTable['output_type'] = 'display_data';\n",
              "          await google.colab.output.renderOutput(dataTable, element);\n",
              "          const docLink = document.createElement('div');\n",
              "          docLink.innerHTML = docLinkHtml;\n",
              "          element.appendChild(docLink);\n",
              "        }\n",
              "      </script>\n",
              "    </div>\n",
              "  </div>\n",
              "  "
            ]
          },
          "metadata": {},
          "execution_count": 130
        }
      ],
      "source": [
        "df6.sort_values(\"coeficient\" , ascending= False)"
      ]
    },
    {
      "cell_type": "markdown",
      "id": "a0eecd15",
      "metadata": {
        "id": "a0eecd15"
      },
      "source": [
        "   ## Ridge Regression"
      ]
    },
    {
      "cell_type": "code",
      "execution_count": 131,
      "id": "ceca545c",
      "metadata": {
        "id": "ceca545c"
      },
      "outputs": [],
      "source": [
        "from sklearn.linear_model import Ridge"
      ]
    },
    {
      "cell_type": "code",
      "execution_count": 132,
      "id": "7998164a",
      "metadata": {
        "id": "7998164a",
        "outputId": "3e4c78fb-8079-4b2b-b9be-669d944a0dff",
        "colab": {
          "base_uri": "https://localhost:8080/",
          "height": 75
        }
      },
      "outputs": [
        {
          "output_type": "execute_result",
          "data": {
            "text/plain": [
              "Ridge(alpha=0.8)"
            ],
            "text/html": [
              "<style>#sk-container-id-6 {color: black;background-color: white;}#sk-container-id-6 pre{padding: 0;}#sk-container-id-6 div.sk-toggleable {background-color: white;}#sk-container-id-6 label.sk-toggleable__label {cursor: pointer;display: block;width: 100%;margin-bottom: 0;padding: 0.3em;box-sizing: border-box;text-align: center;}#sk-container-id-6 label.sk-toggleable__label-arrow:before {content: \"▸\";float: left;margin-right: 0.25em;color: #696969;}#sk-container-id-6 label.sk-toggleable__label-arrow:hover:before {color: black;}#sk-container-id-6 div.sk-estimator:hover label.sk-toggleable__label-arrow:before {color: black;}#sk-container-id-6 div.sk-toggleable__content {max-height: 0;max-width: 0;overflow: hidden;text-align: left;background-color: #f0f8ff;}#sk-container-id-6 div.sk-toggleable__content pre {margin: 0.2em;color: black;border-radius: 0.25em;background-color: #f0f8ff;}#sk-container-id-6 input.sk-toggleable__control:checked~div.sk-toggleable__content {max-height: 200px;max-width: 100%;overflow: auto;}#sk-container-id-6 input.sk-toggleable__control:checked~label.sk-toggleable__label-arrow:before {content: \"▾\";}#sk-container-id-6 div.sk-estimator input.sk-toggleable__control:checked~label.sk-toggleable__label {background-color: #d4ebff;}#sk-container-id-6 div.sk-label input.sk-toggleable__control:checked~label.sk-toggleable__label {background-color: #d4ebff;}#sk-container-id-6 input.sk-hidden--visually {border: 0;clip: rect(1px 1px 1px 1px);clip: rect(1px, 1px, 1px, 1px);height: 1px;margin: -1px;overflow: hidden;padding: 0;position: absolute;width: 1px;}#sk-container-id-6 div.sk-estimator {font-family: monospace;background-color: #f0f8ff;border: 1px dotted black;border-radius: 0.25em;box-sizing: border-box;margin-bottom: 0.5em;}#sk-container-id-6 div.sk-estimator:hover {background-color: #d4ebff;}#sk-container-id-6 div.sk-parallel-item::after {content: \"\";width: 100%;border-bottom: 1px solid gray;flex-grow: 1;}#sk-container-id-6 div.sk-label:hover label.sk-toggleable__label {background-color: #d4ebff;}#sk-container-id-6 div.sk-serial::before {content: \"\";position: absolute;border-left: 1px solid gray;box-sizing: border-box;top: 0;bottom: 0;left: 50%;z-index: 0;}#sk-container-id-6 div.sk-serial {display: flex;flex-direction: column;align-items: center;background-color: white;padding-right: 0.2em;padding-left: 0.2em;position: relative;}#sk-container-id-6 div.sk-item {position: relative;z-index: 1;}#sk-container-id-6 div.sk-parallel {display: flex;align-items: stretch;justify-content: center;background-color: white;position: relative;}#sk-container-id-6 div.sk-item::before, #sk-container-id-6 div.sk-parallel-item::before {content: \"\";position: absolute;border-left: 1px solid gray;box-sizing: border-box;top: 0;bottom: 0;left: 50%;z-index: -1;}#sk-container-id-6 div.sk-parallel-item {display: flex;flex-direction: column;z-index: 1;position: relative;background-color: white;}#sk-container-id-6 div.sk-parallel-item:first-child::after {align-self: flex-end;width: 50%;}#sk-container-id-6 div.sk-parallel-item:last-child::after {align-self: flex-start;width: 50%;}#sk-container-id-6 div.sk-parallel-item:only-child::after {width: 0;}#sk-container-id-6 div.sk-dashed-wrapped {border: 1px dashed gray;margin: 0 0.4em 0.5em 0.4em;box-sizing: border-box;padding-bottom: 0.4em;background-color: white;}#sk-container-id-6 div.sk-label label {font-family: monospace;font-weight: bold;display: inline-block;line-height: 1.2em;}#sk-container-id-6 div.sk-label-container {text-align: center;}#sk-container-id-6 div.sk-container {/* jupyter's `normalize.less` sets `[hidden] { display: none; }` but bootstrap.min.css set `[hidden] { display: none !important; }` so we also need the `!important` here to be able to override the default hidden behavior on the sphinx rendered scikit-learn.org. See: https://github.com/scikit-learn/scikit-learn/issues/21755 */display: inline-block !important;position: relative;}#sk-container-id-6 div.sk-text-repr-fallback {display: none;}</style><div id=\"sk-container-id-6\" class=\"sk-top-container\"><div class=\"sk-text-repr-fallback\"><pre>Ridge(alpha=0.8)</pre><b>In a Jupyter environment, please rerun this cell to show the HTML representation or trust the notebook. <br />On GitHub, the HTML representation is unable to render, please try loading this page with nbviewer.org.</b></div><div class=\"sk-container\" hidden><div class=\"sk-item\"><div class=\"sk-estimator sk-toggleable\"><input class=\"sk-toggleable__control sk-hidden--visually\" id=\"sk-estimator-id-6\" type=\"checkbox\" checked><label for=\"sk-estimator-id-6\" class=\"sk-toggleable__label sk-toggleable__label-arrow\">Ridge</label><div class=\"sk-toggleable__content\"><pre>Ridge(alpha=0.8)</pre></div></div></div></div></div>"
            ]
          },
          "metadata": {},
          "execution_count": 132
        }
      ],
      "source": [
        "rid = Ridge(alpha = 0.8)\n",
        "rid.fit(x_train , y_train)\n"
      ]
    },
    {
      "cell_type": "code",
      "execution_count": 133,
      "id": "b07a82c6",
      "metadata": {
        "id": "b07a82c6",
        "outputId": "f8b2eb67-25a2-4ec9-cc57-3da9d09ad45d",
        "colab": {
          "base_uri": "https://localhost:8080/"
        }
      },
      "outputs": [
        {
          "output_type": "stream",
          "name": "stdout",
          "text": [
            "Train Score: % 63.11377234895428\n",
            "Test Score: % 60.765865838644295\n"
          ]
        }
      ],
      "source": [
        "train_score = rid.score(x_train , y_train)\n",
        "test_score =rid.score(x_test , y_test)\n",
        "print('Train Score: %', train_score*100)\n",
        "print('Test Score: %', test_score*100)"
      ]
    },
    {
      "cell_type": "markdown",
      "source": [
        "## Lasso Linear Regression"
      ],
      "metadata": {
        "id": "3jU8m1NDlzEb"
      },
      "id": "3jU8m1NDlzEb"
    },
    {
      "cell_type": "code",
      "execution_count": 134,
      "id": "fcf6da24",
      "metadata": {
        "id": "fcf6da24"
      },
      "outputs": [],
      "source": [
        "from sklearn.linear_model import Lasso\n"
      ]
    },
    {
      "cell_type": "code",
      "execution_count": 135,
      "id": "9408df3f",
      "metadata": {
        "id": "9408df3f",
        "outputId": "27188a90-d402-43a1-9aa6-7461bdae676c",
        "colab": {
          "base_uri": "https://localhost:8080/",
          "height": 75
        }
      },
      "outputs": [
        {
          "output_type": "execute_result",
          "data": {
            "text/plain": [
              "Lasso(alpha=0.1)"
            ],
            "text/html": [
              "<style>#sk-container-id-7 {color: black;background-color: white;}#sk-container-id-7 pre{padding: 0;}#sk-container-id-7 div.sk-toggleable {background-color: white;}#sk-container-id-7 label.sk-toggleable__label {cursor: pointer;display: block;width: 100%;margin-bottom: 0;padding: 0.3em;box-sizing: border-box;text-align: center;}#sk-container-id-7 label.sk-toggleable__label-arrow:before {content: \"▸\";float: left;margin-right: 0.25em;color: #696969;}#sk-container-id-7 label.sk-toggleable__label-arrow:hover:before {color: black;}#sk-container-id-7 div.sk-estimator:hover label.sk-toggleable__label-arrow:before {color: black;}#sk-container-id-7 div.sk-toggleable__content {max-height: 0;max-width: 0;overflow: hidden;text-align: left;background-color: #f0f8ff;}#sk-container-id-7 div.sk-toggleable__content pre {margin: 0.2em;color: black;border-radius: 0.25em;background-color: #f0f8ff;}#sk-container-id-7 input.sk-toggleable__control:checked~div.sk-toggleable__content {max-height: 200px;max-width: 100%;overflow: auto;}#sk-container-id-7 input.sk-toggleable__control:checked~label.sk-toggleable__label-arrow:before {content: \"▾\";}#sk-container-id-7 div.sk-estimator input.sk-toggleable__control:checked~label.sk-toggleable__label {background-color: #d4ebff;}#sk-container-id-7 div.sk-label input.sk-toggleable__control:checked~label.sk-toggleable__label {background-color: #d4ebff;}#sk-container-id-7 input.sk-hidden--visually {border: 0;clip: rect(1px 1px 1px 1px);clip: rect(1px, 1px, 1px, 1px);height: 1px;margin: -1px;overflow: hidden;padding: 0;position: absolute;width: 1px;}#sk-container-id-7 div.sk-estimator {font-family: monospace;background-color: #f0f8ff;border: 1px dotted black;border-radius: 0.25em;box-sizing: border-box;margin-bottom: 0.5em;}#sk-container-id-7 div.sk-estimator:hover {background-color: #d4ebff;}#sk-container-id-7 div.sk-parallel-item::after {content: \"\";width: 100%;border-bottom: 1px solid gray;flex-grow: 1;}#sk-container-id-7 div.sk-label:hover label.sk-toggleable__label {background-color: #d4ebff;}#sk-container-id-7 div.sk-serial::before {content: \"\";position: absolute;border-left: 1px solid gray;box-sizing: border-box;top: 0;bottom: 0;left: 50%;z-index: 0;}#sk-container-id-7 div.sk-serial {display: flex;flex-direction: column;align-items: center;background-color: white;padding-right: 0.2em;padding-left: 0.2em;position: relative;}#sk-container-id-7 div.sk-item {position: relative;z-index: 1;}#sk-container-id-7 div.sk-parallel {display: flex;align-items: stretch;justify-content: center;background-color: white;position: relative;}#sk-container-id-7 div.sk-item::before, #sk-container-id-7 div.sk-parallel-item::before {content: \"\";position: absolute;border-left: 1px solid gray;box-sizing: border-box;top: 0;bottom: 0;left: 50%;z-index: -1;}#sk-container-id-7 div.sk-parallel-item {display: flex;flex-direction: column;z-index: 1;position: relative;background-color: white;}#sk-container-id-7 div.sk-parallel-item:first-child::after {align-self: flex-end;width: 50%;}#sk-container-id-7 div.sk-parallel-item:last-child::after {align-self: flex-start;width: 50%;}#sk-container-id-7 div.sk-parallel-item:only-child::after {width: 0;}#sk-container-id-7 div.sk-dashed-wrapped {border: 1px dashed gray;margin: 0 0.4em 0.5em 0.4em;box-sizing: border-box;padding-bottom: 0.4em;background-color: white;}#sk-container-id-7 div.sk-label label {font-family: monospace;font-weight: bold;display: inline-block;line-height: 1.2em;}#sk-container-id-7 div.sk-label-container {text-align: center;}#sk-container-id-7 div.sk-container {/* jupyter's `normalize.less` sets `[hidden] { display: none; }` but bootstrap.min.css set `[hidden] { display: none !important; }` so we also need the `!important` here to be able to override the default hidden behavior on the sphinx rendered scikit-learn.org. See: https://github.com/scikit-learn/scikit-learn/issues/21755 */display: inline-block !important;position: relative;}#sk-container-id-7 div.sk-text-repr-fallback {display: none;}</style><div id=\"sk-container-id-7\" class=\"sk-top-container\"><div class=\"sk-text-repr-fallback\"><pre>Lasso(alpha=0.1)</pre><b>In a Jupyter environment, please rerun this cell to show the HTML representation or trust the notebook. <br />On GitHub, the HTML representation is unable to render, please try loading this page with nbviewer.org.</b></div><div class=\"sk-container\" hidden><div class=\"sk-item\"><div class=\"sk-estimator sk-toggleable\"><input class=\"sk-toggleable__control sk-hidden--visually\" id=\"sk-estimator-id-7\" type=\"checkbox\" checked><label for=\"sk-estimator-id-7\" class=\"sk-toggleable__label sk-toggleable__label-arrow\">Lasso</label><div class=\"sk-toggleable__content\"><pre>Lasso(alpha=0.1)</pre></div></div></div></div></div>"
            ]
          },
          "metadata": {},
          "execution_count": 135
        }
      ],
      "source": [
        "las = Lasso(alpha = 0.1)\n",
        "las.fit(x_train , y_train)\n"
      ]
    },
    {
      "cell_type": "code",
      "execution_count": 136,
      "id": "d36a548c",
      "metadata": {
        "id": "d36a548c",
        "outputId": "8d26dac5-44c4-4bab-a0fe-35e0dd827f08",
        "colab": {
          "base_uri": "https://localhost:8080/"
        }
      },
      "outputs": [
        {
          "output_type": "stream",
          "name": "stdout",
          "text": [
            "Train Score: % 53.33873043318942\n",
            "Test Score: % 52.682464115905205\n"
          ]
        }
      ],
      "source": [
        "train_score = las.score(x_train , y_train)\n",
        "test_score =las.score(x_test , y_test)\n",
        "print('Train Score: %', train_score*100)\n",
        "print('Test Score: %', test_score*100)"
      ]
    },
    {
      "cell_type": "markdown",
      "source": [
        "## RandomForestRegression"
      ],
      "metadata": {
        "id": "c03nBqralmeO"
      },
      "id": "c03nBqralmeO"
    },
    {
      "cell_type": "code",
      "execution_count": 137,
      "id": "385b76fd",
      "metadata": {
        "id": "385b76fd",
        "colab": {
          "base_uri": "https://localhost:8080/",
          "height": 109
        },
        "outputId": "3cc0fd22-b337-4b6c-d31e-6ffccaaab26f"
      },
      "outputs": [
        {
          "output_type": "execute_result",
          "data": {
            "text/plain": [
              "RandomForestRegressor(max_depth=60, max_features=6, max_leaf_nodes=55,\n",
              "                      min_samples_leaf=5, min_samples_split=6, n_estimators=60,\n",
              "                      oob_score=True)"
            ],
            "text/html": [
              "<style>#sk-container-id-8 {color: black;background-color: white;}#sk-container-id-8 pre{padding: 0;}#sk-container-id-8 div.sk-toggleable {background-color: white;}#sk-container-id-8 label.sk-toggleable__label {cursor: pointer;display: block;width: 100%;margin-bottom: 0;padding: 0.3em;box-sizing: border-box;text-align: center;}#sk-container-id-8 label.sk-toggleable__label-arrow:before {content: \"▸\";float: left;margin-right: 0.25em;color: #696969;}#sk-container-id-8 label.sk-toggleable__label-arrow:hover:before {color: black;}#sk-container-id-8 div.sk-estimator:hover label.sk-toggleable__label-arrow:before {color: black;}#sk-container-id-8 div.sk-toggleable__content {max-height: 0;max-width: 0;overflow: hidden;text-align: left;background-color: #f0f8ff;}#sk-container-id-8 div.sk-toggleable__content pre {margin: 0.2em;color: black;border-radius: 0.25em;background-color: #f0f8ff;}#sk-container-id-8 input.sk-toggleable__control:checked~div.sk-toggleable__content {max-height: 200px;max-width: 100%;overflow: auto;}#sk-container-id-8 input.sk-toggleable__control:checked~label.sk-toggleable__label-arrow:before {content: \"▾\";}#sk-container-id-8 div.sk-estimator input.sk-toggleable__control:checked~label.sk-toggleable__label {background-color: #d4ebff;}#sk-container-id-8 div.sk-label input.sk-toggleable__control:checked~label.sk-toggleable__label {background-color: #d4ebff;}#sk-container-id-8 input.sk-hidden--visually {border: 0;clip: rect(1px 1px 1px 1px);clip: rect(1px, 1px, 1px, 1px);height: 1px;margin: -1px;overflow: hidden;padding: 0;position: absolute;width: 1px;}#sk-container-id-8 div.sk-estimator {font-family: monospace;background-color: #f0f8ff;border: 1px dotted black;border-radius: 0.25em;box-sizing: border-box;margin-bottom: 0.5em;}#sk-container-id-8 div.sk-estimator:hover {background-color: #d4ebff;}#sk-container-id-8 div.sk-parallel-item::after {content: \"\";width: 100%;border-bottom: 1px solid gray;flex-grow: 1;}#sk-container-id-8 div.sk-label:hover label.sk-toggleable__label {background-color: #d4ebff;}#sk-container-id-8 div.sk-serial::before {content: \"\";position: absolute;border-left: 1px solid gray;box-sizing: border-box;top: 0;bottom: 0;left: 50%;z-index: 0;}#sk-container-id-8 div.sk-serial {display: flex;flex-direction: column;align-items: center;background-color: white;padding-right: 0.2em;padding-left: 0.2em;position: relative;}#sk-container-id-8 div.sk-item {position: relative;z-index: 1;}#sk-container-id-8 div.sk-parallel {display: flex;align-items: stretch;justify-content: center;background-color: white;position: relative;}#sk-container-id-8 div.sk-item::before, #sk-container-id-8 div.sk-parallel-item::before {content: \"\";position: absolute;border-left: 1px solid gray;box-sizing: border-box;top: 0;bottom: 0;left: 50%;z-index: -1;}#sk-container-id-8 div.sk-parallel-item {display: flex;flex-direction: column;z-index: 1;position: relative;background-color: white;}#sk-container-id-8 div.sk-parallel-item:first-child::after {align-self: flex-end;width: 50%;}#sk-container-id-8 div.sk-parallel-item:last-child::after {align-self: flex-start;width: 50%;}#sk-container-id-8 div.sk-parallel-item:only-child::after {width: 0;}#sk-container-id-8 div.sk-dashed-wrapped {border: 1px dashed gray;margin: 0 0.4em 0.5em 0.4em;box-sizing: border-box;padding-bottom: 0.4em;background-color: white;}#sk-container-id-8 div.sk-label label {font-family: monospace;font-weight: bold;display: inline-block;line-height: 1.2em;}#sk-container-id-8 div.sk-label-container {text-align: center;}#sk-container-id-8 div.sk-container {/* jupyter's `normalize.less` sets `[hidden] { display: none; }` but bootstrap.min.css set `[hidden] { display: none !important; }` so we also need the `!important` here to be able to override the default hidden behavior on the sphinx rendered scikit-learn.org. See: https://github.com/scikit-learn/scikit-learn/issues/21755 */display: inline-block !important;position: relative;}#sk-container-id-8 div.sk-text-repr-fallback {display: none;}</style><div id=\"sk-container-id-8\" class=\"sk-top-container\"><div class=\"sk-text-repr-fallback\"><pre>RandomForestRegressor(max_depth=60, max_features=6, max_leaf_nodes=55,\n",
              "                      min_samples_leaf=5, min_samples_split=6, n_estimators=60,\n",
              "                      oob_score=True)</pre><b>In a Jupyter environment, please rerun this cell to show the HTML representation or trust the notebook. <br />On GitHub, the HTML representation is unable to render, please try loading this page with nbviewer.org.</b></div><div class=\"sk-container\" hidden><div class=\"sk-item\"><div class=\"sk-estimator sk-toggleable\"><input class=\"sk-toggleable__control sk-hidden--visually\" id=\"sk-estimator-id-8\" type=\"checkbox\" checked><label for=\"sk-estimator-id-8\" class=\"sk-toggleable__label sk-toggleable__label-arrow\">RandomForestRegressor</label><div class=\"sk-toggleable__content\"><pre>RandomForestRegressor(max_depth=60, max_features=6, max_leaf_nodes=55,\n",
              "                      min_samples_leaf=5, min_samples_split=6, n_estimators=60,\n",
              "                      oob_score=True)</pre></div></div></div></div></div>"
            ]
          },
          "metadata": {},
          "execution_count": 137
        }
      ],
      "source": [
        "from sklearn.ensemble import RandomForestRegressor\n",
        "rf = RandomForestRegressor(max_depth=60, max_features=6, min_samples_leaf=5,\n",
        "                           min_samples_split=6, n_estimators=60, oob_score=True,\n",
        "                           max_leaf_nodes=55)\n",
        "\n",
        "rf.fit(x_train, y_train)"
      ]
    },
    {
      "cell_type": "code",
      "execution_count": 138,
      "id": "e0c9df5d",
      "metadata": {
        "id": "e0c9df5d",
        "colab": {
          "base_uri": "https://localhost:8080/"
        },
        "outputId": "4e42d7e4-960b-498b-a490-6daf518f04d1"
      },
      "outputs": [
        {
          "output_type": "stream",
          "name": "stdout",
          "text": [
            "Train Score: % 81.2990841537286\n",
            "Test Score: % 80.20433389856588\n"
          ]
        }
      ],
      "source": [
        "train_score = rf.score(x_train , y_train)\n",
        "test_score =rf.score(x_test , y_test)\n",
        "print('Train Score: %', train_score*100)\n",
        "print('Test Score: %', test_score*100)"
      ]
    },
    {
      "cell_type": "code",
      "execution_count": 138,
      "id": "35c764a9",
      "metadata": {
        "id": "35c764a9"
      },
      "outputs": [],
      "source": [
        "\n"
      ]
    },
    {
      "cell_type": "markdown",
      "source": [
        "# Prediction\n",
        "The Highest Score was after applying randomforest regression :)"
      ],
      "metadata": {
        "id": "Nrl8fIiCl8ZA"
      },
      "id": "Nrl8fIiCl8ZA"
    },
    {
      "cell_type": "markdown",
      "source": [
        "So Let's predict the prices using that model"
      ],
      "metadata": {
        "id": "V28tC5r3mPlK"
      },
      "id": "V28tC5r3mPlK"
    },
    {
      "cell_type": "markdown",
      "source": [
        "### The list of properties inserted to our model is:                       ['Rooms', 'Type', 'Distance', 'Bathroom', 'Bedroom2', 'Car', 'Propertycount', 'Regionname']\n"
      ],
      "metadata": {
        "id": "HX5zWTKyxQ75"
      },
      "id": "HX5zWTKyxQ75"
    },
    {
      "cell_type": "code",
      "source": [
        "X_new =[[4,0,2,2,10,2,5000,1]]\n",
        "y_pred = rf.predict(X_new)"
      ],
      "metadata": {
        "id": "tbt88bqXmF_l",
        "colab": {
          "base_uri": "https://localhost:8080/"
        },
        "outputId": "dcefb278-68e1-4342-ce03-79649c64a304"
      },
      "id": "tbt88bqXmF_l",
      "execution_count": 166,
      "outputs": [
        {
          "output_type": "stream",
          "name": "stderr",
          "text": [
            "/usr/local/lib/python3.9/dist-packages/sklearn/base.py:420: UserWarning:\n",
            "\n",
            "X does not have valid feature names, but RandomForestRegressor was fitted with feature names\n",
            "\n"
          ]
        }
      ]
    },
    {
      "cell_type": "code",
      "source": [
        "import math\n",
        "print(f\"Price of the predicted unit: {math.exp(y_pred)}\")"
      ],
      "metadata": {
        "colab": {
          "base_uri": "https://localhost:8080/"
        },
        "id": "AUgFlhThx97-",
        "outputId": "2bad2d42-7643-4218-832a-47e062271ca8"
      },
      "id": "AUgFlhThx97-",
      "execution_count": 168,
      "outputs": [
        {
          "output_type": "stream",
          "name": "stdout",
          "text": [
            "Price of the predicted unit: 1784990.0920993031\n"
          ]
        }
      ]
    }
  ],
  "metadata": {
    "kernelspec": {
      "display_name": "Python 3 (ipykernel)",
      "language": "python",
      "name": "python3"
    },
    "language_info": {
      "codemirror_mode": {
        "name": "ipython",
        "version": 3
      },
      "file_extension": ".py",
      "mimetype": "text/x-python",
      "name": "python",
      "nbconvert_exporter": "python",
      "pygments_lexer": "ipython3",
      "version": "3.9.13"
    },
    "colab": {
      "provenance": [],
      "include_colab_link": true
    }
  },
  "nbformat": 4,
  "nbformat_minor": 5
}